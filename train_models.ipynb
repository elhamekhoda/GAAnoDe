{
 "cells": [
  {
   "cell_type": "markdown",
   "id": "2146116d",
   "metadata": {},
   "source": [
    "# Conditional VAE for LHC Olympics 2020 dataset"
   ]
  },
  {
   "cell_type": "code",
   "execution_count": 1,
   "id": "c6b61ed9",
   "metadata": {},
   "outputs": [],
   "source": [
    "import numpy as np\n",
    "import matplotlib.pyplot as plt\n",
    "import argparse\n",
    "import os\n",
    "import pandas as pd\n",
    "from tqdm import tqdm\n",
    "\n",
    "import tensorflow as tf\n",
    "from tensorflow import keras\n",
    "from tensorflow.keras import backend as K\n",
    "from tensorflow.keras.models import Model\n",
    "from tensorflow.keras.layers import Lambda, Input, Dense, Add, Activation, Concatenate\n",
    "from tensorflow.keras.callbacks import History, ModelCheckpoint, Callback\n",
    "from tensorflow.keras.optimizers import Adam, SGD\n",
    "from tensorflow.keras.layers import Dense, Dropout, Input, BatchNormalization, Concatenate, LeakyReLU, Reshape, Conv2DTranspose, Flatten, Conv2D\n",
    "from tensorflow.keras.models import Model,Sequential\n",
    "\n",
    "from utils import *"
   ]
  },
  {
   "cell_type": "code",
   "execution_count": 2,
   "id": "34f9d9cd-d9c7-44f3-9826-2e1d6534ac26",
   "metadata": {},
   "outputs": [
    {
     "name": "stdout",
     "output_type": "stream",
     "text": [
      "All available physical devices: [PhysicalDevice(name='/physical_device:CPU:0', device_type='CPU'), PhysicalDevice(name='/physical_device:GPU:0', device_type='GPU')]\n",
      "Selected GPU device: PhysicalDevice(name='/physical_device:GPU:0', device_type='GPU')\n"
     ]
    }
   ],
   "source": [
    "from tensorflow.python.framework.ops import disable_eager_execution\n",
    "disable_eager_execution()\n",
    "\n",
    "physical_devices = tf.config.experimental.list_physical_devices()\n",
    "print(\"All available physical devices:\", physical_devices)\n",
    "\n",
    "# Select a GPU device for training\n",
    "gpu_devices = tf.config.experimental.list_physical_devices('GPU')\n",
    "if gpu_devices:\n",
    "    device = gpu_devices[0]\n",
    "    tf.config.experimental.set_memory_growth(device, True)\n",
    "    tf.config.experimental.set_visible_devices(device, 'GPU')\n",
    "    print(\"Selected GPU device:\", device)\n",
    "else:\n",
    "    print(\"No GPU devices found.\")\n",
    "    "
   ]
  },
  {
   "cell_type": "markdown",
   "id": "eea69fd3-14ef-42d6-a62e-081b44ef7593",
   "metadata": {},
   "source": [
    "## Load training and test data"
   ]
  },
  {
   "cell_type": "code",
   "execution_count": 3,
   "id": "9e521f29-c5e4-459c-ac00-8a2373b78269",
   "metadata": {},
   "outputs": [
    {
     "name": "stdout",
     "output_type": "stream",
     "text": [
      "(378876, 8)\n",
      "shape of data_train:  (499889, 6)\n",
      "shape of data_test:  (378759, 6)\n",
      "shape of data:  (878648, 6)\n",
      "shape of cond_train (499889,)\n",
      "shape of cond_test (378759,)\n",
      "shape of cond_data:  (878648,)\n"
     ]
    }
   ],
   "source": [
    "outerdata_train = np.load(\"./data/preprocessed_data_6var/outerdata_train_6var.npy\")\n",
    "outerdata_test = np.load(\"./data/preprocessed_data_6var/outerdata_test_6var.npy\")\n",
    "\n",
    "print(outerdata_test.shape)\n",
    "\n",
    "# Num of feature stored in the data files\n",
    "nFeat = 6\n",
    "# Num of feature we want to use for training\n",
    "input_dim = 6\n",
    "\n",
    "outerdata_train = outerdata_train[outerdata_train[:,nFeat+1]==0]\n",
    "outerdata_test = outerdata_test[outerdata_test[:,nFeat+1]==0]\n",
    "\n",
    "data_train = outerdata_train[:,1:nFeat+1]\n",
    "print('shape of data_train: ', data_train.shape)\n",
    "data_test = outerdata_test[:,1:nFeat+1]\n",
    "print('shape of data_test: ', data_test.shape)\n",
    "\n",
    "data = np.concatenate((data_train, data_test), axis=0)\n",
    "\n",
    "print('shape of data: ', data.shape)\n",
    "\n",
    "cond_data_train = outerdata_train[:,0]\n",
    "print('shape of cond_train', cond_data_train.shape)\n",
    "cond_data_test = outerdata_test[:,0]\n",
    "print('shape of cond_test', cond_data_test.shape)\n",
    "\n",
    "cond_data = np.concatenate((cond_data_train, cond_data_test), axis=0)\n",
    "print('shape of cond_data: ', cond_data.shape)"
   ]
  },
  {
   "cell_type": "code",
   "execution_count": 4,
   "id": "3a9c91e1",
   "metadata": {},
   "outputs": [
    {
     "data": {
      "image/png": "[encoded data removed]",
      "text/plain": [
       "<Figure size 1000x500 with 2 Axes>"
      ]
     },
     "metadata": {},
     "output_type": "display_data"
    },
    {
     "name": "stdout",
     "output_type": "stream",
     "text": [
      "total event count in lower region:  417822\n",
      "total event count in upper region:  82067\n"
     ]
    }
   ],
   "source": [
    "# conditional data has two region one from 0 to 3.3 and one from 3.7 to 1 \n",
    "# plot these two regions separately\n",
    "plt.figure(figsize=(10,5))\n",
    "plt.subplot(1,2,1)\n",
    "plt.hist(cond_data_train[cond_data_train<3.3], bins=100)\n",
    "plt.title('cond_data_train < 3.3 TeV')\n",
    "plt.subplot(1,2,2)\n",
    "plt.hist(cond_data_train[cond_data_train>3.7], bins=100)\n",
    "plt.title('cond_data_train > 3.7 TeV')\n",
    "plt.show()\n",
    "\n",
    "#we also want to show the total event count in each region\n",
    "print('total event count in lower region: ', len(cond_data_train[cond_data_train<3.3]))\n",
    "print('total event count in upper region: ', len(cond_data_train[cond_data_train>3.7]))\n"
   ]
  },
  {
   "cell_type": "markdown",
   "id": "1fd5842d",
   "metadata": {},
   "source": [
    "## Plot training features\n",
    "\n",
    "- Total 6 training features\n",
    "- 1 conditional feature\n",
    "- Training Features are scaled to such that they are in range [0,1]"
   ]
  },
  {
   "cell_type": "code",
   "execution_count": 5,
   "id": "f88601c4-1d40-4d8f-aad9-e76274615839",
   "metadata": {},
   "outputs": [],
   "source": [
    "feature_names = {\n",
    "                0: \"$m_{2}$\",\n",
    "                1: \"$\\Delta m = m_{1} - m_{2}$ \",\n",
    "                2: \"$\\\\tau_{21}^{J1}$\",\n",
    "                3: \"$\\\\tau_{21}^{J2}$\",\n",
    "                4: \"$\\\\tau_{32}^{J1}$\",\n",
    "                5: \"$\\\\tau_{32}^{J2}$\"\n",
    "    \n",
    "}"
   ]
  },
  {
   "cell_type": "code",
   "execution_count": 6,
   "id": "b9b388ca-40de-47b8-81c4-02a9a5bb8ca0",
   "metadata": {},
   "outputs": [],
   "source": [
    "feature_labels = {\n",
    "                0: \"Min. Jet Mass\",\n",
    "                1: \"Jet Mass Difference\",\n",
    "                2: \"$\\\\tau_{21}$ Lead Jet\",\n",
    "                3: \"$\\\\tau_{21}$ Sublead Jet\",\n",
    "                4: \"$\\\\tau_{32}$ Lead Jet\",\n",
    "                5: \"$\\\\tau_{32}$ Sublead Jet\"\n",
    "    \n",
    "}"
   ]
  },
  {
   "cell_type": "code",
   "execution_count": 7,
   "id": "1735bd14-79fc-48ea-9630-fe267205f253",
   "metadata": {},
   "outputs": [],
   "source": [
    "def plot_variables(data, density = False):\n",
    "    \n",
    "    plt.figure(figsize=(12,12))\n",
    "    if density == False:\n",
    "        plt.ylabel(\"Events\")\n",
    "    else:\n",
    "        plt.ylabel(\"Normalized events\")\n",
    "    \n",
    "    \n",
    "    for i in range(input_dim):\n",
    "        plt.subplot((input_dim+1)//2, 2, i+1)\n",
    "        plt.xlabel(feature_names[i])\n",
    "        plt.hist(data[:, i], bins=30, color = \"darkblue\",  histtype = \"step\", label = feature_labels[i], density = density)\n",
    "        plt.legend()\n",
    "        plt.yscale('log')\n"
   ]
  },
  {
   "cell_type": "code",
   "execution_count": 8,
   "id": "7765984a-04d6-43ce-9868-ef28d28c4740",
   "metadata": {},
   "outputs": [
    {
     "name": "stderr",
     "output_type": "stream",
     "text": [
      "/tmp/ipykernel_35749/709068183.py:11: MatplotlibDeprecationWarning: Auto-removal of overlapping axes is deprecated since 3.6 and will be removed two minor releases later; explicitly call ax.remove() as needed.\n",
      "  plt.subplot((input_dim+1)//2, 2, i+1)\n"
     ]
    },
    {
     "data": {
      "image/png": "[encoded data removed]",
      "text/plain": [
       "<Figure size 1200x1200 with 6 Axes>"
      ]
     },
     "metadata": {},
     "output_type": "display_data"
    }
   ],
   "source": [
    "plot_variables(data)"
   ]
  },
  {
   "cell_type": "markdown",
   "id": "39b8f772",
   "metadata": {},
   "source": [
    "### Feature scaling\n",
    "<!-- Dividing each feature by the `abs(maximum)` value -->"
   ]
  },
  {
   "cell_type": "code",
   "execution_count": 8,
   "id": "ee1fa493-16ad-4223-8d9b-287e01d8dc1a",
   "metadata": {},
   "outputs": [
    {
     "name": "stdout",
     "output_type": "stream",
     "text": [
      "(878648, 6)\n",
      "(878648, 6)\n"
     ]
    }
   ],
   "source": [
    "# feature_max = np.empty(nFeat)\n",
    "\n",
    "# for i in range(0,data.shape[1]):\n",
    "#     feature_max[i] = np.max(np.abs(data[:,i]))\n",
    "#     if np.abs(feature_max[i]) > 0: \n",
    "#         data[:,i] = data[:,i]/feature_max[i]\n",
    "#     else:\n",
    "#         pass\n",
    "\n",
    "# cond_max = np.max(np.abs(cond_data))\n",
    "\n",
    "# if np.abs(cond_max) > 0:\n",
    "#     cond_data = cond_data/cond_max\n",
    "# else:\n",
    "#     pass\n",
    "\n",
    "#nin-max normalization\n",
    "print(data.shape)\n",
    "data, data_max, data_min = minmax_norm_data(data)\n",
    "cond_data, cond_data_max, cond_data_min  = minmax_norm_cond_data(cond_data)\n",
    "\n",
    "print(data.shape)\n"
   ]
  },
  {
   "cell_type": "markdown",
   "id": "35eb21cf",
   "metadata": {},
   "source": [
    "## Setting up for training\n",
    "\n",
    "### Defining the train and test sets"
   ]
  },
  {
   "cell_type": "code",
   "execution_count": 9,
   "id": "9b8335cb-14a1-451e-bc39-d869934ad28e",
   "metadata": {},
   "outputs": [
    {
     "name": "stdout",
     "output_type": "stream",
     "text": [
      "(878648, 6)\n",
      "Data Shape:  (878648, 6)\n",
      "(499889, 6)\n"
     ]
    }
   ],
   "source": [
    "trainsize = outerdata_train.shape[0]\n",
    "\n",
    "print(data.shape)\n",
    "data = data[:,0:input_dim]\n",
    "data = np.reshape(data, (len(cond_data),input_dim))\n",
    "print(\"Data Shape: \", np.shape(data))\n",
    "x_train = data[:trainsize]\n",
    "print(x_train.shape)\n",
    "x_test = data[trainsize:]\n",
    "y_train = cond_data[:trainsize]\n",
    "y_test = cond_data[trainsize:]\n",
    "\n",
    "# x_train = np.hstack([x_train,y_train.reshape(y_train.shape[0],1)])\n",
    "# x_test = np.hstack([x_test,y_test.reshape(y_test.shape[0],1)])\n",
    "\n",
    "image_size = x_train.shape[1]\n",
    "original_dim = image_size\n",
    "x_train = np.reshape(x_train, [-1, original_dim])\n",
    "x_test = np.reshape(x_test, [-1, original_dim])\n",
    "x_train = x_train.astype('float32')\n",
    "x_test = x_test.astype('float32')\n",
    "y_train = np.reshape(y_train, [-1, 1])\n",
    "y_test = np.reshape(y_test, [-1, 1])\n",
    "y_train = y_train.astype('float32')\n",
    "y_test = y_test.astype('float32')"
   ]
  },
  {
   "cell_type": "markdown",
   "id": "936fb726",
   "metadata": {
    "tags": []
   },
   "source": [
    "### Train cGAN"
   ]
  },
  {
   "cell_type": "code",
   "execution_count": 15,
   "id": "de4b045f",
   "metadata": {},
   "outputs": [],
   "source": [
    "def adam_optimizer():\n",
    "    return Adam(lr=0.0002, beta_1=0.5)"
   ]
  },
  {
   "cell_type": "code",
   "execution_count": 12,
   "id": "db45eadf",
   "metadata": {},
   "outputs": [
    {
     "name": "stdout",
     "output_type": "stream",
     "text": [
      "WARNING:tensorflow:From /global/homes/a/agarabag/.conda/envs/ml/lib/python3.7/site-packages/tensorflow_core/python/ops/resource_variable_ops.py:1630: calling BaseResourceVariable.__init__ (from tensorflow.python.ops.resource_variable_ops) with constraint is deprecated and will be removed in a future version.\n",
      "Instructions for updating:\n",
      "If using Keras pass *_constraint arguments to layers.\n",
      "Model: \"sequential\"\n",
      "_________________________________________________________________\n",
      "Layer (type)                 Output Shape              Param #   \n",
      "=================================================================\n",
      "Gen_Dense1 (Dense)           (None, 512)               4096      \n",
      "_________________________________________________________________\n",
      "Gen_LR1 (LeakyReLU)          (None, 512)               0         \n",
      "_________________________________________________________________\n",
      "batch_normalization (BatchNo (None, 512)               2048      \n",
      "_________________________________________________________________\n",
      "Gen_Dense2 (Dense)           (None, 256)               131328    \n",
      "_________________________________________________________________\n",
      "Gen_LR2 (LeakyReLU)          (None, 256)               0         \n",
      "_________________________________________________________________\n",
      "batch_normalization_1 (Batch (None, 256)               1024      \n",
      "_________________________________________________________________\n",
      "Gen_Dense3 (Dense)           (None, 128)               32896     \n",
      "_________________________________________________________________\n",
      "Gen_LR3 (LeakyReLU)          (None, 128)               0         \n",
      "_________________________________________________________________\n",
      "batch_normalization_2 (Batch (None, 128)               512       \n",
      "_________________________________________________________________\n",
      "Gen_Dense4 (Dense)           (None, 56)                7224      \n",
      "_________________________________________________________________\n",
      "Gen_LR4 (LeakyReLU)          (None, 56)                0         \n",
      "_________________________________________________________________\n",
      "batch_normalization_3 (Batch (None, 56)                224       \n",
      "_________________________________________________________________\n",
      "Gen_LR5 (Dense)              (None, 6)                 342       \n",
      "=================================================================\n",
      "Total params: 179,694\n",
      "Trainable params: 177,790\n",
      "Non-trainable params: 1,904\n",
      "_________________________________________________________________\n"
     ]
    }
   ],
   "source": [
    "# CGAN3\n",
    "def create_conditional_generator():\n",
    "\n",
    "    generator = Sequential()\n",
    "    # explicit input dimensions\n",
    "    generator.add(Dense(units=512,input_dim=nFeat+1,name=\"Gen_Dense1\"))# one more variable!\n",
    "    generator.add(LeakyReLU(0.2,name=\"Gen_LR1\"))\n",
    "    generator.add(BatchNormalization(momentum=0.8)) #new\n",
    "    \n",
    "    generator.add(Dense(units=256,name=\"Gen_Dense2\"))\n",
    "    generator.add(LeakyReLU(0.2,name=\"Gen_LR2\"))\n",
    "    generator.add(BatchNormalization(momentum=0.8)) #new\n",
    "\n",
    "    generator.add(Dense(units=128,name=\"Gen_Dense3\"))\n",
    "    generator.add(LeakyReLU(0.2,name=\"Gen_LR3\"))\n",
    "    generator.add(BatchNormalization(momentum=0.8)) #new\n",
    "    \n",
    "    generator.add(Dense(units=56,name=\"Gen_Dense4\"))\n",
    "    generator.add(LeakyReLU(0.2,name=\"Gen_LR4\"))\n",
    "    generator.add(BatchNormalization(momentum=0.8)) #new\n",
    "    \n",
    "    generator.add(Dense(units=nFeat,name=\"Gen_LR5\"))#, activation='tanh'))\n",
    "    \n",
    "    #y = Input(shape=(1,))\n",
    "    \n",
    "    generator.compile(loss='binary_crossentropy', optimizer=adam_optimizer())\n",
    "    return generator\n",
    "cg=create_conditional_generator()\n",
    "cg.summary()"
   ]
  },
  {
   "cell_type": "code",
   "execution_count": 13,
   "id": "4ac1474c",
   "metadata": {},
   "outputs": [
    {
     "name": "stdout",
     "output_type": "stream",
     "text": [
      "WARNING:tensorflow:From /global/homes/a/agarabag/.conda/envs/ml/lib/python3.7/site-packages/tensorflow_core/python/ops/nn_impl.py:183: where (from tensorflow.python.ops.array_ops) is deprecated and will be removed in a future version.\n",
      "Instructions for updating:\n",
      "Use tf.where in 2.0, which has the same broadcast rule as np.where\n",
      "Model: \"sequential_1\"\n",
      "_________________________________________________________________\n",
      "Layer (type)                 Output Shape              Param #   \n",
      "=================================================================\n",
      "Disc_Dense1 (Dense)          (None, 1024)              8192      \n",
      "_________________________________________________________________\n",
      "Disc_LR1 (LeakyReLU)         (None, 1024)              0         \n",
      "_________________________________________________________________\n",
      "Disc_Drop1 (Dropout)         (None, 1024)              0         \n",
      "_________________________________________________________________\n",
      "Disc_Dense2 (Dense)          (None, 512)               524800    \n",
      "_________________________________________________________________\n",
      "Disc_LR2 (LeakyReLU)         (None, 512)               0         \n",
      "_________________________________________________________________\n",
      "Disc_Drop2 (Dropout)         (None, 512)               0         \n",
      "_________________________________________________________________\n",
      "Disc_Dense3 (Dense)          (None, 256)               131328    \n",
      "_________________________________________________________________\n",
      "Disc_LR3 (LeakyReLU)         (None, 256)               0         \n",
      "_________________________________________________________________\n",
      "Disc_Drop3 (Dropout)         (None, 256)               0         \n",
      "_________________________________________________________________\n",
      "Disc_Dense4 (Dense)          (None, 128)               32896     \n",
      "_________________________________________________________________\n",
      "Disc_LR4 (LeakyReLU)         (None, 128)               0         \n",
      "_________________________________________________________________\n",
      "Disc_Drop4 (Dropout)         (None, 128)               0         \n",
      "_________________________________________________________________\n",
      "Disc_SigmoidOut (Dense)      (None, 1)                 129       \n",
      "=================================================================\n",
      "Total params: 697,345\n",
      "Trainable params: 697,345\n",
      "Non-trainable params: 0\n",
      "_________________________________________________________________\n"
     ]
    }
   ],
   "source": [
    "def create_conditional_discriminator():\n",
    "    discriminator=Sequential()\n",
    "    discriminator.add(Dense(units=1024,input_dim=nFeat+1,name=\"Disc_Dense1\")) #new; was 1024\n",
    "    discriminator.add(LeakyReLU(0.2,name=\"Disc_LR1\"))\n",
    "    discriminator.add(Dropout(0.1,name=\"Disc_Drop1\")) # new: removed\n",
    "       \n",
    "    discriminator.add(Dense(units=512,name=\"Disc_Dense2\")) #new; was 512\n",
    "    discriminator.add(LeakyReLU(0.2,name=\"Disc_LR2\"))\n",
    "    discriminator.add(Dropout(0.1,name=\"Disc_Drop2\")) #new: removed\n",
    "       \n",
    "    discriminator.add(Dense(units=256,name=\"Disc_Dense3\")) #new: removed, was 256\n",
    "    discriminator.add(LeakyReLU(0.2,name=\"Disc_LR3\")) #new: removed\n",
    "    discriminator.add(Dropout(0.1,name=\"Disc_Drop3\")) #new\n",
    "    \n",
    "    discriminator.add(Dense(units=128,name=\"Disc_Dense4\")) #new: removed, was 256\n",
    "    discriminator.add(LeakyReLU(0.2,name=\"Disc_LR4\")) #new: removed\n",
    "    discriminator.add(Dropout(0.1,name=\"Disc_Drop4\")) #new\n",
    "    \n",
    "    discriminator.add(Dense(units=1, activation='sigmoid',name=\"Disc_SigmoidOut\"))\n",
    "    \n",
    "    discriminator.compile(loss='binary_crossentropy', optimizer=adam_optimizer())\n",
    "    return discriminator\n",
    "cd = create_conditional_discriminator()\n",
    "cd.summary()"
   ]
  },
  {
   "cell_type": "code",
   "execution_count": 14,
   "id": "720224fe",
   "metadata": {},
   "outputs": [
    {
     "name": "stdout",
     "output_type": "stream",
     "text": [
      "Model: \"GAN\"\n",
      "__________________________________________________________________________________________________\n",
      "Layer (type)                    Output Shape         Param #     Connected to                     \n",
      "==================================================================================================\n",
      "GAN_NoiseInput (InputLayer)     [(None, 6)]          0                                            \n",
      "__________________________________________________________________________________________________\n",
      "GAN_condY (InputLayer)          [(None, 1)]          0                                            \n",
      "__________________________________________________________________________________________________\n",
      "concatenate (Concatenate)       (None, 7)            0           GAN_NoiseInput[0][0]             \n",
      "                                                                 GAN_condY[0][0]                  \n",
      "__________________________________________________________________________________________________\n",
      "sequential (Sequential)         (None, 6)            179694      concatenate[0][0]                \n",
      "__________________________________________________________________________________________________\n",
      "concatenate_1 (Concatenate)     (None, 7)            0           sequential[1][0]                 \n",
      "                                                                 GAN_condY[0][0]                  \n",
      "__________________________________________________________________________________________________\n",
      "sequential_1 (Sequential)       (None, 1)            697345      concatenate_1[0][0]              \n",
      "==================================================================================================\n",
      "Total params: 877,039\n",
      "Trainable params: 177,790\n",
      "Non-trainable params: 699,249\n",
      "__________________________________________________________________________________________________\n"
     ]
    }
   ],
   "source": [
    "def create_conditional_gan(discriminator, generator):\n",
    "    discriminator.trainable=False    \n",
    "    # now this\n",
    "    gan_input = Input(shape=(nFeat,),name=\"GAN_NoiseInput\")\n",
    "    y = Input(shape=(1,),name=\"GAN_condY\")\n",
    "    x = generator(Concatenate(axis=-1)([gan_input,y]))\n",
    "    gan_output = discriminator(Concatenate(axis=-1)([x,y]))\n",
    "    gan = Model(inputs=[y,gan_input], outputs=gan_output,name=\"GAN\")\n",
    "    gan.compile(loss='binary_crossentropy', optimizer=adam_optimizer())#optimizer='adam') #new\n",
    "    return gan\n",
    "cgan = create_conditional_gan(cd,cg)\n",
    "cgan.summary()"
   ]
  },
  {
   "cell_type": "code",
   "execution_count": 15,
   "id": "47895119",
   "metadata": {},
   "outputs": [],
   "source": [
    "from tensorflow.keras.models import save_model\n",
    "\n",
    "def conditional_training(X, y, epochs=1, batch_size=128):\n",
    "    #Loading the data\n",
    "    #(X_train, y_train, X_test, y_test) = load_data()\n",
    "    # X_train, X_test, y_train, y_test = train_test_split(X, y, test_size=0.3, random_state=42)\n",
    "    X_train = X\n",
    "    y_train = y\n",
    "        \n",
    "    batch_count = int(X_train.shape[0] / batch_size)\n",
    "\n",
    "    # Standardizing???\n",
    "    #from sklearn import preprocessing\n",
    "    #X_train = preprocessing.scale(X_train)\n",
    "    #X_test = preprocessing.scale(X_test)\n",
    "\n",
    "    # Creating GAN\n",
    "    generator= create_conditional_generator()\n",
    "    discriminator= create_conditional_discriminator()\n",
    "    gan = create_conditional_gan(discriminator, generator)\n",
    "    \n",
    "    d_hist_r, d_hist_f, g_hist  = list(), list(), list()\n",
    "    half_batch = int(batch_size / 2)\n",
    "    \n",
    "    for e in range(epochs):\n",
    "        print(\"Epoch %d\" %e)\n",
    "        for _ in tqdm(range(batch_count)):\n",
    "            # --------------------\n",
    "            # Train discriminator\n",
    "            # --------------------\n",
    "\n",
    "            idx = np.random.randint(0, X_train.shape[0], half_batch)\n",
    "            y_real = y_train[idx]\n",
    "            x_real = np.hstack([X_train[idx],y_train[idx].reshape(half_batch,1)])\n",
    "        \n",
    "            noise = np.random.normal(0, 1, (half_batch, nFeat))\n",
    "            #noise = np.random.uniform(0, 1, (half_batch, nFeat))\n",
    "            cond_noise = np.hstack([noise,y_real.reshape(half_batch,1)])\n",
    "            x_fake = generator.predict(cond_noise)\n",
    "            x_fake = np.hstack([x_fake,y_real.reshape(half_batch,1)])\n",
    "        \n",
    "            discriminator.trainable=True #added\n",
    "            d_loss_real = discriminator.train_on_batch(x_real, 0.9*np.ones((half_batch, 1)))\n",
    "            d_loss_fake = discriminator.train_on_batch(x_fake, np.zeros((half_batch, 1)))\n",
    "            d_loss = 0.5 * np.add(d_loss_real, d_loss_fake)\n",
    "\n",
    "            # --------------------\n",
    "            # Train generator\n",
    "            # --------------------\n",
    "            discriminator.trainable=False #added\n",
    "            noise = np.random.normal(0, 1, (batch_size, nFeat)) #label the generated samples as 1\n",
    "            #noise = np.random.uniform(0, 1, (batch_size, nFeat)) #label the generated samples as 1\n",
    "            new_idx = np.random.randint(0, y_train.shape[0], batch_size)\n",
    "            g_loss = gan.train_on_batch([y_train[new_idx],noise], np.ones((batch_size,1)))\n",
    "\n",
    "            # --------------------\n",
    "            # Save losses\n",
    "            # --------------------\n",
    "            d_hist_r.append(d_loss_real) \n",
    "            d_hist_f.append(d_loss_fake) \n",
    "            g_hist.append(g_loss)\n",
    "\n",
    "        if e == 0 or e % 50 == 0:\n",
    "            list_of_cgen_models.append(generator)\n",
    "            \n",
    "            discriminator.trainable = False\n",
    "            save_model(gan, \"gan_models/gan_%d.h5\"%e)\n",
    "            discriminator.trainable = True\n",
    "            save_model(generator, \"gan_models/gen_%d.h5\"%e)\n",
    "            save_model(discriminator, \"gan_models/disc%d.h5\"%e)\n",
    "    \n",
    "            # generator.save(\"tmp_%d.h5\"%e) \n",
    "    return d_hist_r, d_hist_f, g_hist"
   ]
  },
  {
   "cell_type": "code",
   "execution_count": 16,
   "id": "1eb89bca-f27c-41b4-bf38-9d61a8e6c8b6",
   "metadata": {},
   "outputs": [
    {
     "name": "stdout",
     "output_type": "stream",
     "text": [
      "No GPU found\n"
     ]
    },
    {
     "name": "stderr",
     "output_type": "stream",
     "text": [
      "2023-03-23 10:50:07.392693: I tensorflow/core/platform/cpu_feature_guard.cc:142] Your CPU supports instructions that this TensorFlow binary was not compiled to use: SSE4.1 SSE4.2 AVX AVX2 FMA\n",
      "2023-03-23 10:50:07.434124: I tensorflow/core/platform/profile_utils/cpu_utils.cc:94] CPU Frequency: 1996255000 Hz\n",
      "2023-03-23 10:50:07.446653: I tensorflow/compiler/xla/service/service.cc:168] XLA service 0x55d77650f330 initialized for platform Host (this does not guarantee that XLA will be used). Devices:\n",
      "2023-03-23 10:50:07.446676: I tensorflow/compiler/xla/service/service.cc:176]   StreamExecutor device (0): Host, Default Version\n",
      "2023-03-23 10:50:07.447893: I tensorflow/stream_executor/platform/default/dso_loader.cc:44] Successfully opened dynamic library libcuda.so.1\n",
      "2023-03-23 10:50:07.488294: E tensorflow/stream_executor/cuda/cuda_driver.cc:318] failed call to cuInit: CUDA_ERROR_NO_DEVICE: no CUDA-capable device is detected\n",
      "2023-03-23 10:50:07.488319: I tensorflow/stream_executor/cuda/cuda_diagnostics.cc:169] retrieving CUDA diagnostic information for host: login05\n",
      "2023-03-23 10:50:07.488324: I tensorflow/stream_executor/cuda/cuda_diagnostics.cc:176] hostname: login05\n",
      "2023-03-23 10:50:07.488412: I tensorflow/stream_executor/cuda/cuda_diagnostics.cc:200] libcuda reported version is: 515.65.1\n",
      "2023-03-23 10:50:07.488430: I tensorflow/stream_executor/cuda/cuda_diagnostics.cc:204] kernel reported version is: Not found: could not find kernel module information in driver version file contents: \"NVRM version: NVIDIA UNIX Open Kernel Module for x86_64  515.65.01  Release Build  (dvs-builder@U16-T11-05-2)  Wed Jul 20 13:54:56 UTC 2022\n",
      "GCC version:  gcc version 7.5.0 (SUSE Linux) \n",
      "\"\n"
     ]
    }
   ],
   "source": [
    "import os\n",
    "\n",
    "os.environ['CUDA_VISIBLE_DEVICES'] = '-1'\n",
    "\n",
    "if tf.test.gpu_device_name():\n",
    "    print('GPU found')\n",
    "else:\n",
    "    print(\"No GPU found\")"
   ]
  },
  {
   "cell_type": "code",
   "execution_count": null,
   "id": "33f5e3ae",
   "metadata": {},
   "outputs": [
    {
     "name": "stdout",
     "output_type": "stream",
     "text": [
      "Epoch 0\n"
     ]
    },
    {
     "name": "stderr",
     "output_type": "stream",
     "text": [
      "  0%|          | 0/1952 [00:00<?, ?it/s]"
     ]
    },
    {
     "name": "stdout",
     "output_type": "stream",
     "text": [
      "WARNING:tensorflow:OMP_NUM_THREADS is no longer used by the default Keras config. To configure the number of threads, use tf.config.threading APIs.\n"
     ]
    },
    {
     "name": "stderr",
     "output_type": "stream",
     "text": [
      "100%|██████████| 1952/1952 [01:19<00:00, 24.42it/s]\n"
     ]
    },
    {
     "name": "stdout",
     "output_type": "stream",
     "text": [
      "Epoch 1\n"
     ]
    },
    {
     "name": "stderr",
     "output_type": "stream",
     "text": [
      "100%|██████████| 1952/1952 [01:17<00:00, 25.25it/s]\n"
     ]
    },
    {
     "name": "stdout",
     "output_type": "stream",
     "text": [
      "Epoch 2\n"
     ]
    },
    {
     "name": "stderr",
     "output_type": "stream",
     "text": [
      "100%|██████████| 1952/1952 [01:17<00:00, 25.25it/s]\n"
     ]
    },
    {
     "name": "stdout",
     "output_type": "stream",
     "text": [
      "Epoch 3\n"
     ]
    },
    {
     "name": "stderr",
     "output_type": "stream",
     "text": [
      "100%|██████████| 1952/1952 [01:16<00:00, 25.49it/s]\n"
     ]
    },
    {
     "name": "stdout",
     "output_type": "stream",
     "text": [
      "Epoch 4\n"
     ]
    },
    {
     "name": "stderr",
     "output_type": "stream",
     "text": [
      "100%|██████████| 1952/1952 [01:17<00:00, 25.31it/s]\n"
     ]
    },
    {
     "name": "stdout",
     "output_type": "stream",
     "text": [
      "Epoch 5\n"
     ]
    },
    {
     "name": "stderr",
     "output_type": "stream",
     "text": [
      "100%|██████████| 1952/1952 [01:16<00:00, 25.39it/s]\n"
     ]
    },
    {
     "name": "stdout",
     "output_type": "stream",
     "text": [
      "Epoch 6\n"
     ]
    },
    {
     "name": "stderr",
     "output_type": "stream",
     "text": [
      "100%|██████████| 1952/1952 [01:17<00:00, 25.27it/s]\n"
     ]
    },
    {
     "name": "stdout",
     "output_type": "stream",
     "text": [
      "Epoch 7\n"
     ]
    },
    {
     "name": "stderr",
     "output_type": "stream",
     "text": [
      "100%|██████████| 1952/1952 [01:17<00:00, 25.33it/s]\n"
     ]
    },
    {
     "name": "stdout",
     "output_type": "stream",
     "text": [
      "Epoch 8\n"
     ]
    },
    {
     "name": "stderr",
     "output_type": "stream",
     "text": [
      "100%|██████████| 1952/1952 [01:17<00:00, 25.20it/s]\n"
     ]
    },
    {
     "name": "stdout",
     "output_type": "stream",
     "text": [
      "Epoch 9\n"
     ]
    },
    {
     "name": "stderr",
     "output_type": "stream",
     "text": [
      "100%|██████████| 1952/1952 [01:16<00:00, 25.38it/s]\n"
     ]
    },
    {
     "name": "stdout",
     "output_type": "stream",
     "text": [
      "Epoch 10\n"
     ]
    },
    {
     "name": "stderr",
     "output_type": "stream",
     "text": [
      "100%|██████████| 1952/1952 [01:17<00:00, 25.32it/s]\n"
     ]
    },
    {
     "name": "stdout",
     "output_type": "stream",
     "text": [
      "Epoch 11\n"
     ]
    },
    {
     "name": "stderr",
     "output_type": "stream",
     "text": [
      "100%|██████████| 1952/1952 [01:17<00:00, 25.30it/s]\n"
     ]
    },
    {
     "name": "stdout",
     "output_type": "stream",
     "text": [
      "Epoch 12\n"
     ]
    },
    {
     "name": "stderr",
     "output_type": "stream",
     "text": [
      "100%|██████████| 1952/1952 [01:17<00:00, 25.35it/s]\n"
     ]
    },
    {
     "name": "stdout",
     "output_type": "stream",
     "text": [
      "Epoch 13\n"
     ]
    },
    {
     "name": "stderr",
     "output_type": "stream",
     "text": [
      "100%|██████████| 1952/1952 [01:16<00:00, 25.40it/s]\n"
     ]
    },
    {
     "name": "stdout",
     "output_type": "stream",
     "text": [
      "Epoch 14\n"
     ]
    },
    {
     "name": "stderr",
     "output_type": "stream",
     "text": [
      "100%|██████████| 1952/1952 [01:16<00:00, 25.47it/s]\n"
     ]
    },
    {
     "name": "stdout",
     "output_type": "stream",
     "text": [
      "Epoch 15\n"
     ]
    },
    {
     "name": "stderr",
     "output_type": "stream",
     "text": [
      "100%|██████████| 1952/1952 [01:16<00:00, 25.52it/s]\n"
     ]
    },
    {
     "name": "stdout",
     "output_type": "stream",
     "text": [
      "Epoch 16\n"
     ]
    },
    {
     "name": "stderr",
     "output_type": "stream",
     "text": [
      "100%|██████████| 1952/1952 [01:16<00:00, 25.49it/s]\n"
     ]
    },
    {
     "name": "stdout",
     "output_type": "stream",
     "text": [
      "Epoch 17\n"
     ]
    },
    {
     "name": "stderr",
     "output_type": "stream",
     "text": [
      "100%|██████████| 1952/1952 [01:16<00:00, 25.44it/s]\n"
     ]
    },
    {
     "name": "stdout",
     "output_type": "stream",
     "text": [
      "Epoch 18\n"
     ]
    },
    {
     "name": "stderr",
     "output_type": "stream",
     "text": [
      "100%|██████████| 1952/1952 [01:16<00:00, 25.43it/s]\n"
     ]
    },
    {
     "name": "stdout",
     "output_type": "stream",
     "text": [
      "Epoch 19\n"
     ]
    },
    {
     "name": "stderr",
     "output_type": "stream",
     "text": [
      "100%|██████████| 1952/1952 [01:16<00:00, 25.38it/s]\n"
     ]
    },
    {
     "name": "stdout",
     "output_type": "stream",
     "text": [
      "Epoch 20\n"
     ]
    },
    {
     "name": "stderr",
     "output_type": "stream",
     "text": [
      "100%|██████████| 1952/1952 [01:16<00:00, 25.54it/s]\n"
     ]
    },
    {
     "name": "stdout",
     "output_type": "stream",
     "text": [
      "Epoch 21\n"
     ]
    },
    {
     "name": "stderr",
     "output_type": "stream",
     "text": [
      "100%|██████████| 1952/1952 [01:16<00:00, 25.56it/s]\n"
     ]
    },
    {
     "name": "stdout",
     "output_type": "stream",
     "text": [
      "Epoch 22\n"
     ]
    },
    {
     "name": "stderr",
     "output_type": "stream",
     "text": [
      "100%|██████████| 1952/1952 [01:16<00:00, 25.45it/s]\n"
     ]
    },
    {
     "name": "stdout",
     "output_type": "stream",
     "text": [
      "Epoch 23\n"
     ]
    },
    {
     "name": "stderr",
     "output_type": "stream",
     "text": [
      "100%|██████████| 1952/1952 [01:17<00:00, 25.35it/s]\n"
     ]
    },
    {
     "name": "stdout",
     "output_type": "stream",
     "text": [
      "Epoch 24\n"
     ]
    },
    {
     "name": "stderr",
     "output_type": "stream",
     "text": [
      "100%|██████████| 1952/1952 [01:17<00:00, 25.29it/s]\n"
     ]
    },
    {
     "name": "stdout",
     "output_type": "stream",
     "text": [
      "Epoch 25\n"
     ]
    },
    {
     "name": "stderr",
     "output_type": "stream",
     "text": [
      "100%|██████████| 1952/1952 [01:15<00:00, 25.78it/s]\n"
     ]
    },
    {
     "name": "stdout",
     "output_type": "stream",
     "text": [
      "Epoch 26\n"
     ]
    },
    {
     "name": "stderr",
     "output_type": "stream",
     "text": [
      "100%|██████████| 1952/1952 [01:16<00:00, 25.52it/s]\n"
     ]
    },
    {
     "name": "stdout",
     "output_type": "stream",
     "text": [
      "Epoch 27\n"
     ]
    },
    {
     "name": "stderr",
     "output_type": "stream",
     "text": [
      "100%|██████████| 1952/1952 [01:16<00:00, 25.37it/s]\n"
     ]
    },
    {
     "name": "stdout",
     "output_type": "stream",
     "text": [
      "Epoch 28\n"
     ]
    },
    {
     "name": "stderr",
     "output_type": "stream",
     "text": [
      "100%|██████████| 1952/1952 [01:17<00:00, 25.21it/s]\n"
     ]
    },
    {
     "name": "stdout",
     "output_type": "stream",
     "text": [
      "Epoch 29\n"
     ]
    },
    {
     "name": "stderr",
     "output_type": "stream",
     "text": [
      "100%|██████████| 1952/1952 [01:16<00:00, 25.58it/s]\n"
     ]
    },
    {
     "name": "stdout",
     "output_type": "stream",
     "text": [
      "Epoch 30\n"
     ]
    },
    {
     "name": "stderr",
     "output_type": "stream",
     "text": [
      "100%|██████████| 1952/1952 [01:16<00:00, 25.50it/s]\n"
     ]
    },
    {
     "name": "stdout",
     "output_type": "stream",
     "text": [
      "Epoch 31\n"
     ]
    },
    {
     "name": "stderr",
     "output_type": "stream",
     "text": [
      "100%|██████████| 1952/1952 [01:16<00:00, 25.52it/s]\n"
     ]
    },
    {
     "name": "stdout",
     "output_type": "stream",
     "text": [
      "Epoch 32\n"
     ]
    },
    {
     "name": "stderr",
     "output_type": "stream",
     "text": [
      "100%|██████████| 1952/1952 [01:16<00:00, 25.52it/s]\n"
     ]
    },
    {
     "name": "stdout",
     "output_type": "stream",
     "text": [
      "Epoch 33\n"
     ]
    },
    {
     "name": "stderr",
     "output_type": "stream",
     "text": [
      "100%|██████████| 1952/1952 [01:16<00:00, 25.46it/s]\n"
     ]
    },
    {
     "name": "stdout",
     "output_type": "stream",
     "text": [
      "Epoch 34\n"
     ]
    },
    {
     "name": "stderr",
     "output_type": "stream",
     "text": [
      "100%|██████████| 1952/1952 [01:17<00:00, 25.26it/s]\n"
     ]
    },
    {
     "name": "stdout",
     "output_type": "stream",
     "text": [
      "Epoch 35\n"
     ]
    },
    {
     "name": "stderr",
     "output_type": "stream",
     "text": [
      "100%|██████████| 1952/1952 [01:16<00:00, 25.47it/s]\n"
     ]
    },
    {
     "name": "stdout",
     "output_type": "stream",
     "text": [
      "Epoch 36\n"
     ]
    },
    {
     "name": "stderr",
     "output_type": "stream",
     "text": [
      "100%|██████████| 1952/1952 [01:16<00:00, 25.39it/s]\n"
     ]
    },
    {
     "name": "stdout",
     "output_type": "stream",
     "text": [
      "Epoch 37\n"
     ]
    },
    {
     "name": "stderr",
     "output_type": "stream",
     "text": [
      "100%|██████████| 1952/1952 [01:17<00:00, 25.29it/s]\n"
     ]
    },
    {
     "name": "stdout",
     "output_type": "stream",
     "text": [
      "Epoch 38\n"
     ]
    },
    {
     "name": "stderr",
     "output_type": "stream",
     "text": [
      "100%|██████████| 1952/1952 [01:16<00:00, 25.40it/s]\n"
     ]
    },
    {
     "name": "stdout",
     "output_type": "stream",
     "text": [
      "Epoch 39\n"
     ]
    },
    {
     "name": "stderr",
     "output_type": "stream",
     "text": [
      "100%|██████████| 1952/1952 [01:18<00:00, 24.81it/s]\n"
     ]
    },
    {
     "name": "stdout",
     "output_type": "stream",
     "text": [
      "Epoch 40\n"
     ]
    },
    {
     "name": "stderr",
     "output_type": "stream",
     "text": [
      "100%|██████████| 1952/1952 [01:18<00:00, 24.92it/s]\n"
     ]
    },
    {
     "name": "stdout",
     "output_type": "stream",
     "text": [
      "Epoch 41\n"
     ]
    },
    {
     "name": "stderr",
     "output_type": "stream",
     "text": [
      "100%|██████████| 1952/1952 [01:18<00:00, 24.99it/s]\n"
     ]
    },
    {
     "name": "stdout",
     "output_type": "stream",
     "text": [
      "Epoch 42\n"
     ]
    },
    {
     "name": "stderr",
     "output_type": "stream",
     "text": [
      "100%|██████████| 1952/1952 [01:18<00:00, 25.02it/s]\n"
     ]
    },
    {
     "name": "stdout",
     "output_type": "stream",
     "text": [
      "Epoch 43\n"
     ]
    },
    {
     "name": "stderr",
     "output_type": "stream",
     "text": [
      "100%|██████████| 1952/1952 [01:18<00:00, 24.95it/s]\n"
     ]
    },
    {
     "name": "stdout",
     "output_type": "stream",
     "text": [
      "Epoch 44\n"
     ]
    },
    {
     "name": "stderr",
     "output_type": "stream",
     "text": [
      "100%|██████████| 1952/1952 [01:18<00:00, 24.95it/s]\n"
     ]
    },
    {
     "name": "stdout",
     "output_type": "stream",
     "text": [
      "Epoch 45\n"
     ]
    },
    {
     "name": "stderr",
     "output_type": "stream",
     "text": [
      "100%|██████████| 1952/1952 [01:18<00:00, 24.93it/s]\n"
     ]
    },
    {
     "name": "stdout",
     "output_type": "stream",
     "text": [
      "Epoch 46\n"
     ]
    },
    {
     "name": "stderr",
     "output_type": "stream",
     "text": [
      "100%|██████████| 1952/1952 [01:18<00:00, 25.01it/s]\n"
     ]
    },
    {
     "name": "stdout",
     "output_type": "stream",
     "text": [
      "Epoch 47\n"
     ]
    },
    {
     "name": "stderr",
     "output_type": "stream",
     "text": [
      "100%|██████████| 1952/1952 [01:18<00:00, 24.98it/s]\n"
     ]
    },
    {
     "name": "stdout",
     "output_type": "stream",
     "text": [
      "Epoch 48\n"
     ]
    },
    {
     "name": "stderr",
     "output_type": "stream",
     "text": [
      "100%|██████████| 1952/1952 [01:17<00:00, 25.12it/s]\n"
     ]
    },
    {
     "name": "stdout",
     "output_type": "stream",
     "text": [
      "Epoch 49\n"
     ]
    },
    {
     "name": "stderr",
     "output_type": "stream",
     "text": [
      "100%|██████████| 1952/1952 [01:18<00:00, 24.99it/s]\n"
     ]
    },
    {
     "name": "stdout",
     "output_type": "stream",
     "text": [
      "Epoch 50\n"
     ]
    },
    {
     "name": "stderr",
     "output_type": "stream",
     "text": [
      "100%|██████████| 1952/1952 [01:17<00:00, 25.14it/s]\n"
     ]
    },
    {
     "name": "stdout",
     "output_type": "stream",
     "text": [
      "Epoch 51\n"
     ]
    },
    {
     "name": "stderr",
     "output_type": "stream",
     "text": [
      "100%|██████████| 1952/1952 [01:17<00:00, 25.05it/s]\n"
     ]
    },
    {
     "name": "stdout",
     "output_type": "stream",
     "text": [
      "Epoch 52\n"
     ]
    },
    {
     "name": "stderr",
     "output_type": "stream",
     "text": [
      "100%|██████████| 1952/1952 [01:18<00:00, 24.99it/s]\n"
     ]
    },
    {
     "name": "stdout",
     "output_type": "stream",
     "text": [
      "Epoch 53\n"
     ]
    },
    {
     "name": "stderr",
     "output_type": "stream",
     "text": [
      "100%|██████████| 1952/1952 [01:17<00:00, 25.12it/s]\n"
     ]
    },
    {
     "name": "stdout",
     "output_type": "stream",
     "text": [
      "Epoch 54\n"
     ]
    },
    {
     "name": "stderr",
     "output_type": "stream",
     "text": [
      "100%|██████████| 1952/1952 [01:18<00:00, 24.79it/s]\n"
     ]
    },
    {
     "name": "stdout",
     "output_type": "stream",
     "text": [
      "Epoch 55\n"
     ]
    },
    {
     "name": "stderr",
     "output_type": "stream",
     "text": [
      "100%|██████████| 1952/1952 [01:19<00:00, 24.47it/s]\n"
     ]
    },
    {
     "name": "stdout",
     "output_type": "stream",
     "text": [
      "Epoch 56\n"
     ]
    },
    {
     "name": "stderr",
     "output_type": "stream",
     "text": [
      "100%|██████████| 1952/1952 [01:19<00:00, 24.49it/s]\n"
     ]
    },
    {
     "name": "stdout",
     "output_type": "stream",
     "text": [
      "Epoch 57\n"
     ]
    },
    {
     "name": "stderr",
     "output_type": "stream",
     "text": [
      "100%|██████████| 1952/1952 [01:19<00:00, 24.55it/s]\n"
     ]
    },
    {
     "name": "stdout",
     "output_type": "stream",
     "text": [
      "Epoch 58\n"
     ]
    },
    {
     "name": "stderr",
     "output_type": "stream",
     "text": [
      "100%|██████████| 1952/1952 [01:19<00:00, 24.47it/s]\n"
     ]
    },
    {
     "name": "stdout",
     "output_type": "stream",
     "text": [
      "Epoch 59\n"
     ]
    },
    {
     "name": "stderr",
     "output_type": "stream",
     "text": [
      "100%|██████████| 1952/1952 [01:20<00:00, 24.32it/s]\n"
     ]
    },
    {
     "name": "stdout",
     "output_type": "stream",
     "text": [
      "Epoch 60\n"
     ]
    },
    {
     "name": "stderr",
     "output_type": "stream",
     "text": [
      "100%|██████████| 1952/1952 [01:19<00:00, 24.60it/s]\n"
     ]
    },
    {
     "name": "stdout",
     "output_type": "stream",
     "text": [
      "Epoch 61\n"
     ]
    },
    {
     "name": "stderr",
     "output_type": "stream",
     "text": [
      "100%|██████████| 1952/1952 [01:19<00:00, 24.57it/s]\n"
     ]
    },
    {
     "name": "stdout",
     "output_type": "stream",
     "text": [
      "Epoch 62\n"
     ]
    },
    {
     "name": "stderr",
     "output_type": "stream",
     "text": [
      "100%|██████████| 1952/1952 [01:18<00:00, 24.79it/s]\n"
     ]
    },
    {
     "name": "stdout",
     "output_type": "stream",
     "text": [
      "Epoch 63\n"
     ]
    },
    {
     "name": "stderr",
     "output_type": "stream",
     "text": [
      "100%|██████████| 1952/1952 [01:18<00:00, 24.96it/s]\n"
     ]
    },
    {
     "name": "stdout",
     "output_type": "stream",
     "text": [
      "Epoch 64\n"
     ]
    },
    {
     "name": "stderr",
     "output_type": "stream",
     "text": [
      "100%|██████████| 1952/1952 [01:18<00:00, 24.87it/s]\n"
     ]
    },
    {
     "name": "stdout",
     "output_type": "stream",
     "text": [
      "Epoch 65\n"
     ]
    },
    {
     "name": "stderr",
     "output_type": "stream",
     "text": [
      "100%|██████████| 1952/1952 [01:18<00:00, 24.97it/s]\n"
     ]
    },
    {
     "name": "stdout",
     "output_type": "stream",
     "text": [
      "Epoch 66\n"
     ]
    },
    {
     "name": "stderr",
     "output_type": "stream",
     "text": [
      "100%|██████████| 1952/1952 [01:18<00:00, 24.96it/s]\n"
     ]
    },
    {
     "name": "stdout",
     "output_type": "stream",
     "text": [
      "Epoch 67\n"
     ]
    },
    {
     "name": "stderr",
     "output_type": "stream",
     "text": [
      "100%|██████████| 1952/1952 [01:18<00:00, 24.94it/s]\n"
     ]
    },
    {
     "name": "stdout",
     "output_type": "stream",
     "text": [
      "Epoch 70\n"
     ]
    },
    {
     "name": "stderr",
     "output_type": "stream",
     "text": [
      "100%|██████████| 1952/1952 [01:17<00:00, 25.03it/s]\n"
     ]
    },
    {
     "name": "stdout",
     "output_type": "stream",
     "text": [
      "Epoch 71\n"
     ]
    },
    {
     "name": "stderr",
     "output_type": "stream",
     "text": [
      "100%|██████████| 1952/1952 [01:17<00:00, 25.06it/s]\n"
     ]
    },
    {
     "name": "stdout",
     "output_type": "stream",
     "text": [
      "Epoch 72\n"
     ]
    },
    {
     "name": "stderr",
     "output_type": "stream",
     "text": [
      "100%|██████████| 1952/1952 [01:17<00:00, 25.03it/s]\n"
     ]
    },
    {
     "name": "stdout",
     "output_type": "stream",
     "text": [
      "Epoch 73\n"
     ]
    },
    {
     "name": "stderr",
     "output_type": "stream",
     "text": [
      " 63%|██████▎   | 1233/1952 [00:49<00:28, 25.21it/s]IOPub message rate exceeded.\n",
      "The Jupyter server will temporarily stop sending output\n",
      "to the client in order to avoid crashing it.\n",
      "To change this limit, set the config variable\n",
      "`--ServerApp.iopub_msg_rate_limit`.\n",
      "\n",
      "Current values:\n",
      "ServerApp.iopub_msg_rate_limit=1000.0 (msgs/sec)\n",
      "ServerApp.rate_limit_window=3.0 (secs)\n",
      "\n",
      "100%|██████████| 1952/1952 [01:18<00:00, 24.98it/s]\n"
     ]
    },
    {
     "name": "stdout",
     "output_type": "stream",
     "text": [
      "Epoch 91\n"
     ]
    },
    {
     "name": "stderr",
     "output_type": "stream",
     "text": [
      "100%|██████████| 1952/1952 [01:18<00:00, 24.99it/s]\n"
     ]
    },
    {
     "name": "stdout",
     "output_type": "stream",
     "text": [
      "Epoch 92\n"
     ]
    },
    {
     "name": "stderr",
     "output_type": "stream",
     "text": [
      "100%|██████████| 1952/1952 [01:18<00:00, 24.86it/s]\n"
     ]
    },
    {
     "name": "stdout",
     "output_type": "stream",
     "text": [
      "Epoch 93\n"
     ]
    },
    {
     "name": "stderr",
     "output_type": "stream",
     "text": [
      "100%|██████████| 1952/1952 [01:18<00:00, 24.96it/s]\n"
     ]
    },
    {
     "name": "stdout",
     "output_type": "stream",
     "text": [
      "Epoch 94\n"
     ]
    },
    {
     "name": "stderr",
     "output_type": "stream",
     "text": [
      "100%|██████████| 1952/1952 [01:18<00:00, 24.96it/s]\n"
     ]
    },
    {
     "name": "stdout",
     "output_type": "stream",
     "text": [
      "Epoch 95\n"
     ]
    },
    {
     "name": "stderr",
     "output_type": "stream",
     "text": [
      " 10%|▉         | 195/1952 [00:07<01:10, 24.98it/s]IOPub message rate exceeded.\n",
      "The Jupyter server will temporarily stop sending output\n",
      "to the client in order to avoid crashing it.\n",
      "To change this limit, set the config variable\n",
      "`--ServerApp.iopub_msg_rate_limit`.\n",
      "\n",
      "Current values:\n",
      "ServerApp.iopub_msg_rate_limit=1000.0 (msgs/sec)\n",
      "ServerApp.rate_limit_window=3.0 (secs)\n",
      "\n",
      "100%|██████████| 1952/1952 [01:18<00:00, 24.98it/s]\n"
     ]
    },
    {
     "name": "stdout",
     "output_type": "stream",
     "text": [
      "Epoch 113\n"
     ]
    },
    {
     "name": "stderr",
     "output_type": "stream",
     "text": [
      "100%|██████████| 1952/1952 [01:17<00:00, 25.10it/s]\n"
     ]
    },
    {
     "name": "stdout",
     "output_type": "stream",
     "text": [
      "Epoch 114\n"
     ]
    },
    {
     "name": "stderr",
     "output_type": "stream",
     "text": [
      "100%|██████████| 1952/1952 [01:17<00:00, 25.09it/s]\n"
     ]
    },
    {
     "name": "stdout",
     "output_type": "stream",
     "text": [
      "Epoch 115\n"
     ]
    },
    {
     "name": "stderr",
     "output_type": "stream",
     "text": [
      "100%|██████████| 1952/1952 [01:17<00:00, 25.10it/s]\n"
     ]
    },
    {
     "name": "stdout",
     "output_type": "stream",
     "text": [
      "Epoch 116\n"
     ]
    },
    {
     "name": "stderr",
     "output_type": "stream",
     "text": [
      " 75%|███████▍  | 1458/1952 [00:58<00:19, 24.80it/s]IOPub message rate exceeded.\n",
      "The Jupyter server will temporarily stop sending output\n",
      "to the client in order to avoid crashing it.\n",
      "To change this limit, set the config variable\n",
      "`--ServerApp.iopub_msg_rate_limit`.\n",
      "\n",
      "Current values:\n",
      "ServerApp.iopub_msg_rate_limit=1000.0 (msgs/sec)\n",
      "ServerApp.rate_limit_window=3.0 (secs)\n",
      "\n",
      "100%|██████████| 1952/1952 [01:18<00:00, 24.95it/s]\n"
     ]
    },
    {
     "name": "stdout",
     "output_type": "stream",
     "text": [
      "Epoch 135\n"
     ]
    },
    {
     "name": "stderr",
     "output_type": "stream",
     "text": [
      "100%|██████████| 1952/1952 [01:18<00:00, 24.93it/s]\n"
     ]
    },
    {
     "name": "stdout",
     "output_type": "stream",
     "text": [
      "Epoch 136\n"
     ]
    },
    {
     "name": "stderr",
     "output_type": "stream",
     "text": [
      "100%|██████████| 1952/1952 [01:18<00:00, 24.73it/s]\n"
     ]
    },
    {
     "name": "stdout",
     "output_type": "stream",
     "text": [
      "Epoch 137\n"
     ]
    },
    {
     "name": "stderr",
     "output_type": "stream",
     "text": [
      "100%|██████████| 1952/1952 [01:17<00:00, 25.06it/s]\n"
     ]
    },
    {
     "name": "stdout",
     "output_type": "stream",
     "text": [
      "Epoch 138\n"
     ]
    },
    {
     "name": "stderr",
     "output_type": "stream",
     "text": [
      " 75%|███████▌  | 1464/1952 [00:58<00:19, 25.09it/s]IOPub message rate exceeded.\n",
      "The Jupyter server will temporarily stop sending output\n",
      "to the client in order to avoid crashing it.\n",
      "To change this limit, set the config variable\n",
      "`--ServerApp.iopub_msg_rate_limit`.\n",
      "\n",
      "Current values:\n",
      "ServerApp.iopub_msg_rate_limit=1000.0 (msgs/sec)\n",
      "ServerApp.rate_limit_window=3.0 (secs)\n",
      "\n",
      "100%|██████████| 1952/1952 [01:19<00:00, 24.47it/s]\n"
     ]
    },
    {
     "name": "stdout",
     "output_type": "stream",
     "text": [
      "Epoch 156\n"
     ]
    },
    {
     "name": "stderr",
     "output_type": "stream",
     "text": [
      "100%|██████████| 1952/1952 [01:19<00:00, 24.52it/s]\n"
     ]
    },
    {
     "name": "stdout",
     "output_type": "stream",
     "text": [
      "Epoch 157\n"
     ]
    },
    {
     "name": "stderr",
     "output_type": "stream",
     "text": [
      "100%|██████████| 1952/1952 [01:19<00:00, 24.62it/s]\n"
     ]
    },
    {
     "name": "stdout",
     "output_type": "stream",
     "text": [
      "Epoch 158\n"
     ]
    },
    {
     "name": "stderr",
     "output_type": "stream",
     "text": [
      "100%|██████████| 1952/1952 [01:18<00:00, 24.75it/s]\n"
     ]
    },
    {
     "name": "stdout",
     "output_type": "stream",
     "text": [
      "Epoch 159\n"
     ]
    },
    {
     "name": "stderr",
     "output_type": "stream",
     "text": [
      "100%|██████████| 1952/1952 [01:19<00:00, 24.53it/s]\n"
     ]
    },
    {
     "name": "stdout",
     "output_type": "stream",
     "text": [
      "Epoch 160\n"
     ]
    },
    {
     "name": "stderr",
     "output_type": "stream",
     "text": [
      " 42%|████▏     | 825/1952 [00:33<00:45, 24.52it/s]IOPub message rate exceeded.\n",
      "The Jupyter server will temporarily stop sending output\n",
      "to the client in order to avoid crashing it.\n",
      "To change this limit, set the config variable\n",
      "`--ServerApp.iopub_msg_rate_limit`.\n",
      "\n",
      "Current values:\n",
      "ServerApp.iopub_msg_rate_limit=1000.0 (msgs/sec)\n",
      "ServerApp.rate_limit_window=3.0 (secs)\n",
      "\n",
      "100%|██████████| 1952/1952 [01:18<00:00, 24.95it/s]\n"
     ]
    },
    {
     "name": "stdout",
     "output_type": "stream",
     "text": [
      "Epoch 174\n"
     ]
    },
    {
     "name": "stderr",
     "output_type": "stream",
     "text": [
      "100%|██████████| 1952/1952 [01:18<00:00, 24.84it/s]\n"
     ]
    },
    {
     "name": "stdout",
     "output_type": "stream",
     "text": [
      "Epoch 175\n"
     ]
    },
    {
     "name": "stderr",
     "output_type": "stream",
     "text": [
      "100%|██████████| 1952/1952 [01:19<00:00, 24.65it/s]\n"
     ]
    },
    {
     "name": "stdout",
     "output_type": "stream",
     "text": [
      "Epoch 176\n"
     ]
    },
    {
     "name": "stderr",
     "output_type": "stream",
     "text": [
      "100%|██████████| 1952/1952 [01:18<00:00, 24.82it/s]\n"
     ]
    },
    {
     "name": "stdout",
     "output_type": "stream",
     "text": [
      "Epoch 177\n"
     ]
    },
    {
     "name": "stderr",
     "output_type": "stream",
     "text": [
      "100%|██████████| 1952/1952 [01:18<00:00, 24.86it/s]\n"
     ]
    },
    {
     "name": "stdout",
     "output_type": "stream",
     "text": [
      "Epoch 178\n"
     ]
    },
    {
     "name": "stderr",
     "output_type": "stream",
     "text": [
      "100%|██████████| 1952/1952 [01:18<00:00, 24.84it/s]\n"
     ]
    },
    {
     "name": "stdout",
     "output_type": "stream",
     "text": [
      "Epoch 179\n"
     ]
    },
    {
     "name": "stderr",
     "output_type": "stream",
     "text": [
      "100%|██████████| 1952/1952 [01:18<00:00, 24.83it/s]\n"
     ]
    },
    {
     "name": "stdout",
     "output_type": "stream",
     "text": [
      "Epoch 180\n"
     ]
    },
    {
     "name": "stderr",
     "output_type": "stream",
     "text": [
      "100%|██████████| 1952/1952 [01:18<00:00, 24.94it/s]\n"
     ]
    },
    {
     "name": "stdout",
     "output_type": "stream",
     "text": [
      "Epoch 181\n"
     ]
    },
    {
     "name": "stderr",
     "output_type": "stream",
     "text": [
      "100%|██████████| 1952/1952 [01:18<00:00, 24.98it/s]\n"
     ]
    },
    {
     "name": "stdout",
     "output_type": "stream",
     "text": [
      "Epoch 182\n"
     ]
    },
    {
     "name": "stderr",
     "output_type": "stream",
     "text": [
      "100%|██████████| 1952/1952 [01:18<00:00, 25.02it/s]\n"
     ]
    },
    {
     "name": "stdout",
     "output_type": "stream",
     "text": [
      "Epoch 183\n"
     ]
    },
    {
     "name": "stderr",
     "output_type": "stream",
     "text": [
      "100%|██████████| 1952/1952 [01:17<00:00, 25.09it/s]\n"
     ]
    },
    {
     "name": "stdout",
     "output_type": "stream",
     "text": [
      "Epoch 184\n"
     ]
    },
    {
     "name": "stderr",
     "output_type": "stream",
     "text": [
      "100%|██████████| 1952/1952 [01:18<00:00, 25.00it/s]\n"
     ]
    },
    {
     "name": "stdout",
     "output_type": "stream",
     "text": [
      "Epoch 185\n"
     ]
    },
    {
     "name": "stderr",
     "output_type": "stream",
     "text": [
      "100%|██████████| 1952/1952 [01:17<00:00, 25.06it/s]\n"
     ]
    },
    {
     "name": "stdout",
     "output_type": "stream",
     "text": [
      "Epoch 186\n"
     ]
    },
    {
     "name": "stderr",
     "output_type": "stream",
     "text": [
      "100%|██████████| 1952/1952 [01:18<00:00, 25.01it/s]\n"
     ]
    },
    {
     "name": "stdout",
     "output_type": "stream",
     "text": [
      "Epoch 187\n"
     ]
    },
    {
     "name": "stderr",
     "output_type": "stream",
     "text": [
      "100%|██████████| 1952/1952 [01:17<00:00, 25.11it/s]\n"
     ]
    },
    {
     "name": "stdout",
     "output_type": "stream",
     "text": [
      "Epoch 188\n"
     ]
    },
    {
     "name": "stderr",
     "output_type": "stream",
     "text": [
      "100%|██████████| 1952/1952 [01:17<00:00, 25.10it/s]\n"
     ]
    },
    {
     "name": "stdout",
     "output_type": "stream",
     "text": [
      "Epoch 189\n"
     ]
    },
    {
     "name": "stderr",
     "output_type": "stream",
     "text": [
      "100%|██████████| 1952/1952 [01:18<00:00, 24.96it/s]\n"
     ]
    },
    {
     "name": "stdout",
     "output_type": "stream",
     "text": [
      "Epoch 190\n"
     ]
    },
    {
     "name": "stderr",
     "output_type": "stream",
     "text": [
      "100%|██████████| 1952/1952 [01:18<00:00, 25.00it/s]\n"
     ]
    },
    {
     "name": "stdout",
     "output_type": "stream",
     "text": [
      "Epoch 191\n"
     ]
    },
    {
     "name": "stderr",
     "output_type": "stream",
     "text": [
      "100%|██████████| 1952/1952 [01:17<00:00, 25.03it/s]\n"
     ]
    },
    {
     "name": "stdout",
     "output_type": "stream",
     "text": [
      "Epoch 192\n"
     ]
    },
    {
     "name": "stderr",
     "output_type": "stream",
     "text": [
      "100%|██████████| 1952/1952 [01:17<00:00, 25.07it/s]\n"
     ]
    },
    {
     "name": "stdout",
     "output_type": "stream",
     "text": [
      "Epoch 193\n"
     ]
    },
    {
     "name": "stderr",
     "output_type": "stream",
     "text": [
      "100%|██████████| 1952/1952 [01:17<00:00, 25.14it/s]\n"
     ]
    },
    {
     "name": "stdout",
     "output_type": "stream",
     "text": [
      "Epoch 194\n"
     ]
    },
    {
     "name": "stderr",
     "output_type": "stream",
     "text": [
      "100%|██████████| 1952/1952 [01:17<00:00, 25.14it/s]\n"
     ]
    },
    {
     "name": "stdout",
     "output_type": "stream",
     "text": [
      "Epoch 195\n"
     ]
    },
    {
     "name": "stderr",
     "output_type": "stream",
     "text": [
      "100%|██████████| 1952/1952 [01:17<00:00, 25.10it/s]\n"
     ]
    },
    {
     "name": "stdout",
     "output_type": "stream",
     "text": [
      "Epoch 196\n"
     ]
    },
    {
     "name": "stderr",
     "output_type": "stream",
     "text": [
      "100%|██████████| 1952/1952 [01:17<00:00, 25.14it/s]\n"
     ]
    },
    {
     "name": "stdout",
     "output_type": "stream",
     "text": [
      "Epoch 197\n"
     ]
    },
    {
     "name": "stderr",
     "output_type": "stream",
     "text": [
      "100%|██████████| 1952/1952 [01:17<00:00, 25.03it/s]\n"
     ]
    },
    {
     "name": "stdout",
     "output_type": "stream",
     "text": [
      "Epoch 198\n"
     ]
    },
    {
     "name": "stderr",
     "output_type": "stream",
     "text": [
      "100%|██████████| 1952/1952 [01:17<00:00, 25.06it/s]\n"
     ]
    },
    {
     "name": "stdout",
     "output_type": "stream",
     "text": [
      "Epoch 199\n"
     ]
    },
    {
     "name": "stderr",
     "output_type": "stream",
     "text": [
      "100%|██████████| 1952/1952 [01:17<00:00, 25.06it/s]\n"
     ]
    },
    {
     "name": "stdout",
     "output_type": "stream",
     "text": [
      "Epoch 200\n"
     ]
    },
    {
     "name": "stderr",
     "output_type": "stream",
     "text": [
      "100%|██████████| 1952/1952 [01:17<00:00, 25.04it/s]\n"
     ]
    },
    {
     "name": "stdout",
     "output_type": "stream",
     "text": [
      "Epoch 201\n"
     ]
    },
    {
     "name": "stderr",
     "output_type": "stream",
     "text": [
      "100%|██████████| 1952/1952 [01:17<00:00, 25.03it/s]\n"
     ]
    },
    {
     "name": "stdout",
     "output_type": "stream",
     "text": [
      "Epoch 202\n"
     ]
    },
    {
     "name": "stderr",
     "output_type": "stream",
     "text": [
      "100%|██████████| 1952/1952 [01:17<00:00, 25.11it/s]\n"
     ]
    },
    {
     "name": "stdout",
     "output_type": "stream",
     "text": [
      "Epoch 203\n"
     ]
    },
    {
     "name": "stderr",
     "output_type": "stream",
     "text": [
      "100%|██████████| 1952/1952 [01:17<00:00, 25.15it/s]\n"
     ]
    },
    {
     "name": "stdout",
     "output_type": "stream",
     "text": [
      "Epoch 204\n"
     ]
    },
    {
     "name": "stderr",
     "output_type": "stream",
     "text": [
      "100%|██████████| 1952/1952 [01:17<00:00, 25.13it/s]\n"
     ]
    },
    {
     "name": "stdout",
     "output_type": "stream",
     "text": [
      "Epoch 205\n"
     ]
    },
    {
     "name": "stderr",
     "output_type": "stream",
     "text": [
      "100%|██████████| 1952/1952 [01:17<00:00, 25.13it/s]\n"
     ]
    },
    {
     "name": "stdout",
     "output_type": "stream",
     "text": [
      "Epoch 206\n"
     ]
    },
    {
     "name": "stderr",
     "output_type": "stream",
     "text": [
      "100%|██████████| 1952/1952 [01:17<00:00, 25.04it/s]\n"
     ]
    },
    {
     "name": "stdout",
     "output_type": "stream",
     "text": [
      "Epoch 207\n"
     ]
    },
    {
     "name": "stderr",
     "output_type": "stream",
     "text": [
      "100%|██████████| 1952/1952 [01:18<00:00, 24.98it/s]\n"
     ]
    },
    {
     "name": "stdout",
     "output_type": "stream",
     "text": [
      "Epoch 208\n"
     ]
    },
    {
     "name": "stderr",
     "output_type": "stream",
     "text": [
      "100%|██████████| 1952/1952 [01:17<00:00, 25.03it/s]\n"
     ]
    },
    {
     "name": "stdout",
     "output_type": "stream",
     "text": [
      "Epoch 209\n"
     ]
    },
    {
     "name": "stderr",
     "output_type": "stream",
     "text": [
      "100%|██████████| 1952/1952 [01:18<00:00, 25.01it/s]\n"
     ]
    },
    {
     "name": "stdout",
     "output_type": "stream",
     "text": [
      "Epoch 210\n"
     ]
    },
    {
     "name": "stderr",
     "output_type": "stream",
     "text": [
      "100%|██████████| 1952/1952 [01:17<00:00, 25.08it/s]\n"
     ]
    },
    {
     "name": "stdout",
     "output_type": "stream",
     "text": [
      "Epoch 211\n"
     ]
    },
    {
     "name": "stderr",
     "output_type": "stream",
     "text": [
      "100%|██████████| 1952/1952 [01:18<00:00, 25.01it/s]\n"
     ]
    },
    {
     "name": "stdout",
     "output_type": "stream",
     "text": [
      "Epoch 212\n"
     ]
    },
    {
     "name": "stderr",
     "output_type": "stream",
     "text": [
      "100%|██████████| 1952/1952 [01:17<00:00, 25.03it/s]\n"
     ]
    },
    {
     "name": "stdout",
     "output_type": "stream",
     "text": [
      "Epoch 213\n"
     ]
    },
    {
     "name": "stderr",
     "output_type": "stream",
     "text": [
      "100%|██████████| 1952/1952 [01:17<00:00, 25.12it/s]\n"
     ]
    },
    {
     "name": "stdout",
     "output_type": "stream",
     "text": [
      "Epoch 214\n"
     ]
    },
    {
     "name": "stderr",
     "output_type": "stream",
     "text": [
      "100%|██████████| 1952/1952 [01:17<00:00, 25.07it/s]\n"
     ]
    },
    {
     "name": "stdout",
     "output_type": "stream",
     "text": [
      "Epoch 215\n"
     ]
    },
    {
     "name": "stderr",
     "output_type": "stream",
     "text": [
      "100%|██████████| 1952/1952 [01:18<00:00, 25.01it/s]\n"
     ]
    },
    {
     "name": "stdout",
     "output_type": "stream",
     "text": [
      "Epoch 216\n"
     ]
    },
    {
     "name": "stderr",
     "output_type": "stream",
     "text": [
      "100%|██████████| 1952/1952 [01:17<00:00, 25.05it/s]\n"
     ]
    },
    {
     "name": "stdout",
     "output_type": "stream",
     "text": [
      "Epoch 217\n"
     ]
    },
    {
     "name": "stderr",
     "output_type": "stream",
     "text": [
      "100%|██████████| 1952/1952 [01:17<00:00, 25.05it/s]\n"
     ]
    },
    {
     "name": "stdout",
     "output_type": "stream",
     "text": [
      "Epoch 218\n"
     ]
    },
    {
     "name": "stderr",
     "output_type": "stream",
     "text": [
      "100%|██████████| 1952/1952 [01:17<00:00, 25.12it/s]\n"
     ]
    },
    {
     "name": "stdout",
     "output_type": "stream",
     "text": [
      "Epoch 219\n"
     ]
    },
    {
     "name": "stderr",
     "output_type": "stream",
     "text": [
      "100%|██████████| 1952/1952 [01:17<00:00, 25.16it/s]\n"
     ]
    },
    {
     "name": "stdout",
     "output_type": "stream",
     "text": [
      "Epoch 220\n"
     ]
    },
    {
     "name": "stderr",
     "output_type": "stream",
     "text": [
      "100%|██████████| 1952/1952 [01:17<00:00, 25.19it/s]\n"
     ]
    },
    {
     "name": "stdout",
     "output_type": "stream",
     "text": [
      "Epoch 221\n"
     ]
    },
    {
     "name": "stderr",
     "output_type": "stream",
     "text": [
      "100%|██████████| 1952/1952 [01:17<00:00, 25.15it/s]\n"
     ]
    },
    {
     "name": "stdout",
     "output_type": "stream",
     "text": [
      "Epoch 222\n"
     ]
    },
    {
     "name": "stderr",
     "output_type": "stream",
     "text": [
      "100%|██████████| 1952/1952 [01:17<00:00, 25.11it/s]\n"
     ]
    },
    {
     "name": "stdout",
     "output_type": "stream",
     "text": [
      "Epoch 223\n"
     ]
    },
    {
     "name": "stderr",
     "output_type": "stream",
     "text": [
      "100%|██████████| 1952/1952 [01:17<00:00, 25.12it/s]\n"
     ]
    },
    {
     "name": "stdout",
     "output_type": "stream",
     "text": [
      "Epoch 224\n"
     ]
    },
    {
     "name": "stderr",
     "output_type": "stream",
     "text": [
      "100%|██████████| 1952/1952 [01:17<00:00, 25.10it/s]\n"
     ]
    },
    {
     "name": "stdout",
     "output_type": "stream",
     "text": [
      "Epoch 225\n"
     ]
    },
    {
     "name": "stderr",
     "output_type": "stream",
     "text": [
      "100%|██████████| 1952/1952 [01:17<00:00, 25.15it/s]\n"
     ]
    },
    {
     "name": "stdout",
     "output_type": "stream",
     "text": [
      "Epoch 226\n"
     ]
    },
    {
     "name": "stderr",
     "output_type": "stream",
     "text": [
      "100%|██████████| 1952/1952 [01:17<00:00, 25.04it/s]\n"
     ]
    },
    {
     "name": "stdout",
     "output_type": "stream",
     "text": [
      "Epoch 227\n"
     ]
    },
    {
     "name": "stderr",
     "output_type": "stream",
     "text": [
      "100%|██████████| 1952/1952 [01:17<00:00, 25.11it/s]\n"
     ]
    },
    {
     "name": "stdout",
     "output_type": "stream",
     "text": [
      "Epoch 228\n"
     ]
    },
    {
     "name": "stderr",
     "output_type": "stream",
     "text": [
      "100%|██████████| 1952/1952 [01:17<00:00, 25.06it/s]\n"
     ]
    },
    {
     "name": "stdout",
     "output_type": "stream",
     "text": [
      "Epoch 229\n"
     ]
    },
    {
     "name": "stderr",
     "output_type": "stream",
     "text": [
      "100%|██████████| 1952/1952 [01:17<00:00, 25.07it/s]\n"
     ]
    },
    {
     "name": "stdout",
     "output_type": "stream",
     "text": [
      "Epoch 230\n"
     ]
    },
    {
     "name": "stderr",
     "output_type": "stream",
     "text": [
      "100%|██████████| 1952/1952 [01:17<00:00, 25.10it/s]\n"
     ]
    },
    {
     "name": "stdout",
     "output_type": "stream",
     "text": [
      "Epoch 231\n"
     ]
    },
    {
     "name": "stderr",
     "output_type": "stream",
     "text": [
      "100%|██████████| 1952/1952 [01:17<00:00, 25.03it/s]\n"
     ]
    },
    {
     "name": "stdout",
     "output_type": "stream",
     "text": [
      "Epoch 232\n"
     ]
    },
    {
     "name": "stderr",
     "output_type": "stream",
     "text": [
      "100%|██████████| 1952/1952 [01:18<00:00, 25.02it/s]\n"
     ]
    },
    {
     "name": "stdout",
     "output_type": "stream",
     "text": [
      "Epoch 233\n"
     ]
    },
    {
     "name": "stderr",
     "output_type": "stream",
     "text": [
      "100%|██████████| 1952/1952 [01:18<00:00, 24.89it/s]\n"
     ]
    },
    {
     "name": "stdout",
     "output_type": "stream",
     "text": [
      "Epoch 234\n"
     ]
    },
    {
     "name": "stderr",
     "output_type": "stream",
     "text": [
      "100%|██████████| 1952/1952 [01:18<00:00, 25.00it/s]\n"
     ]
    },
    {
     "name": "stdout",
     "output_type": "stream",
     "text": [
      "Epoch 235\n"
     ]
    },
    {
     "name": "stderr",
     "output_type": "stream",
     "text": [
      "100%|██████████| 1952/1952 [01:17<00:00, 25.07it/s]\n"
     ]
    },
    {
     "name": "stdout",
     "output_type": "stream",
     "text": [
      "Epoch 236\n"
     ]
    },
    {
     "name": "stderr",
     "output_type": "stream",
     "text": [
      "100%|██████████| 1952/1952 [01:17<00:00, 25.12it/s]\n"
     ]
    },
    {
     "name": "stdout",
     "output_type": "stream",
     "text": [
      "Epoch 237\n"
     ]
    },
    {
     "name": "stderr",
     "output_type": "stream",
     "text": [
      "100%|██████████| 1952/1952 [01:17<00:00, 25.03it/s]\n"
     ]
    },
    {
     "name": "stdout",
     "output_type": "stream",
     "text": [
      "Epoch 238\n"
     ]
    },
    {
     "name": "stderr",
     "output_type": "stream",
     "text": [
      "100%|██████████| 1952/1952 [01:18<00:00, 25.01it/s]\n"
     ]
    },
    {
     "name": "stdout",
     "output_type": "stream",
     "text": [
      "Epoch 239\n"
     ]
    },
    {
     "name": "stderr",
     "output_type": "stream",
     "text": [
      "100%|██████████| 1952/1952 [01:17<00:00, 25.05it/s]\n"
     ]
    },
    {
     "name": "stdout",
     "output_type": "stream",
     "text": [
      "Epoch 240\n"
     ]
    },
    {
     "name": "stderr",
     "output_type": "stream",
     "text": [
      "100%|██████████| 1952/1952 [01:17<00:00, 25.19it/s]\n"
     ]
    },
    {
     "name": "stdout",
     "output_type": "stream",
     "text": [
      "Epoch 241\n"
     ]
    },
    {
     "name": "stderr",
     "output_type": "stream",
     "text": [
      "100%|██████████| 1952/1952 [01:17<00:00, 25.16it/s]\n"
     ]
    },
    {
     "name": "stdout",
     "output_type": "stream",
     "text": [
      "Epoch 242\n"
     ]
    },
    {
     "name": "stderr",
     "output_type": "stream",
     "text": [
      "100%|██████████| 1952/1952 [01:17<00:00, 25.14it/s]\n"
     ]
    },
    {
     "name": "stdout",
     "output_type": "stream",
     "text": [
      "Epoch 243\n"
     ]
    },
    {
     "name": "stderr",
     "output_type": "stream",
     "text": [
      "100%|██████████| 1952/1952 [01:17<00:00, 25.18it/s]\n"
     ]
    },
    {
     "name": "stdout",
     "output_type": "stream",
     "text": [
      "Epoch 244\n"
     ]
    },
    {
     "name": "stderr",
     "output_type": "stream",
     "text": [
      "100%|██████████| 1952/1952 [01:17<00:00, 25.13it/s]\n"
     ]
    },
    {
     "name": "stdout",
     "output_type": "stream",
     "text": [
      "Epoch 245\n"
     ]
    },
    {
     "name": "stderr",
     "output_type": "stream",
     "text": [
      "100%|██████████| 1952/1952 [01:17<00:00, 25.08it/s]\n"
     ]
    },
    {
     "name": "stdout",
     "output_type": "stream",
     "text": [
      "Epoch 246\n"
     ]
    },
    {
     "name": "stderr",
     "output_type": "stream",
     "text": [
      "100%|██████████| 1952/1952 [01:17<00:00, 25.10it/s]\n"
     ]
    },
    {
     "name": "stdout",
     "output_type": "stream",
     "text": [
      "Epoch 247\n"
     ]
    },
    {
     "name": "stderr",
     "output_type": "stream",
     "text": [
      "100%|██████████| 1952/1952 [01:17<00:00, 25.13it/s]\n"
     ]
    },
    {
     "name": "stdout",
     "output_type": "stream",
     "text": [
      "Epoch 249\n"
     ]
    },
    {
     "name": "stderr",
     "output_type": "stream",
     "text": [
      "100%|██████████| 1952/1952 [01:17<00:00, 25.05it/s]\n"
     ]
    },
    {
     "name": "stdout",
     "output_type": "stream",
     "text": [
      "Epoch 250\n"
     ]
    },
    {
     "name": "stderr",
     "output_type": "stream",
     "text": [
      "100%|██████████| 1952/1952 [01:18<00:00, 25.01it/s]\n"
     ]
    },
    {
     "name": "stdout",
     "output_type": "stream",
     "text": [
      "Epoch 251\n"
     ]
    },
    {
     "name": "stderr",
     "output_type": "stream",
     "text": [
      "100%|██████████| 1952/1952 [01:17<00:00, 25.04it/s]\n"
     ]
    },
    {
     "name": "stdout",
     "output_type": "stream",
     "text": [
      "Epoch 252\n"
     ]
    },
    {
     "name": "stderr",
     "output_type": "stream",
     "text": [
      " 86%|████████▌ | 1680/1952 [01:06<00:10, 24.84it/s]IOPub message rate exceeded.\n",
      "The Jupyter server will temporarily stop sending output\n",
      "to the client in order to avoid crashing it.\n",
      "To change this limit, set the config variable\n",
      "`--ServerApp.iopub_msg_rate_limit`.\n",
      "\n",
      "Current values:\n",
      "ServerApp.iopub_msg_rate_limit=1000.0 (msgs/sec)\n",
      "ServerApp.rate_limit_window=3.0 (secs)\n",
      "\n",
      "100%|██████████| 1952/1952 [01:17<00:00, 25.08it/s]\n"
     ]
    },
    {
     "name": "stdout",
     "output_type": "stream",
     "text": [
      "Epoch 271\n"
     ]
    },
    {
     "name": "stderr",
     "output_type": "stream",
     "text": [
      "100%|██████████| 1952/1952 [01:17<00:00, 25.18it/s]\n"
     ]
    },
    {
     "name": "stdout",
     "output_type": "stream",
     "text": [
      "Epoch 272\n"
     ]
    },
    {
     "name": "stderr",
     "output_type": "stream",
     "text": [
      "100%|██████████| 1952/1952 [01:17<00:00, 25.15it/s]\n"
     ]
    },
    {
     "name": "stdout",
     "output_type": "stream",
     "text": [
      "Epoch 273\n"
     ]
    },
    {
     "name": "stderr",
     "output_type": "stream",
     "text": [
      "100%|██████████| 1952/1952 [01:17<00:00, 25.18it/s]\n"
     ]
    },
    {
     "name": "stdout",
     "output_type": "stream",
     "text": [
      "Epoch 274\n"
     ]
    },
    {
     "name": "stderr",
     "output_type": "stream",
     "text": [
      "100%|██████████| 1952/1952 [01:17<00:00, 25.09it/s]\n"
     ]
    },
    {
     "name": "stdout",
     "output_type": "stream",
     "text": [
      "Epoch 275\n"
     ]
    },
    {
     "name": "stderr",
     "output_type": "stream",
     "text": [
      " 43%|████▎     | 849/1952 [00:33<00:44, 24.87it/s]IOPub message rate exceeded.\n",
      "The Jupyter server will temporarily stop sending output\n",
      "to the client in order to avoid crashing it.\n",
      "To change this limit, set the config variable\n",
      "`--ServerApp.iopub_msg_rate_limit`.\n",
      "\n",
      "Current values:\n",
      "ServerApp.iopub_msg_rate_limit=1000.0 (msgs/sec)\n",
      "ServerApp.rate_limit_window=3.0 (secs)\n",
      "\n",
      "100%|██████████| 1952/1952 [01:18<00:00, 24.99it/s]\n"
     ]
    },
    {
     "name": "stdout",
     "output_type": "stream",
     "text": [
      "Epoch 280\n"
     ]
    },
    {
     "name": "stderr",
     "output_type": "stream",
     "text": [
      "100%|██████████| 1952/1952 [01:17<00:00, 25.04it/s]\n"
     ]
    },
    {
     "name": "stdout",
     "output_type": "stream",
     "text": [
      "Epoch 281\n"
     ]
    },
    {
     "name": "stderr",
     "output_type": "stream",
     "text": [
      "100%|██████████| 1952/1952 [01:17<00:00, 25.10it/s]\n"
     ]
    },
    {
     "name": "stdout",
     "output_type": "stream",
     "text": [
      "Epoch 282\n"
     ]
    },
    {
     "name": "stderr",
     "output_type": "stream",
     "text": [
      "100%|██████████| 1952/1952 [01:17<00:00, 25.13it/s]\n"
     ]
    },
    {
     "name": "stdout",
     "output_type": "stream",
     "text": [
      "Epoch 283\n"
     ]
    },
    {
     "name": "stderr",
     "output_type": "stream",
     "text": [
      "100%|██████████| 1952/1952 [01:17<00:00, 25.28it/s]\n"
     ]
    },
    {
     "name": "stdout",
     "output_type": "stream",
     "text": [
      "Epoch 284\n"
     ]
    },
    {
     "name": "stderr",
     "output_type": "stream",
     "text": [
      "100%|██████████| 1952/1952 [01:17<00:00, 25.23it/s]\n"
     ]
    },
    {
     "name": "stdout",
     "output_type": "stream",
     "text": [
      "Epoch 285\n"
     ]
    },
    {
     "name": "stderr",
     "output_type": "stream",
     "text": [
      "100%|██████████| 1952/1952 [01:17<00:00, 25.15it/s]\n"
     ]
    },
    {
     "name": "stdout",
     "output_type": "stream",
     "text": [
      "Epoch 286\n"
     ]
    },
    {
     "name": "stderr",
     "output_type": "stream",
     "text": [
      " 55%|█████▌    | 1074/1952 [00:42<00:35, 25.08it/s]"
     ]
    }
   ],
   "source": [
    "X = x_train\n",
    "y = y_train\n",
    "list_of_cgen_models = []\n",
    "cd1_hist_r, cd1_hist_f, cg_hist = conditional_training(X,y,301,256)"
   ]
  },
  {
   "cell_type": "markdown",
   "id": "9464ebf3",
   "metadata": {},
   "source": [
    "### Network parameters"
   ]
  },
  {
   "cell_type": "code",
   "execution_count": 10,
   "id": "86819d1a-d303-4fd5-ad4c-b98f518972c3",
   "metadata": {},
   "outputs": [],
   "source": [
    "# network parameters\n",
    "intermediate_dim = 128\n",
    "encoder_dim = 128\n",
    "batch_size = 1024\n",
    "latent_dim = 6\n",
    "epochs_1, epochs_2 = 240, 120\n",
    "\n"
   ]
  },
  {
   "cell_type": "code",
   "execution_count": 11,
   "id": "fefa64aa-26c4-49a0-9cb9-9cb40e417497",
   "metadata": {},
   "outputs": [
    {
     "data": {
      "text/plain": [
       "0"
      ]
     },
     "execution_count": 11,
     "metadata": {},
     "output_type": "execute_result"
    }
   ],
   "source": [
    "\n",
    "folder_name = \"cVAEz6_03-27-2023/\"\n",
    "comd = \"mkdir -p \"+\"./outputs/models/\"+folder_name\n",
    "os.system(comd)\n"
   ]
  },
  {
   "cell_type": "markdown",
   "id": "1ef1f2f9",
   "metadata": {},
   "source": [
    "### Function for Gaussian Sampling in the VAE"
   ]
  },
  {
   "cell_type": "code",
   "execution_count": 34,
   "id": "2422b2dd-2fec-4c47-8525-77c798121bee",
   "metadata": {},
   "outputs": [],
   "source": [
    "\n",
    "def sampling(args):\n",
    "    \"\"\"Reparameterization trick by sampling from an isotropic unit Gaussian.\n",
    "    # Arguments:\n",
    "        args (tensor): mean and log of variance of Q(z|X)\n",
    "    # Returns:\n",
    "        z (tensor): sampled latent vector\n",
    "    \"\"\"\n",
    "\n",
    "    z_mean, z_log_var = args\n",
    "    batch = K.shape(z_mean)[0]\n",
    "    dim = K.int_shape(z_mean)[1]\n",
    "    # by default, random_normal has mean=0 and std=1.0\n",
    "    epsilon = K.random_normal(shape=(batch, dim))\n",
    "    return z_mean + K.exp(0.5 * z_log_var) * epsilon"
   ]
  },
  {
   "cell_type": "markdown",
   "id": "e1e820f0",
   "metadata": {},
   "source": [
    "### Define the Encoder "
   ]
  },
  {
   "cell_type": "code",
   "execution_count": 35,
   "id": "9d5320a0-cc80-42c9-9c30-d52260d3ac20",
   "metadata": {},
   "outputs": [],
   "source": [
    "def create_encoder(X,y):\n",
    "    inputs = Concatenate()([X, y])\n",
    "    x1 = Dense(32, activation='relu')(inputs)\n",
    "    x2 = Dense(64, activation='relu')(x1)\n",
    "    x3 = Dense(32, activation='relu')(x2)\n",
    "    \n",
    "    z_mean = Dense(latent_dim, name='z_mean')(x3)\n",
    "    z_log_var = Dense(latent_dim, name='z_log_var')(x3)\n",
    "    # use reparameterization trick to push the sampling out as input\n",
    "    # note that \"output_shape\" isn't necessary with the TensorFlow backend\n",
    "    z = Lambda(sampling, output_shape=(latent_dim,), name='z')([z_mean, z_log_var])\n",
    "    \n",
    "    return Model([X, y], [z_mean, z_log_var, z], name='encoder')"
   ]
  },
  {
   "cell_type": "markdown",
   "id": "60dde75a",
   "metadata": {},
   "source": [
    "### Define the Decoder"
   ]
  },
  {
   "cell_type": "code",
   "execution_count": 36,
   "id": "367ea004-d93b-4156-9dc5-e7c5df86844e",
   "metadata": {},
   "outputs": [],
   "source": [
    "def create_decoder(z,y):\n",
    "    latent_inputs = Concatenate()([z, y])\n",
    "    x1 = Dense(32, activation='relu')(latent_inputs)\n",
    "    x2 = Dense(64, activation='relu')(x1)\n",
    "    x3 = Dense(32, activation='relu')(x2)\n",
    "\n",
    "    outputs = Dense(input_dim, activation='linear')(x3)\n",
    "\n",
    "    return Model([z, y], outputs, name='decoder')"
   ]
  },
  {
   "cell_type": "code",
   "execution_count": 37,
   "id": "afe1e99e-9687-40bc-b2da-f751fdb9b468",
   "metadata": {},
   "outputs": [
    {
     "name": "stdout",
     "output_type": "stream",
     "text": [
      "Model: \"encoder\"\n",
      "__________________________________________________________________________________________________\n",
      "Layer (type)                    Output Shape         Param #     Connected to                     \n",
      "==================================================================================================\n",
      "input_7 (InputLayer)            [(None, 6)]          0                                            \n",
      "__________________________________________________________________________________________________\n",
      "input_8 (InputLayer)            [(None, 1)]          0                                            \n",
      "__________________________________________________________________________________________________\n",
      "concatenate_2 (Concatenate)     (None, 7)            0           input_7[0][0]                    \n",
      "                                                                 input_8[0][0]                    \n",
      "__________________________________________________________________________________________________\n",
      "dense_7 (Dense)                 (None, 32)           256         concatenate_2[0][0]              \n",
      "__________________________________________________________________________________________________\n",
      "dense_8 (Dense)                 (None, 64)           2112        dense_7[0][0]                    \n",
      "__________________________________________________________________________________________________\n",
      "dense_9 (Dense)                 (None, 32)           2080        dense_8[0][0]                    \n",
      "__________________________________________________________________________________________________\n",
      "z_mean (Dense)                  (None, 6)            198         dense_9[0][0]                    \n",
      "__________________________________________________________________________________________________\n",
      "z_log_var (Dense)               (None, 6)            198         dense_9[0][0]                    \n",
      "__________________________________________________________________________________________________\n",
      "z (Lambda)                      (None, 6)            0           z_mean[0][0]                     \n",
      "                                                                 z_log_var[0][0]                  \n",
      "==================================================================================================\n",
      "Total params: 4,844\n",
      "Trainable params: 4,844\n",
      "Non-trainable params: 0\n",
      "__________________________________________________________________________________________________\n"
     ]
    }
   ],
   "source": [
    "# instantiate encoder model\n",
    "encoder = create_encoder(Input(shape=(input_dim,)), Input(shape=(1,)))\n",
    "encoder.summary()\n"
   ]
  },
  {
   "cell_type": "code",
   "execution_count": 38,
   "id": "c018f57a-f73b-433c-a8e9-27b80a03ade0",
   "metadata": {},
   "outputs": [
    {
     "name": "stdout",
     "output_type": "stream",
     "text": [
      "Model: \"decoder\"\n",
      "__________________________________________________________________________________________________\n",
      "Layer (type)                    Output Shape         Param #     Connected to                     \n",
      "==================================================================================================\n",
      "input_9 (InputLayer)            [(None, 6)]          0                                            \n",
      "__________________________________________________________________________________________________\n",
      "input_10 (InputLayer)           [(None, 1)]          0                                            \n",
      "__________________________________________________________________________________________________\n",
      "concatenate_3 (Concatenate)     (None, 7)            0           input_9[0][0]                    \n",
      "                                                                 input_10[0][0]                   \n",
      "__________________________________________________________________________________________________\n",
      "dense_10 (Dense)                (None, 32)           256         concatenate_3[0][0]              \n",
      "__________________________________________________________________________________________________\n",
      "dense_11 (Dense)                (None, 64)           2112        dense_10[0][0]                   \n",
      "__________________________________________________________________________________________________\n",
      "dense_12 (Dense)                (None, 32)           2080        dense_11[0][0]                   \n",
      "__________________________________________________________________________________________________\n",
      "dense_13 (Dense)                (None, 6)            198         dense_12[0][0]                   \n",
      "==================================================================================================\n",
      "Total params: 4,646\n",
      "Trainable params: 4,646\n",
      "Non-trainable params: 0\n",
      "__________________________________________________________________________________________________\n"
     ]
    }
   ],
   "source": [
    "# instantiate decoder model\n",
    "decoder = create_decoder(Input(shape=(latent_dim,)), Input(shape=(1,)))\n",
    "decoder.summary()\n"
   ]
  },
  {
   "cell_type": "markdown",
   "id": "f252c341",
   "metadata": {},
   "source": [
    "### Define the full VAE model"
   ]
  },
  {
   "cell_type": "code",
   "execution_count": 39,
   "id": "bc0fcfb8-86b6-499f-ba05-8422da6caa78",
   "metadata": {},
   "outputs": [],
   "source": [
    "X_input = Input(shape=(input_dim,))\n",
    "y_input = Input(shape=(1,))\n",
    "z_mean, z_log_var, z = encoder([X_input,y_input])\n",
    "outputs = decoder([z,y_input])\n",
    "\n",
    "cvae = Model([X_input, y_input], outputs)"
   ]
  },
  {
   "cell_type": "markdown",
   "id": "72136fa0",
   "metadata": {},
   "source": [
    "### Define the loss functions"
   ]
  },
  {
   "cell_type": "code",
   "execution_count": 18,
   "id": "90f0dd72-c09d-4bd0-bd0e-6c91d404e37f",
   "metadata": {},
   "outputs": [],
   "source": [
    "def mse_loss_fn(x,  x_decoded_mean):\n",
    "#     mse_loss = mse(x, x_decoded_mean) # objectives.mean_squared_error(x, x_decoded_mean)\n",
    "    mse_loss = tf.reduce_mean(\n",
    "            tf.reduce_sum(\n",
    "                keras.losses.mse(x, x_decoded_mean)\n",
    "            )\n",
    "        )\n",
    "    return mse_loss\n",
    "    \n",
    "def kl_loss_fn(x,  x_decoded_mean):\n",
    "    kl_loss = 1 + z_log_var - K.square(z_mean) - K.exp(z_log_var)\n",
    "    kl_loss = K.sum(kl_loss, axis=-1)\n",
    "    kl_loss *= -0.5\n",
    "    return kl_loss\n",
    "            \n",
    "\n",
    "def vae_loss(x, x_decoded_mean):\n",
    "#         mse_loss = mse(x, x_decoded_mean) # objectives.mean_squared_error(x, x_decoded_mean)\n",
    "    mse_loss = mse_loss_fn(x, x_decoded_mean)\n",
    "    kl_loss = 1 + z_log_var - K.square(z_mean) - K.exp(z_log_var)\n",
    "    kl_loss = K.sum(kl_loss, axis=-1)\n",
    "    kl_loss *= -0.5\n",
    "    beta=10**(-2)  #10**(-6)\n",
    "    loss = K.mean((1-beta)*mse_loss + beta*kl_loss)\n",
    "#         loss = K.mean(mse_loss + kl_loss)\n",
    "    return loss\n"
   ]
  },
  {
   "cell_type": "markdown",
   "id": "2bb20287",
   "metadata": {},
   "source": [
    "### Custom Saver function"
   ]
  },
  {
   "cell_type": "code",
   "execution_count": 19,
   "id": "bc506102-b047-4e87-a4a2-6377488feeb4",
   "metadata": {},
   "outputs": [],
   "source": [
    "class CustomSaver(Callback):\n",
    "    def on_epoch_end(self, epoch, logs={}):\n",
    "           if (k == (iterations-1)):\n",
    "               decoder.save(\"outputs/models/{}/model_cbvae_6var_m{}.h5\".format(folder_name,epoch))\n",
    "               encoder.save(\"outputs/models/{}/encoder_cbvae_6var_m{}.h5\".format(folder_name,epoch))\n",
    "decoderSaver = CustomSaver()"
   ]
  },
  {
   "cell_type": "markdown",
   "id": "59f7fd59",
   "metadata": {},
   "source": [
    "### Other network parameters and model compilation"
   ]
  },
  {
   "cell_type": "code",
   "execution_count": 7,
   "id": "c22a9a26-c7c3-4b2f-9d03-b16ac7d3e36a",
   "metadata": {},
   "outputs": [],
   "source": [
    "learnrate = 0.001\n",
    "iterations = 3\n",
    "lr_limit = 0.001/(2**iterations)\n",
    "history = History()\n",
    "k=0"
   ]
  },
  {
   "cell_type": "code",
   "execution_count": 20,
   "id": "6d208b34-cca6-4c78-a7e6-2371821ae9f9",
   "metadata": {},
   "outputs": [
    {
     "name": "stdout",
     "output_type": "stream",
     "text": [
      "Model: \"model\"\n",
      "__________________________________________________________________________________________________\n",
      "Layer (type)                    Output Shape         Param #     Connected to                     \n",
      "==================================================================================================\n",
      "input_5 (InputLayer)            [(None, 6)]          0                                            \n",
      "__________________________________________________________________________________________________\n",
      "input_6 (InputLayer)            [(None, 1)]          0                                            \n",
      "__________________________________________________________________________________________________\n",
      "encoder (Functional)            [(None, 6), (None, 6 4844        input_5[0][0]                    \n",
      "                                                                 input_6[0][0]                    \n",
      "__________________________________________________________________________________________________\n",
      "decoder (Functional)            (None, 6)            4646        encoder[0][2]                    \n",
      "                                                                 input_6[0][0]                    \n",
      "==================================================================================================\n",
      "Total params: 9,490\n",
      "Trainable params: 9,490\n",
      "Non-trainable params: 0\n",
      "__________________________________________________________________________________________________\n"
     ]
    }
   ],
   "source": [
    "checkpointer = ModelCheckpoint(filepath='outputs/models/%s/cbvae_LHCO2020_20d_e-6.hdf5'%(folder_name), verbose=1, save_best_only=True)\n",
    "opt = Adam(learning_rate=learnrate, beta_1=0.9, beta_2=0.999, epsilon=1e-08, decay=0.0)\n",
    "cvae.compile(optimizer=opt, loss=vae_loss)\n",
    "\n",
    "cvae.summary()"
   ]
  },
  {
   "cell_type": "markdown",
   "id": "b62b04bd",
   "metadata": {},
   "source": [
    "## Training loop"
   ]
  },
  {
   "cell_type": "code",
   "execution_count": 22,
   "id": "8482ec67-e112-4b3b-b646-c7232382b557",
   "metadata": {},
   "outputs": [
    {
     "name": "stdout",
     "output_type": "stream",
     "text": [
      "Train on 499889 samples, validate on 378759 samples\n",
      "WARNING:tensorflow:OMP_NUM_THREADS is no longer used by the default Keras config. To configure the number of threads, use tf.config.threading APIs.\n"
     ]
    },
    {
     "name": "stderr",
     "output_type": "stream",
     "text": [
      "2023-03-27 12:48:24.612287: I tensorflow/core/platform/cpu_feature_guard.cc:142] This TensorFlow binary is optimized with oneAPI Deep Neural Network Library (oneDNN) to use the following CPU instructions in performance-critical operations:  AVX2 FMA\n",
      "To enable them in other operations, rebuild TensorFlow with the appropriate compiler flags.\n",
      "2023-03-27 12:48:25.110280: I tensorflow/core/common_runtime/gpu/gpu_device.cc:1510] Created device /job:localhost/replica:0/task:0/device:GPU:0 with 31335 MB memory:  -> device: 0, name: NVIDIA A100-PCIE-40GB, pci bus id: 0000:c3:00.0, compute capability: 8.0\n"
     ]
    },
    {
     "name": "stdout",
     "output_type": "stream",
     "text": [
      "Epoch 1/240\n",
      " 70656/499889 [===>..........................] - ETA: 4s - loss: 94.9876 - mse_loss_fn: 95.9402 - kl_loss_fn: 0.6809  "
     ]
    },
    {
     "name": "stderr",
     "output_type": "stream",
     "text": [
      "2023-03-27 12:48:25.914812: I tensorflow/stream_executor/cuda/cuda_blas.cc:1760] TensorFloat-32 will be used for the matrix multiplication. This will only be logged once.\n"
     ]
    },
    {
     "name": "stdout",
     "output_type": "stream",
     "text": [
      "490496/499889 [============================>.] - ETA: 0s - loss: 19.2280 - mse_loss_fn: 19.1916 - kl_loss_fn: 22.8314"
     ]
    },
    {
     "name": "stderr",
     "output_type": "stream",
     "text": [
      "/global/common/software/nersc/pm-2022q4/sw/tensorflow/2.6.0/lib/python3.9/site-packages/keras/engine/training.py:2470: UserWarning: `Model.state_updates` will be removed in a future version. This property should not be used in TensorFlow 2.0, as `updates` are applied automatically.\n",
      "  warnings.warn('`Model.state_updates` will be removed in a future version. '\n"
     ]
    },
    {
     "name": "stdout",
     "output_type": "stream",
     "text": [
      "\n",
      "Epoch 00001: val_loss improved from inf to 1.90018, saving model to outputs/models/cVAEz6_03-27-2023/cbvae_LHCO2020_20d_e-6.hdf5\n",
      "499889/499889 [==============================] - 2s 4us/sample - loss: 18.9023 - mse_loss_fn: 18.8294 - kl_loss_fn: 23.0070 - val_loss: 1.9002 - val_mse_loss_fn: 1.5959 - val_kl_loss_fn: 32.0167\n",
      "Epoch 2/240\n",
      "491520/499889 [============================>.] - ETA: 0s - loss: 0.8948 - mse_loss_fn: 0.5899 - kl_loss_fn: 31.0784\n",
      "Epoch 00002: val_loss improved from 1.90018 to 0.39083, saving model to outputs/models/cVAEz6_03-27-2023/cbvae_LHCO2020_20d_e-6.hdf5\n",
      "499889/499889 [==============================] - 1s 3us/sample - loss: 0.8863 - mse_loss_fn: 0.5806 - kl_loss_fn: 31.0483 - val_loss: 0.3908 - val_mse_loss_fn: 0.0994 - val_kl_loss_fn: 29.2442\n",
      "Epoch 3/240\n",
      "496640/499889 [============================>.] - ETA: 0s - loss: 0.3443 - mse_loss_fn: 0.0646 - kl_loss_fn: 28.0387\n",
      "Epoch 00003: val_loss improved from 0.39083 to 0.35025, saving model to outputs/models/cVAEz6_03-27-2023/cbvae_LHCO2020_20d_e-6.hdf5\n",
      "499889/499889 [==============================] - 1s 3us/sample - loss: 0.3442 - mse_loss_fn: 0.0644 - kl_loss_fn: 28.0330 - val_loss: 0.3502 - val_mse_loss_fn: 0.0787 - val_kl_loss_fn: 27.2337\n",
      "Epoch 4/240\n",
      "499712/499889 [============================>.] - ETA: 0s - loss: 0.3188 - mse_loss_fn: 0.0537 - kl_loss_fn: 26.5676\n",
      "Epoch 00004: val_loss improved from 0.35025 to 0.31618, saving model to outputs/models/cVAEz6_03-27-2023/cbvae_LHCO2020_20d_e-6.hdf5\n",
      "499889/499889 [==============================] - 1s 3us/sample - loss: 0.3188 - mse_loss_fn: 0.0536 - kl_loss_fn: 26.5672 - val_loss: 0.3162 - val_mse_loss_fn: 0.0562 - val_kl_loss_fn: 26.0541\n",
      "Epoch 5/240\n",
      "499712/499889 [============================>.] - ETA: 0s - loss: 0.3078 - mse_loss_fn: 0.0513 - kl_loss_fn: 25.7025\n",
      "Epoch 00005: val_loss did not improve from 0.31618\n",
      "499889/499889 [==============================] - 1s 3us/sample - loss: 0.3078 - mse_loss_fn: 0.0512 - kl_loss_fn: 25.7023 - val_loss: 0.3594 - val_mse_loss_fn: 0.1073 - val_kl_loss_fn: 25.3141\n",
      "Epoch 6/240\n",
      "499712/499889 [============================>.] - ETA: 0s - loss: 0.3003 - mse_loss_fn: 0.0493 - kl_loss_fn: 25.1486\n",
      "Epoch 00006: val_loss improved from 0.31618 to 0.31378, saving model to outputs/models/cVAEz6_03-27-2023/cbvae_LHCO2020_20d_e-6.hdf5\n",
      "499889/499889 [==============================] - 1s 3us/sample - loss: 0.3003 - mse_loss_fn: 0.0492 - kl_loss_fn: 25.1485 - val_loss: 0.3138 - val_mse_loss_fn: 0.0650 - val_kl_loss_fn: 24.9406\n",
      "Epoch 7/240\n",
      "476160/499889 [===========================>..] - ETA: 0s - loss: 0.2952 - mse_loss_fn: 0.0483 - kl_loss_fn: 24.7423\n",
      "Epoch 00007: val_loss did not improve from 0.31378\n",
      "499889/499889 [==============================] - 1s 3us/sample - loss: 0.2948 - mse_loss_fn: 0.0479 - kl_loss_fn: 24.7353 - val_loss: 0.3168 - val_mse_loss_fn: 0.0723 - val_kl_loss_fn: 24.5203\n",
      "Epoch 8/240\n",
      "491520/499889 [============================>.] - ETA: 0s - loss: 0.2906 - mse_loss_fn: 0.0472 - kl_loss_fn: 24.3882\n",
      "Epoch 00008: val_loss did not improve from 0.31378\n",
      "499889/499889 [==============================] - 1s 3us/sample - loss: 0.2908 - mse_loss_fn: 0.0473 - kl_loss_fn: 24.3852 - val_loss: 0.3931 - val_mse_loss_fn: 0.1523 - val_kl_loss_fn: 24.2317\n",
      "Epoch 9/240\n",
      "499712/499889 [============================>.] - ETA: 0s - loss: 0.2885 - mse_loss_fn: 0.0479 - kl_loss_fn: 24.1058\n",
      "Epoch 00009: val_loss did not improve from 0.31378\n",
      "499889/499889 [==============================] - 1s 3us/sample - loss: 0.2885 - mse_loss_fn: 0.0478 - kl_loss_fn: 24.1058 - val_loss: 0.3226 - val_mse_loss_fn: 0.0837 - val_kl_loss_fn: 23.9784\n",
      "Epoch 10/240\n",
      "478208/499889 [===========================>..] - ETA: 0s - loss: 0.2844 - mse_loss_fn: 0.0459 - kl_loss_fn: 23.8954\n",
      "Epoch 00010: val_loss did not improve from 0.31378\n",
      "499889/499889 [==============================] - 1s 3us/sample - loss: 0.2844 - mse_loss_fn: 0.0459 - kl_loss_fn: 23.8917 - val_loss: 0.3254 - val_mse_loss_fn: 0.0889 - val_kl_loss_fn: 23.7477\n",
      "Epoch 11/240\n",
      "479232/499889 [===========================>..] - ETA: 0s - loss: 0.2809 - mse_loss_fn: 0.0445 - kl_loss_fn: 23.6814\n",
      "Epoch 00011: val_loss improved from 0.31378 to 0.31155, saving model to outputs/models/cVAEz6_03-27-2023/cbvae_LHCO2020_20d_e-6.hdf5\n",
      "499889/499889 [==============================] - 1s 3us/sample - loss: 0.2808 - mse_loss_fn: 0.0444 - kl_loss_fn: 23.6770 - val_loss: 0.3116 - val_mse_loss_fn: 0.0772 - val_kl_loss_fn: 23.5164\n",
      "Epoch 12/240\n",
      "476160/499889 [===========================>..] - ETA: 0s - loss: 0.2794 - mse_loss_fn: 0.0453 - kl_loss_fn: 23.4626\n",
      "Epoch 00012: val_loss improved from 0.31155 to 0.28989, saving model to outputs/models/cVAEz6_03-27-2023/cbvae_LHCO2020_20d_e-6.hdf5\n",
      "499889/499889 [==============================] - 1s 3us/sample - loss: 0.2792 - mse_loss_fn: 0.0450 - kl_loss_fn: 23.4593 - val_loss: 0.2899 - val_mse_loss_fn: 0.0570 - val_kl_loss_fn: 23.3435\n",
      "Epoch 13/240\n",
      "499712/499889 [============================>.] - ETA: 0s - loss: 0.2759 - mse_loss_fn: 0.0438 - kl_loss_fn: 23.2563\n",
      "Epoch 00013: val_loss improved from 0.28989 to 0.28029, saving model to outputs/models/cVAEz6_03-27-2023/cbvae_LHCO2020_20d_e-6.hdf5\n",
      "499889/499889 [==============================] - 1s 3us/sample - loss: 0.2759 - mse_loss_fn: 0.0437 - kl_loss_fn: 23.2563 - val_loss: 0.2803 - val_mse_loss_fn: 0.0496 - val_kl_loss_fn: 23.1149\n",
      "Epoch 14/240\n",
      "497664/499889 [============================>.] - ETA: 0s - loss: 0.2739 - mse_loss_fn: 0.0439 - kl_loss_fn: 23.0413\n",
      "Epoch 00014: val_loss did not improve from 0.28029\n",
      "499889/499889 [==============================] - 1s 3us/sample - loss: 0.2739 - mse_loss_fn: 0.0439 - kl_loss_fn: 23.0413 - val_loss: 0.3945 - val_mse_loss_fn: 0.1681 - val_kl_loss_fn: 22.8157\n",
      "Epoch 15/240\n",
      "480256/499889 [===========================>..] - ETA: 0s - loss: 0.2761 - mse_loss_fn: 0.0480 - kl_loss_fn: 22.8616\n",
      "Epoch 00015: val_loss did not improve from 0.28029\n",
      "499889/499889 [==============================] - 1s 3us/sample - loss: 0.2758 - mse_loss_fn: 0.0476 - kl_loss_fn: 22.8584 - val_loss: 0.2807 - val_mse_loss_fn: 0.0542 - val_kl_loss_fn: 22.7083\n",
      "Epoch 16/240\n",
      "484352/499889 [============================>.] - ETA: 0s - loss: 0.2674 - mse_loss_fn: 0.0413 - kl_loss_fn: 22.6545\n",
      "Epoch 00016: val_loss did not improve from 0.28029\n",
      "499889/499889 [==============================] - 1s 3us/sample - loss: 0.2673 - mse_loss_fn: 0.0411 - kl_loss_fn: 22.6511 - val_loss: 0.2938 - val_mse_loss_fn: 0.0685 - val_kl_loss_fn: 22.6023\n",
      "Epoch 17/240\n",
      "484352/499889 [============================>.] - ETA: 0s - loss: 0.2677 - mse_loss_fn: 0.0437 - kl_loss_fn: 22.4392\n",
      "Epoch 00017: val_loss did not improve from 0.28029\n",
      "499889/499889 [==============================] - 1s 3us/sample - loss: 0.2679 - mse_loss_fn: 0.0439 - kl_loss_fn: 22.4368 - val_loss: 0.2870 - val_mse_loss_fn: 0.0649 - val_kl_loss_fn: 22.2798\n",
      "Epoch 18/240\n",
      "478208/499889 [===========================>..] - ETA: 0s - loss: 0.2645 - mse_loss_fn: 0.0426 - kl_loss_fn: 22.2327\n",
      "Epoch 00018: val_loss improved from 0.28029 to 0.26005, saving model to outputs/models/cVAEz6_03-27-2023/cbvae_LHCO2020_20d_e-6.hdf5\n",
      "499889/499889 [==============================] - 1s 3us/sample - loss: 0.2644 - mse_loss_fn: 0.0424 - kl_loss_fn: 22.2294 - val_loss: 0.2600 - val_mse_loss_fn: 0.0397 - val_kl_loss_fn: 22.0718\n",
      "Epoch 19/240\n",
      "495616/499889 [============================>.] - ETA: 0s - loss: 0.2618 - mse_loss_fn: 0.0419 - kl_loss_fn: 22.0239\n",
      "Epoch 00019: val_loss did not improve from 0.26005\n",
      "499889/499889 [==============================] - 1s 3us/sample - loss: 0.2617 - mse_loss_fn: 0.0418 - kl_loss_fn: 22.0232 - val_loss: 0.3097 - val_mse_loss_fn: 0.0914 - val_kl_loss_fn: 21.9175\n",
      "Epoch 20/240\n",
      "499712/499889 [============================>.] - ETA: 0s - loss: 0.2603 - mse_loss_fn: 0.0427 - kl_loss_fn: 21.8077\n",
      "Epoch 00020: val_loss did not improve from 0.26005\n",
      "499889/499889 [==============================] - 1s 3us/sample - loss: 0.2603 - mse_loss_fn: 0.0426 - kl_loss_fn: 21.8075 - val_loss: 0.3492 - val_mse_loss_fn: 0.1337 - val_kl_loss_fn: 21.6860\n",
      "Epoch 21/240\n",
      "496640/499889 [============================>.] - ETA: 0s - loss: 0.2594 - mse_loss_fn: 0.0436 - kl_loss_fn: 21.6169\n",
      "Epoch 00021: val_loss did not improve from 0.26005\n",
      "499889/499889 [==============================] - 1s 3us/sample - loss: 0.2593 - mse_loss_fn: 0.0435 - kl_loss_fn: 21.6163 - val_loss: 0.2652 - val_mse_loss_fn: 0.0512 - val_kl_loss_fn: 21.4520\n",
      "Epoch 22/240\n",
      "490496/499889 [============================>.] - ETA: 0s - loss: 0.2537 - mse_loss_fn: 0.0398 - kl_loss_fn: 21.4230\n",
      "Epoch 00022: val_loss did not improve from 0.26005\n",
      "499889/499889 [==============================] - 1s 3us/sample - loss: 0.2537 - mse_loss_fn: 0.0398 - kl_loss_fn: 21.4212 - val_loss: 0.3275 - val_mse_loss_fn: 0.1169 - val_kl_loss_fn: 21.1738\n",
      "Epoch 23/240\n",
      "487424/499889 [============================>.] - ETA: 0s - loss: 0.2540 - mse_loss_fn: 0.0421 - kl_loss_fn: 21.2263\n",
      "Epoch 00023: val_loss did not improve from 0.26005\n",
      "499889/499889 [==============================] - 1s 3us/sample - loss: 0.2538 - mse_loss_fn: 0.0419 - kl_loss_fn: 21.2250 - val_loss: 0.2664 - val_mse_loss_fn: 0.0562 - val_kl_loss_fn: 21.0727\n",
      "Epoch 24/240\n",
      "494592/499889 [============================>.] - ETA: 0s - loss: 0.2508 - mse_loss_fn: 0.0408 - kl_loss_fn: 21.0485\n",
      "Epoch 00024: val_loss improved from 0.26005 to 0.24945, saving model to outputs/models/cVAEz6_03-27-2023/cbvae_LHCO2020_20d_e-6.hdf5\n",
      "499889/499889 [==============================] - 1s 3us/sample - loss: 0.2508 - mse_loss_fn: 0.0406 - kl_loss_fn: 21.0474 - val_loss: 0.2495 - val_mse_loss_fn: 0.0414 - val_kl_loss_fn: 20.8470\n",
      "Epoch 25/240\n",
      "493568/499889 [============================>.] - ETA: 0s - loss: 0.2485 - mse_loss_fn: 0.0403 - kl_loss_fn: 20.8599\n",
      "Epoch 00025: val_loss did not improve from 0.24945\n",
      "499889/499889 [==============================] - 1s 3us/sample - loss: 0.2485 - mse_loss_fn: 0.0402 - kl_loss_fn: 20.8581 - val_loss: 0.3028 - val_mse_loss_fn: 0.0980 - val_kl_loss_fn: 20.5753\n",
      "Epoch 26/240\n",
      "493568/499889 [============================>.] - ETA: 0s - loss: 0.2474 - mse_loss_fn: 0.0415 - kl_loss_fn: 20.6398\n",
      "Epoch 00026: val_loss improved from 0.24945 to 0.24286, saving model to outputs/models/cVAEz6_03-27-2023/cbvae_LHCO2020_20d_e-6.hdf5\n",
      "499889/499889 [==============================] - 1s 3us/sample - loss: 0.2474 - mse_loss_fn: 0.0414 - kl_loss_fn: 20.6401 - val_loss: 0.2429 - val_mse_loss_fn: 0.0388 - val_kl_loss_fn: 20.4404\n",
      "Epoch 27/240\n",
      "489472/499889 [============================>.] - ETA: 0s - loss: 0.2426 - mse_loss_fn: 0.0383 - kl_loss_fn: 20.4685\n",
      "Epoch 00027: val_loss did not improve from 0.24286\n",
      "499889/499889 [==============================] - 1s 3us/sample - loss: 0.2426 - mse_loss_fn: 0.0382 - kl_loss_fn: 20.4682 - val_loss: 0.2583 - val_mse_loss_fn: 0.0566 - val_kl_loss_fn: 20.2252\n",
      "Epoch 28/240\n",
      "492544/499889 [============================>.] - ETA: 0s - loss: 0.2431 - mse_loss_fn: 0.0403 - kl_loss_fn: 20.3202\n",
      "Epoch 00028: val_loss did not improve from 0.24286\n",
      "499889/499889 [==============================] - 1s 3us/sample - loss: 0.2430 - mse_loss_fn: 0.0401 - kl_loss_fn: 20.3188 - val_loss: 0.2439 - val_mse_loss_fn: 0.0435 - val_kl_loss_fn: 20.0752\n",
      "Epoch 29/240\n",
      "499712/499889 [============================>.] - ETA: 0s - loss: 0.2404 - mse_loss_fn: 0.0390 - kl_loss_fn: 20.1787\n",
      "Epoch 00029: val_loss did not improve from 0.24286\n",
      "499889/499889 [==============================] - 1s 3us/sample - loss: 0.2404 - mse_loss_fn: 0.0389 - kl_loss_fn: 20.1787 - val_loss: 0.2735 - val_mse_loss_fn: 0.0747 - val_kl_loss_fn: 19.9590\n",
      "Epoch 30/240\n",
      "476160/499889 [===========================>..] - ETA: 0s - loss: 0.2393 - mse_loss_fn: 0.0391 - kl_loss_fn: 20.0531\n",
      "Epoch 00030: val_loss improved from 0.24286 to 0.23570, saving model to outputs/models/cVAEz6_03-27-2023/cbvae_LHCO2020_20d_e-6.hdf5\n",
      "499889/499889 [==============================] - 1s 3us/sample - loss: 0.2390 - mse_loss_fn: 0.0389 - kl_loss_fn: 20.0500 - val_loss: 0.2357 - val_mse_loss_fn: 0.0375 - val_kl_loss_fn: 19.8563\n",
      "Epoch 31/240\n",
      "489472/499889 [============================>.] - ETA: 0s - loss: 0.2375 - mse_loss_fn: 0.0385 - kl_loss_fn: 19.9398\n",
      "Epoch 00031: val_loss did not improve from 0.23570\n",
      "499889/499889 [==============================] - 1s 3us/sample - loss: 0.2374 - mse_loss_fn: 0.0384 - kl_loss_fn: 19.9387 - val_loss: 0.2357 - val_mse_loss_fn: 0.0386 - val_kl_loss_fn: 19.7520\n",
      "Epoch 32/240\n",
      "490496/499889 [============================>.] - ETA: 0s - loss: 0.2352 - mse_loss_fn: 0.0373 - kl_loss_fn: 19.8281\n",
      "Epoch 00032: val_loss did not improve from 0.23570\n",
      "499889/499889 [==============================] - 1s 3us/sample - loss: 0.2353 - mse_loss_fn: 0.0374 - kl_loss_fn: 19.8270 - val_loss: 0.2747 - val_mse_loss_fn: 0.0799 - val_kl_loss_fn: 19.5582\n",
      "Epoch 33/240\n",
      "496640/499889 [============================>.] - ETA: 0s - loss: 0.2362 - mse_loss_fn: 0.0393 - kl_loss_fn: 19.7332\n",
      "Epoch 00033: val_loss improved from 0.23570 to 0.23301, saving model to outputs/models/cVAEz6_03-27-2023/cbvae_LHCO2020_20d_e-6.hdf5\n",
      "499889/499889 [==============================] - 1s 3us/sample - loss: 0.2362 - mse_loss_fn: 0.0392 - kl_loss_fn: 19.7327 - val_loss: 0.2330 - val_mse_loss_fn: 0.0387 - val_kl_loss_fn: 19.4685\n",
      "Epoch 34/240\n",
      "492544/499889 [============================>.] - ETA: 0s - loss: 0.2338 - mse_loss_fn: 0.0378 - kl_loss_fn: 19.6430\n",
      "Epoch 00034: val_loss did not improve from 0.23301\n",
      "499889/499889 [==============================] - 1s 3us/sample - loss: 0.2338 - mse_loss_fn: 0.0377 - kl_loss_fn: 19.6425 - val_loss: 0.2529 - val_mse_loss_fn: 0.0590 - val_kl_loss_fn: 19.4510\n",
      "Epoch 35/240\n",
      "490496/499889 [============================>.] - ETA: 0s - loss: 0.2332 - mse_loss_fn: 0.0381 - kl_loss_fn: 19.5540\n",
      "Epoch 00035: val_loss did not improve from 0.23301\n",
      "499889/499889 [==============================] - 1s 3us/sample - loss: 0.2332 - mse_loss_fn: 0.0380 - kl_loss_fn: 19.5535 - val_loss: 0.3126 - val_mse_loss_fn: 0.1206 - val_kl_loss_fn: 19.3227\n",
      "Epoch 36/240\n",
      "498688/499889 [============================>.] - ETA: 0s - loss: 0.2341 - mse_loss_fn: 0.0397 - kl_loss_fn: 19.4789\n",
      "Epoch 00036: val_loss did not improve from 0.23301\n",
      "499889/499889 [==============================] - 1s 3us/sample - loss: 0.2341 - mse_loss_fn: 0.0396 - kl_loss_fn: 19.4789 - val_loss: 0.2375 - val_mse_loss_fn: 0.0447 - val_kl_loss_fn: 19.3204\n",
      "Epoch 37/240\n",
      "498688/499889 [============================>.] - ETA: 0s - loss: 0.2307 - mse_loss_fn: 0.0370 - kl_loss_fn: 19.4023\n",
      "Epoch 00037: val_loss improved from 0.23301 to 0.22927, saving model to outputs/models/cVAEz6_03-27-2023/cbvae_LHCO2020_20d_e-6.hdf5\n",
      "499889/499889 [==============================] - 1s 3us/sample - loss: 0.2307 - mse_loss_fn: 0.0370 - kl_loss_fn: 19.4018 - val_loss: 0.2293 - val_mse_loss_fn: 0.0381 - val_kl_loss_fn: 19.1589\n",
      "Epoch 38/240\n",
      "497664/499889 [============================>.] - ETA: 0s - loss: 0.2293 - mse_loss_fn: 0.0363 - kl_loss_fn: 19.3343\n",
      "Epoch 00038: val_loss did not improve from 0.22927\n",
      "499889/499889 [==============================] - 1s 3us/sample - loss: 0.2293 - mse_loss_fn: 0.0362 - kl_loss_fn: 19.3345 - val_loss: 0.2471 - val_mse_loss_fn: 0.0558 - val_kl_loss_fn: 19.1913\n",
      "Epoch 39/240\n",
      "496640/499889 [============================>.] - ETA: 0s - loss: 0.2302 - mse_loss_fn: 0.0380 - kl_loss_fn: 19.2559\n",
      "Epoch 00039: val_loss improved from 0.22927 to 0.22748, saving model to outputs/models/cVAEz6_03-27-2023/cbvae_LHCO2020_20d_e-6.hdf5\n",
      "499889/499889 [==============================] - 1s 3us/sample - loss: 0.2301 - mse_loss_fn: 0.0379 - kl_loss_fn: 19.2559 - val_loss: 0.2275 - val_mse_loss_fn: 0.0373 - val_kl_loss_fn: 19.0599\n",
      "Epoch 40/240\n",
      "492544/499889 [============================>.] - ETA: 0s - loss: 0.2279 - mse_loss_fn: 0.0362 - kl_loss_fn: 19.1972\n",
      "Epoch 00040: val_loss did not improve from 0.22748\n",
      "499889/499889 [==============================] - 1s 3us/sample - loss: 0.2278 - mse_loss_fn: 0.0362 - kl_loss_fn: 19.1965 - val_loss: 0.2365 - val_mse_loss_fn: 0.0474 - val_kl_loss_fn: 18.9614\n",
      "Epoch 41/240\n",
      "481280/499889 [===========================>..] - ETA: 0s - loss: 0.2278 - mse_loss_fn: 0.0369 - kl_loss_fn: 19.1220\n",
      "Epoch 00041: val_loss did not improve from 0.22748\n",
      "499889/499889 [==============================] - 1s 3us/sample - loss: 0.2277 - mse_loss_fn: 0.0368 - kl_loss_fn: 19.1207 - val_loss: 0.2285 - val_mse_loss_fn: 0.0391 - val_kl_loss_fn: 18.9752\n",
      "Epoch 42/240\n",
      "498688/499889 [============================>.] - ETA: 0s - loss: 0.2267 - mse_loss_fn: 0.0365 - kl_loss_fn: 19.0553\n",
      "Epoch 00042: val_loss did not improve from 0.22748\n",
      "499889/499889 [==============================] - 1s 3us/sample - loss: 0.2267 - mse_loss_fn: 0.0364 - kl_loss_fn: 19.0551 - val_loss: 0.2292 - val_mse_loss_fn: 0.0403 - val_kl_loss_fn: 18.9337\n",
      "Epoch 43/240\n",
      "481280/499889 [===========================>..] - ETA: 0s - loss: 0.2260 - mse_loss_fn: 0.0365 - kl_loss_fn: 18.9932\n",
      "Epoch 00043: val_loss did not improve from 0.22748\n",
      "499889/499889 [==============================] - 1s 3us/sample - loss: 0.2262 - mse_loss_fn: 0.0366 - kl_loss_fn: 18.9925 - val_loss: 0.2985 - val_mse_loss_fn: 0.1107 - val_kl_loss_fn: 18.8884\n",
      "Epoch 44/240\n",
      "480256/499889 [===========================>..] - ETA: 0s - loss: 0.2267 - mse_loss_fn: 0.0378 - kl_loss_fn: 18.9259\n",
      "Epoch 00044: val_loss did not improve from 0.22748\n",
      "499889/499889 [==============================] - 1s 3us/sample - loss: 0.2266 - mse_loss_fn: 0.0377 - kl_loss_fn: 18.9246 - val_loss: 0.2424 - val_mse_loss_fn: 0.0549 - val_kl_loss_fn: 18.8072\n",
      "Epoch 45/240\n",
      "477184/499889 [===========================>..] - ETA: 0s - loss: 0.2241 - mse_loss_fn: 0.0358 - kl_loss_fn: 18.8636\n",
      "Epoch 00045: val_loss did not improve from 0.22748\n",
      "499889/499889 [==============================] - 1s 3us/sample - loss: 0.2241 - mse_loss_fn: 0.0358 - kl_loss_fn: 18.8627 - val_loss: 0.2288 - val_mse_loss_fn: 0.0424 - val_kl_loss_fn: 18.6860\n",
      "Epoch 46/240\n",
      "494592/499889 [============================>.] - ETA: 0s - loss: 0.2237 - mse_loss_fn: 0.0360 - kl_loss_fn: 18.8041\n",
      "Epoch 00046: val_loss improved from 0.22748 to 0.22205, saving model to outputs/models/cVAEz6_03-27-2023/cbvae_LHCO2020_20d_e-6.hdf5\n",
      "499889/499889 [==============================] - 1s 3us/sample - loss: 0.2236 - mse_loss_fn: 0.0359 - kl_loss_fn: 18.8041 - val_loss: 0.2221 - val_mse_loss_fn: 0.0360 - val_kl_loss_fn: 18.6374\n",
      "Epoch 47/240\n",
      "498688/499889 [============================>.] - ETA: 0s - loss: 0.2232 - mse_loss_fn: 0.0360 - kl_loss_fn: 18.7500\n",
      "Epoch 00047: val_loss did not improve from 0.22205\n",
      "499889/499889 [==============================] - 1s 3us/sample - loss: 0.2232 - mse_loss_fn: 0.0360 - kl_loss_fn: 18.7501 - val_loss: 0.2400 - val_mse_loss_fn: 0.0549 - val_kl_loss_fn: 18.5571\n",
      "Epoch 48/240\n",
      "497664/499889 [============================>.] - ETA: 0s - loss: 0.2235 - mse_loss_fn: 0.0370 - kl_loss_fn: 18.6930\n",
      "Epoch 00048: val_loss did not improve from 0.22205\n",
      "499889/499889 [==============================] - 1s 3us/sample - loss: 0.2235 - mse_loss_fn: 0.0369 - kl_loss_fn: 18.6930 - val_loss: 0.2335 - val_mse_loss_fn: 0.0486 - val_kl_loss_fn: 18.5318\n",
      "Epoch 49/240\n",
      "495616/499889 [============================>.] - ETA: 0s - loss: 0.2218 - mse_loss_fn: 0.0358 - kl_loss_fn: 18.6391\n",
      "Epoch 00049: val_loss did not improve from 0.22205\n",
      "499889/499889 [==============================] - 1s 3us/sample - loss: 0.2218 - mse_loss_fn: 0.0357 - kl_loss_fn: 18.6388 - val_loss: 0.2284 - val_mse_loss_fn: 0.0444 - val_kl_loss_fn: 18.4442\n",
      "Epoch 50/240\n",
      "497664/499889 [============================>.] - ETA: 0s - loss: 0.2214 - mse_loss_fn: 0.0359 - kl_loss_fn: 18.5850\n",
      "Epoch 00050: val_loss improved from 0.22205 to 0.22041, saving model to outputs/models/cVAEz6_03-27-2023/cbvae_LHCO2020_20d_e-6.hdf5\n",
      "499889/499889 [==============================] - 1s 3us/sample - loss: 0.2214 - mse_loss_fn: 0.0359 - kl_loss_fn: 18.5850 - val_loss: 0.2204 - val_mse_loss_fn: 0.0366 - val_kl_loss_fn: 18.4128\n",
      "Epoch 51/240\n",
      "492544/499889 [============================>.] - ETA: 0s - loss: 0.2205 - mse_loss_fn: 0.0354 - kl_loss_fn: 18.5405\n",
      "Epoch 00051: val_loss did not improve from 0.22041\n",
      "499889/499889 [==============================] - 1s 3us/sample - loss: 0.2205 - mse_loss_fn: 0.0354 - kl_loss_fn: 18.5399 - val_loss: 0.2581 - val_mse_loss_fn: 0.0746 - val_kl_loss_fn: 18.4276\n",
      "Epoch 52/240\n",
      "493568/499889 [============================>.] - ETA: 0s - loss: 0.2205 - mse_loss_fn: 0.0360 - kl_loss_fn: 18.4895\n",
      "Epoch 00052: val_loss did not improve from 0.22041\n",
      "499889/499889 [==============================] - 1s 3us/sample - loss: 0.2205 - mse_loss_fn: 0.0359 - kl_loss_fn: 18.4889 - val_loss: 0.2313 - val_mse_loss_fn: 0.0483 - val_kl_loss_fn: 18.3511\n",
      "Epoch 53/240\n",
      "494592/499889 [============================>.] - ETA: 0s - loss: 0.2199 - mse_loss_fn: 0.0358 - kl_loss_fn: 18.4450\n",
      "Epoch 00053: val_loss did not improve from 0.22041\n",
      "499889/499889 [==============================] - 1s 3us/sample - loss: 0.2199 - mse_loss_fn: 0.0358 - kl_loss_fn: 18.4443 - val_loss: 0.2212 - val_mse_loss_fn: 0.0395 - val_kl_loss_fn: 18.2120\n",
      "Epoch 54/240\n",
      "495616/499889 [============================>.] - ETA: 0s - loss: 0.2187 - mse_loss_fn: 0.0350 - kl_loss_fn: 18.4027\n",
      "Epoch 00054: val_loss did not improve from 0.22041\n",
      "499889/499889 [==============================] - 1s 3us/sample - loss: 0.2187 - mse_loss_fn: 0.0350 - kl_loss_fn: 18.4021 - val_loss: 0.2343 - val_mse_loss_fn: 0.0523 - val_kl_loss_fn: 18.2516\n",
      "Epoch 55/240\n",
      "495616/499889 [============================>.] - ETA: 0s - loss: 0.2190 - mse_loss_fn: 0.0357 - kl_loss_fn: 18.3631\n",
      "Epoch 00055: val_loss did not improve from 0.22041\n",
      "499889/499889 [==============================] - 1s 3us/sample - loss: 0.2190 - mse_loss_fn: 0.0357 - kl_loss_fn: 18.3627 - val_loss: 0.2270 - val_mse_loss_fn: 0.0454 - val_kl_loss_fn: 18.1967\n",
      "Epoch 56/240\n",
      "495616/499889 [============================>.] - ETA: 0s - loss: 0.2183 - mse_loss_fn: 0.0354 - kl_loss_fn: 18.3282\n",
      "Epoch 00056: val_loss did not improve from 0.22041\n",
      "499889/499889 [==============================] - 1s 3us/sample - loss: 0.2183 - mse_loss_fn: 0.0353 - kl_loss_fn: 18.3280 - val_loss: 0.2236 - val_mse_loss_fn: 0.0425 - val_kl_loss_fn: 18.1481\n",
      "Epoch 57/240\n",
      "497664/499889 [============================>.] - ETA: 0s - loss: 0.2179 - mse_loss_fn: 0.0353 - kl_loss_fn: 18.2927\n",
      "Epoch 00057: val_loss did not improve from 0.22041\n",
      "499889/499889 [==============================] - 1s 3us/sample - loss: 0.2179 - mse_loss_fn: 0.0352 - kl_loss_fn: 18.2927 - val_loss: 0.2315 - val_mse_loss_fn: 0.0505 - val_kl_loss_fn: 18.1514\n",
      "Epoch 58/240\n",
      "497664/499889 [============================>.] - ETA: 0s - loss: 0.2180 - mse_loss_fn: 0.0358 - kl_loss_fn: 18.2648\n",
      "Epoch 00058: val_loss improved from 0.22041 to 0.21644, saving model to outputs/models/cVAEz6_03-27-2023/cbvae_LHCO2020_20d_e-6.hdf5\n",
      "499889/499889 [==============================] - 1s 3us/sample - loss: 0.2180 - mse_loss_fn: 0.0357 - kl_loss_fn: 18.2641 - val_loss: 0.2164 - val_mse_loss_fn: 0.0369 - val_kl_loss_fn: 17.9935\n",
      "Epoch 59/240\n",
      "499712/499889 [============================>.] - ETA: 0s - loss: 0.2172 - mse_loss_fn: 0.0352 - kl_loss_fn: 18.2379\n",
      "Epoch 00059: val_loss did not improve from 0.21644\n",
      "499889/499889 [==============================] - 1s 3us/sample - loss: 0.2172 - mse_loss_fn: 0.0352 - kl_loss_fn: 18.2379 - val_loss: 0.2249 - val_mse_loss_fn: 0.0443 - val_kl_loss_fn: 18.1034\n",
      "Epoch 60/240\n",
      "478208/499889 [===========================>..] - ETA: 0s - loss: 0.2171 - mse_loss_fn: 0.0353 - kl_loss_fn: 18.2100\n",
      "Epoch 00060: val_loss did not improve from 0.21644\n",
      "499889/499889 [==============================] - 1s 3us/sample - loss: 0.2170 - mse_loss_fn: 0.0352 - kl_loss_fn: 18.2104 - val_loss: 0.2254 - val_mse_loss_fn: 0.0458 - val_kl_loss_fn: 18.0094\n",
      "Epoch 61/240\n",
      "481280/499889 [===========================>..] - ETA: 0s - loss: 0.2165 - mse_loss_fn: 0.0350 - kl_loss_fn: 18.1914\n",
      "Epoch 00061: val_loss did not improve from 0.21644\n",
      "499889/499889 [==============================] - 1s 3us/sample - loss: 0.2164 - mse_loss_fn: 0.0348 - kl_loss_fn: 18.1901 - val_loss: 0.2218 - val_mse_loss_fn: 0.0418 - val_kl_loss_fn: 18.0470\n",
      "Epoch 62/240\n",
      "482304/499889 [===========================>..] - ETA: 0s - loss: 0.2170 - mse_loss_fn: 0.0356 - kl_loss_fn: 18.1729\n",
      "Epoch 00062: val_loss did not improve from 0.21644\n",
      "499889/499889 [==============================] - 1s 3us/sample - loss: 0.2170 - mse_loss_fn: 0.0356 - kl_loss_fn: 18.1727 - val_loss: 0.2189 - val_mse_loss_fn: 0.0394 - val_kl_loss_fn: 17.9878\n",
      "Epoch 63/240\n",
      "480256/499889 [===========================>..] - ETA: 0s - loss: 0.2162 - mse_loss_fn: 0.0350 - kl_loss_fn: 18.1514\n",
      "Epoch 00063: val_loss did not improve from 0.21644\n",
      "499889/499889 [==============================] - 1s 3us/sample - loss: 0.2163 - mse_loss_fn: 0.0351 - kl_loss_fn: 18.1514 - val_loss: 0.2198 - val_mse_loss_fn: 0.0412 - val_kl_loss_fn: 17.9061\n",
      "Epoch 64/240\n",
      "499889/499889 [==============================] - ETA: 0s - loss: 0.2156 - mse_loss_fn: 0.0346 - kl_loss_fn: 18.1341\n",
      "Epoch 00064: val_loss improved from 0.21644 to 0.21541, saving model to outputs/models/cVAEz6_03-27-2023/cbvae_LHCO2020_20d_e-6.hdf5\n",
      "499889/499889 [==============================] - 1s 3us/sample - loss: 0.2156 - mse_loss_fn: 0.0346 - kl_loss_fn: 18.1341 - val_loss: 0.2154 - val_mse_loss_fn: 0.0360 - val_kl_loss_fn: 17.9799\n",
      "Epoch 65/240\n",
      "496640/499889 [============================>.] - ETA: 0s - loss: 0.2153 - mse_loss_fn: 0.0344 - kl_loss_fn: 18.1240\n",
      "Epoch 00065: val_loss did not improve from 0.21541\n",
      "499889/499889 [==============================] - 1s 3us/sample - loss: 0.2153 - mse_loss_fn: 0.0344 - kl_loss_fn: 18.1241 - val_loss: 0.2281 - val_mse_loss_fn: 0.0490 - val_kl_loss_fn: 17.9648\n",
      "Epoch 66/240\n",
      "478208/499889 [===========================>..] - ETA: 0s - loss: 0.2164 - mse_loss_fn: 0.0357 - kl_loss_fn: 18.1077\n",
      "Epoch 00066: val_loss did not improve from 0.21541\n",
      "499889/499889 [==============================] - 1s 3us/sample - loss: 0.2163 - mse_loss_fn: 0.0355 - kl_loss_fn: 18.1072 - val_loss: 0.2212 - val_mse_loss_fn: 0.0419 - val_kl_loss_fn: 17.9650\n",
      "Epoch 67/240\n",
      "483328/499889 [============================>.] - ETA: 0s - loss: 0.2161 - mse_loss_fn: 0.0355 - kl_loss_fn: 18.0969\n",
      "Epoch 00067: val_loss did not improve from 0.21541\n",
      "499889/499889 [==============================] - 1s 3us/sample - loss: 0.2160 - mse_loss_fn: 0.0354 - kl_loss_fn: 18.0969 - val_loss: 0.2169 - val_mse_loss_fn: 0.0378 - val_kl_loss_fn: 17.9452\n",
      "Epoch 68/240\n",
      "479232/499889 [===========================>..] - ETA: 0s - loss: 0.2153 - mse_loss_fn: 0.0348 - kl_loss_fn: 18.0870\n",
      "Epoch 00068: val_loss did not improve from 0.21541\n",
      "499889/499889 [==============================] - 1s 3us/sample - loss: 0.2156 - mse_loss_fn: 0.0350 - kl_loss_fn: 18.0871 - val_loss: 0.2855 - val_mse_loss_fn: 0.1069 - val_kl_loss_fn: 17.9694\n",
      "Epoch 69/240\n",
      "489472/499889 [============================>.] - ETA: 0s - loss: 0.2163 - mse_loss_fn: 0.0359 - kl_loss_fn: 18.0767\n",
      "Epoch 00069: val_loss did not improve from 0.21541\n",
      "499889/499889 [==============================] - 1s 3us/sample - loss: 0.2163 - mse_loss_fn: 0.0358 - kl_loss_fn: 18.0761 - val_loss: 0.2591 - val_mse_loss_fn: 0.0815 - val_kl_loss_fn: 17.8450\n",
      "Epoch 70/240\n",
      "497664/499889 [============================>.] - ETA: 0s - loss: 0.2154 - mse_loss_fn: 0.0351 - kl_loss_fn: 18.0662\n",
      "Epoch 00070: val_loss did not improve from 0.21541\n",
      "499889/499889 [==============================] - 1s 3us/sample - loss: 0.2154 - mse_loss_fn: 0.0351 - kl_loss_fn: 18.0660 - val_loss: 0.2230 - val_mse_loss_fn: 0.0448 - val_kl_loss_fn: 17.8647\n",
      "Epoch 71/240\n",
      "486400/499889 [============================>.] - ETA: 0s - loss: 0.2147 - mse_loss_fn: 0.0345 - kl_loss_fn: 18.0530\n",
      "Epoch 00071: val_loss did not improve from 0.21541\n",
      "499889/499889 [==============================] - 1s 3us/sample - loss: 0.2146 - mse_loss_fn: 0.0344 - kl_loss_fn: 18.0530 - val_loss: 0.2256 - val_mse_loss_fn: 0.0477 - val_kl_loss_fn: 17.8465\n",
      "Epoch 72/240\n",
      "482304/499889 [===========================>..] - ETA: 0s - loss: 0.2150 - mse_loss_fn: 0.0349 - kl_loss_fn: 18.0482\n",
      "Epoch 00072: val_loss improved from 0.21541 to 0.21478, saving model to outputs/models/cVAEz6_03-27-2023/cbvae_LHCO2020_20d_e-6.hdf5\n",
      "499889/499889 [==============================] - 1s 3us/sample - loss: 0.2151 - mse_loss_fn: 0.0349 - kl_loss_fn: 18.0480 - val_loss: 0.2148 - val_mse_loss_fn: 0.0365 - val_kl_loss_fn: 17.8602\n",
      "Epoch 73/240\n",
      "478208/499889 [===========================>..] - ETA: 0s - loss: 0.2151 - mse_loss_fn: 0.0349 - kl_loss_fn: 18.0482\n",
      "Epoch 00073: val_loss improved from 0.21478 to 0.21377, saving model to outputs/models/cVAEz6_03-27-2023/cbvae_LHCO2020_20d_e-6.hdf5\n",
      "499889/499889 [==============================] - 1s 3us/sample - loss: 0.2149 - mse_loss_fn: 0.0348 - kl_loss_fn: 18.0484 - val_loss: 0.2138 - val_mse_loss_fn: 0.0346 - val_kl_loss_fn: 17.9508\n",
      "Epoch 74/240\n",
      "489472/499889 [============================>.] - ETA: 0s - loss: 0.2146 - mse_loss_fn: 0.0346 - kl_loss_fn: 18.0347\n",
      "Epoch 00074: val_loss did not improve from 0.21377\n",
      "499889/499889 [==============================] - 1s 3us/sample - loss: 0.2146 - mse_loss_fn: 0.0346 - kl_loss_fn: 18.0349 - val_loss: 0.2447 - val_mse_loss_fn: 0.0663 - val_kl_loss_fn: 17.9050\n",
      "Epoch 75/240\n",
      "478208/499889 [===========================>..] - ETA: 0s - loss: 0.2151 - mse_loss_fn: 0.0352 - kl_loss_fn: 18.0308\n",
      "Epoch 00075: val_loss did not improve from 0.21377\n",
      "499889/499889 [==============================] - 1s 3us/sample - loss: 0.2151 - mse_loss_fn: 0.0351 - kl_loss_fn: 18.0307 - val_loss: 0.2183 - val_mse_loss_fn: 0.0402 - val_kl_loss_fn: 17.8502\n",
      "Epoch 76/240\n",
      "499889/499889 [==============================] - ETA: 0s - loss: 0.2143 - mse_loss_fn: 0.0343 - kl_loss_fn: 18.0265\n",
      "Epoch 00076: val_loss did not improve from 0.21377\n",
      "499889/499889 [==============================] - 1s 3us/sample - loss: 0.2143 - mse_loss_fn: 0.0343 - kl_loss_fn: 18.0265 - val_loss: 0.2352 - val_mse_loss_fn: 0.0566 - val_kl_loss_fn: 17.9173\n",
      "Epoch 77/240\n",
      "478208/499889 [===========================>..] - ETA: 0s - loss: 0.2151 - mse_loss_fn: 0.0353 - kl_loss_fn: 18.0187\n",
      "Epoch 00077: val_loss did not improve from 0.21377\n",
      "499889/499889 [==============================] - 1s 3us/sample - loss: 0.2151 - mse_loss_fn: 0.0352 - kl_loss_fn: 18.0186 - val_loss: 0.2285 - val_mse_loss_fn: 0.0495 - val_kl_loss_fn: 17.9480\n",
      "Epoch 78/240\n",
      "484352/499889 [============================>.] - ETA: 0s - loss: 0.2146 - mse_loss_fn: 0.0348 - kl_loss_fn: 18.0112\n",
      "Epoch 00078: val_loss did not improve from 0.21377\n",
      "499889/499889 [==============================] - 1s 3us/sample - loss: 0.2145 - mse_loss_fn: 0.0347 - kl_loss_fn: 18.0122 - val_loss: 0.2148 - val_mse_loss_fn: 0.0365 - val_kl_loss_fn: 17.8675\n",
      "Epoch 79/240\n",
      "486400/499889 [============================>.] - ETA: 0s - loss: 0.2146 - mse_loss_fn: 0.0347 - kl_loss_fn: 18.0179\n",
      "Epoch 00079: val_loss improved from 0.21377 to 0.21244, saving model to outputs/models/cVAEz6_03-27-2023/cbvae_LHCO2020_20d_e-6.hdf5\n",
      "499889/499889 [==============================] - 1s 3us/sample - loss: 0.2145 - mse_loss_fn: 0.0347 - kl_loss_fn: 18.0168 - val_loss: 0.2124 - val_mse_loss_fn: 0.0341 - val_kl_loss_fn: 17.8681\n",
      "Epoch 80/240\n",
      "491520/499889 [============================>.] - ETA: 0s - loss: 0.2145 - mse_loss_fn: 0.0348 - kl_loss_fn: 18.0125\n",
      "Epoch 00080: val_loss did not improve from 0.21244\n",
      "499889/499889 [==============================] - 1s 3us/sample - loss: 0.2145 - mse_loss_fn: 0.0347 - kl_loss_fn: 18.0122 - val_loss: 0.2161 - val_mse_loss_fn: 0.0380 - val_kl_loss_fn: 17.8456\n",
      "Epoch 81/240\n",
      "491520/499889 [============================>.] - ETA: 0s - loss: 0.2141 - mse_loss_fn: 0.0345 - kl_loss_fn: 17.9988\n",
      "Epoch 00081: val_loss did not improve from 0.21244\n",
      "499889/499889 [==============================] - 1s 3us/sample - loss: 0.2141 - mse_loss_fn: 0.0344 - kl_loss_fn: 17.9986 - val_loss: 0.2301 - val_mse_loss_fn: 0.0526 - val_kl_loss_fn: 17.7993\n",
      "Epoch 82/240\n",
      "490496/499889 [============================>.] - ETA: 0s - loss: 0.2143 - mse_loss_fn: 0.0347 - kl_loss_fn: 17.9973\n",
      "Epoch 00082: val_loss did not improve from 0.21244\n",
      "499889/499889 [==============================] - 1s 3us/sample - loss: 0.2143 - mse_loss_fn: 0.0346 - kl_loss_fn: 17.9979 - val_loss: 0.2219 - val_mse_loss_fn: 0.0442 - val_kl_loss_fn: 17.8094\n",
      "Epoch 83/240\n",
      "496640/499889 [============================>.] - ETA: 0s - loss: 0.2141 - mse_loss_fn: 0.0345 - kl_loss_fn: 17.9942\n",
      "Epoch 00083: val_loss did not improve from 0.21244\n",
      "499889/499889 [==============================] - 1s 3us/sample - loss: 0.2141 - mse_loss_fn: 0.0345 - kl_loss_fn: 17.9947 - val_loss: 0.2228 - val_mse_loss_fn: 0.0450 - val_kl_loss_fn: 17.8251\n",
      "Epoch 84/240\n",
      "494592/499889 [============================>.] - ETA: 0s - loss: 0.2142 - mse_loss_fn: 0.0347 - kl_loss_fn: 17.9851\n",
      "Epoch 00084: val_loss did not improve from 0.21244\n",
      "499889/499889 [==============================] - 1s 3us/sample - loss: 0.2142 - mse_loss_fn: 0.0346 - kl_loss_fn: 17.9852 - val_loss: 0.2373 - val_mse_loss_fn: 0.0600 - val_kl_loss_fn: 17.7818\n",
      "Epoch 85/240\n",
      "494592/499889 [============================>.] - ETA: 0s - loss: 0.2141 - mse_loss_fn: 0.0346 - kl_loss_fn: 17.9815\n",
      "Epoch 00085: val_loss did not improve from 0.21244\n",
      "499889/499889 [==============================] - 1s 3us/sample - loss: 0.2140 - mse_loss_fn: 0.0345 - kl_loss_fn: 17.9815 - val_loss: 0.2335 - val_mse_loss_fn: 0.0554 - val_kl_loss_fn: 17.8682\n",
      "Epoch 86/240\n",
      "499712/499889 [============================>.] - ETA: 0s - loss: 0.2142 - mse_loss_fn: 0.0347 - kl_loss_fn: 17.9763\n",
      "Epoch 00086: val_loss did not improve from 0.21244\n",
      "499889/499889 [==============================] - 1s 3us/sample - loss: 0.2142 - mse_loss_fn: 0.0347 - kl_loss_fn: 17.9762 - val_loss: 0.2401 - val_mse_loss_fn: 0.0626 - val_kl_loss_fn: 17.8205\n",
      "Epoch 87/240\n",
      "491520/499889 [============================>.] - ETA: 0s - loss: 0.2146 - mse_loss_fn: 0.0351 - kl_loss_fn: 17.9815\n",
      "Epoch 00087: val_loss did not improve from 0.21244\n",
      "499889/499889 [==============================] - 1s 3us/sample - loss: 0.2146 - mse_loss_fn: 0.0350 - kl_loss_fn: 17.9818 - val_loss: 0.2217 - val_mse_loss_fn: 0.0438 - val_kl_loss_fn: 17.8375\n",
      "Epoch 88/240\n",
      "499712/499889 [============================>.] - ETA: 0s - loss: 0.2136 - mse_loss_fn: 0.0342 - kl_loss_fn: 17.9713\n",
      "Epoch 00088: val_loss did not improve from 0.21244\n",
      "499889/499889 [==============================] - 1s 3us/sample - loss: 0.2136 - mse_loss_fn: 0.0341 - kl_loss_fn: 17.9713 - val_loss: 0.2329 - val_mse_loss_fn: 0.0545 - val_kl_loss_fn: 17.8938\n",
      "Epoch 89/240\n",
      "496640/499889 [============================>.] - ETA: 0s - loss: 0.2140 - mse_loss_fn: 0.0347 - kl_loss_fn: 17.9658\n",
      "Epoch 00089: val_loss did not improve from 0.21244\n",
      "499889/499889 [==============================] - 1s 3us/sample - loss: 0.2140 - mse_loss_fn: 0.0347 - kl_loss_fn: 17.9659 - val_loss: 0.2384 - val_mse_loss_fn: 0.0610 - val_kl_loss_fn: 17.8043\n",
      "Epoch 90/240\n",
      "494592/499889 [============================>.] - ETA: 0s - loss: 0.2142 - mse_loss_fn: 0.0349 - kl_loss_fn: 17.9628\n",
      "Epoch 00090: val_loss did not improve from 0.21244\n",
      "499889/499889 [==============================] - 1s 3us/sample - loss: 0.2142 - mse_loss_fn: 0.0348 - kl_loss_fn: 17.9633 - val_loss: 0.2391 - val_mse_loss_fn: 0.0618 - val_kl_loss_fn: 17.7904\n",
      "Epoch 91/240\n",
      "496640/499889 [============================>.] - ETA: 0s - loss: 0.2142 - mse_loss_fn: 0.0349 - kl_loss_fn: 17.9619\n",
      "Epoch 00091: val_loss did not improve from 0.21244\n",
      "499889/499889 [==============================] - 1s 3us/sample - loss: 0.2141 - mse_loss_fn: 0.0348 - kl_loss_fn: 17.9622 - val_loss: 0.2209 - val_mse_loss_fn: 0.0435 - val_kl_loss_fn: 17.7899\n",
      "Epoch 92/240\n",
      "491520/499889 [============================>.] - ETA: 0s - loss: 0.2134 - mse_loss_fn: 0.0341 - kl_loss_fn: 17.9597\n",
      "Epoch 00092: val_loss did not improve from 0.21244\n",
      "499889/499889 [==============================] - 1s 3us/sample - loss: 0.2134 - mse_loss_fn: 0.0341 - kl_loss_fn: 17.9589 - val_loss: 0.2152 - val_mse_loss_fn: 0.0378 - val_kl_loss_fn: 17.7865\n",
      "Epoch 93/240\n",
      "491520/499889 [============================>.] - ETA: 0s - loss: 0.2134 - mse_loss_fn: 0.0342 - kl_loss_fn: 17.9527\n",
      "Epoch 00093: val_loss did not improve from 0.21244\n",
      "499889/499889 [==============================] - 1s 3us/sample - loss: 0.2134 - mse_loss_fn: 0.0342 - kl_loss_fn: 17.9529 - val_loss: 0.2285 - val_mse_loss_fn: 0.0508 - val_kl_loss_fn: 17.8294\n",
      "Epoch 94/240\n",
      "492544/499889 [============================>.] - ETA: 0s - loss: 0.2141 - mse_loss_fn: 0.0349 - kl_loss_fn: 17.9554\n",
      "Epoch 00094: val_loss did not improve from 0.21244\n",
      "499889/499889 [==============================] - 1s 3us/sample - loss: 0.2141 - mse_loss_fn: 0.0348 - kl_loss_fn: 17.9560 - val_loss: 0.2464 - val_mse_loss_fn: 0.0692 - val_kl_loss_fn: 17.7875\n",
      "Epoch 95/240\n",
      "496640/499889 [============================>.] - ETA: 0s - loss: 0.2139 - mse_loss_fn: 0.0348 - kl_loss_fn: 17.9501\n",
      "Epoch 00095: val_loss did not improve from 0.21244\n",
      "499889/499889 [==============================] - 1s 3us/sample - loss: 0.2139 - mse_loss_fn: 0.0347 - kl_loss_fn: 17.9499 - val_loss: 0.2470 - val_mse_loss_fn: 0.0693 - val_kl_loss_fn: 17.8422\n",
      "Epoch 96/240\n",
      "494592/499889 [============================>.] - ETA: 0s - loss: 0.2138 - mse_loss_fn: 0.0346 - kl_loss_fn: 17.9546\n",
      "Epoch 00096: val_loss did not improve from 0.21244\n",
      "499889/499889 [==============================] - 1s 3us/sample - loss: 0.2138 - mse_loss_fn: 0.0346 - kl_loss_fn: 17.9543 - val_loss: 0.2162 - val_mse_loss_fn: 0.0390 - val_kl_loss_fn: 17.7607\n",
      "Epoch 97/240\n",
      "492544/499889 [============================>.] - ETA: 0s - loss: 0.2132 - mse_loss_fn: 0.0341 - kl_loss_fn: 17.9446\n",
      "Epoch 00097: val_loss did not improve from 0.21244\n",
      "499889/499889 [==============================] - 1s 3us/sample - loss: 0.2132 - mse_loss_fn: 0.0340 - kl_loss_fn: 17.9448 - val_loss: 0.2168 - val_mse_loss_fn: 0.0388 - val_kl_loss_fn: 17.8419\n",
      "Epoch 98/240\n",
      "492544/499889 [============================>.] - ETA: 0s - loss: 0.2136 - mse_loss_fn: 0.0346 - kl_loss_fn: 17.9394\n",
      "Epoch 00098: val_loss did not improve from 0.21244\n",
      "499889/499889 [==============================] - 1s 3us/sample - loss: 0.2136 - mse_loss_fn: 0.0345 - kl_loss_fn: 17.9396 - val_loss: 0.2283 - val_mse_loss_fn: 0.0510 - val_kl_loss_fn: 17.7805\n",
      "Epoch 99/240\n",
      "496640/499889 [============================>.] - ETA: 0s - loss: 0.2134 - mse_loss_fn: 0.0344 - kl_loss_fn: 17.9391\n",
      "Epoch 00099: val_loss did not improve from 0.21244\n",
      "499889/499889 [==============================] - 1s 3us/sample - loss: 0.2134 - mse_loss_fn: 0.0343 - kl_loss_fn: 17.9388 - val_loss: 0.2206 - val_mse_loss_fn: 0.0436 - val_kl_loss_fn: 17.7481\n",
      "Epoch 100/240\n",
      "489472/499889 [============================>.] - ETA: 0s - loss: 0.2135 - mse_loss_fn: 0.0345 - kl_loss_fn: 17.9379\n",
      "Epoch 00100: val_loss did not improve from 0.21244\n",
      "499889/499889 [==============================] - 1s 3us/sample - loss: 0.2135 - mse_loss_fn: 0.0345 - kl_loss_fn: 17.9381 - val_loss: 0.2149 - val_mse_loss_fn: 0.0370 - val_kl_loss_fn: 17.8235\n",
      "Epoch 101/240\n",
      "491520/499889 [============================>.] - ETA: 0s - loss: 0.2133 - mse_loss_fn: 0.0343 - kl_loss_fn: 17.9352\n",
      "Epoch 00101: val_loss did not improve from 0.21244\n",
      "499889/499889 [==============================] - 1s 3us/sample - loss: 0.2133 - mse_loss_fn: 0.0342 - kl_loss_fn: 17.9359 - val_loss: 0.2167 - val_mse_loss_fn: 0.0393 - val_kl_loss_fn: 17.7816\n",
      "Epoch 102/240\n",
      "491520/499889 [============================>.] - ETA: 0s - loss: 0.2131 - mse_loss_fn: 0.0342 - kl_loss_fn: 17.9283\n",
      "Epoch 00102: val_loss did not improve from 0.21244\n",
      "499889/499889 [==============================] - 1s 3us/sample - loss: 0.2131 - mse_loss_fn: 0.0341 - kl_loss_fn: 17.9281 - val_loss: 0.2318 - val_mse_loss_fn: 0.0546 - val_kl_loss_fn: 17.7704\n",
      "Epoch 103/240\n",
      "491520/499889 [============================>.] - ETA: 0s - loss: 0.2136 - mse_loss_fn: 0.0347 - kl_loss_fn: 17.9241\n",
      "Epoch 00103: val_loss did not improve from 0.21244\n",
      "499889/499889 [==============================] - 1s 3us/sample - loss: 0.2136 - mse_loss_fn: 0.0347 - kl_loss_fn: 17.9242 - val_loss: 0.2237 - val_mse_loss_fn: 0.0466 - val_kl_loss_fn: 17.7496\n",
      "Epoch 104/240\n",
      "492544/499889 [============================>.] - ETA: 0s - loss: 0.2130 - mse_loss_fn: 0.0341 - kl_loss_fn: 17.9232\n",
      "Epoch 00104: val_loss did not improve from 0.21244\n",
      "499889/499889 [==============================] - 1s 3us/sample - loss: 0.2130 - mse_loss_fn: 0.0340 - kl_loss_fn: 17.9229 - val_loss: 0.2226 - val_mse_loss_fn: 0.0446 - val_kl_loss_fn: 17.8429\n",
      "Epoch 105/240\n",
      "492544/499889 [============================>.] - ETA: 0s - loss: 0.2131 - mse_loss_fn: 0.0342 - kl_loss_fn: 17.9217\n",
      "Epoch 00105: val_loss did not improve from 0.21244\n",
      "499889/499889 [==============================] - 1s 3us/sample - loss: 0.2131 - mse_loss_fn: 0.0342 - kl_loss_fn: 17.9220 - val_loss: 0.2228 - val_mse_loss_fn: 0.0455 - val_kl_loss_fn: 17.7782\n",
      "Epoch 106/240\n",
      "492544/499889 [============================>.] - ETA: 0s - loss: 0.2132 - mse_loss_fn: 0.0344 - kl_loss_fn: 17.9115\n",
      "Epoch 00106: val_loss did not improve from 0.21244\n",
      "499889/499889 [==============================] - 1s 3us/sample - loss: 0.2132 - mse_loss_fn: 0.0344 - kl_loss_fn: 17.9115 - val_loss: 0.2256 - val_mse_loss_fn: 0.0481 - val_kl_loss_fn: 17.7936\n",
      "Epoch 107/240\n",
      "495616/499889 [============================>.] - ETA: 0s - loss: 0.2129 - mse_loss_fn: 0.0341 - kl_loss_fn: 17.9094\n",
      "Epoch 00107: val_loss did not improve from 0.21244\n",
      "499889/499889 [==============================] - 1s 3us/sample - loss: 0.2129 - mse_loss_fn: 0.0341 - kl_loss_fn: 17.9089 - val_loss: 0.2181 - val_mse_loss_fn: 0.0406 - val_kl_loss_fn: 17.7835\n",
      "Epoch 108/240\n",
      "493568/499889 [============================>.] - ETA: 0s - loss: 0.2129 - mse_loss_fn: 0.0341 - kl_loss_fn: 17.9167\n",
      "Epoch 00108: val_loss did not improve from 0.21244\n",
      "499889/499889 [==============================] - 1s 3us/sample - loss: 0.2129 - mse_loss_fn: 0.0340 - kl_loss_fn: 17.9158 - val_loss: 0.2166 - val_mse_loss_fn: 0.0400 - val_kl_loss_fn: 17.7041\n",
      "Epoch 109/240\n",
      "493568/499889 [============================>.] - ETA: 0s - loss: 0.2131 - mse_loss_fn: 0.0344 - kl_loss_fn: 17.9081\n",
      "Epoch 00109: val_loss did not improve from 0.21244\n",
      "499889/499889 [==============================] - 1s 3us/sample - loss: 0.2131 - mse_loss_fn: 0.0343 - kl_loss_fn: 17.9091 - val_loss: 0.2319 - val_mse_loss_fn: 0.0552 - val_kl_loss_fn: 17.7232\n",
      "Epoch 110/240\n",
      "480256/499889 [===========================>..] - ETA: 0s - loss: 0.2131 - mse_loss_fn: 0.0344 - kl_loss_fn: 17.9023\n",
      "Epoch 00110: val_loss did not improve from 0.21244\n",
      "499889/499889 [==============================] - 1s 3us/sample - loss: 0.2131 - mse_loss_fn: 0.0343 - kl_loss_fn: 17.9017 - val_loss: 0.2159 - val_mse_loss_fn: 0.0386 - val_kl_loss_fn: 17.7722\n",
      "Epoch 111/240\n",
      "489472/499889 [============================>.] - ETA: 0s - loss: 0.2126 - mse_loss_fn: 0.0339 - kl_loss_fn: 17.9045\n",
      "Epoch 00111: val_loss did not improve from 0.21244\n",
      "499889/499889 [==============================] - 1s 3us/sample - loss: 0.2126 - mse_loss_fn: 0.0339 - kl_loss_fn: 17.9053 - val_loss: 0.2385 - val_mse_loss_fn: 0.0607 - val_kl_loss_fn: 17.8356\n",
      "Epoch 112/240\n",
      "476160/499889 [===========================>..] - ETA: 0s - loss: 0.2134 - mse_loss_fn: 0.0347 - kl_loss_fn: 17.9051\n",
      "Epoch 00112: val_loss did not improve from 0.21244\n",
      "499889/499889 [==============================] - 1s 3us/sample - loss: 0.2134 - mse_loss_fn: 0.0346 - kl_loss_fn: 17.9053 - val_loss: 0.2142 - val_mse_loss_fn: 0.0370 - val_kl_loss_fn: 17.7577\n",
      "Epoch 113/240\n",
      "487424/499889 [============================>.] - ETA: 0s - loss: 0.2129 - mse_loss_fn: 0.0342 - kl_loss_fn: 17.9021\n",
      "Epoch 00113: val_loss did not improve from 0.21244\n",
      "499889/499889 [==============================] - 1s 3us/sample - loss: 0.2128 - mse_loss_fn: 0.0341 - kl_loss_fn: 17.9029 - val_loss: 0.2163 - val_mse_loss_fn: 0.0389 - val_kl_loss_fn: 17.7802\n",
      "Epoch 114/240\n",
      "492544/499889 [============================>.] - ETA: 0s - loss: 0.2126 - mse_loss_fn: 0.0339 - kl_loss_fn: 17.8999\n",
      "Epoch 00114: val_loss improved from 0.21244 to 0.21210, saving model to outputs/models/cVAEz6_03-27-2023/cbvae_LHCO2020_20d_e-6.hdf5\n",
      "499889/499889 [==============================] - 1s 3us/sample - loss: 0.2126 - mse_loss_fn: 0.0339 - kl_loss_fn: 17.9002 - val_loss: 0.2121 - val_mse_loss_fn: 0.0345 - val_kl_loss_fn: 17.7976\n",
      "Epoch 115/240\n",
      "494592/499889 [============================>.] - ETA: 0s - loss: 0.2128 - mse_loss_fn: 0.0341 - kl_loss_fn: 17.8990\n",
      "Epoch 00115: val_loss did not improve from 0.21210\n",
      "499889/499889 [==============================] - 1s 3us/sample - loss: 0.2128 - mse_loss_fn: 0.0341 - kl_loss_fn: 17.8988 - val_loss: 0.2161 - val_mse_loss_fn: 0.0395 - val_kl_loss_fn: 17.7011\n",
      "Epoch 116/240\n",
      "494592/499889 [============================>.] - ETA: 0s - loss: 0.2131 - mse_loss_fn: 0.0345 - kl_loss_fn: 17.8983\n",
      "Epoch 00116: val_loss did not improve from 0.21210\n",
      "499889/499889 [==============================] - 1s 3us/sample - loss: 0.2131 - mse_loss_fn: 0.0344 - kl_loss_fn: 17.8979 - val_loss: 0.2146 - val_mse_loss_fn: 0.0377 - val_kl_loss_fn: 17.7259\n",
      "Epoch 117/240\n",
      "493568/499889 [============================>.] - ETA: 0s - loss: 0.2126 - mse_loss_fn: 0.0340 - kl_loss_fn: 17.8942\n",
      "Epoch 00117: val_loss did not improve from 0.21210\n",
      "499889/499889 [==============================] - 1s 3us/sample - loss: 0.2126 - mse_loss_fn: 0.0340 - kl_loss_fn: 17.8949 - val_loss: 0.2200 - val_mse_loss_fn: 0.0428 - val_kl_loss_fn: 17.7651\n",
      "Epoch 118/240\n",
      "479232/499889 [===========================>..] - ETA: 0s - loss: 0.2128 - mse_loss_fn: 0.0343 - kl_loss_fn: 17.8923\n",
      "Epoch 00118: val_loss did not improve from 0.21210\n",
      "499889/499889 [==============================] - 1s 3us/sample - loss: 0.2128 - mse_loss_fn: 0.0341 - kl_loss_fn: 17.8933 - val_loss: 0.2197 - val_mse_loss_fn: 0.0434 - val_kl_loss_fn: 17.6676\n",
      "Epoch 119/240\n",
      "496640/499889 [============================>.] - ETA: 0s - loss: 0.2129 - mse_loss_fn: 0.0344 - kl_loss_fn: 17.8898\n",
      "Epoch 00119: val_loss did not improve from 0.21210\n",
      "499889/499889 [==============================] - 1s 3us/sample - loss: 0.2129 - mse_loss_fn: 0.0343 - kl_loss_fn: 17.8899 - val_loss: 0.2236 - val_mse_loss_fn: 0.0460 - val_kl_loss_fn: 17.8080\n",
      "Epoch 120/240\n",
      "478208/499889 [===========================>..] - ETA: 0s - loss: 0.2124 - mse_loss_fn: 0.0339 - kl_loss_fn: 17.8876\n",
      "Epoch 00120: val_loss did not improve from 0.21210\n",
      "499889/499889 [==============================] - 1s 3us/sample - loss: 0.2124 - mse_loss_fn: 0.0339 - kl_loss_fn: 17.8867 - val_loss: 0.2204 - val_mse_loss_fn: 0.0441 - val_kl_loss_fn: 17.6750\n",
      "Epoch 121/240\n",
      "478208/499889 [===========================>..] - ETA: 0s - loss: 0.2130 - mse_loss_fn: 0.0344 - kl_loss_fn: 17.8898\n",
      "Epoch 00121: val_loss did not improve from 0.21210\n",
      "499889/499889 [==============================] - 1s 3us/sample - loss: 0.2129 - mse_loss_fn: 0.0343 - kl_loss_fn: 17.8909 - val_loss: 0.2139 - val_mse_loss_fn: 0.0370 - val_kl_loss_fn: 17.7333\n",
      "Epoch 122/240\n",
      "497664/499889 [============================>.] - ETA: 0s - loss: 0.2123 - mse_loss_fn: 0.0339 - kl_loss_fn: 17.8786\n",
      "Epoch 00122: val_loss did not improve from 0.21210\n",
      "499889/499889 [==============================] - 1s 3us/sample - loss: 0.2123 - mse_loss_fn: 0.0338 - kl_loss_fn: 17.8787 - val_loss: 0.2174 - val_mse_loss_fn: 0.0400 - val_kl_loss_fn: 17.7781\n",
      "Epoch 123/240\n",
      "498688/499889 [============================>.] - ETA: 0s - loss: 0.2128 - mse_loss_fn: 0.0342 - kl_loss_fn: 17.8898\n",
      "Epoch 00123: val_loss did not improve from 0.21210\n",
      "499889/499889 [==============================] - 1s 3us/sample - loss: 0.2128 - mse_loss_fn: 0.0342 - kl_loss_fn: 17.8897 - val_loss: 0.2173 - val_mse_loss_fn: 0.0395 - val_kl_loss_fn: 17.8194\n",
      "Epoch 124/240\n",
      "496640/499889 [============================>.] - ETA: 0s - loss: 0.2128 - mse_loss_fn: 0.0343 - kl_loss_fn: 17.8856\n",
      "Epoch 00124: val_loss did not improve from 0.21210\n",
      "499889/499889 [==============================] - 1s 3us/sample - loss: 0.2128 - mse_loss_fn: 0.0343 - kl_loss_fn: 17.8855 - val_loss: 0.2244 - val_mse_loss_fn: 0.0476 - val_kl_loss_fn: 17.7313\n",
      "Epoch 125/240\n",
      "476160/499889 [===========================>..] - ETA: 0s - loss: 0.2126 - mse_loss_fn: 0.0342 - kl_loss_fn: 17.8765\n",
      "Epoch 00125: val_loss did not improve from 0.21210\n",
      "499889/499889 [==============================] - 1s 3us/sample - loss: 0.2127 - mse_loss_fn: 0.0342 - kl_loss_fn: 17.8767 - val_loss: 0.2164 - val_mse_loss_fn: 0.0399 - val_kl_loss_fn: 17.6967\n",
      "Epoch 126/240\n",
      "497664/499889 [============================>.] - ETA: 0s - loss: 0.2126 - mse_loss_fn: 0.0341 - kl_loss_fn: 17.8857\n",
      "Epoch 00126: val_loss did not improve from 0.21210\n",
      "499889/499889 [==============================] - 1s 3us/sample - loss: 0.2126 - mse_loss_fn: 0.0341 - kl_loss_fn: 17.8860 - val_loss: 0.2285 - val_mse_loss_fn: 0.0512 - val_kl_loss_fn: 17.7833\n",
      "Epoch 127/240\n",
      "497664/499889 [============================>.] - ETA: 0s - loss: 0.2130 - mse_loss_fn: 0.0346 - kl_loss_fn: 17.8762\n",
      "Epoch 00127: val_loss did not improve from 0.21210\n",
      "499889/499889 [==============================] - 1s 3us/sample - loss: 0.2130 - mse_loss_fn: 0.0346 - kl_loss_fn: 17.8764 - val_loss: 0.2127 - val_mse_loss_fn: 0.0355 - val_kl_loss_fn: 17.7552\n",
      "Epoch 128/240\n",
      "479232/499889 [===========================>..] - ETA: 0s - loss: 0.2120 - mse_loss_fn: 0.0336 - kl_loss_fn: 17.8745\n",
      "Epoch 00128: val_loss did not improve from 0.21210\n",
      "499889/499889 [==============================] - 1s 3us/sample - loss: 0.2120 - mse_loss_fn: 0.0336 - kl_loss_fn: 17.8751 - val_loss: 0.2168 - val_mse_loss_fn: 0.0401 - val_kl_loss_fn: 17.7045\n",
      "Epoch 129/240\n",
      "478208/499889 [===========================>..] - ETA: 0s - loss: 0.2127 - mse_loss_fn: 0.0343 - kl_loss_fn: 17.8738\n",
      "Epoch 00129: val_loss did not improve from 0.21210\n",
      "499889/499889 [==============================] - 1s 3us/sample - loss: 0.2126 - mse_loss_fn: 0.0342 - kl_loss_fn: 17.8742 - val_loss: 0.2185 - val_mse_loss_fn: 0.0412 - val_kl_loss_fn: 17.7699\n",
      "Epoch 130/240\n",
      "491520/499889 [============================>.] - ETA: 0s - loss: 0.2123 - mse_loss_fn: 0.0339 - kl_loss_fn: 17.8768\n",
      "Epoch 00130: val_loss did not improve from 0.21210\n",
      "499889/499889 [==============================] - 1s 3us/sample - loss: 0.2123 - mse_loss_fn: 0.0338 - kl_loss_fn: 17.8773 - val_loss: 0.2182 - val_mse_loss_fn: 0.0415 - val_kl_loss_fn: 17.7140\n",
      "Epoch 131/240\n",
      "494592/499889 [============================>.] - ETA: 0s - loss: 0.2128 - mse_loss_fn: 0.0344 - kl_loss_fn: 17.8711\n",
      "Epoch 00131: val_loss did not improve from 0.21210\n",
      "499889/499889 [==============================] - 1s 3us/sample - loss: 0.2128 - mse_loss_fn: 0.0344 - kl_loss_fn: 17.8709 - val_loss: 0.2203 - val_mse_loss_fn: 0.0432 - val_kl_loss_fn: 17.7558\n",
      "Epoch 132/240\n",
      "489472/499889 [============================>.] - ETA: 0s - loss: 0.2121 - mse_loss_fn: 0.0338 - kl_loss_fn: 17.8695\n",
      "Epoch 00132: val_loss did not improve from 0.21210\n",
      "499889/499889 [==============================] - 1s 3us/sample - loss: 0.2121 - mse_loss_fn: 0.0337 - kl_loss_fn: 17.8719 - val_loss: 0.2208 - val_mse_loss_fn: 0.0445 - val_kl_loss_fn: 17.6777\n",
      "Epoch 133/240\n",
      "486400/499889 [============================>.] - ETA: 0s - loss: 0.2125 - mse_loss_fn: 0.0341 - kl_loss_fn: 17.8720\n",
      "Epoch 00133: val_loss did not improve from 0.21210\n",
      "499889/499889 [==============================] - 1s 3us/sample - loss: 0.2124 - mse_loss_fn: 0.0340 - kl_loss_fn: 17.8725 - val_loss: 0.2182 - val_mse_loss_fn: 0.0408 - val_kl_loss_fn: 17.7729\n",
      "Epoch 134/240\n",
      "492544/499889 [============================>.] - ETA: 0s - loss: 0.2124 - mse_loss_fn: 0.0340 - kl_loss_fn: 17.8720\n",
      "Epoch 00134: val_loss did not improve from 0.21210\n",
      "499889/499889 [==============================] - 1s 3us/sample - loss: 0.2123 - mse_loss_fn: 0.0339 - kl_loss_fn: 17.8723 - val_loss: 0.2185 - val_mse_loss_fn: 0.0413 - val_kl_loss_fn: 17.7631\n",
      "Epoch 135/240\n",
      "489472/499889 [============================>.] - ETA: 0s - loss: 0.2126 - mse_loss_fn: 0.0343 - kl_loss_fn: 17.8674\n",
      "Epoch 00135: val_loss did not improve from 0.21210\n",
      "499889/499889 [==============================] - 1s 3us/sample - loss: 0.2126 - mse_loss_fn: 0.0342 - kl_loss_fn: 17.8667 - val_loss: 0.2135 - val_mse_loss_fn: 0.0361 - val_kl_loss_fn: 17.7755\n",
      "Epoch 136/240\n",
      "493568/499889 [============================>.] - ETA: 0s - loss: 0.2119 - mse_loss_fn: 0.0336 - kl_loss_fn: 17.8615\n",
      "Epoch 00136: val_loss did not improve from 0.21210\n",
      "499889/499889 [==============================] - 1s 3us/sample - loss: 0.2119 - mse_loss_fn: 0.0336 - kl_loss_fn: 17.8606 - val_loss: 0.2183 - val_mse_loss_fn: 0.0418 - val_kl_loss_fn: 17.6920\n",
      "Epoch 137/240\n",
      "496640/499889 [============================>.] - ETA: 0s - loss: 0.2124 - mse_loss_fn: 0.0341 - kl_loss_fn: 17.8659\n",
      "Epoch 00137: val_loss did not improve from 0.21210\n",
      "499889/499889 [==============================] - 1s 3us/sample - loss: 0.2124 - mse_loss_fn: 0.0341 - kl_loss_fn: 17.8664 - val_loss: 0.2182 - val_mse_loss_fn: 0.0411 - val_kl_loss_fn: 17.7507\n",
      "Epoch 138/240\n",
      "495616/499889 [============================>.] - ETA: 0s - loss: 0.2125 - mse_loss_fn: 0.0342 - kl_loss_fn: 17.8632\n",
      "Epoch 00138: val_loss did not improve from 0.21210\n",
      "499889/499889 [==============================] - 1s 3us/sample - loss: 0.2125 - mse_loss_fn: 0.0342 - kl_loss_fn: 17.8630 - val_loss: 0.2158 - val_mse_loss_fn: 0.0387 - val_kl_loss_fn: 17.7534\n",
      "Epoch 139/240\n",
      "493568/499889 [============================>.] - ETA: 0s - loss: 0.2122 - mse_loss_fn: 0.0340 - kl_loss_fn: 17.8557\n",
      "Epoch 00139: val_loss did not improve from 0.21210\n",
      "499889/499889 [==============================] - 1s 3us/sample - loss: 0.2122 - mse_loss_fn: 0.0339 - kl_loss_fn: 17.8557 - val_loss: 0.2195 - val_mse_loss_fn: 0.0428 - val_kl_loss_fn: 17.7125\n",
      "Epoch 140/240\n",
      "491520/499889 [============================>.] - ETA: 0s - loss: 0.2123 - mse_loss_fn: 0.0340 - kl_loss_fn: 17.8581\n",
      "Epoch 00140: val_loss did not improve from 0.21210\n",
      "499889/499889 [==============================] - 1s 3us/sample - loss: 0.2123 - mse_loss_fn: 0.0340 - kl_loss_fn: 17.8581 - val_loss: 0.2132 - val_mse_loss_fn: 0.0364 - val_kl_loss_fn: 17.7127\n",
      "Epoch 141/240\n",
      "483328/499889 [============================>.] - ETA: 0s - loss: 0.2121 - mse_loss_fn: 0.0338 - kl_loss_fn: 17.8614\n",
      "Epoch 00141: val_loss did not improve from 0.21210\n",
      "499889/499889 [==============================] - 1s 3us/sample - loss: 0.2121 - mse_loss_fn: 0.0338 - kl_loss_fn: 17.8618 - val_loss: 0.2292 - val_mse_loss_fn: 0.0529 - val_kl_loss_fn: 17.6771\n",
      "Epoch 142/240\n",
      "486400/499889 [============================>.] - ETA: 0s - loss: 0.2126 - mse_loss_fn: 0.0343 - kl_loss_fn: 17.8562\n",
      "Epoch 00142: val_loss did not improve from 0.21210\n",
      "499889/499889 [==============================] - 1s 3us/sample - loss: 0.2125 - mse_loss_fn: 0.0343 - kl_loss_fn: 17.8569 - val_loss: 0.2173 - val_mse_loss_fn: 0.0409 - val_kl_loss_fn: 17.6784\n",
      "Epoch 143/240\n",
      "484352/499889 [============================>.] - ETA: 0s - loss: 0.2120 - mse_loss_fn: 0.0338 - kl_loss_fn: 17.8546\n",
      "Epoch 00143: val_loss did not improve from 0.21210\n",
      "499889/499889 [==============================] - 1s 3us/sample - loss: 0.2119 - mse_loss_fn: 0.0337 - kl_loss_fn: 17.8540 - val_loss: 0.2181 - val_mse_loss_fn: 0.0417 - val_kl_loss_fn: 17.6869\n",
      "Epoch 144/240\n",
      "493568/499889 [============================>.] - ETA: 0s - loss: 0.2124 - mse_loss_fn: 0.0342 - kl_loss_fn: 17.8481\n",
      "Epoch 00144: val_loss did not improve from 0.21210\n",
      "499889/499889 [==============================] - 1s 3us/sample - loss: 0.2123 - mse_loss_fn: 0.0341 - kl_loss_fn: 17.8480 - val_loss: 0.2144 - val_mse_loss_fn: 0.0374 - val_kl_loss_fn: 17.7320\n",
      "Epoch 145/240\n",
      "485376/499889 [============================>.] - ETA: 0s - loss: 0.2122 - mse_loss_fn: 0.0340 - kl_loss_fn: 17.8462\n",
      "Epoch 00145: val_loss did not improve from 0.21210\n",
      "499889/499889 [==============================] - 1s 3us/sample - loss: 0.2121 - mse_loss_fn: 0.0340 - kl_loss_fn: 17.8471 - val_loss: 0.2220 - val_mse_loss_fn: 0.0459 - val_kl_loss_fn: 17.6501\n",
      "Epoch 146/240\n",
      "491520/499889 [============================>.] - ETA: 0s - loss: 0.2123 - mse_loss_fn: 0.0342 - kl_loss_fn: 17.8506\n",
      "Epoch 00146: val_loss did not improve from 0.21210\n",
      "499889/499889 [==============================] - 1s 3us/sample - loss: 0.2123 - mse_loss_fn: 0.0341 - kl_loss_fn: 17.8506 - val_loss: 0.2160 - val_mse_loss_fn: 0.0394 - val_kl_loss_fn: 17.7005\n",
      "Epoch 147/240\n",
      "487424/499889 [============================>.] - ETA: 0s - loss: 0.2120 - mse_loss_fn: 0.0339 - kl_loss_fn: 17.8436\n",
      "Epoch 00147: val_loss did not improve from 0.21210\n",
      "499889/499889 [==============================] - 1s 3us/sample - loss: 0.2120 - mse_loss_fn: 0.0338 - kl_loss_fn: 17.8427 - val_loss: 0.2245 - val_mse_loss_fn: 0.0480 - val_kl_loss_fn: 17.6967\n",
      "Epoch 148/240\n",
      "478208/499889 [===========================>..] - ETA: 0s - loss: 0.2122 - mse_loss_fn: 0.0341 - kl_loss_fn: 17.8443\n",
      "Epoch 00148: val_loss did not improve from 0.21210\n",
      "499889/499889 [==============================] - 1s 3us/sample - loss: 0.2122 - mse_loss_fn: 0.0340 - kl_loss_fn: 17.8440 - val_loss: 0.2150 - val_mse_loss_fn: 0.0384 - val_kl_loss_fn: 17.6966\n",
      "Epoch 149/240\n",
      "497664/499889 [============================>.] - ETA: 0s - loss: 0.2120 - mse_loss_fn: 0.0340 - kl_loss_fn: 17.8405\n",
      "Epoch 00149: val_loss did not improve from 0.21210\n",
      "499889/499889 [==============================] - 1s 3us/sample - loss: 0.2120 - mse_loss_fn: 0.0339 - kl_loss_fn: 17.8405 - val_loss: 0.2217 - val_mse_loss_fn: 0.0452 - val_kl_loss_fn: 17.6956\n",
      "Epoch 150/240\n",
      "484352/499889 [============================>.] - ETA: 0s - loss: 0.2121 - mse_loss_fn: 0.0341 - kl_loss_fn: 17.8356\n",
      "Epoch 00150: val_loss improved from 0.21210 to 0.21206, saving model to outputs/models/cVAEz6_03-27-2023/cbvae_LHCO2020_20d_e-6.hdf5\n",
      "499889/499889 [==============================] - 1s 3us/sample - loss: 0.2121 - mse_loss_fn: 0.0340 - kl_loss_fn: 17.8358 - val_loss: 0.2121 - val_mse_loss_fn: 0.0353 - val_kl_loss_fn: 17.7098\n",
      "Epoch 151/240\n",
      "488448/499889 [============================>.] - ETA: 0s - loss: 0.2117 - mse_loss_fn: 0.0337 - kl_loss_fn: 17.8365\n",
      "Epoch 00151: val_loss did not improve from 0.21206\n",
      "499889/499889 [==============================] - 1s 3us/sample - loss: 0.2117 - mse_loss_fn: 0.0336 - kl_loss_fn: 17.8357 - val_loss: 0.2217 - val_mse_loss_fn: 0.0456 - val_kl_loss_fn: 17.6568\n",
      "Epoch 152/240\n",
      "477184/499889 [===========================>..] - ETA: 0s - loss: 0.2121 - mse_loss_fn: 0.0340 - kl_loss_fn: 17.8372\n",
      "Epoch 00152: val_loss did not improve from 0.21206\n",
      "499889/499889 [==============================] - 1s 3us/sample - loss: 0.2120 - mse_loss_fn: 0.0340 - kl_loss_fn: 17.8364 - val_loss: 0.2217 - val_mse_loss_fn: 0.0457 - val_kl_loss_fn: 17.6384\n",
      "Epoch 153/240\n",
      "479232/499889 [===========================>..] - ETA: 0s - loss: 0.2122 - mse_loss_fn: 0.0342 - kl_loss_fn: 17.8282\n",
      "Epoch 00153: val_loss did not improve from 0.21206\n",
      "499889/499889 [==============================] - 1s 3us/sample - loss: 0.2121 - mse_loss_fn: 0.0342 - kl_loss_fn: 17.8284 - val_loss: 0.2245 - val_mse_loss_fn: 0.0480 - val_kl_loss_fn: 17.7023\n",
      "Epoch 154/240\n",
      "485376/499889 [============================>.] - ETA: 0s - loss: 0.2121 - mse_loss_fn: 0.0341 - kl_loss_fn: 17.8271\n",
      "Epoch 00154: val_loss did not improve from 0.21206\n",
      "499889/499889 [==============================] - 1s 3us/sample - loss: 0.2121 - mse_loss_fn: 0.0341 - kl_loss_fn: 17.8271 - val_loss: 0.2206 - val_mse_loss_fn: 0.0437 - val_kl_loss_fn: 17.7279\n",
      "Epoch 155/240\n",
      "484352/499889 [============================>.] - ETA: 0s - loss: 0.2122 - mse_loss_fn: 0.0342 - kl_loss_fn: 17.8305\n",
      "Epoch 00155: val_loss improved from 0.21206 to 0.21200, saving model to outputs/models/cVAEz6_03-27-2023/cbvae_LHCO2020_20d_e-6.hdf5\n",
      "499889/499889 [==============================] - 1s 3us/sample - loss: 0.2121 - mse_loss_fn: 0.0341 - kl_loss_fn: 17.8295 - val_loss: 0.2120 - val_mse_loss_fn: 0.0354 - val_kl_loss_fn: 17.6946\n",
      "Epoch 156/240\n",
      "492544/499889 [============================>.] - ETA: 0s - loss: 0.2115 - mse_loss_fn: 0.0336 - kl_loss_fn: 17.8222\n",
      "Epoch 00156: val_loss did not improve from 0.21200\n",
      "499889/499889 [==============================] - 1s 3us/sample - loss: 0.2115 - mse_loss_fn: 0.0335 - kl_loss_fn: 17.8220 - val_loss: 0.2136 - val_mse_loss_fn: 0.0375 - val_kl_loss_fn: 17.6497\n",
      "Epoch 157/240\n",
      "493568/499889 [============================>.] - ETA: 0s - loss: 0.2118 - mse_loss_fn: 0.0339 - kl_loss_fn: 17.8309\n",
      "Epoch 00157: val_loss did not improve from 0.21200\n",
      "499889/499889 [==============================] - 1s 3us/sample - loss: 0.2118 - mse_loss_fn: 0.0338 - kl_loss_fn: 17.8312 - val_loss: 0.2150 - val_mse_loss_fn: 0.0384 - val_kl_loss_fn: 17.6925\n",
      "Epoch 158/240\n",
      "476160/499889 [===========================>..] - ETA: 0s - loss: 0.2118 - mse_loss_fn: 0.0339 - kl_loss_fn: 17.8193\n",
      "Epoch 00158: val_loss did not improve from 0.21200\n",
      "499889/499889 [==============================] - 1s 3us/sample - loss: 0.2118 - mse_loss_fn: 0.0339 - kl_loss_fn: 17.8197 - val_loss: 0.2187 - val_mse_loss_fn: 0.0423 - val_kl_loss_fn: 17.6761\n",
      "Epoch 159/240\n",
      "499712/499889 [============================>.] - ETA: 0s - loss: 0.2117 - mse_loss_fn: 0.0339 - kl_loss_fn: 17.8172\n",
      "Epoch 00159: val_loss did not improve from 0.21200\n",
      "499889/499889 [==============================] - 1s 3us/sample - loss: 0.2117 - mse_loss_fn: 0.0338 - kl_loss_fn: 17.8171 - val_loss: 0.2121 - val_mse_loss_fn: 0.0361 - val_kl_loss_fn: 17.6334\n",
      "Epoch 160/240\n",
      "499889/499889 [==============================] - ETA: 0s - loss: 0.2116 - mse_loss_fn: 0.0337 - kl_loss_fn: 17.8143\n",
      "Epoch 00160: val_loss did not improve from 0.21200\n",
      "499889/499889 [==============================] - 1s 3us/sample - loss: 0.2116 - mse_loss_fn: 0.0337 - kl_loss_fn: 17.8143 - val_loss: 0.2145 - val_mse_loss_fn: 0.0385 - val_kl_loss_fn: 17.6408\n",
      "Epoch 161/240\n",
      "477184/499889 [===========================>..] - ETA: 0s - loss: 0.2116 - mse_loss_fn: 0.0338 - kl_loss_fn: 17.8157\n",
      "Epoch 00161: val_loss did not improve from 0.21200\n",
      "499889/499889 [==============================] - 1s 3us/sample - loss: 0.2116 - mse_loss_fn: 0.0337 - kl_loss_fn: 17.8157 - val_loss: 0.2165 - val_mse_loss_fn: 0.0401 - val_kl_loss_fn: 17.6728\n",
      "Epoch 162/240\n",
      "494592/499889 [============================>.] - ETA: 0s - loss: 0.2114 - mse_loss_fn: 0.0336 - kl_loss_fn: 17.8147\n",
      "Epoch 00162: val_loss did not improve from 0.21200\n",
      "499889/499889 [==============================] - 1s 3us/sample - loss: 0.2114 - mse_loss_fn: 0.0335 - kl_loss_fn: 17.8152 - val_loss: 0.2237 - val_mse_loss_fn: 0.0473 - val_kl_loss_fn: 17.6841\n",
      "Epoch 163/240\n",
      "485376/499889 [============================>.] - ETA: 0s - loss: 0.2117 - mse_loss_fn: 0.0340 - kl_loss_fn: 17.8102\n",
      "Epoch 00163: val_loss did not improve from 0.21200\n",
      "499889/499889 [==============================] - 1s 3us/sample - loss: 0.2117 - mse_loss_fn: 0.0339 - kl_loss_fn: 17.8102 - val_loss: 0.2156 - val_mse_loss_fn: 0.0388 - val_kl_loss_fn: 17.7175\n",
      "Epoch 164/240\n",
      "480256/499889 [===========================>..] - ETA: 0s - loss: 0.2118 - mse_loss_fn: 0.0341 - kl_loss_fn: 17.8084\n",
      "Epoch 00164: val_loss did not improve from 0.21200\n",
      "499889/499889 [==============================] - 1s 3us/sample - loss: 0.2117 - mse_loss_fn: 0.0339 - kl_loss_fn: 17.8084 - val_loss: 0.2142 - val_mse_loss_fn: 0.0377 - val_kl_loss_fn: 17.6876\n",
      "Epoch 165/240\n",
      "494592/499889 [============================>.] - ETA: 0s - loss: 0.2116 - mse_loss_fn: 0.0339 - kl_loss_fn: 17.8095\n",
      "Epoch 00165: val_loss did not improve from 0.21200\n",
      "499889/499889 [==============================] - 1s 3us/sample - loss: 0.2116 - mse_loss_fn: 0.0338 - kl_loss_fn: 17.8101 - val_loss: 0.2179 - val_mse_loss_fn: 0.0413 - val_kl_loss_fn: 17.6986\n",
      "Epoch 166/240\n",
      "493568/499889 [============================>.] - ETA: 0s - loss: 0.2118 - mse_loss_fn: 0.0341 - kl_loss_fn: 17.8049\n",
      "Epoch 00166: val_loss did not improve from 0.21200\n",
      "499889/499889 [==============================] - 1s 3us/sample - loss: 0.2118 - mse_loss_fn: 0.0340 - kl_loss_fn: 17.8048 - val_loss: 0.2186 - val_mse_loss_fn: 0.0420 - val_kl_loss_fn: 17.7110\n",
      "Epoch 167/240\n",
      "496640/499889 [============================>.] - ETA: 0s - loss: 0.2113 - mse_loss_fn: 0.0336 - kl_loss_fn: 17.8054\n",
      "Epoch 00167: val_loss did not improve from 0.21200\n",
      "499889/499889 [==============================] - 1s 3us/sample - loss: 0.2113 - mse_loss_fn: 0.0336 - kl_loss_fn: 17.8049 - val_loss: 0.2307 - val_mse_loss_fn: 0.0548 - val_kl_loss_fn: 17.6477\n",
      "Epoch 168/240\n",
      "499712/499889 [============================>.] - ETA: 0s - loss: 0.2120 - mse_loss_fn: 0.0343 - kl_loss_fn: 17.7983\n",
      "Epoch 00168: val_loss did not improve from 0.21200\n",
      "499889/499889 [==============================] - 1s 3us/sample - loss: 0.2120 - mse_loss_fn: 0.0343 - kl_loss_fn: 17.7983 - val_loss: 0.2174 - val_mse_loss_fn: 0.0408 - val_kl_loss_fn: 17.6968\n",
      "Epoch 169/240\n",
      "498688/499889 [============================>.] - ETA: 0s - loss: 0.2112 - mse_loss_fn: 0.0335 - kl_loss_fn: 17.7973\n",
      "Epoch 00169: val_loss did not improve from 0.21200\n",
      "499889/499889 [==============================] - 1s 3us/sample - loss: 0.2111 - mse_loss_fn: 0.0335 - kl_loss_fn: 17.7970 - val_loss: 0.2122 - val_mse_loss_fn: 0.0364 - val_kl_loss_fn: 17.6114\n",
      "Epoch 170/240\n",
      "499889/499889 [==============================] - ETA: 0s - loss: 0.2114 - mse_loss_fn: 0.0336 - kl_loss_fn: 17.8019\n",
      "Epoch 00170: val_loss did not improve from 0.21200\n",
      "499889/499889 [==============================] - 1s 3us/sample - loss: 0.2114 - mse_loss_fn: 0.0336 - kl_loss_fn: 17.8019 - val_loss: 0.2265 - val_mse_loss_fn: 0.0499 - val_kl_loss_fn: 17.7117\n",
      "Epoch 171/240\n",
      "498688/499889 [============================>.] - ETA: 0s - loss: 0.2118 - mse_loss_fn: 0.0341 - kl_loss_fn: 17.7997\n",
      "Epoch 00171: val_loss improved from 0.21200 to 0.21127, saving model to outputs/models/cVAEz6_03-27-2023/cbvae_LHCO2020_20d_e-6.hdf5\n",
      "499889/499889 [==============================] - 1s 3us/sample - loss: 0.2117 - mse_loss_fn: 0.0340 - kl_loss_fn: 17.7996 - val_loss: 0.2113 - val_mse_loss_fn: 0.0351 - val_kl_loss_fn: 17.6492\n",
      "Epoch 172/240\n",
      "499889/499889 [==============================] - ETA: 0s - loss: 0.2112 - mse_loss_fn: 0.0336 - kl_loss_fn: 17.7917\n",
      "Epoch 00172: val_loss did not improve from 0.21127\n",
      "499889/499889 [==============================] - 1s 3us/sample - loss: 0.2112 - mse_loss_fn: 0.0336 - kl_loss_fn: 17.7917 - val_loss: 0.2186 - val_mse_loss_fn: 0.0424 - val_kl_loss_fn: 17.6687\n",
      "Epoch 173/240\n",
      "485376/499889 [============================>.] - ETA: 0s - loss: 0.2115 - mse_loss_fn: 0.0340 - kl_loss_fn: 17.7879\n",
      "Epoch 00173: val_loss did not improve from 0.21127\n",
      "499889/499889 [==============================] - 1s 3us/sample - loss: 0.2115 - mse_loss_fn: 0.0339 - kl_loss_fn: 17.7893 - val_loss: 0.2145 - val_mse_loss_fn: 0.0384 - val_kl_loss_fn: 17.6477\n",
      "Epoch 174/240\n",
      "484352/499889 [============================>.] - ETA: 0s - loss: 0.2118 - mse_loss_fn: 0.0342 - kl_loss_fn: 17.7894\n",
      "Epoch 00174: val_loss did not improve from 0.21127\n",
      "499889/499889 [==============================] - 1s 3us/sample - loss: 0.2118 - mse_loss_fn: 0.0342 - kl_loss_fn: 17.7899 - val_loss: 0.2351 - val_mse_loss_fn: 0.0593 - val_kl_loss_fn: 17.6361\n",
      "Epoch 175/240\n",
      "490496/499889 [============================>.] - ETA: 0s - loss: 0.2115 - mse_loss_fn: 0.0340 - kl_loss_fn: 17.7862\n",
      "Epoch 00175: val_loss did not improve from 0.21127\n",
      "499889/499889 [==============================] - 1s 3us/sample - loss: 0.2115 - mse_loss_fn: 0.0339 - kl_loss_fn: 17.7869 - val_loss: 0.2150 - val_mse_loss_fn: 0.0392 - val_kl_loss_fn: 17.6238\n",
      "Epoch 176/240\n",
      "491520/499889 [============================>.] - ETA: 0s - loss: 0.2113 - mse_loss_fn: 0.0337 - kl_loss_fn: 17.7884\n",
      "Epoch 00176: val_loss did not improve from 0.21127\n",
      "499889/499889 [==============================] - 1s 3us/sample - loss: 0.2113 - mse_loss_fn: 0.0337 - kl_loss_fn: 17.7877 - val_loss: 0.2270 - val_mse_loss_fn: 0.0515 - val_kl_loss_fn: 17.6010\n",
      "Epoch 177/240\n",
      "485376/499889 [============================>.] - ETA: 0s - loss: 0.2115 - mse_loss_fn: 0.0339 - kl_loss_fn: 17.7905\n",
      "Epoch 00177: val_loss did not improve from 0.21127\n",
      "499889/499889 [==============================] - 1s 3us/sample - loss: 0.2115 - mse_loss_fn: 0.0339 - kl_loss_fn: 17.7890 - val_loss: 0.2197 - val_mse_loss_fn: 0.0435 - val_kl_loss_fn: 17.6585\n",
      "Epoch 178/240\n",
      "482304/499889 [===========================>..] - ETA: 0s - loss: 0.2116 - mse_loss_fn: 0.0341 - kl_loss_fn: 17.7842\n",
      "Epoch 00178: val_loss did not improve from 0.21127\n",
      "499889/499889 [==============================] - 1s 3us/sample - loss: 0.2116 - mse_loss_fn: 0.0340 - kl_loss_fn: 17.7835 - val_loss: 0.2177 - val_mse_loss_fn: 0.0416 - val_kl_loss_fn: 17.6590\n",
      "Epoch 179/240\n",
      "493568/499889 [============================>.] - ETA: 0s - loss: 0.2112 - mse_loss_fn: 0.0336 - kl_loss_fn: 17.7869\n",
      "Epoch 00179: val_loss did not improve from 0.21127\n",
      "499889/499889 [==============================] - 1s 3us/sample - loss: 0.2112 - mse_loss_fn: 0.0336 - kl_loss_fn: 17.7869 - val_loss: 0.2217 - val_mse_loss_fn: 0.0455 - val_kl_loss_fn: 17.6611\n",
      "Epoch 180/240\n",
      "491520/499889 [============================>.] - ETA: 0s - loss: 0.2115 - mse_loss_fn: 0.0340 - kl_loss_fn: 17.7823\n",
      "Epoch 00180: val_loss did not improve from 0.21127\n",
      "499889/499889 [==============================] - 1s 3us/sample - loss: 0.2115 - mse_loss_fn: 0.0340 - kl_loss_fn: 17.7831 - val_loss: 0.2218 - val_mse_loss_fn: 0.0462 - val_kl_loss_fn: 17.5980\n",
      "Epoch 181/240\n",
      "492544/499889 [============================>.] - ETA: 0s - loss: 0.2111 - mse_loss_fn: 0.0336 - kl_loss_fn: 17.7830\n",
      "Epoch 00181: val_loss did not improve from 0.21127\n",
      "499889/499889 [==============================] - 1s 3us/sample - loss: 0.2111 - mse_loss_fn: 0.0335 - kl_loss_fn: 17.7834 - val_loss: 0.2180 - val_mse_loss_fn: 0.0417 - val_kl_loss_fn: 17.6687\n",
      "Epoch 182/240\n",
      "485376/499889 [============================>.] - ETA: 0s - loss: 0.2114 - mse_loss_fn: 0.0340 - kl_loss_fn: 17.7815\n",
      "Epoch 00182: val_loss did not improve from 0.21127\n",
      "499889/499889 [==============================] - 1s 3us/sample - loss: 0.2114 - mse_loss_fn: 0.0339 - kl_loss_fn: 17.7821 - val_loss: 0.2156 - val_mse_loss_fn: 0.0402 - val_kl_loss_fn: 17.5715\n",
      "Epoch 183/240\n",
      "478208/499889 [===========================>..] - ETA: 0s - loss: 0.2115 - mse_loss_fn: 0.0340 - kl_loss_fn: 17.7799\n",
      "Epoch 00183: val_loss did not improve from 0.21127\n",
      "499889/499889 [==============================] - 1s 3us/sample - loss: 0.2114 - mse_loss_fn: 0.0339 - kl_loss_fn: 17.7805 - val_loss: 0.2115 - val_mse_loss_fn: 0.0358 - val_kl_loss_fn: 17.6048\n",
      "Epoch 184/240\n",
      "499889/499889 [==============================] - ETA: 0s - loss: 0.2111 - mse_loss_fn: 0.0337 - kl_loss_fn: 17.7734\n",
      "Epoch 00184: val_loss did not improve from 0.21127\n",
      "499889/499889 [==============================] - 1s 3us/sample - loss: 0.2111 - mse_loss_fn: 0.0337 - kl_loss_fn: 17.7734 - val_loss: 0.2183 - val_mse_loss_fn: 0.0426 - val_kl_loss_fn: 17.6193\n",
      "Epoch 185/240\n",
      "478208/499889 [===========================>..] - ETA: 0s - loss: 0.2110 - mse_loss_fn: 0.0336 - kl_loss_fn: 17.7720\n",
      "Epoch 00185: val_loss did not improve from 0.21127\n",
      "499889/499889 [==============================] - 1s 3us/sample - loss: 0.2110 - mse_loss_fn: 0.0335 - kl_loss_fn: 17.7726 - val_loss: 0.2245 - val_mse_loss_fn: 0.0492 - val_kl_loss_fn: 17.5835\n",
      "Epoch 186/240\n",
      "499712/499889 [============================>.] - ETA: 0s - loss: 0.2113 - mse_loss_fn: 0.0339 - kl_loss_fn: 17.7686\n",
      "Epoch 00186: val_loss did not improve from 0.21127\n",
      "499889/499889 [==============================] - 1s 3us/sample - loss: 0.2113 - mse_loss_fn: 0.0339 - kl_loss_fn: 17.7686 - val_loss: 0.2192 - val_mse_loss_fn: 0.0434 - val_kl_loss_fn: 17.6176\n",
      "Epoch 187/240\n",
      "498688/499889 [============================>.] - ETA: 0s - loss: 0.2113 - mse_loss_fn: 0.0339 - kl_loss_fn: 17.7715\n",
      "Epoch 00187: val_loss did not improve from 0.21127\n",
      "499889/499889 [==============================] - 1s 3us/sample - loss: 0.2113 - mse_loss_fn: 0.0339 - kl_loss_fn: 17.7716 - val_loss: 0.2200 - val_mse_loss_fn: 0.0448 - val_kl_loss_fn: 17.5599\n",
      "Epoch 188/240\n",
      "481280/499889 [===========================>..] - ETA: 0s - loss: 0.2114 - mse_loss_fn: 0.0340 - kl_loss_fn: 17.7744\n",
      "Epoch 00188: val_loss did not improve from 0.21127\n",
      "499889/499889 [==============================] - 1s 3us/sample - loss: 0.2114 - mse_loss_fn: 0.0339 - kl_loss_fn: 17.7738 - val_loss: 0.2127 - val_mse_loss_fn: 0.0365 - val_kl_loss_fn: 17.6488\n",
      "Epoch 189/240\n",
      "482304/499889 [===========================>..] - ETA: 0s - loss: 0.2112 - mse_loss_fn: 0.0339 - kl_loss_fn: 17.7686\n",
      "Epoch 00189: val_loss did not improve from 0.21127\n",
      "499889/499889 [==============================] - 1s 3us/sample - loss: 0.2113 - mse_loss_fn: 0.0339 - kl_loss_fn: 17.7691 - val_loss: 0.2240 - val_mse_loss_fn: 0.0481 - val_kl_loss_fn: 17.6398\n",
      "Epoch 190/240\n",
      "479232/499889 [===========================>..] - ETA: 0s - loss: 0.2111 - mse_loss_fn: 0.0338 - kl_loss_fn: 17.7691\n",
      "Epoch 00190: val_loss did not improve from 0.21127\n",
      "499889/499889 [==============================] - 1s 3us/sample - loss: 0.2111 - mse_loss_fn: 0.0337 - kl_loss_fn: 17.7682 - val_loss: 0.2119 - val_mse_loss_fn: 0.0363 - val_kl_loss_fn: 17.6021\n",
      "Epoch 191/240\n",
      "478208/499889 [===========================>..] - ETA: 0s - loss: 0.2110 - mse_loss_fn: 0.0336 - kl_loss_fn: 17.7687\n",
      "Epoch 00191: val_loss did not improve from 0.21127\n",
      "499889/499889 [==============================] - 1s 3us/sample - loss: 0.2110 - mse_loss_fn: 0.0336 - kl_loss_fn: 17.7690 - val_loss: 0.2200 - val_mse_loss_fn: 0.0444 - val_kl_loss_fn: 17.6030\n",
      "Epoch 192/240\n",
      "480256/499889 [===========================>..] - ETA: 0s - loss: 0.2114 - mse_loss_fn: 0.0341 - kl_loss_fn: 17.7668\n",
      "Epoch 00192: val_loss did not improve from 0.21127\n",
      "499889/499889 [==============================] - 1s 3us/sample - loss: 0.2114 - mse_loss_fn: 0.0340 - kl_loss_fn: 17.7678 - val_loss: 0.2196 - val_mse_loss_fn: 0.0441 - val_kl_loss_fn: 17.5925\n",
      "Epoch 193/240\n",
      "476160/499889 [===========================>..] - ETA: 0s - loss: 0.2111 - mse_loss_fn: 0.0337 - kl_loss_fn: 17.7681\n",
      "Epoch 00193: val_loss did not improve from 0.21127\n",
      "499889/499889 [==============================] - 1s 3us/sample - loss: 0.2111 - mse_loss_fn: 0.0337 - kl_loss_fn: 17.7697 - val_loss: 0.2181 - val_mse_loss_fn: 0.0421 - val_kl_loss_fn: 17.6415\n",
      "Epoch 194/240\n",
      "488448/499889 [============================>.] - ETA: 0s - loss: 0.2109 - mse_loss_fn: 0.0336 - kl_loss_fn: 17.7665\n",
      "Epoch 00194: val_loss did not improve from 0.21127\n",
      "499889/499889 [==============================] - 1s 3us/sample - loss: 0.2109 - mse_loss_fn: 0.0335 - kl_loss_fn: 17.7660 - val_loss: 0.2247 - val_mse_loss_fn: 0.0490 - val_kl_loss_fn: 17.6201\n",
      "Epoch 195/240\n",
      "494592/499889 [============================>.] - ETA: 0s - loss: 0.2116 - mse_loss_fn: 0.0342 - kl_loss_fn: 17.7677\n",
      "Epoch 00195: val_loss did not improve from 0.21127\n",
      "499889/499889 [==============================] - 1s 3us/sample - loss: 0.2115 - mse_loss_fn: 0.0342 - kl_loss_fn: 17.7674 - val_loss: 0.2119 - val_mse_loss_fn: 0.0363 - val_kl_loss_fn: 17.5901\n",
      "Epoch 196/240\n",
      "484352/499889 [============================>.] - ETA: 0s - loss: 0.2108 - mse_loss_fn: 0.0335 - kl_loss_fn: 17.7674\n",
      "Epoch 00196: val_loss did not improve from 0.21127\n",
      "499889/499889 [==============================] - 1s 3us/sample - loss: 0.2108 - mse_loss_fn: 0.0334 - kl_loss_fn: 17.7672 - val_loss: 0.2128 - val_mse_loss_fn: 0.0370 - val_kl_loss_fn: 17.6148\n",
      "Epoch 197/240\n",
      "484352/499889 [============================>.] - ETA: 0s - loss: 0.2112 - mse_loss_fn: 0.0339 - kl_loss_fn: 17.7587\n",
      "Epoch 00197: val_loss did not improve from 0.21127\n",
      "499889/499889 [==============================] - 1s 3us/sample - loss: 0.2111 - mse_loss_fn: 0.0338 - kl_loss_fn: 17.7589 - val_loss: 0.2167 - val_mse_loss_fn: 0.0411 - val_kl_loss_fn: 17.6021\n",
      "Epoch 198/240\n",
      "491520/499889 [============================>.] - ETA: 0s - loss: 0.2108 - mse_loss_fn: 0.0335 - kl_loss_fn: 17.7625\n",
      "Epoch 00198: val_loss did not improve from 0.21127\n",
      "499889/499889 [==============================] - 1s 3us/sample - loss: 0.2108 - mse_loss_fn: 0.0335 - kl_loss_fn: 17.7624 - val_loss: 0.2166 - val_mse_loss_fn: 0.0407 - val_kl_loss_fn: 17.6349\n",
      "Epoch 199/240\n",
      "491520/499889 [============================>.] - ETA: 0s - loss: 0.2111 - mse_loss_fn: 0.0338 - kl_loss_fn: 17.7615\n",
      "Epoch 00199: val_loss did not improve from 0.21127\n",
      "499889/499889 [==============================] - 1s 3us/sample - loss: 0.2111 - mse_loss_fn: 0.0338 - kl_loss_fn: 17.7623 - val_loss: 0.2197 - val_mse_loss_fn: 0.0438 - val_kl_loss_fn: 17.6283\n",
      "Epoch 200/240\n",
      "479232/499889 [===========================>..] - ETA: 0s - loss: 0.2109 - mse_loss_fn: 0.0337 - kl_loss_fn: 17.7572\n",
      "Epoch 00200: val_loss improved from 0.21127 to 0.21102, saving model to outputs/models/cVAEz6_03-27-2023/cbvae_LHCO2020_20d_e-6.hdf5\n",
      "499889/499889 [==============================] - 1s 3us/sample - loss: 0.2109 - mse_loss_fn: 0.0336 - kl_loss_fn: 17.7575 - val_loss: 0.2110 - val_mse_loss_fn: 0.0353 - val_kl_loss_fn: 17.6104\n",
      "Epoch 201/240\n",
      "490496/499889 [============================>.] - ETA: 0s - loss: 0.2110 - mse_loss_fn: 0.0338 - kl_loss_fn: 17.7587\n",
      "Epoch 00201: val_loss did not improve from 0.21102\n",
      "499889/499889 [==============================] - 1s 3us/sample - loss: 0.2110 - mse_loss_fn: 0.0337 - kl_loss_fn: 17.7592 - val_loss: 0.2151 - val_mse_loss_fn: 0.0392 - val_kl_loss_fn: 17.6288\n",
      "Epoch 202/240\n",
      "498688/499889 [============================>.] - ETA: 0s - loss: 0.2109 - mse_loss_fn: 0.0337 - kl_loss_fn: 17.7501\n",
      "Epoch 00202: val_loss did not improve from 0.21102\n",
      "499889/499889 [==============================] - 1s 3us/sample - loss: 0.2109 - mse_loss_fn: 0.0337 - kl_loss_fn: 17.7500 - val_loss: 0.2138 - val_mse_loss_fn: 0.0382 - val_kl_loss_fn: 17.6049\n",
      "Epoch 203/240\n",
      "488448/499889 [============================>.] - ETA: 0s - loss: 0.2109 - mse_loss_fn: 0.0338 - kl_loss_fn: 17.7495\n",
      "Epoch 00203: val_loss did not improve from 0.21102\n",
      "499889/499889 [==============================] - 1s 3us/sample - loss: 0.2109 - mse_loss_fn: 0.0337 - kl_loss_fn: 17.7498 - val_loss: 0.2155 - val_mse_loss_fn: 0.0393 - val_kl_loss_fn: 17.6610\n",
      "Epoch 204/240\n",
      "493568/499889 [============================>.] - ETA: 0s - loss: 0.2108 - mse_loss_fn: 0.0335 - kl_loss_fn: 17.7584\n",
      "Epoch 00204: val_loss did not improve from 0.21102\n",
      "499889/499889 [==============================] - 1s 3us/sample - loss: 0.2108 - mse_loss_fn: 0.0335 - kl_loss_fn: 17.7576 - val_loss: 0.2176 - val_mse_loss_fn: 0.0420 - val_kl_loss_fn: 17.6042\n",
      "Epoch 205/240\n",
      "495616/499889 [============================>.] - ETA: 0s - loss: 0.2110 - mse_loss_fn: 0.0338 - kl_loss_fn: 17.7544\n",
      "Epoch 00205: val_loss did not improve from 0.21102\n",
      "499889/499889 [==============================] - 1s 3us/sample - loss: 0.2110 - mse_loss_fn: 0.0337 - kl_loss_fn: 17.7541 - val_loss: 0.2177 - val_mse_loss_fn: 0.0420 - val_kl_loss_fn: 17.6081\n",
      "Epoch 206/240\n",
      "485376/499889 [============================>.] - ETA: 0s - loss: 0.2109 - mse_loss_fn: 0.0337 - kl_loss_fn: 17.7548\n",
      "Epoch 00206: val_loss did not improve from 0.21102\n",
      "499889/499889 [==============================] - 1s 3us/sample - loss: 0.2109 - mse_loss_fn: 0.0337 - kl_loss_fn: 17.7553 - val_loss: 0.2130 - val_mse_loss_fn: 0.0365 - val_kl_loss_fn: 17.6848\n",
      "Epoch 207/240\n",
      "485376/499889 [============================>.] - ETA: 0s - loss: 0.2109 - mse_loss_fn: 0.0337 - kl_loss_fn: 17.7516\n",
      "Epoch 00207: val_loss did not improve from 0.21102\n",
      "499889/499889 [==============================] - 1s 3us/sample - loss: 0.2109 - mse_loss_fn: 0.0337 - kl_loss_fn: 17.7524 - val_loss: 0.2161 - val_mse_loss_fn: 0.0407 - val_kl_loss_fn: 17.5798\n",
      "Epoch 208/240\n",
      "493568/499889 [============================>.] - ETA: 0s - loss: 0.2107 - mse_loss_fn: 0.0335 - kl_loss_fn: 17.7528\n",
      "Epoch 00208: val_loss did not improve from 0.21102\n",
      "499889/499889 [==============================] - 1s 3us/sample - loss: 0.2107 - mse_loss_fn: 0.0335 - kl_loss_fn: 17.7532 - val_loss: 0.2139 - val_mse_loss_fn: 0.0382 - val_kl_loss_fn: 17.6041\n",
      "Epoch 209/240\n",
      "483328/499889 [============================>.] - ETA: 0s - loss: 0.2110 - mse_loss_fn: 0.0338 - kl_loss_fn: 17.7526\n",
      "Epoch 00209: val_loss did not improve from 0.21102\n",
      "499889/499889 [==============================] - 1s 3us/sample - loss: 0.2110 - mse_loss_fn: 0.0337 - kl_loss_fn: 17.7537 - val_loss: 0.2152 - val_mse_loss_fn: 0.0396 - val_kl_loss_fn: 17.5927\n",
      "Epoch 210/240\n",
      "486400/499889 [============================>.] - ETA: 0s - loss: 0.2108 - mse_loss_fn: 0.0337 - kl_loss_fn: 17.7487\n",
      "Epoch 00210: val_loss did not improve from 0.21102\n",
      "499889/499889 [==============================] - 1s 3us/sample - loss: 0.2108 - mse_loss_fn: 0.0336 - kl_loss_fn: 17.7497 - val_loss: 0.2117 - val_mse_loss_fn: 0.0360 - val_kl_loss_fn: 17.6034\n",
      "Epoch 211/240\n",
      "496640/499889 [============================>.] - ETA: 0s - loss: 0.2111 - mse_loss_fn: 0.0339 - kl_loss_fn: 17.7469\n",
      "Epoch 00211: val_loss did not improve from 0.21102\n",
      "499889/499889 [==============================] - 1s 3us/sample - loss: 0.2111 - mse_loss_fn: 0.0339 - kl_loss_fn: 17.7473 - val_loss: 0.2187 - val_mse_loss_fn: 0.0425 - val_kl_loss_fn: 17.6556\n",
      "Epoch 212/240\n",
      "499889/499889 [==============================] - ETA: 0s - loss: 0.2108 - mse_loss_fn: 0.0336 - kl_loss_fn: 17.7464\n",
      "Epoch 00212: val_loss did not improve from 0.21102\n",
      "499889/499889 [==============================] - 1s 3us/sample - loss: 0.2108 - mse_loss_fn: 0.0336 - kl_loss_fn: 17.7464 - val_loss: 0.2140 - val_mse_loss_fn: 0.0384 - val_kl_loss_fn: 17.5977\n",
      "Epoch 213/240\n",
      "497664/499889 [============================>.] - ETA: 0s - loss: 0.2108 - mse_loss_fn: 0.0337 - kl_loss_fn: 17.7445\n",
      "Epoch 00213: val_loss did not improve from 0.21102\n",
      "499889/499889 [==============================] - 1s 3us/sample - loss: 0.2108 - mse_loss_fn: 0.0336 - kl_loss_fn: 17.7448 - val_loss: 0.2245 - val_mse_loss_fn: 0.0489 - val_kl_loss_fn: 17.6137\n",
      "Epoch 214/240\n",
      "477184/499889 [===========================>..] - ETA: 0s - loss: 0.2109 - mse_loss_fn: 0.0338 - kl_loss_fn: 17.7462\n",
      "Epoch 00214: val_loss did not improve from 0.21102\n",
      "499889/499889 [==============================] - 1s 3us/sample - loss: 0.2109 - mse_loss_fn: 0.0337 - kl_loss_fn: 17.7460 - val_loss: 0.2138 - val_mse_loss_fn: 0.0384 - val_kl_loss_fn: 17.5844\n",
      "Epoch 215/240\n",
      "485376/499889 [============================>.] - ETA: 0s - loss: 0.2104 - mse_loss_fn: 0.0333 - kl_loss_fn: 17.7450\n",
      "Epoch 00215: val_loss did not improve from 0.21102\n",
      "499889/499889 [==============================] - 1s 3us/sample - loss: 0.2105 - mse_loss_fn: 0.0333 - kl_loss_fn: 17.7452 - val_loss: 0.2159 - val_mse_loss_fn: 0.0402 - val_kl_loss_fn: 17.6120\n",
      "Epoch 216/240\n",
      "475136/499889 [===========================>..] - ETA: 0s - loss: 0.2109 - mse_loss_fn: 0.0339 - kl_loss_fn: 17.7418\n",
      "Epoch 00216: val_loss did not improve from 0.21102\n",
      "499889/499889 [==============================] - 1s 3us/sample - loss: 0.2109 - mse_loss_fn: 0.0338 - kl_loss_fn: 17.7418 - val_loss: 0.2140 - val_mse_loss_fn: 0.0382 - val_kl_loss_fn: 17.6201\n",
      "Epoch 217/240\n",
      "476160/499889 [===========================>..] - ETA: 0s - loss: 0.2108 - mse_loss_fn: 0.0337 - kl_loss_fn: 17.7436\n",
      "Epoch 00217: val_loss did not improve from 0.21102\n",
      "499889/499889 [==============================] - 1s 3us/sample - loss: 0.2107 - mse_loss_fn: 0.0336 - kl_loss_fn: 17.7433 - val_loss: 0.2171 - val_mse_loss_fn: 0.0415 - val_kl_loss_fn: 17.5952\n",
      "Epoch 218/240\n",
      "477184/499889 [===========================>..] - ETA: 0s - loss: 0.2109 - mse_loss_fn: 0.0338 - kl_loss_fn: 17.7467\n",
      "Epoch 00218: val_loss did not improve from 0.21102\n",
      "499889/499889 [==============================] - 1s 3us/sample - loss: 0.2109 - mse_loss_fn: 0.0337 - kl_loss_fn: 17.7463 - val_loss: 0.2145 - val_mse_loss_fn: 0.0390 - val_kl_loss_fn: 17.5934\n",
      "Epoch 219/240\n",
      "496640/499889 [============================>.] - ETA: 0s - loss: 0.2107 - mse_loss_fn: 0.0336 - kl_loss_fn: 17.7428\n",
      "Epoch 00219: val_loss did not improve from 0.21102\n",
      "499889/499889 [==============================] - 1s 3us/sample - loss: 0.2107 - mse_loss_fn: 0.0336 - kl_loss_fn: 17.7432 - val_loss: 0.2234 - val_mse_loss_fn: 0.0480 - val_kl_loss_fn: 17.5845\n",
      "Epoch 220/240\n",
      "486400/499889 [============================>.] - ETA: 0s - loss: 0.2110 - mse_loss_fn: 0.0339 - kl_loss_fn: 17.7400\n",
      "Epoch 00220: val_loss did not improve from 0.21102\n",
      "499889/499889 [==============================] - 1s 3us/sample - loss: 0.2109 - mse_loss_fn: 0.0338 - kl_loss_fn: 17.7391 - val_loss: 0.2158 - val_mse_loss_fn: 0.0396 - val_kl_loss_fn: 17.6546\n",
      "Epoch 221/240\n",
      "484352/499889 [============================>.] - ETA: 0s - loss: 0.2107 - mse_loss_fn: 0.0337 - kl_loss_fn: 17.7355\n",
      "Epoch 00221: val_loss did not improve from 0.21102\n",
      "499889/499889 [==============================] - 1s 3us/sample - loss: 0.2107 - mse_loss_fn: 0.0336 - kl_loss_fn: 17.7368 - val_loss: 0.2122 - val_mse_loss_fn: 0.0362 - val_kl_loss_fn: 17.6308\n",
      "Epoch 222/240\n",
      "479232/499889 [===========================>..] - ETA: 0s - loss: 0.2105 - mse_loss_fn: 0.0335 - kl_loss_fn: 17.7356\n",
      "Epoch 00222: val_loss did not improve from 0.21102\n",
      "499889/499889 [==============================] - 1s 3us/sample - loss: 0.2105 - mse_loss_fn: 0.0334 - kl_loss_fn: 17.7364 - val_loss: 0.2116 - val_mse_loss_fn: 0.0356 - val_kl_loss_fn: 17.6419\n",
      "Epoch 223/240\n",
      "490496/499889 [============================>.] - ETA: 0s - loss: 0.2107 - mse_loss_fn: 0.0336 - kl_loss_fn: 17.7393\n",
      "Epoch 00223: val_loss did not improve from 0.21102\n",
      "499889/499889 [==============================] - 1s 3us/sample - loss: 0.2107 - mse_loss_fn: 0.0336 - kl_loss_fn: 17.7398 - val_loss: 0.2277 - val_mse_loss_fn: 0.0521 - val_kl_loss_fn: 17.6101\n",
      "Epoch 224/240\n",
      "491520/499889 [============================>.] - ETA: 0s - loss: 0.2108 - mse_loss_fn: 0.0338 - kl_loss_fn: 17.7322\n",
      "Epoch 00224: val_loss did not improve from 0.21102\n",
      "499889/499889 [==============================] - 1s 3us/sample - loss: 0.2108 - mse_loss_fn: 0.0337 - kl_loss_fn: 17.7336 - val_loss: 0.2131 - val_mse_loss_fn: 0.0370 - val_kl_loss_fn: 17.6449\n",
      "Epoch 225/240\n",
      "494592/499889 [============================>.] - ETA: 0s - loss: 0.2108 - mse_loss_fn: 0.0338 - kl_loss_fn: 17.7347\n",
      "Epoch 00225: val_loss did not improve from 0.21102\n",
      "499889/499889 [==============================] - 1s 3us/sample - loss: 0.2108 - mse_loss_fn: 0.0337 - kl_loss_fn: 17.7342 - val_loss: 0.2133 - val_mse_loss_fn: 0.0381 - val_kl_loss_fn: 17.5533\n",
      "Epoch 226/240\n",
      "487424/499889 [============================>.] - ETA: 0s - loss: 0.2107 - mse_loss_fn: 0.0336 - kl_loss_fn: 17.7344\n",
      "Epoch 00226: val_loss did not improve from 0.21102\n",
      "499889/499889 [==============================] - 1s 3us/sample - loss: 0.2106 - mse_loss_fn: 0.0336 - kl_loss_fn: 17.7341 - val_loss: 0.2177 - val_mse_loss_fn: 0.0421 - val_kl_loss_fn: 17.5969\n",
      "Epoch 227/240\n",
      "488448/499889 [============================>.] - ETA: 0s - loss: 0.2106 - mse_loss_fn: 0.0336 - kl_loss_fn: 17.7341\n",
      "Epoch 00227: val_loss did not improve from 0.21102\n",
      "499889/499889 [==============================] - 1s 3us/sample - loss: 0.2106 - mse_loss_fn: 0.0336 - kl_loss_fn: 17.7342 - val_loss: 0.2211 - val_mse_loss_fn: 0.0451 - val_kl_loss_fn: 17.6440\n",
      "Epoch 228/240\n",
      "484352/499889 [============================>.] - ETA: 0s - loss: 0.2104 - mse_loss_fn: 0.0334 - kl_loss_fn: 17.7337\n",
      "Epoch 00228: val_loss did not improve from 0.21102\n",
      "499889/499889 [==============================] - 1s 3us/sample - loss: 0.2104 - mse_loss_fn: 0.0334 - kl_loss_fn: 17.7343 - val_loss: 0.2190 - val_mse_loss_fn: 0.0438 - val_kl_loss_fn: 17.5695\n",
      "Epoch 229/240\n",
      "484352/499889 [============================>.] - ETA: 0s - loss: 0.2109 - mse_loss_fn: 0.0339 - kl_loss_fn: 17.7317\n",
      "Epoch 00229: val_loss did not improve from 0.21102\n",
      "499889/499889 [==============================] - 1s 3us/sample - loss: 0.2108 - mse_loss_fn: 0.0338 - kl_loss_fn: 17.7319 - val_loss: 0.2195 - val_mse_loss_fn: 0.0439 - val_kl_loss_fn: 17.6105\n",
      "Epoch 230/240\n",
      "486400/499889 [============================>.] - ETA: 0s - loss: 0.2103 - mse_loss_fn: 0.0334 - kl_loss_fn: 17.7269\n",
      "Epoch 00230: val_loss did not improve from 0.21102\n",
      "499889/499889 [==============================] - 1s 3us/sample - loss: 0.2103 - mse_loss_fn: 0.0334 - kl_loss_fn: 17.7266 - val_loss: 0.2178 - val_mse_loss_fn: 0.0423 - val_kl_loss_fn: 17.5834\n",
      "Epoch 231/240\n",
      "492544/499889 [============================>.] - ETA: 0s - loss: 0.2108 - mse_loss_fn: 0.0338 - kl_loss_fn: 17.7317\n",
      "Epoch 00231: val_loss did not improve from 0.21102\n",
      "499889/499889 [==============================] - 1s 3us/sample - loss: 0.2108 - mse_loss_fn: 0.0337 - kl_loss_fn: 17.7313 - val_loss: 0.2230 - val_mse_loss_fn: 0.0475 - val_kl_loss_fn: 17.5917\n",
      "Epoch 232/240\n",
      "494592/499889 [============================>.] - ETA: 0s - loss: 0.2108 - mse_loss_fn: 0.0339 - kl_loss_fn: 17.7299\n",
      "Epoch 00232: val_loss did not improve from 0.21102\n",
      "499889/499889 [==============================] - 1s 3us/sample - loss: 0.2108 - mse_loss_fn: 0.0338 - kl_loss_fn: 17.7303 - val_loss: 0.2150 - val_mse_loss_fn: 0.0394 - val_kl_loss_fn: 17.6015\n",
      "Epoch 233/240\n",
      "499889/499889 [==============================] - ETA: 0s - loss: 0.2106 - mse_loss_fn: 0.0336 - kl_loss_fn: 17.7284\n",
      "Epoch 00233: val_loss did not improve from 0.21102\n",
      "499889/499889 [==============================] - 1s 3us/sample - loss: 0.2106 - mse_loss_fn: 0.0336 - kl_loss_fn: 17.7284 - val_loss: 0.2189 - val_mse_loss_fn: 0.0430 - val_kl_loss_fn: 17.6287\n",
      "Epoch 234/240\n",
      "497664/499889 [============================>.] - ETA: 0s - loss: 0.2104 - mse_loss_fn: 0.0335 - kl_loss_fn: 17.7277\n",
      "Epoch 00234: val_loss did not improve from 0.21102\n",
      "499889/499889 [==============================] - 1s 3us/sample - loss: 0.2104 - mse_loss_fn: 0.0334 - kl_loss_fn: 17.7277 - val_loss: 0.2135 - val_mse_loss_fn: 0.0379 - val_kl_loss_fn: 17.6017\n",
      "Epoch 235/240\n",
      "499889/499889 [==============================] - ETA: 0s - loss: 0.2101 - mse_loss_fn: 0.0332 - kl_loss_fn: 17.7276\n",
      "Epoch 00235: val_loss did not improve from 0.21102\n",
      "499889/499889 [==============================] - 1s 3us/sample - loss: 0.2101 - mse_loss_fn: 0.0332 - kl_loss_fn: 17.7276 - val_loss: 0.2130 - val_mse_loss_fn: 0.0374 - val_kl_loss_fn: 17.5921\n",
      "Epoch 236/240\n",
      "499889/499889 [==============================] - ETA: 0s - loss: 0.2106 - mse_loss_fn: 0.0336 - kl_loss_fn: 17.7280\n",
      "Epoch 00236: val_loss did not improve from 0.21102\n",
      "499889/499889 [==============================] - 1s 3us/sample - loss: 0.2106 - mse_loss_fn: 0.0336 - kl_loss_fn: 17.7280 - val_loss: 0.2197 - val_mse_loss_fn: 0.0447 - val_kl_loss_fn: 17.5443\n",
      "Epoch 237/240\n",
      "491520/499889 [============================>.] - ETA: 0s - loss: 0.2106 - mse_loss_fn: 0.0337 - kl_loss_fn: 17.7228\n",
      "Epoch 00237: val_loss did not improve from 0.21102\n",
      "499889/499889 [==============================] - 1s 3us/sample - loss: 0.2106 - mse_loss_fn: 0.0336 - kl_loss_fn: 17.7229 - val_loss: 0.2164 - val_mse_loss_fn: 0.0410 - val_kl_loss_fn: 17.5803\n",
      "Epoch 238/240\n",
      "490496/499889 [============================>.] - ETA: 0s - loss: 0.2105 - mse_loss_fn: 0.0335 - kl_loss_fn: 17.7330\n",
      "Epoch 00238: val_loss did not improve from 0.21102\n",
      "499889/499889 [==============================] - 1s 3us/sample - loss: 0.2104 - mse_loss_fn: 0.0334 - kl_loss_fn: 17.7329 - val_loss: 0.2114 - val_mse_loss_fn: 0.0363 - val_kl_loss_fn: 17.5466\n",
      "Epoch 239/240\n",
      "489472/499889 [============================>.] - ETA: 0s - loss: 0.2104 - mse_loss_fn: 0.0336 - kl_loss_fn: 17.7212\n",
      "Epoch 00239: val_loss did not improve from 0.21102\n",
      "499889/499889 [==============================] - 1s 3us/sample - loss: 0.2104 - mse_loss_fn: 0.0335 - kl_loss_fn: 17.7221 - val_loss: 0.2183 - val_mse_loss_fn: 0.0431 - val_kl_loss_fn: 17.5626\n",
      "Epoch 240/240\n",
      "495616/499889 [============================>.] - ETA: 0s - loss: 0.2106 - mse_loss_fn: 0.0336 - kl_loss_fn: 17.7285\n",
      "Epoch 00240: val_loss improved from 0.21102 to 0.21094, saving model to outputs/models/cVAEz6_03-27-2023/cbvae_LHCO2020_20d_e-6.hdf5\n",
      "499889/499889 [==============================] - 1s 3us/sample - loss: 0.2106 - mse_loss_fn: 0.0336 - kl_loss_fn: 17.7279 - val_loss: 0.2109 - val_mse_loss_fn: 0.0359 - val_kl_loss_fn: 17.5368\n",
      "Train on 499889 samples, validate on 378759 samples\n",
      "Epoch 1/240\n",
      "490496/499889 [============================>.] - ETA: 0s - loss: 0.2111 - mse_loss_fn: 0.0341 - kl_loss_fn: 17.7334\n",
      "Epoch 00001: val_loss improved from 0.21094 to 0.20918, saving model to outputs/models/cVAEz6_03-27-2023/cbvae_LHCO2020_20d_e-6.hdf5\n",
      "499889/499889 [==============================] - 2s 4us/sample - loss: 0.2110 - mse_loss_fn: 0.0340 - kl_loss_fn: 17.7329 - val_loss: 0.2092 - val_mse_loss_fn: 0.0333 - val_kl_loss_fn: 17.6228\n",
      "Epoch 2/240\n",
      "495616/499889 [============================>.] - ETA: 0s - loss: 0.2085 - mse_loss_fn: 0.0316 - kl_loss_fn: 17.7188\n",
      "Epoch 00002: val_loss did not improve from 0.20918\n",
      "499889/499889 [==============================] - 1s 3us/sample - loss: 0.2084 - mse_loss_fn: 0.0315 - kl_loss_fn: 17.7190 - val_loss: 0.2097 - val_mse_loss_fn: 0.0338 - val_kl_loss_fn: 17.6244\n",
      "Epoch 3/240\n",
      "487424/499889 [============================>.] - ETA: 0s - loss: 0.2087 - mse_loss_fn: 0.0318 - kl_loss_fn: 17.7207\n",
      "Epoch 00003: val_loss did not improve from 0.20918\n",
      "499889/499889 [==============================] - 1s 3us/sample - loss: 0.2086 - mse_loss_fn: 0.0317 - kl_loss_fn: 17.7211 - val_loss: 0.2099 - val_mse_loss_fn: 0.0341 - val_kl_loss_fn: 17.6158\n",
      "Epoch 4/240\n",
      "481280/499889 [===========================>..] - ETA: 0s - loss: 0.2088 - mse_loss_fn: 0.0320 - kl_loss_fn: 17.7171\n",
      "Epoch 00004: val_loss did not improve from 0.20918\n",
      "499889/499889 [==============================] - 1s 3us/sample - loss: 0.2088 - mse_loss_fn: 0.0319 - kl_loss_fn: 17.7179 - val_loss: 0.2119 - val_mse_loss_fn: 0.0359 - val_kl_loss_fn: 17.6417\n",
      "Epoch 5/240\n",
      "482304/499889 [===========================>..] - ETA: 0s - loss: 0.2088 - mse_loss_fn: 0.0319 - kl_loss_fn: 17.7219\n",
      "Epoch 00005: val_loss improved from 0.20918 to 0.20886, saving model to outputs/models/cVAEz6_03-27-2023/cbvae_LHCO2020_20d_e-6.hdf5\n",
      "499889/499889 [==============================] - 1s 3us/sample - loss: 0.2088 - mse_loss_fn: 0.0318 - kl_loss_fn: 17.7208 - val_loss: 0.2089 - val_mse_loss_fn: 0.0327 - val_kl_loss_fn: 17.6506\n",
      "Epoch 6/240\n",
      "495616/499889 [============================>.] - ETA: 0s - loss: 0.2088 - mse_loss_fn: 0.0319 - kl_loss_fn: 17.7221\n",
      "Epoch 00006: val_loss improved from 0.20886 to 0.20884, saving model to outputs/models/cVAEz6_03-27-2023/cbvae_LHCO2020_20d_e-6.hdf5\n",
      "499889/499889 [==============================] - 1s 3us/sample - loss: 0.2088 - mse_loss_fn: 0.0318 - kl_loss_fn: 17.7220 - val_loss: 0.2088 - val_mse_loss_fn: 0.0328 - val_kl_loss_fn: 17.6351\n",
      "Epoch 7/240\n",
      "486400/499889 [============================>.] - ETA: 0s - loss: 0.2088 - mse_loss_fn: 0.0319 - kl_loss_fn: 17.7204\n",
      "Epoch 00007: val_loss did not improve from 0.20884\n",
      "499889/499889 [==============================] - 1s 3us/sample - loss: 0.2088 - mse_loss_fn: 0.0319 - kl_loss_fn: 17.7199 - val_loss: 0.2092 - val_mse_loss_fn: 0.0334 - val_kl_loss_fn: 17.6084\n",
      "Epoch 8/240\n",
      "482304/499889 [===========================>..] - ETA: 0s - loss: 0.2087 - mse_loss_fn: 0.0318 - kl_loss_fn: 17.7208\n",
      "Epoch 00008: val_loss did not improve from 0.20884\n",
      "499889/499889 [==============================] - 1s 3us/sample - loss: 0.2087 - mse_loss_fn: 0.0318 - kl_loss_fn: 17.7195 - val_loss: 0.2177 - val_mse_loss_fn: 0.0419 - val_kl_loss_fn: 17.6265\n",
      "Epoch 9/240\n",
      "491520/499889 [============================>.] - ETA: 0s - loss: 0.2088 - mse_loss_fn: 0.0320 - kl_loss_fn: 17.7179\n",
      "Epoch 00009: val_loss did not improve from 0.20884\n",
      "499889/499889 [==============================] - 1s 3us/sample - loss: 0.2088 - mse_loss_fn: 0.0319 - kl_loss_fn: 17.7184 - val_loss: 0.2128 - val_mse_loss_fn: 0.0367 - val_kl_loss_fn: 17.6489\n",
      "Epoch 10/240\n",
      "493568/499889 [============================>.] - ETA: 0s - loss: 0.2088 - mse_loss_fn: 0.0319 - kl_loss_fn: 17.7224\n",
      "Epoch 00010: val_loss did not improve from 0.20884\n",
      "499889/499889 [==============================] - 1s 3us/sample - loss: 0.2088 - mse_loss_fn: 0.0318 - kl_loss_fn: 17.7221 - val_loss: 0.2137 - val_mse_loss_fn: 0.0381 - val_kl_loss_fn: 17.5927\n",
      "Epoch 11/240\n",
      "492544/499889 [============================>.] - ETA: 0s - loss: 0.2087 - mse_loss_fn: 0.0319 - kl_loss_fn: 17.7158\n",
      "Epoch 00011: val_loss did not improve from 0.20884\n",
      "499889/499889 [==============================] - 1s 3us/sample - loss: 0.2087 - mse_loss_fn: 0.0319 - kl_loss_fn: 17.7155 - val_loss: 0.2098 - val_mse_loss_fn: 0.0339 - val_kl_loss_fn: 17.6199\n",
      "Epoch 12/240\n",
      "490496/499889 [============================>.] - ETA: 0s - loss: 0.2087 - mse_loss_fn: 0.0319 - kl_loss_fn: 17.7150\n",
      "Epoch 00012: val_loss did not improve from 0.20884\n",
      "499889/499889 [==============================] - 1s 3us/sample - loss: 0.2087 - mse_loss_fn: 0.0318 - kl_loss_fn: 17.7147 - val_loss: 0.2137 - val_mse_loss_fn: 0.0380 - val_kl_loss_fn: 17.6013\n",
      "Epoch 13/240\n",
      "498688/499889 [============================>.] - ETA: 0s - loss: 0.2088 - mse_loss_fn: 0.0320 - kl_loss_fn: 17.7181\n",
      "Epoch 00013: val_loss did not improve from 0.20884\n",
      "499889/499889 [==============================] - 1s 3us/sample - loss: 0.2088 - mse_loss_fn: 0.0319 - kl_loss_fn: 17.7181 - val_loss: 0.2107 - val_mse_loss_fn: 0.0342 - val_kl_loss_fn: 17.6784\n",
      "Epoch 14/240\n",
      "495616/499889 [============================>.] - ETA: 0s - loss: 0.2089 - mse_loss_fn: 0.0321 - kl_loss_fn: 17.7118\n",
      "Epoch 00014: val_loss did not improve from 0.20884\n",
      "499889/499889 [==============================] - 1s 3us/sample - loss: 0.2089 - mse_loss_fn: 0.0320 - kl_loss_fn: 17.7122 - val_loss: 0.2096 - val_mse_loss_fn: 0.0336 - val_kl_loss_fn: 17.6338\n",
      "Epoch 15/240\n",
      "493568/499889 [============================>.] - ETA: 0s - loss: 0.2086 - mse_loss_fn: 0.0318 - kl_loss_fn: 17.7130\n",
      "Epoch 00015: val_loss did not improve from 0.20884\n",
      "499889/499889 [==============================] - 1s 3us/sample - loss: 0.2086 - mse_loss_fn: 0.0318 - kl_loss_fn: 17.7127 - val_loss: 0.2100 - val_mse_loss_fn: 0.0337 - val_kl_loss_fn: 17.6573\n",
      "Epoch 16/240\n",
      "494592/499889 [============================>.] - ETA: 0s - loss: 0.2087 - mse_loss_fn: 0.0319 - kl_loss_fn: 17.7112\n",
      "Epoch 00016: val_loss did not improve from 0.20884\n",
      "499889/499889 [==============================] - 1s 3us/sample - loss: 0.2087 - mse_loss_fn: 0.0318 - kl_loss_fn: 17.7111 - val_loss: 0.2120 - val_mse_loss_fn: 0.0363 - val_kl_loss_fn: 17.6061\n",
      "Epoch 17/240\n",
      "498688/499889 [============================>.] - ETA: 0s - loss: 0.2087 - mse_loss_fn: 0.0319 - kl_loss_fn: 17.7128\n",
      "Epoch 00017: val_loss did not improve from 0.20884\n",
      "499889/499889 [==============================] - 1s 3us/sample - loss: 0.2087 - mse_loss_fn: 0.0318 - kl_loss_fn: 17.7129 - val_loss: 0.2108 - val_mse_loss_fn: 0.0346 - val_kl_loss_fn: 17.6529\n",
      "Epoch 18/240\n",
      "499712/499889 [============================>.] - ETA: 0s - loss: 0.2087 - mse_loss_fn: 0.0319 - kl_loss_fn: 17.7129\n",
      "Epoch 00018: val_loss did not improve from 0.20884\n",
      "499889/499889 [==============================] - 1s 3us/sample - loss: 0.2087 - mse_loss_fn: 0.0319 - kl_loss_fn: 17.7129 - val_loss: 0.2124 - val_mse_loss_fn: 0.0364 - val_kl_loss_fn: 17.6324\n",
      "Epoch 19/240\n",
      "480256/499889 [===========================>..] - ETA: 0s - loss: 0.2088 - mse_loss_fn: 0.0320 - kl_loss_fn: 17.7102\n",
      "Epoch 00019: val_loss did not improve from 0.20884\n",
      "499889/499889 [==============================] - 1s 3us/sample - loss: 0.2088 - mse_loss_fn: 0.0320 - kl_loss_fn: 17.7094 - val_loss: 0.2091 - val_mse_loss_fn: 0.0333 - val_kl_loss_fn: 17.6096\n",
      "Epoch 20/240\n",
      "480256/499889 [===========================>..] - ETA: 0s - loss: 0.2087 - mse_loss_fn: 0.0320 - kl_loss_fn: 17.7060\n",
      "Epoch 00020: val_loss did not improve from 0.20884\n",
      "499889/499889 [==============================] - 1s 3us/sample - loss: 0.2087 - mse_loss_fn: 0.0319 - kl_loss_fn: 17.7064 - val_loss: 0.2110 - val_mse_loss_fn: 0.0351 - val_kl_loss_fn: 17.6265\n",
      "Epoch 21/240\n",
      "475136/499889 [===========================>..] - ETA: 0s - loss: 0.2085 - mse_loss_fn: 0.0318 - kl_loss_fn: 17.7073\n",
      "Epoch 00021: val_loss did not improve from 0.20884\n",
      "499889/499889 [==============================] - 1s 3us/sample - loss: 0.2085 - mse_loss_fn: 0.0317 - kl_loss_fn: 17.7073 - val_loss: 0.2118 - val_mse_loss_fn: 0.0355 - val_kl_loss_fn: 17.6669\n",
      "Epoch 22/240\n",
      "476160/499889 [===========================>..] - ETA: 0s - loss: 0.2087 - mse_loss_fn: 0.0319 - kl_loss_fn: 17.7133\n",
      "Epoch 00022: val_loss did not improve from 0.20884\n",
      "499889/499889 [==============================] - 1s 3us/sample - loss: 0.2087 - mse_loss_fn: 0.0318 - kl_loss_fn: 17.7134 - val_loss: 0.2102 - val_mse_loss_fn: 0.0344 - val_kl_loss_fn: 17.6164\n",
      "Epoch 23/240\n",
      "497664/499889 [============================>.] - ETA: 0s - loss: 0.2088 - mse_loss_fn: 0.0320 - kl_loss_fn: 17.7103\n",
      "Epoch 00023: val_loss did not improve from 0.20884\n",
      "499889/499889 [==============================] - 1s 3us/sample - loss: 0.2088 - mse_loss_fn: 0.0320 - kl_loss_fn: 17.7106 - val_loss: 0.2099 - val_mse_loss_fn: 0.0341 - val_kl_loss_fn: 17.6155\n",
      "Epoch 24/240\n",
      "480256/499889 [===========================>..] - ETA: 0s - loss: 0.2087 - mse_loss_fn: 0.0320 - kl_loss_fn: 17.7058\n",
      "Epoch 00024: val_loss did not improve from 0.20884\n",
      "499889/499889 [==============================] - 1s 3us/sample - loss: 0.2087 - mse_loss_fn: 0.0319 - kl_loss_fn: 17.7060 - val_loss: 0.2097 - val_mse_loss_fn: 0.0344 - val_kl_loss_fn: 17.5636\n",
      "Epoch 25/240\n",
      "484352/499889 [============================>.] - ETA: 0s - loss: 0.2088 - mse_loss_fn: 0.0320 - kl_loss_fn: 17.7083\n",
      "Epoch 00025: val_loss did not improve from 0.20884\n",
      "499889/499889 [==============================] - 1s 3us/sample - loss: 0.2088 - mse_loss_fn: 0.0320 - kl_loss_fn: 17.7079 - val_loss: 0.2127 - val_mse_loss_fn: 0.0361 - val_kl_loss_fn: 17.6906\n",
      "Epoch 26/240\n",
      "485376/499889 [============================>.] - ETA: 0s - loss: 0.2087 - mse_loss_fn: 0.0319 - kl_loss_fn: 17.7075\n",
      "Epoch 00026: val_loss did not improve from 0.20884\n",
      "499889/499889 [==============================] - 1s 3us/sample - loss: 0.2087 - mse_loss_fn: 0.0319 - kl_loss_fn: 17.7061 - val_loss: 0.2113 - val_mse_loss_fn: 0.0354 - val_kl_loss_fn: 17.6240\n",
      "Epoch 27/240\n",
      "487424/499889 [============================>.] - ETA: 0s - loss: 0.2087 - mse_loss_fn: 0.0320 - kl_loss_fn: 17.7031\n",
      "Epoch 00027: val_loss did not improve from 0.20884\n",
      "499889/499889 [==============================] - 1s 3us/sample - loss: 0.2086 - mse_loss_fn: 0.0319 - kl_loss_fn: 17.7030 - val_loss: 0.2114 - val_mse_loss_fn: 0.0353 - val_kl_loss_fn: 17.6457\n",
      "Epoch 28/240\n",
      "481280/499889 [===========================>..] - ETA: 0s - loss: 0.2087 - mse_loss_fn: 0.0319 - kl_loss_fn: 17.7058\n",
      "Epoch 00028: val_loss improved from 0.20884 to 0.20811, saving model to outputs/models/cVAEz6_03-27-2023/cbvae_LHCO2020_20d_e-6.hdf5\n",
      "499889/499889 [==============================] - 1s 3us/sample - loss: 0.2086 - mse_loss_fn: 0.0318 - kl_loss_fn: 17.7055 - val_loss: 0.2081 - val_mse_loss_fn: 0.0323 - val_kl_loss_fn: 17.6111\n",
      "Epoch 29/240\n",
      "484352/499889 [============================>.] - ETA: 0s - loss: 0.2087 - mse_loss_fn: 0.0320 - kl_loss_fn: 17.7032\n",
      "Epoch 00029: val_loss did not improve from 0.20811\n",
      "499889/499889 [==============================] - 1s 3us/sample - loss: 0.2086 - mse_loss_fn: 0.0319 - kl_loss_fn: 17.7034 - val_loss: 0.2109 - val_mse_loss_fn: 0.0351 - val_kl_loss_fn: 17.6171\n",
      "Epoch 30/240\n",
      "488448/499889 [============================>.] - ETA: 0s - loss: 0.2087 - mse_loss_fn: 0.0320 - kl_loss_fn: 17.7061\n",
      "Epoch 00030: val_loss improved from 0.20811 to 0.20791, saving model to outputs/models/cVAEz6_03-27-2023/cbvae_LHCO2020_20d_e-6.hdf5\n",
      "499889/499889 [==============================] - 1s 3us/sample - loss: 0.2087 - mse_loss_fn: 0.0319 - kl_loss_fn: 17.7057 - val_loss: 0.2079 - val_mse_loss_fn: 0.0325 - val_kl_loss_fn: 17.5681\n",
      "Epoch 31/240\n",
      "485376/499889 [============================>.] - ETA: 0s - loss: 0.2086 - mse_loss_fn: 0.0319 - kl_loss_fn: 17.7000\n",
      "Epoch 00031: val_loss did not improve from 0.20791\n",
      "499889/499889 [==============================] - 1s 3us/sample - loss: 0.2086 - mse_loss_fn: 0.0319 - kl_loss_fn: 17.6987 - val_loss: 0.2089 - val_mse_loss_fn: 0.0335 - val_kl_loss_fn: 17.5775\n",
      "Epoch 32/240\n",
      "492544/499889 [============================>.] - ETA: 0s - loss: 0.2086 - mse_loss_fn: 0.0319 - kl_loss_fn: 17.7051\n",
      "Epoch 00032: val_loss did not improve from 0.20791\n",
      "499889/499889 [==============================] - 1s 3us/sample - loss: 0.2086 - mse_loss_fn: 0.0318 - kl_loss_fn: 17.7046 - val_loss: 0.2119 - val_mse_loss_fn: 0.0359 - val_kl_loss_fn: 17.6317\n",
      "Epoch 33/240\n",
      "493568/499889 [============================>.] - ETA: 0s - loss: 0.2087 - mse_loss_fn: 0.0320 - kl_loss_fn: 17.6994\n",
      "Epoch 00033: val_loss did not improve from 0.20791\n",
      "499889/499889 [==============================] - 1s 3us/sample - loss: 0.2087 - mse_loss_fn: 0.0320 - kl_loss_fn: 17.6987 - val_loss: 0.2151 - val_mse_loss_fn: 0.0395 - val_kl_loss_fn: 17.5978\n",
      "Epoch 34/240\n",
      "496640/499889 [============================>.] - ETA: 0s - loss: 0.2087 - mse_loss_fn: 0.0321 - kl_loss_fn: 17.7001\n",
      "Epoch 00034: val_loss did not improve from 0.20791\n",
      "499889/499889 [==============================] - 1s 3us/sample - loss: 0.2087 - mse_loss_fn: 0.0320 - kl_loss_fn: 17.7003 - val_loss: 0.2123 - val_mse_loss_fn: 0.0361 - val_kl_loss_fn: 17.6514\n",
      "Epoch 35/240\n",
      "492544/499889 [============================>.] - ETA: 0s - loss: 0.2086 - mse_loss_fn: 0.0319 - kl_loss_fn: 17.7015\n",
      "Epoch 00035: val_loss did not improve from 0.20791\n",
      "499889/499889 [==============================] - 1s 3us/sample - loss: 0.2086 - mse_loss_fn: 0.0318 - kl_loss_fn: 17.7024 - val_loss: 0.2121 - val_mse_loss_fn: 0.0363 - val_kl_loss_fn: 17.6190\n",
      "Epoch 36/240\n",
      "494592/499889 [============================>.] - ETA: 0s - loss: 0.2087 - mse_loss_fn: 0.0320 - kl_loss_fn: 17.7016\n",
      "Epoch 00036: val_loss did not improve from 0.20791\n",
      "499889/499889 [==============================] - 1s 3us/sample - loss: 0.2087 - mse_loss_fn: 0.0319 - kl_loss_fn: 17.7017 - val_loss: 0.2084 - val_mse_loss_fn: 0.0327 - val_kl_loss_fn: 17.6027\n",
      "Epoch 37/240\n",
      "492544/499889 [============================>.] - ETA: 0s - loss: 0.2085 - mse_loss_fn: 0.0319 - kl_loss_fn: 17.6989\n",
      "Epoch 00037: val_loss did not improve from 0.20791\n",
      "499889/499889 [==============================] - 1s 3us/sample - loss: 0.2085 - mse_loss_fn: 0.0318 - kl_loss_fn: 17.6989 - val_loss: 0.2097 - val_mse_loss_fn: 0.0338 - val_kl_loss_fn: 17.6181\n",
      "Epoch 38/240\n",
      "492544/499889 [============================>.] - ETA: 0s - loss: 0.2084 - mse_loss_fn: 0.0318 - kl_loss_fn: 17.6986\n",
      "Epoch 00038: val_loss did not improve from 0.20791\n",
      "499889/499889 [==============================] - 1s 3us/sample - loss: 0.2084 - mse_loss_fn: 0.0317 - kl_loss_fn: 17.6984 - val_loss: 0.2120 - val_mse_loss_fn: 0.0368 - val_kl_loss_fn: 17.5613\n",
      "Epoch 39/240\n",
      "499712/499889 [============================>.] - ETA: 0s - loss: 0.2088 - mse_loss_fn: 0.0322 - kl_loss_fn: 17.6988\n",
      "Epoch 00039: val_loss did not improve from 0.20791\n",
      "499889/499889 [==============================] - 1s 3us/sample - loss: 0.2088 - mse_loss_fn: 0.0321 - kl_loss_fn: 17.6989 - val_loss: 0.2197 - val_mse_loss_fn: 0.0436 - val_kl_loss_fn: 17.6458\n",
      "Epoch 40/240\n",
      "496640/499889 [============================>.] - ETA: 0s - loss: 0.2087 - mse_loss_fn: 0.0321 - kl_loss_fn: 17.6989\n",
      "Epoch 00040: val_loss did not improve from 0.20791\n",
      "499889/499889 [==============================] - 1s 3us/sample - loss: 0.2087 - mse_loss_fn: 0.0320 - kl_loss_fn: 17.6987 - val_loss: 0.2120 - val_mse_loss_fn: 0.0365 - val_kl_loss_fn: 17.5825\n",
      "Epoch 41/240\n",
      "489472/499889 [============================>.] - ETA: 0s - loss: 0.2086 - mse_loss_fn: 0.0320 - kl_loss_fn: 17.6945\n",
      "Epoch 00041: val_loss did not improve from 0.20791\n",
      "499889/499889 [==============================] - 1s 3us/sample - loss: 0.2086 - mse_loss_fn: 0.0319 - kl_loss_fn: 17.6943 - val_loss: 0.2091 - val_mse_loss_fn: 0.0335 - val_kl_loss_fn: 17.5910\n",
      "Epoch 42/240\n",
      "485376/499889 [============================>.] - ETA: 0s - loss: 0.2086 - mse_loss_fn: 0.0319 - kl_loss_fn: 17.6993\n",
      "Epoch 00042: val_loss did not improve from 0.20791\n",
      "499889/499889 [==============================] - 1s 3us/sample - loss: 0.2086 - mse_loss_fn: 0.0319 - kl_loss_fn: 17.6994 - val_loss: 0.2099 - val_mse_loss_fn: 0.0340 - val_kl_loss_fn: 17.6157\n",
      "Epoch 43/240\n",
      "493568/499889 [============================>.] - ETA: 0s - loss: 0.2084 - mse_loss_fn: 0.0318 - kl_loss_fn: 17.6891\n",
      "Epoch 00043: val_loss did not improve from 0.20791\n",
      "499889/499889 [==============================] - 1s 3us/sample - loss: 0.2084 - mse_loss_fn: 0.0317 - kl_loss_fn: 17.6896 - val_loss: 0.2114 - val_mse_loss_fn: 0.0354 - val_kl_loss_fn: 17.6323\n",
      "Epoch 44/240\n",
      "492544/499889 [============================>.] - ETA: 0s - loss: 0.2085 - mse_loss_fn: 0.0319 - kl_loss_fn: 17.6974\n",
      "Epoch 00044: val_loss did not improve from 0.20791\n",
      "499889/499889 [==============================] - 1s 3us/sample - loss: 0.2085 - mse_loss_fn: 0.0318 - kl_loss_fn: 17.6969 - val_loss: 0.2107 - val_mse_loss_fn: 0.0344 - val_kl_loss_fn: 17.6679\n",
      "Epoch 45/240\n",
      "491520/499889 [============================>.] - ETA: 0s - loss: 0.2086 - mse_loss_fn: 0.0320 - kl_loss_fn: 17.6933\n",
      "Epoch 00045: val_loss did not improve from 0.20791\n",
      "499889/499889 [==============================] - 1s 3us/sample - loss: 0.2086 - mse_loss_fn: 0.0319 - kl_loss_fn: 17.6927 - val_loss: 0.2086 - val_mse_loss_fn: 0.0334 - val_kl_loss_fn: 17.5523\n",
      "Epoch 46/240\n",
      "496640/499889 [============================>.] - ETA: 0s - loss: 0.2084 - mse_loss_fn: 0.0318 - kl_loss_fn: 17.6911\n",
      "Epoch 00046: val_loss did not improve from 0.20791\n",
      "499889/499889 [==============================] - 1s 3us/sample - loss: 0.2084 - mse_loss_fn: 0.0318 - kl_loss_fn: 17.6909 - val_loss: 0.2098 - val_mse_loss_fn: 0.0340 - val_kl_loss_fn: 17.6108\n",
      "Epoch 47/240\n",
      "499712/499889 [============================>.] - ETA: 0s - loss: 0.2085 - mse_loss_fn: 0.0319 - kl_loss_fn: 17.6890\n",
      "Epoch 00047: val_loss did not improve from 0.20791\n",
      "499889/499889 [==============================] - 1s 3us/sample - loss: 0.2084 - mse_loss_fn: 0.0318 - kl_loss_fn: 17.6889 - val_loss: 0.2085 - val_mse_loss_fn: 0.0329 - val_kl_loss_fn: 17.5978\n",
      "Epoch 48/240\n",
      "485376/499889 [============================>.] - ETA: 0s - loss: 0.2085 - mse_loss_fn: 0.0320 - kl_loss_fn: 17.6869\n",
      "Epoch 00048: val_loss did not improve from 0.20791\n",
      "499889/499889 [==============================] - 1s 3us/sample - loss: 0.2085 - mse_loss_fn: 0.0319 - kl_loss_fn: 17.6879 - val_loss: 0.2103 - val_mse_loss_fn: 0.0345 - val_kl_loss_fn: 17.6220\n",
      "Epoch 49/240\n",
      "489472/499889 [============================>.] - ETA: 0s - loss: 0.2085 - mse_loss_fn: 0.0319 - kl_loss_fn: 17.6874\n",
      "Epoch 00049: val_loss did not improve from 0.20791\n",
      "499889/499889 [==============================] - 1s 3us/sample - loss: 0.2085 - mse_loss_fn: 0.0319 - kl_loss_fn: 17.6875 - val_loss: 0.2098 - val_mse_loss_fn: 0.0344 - val_kl_loss_fn: 17.5750\n",
      "Epoch 50/240\n",
      "497664/499889 [============================>.] - ETA: 0s - loss: 0.2085 - mse_loss_fn: 0.0319 - kl_loss_fn: 17.6871\n",
      "Epoch 00050: val_loss did not improve from 0.20791\n",
      "499889/499889 [==============================] - 1s 3us/sample - loss: 0.2085 - mse_loss_fn: 0.0319 - kl_loss_fn: 17.6872 - val_loss: 0.2102 - val_mse_loss_fn: 0.0347 - val_kl_loss_fn: 17.5892\n",
      "Epoch 51/240\n",
      "497664/499889 [============================>.] - ETA: 0s - loss: 0.2086 - mse_loss_fn: 0.0320 - kl_loss_fn: 17.6897\n",
      "Epoch 00051: val_loss did not improve from 0.20791\n",
      "499889/499889 [==============================] - 1s 3us/sample - loss: 0.2086 - mse_loss_fn: 0.0319 - kl_loss_fn: 17.6900 - val_loss: 0.2125 - val_mse_loss_fn: 0.0368 - val_kl_loss_fn: 17.5981\n",
      "Epoch 52/240\n",
      "496640/499889 [============================>.] - ETA: 0s - loss: 0.2085 - mse_loss_fn: 0.0320 - kl_loss_fn: 17.6856\n",
      "Epoch 00052: val_loss did not improve from 0.20791\n",
      "499889/499889 [==============================] - 1s 3us/sample - loss: 0.2085 - mse_loss_fn: 0.0319 - kl_loss_fn: 17.6858 - val_loss: 0.2117 - val_mse_loss_fn: 0.0360 - val_kl_loss_fn: 17.6078\n",
      "Epoch 53/240\n",
      "493568/499889 [============================>.] - ETA: 0s - loss: 0.2084 - mse_loss_fn: 0.0319 - kl_loss_fn: 17.6838\n",
      "Epoch 00053: val_loss did not improve from 0.20791\n",
      "499889/499889 [==============================] - 1s 3us/sample - loss: 0.2084 - mse_loss_fn: 0.0319 - kl_loss_fn: 17.6831 - val_loss: 0.2112 - val_mse_loss_fn: 0.0357 - val_kl_loss_fn: 17.5828\n",
      "Epoch 54/240\n",
      "497664/499889 [============================>.] - ETA: 0s - loss: 0.2084 - mse_loss_fn: 0.0319 - kl_loss_fn: 17.6808\n",
      "Epoch 00054: val_loss did not improve from 0.20791\n",
      "499889/499889 [==============================] - 1s 3us/sample - loss: 0.2084 - mse_loss_fn: 0.0319 - kl_loss_fn: 17.6806 - val_loss: 0.2101 - val_mse_loss_fn: 0.0348 - val_kl_loss_fn: 17.5647\n",
      "Epoch 55/240\n",
      "491520/499889 [============================>.] - ETA: 0s - loss: 0.2084 - mse_loss_fn: 0.0319 - kl_loss_fn: 17.6832\n",
      "Epoch 00055: val_loss did not improve from 0.20791\n",
      "499889/499889 [==============================] - 1s 3us/sample - loss: 0.2084 - mse_loss_fn: 0.0318 - kl_loss_fn: 17.6832 - val_loss: 0.2124 - val_mse_loss_fn: 0.0368 - val_kl_loss_fn: 17.5975\n",
      "Epoch 56/240\n",
      "492544/499889 [============================>.] - ETA: 0s - loss: 0.2087 - mse_loss_fn: 0.0321 - kl_loss_fn: 17.6893\n",
      "Epoch 00056: val_loss did not improve from 0.20791\n",
      "499889/499889 [==============================] - 1s 3us/sample - loss: 0.2087 - mse_loss_fn: 0.0320 - kl_loss_fn: 17.6886 - val_loss: 0.2135 - val_mse_loss_fn: 0.0377 - val_kl_loss_fn: 17.6208\n",
      "Epoch 57/240\n",
      "492544/499889 [============================>.] - ETA: 0s - loss: 0.2084 - mse_loss_fn: 0.0319 - kl_loss_fn: 17.6811\n",
      "Epoch 00057: val_loss did not improve from 0.20791\n",
      "499889/499889 [==============================] - 1s 3us/sample - loss: 0.2084 - mse_loss_fn: 0.0318 - kl_loss_fn: 17.6807 - val_loss: 0.2092 - val_mse_loss_fn: 0.0337 - val_kl_loss_fn: 17.5799\n",
      "Epoch 58/240\n",
      "489472/499889 [============================>.] - ETA: 0s - loss: 0.2083 - mse_loss_fn: 0.0318 - kl_loss_fn: 17.6867\n",
      "Epoch 00058: val_loss did not improve from 0.20791\n",
      "499889/499889 [==============================] - 1s 3us/sample - loss: 0.2083 - mse_loss_fn: 0.0317 - kl_loss_fn: 17.6862 - val_loss: 0.2131 - val_mse_loss_fn: 0.0375 - val_kl_loss_fn: 17.5998\n",
      "Epoch 59/240\n",
      "493568/499889 [============================>.] - ETA: 0s - loss: 0.2087 - mse_loss_fn: 0.0322 - kl_loss_fn: 17.6779\n",
      "Epoch 00059: val_loss did not improve from 0.20791\n",
      "499889/499889 [==============================] - 1s 3us/sample - loss: 0.2087 - mse_loss_fn: 0.0322 - kl_loss_fn: 17.6771 - val_loss: 0.2151 - val_mse_loss_fn: 0.0396 - val_kl_loss_fn: 17.5846\n",
      "Epoch 60/240\n",
      "476160/499889 [===========================>..] - ETA: 0s - loss: 0.2084 - mse_loss_fn: 0.0319 - kl_loss_fn: 17.6818\n",
      "Epoch 00060: val_loss did not improve from 0.20791\n",
      "499889/499889 [==============================] - 1s 3us/sample - loss: 0.2083 - mse_loss_fn: 0.0318 - kl_loss_fn: 17.6812 - val_loss: 0.2085 - val_mse_loss_fn: 0.0327 - val_kl_loss_fn: 17.6158\n",
      "Epoch 61/240\n",
      "480256/499889 [===========================>..] - ETA: 0s - loss: 0.2084 - mse_loss_fn: 0.0320 - kl_loss_fn: 17.6798\n",
      "Epoch 00061: val_loss did not improve from 0.20791\n",
      "499889/499889 [==============================] - 1s 3us/sample - loss: 0.2084 - mse_loss_fn: 0.0319 - kl_loss_fn: 17.6802 - val_loss: 0.2134 - val_mse_loss_fn: 0.0381 - val_kl_loss_fn: 17.5695\n",
      "Epoch 62/240\n",
      "476160/499889 [===========================>..] - ETA: 0s - loss: 0.2084 - mse_loss_fn: 0.0319 - kl_loss_fn: 17.6805\n",
      "Epoch 00062: val_loss did not improve from 0.20791\n",
      "499889/499889 [==============================] - 1s 3us/sample - loss: 0.2084 - mse_loss_fn: 0.0319 - kl_loss_fn: 17.6795 - val_loss: 0.2129 - val_mse_loss_fn: 0.0371 - val_kl_loss_fn: 17.6120\n",
      "Epoch 63/240\n",
      "489472/499889 [============================>.] - ETA: 0s - loss: 0.2085 - mse_loss_fn: 0.0320 - kl_loss_fn: 17.6784\n",
      "Epoch 00063: val_loss did not improve from 0.20791\n",
      "499889/499889 [==============================] - 1s 3us/sample - loss: 0.2085 - mse_loss_fn: 0.0320 - kl_loss_fn: 17.6792 - val_loss: 0.2103 - val_mse_loss_fn: 0.0349 - val_kl_loss_fn: 17.5776\n",
      "Epoch 64/240\n",
      "492544/499889 [============================>.] - ETA: 0s - loss: 0.2085 - mse_loss_fn: 0.0321 - kl_loss_fn: 17.6741\n",
      "Epoch 00064: val_loss did not improve from 0.20791\n",
      "499889/499889 [==============================] - 1s 3us/sample - loss: 0.2085 - mse_loss_fn: 0.0320 - kl_loss_fn: 17.6743 - val_loss: 0.2102 - val_mse_loss_fn: 0.0346 - val_kl_loss_fn: 17.5890\n",
      "Epoch 65/240\n",
      "488448/499889 [============================>.] - ETA: 0s - loss: 0.2083 - mse_loss_fn: 0.0319 - kl_loss_fn: 17.6752\n",
      "Epoch 00065: val_loss did not improve from 0.20791\n",
      "499889/499889 [==============================] - 1s 3us/sample - loss: 0.2083 - mse_loss_fn: 0.0318 - kl_loss_fn: 17.6761 - val_loss: 0.2095 - val_mse_loss_fn: 0.0336 - val_kl_loss_fn: 17.6181\n",
      "Epoch 66/240\n",
      "491520/499889 [============================>.] - ETA: 0s - loss: 0.2085 - mse_loss_fn: 0.0320 - kl_loss_fn: 17.6765\n",
      "Epoch 00066: val_loss did not improve from 0.20791\n",
      "499889/499889 [==============================] - 1s 3us/sample - loss: 0.2085 - mse_loss_fn: 0.0320 - kl_loss_fn: 17.6775 - val_loss: 0.2105 - val_mse_loss_fn: 0.0347 - val_kl_loss_fn: 17.6184\n",
      "Epoch 67/240\n",
      "488448/499889 [============================>.] - ETA: 0s - loss: 0.2084 - mse_loss_fn: 0.0319 - kl_loss_fn: 17.6763\n",
      "Epoch 00067: val_loss did not improve from 0.20791\n",
      "499889/499889 [==============================] - 1s 3us/sample - loss: 0.2084 - mse_loss_fn: 0.0319 - kl_loss_fn: 17.6769 - val_loss: 0.2093 - val_mse_loss_fn: 0.0335 - val_kl_loss_fn: 17.6140\n",
      "Epoch 68/240\n",
      "486400/499889 [============================>.] - ETA: 0s - loss: 0.2083 - mse_loss_fn: 0.0318 - kl_loss_fn: 17.6770\n",
      "Epoch 00068: val_loss did not improve from 0.20791\n",
      "499889/499889 [==============================] - 1s 3us/sample - loss: 0.2083 - mse_loss_fn: 0.0318 - kl_loss_fn: 17.6768 - val_loss: 0.2100 - val_mse_loss_fn: 0.0344 - val_kl_loss_fn: 17.5964\n",
      "Epoch 69/240\n",
      "492544/499889 [============================>.] - ETA: 0s - loss: 0.2084 - mse_loss_fn: 0.0319 - kl_loss_fn: 17.6772\n",
      "Epoch 00069: val_loss did not improve from 0.20791\n",
      "499889/499889 [==============================] - 1s 3us/sample - loss: 0.2084 - mse_loss_fn: 0.0319 - kl_loss_fn: 17.6769 - val_loss: 0.2105 - val_mse_loss_fn: 0.0348 - val_kl_loss_fn: 17.6067\n",
      "Epoch 70/240\n",
      "490496/499889 [============================>.] - ETA: 0s - loss: 0.2083 - mse_loss_fn: 0.0318 - kl_loss_fn: 17.6763\n",
      "Epoch 00070: val_loss did not improve from 0.20791\n",
      "499889/499889 [==============================] - 1s 3us/sample - loss: 0.2083 - mse_loss_fn: 0.0318 - kl_loss_fn: 17.6757 - val_loss: 0.2106 - val_mse_loss_fn: 0.0350 - val_kl_loss_fn: 17.6028\n",
      "Epoch 71/240\n",
      "491520/499889 [============================>.] - ETA: 0s - loss: 0.2084 - mse_loss_fn: 0.0320 - kl_loss_fn: 17.6737\n",
      "Epoch 00071: val_loss did not improve from 0.20791\n",
      "499889/499889 [==============================] - 1s 3us/sample - loss: 0.2084 - mse_loss_fn: 0.0319 - kl_loss_fn: 17.6751 - val_loss: 0.2129 - val_mse_loss_fn: 0.0370 - val_kl_loss_fn: 17.6272\n",
      "Epoch 72/240\n",
      "486400/499889 [============================>.] - ETA: 0s - loss: 0.2085 - mse_loss_fn: 0.0320 - kl_loss_fn: 17.6730\n",
      "Epoch 00072: val_loss did not improve from 0.20791\n",
      "499889/499889 [==============================] - 1s 3us/sample - loss: 0.2084 - mse_loss_fn: 0.0320 - kl_loss_fn: 17.6736 - val_loss: 0.2084 - val_mse_loss_fn: 0.0328 - val_kl_loss_fn: 17.5835\n",
      "Epoch 73/240\n",
      "493568/499889 [============================>.] - ETA: 0s - loss: 0.2082 - mse_loss_fn: 0.0318 - kl_loss_fn: 17.6710\n",
      "Epoch 00073: val_loss did not improve from 0.20791\n",
      "499889/499889 [==============================] - 1s 3us/sample - loss: 0.2082 - mse_loss_fn: 0.0317 - kl_loss_fn: 17.6711 - val_loss: 0.2086 - val_mse_loss_fn: 0.0330 - val_kl_loss_fn: 17.5894\n",
      "Epoch 74/240\n",
      "493568/499889 [============================>.] - ETA: 0s - loss: 0.2085 - mse_loss_fn: 0.0321 - kl_loss_fn: 17.6700\n",
      "Epoch 00074: val_loss did not improve from 0.20791\n",
      "499889/499889 [==============================] - 1s 3us/sample - loss: 0.2085 - mse_loss_fn: 0.0320 - kl_loss_fn: 17.6704 - val_loss: 0.2129 - val_mse_loss_fn: 0.0371 - val_kl_loss_fn: 17.6164\n",
      "Epoch 75/240\n",
      "492544/499889 [============================>.] - ETA: 0s - loss: 0.2082 - mse_loss_fn: 0.0319 - kl_loss_fn: 17.6653\n",
      "Epoch 00075: val_loss did not improve from 0.20791\n",
      "499889/499889 [==============================] - 1s 3us/sample - loss: 0.2082 - mse_loss_fn: 0.0318 - kl_loss_fn: 17.6659 - val_loss: 0.2100 - val_mse_loss_fn: 0.0343 - val_kl_loss_fn: 17.6020\n",
      "Epoch 76/240\n",
      "492544/499889 [============================>.] - ETA: 0s - loss: 0.2083 - mse_loss_fn: 0.0319 - kl_loss_fn: 17.6660\n",
      "Epoch 00076: val_loss did not improve from 0.20791\n",
      "499889/499889 [==============================] - 1s 3us/sample - loss: 0.2083 - mse_loss_fn: 0.0319 - kl_loss_fn: 17.6662 - val_loss: 0.2096 - val_mse_loss_fn: 0.0337 - val_kl_loss_fn: 17.6304\n",
      "Epoch 77/240\n",
      "494592/499889 [============================>.] - ETA: 0s - loss: 0.2084 - mse_loss_fn: 0.0320 - kl_loss_fn: 17.6684\n",
      "Epoch 00077: val_loss did not improve from 0.20791\n",
      "499889/499889 [==============================] - 1s 3us/sample - loss: 0.2084 - mse_loss_fn: 0.0320 - kl_loss_fn: 17.6678 - val_loss: 0.2081 - val_mse_loss_fn: 0.0331 - val_kl_loss_fn: 17.5336\n",
      "Epoch 78/240\n",
      "496640/499889 [============================>.] - ETA: 0s - loss: 0.2082 - mse_loss_fn: 0.0319 - kl_loss_fn: 17.6637\n",
      "Epoch 00078: val_loss did not improve from 0.20791\n",
      "499889/499889 [==============================] - 1s 3us/sample - loss: 0.2082 - mse_loss_fn: 0.0319 - kl_loss_fn: 17.6635 - val_loss: 0.2096 - val_mse_loss_fn: 0.0340 - val_kl_loss_fn: 17.5906\n",
      "Epoch 79/240\n",
      "497664/499889 [============================>.] - ETA: 0s - loss: 0.2083 - mse_loss_fn: 0.0319 - kl_loss_fn: 17.6662\n",
      "Epoch 00079: val_loss did not improve from 0.20791\n",
      "499889/499889 [==============================] - 1s 3us/sample - loss: 0.2083 - mse_loss_fn: 0.0319 - kl_loss_fn: 17.6661 - val_loss: 0.2104 - val_mse_loss_fn: 0.0348 - val_kl_loss_fn: 17.5893\n",
      "Epoch 80/240\n",
      "488448/499889 [============================>.] - ETA: 0s - loss: 0.2082 - mse_loss_fn: 0.0319 - kl_loss_fn: 17.6657\n",
      "Epoch 00080: val_loss did not improve from 0.20791\n",
      "499889/499889 [==============================] - 1s 3us/sample - loss: 0.2082 - mse_loss_fn: 0.0319 - kl_loss_fn: 17.6648 - val_loss: 0.2100 - val_mse_loss_fn: 0.0347 - val_kl_loss_fn: 17.5716\n",
      "Epoch 81/240\n",
      "486400/499889 [============================>.] - ETA: 0s - loss: 0.2083 - mse_loss_fn: 0.0320 - kl_loss_fn: 17.6614\n",
      "Epoch 00081: val_loss did not improve from 0.20791\n",
      "499889/499889 [==============================] - 1s 3us/sample - loss: 0.2083 - mse_loss_fn: 0.0320 - kl_loss_fn: 17.6619 - val_loss: 0.2118 - val_mse_loss_fn: 0.0361 - val_kl_loss_fn: 17.6086\n",
      "Epoch 82/240\n",
      "484352/499889 [============================>.] - ETA: 0s - loss: 0.2081 - mse_loss_fn: 0.0318 - kl_loss_fn: 17.6611\n",
      "Epoch 00082: val_loss did not improve from 0.20791\n",
      "499889/499889 [==============================] - 1s 3us/sample - loss: 0.2081 - mse_loss_fn: 0.0318 - kl_loss_fn: 17.6609 - val_loss: 0.2112 - val_mse_loss_fn: 0.0357 - val_kl_loss_fn: 17.5902\n",
      "Epoch 83/240\n",
      "486400/499889 [============================>.] - ETA: 0s - loss: 0.2082 - mse_loss_fn: 0.0319 - kl_loss_fn: 17.6623\n",
      "Epoch 00083: val_loss did not improve from 0.20791\n",
      "499889/499889 [==============================] - 1s 3us/sample - loss: 0.2082 - mse_loss_fn: 0.0319 - kl_loss_fn: 17.6603 - val_loss: 0.2094 - val_mse_loss_fn: 0.0336 - val_kl_loss_fn: 17.6119\n",
      "Epoch 84/240\n",
      "499712/499889 [============================>.] - ETA: 0s - loss: 0.2082 - mse_loss_fn: 0.0319 - kl_loss_fn: 17.6584\n",
      "Epoch 00084: val_loss did not improve from 0.20791\n",
      "499889/499889 [==============================] - 1s 3us/sample - loss: 0.2082 - mse_loss_fn: 0.0319 - kl_loss_fn: 17.6585 - val_loss: 0.2127 - val_mse_loss_fn: 0.0374 - val_kl_loss_fn: 17.5635\n",
      "Epoch 85/240\n",
      "485376/499889 [============================>.] - ETA: 0s - loss: 0.2082 - mse_loss_fn: 0.0319 - kl_loss_fn: 17.6616\n",
      "Epoch 00085: val_loss did not improve from 0.20791\n",
      "499889/499889 [==============================] - 1s 3us/sample - loss: 0.2082 - mse_loss_fn: 0.0319 - kl_loss_fn: 17.6611 - val_loss: 0.2111 - val_mse_loss_fn: 0.0362 - val_kl_loss_fn: 17.5268\n",
      "Epoch 86/240\n",
      "491520/499889 [============================>.] - ETA: 0s - loss: 0.2084 - mse_loss_fn: 0.0321 - kl_loss_fn: 17.6598\n",
      "Epoch 00086: val_loss did not improve from 0.20791\n",
      "499889/499889 [==============================] - 1s 3us/sample - loss: 0.2084 - mse_loss_fn: 0.0320 - kl_loss_fn: 17.6605 - val_loss: 0.2091 - val_mse_loss_fn: 0.0335 - val_kl_loss_fn: 17.5955\n",
      "Epoch 87/240\n",
      "476160/499889 [===========================>..] - ETA: 0s - loss: 0.2083 - mse_loss_fn: 0.0320 - kl_loss_fn: 17.6557\n",
      "Epoch 00087: val_loss did not improve from 0.20791\n",
      "499889/499889 [==============================] - 1s 3us/sample - loss: 0.2083 - mse_loss_fn: 0.0320 - kl_loss_fn: 17.6570 - val_loss: 0.2120 - val_mse_loss_fn: 0.0366 - val_kl_loss_fn: 17.5681\n",
      "Epoch 88/240\n",
      "499712/499889 [============================>.] - ETA: 0s - loss: 0.2082 - mse_loss_fn: 0.0319 - kl_loss_fn: 17.6593\n",
      "Epoch 00088: val_loss did not improve from 0.20791\n",
      "499889/499889 [==============================] - 1s 3us/sample - loss: 0.2082 - mse_loss_fn: 0.0319 - kl_loss_fn: 17.6593 - val_loss: 0.2086 - val_mse_loss_fn: 0.0329 - val_kl_loss_fn: 17.6032\n",
      "Epoch 89/240\n",
      "477184/499889 [===========================>..] - ETA: 0s - loss: 0.2081 - mse_loss_fn: 0.0318 - kl_loss_fn: 17.6609\n",
      "Epoch 00089: val_loss did not improve from 0.20791\n",
      "499889/499889 [==============================] - 1s 3us/sample - loss: 0.2081 - mse_loss_fn: 0.0318 - kl_loss_fn: 17.6613 - val_loss: 0.2122 - val_mse_loss_fn: 0.0367 - val_kl_loss_fn: 17.5852\n",
      "Epoch 90/240\n",
      "497664/499889 [============================>.] - ETA: 0s - loss: 0.2083 - mse_loss_fn: 0.0320 - kl_loss_fn: 17.6593\n",
      "Epoch 00090: val_loss did not improve from 0.20791\n",
      "499889/499889 [==============================] - 1s 3us/sample - loss: 0.2083 - mse_loss_fn: 0.0320 - kl_loss_fn: 17.6597 - val_loss: 0.2101 - val_mse_loss_fn: 0.0343 - val_kl_loss_fn: 17.6178\n",
      "Epoch 91/240\n",
      "496640/499889 [============================>.] - ETA: 0s - loss: 0.2083 - mse_loss_fn: 0.0320 - kl_loss_fn: 17.6588\n",
      "Epoch 00091: val_loss did not improve from 0.20791\n",
      "499889/499889 [==============================] - 1s 3us/sample - loss: 0.2083 - mse_loss_fn: 0.0320 - kl_loss_fn: 17.6589 - val_loss: 0.2099 - val_mse_loss_fn: 0.0343 - val_kl_loss_fn: 17.5919\n",
      "Epoch 92/240\n",
      "494592/499889 [============================>.] - ETA: 0s - loss: 0.2081 - mse_loss_fn: 0.0319 - kl_loss_fn: 17.6502\n",
      "Epoch 00092: val_loss did not improve from 0.20791\n",
      "499889/499889 [==============================] - 1s 3us/sample - loss: 0.2081 - mse_loss_fn: 0.0319 - kl_loss_fn: 17.6502 - val_loss: 0.2141 - val_mse_loss_fn: 0.0394 - val_kl_loss_fn: 17.5157\n",
      "Epoch 93/240\n",
      "495616/499889 [============================>.] - ETA: 0s - loss: 0.2081 - mse_loss_fn: 0.0319 - kl_loss_fn: 17.6518\n",
      "Epoch 00093: val_loss did not improve from 0.20791\n",
      "499889/499889 [==============================] - 1s 3us/sample - loss: 0.2081 - mse_loss_fn: 0.0319 - kl_loss_fn: 17.6522 - val_loss: 0.2081 - val_mse_loss_fn: 0.0327 - val_kl_loss_fn: 17.5745\n",
      "Epoch 94/240\n",
      "479232/499889 [===========================>..] - ETA: 0s - loss: 0.2080 - mse_loss_fn: 0.0318 - kl_loss_fn: 17.6521\n",
      "Epoch 00094: val_loss did not improve from 0.20791\n",
      "499889/499889 [==============================] - 1s 3us/sample - loss: 0.2080 - mse_loss_fn: 0.0318 - kl_loss_fn: 17.6514 - val_loss: 0.2124 - val_mse_loss_fn: 0.0367 - val_kl_loss_fn: 17.6101\n",
      "Epoch 95/240\n",
      "496640/499889 [============================>.] - ETA: 0s - loss: 0.2081 - mse_loss_fn: 0.0319 - kl_loss_fn: 17.6518\n",
      "Epoch 00095: val_loss did not improve from 0.20791\n",
      "499889/499889 [==============================] - 1s 3us/sample - loss: 0.2081 - mse_loss_fn: 0.0318 - kl_loss_fn: 17.6518 - val_loss: 0.2088 - val_mse_loss_fn: 0.0332 - val_kl_loss_fn: 17.5894\n",
      "Epoch 96/240\n",
      "497664/499889 [============================>.] - ETA: 0s - loss: 0.2083 - mse_loss_fn: 0.0321 - kl_loss_fn: 17.6526\n",
      "Epoch 00096: val_loss did not improve from 0.20791\n",
      "499889/499889 [==============================] - 1s 3us/sample - loss: 0.2083 - mse_loss_fn: 0.0320 - kl_loss_fn: 17.6525 - val_loss: 0.2080 - val_mse_loss_fn: 0.0329 - val_kl_loss_fn: 17.5497\n",
      "Epoch 97/240\n",
      "498688/499889 [============================>.] - ETA: 0s - loss: 0.2082 - mse_loss_fn: 0.0320 - kl_loss_fn: 17.6526\n",
      "Epoch 00097: val_loss did not improve from 0.20791\n",
      "499889/499889 [==============================] - 1s 3us/sample - loss: 0.2082 - mse_loss_fn: 0.0319 - kl_loss_fn: 17.6526 - val_loss: 0.2114 - val_mse_loss_fn: 0.0362 - val_kl_loss_fn: 17.5568\n",
      "Epoch 98/240\n",
      "494592/499889 [============================>.] - ETA: 0s - loss: 0.2081 - mse_loss_fn: 0.0319 - kl_loss_fn: 17.6477\n",
      "Epoch 00098: val_loss did not improve from 0.20791\n",
      "499889/499889 [==============================] - 1s 3us/sample - loss: 0.2081 - mse_loss_fn: 0.0319 - kl_loss_fn: 17.6481 - val_loss: 0.2091 - val_mse_loss_fn: 0.0336 - val_kl_loss_fn: 17.5824\n",
      "Epoch 99/240\n",
      "494592/499889 [============================>.] - ETA: 0s - loss: 0.2082 - mse_loss_fn: 0.0320 - kl_loss_fn: 17.6464\n",
      "Epoch 00099: val_loss did not improve from 0.20791\n",
      "499889/499889 [==============================] - 1s 3us/sample - loss: 0.2082 - mse_loss_fn: 0.0320 - kl_loss_fn: 17.6468 - val_loss: 0.2103 - val_mse_loss_fn: 0.0351 - val_kl_loss_fn: 17.5571\n",
      "Epoch 100/240\n",
      "484352/499889 [============================>.] - ETA: 0s - loss: 0.2081 - mse_loss_fn: 0.0320 - kl_loss_fn: 17.6479\n",
      "Epoch 00100: val_loss did not improve from 0.20791\n",
      "499889/499889 [==============================] - 1s 3us/sample - loss: 0.2081 - mse_loss_fn: 0.0319 - kl_loss_fn: 17.6481 - val_loss: 0.2083 - val_mse_loss_fn: 0.0329 - val_kl_loss_fn: 17.5704\n",
      "Epoch 101/240\n",
      "493568/499889 [============================>.] - ETA: 0s - loss: 0.2079 - mse_loss_fn: 0.0318 - kl_loss_fn: 17.6478\n",
      "Epoch 00101: val_loss did not improve from 0.20791\n",
      "499889/499889 [==============================] - 1s 3us/sample - loss: 0.2079 - mse_loss_fn: 0.0317 - kl_loss_fn: 17.6476 - val_loss: 0.2103 - val_mse_loss_fn: 0.0352 - val_kl_loss_fn: 17.5469\n",
      "Epoch 102/240\n",
      "493568/499889 [============================>.] - ETA: 0s - loss: 0.2082 - mse_loss_fn: 0.0321 - kl_loss_fn: 17.6423\n",
      "Epoch 00102: val_loss did not improve from 0.20791\n",
      "499889/499889 [==============================] - 1s 3us/sample - loss: 0.2081 - mse_loss_fn: 0.0320 - kl_loss_fn: 17.6425 - val_loss: 0.2146 - val_mse_loss_fn: 0.0391 - val_kl_loss_fn: 17.5925\n",
      "Epoch 103/240\n",
      "498688/499889 [============================>.] - ETA: 0s - loss: 0.2082 - mse_loss_fn: 0.0321 - kl_loss_fn: 17.6473\n",
      "Epoch 00103: val_loss did not improve from 0.20791\n",
      "499889/499889 [==============================] - 1s 3us/sample - loss: 0.2082 - mse_loss_fn: 0.0320 - kl_loss_fn: 17.6471 - val_loss: 0.2097 - val_mse_loss_fn: 0.0346 - val_kl_loss_fn: 17.5439\n",
      "Epoch 104/240\n",
      "479232/499889 [===========================>..] - ETA: 0s - loss: 0.2080 - mse_loss_fn: 0.0319 - kl_loss_fn: 17.6431\n",
      "Epoch 00104: val_loss did not improve from 0.20791\n",
      "499889/499889 [==============================] - 1s 3us/sample - loss: 0.2080 - mse_loss_fn: 0.0319 - kl_loss_fn: 17.6422 - val_loss: 0.2110 - val_mse_loss_fn: 0.0356 - val_kl_loss_fn: 17.5760\n",
      "Epoch 105/240\n",
      "489472/499889 [============================>.] - ETA: 0s - loss: 0.2079 - mse_loss_fn: 0.0318 - kl_loss_fn: 17.6407\n",
      "Epoch 00105: val_loss did not improve from 0.20791\n",
      "499889/499889 [==============================] - 1s 3us/sample - loss: 0.2079 - mse_loss_fn: 0.0318 - kl_loss_fn: 17.6414 - val_loss: 0.2100 - val_mse_loss_fn: 0.0345 - val_kl_loss_fn: 17.5786\n",
      "Epoch 106/240\n",
      "499712/499889 [============================>.] - ETA: 0s - loss: 0.2081 - mse_loss_fn: 0.0320 - kl_loss_fn: 17.6418\n",
      "Epoch 00106: val_loss did not improve from 0.20791\n",
      "499889/499889 [==============================] - 1s 3us/sample - loss: 0.2081 - mse_loss_fn: 0.0320 - kl_loss_fn: 17.6419 - val_loss: 0.2145 - val_mse_loss_fn: 0.0387 - val_kl_loss_fn: 17.6211\n",
      "Epoch 107/240\n",
      "477184/499889 [===========================>..] - ETA: 0s - loss: 0.2081 - mse_loss_fn: 0.0320 - kl_loss_fn: 17.6418\n",
      "Epoch 00107: val_loss did not improve from 0.20791\n",
      "499889/499889 [==============================] - 1s 3us/sample - loss: 0.2081 - mse_loss_fn: 0.0319 - kl_loss_fn: 17.6424 - val_loss: 0.2136 - val_mse_loss_fn: 0.0379 - val_kl_loss_fn: 17.6043\n",
      "Epoch 108/240\n",
      "484352/499889 [============================>.] - ETA: 0s - loss: 0.2081 - mse_loss_fn: 0.0320 - kl_loss_fn: 17.6419\n",
      "Epoch 00108: val_loss did not improve from 0.20791\n",
      "499889/499889 [==============================] - 1s 3us/sample - loss: 0.2081 - mse_loss_fn: 0.0319 - kl_loss_fn: 17.6410 - val_loss: 0.2097 - val_mse_loss_fn: 0.0341 - val_kl_loss_fn: 17.5970\n",
      "Epoch 109/240\n",
      "480256/499889 [===========================>..] - ETA: 0s - loss: 0.2079 - mse_loss_fn: 0.0319 - kl_loss_fn: 17.6389\n",
      "Epoch 00109: val_loss did not improve from 0.20791\n",
      "499889/499889 [==============================] - 1s 3us/sample - loss: 0.2079 - mse_loss_fn: 0.0318 - kl_loss_fn: 17.6388 - val_loss: 0.2133 - val_mse_loss_fn: 0.0380 - val_kl_loss_fn: 17.5701\n",
      "Epoch 110/240\n",
      "485376/499889 [============================>.] - ETA: 0s - loss: 0.2081 - mse_loss_fn: 0.0320 - kl_loss_fn: 17.6422\n",
      "Epoch 00110: val_loss did not improve from 0.20791\n",
      "499889/499889 [==============================] - 1s 3us/sample - loss: 0.2081 - mse_loss_fn: 0.0320 - kl_loss_fn: 17.6412 - val_loss: 0.2116 - val_mse_loss_fn: 0.0365 - val_kl_loss_fn: 17.5477\n",
      "Epoch 111/240\n",
      "484352/499889 [============================>.] - ETA: 0s - loss: 0.2080 - mse_loss_fn: 0.0319 - kl_loss_fn: 17.6409\n",
      "Epoch 00111: val_loss did not improve from 0.20791\n",
      "499889/499889 [==============================] - 1s 3us/sample - loss: 0.2080 - mse_loss_fn: 0.0319 - kl_loss_fn: 17.6400 - val_loss: 0.2126 - val_mse_loss_fn: 0.0373 - val_kl_loss_fn: 17.5652\n",
      "Epoch 112/240\n",
      "476160/499889 [===========================>..] - ETA: 0s - loss: 0.2081 - mse_loss_fn: 0.0320 - kl_loss_fn: 17.6382\n",
      "Epoch 00112: val_loss did not improve from 0.20791\n",
      "499889/499889 [==============================] - 1s 3us/sample - loss: 0.2081 - mse_loss_fn: 0.0320 - kl_loss_fn: 17.6384 - val_loss: 0.2080 - val_mse_loss_fn: 0.0329 - val_kl_loss_fn: 17.5416\n",
      "Epoch 113/240\n",
      "479232/499889 [===========================>..] - ETA: 0s - loss: 0.2080 - mse_loss_fn: 0.0320 - kl_loss_fn: 17.6385\n",
      "Epoch 00113: val_loss did not improve from 0.20791\n",
      "499889/499889 [==============================] - 1s 3us/sample - loss: 0.2080 - mse_loss_fn: 0.0319 - kl_loss_fn: 17.6401 - val_loss: 0.2087 - val_mse_loss_fn: 0.0335 - val_kl_loss_fn: 17.5570\n",
      "Epoch 114/240\n",
      "485376/499889 [============================>.] - ETA: 0s - loss: 0.2080 - mse_loss_fn: 0.0320 - kl_loss_fn: 17.6366\n",
      "Epoch 00114: val_loss did not improve from 0.20791\n",
      "499889/499889 [==============================] - 1s 3us/sample - loss: 0.2080 - mse_loss_fn: 0.0319 - kl_loss_fn: 17.6357 - val_loss: 0.2146 - val_mse_loss_fn: 0.0400 - val_kl_loss_fn: 17.4929\n",
      "Epoch 115/240\n",
      "482304/499889 [===========================>..] - ETA: 0s - loss: 0.2080 - mse_loss_fn: 0.0319 - kl_loss_fn: 17.6371\n",
      "Epoch 00115: val_loss did not improve from 0.20791\n",
      "499889/499889 [==============================] - 1s 3us/sample - loss: 0.2080 - mse_loss_fn: 0.0319 - kl_loss_fn: 17.6362 - val_loss: 0.2102 - val_mse_loss_fn: 0.0354 - val_kl_loss_fn: 17.5177\n",
      "Epoch 116/240\n",
      "483328/499889 [============================>.] - ETA: 0s - loss: 0.2079 - mse_loss_fn: 0.0318 - kl_loss_fn: 17.6419\n",
      "Epoch 00116: val_loss did not improve from 0.20791\n",
      "499889/499889 [==============================] - 1s 3us/sample - loss: 0.2079 - mse_loss_fn: 0.0317 - kl_loss_fn: 17.6431 - val_loss: 0.2086 - val_mse_loss_fn: 0.0330 - val_kl_loss_fn: 17.5926\n",
      "Epoch 117/240\n",
      "479232/499889 [===========================>..] - ETA: 0s - loss: 0.2080 - mse_loss_fn: 0.0319 - kl_loss_fn: 17.6368\n",
      "Epoch 00117: val_loss improved from 0.20791 to 0.20741, saving model to outputs/models/cVAEz6_03-27-2023/cbvae_LHCO2020_20d_e-6.hdf5\n",
      "499889/499889 [==============================] - 1s 3us/sample - loss: 0.2080 - mse_loss_fn: 0.0319 - kl_loss_fn: 17.6376 - val_loss: 0.2074 - val_mse_loss_fn: 0.0322 - val_kl_loss_fn: 17.5530\n",
      "Epoch 118/240\n",
      "493568/499889 [============================>.] - ETA: 0s - loss: 0.2079 - mse_loss_fn: 0.0319 - kl_loss_fn: 17.6256\n",
      "Epoch 00118: val_loss did not improve from 0.20741\n",
      "499889/499889 [==============================] - 1s 3us/sample - loss: 0.2079 - mse_loss_fn: 0.0319 - kl_loss_fn: 17.6262 - val_loss: 0.2108 - val_mse_loss_fn: 0.0359 - val_kl_loss_fn: 17.5260\n",
      "Epoch 119/240\n",
      "492544/499889 [============================>.] - ETA: 0s - loss: 0.2080 - mse_loss_fn: 0.0320 - kl_loss_fn: 17.6353\n",
      "Epoch 00119: val_loss did not improve from 0.20741\n",
      "499889/499889 [==============================] - 1s 3us/sample - loss: 0.2080 - mse_loss_fn: 0.0320 - kl_loss_fn: 17.6358 - val_loss: 0.2098 - val_mse_loss_fn: 0.0345 - val_kl_loss_fn: 17.5567\n",
      "Epoch 120/240\n",
      "492544/499889 [============================>.] - ETA: 0s - loss: 0.2080 - mse_loss_fn: 0.0320 - kl_loss_fn: 17.6300\n",
      "Epoch 00120: val_loss did not improve from 0.20741\n",
      "499889/499889 [==============================] - 1s 3us/sample - loss: 0.2080 - mse_loss_fn: 0.0320 - kl_loss_fn: 17.6307 - val_loss: 0.2086 - val_mse_loss_fn: 0.0332 - val_kl_loss_fn: 17.5710\n",
      "Epoch 121/240\n",
      "493568/499889 [============================>.] - ETA: 0s - loss: 0.2078 - mse_loss_fn: 0.0318 - kl_loss_fn: 17.6284\n",
      "Epoch 00121: val_loss did not improve from 0.20741\n",
      "499889/499889 [==============================] - 1s 3us/sample - loss: 0.2078 - mse_loss_fn: 0.0318 - kl_loss_fn: 17.6284 - val_loss: 0.2163 - val_mse_loss_fn: 0.0412 - val_kl_loss_fn: 17.5456\n",
      "Epoch 122/240\n",
      "492544/499889 [============================>.] - ETA: 0s - loss: 0.2079 - mse_loss_fn: 0.0320 - kl_loss_fn: 17.6284\n",
      "Epoch 00122: val_loss did not improve from 0.20741\n",
      "499889/499889 [==============================] - 1s 3us/sample - loss: 0.2079 - mse_loss_fn: 0.0319 - kl_loss_fn: 17.6281 - val_loss: 0.2120 - val_mse_loss_fn: 0.0370 - val_kl_loss_fn: 17.5363\n",
      "Epoch 123/240\n",
      "493568/499889 [============================>.] - ETA: 0s - loss: 0.2079 - mse_loss_fn: 0.0319 - kl_loss_fn: 17.6299\n",
      "Epoch 00123: val_loss did not improve from 0.20741\n",
      "499889/499889 [==============================] - 1s 3us/sample - loss: 0.2079 - mse_loss_fn: 0.0318 - kl_loss_fn: 17.6302 - val_loss: 0.2076 - val_mse_loss_fn: 0.0325 - val_kl_loss_fn: 17.5503\n",
      "Epoch 124/240\n",
      "494592/499889 [============================>.] - ETA: 0s - loss: 0.2079 - mse_loss_fn: 0.0319 - kl_loss_fn: 17.6304\n",
      "Epoch 00124: val_loss did not improve from 0.20741\n",
      "499889/499889 [==============================] - 1s 3us/sample - loss: 0.2079 - mse_loss_fn: 0.0318 - kl_loss_fn: 17.6303 - val_loss: 0.2206 - val_mse_loss_fn: 0.0457 - val_kl_loss_fn: 17.5363\n",
      "Epoch 125/240\n",
      "496640/499889 [============================>.] - ETA: 0s - loss: 0.2079 - mse_loss_fn: 0.0320 - kl_loss_fn: 17.6282\n",
      "Epoch 00125: val_loss did not improve from 0.20741\n",
      "499889/499889 [==============================] - 1s 3us/sample - loss: 0.2079 - mse_loss_fn: 0.0319 - kl_loss_fn: 17.6279 - val_loss: 0.2081 - val_mse_loss_fn: 0.0332 - val_kl_loss_fn: 17.5256\n",
      "Epoch 126/240\n",
      "489472/499889 [============================>.] - ETA: 0s - loss: 0.2080 - mse_loss_fn: 0.0320 - kl_loss_fn: 17.6280\n",
      "Epoch 00126: val_loss did not improve from 0.20741\n",
      "499889/499889 [==============================] - 1s 3us/sample - loss: 0.2080 - mse_loss_fn: 0.0320 - kl_loss_fn: 17.6275 - val_loss: 0.2118 - val_mse_loss_fn: 0.0368 - val_kl_loss_fn: 17.5342\n",
      "Epoch 127/240\n",
      "483328/499889 [============================>.] - ETA: 0s - loss: 0.2080 - mse_loss_fn: 0.0320 - kl_loss_fn: 17.6248\n",
      "Epoch 00127: val_loss did not improve from 0.20741\n",
      "499889/499889 [==============================] - 1s 3us/sample - loss: 0.2080 - mse_loss_fn: 0.0320 - kl_loss_fn: 17.6250 - val_loss: 0.2094 - val_mse_loss_fn: 0.0344 - val_kl_loss_fn: 17.5354\n",
      "Epoch 128/240\n",
      "486400/499889 [============================>.] - ETA: 0s - loss: 0.2078 - mse_loss_fn: 0.0319 - kl_loss_fn: 17.6187\n",
      "Epoch 00128: val_loss did not improve from 0.20741\n",
      "499889/499889 [==============================] - 1s 3us/sample - loss: 0.2078 - mse_loss_fn: 0.0319 - kl_loss_fn: 17.6189 - val_loss: 0.2090 - val_mse_loss_fn: 0.0341 - val_kl_loss_fn: 17.5240\n",
      "Epoch 129/240\n",
      "490496/499889 [============================>.] - ETA: 0s - loss: 0.2079 - mse_loss_fn: 0.0319 - kl_loss_fn: 17.6277\n",
      "Epoch 00129: val_loss did not improve from 0.20741\n",
      "499889/499889 [==============================] - 1s 3us/sample - loss: 0.2079 - mse_loss_fn: 0.0319 - kl_loss_fn: 17.6278 - val_loss: 0.2091 - val_mse_loss_fn: 0.0337 - val_kl_loss_fn: 17.5750\n",
      "Epoch 130/240\n",
      "484352/499889 [============================>.] - ETA: 0s - loss: 0.2079 - mse_loss_fn: 0.0320 - kl_loss_fn: 17.6232\n",
      "Epoch 00130: val_loss did not improve from 0.20741\n",
      "499889/499889 [==============================] - 1s 3us/sample - loss: 0.2079 - mse_loss_fn: 0.0319 - kl_loss_fn: 17.6254 - val_loss: 0.2083 - val_mse_loss_fn: 0.0330 - val_kl_loss_fn: 17.5639\n",
      "Epoch 131/240\n",
      "485376/499889 [============================>.] - ETA: 0s - loss: 0.2079 - mse_loss_fn: 0.0320 - kl_loss_fn: 17.6236\n",
      "Epoch 00131: val_loss did not improve from 0.20741\n",
      "499889/499889 [==============================] - 1s 3us/sample - loss: 0.2079 - mse_loss_fn: 0.0319 - kl_loss_fn: 17.6240 - val_loss: 0.2123 - val_mse_loss_fn: 0.0375 - val_kl_loss_fn: 17.5100\n",
      "Epoch 132/240\n",
      "488448/499889 [============================>.] - ETA: 0s - loss: 0.2078 - mse_loss_fn: 0.0318 - kl_loss_fn: 17.6248\n",
      "Epoch 00132: val_loss did not improve from 0.20741\n",
      "499889/499889 [==============================] - 1s 3us/sample - loss: 0.2078 - mse_loss_fn: 0.0318 - kl_loss_fn: 17.6251 - val_loss: 0.2086 - val_mse_loss_fn: 0.0335 - val_kl_loss_fn: 17.5470\n",
      "Epoch 133/240\n",
      "493568/499889 [============================>.] - ETA: 0s - loss: 0.2079 - mse_loss_fn: 0.0320 - kl_loss_fn: 17.6223\n",
      "Epoch 00133: val_loss did not improve from 0.20741\n",
      "499889/499889 [==============================] - 1s 3us/sample - loss: 0.2079 - mse_loss_fn: 0.0319 - kl_loss_fn: 17.6226 - val_loss: 0.2113 - val_mse_loss_fn: 0.0370 - val_kl_loss_fn: 17.4651\n",
      "Epoch 134/240\n",
      "491520/499889 [============================>.] - ETA: 0s - loss: 0.2078 - mse_loss_fn: 0.0319 - kl_loss_fn: 17.6225\n",
      "Epoch 00134: val_loss did not improve from 0.20741\n",
      "499889/499889 [==============================] - 1s 3us/sample - loss: 0.2078 - mse_loss_fn: 0.0319 - kl_loss_fn: 17.6222 - val_loss: 0.2114 - val_mse_loss_fn: 0.0363 - val_kl_loss_fn: 17.5381\n",
      "Epoch 135/240\n",
      "485376/499889 [============================>.] - ETA: 0s - loss: 0.2079 - mse_loss_fn: 0.0321 - kl_loss_fn: 17.6201\n",
      "Epoch 00135: val_loss did not improve from 0.20741\n",
      "499889/499889 [==============================] - 1s 3us/sample - loss: 0.2079 - mse_loss_fn: 0.0320 - kl_loss_fn: 17.6200 - val_loss: 0.2095 - val_mse_loss_fn: 0.0339 - val_kl_loss_fn: 17.5993\n",
      "Epoch 136/240\n",
      "482304/499889 [===========================>..] - ETA: 0s - loss: 0.2078 - mse_loss_fn: 0.0320 - kl_loss_fn: 17.6190\n",
      "Epoch 00136: val_loss did not improve from 0.20741\n",
      "499889/499889 [==============================] - 1s 3us/sample - loss: 0.2078 - mse_loss_fn: 0.0319 - kl_loss_fn: 17.6191 - val_loss: 0.2089 - val_mse_loss_fn: 0.0341 - val_kl_loss_fn: 17.5155\n",
      "Epoch 137/240\n",
      "479232/499889 [===========================>..] - ETA: 0s - loss: 0.2077 - mse_loss_fn: 0.0318 - kl_loss_fn: 17.6158\n",
      "Epoch 00137: val_loss did not improve from 0.20741\n",
      "499889/499889 [==============================] - 1s 3us/sample - loss: 0.2077 - mse_loss_fn: 0.0318 - kl_loss_fn: 17.6158 - val_loss: 0.2130 - val_mse_loss_fn: 0.0376 - val_kl_loss_fn: 17.5778\n",
      "Epoch 138/240\n",
      "480256/499889 [===========================>..] - ETA: 0s - loss: 0.2080 - mse_loss_fn: 0.0321 - kl_loss_fn: 17.6187\n",
      "Epoch 00138: val_loss did not improve from 0.20741\n",
      "499889/499889 [==============================] - 1s 3us/sample - loss: 0.2080 - mse_loss_fn: 0.0321 - kl_loss_fn: 17.6200 - val_loss: 0.2088 - val_mse_loss_fn: 0.0334 - val_kl_loss_fn: 17.5734\n",
      "Epoch 139/240\n",
      "480256/499889 [===========================>..] - ETA: 0s - loss: 0.2078 - mse_loss_fn: 0.0319 - kl_loss_fn: 17.6152\n",
      "Epoch 00139: val_loss did not improve from 0.20741\n",
      "499889/499889 [==============================] - 1s 3us/sample - loss: 0.2077 - mse_loss_fn: 0.0319 - kl_loss_fn: 17.6151 - val_loss: 0.2079 - val_mse_loss_fn: 0.0329 - val_kl_loss_fn: 17.5320\n",
      "Epoch 140/240\n",
      "485376/499889 [============================>.] - ETA: 0s - loss: 0.2078 - mse_loss_fn: 0.0319 - kl_loss_fn: 17.6146\n",
      "Epoch 00140: val_loss did not improve from 0.20741\n",
      "499889/499889 [==============================] - 1s 3us/sample - loss: 0.2078 - mse_loss_fn: 0.0319 - kl_loss_fn: 17.6158 - val_loss: 0.2101 - val_mse_loss_fn: 0.0347 - val_kl_loss_fn: 17.5831\n",
      "Epoch 141/240\n",
      "485376/499889 [============================>.] - ETA: 0s - loss: 0.2078 - mse_loss_fn: 0.0319 - kl_loss_fn: 17.6172\n",
      "Epoch 00141: val_loss did not improve from 0.20741\n",
      "499889/499889 [==============================] - 1s 3us/sample - loss: 0.2077 - mse_loss_fn: 0.0318 - kl_loss_fn: 17.6175 - val_loss: 0.2080 - val_mse_loss_fn: 0.0335 - val_kl_loss_fn: 17.4762\n",
      "Epoch 142/240\n",
      "483328/499889 [============================>.] - ETA: 0s - loss: 0.2077 - mse_loss_fn: 0.0319 - kl_loss_fn: 17.6149\n",
      "Epoch 00142: val_loss did not improve from 0.20741\n",
      "499889/499889 [==============================] - 1s 3us/sample - loss: 0.2077 - mse_loss_fn: 0.0318 - kl_loss_fn: 17.6143 - val_loss: 0.2096 - val_mse_loss_fn: 0.0346 - val_kl_loss_fn: 17.5295\n",
      "Epoch 143/240\n",
      "486400/499889 [============================>.] - ETA: 0s - loss: 0.2077 - mse_loss_fn: 0.0319 - kl_loss_fn: 17.6134\n",
      "Epoch 00143: val_loss did not improve from 0.20741\n",
      "499889/499889 [==============================] - 1s 3us/sample - loss: 0.2077 - mse_loss_fn: 0.0318 - kl_loss_fn: 17.6150 - val_loss: 0.2095 - val_mse_loss_fn: 0.0344 - val_kl_loss_fn: 17.5480\n",
      "Epoch 144/240\n",
      "485376/499889 [============================>.] - ETA: 0s - loss: 0.2079 - mse_loss_fn: 0.0320 - kl_loss_fn: 17.6145\n",
      "Epoch 00144: val_loss did not improve from 0.20741\n",
      "499889/499889 [==============================] - 1s 3us/sample - loss: 0.2078 - mse_loss_fn: 0.0320 - kl_loss_fn: 17.6148 - val_loss: 0.2097 - val_mse_loss_fn: 0.0348 - val_kl_loss_fn: 17.5253\n",
      "Epoch 145/240\n",
      "489472/499889 [============================>.] - ETA: 0s - loss: 0.2079 - mse_loss_fn: 0.0321 - kl_loss_fn: 17.6133\n",
      "Epoch 00145: val_loss did not improve from 0.20741\n",
      "499889/499889 [==============================] - 1s 3us/sample - loss: 0.2079 - mse_loss_fn: 0.0320 - kl_loss_fn: 17.6137 - val_loss: 0.2095 - val_mse_loss_fn: 0.0344 - val_kl_loss_fn: 17.5472\n",
      "Epoch 146/240\n",
      "492544/499889 [============================>.] - ETA: 0s - loss: 0.2079 - mse_loss_fn: 0.0321 - kl_loss_fn: 17.6150\n",
      "Epoch 00146: val_loss did not improve from 0.20741\n",
      "499889/499889 [==============================] - 1s 3us/sample - loss: 0.2079 - mse_loss_fn: 0.0320 - kl_loss_fn: 17.6147 - val_loss: 0.2101 - val_mse_loss_fn: 0.0351 - val_kl_loss_fn: 17.5347\n",
      "Epoch 147/240\n",
      "489472/499889 [============================>.] - ETA: 0s - loss: 0.2077 - mse_loss_fn: 0.0319 - kl_loss_fn: 17.6102\n",
      "Epoch 00147: val_loss did not improve from 0.20741\n",
      "499889/499889 [==============================] - 1s 3us/sample - loss: 0.2077 - mse_loss_fn: 0.0318 - kl_loss_fn: 17.6108 - val_loss: 0.2090 - val_mse_loss_fn: 0.0339 - val_kl_loss_fn: 17.5460\n",
      "Epoch 148/240\n",
      "491520/499889 [============================>.] - ETA: 0s - loss: 0.2076 - mse_loss_fn: 0.0318 - kl_loss_fn: 17.6113\n",
      "Epoch 00148: val_loss improved from 0.20741 to 0.20725, saving model to outputs/models/cVAEz6_03-27-2023/cbvae_LHCO2020_20d_e-6.hdf5\n",
      "499889/499889 [==============================] - 1s 3us/sample - loss: 0.2076 - mse_loss_fn: 0.0317 - kl_loss_fn: 17.6115 - val_loss: 0.2073 - val_mse_loss_fn: 0.0321 - val_kl_loss_fn: 17.5481\n",
      "Epoch 149/240\n",
      "491520/499889 [============================>.] - ETA: 0s - loss: 0.2078 - mse_loss_fn: 0.0321 - kl_loss_fn: 17.6079\n",
      "Epoch 00149: val_loss did not improve from 0.20725\n",
      "499889/499889 [==============================] - 1s 3us/sample - loss: 0.2078 - mse_loss_fn: 0.0320 - kl_loss_fn: 17.6075 - val_loss: 0.2088 - val_mse_loss_fn: 0.0339 - val_kl_loss_fn: 17.5237\n",
      "Epoch 150/240\n",
      "486400/499889 [============================>.] - ETA: 0s - loss: 0.2078 - mse_loss_fn: 0.0320 - kl_loss_fn: 17.6081\n",
      "Epoch 00150: val_loss did not improve from 0.20725\n",
      "499889/499889 [==============================] - 1s 3us/sample - loss: 0.2078 - mse_loss_fn: 0.0320 - kl_loss_fn: 17.6084 - val_loss: 0.2078 - val_mse_loss_fn: 0.0327 - val_kl_loss_fn: 17.5409\n",
      "Epoch 151/240\n",
      "485376/499889 [============================>.] - ETA: 0s - loss: 0.2077 - mse_loss_fn: 0.0319 - kl_loss_fn: 17.6124\n",
      "Epoch 00151: val_loss did not improve from 0.20725\n",
      "499889/499889 [==============================] - 1s 3us/sample - loss: 0.2077 - mse_loss_fn: 0.0318 - kl_loss_fn: 17.6125 - val_loss: 0.2104 - val_mse_loss_fn: 0.0356 - val_kl_loss_fn: 17.5244\n",
      "Epoch 152/240\n",
      "487424/499889 [============================>.] - ETA: 0s - loss: 0.2079 - mse_loss_fn: 0.0321 - kl_loss_fn: 17.6105\n",
      "Epoch 00152: val_loss did not improve from 0.20725\n",
      "499889/499889 [==============================] - 1s 3us/sample - loss: 0.2079 - mse_loss_fn: 0.0321 - kl_loss_fn: 17.6115 - val_loss: 0.2111 - val_mse_loss_fn: 0.0360 - val_kl_loss_fn: 17.5478\n",
      "Epoch 153/240\n",
      "492544/499889 [============================>.] - ETA: 0s - loss: 0.2078 - mse_loss_fn: 0.0320 - kl_loss_fn: 17.6110\n",
      "Epoch 00153: val_loss did not improve from 0.20725\n",
      "499889/499889 [==============================] - 1s 3us/sample - loss: 0.2078 - mse_loss_fn: 0.0320 - kl_loss_fn: 17.6114 - val_loss: 0.2106 - val_mse_loss_fn: 0.0359 - val_kl_loss_fn: 17.5115\n",
      "Epoch 154/240\n",
      "494592/499889 [============================>.] - ETA: 0s - loss: 0.2076 - mse_loss_fn: 0.0320 - kl_loss_fn: 17.5997\n",
      "Epoch 00154: val_loss did not improve from 0.20725\n",
      "499889/499889 [==============================] - 1s 3us/sample - loss: 0.2076 - mse_loss_fn: 0.0319 - kl_loss_fn: 17.6001 - val_loss: 0.2091 - val_mse_loss_fn: 0.0342 - val_kl_loss_fn: 17.5276\n",
      "Epoch 155/240\n",
      "493568/499889 [============================>.] - ETA: 0s - loss: 0.2078 - mse_loss_fn: 0.0321 - kl_loss_fn: 17.6061\n",
      "Epoch 00155: val_loss did not improve from 0.20725\n",
      "499889/499889 [==============================] - 1s 3us/sample - loss: 0.2078 - mse_loss_fn: 0.0320 - kl_loss_fn: 17.6065 - val_loss: 0.2107 - val_mse_loss_fn: 0.0358 - val_kl_loss_fn: 17.5284\n",
      "Epoch 156/240\n",
      "489472/499889 [============================>.] - ETA: 0s - loss: 0.2076 - mse_loss_fn: 0.0319 - kl_loss_fn: 17.6064\n",
      "Epoch 00156: val_loss did not improve from 0.20725\n",
      "499889/499889 [==============================] - 1s 3us/sample - loss: 0.2076 - mse_loss_fn: 0.0318 - kl_loss_fn: 17.6070 - val_loss: 0.2093 - val_mse_loss_fn: 0.0341 - val_kl_loss_fn: 17.5554\n",
      "Epoch 157/240\n",
      "494592/499889 [============================>.] - ETA: 0s - loss: 0.2078 - mse_loss_fn: 0.0320 - kl_loss_fn: 17.6081\n",
      "Epoch 00157: val_loss did not improve from 0.20725\n",
      "499889/499889 [==============================] - 1s 3us/sample - loss: 0.2078 - mse_loss_fn: 0.0320 - kl_loss_fn: 17.6078 - val_loss: 0.2100 - val_mse_loss_fn: 0.0349 - val_kl_loss_fn: 17.5374\n",
      "Epoch 158/240\n",
      "489472/499889 [============================>.] - ETA: 0s - loss: 0.2076 - mse_loss_fn: 0.0319 - kl_loss_fn: 17.6023\n",
      "Epoch 00158: val_loss did not improve from 0.20725\n",
      "499889/499889 [==============================] - 1s 3us/sample - loss: 0.2076 - mse_loss_fn: 0.0319 - kl_loss_fn: 17.6025 - val_loss: 0.2091 - val_mse_loss_fn: 0.0342 - val_kl_loss_fn: 17.5250\n",
      "Epoch 159/240\n",
      "491520/499889 [============================>.] - ETA: 0s - loss: 0.2076 - mse_loss_fn: 0.0319 - kl_loss_fn: 17.6014\n",
      "Epoch 00159: val_loss did not improve from 0.20725\n",
      "499889/499889 [==============================] - 1s 3us/sample - loss: 0.2075 - mse_loss_fn: 0.0318 - kl_loss_fn: 17.6016 - val_loss: 0.2093 - val_mse_loss_fn: 0.0345 - val_kl_loss_fn: 17.5198\n",
      "Epoch 160/240\n",
      "490496/499889 [============================>.] - ETA: 0s - loss: 0.2077 - mse_loss_fn: 0.0319 - kl_loss_fn: 17.6069\n",
      "Epoch 00160: val_loss did not improve from 0.20725\n",
      "499889/499889 [==============================] - 1s 3us/sample - loss: 0.2077 - mse_loss_fn: 0.0319 - kl_loss_fn: 17.6063 - val_loss: 0.2093 - val_mse_loss_fn: 0.0347 - val_kl_loss_fn: 17.4958\n",
      "Epoch 161/240\n",
      "487424/499889 [============================>.] - ETA: 0s - loss: 0.2077 - mse_loss_fn: 0.0320 - kl_loss_fn: 17.6017\n",
      "Epoch 00161: val_loss did not improve from 0.20725\n",
      "499889/499889 [==============================] - 1s 3us/sample - loss: 0.2077 - mse_loss_fn: 0.0320 - kl_loss_fn: 17.6023 - val_loss: 0.2082 - val_mse_loss_fn: 0.0333 - val_kl_loss_fn: 17.5245\n",
      "Epoch 162/240\n",
      "487424/499889 [============================>.] - ETA: 0s - loss: 0.2076 - mse_loss_fn: 0.0319 - kl_loss_fn: 17.5982\n",
      "Epoch 00162: val_loss did not improve from 0.20725\n",
      "499889/499889 [==============================] - 1s 3us/sample - loss: 0.2076 - mse_loss_fn: 0.0319 - kl_loss_fn: 17.5982 - val_loss: 0.2100 - val_mse_loss_fn: 0.0353 - val_kl_loss_fn: 17.5104\n",
      "Epoch 163/240\n",
      "495616/499889 [============================>.] - ETA: 0s - loss: 0.2078 - mse_loss_fn: 0.0321 - kl_loss_fn: 17.6029\n",
      "Epoch 00163: val_loss did not improve from 0.20725\n",
      "499889/499889 [==============================] - 1s 3us/sample - loss: 0.2078 - mse_loss_fn: 0.0320 - kl_loss_fn: 17.6027 - val_loss: 0.2085 - val_mse_loss_fn: 0.0339 - val_kl_loss_fn: 17.4984\n",
      "Epoch 164/240\n",
      "490496/499889 [============================>.] - ETA: 0s - loss: 0.2076 - mse_loss_fn: 0.0319 - kl_loss_fn: 17.6040\n",
      "Epoch 00164: val_loss did not improve from 0.20725\n",
      "499889/499889 [==============================] - 1s 3us/sample - loss: 0.2076 - mse_loss_fn: 0.0319 - kl_loss_fn: 17.6043 - val_loss: 0.2108 - val_mse_loss_fn: 0.0356 - val_kl_loss_fn: 17.5584\n",
      "Epoch 165/240\n",
      "493568/499889 [============================>.] - ETA: 0s - loss: 0.2077 - mse_loss_fn: 0.0320 - kl_loss_fn: 17.6065\n",
      "Epoch 00165: val_loss did not improve from 0.20725\n",
      "499889/499889 [==============================] - 1s 3us/sample - loss: 0.2077 - mse_loss_fn: 0.0319 - kl_loss_fn: 17.6062 - val_loss: 0.2146 - val_mse_loss_fn: 0.0401 - val_kl_loss_fn: 17.4944\n",
      "Epoch 166/240\n",
      "488448/499889 [============================>.] - ETA: 0s - loss: 0.2076 - mse_loss_fn: 0.0319 - kl_loss_fn: 17.5998\n",
      "Epoch 00166: val_loss did not improve from 0.20725\n",
      "499889/499889 [==============================] - 1s 3us/sample - loss: 0.2076 - mse_loss_fn: 0.0319 - kl_loss_fn: 17.5999 - val_loss: 0.2080 - val_mse_loss_fn: 0.0332 - val_kl_loss_fn: 17.5099\n",
      "Epoch 167/240\n",
      "487424/499889 [============================>.] - ETA: 0s - loss: 0.2076 - mse_loss_fn: 0.0320 - kl_loss_fn: 17.5973\n",
      "Epoch 00167: val_loss did not improve from 0.20725\n",
      "499889/499889 [==============================] - 1s 3us/sample - loss: 0.2076 - mse_loss_fn: 0.0319 - kl_loss_fn: 17.5973 - val_loss: 0.2084 - val_mse_loss_fn: 0.0336 - val_kl_loss_fn: 17.5198\n",
      "Epoch 168/240\n",
      "491520/499889 [============================>.] - ETA: 0s - loss: 0.2076 - mse_loss_fn: 0.0319 - kl_loss_fn: 17.5976\n",
      "Epoch 00168: val_loss did not improve from 0.20725\n",
      "499889/499889 [==============================] - 1s 3us/sample - loss: 0.2076 - mse_loss_fn: 0.0319 - kl_loss_fn: 17.5964 - val_loss: 0.2117 - val_mse_loss_fn: 0.0374 - val_kl_loss_fn: 17.4636\n",
      "Epoch 169/240\n",
      "497664/499889 [============================>.] - ETA: 0s - loss: 0.2077 - mse_loss_fn: 0.0320 - kl_loss_fn: 17.6017\n",
      "Epoch 00169: val_loss did not improve from 0.20725\n",
      "499889/499889 [==============================] - 1s 3us/sample - loss: 0.2077 - mse_loss_fn: 0.0320 - kl_loss_fn: 17.6015 - val_loss: 0.2121 - val_mse_loss_fn: 0.0378 - val_kl_loss_fn: 17.4645\n",
      "Epoch 170/240\n",
      "487424/499889 [============================>.] - ETA: 0s - loss: 0.2077 - mse_loss_fn: 0.0321 - kl_loss_fn: 17.5954\n",
      "Epoch 00170: val_loss did not improve from 0.20725\n",
      "499889/499889 [==============================] - 1s 3us/sample - loss: 0.2077 - mse_loss_fn: 0.0320 - kl_loss_fn: 17.5968 - val_loss: 0.2091 - val_mse_loss_fn: 0.0341 - val_kl_loss_fn: 17.5342\n",
      "Epoch 171/240\n",
      "496640/499889 [============================>.] - ETA: 0s - loss: 0.2076 - mse_loss_fn: 0.0319 - kl_loss_fn: 17.6022\n",
      "Epoch 00171: val_loss did not improve from 0.20725\n",
      "499889/499889 [==============================] - 1s 3us/sample - loss: 0.2076 - mse_loss_fn: 0.0318 - kl_loss_fn: 17.6026 - val_loss: 0.2099 - val_mse_loss_fn: 0.0347 - val_kl_loss_fn: 17.5481\n",
      "Epoch 172/240\n",
      "487424/499889 [============================>.] - ETA: 0s - loss: 0.2077 - mse_loss_fn: 0.0321 - kl_loss_fn: 17.5991\n",
      "Epoch 00172: val_loss did not improve from 0.20725\n",
      "499889/499889 [==============================] - 1s 3us/sample - loss: 0.2077 - mse_loss_fn: 0.0320 - kl_loss_fn: 17.5989 - val_loss: 0.2118 - val_mse_loss_fn: 0.0370 - val_kl_loss_fn: 17.5165\n",
      "Epoch 173/240\n",
      "491520/499889 [============================>.] - ETA: 0s - loss: 0.2075 - mse_loss_fn: 0.0319 - kl_loss_fn: 17.5934\n",
      "Epoch 00173: val_loss did not improve from 0.20725\n",
      "499889/499889 [==============================] - 1s 3us/sample - loss: 0.2075 - mse_loss_fn: 0.0318 - kl_loss_fn: 17.5941 - val_loss: 0.2083 - val_mse_loss_fn: 0.0335 - val_kl_loss_fn: 17.5098\n",
      "Epoch 174/240\n",
      "478208/499889 [===========================>..] - ETA: 0s - loss: 0.2076 - mse_loss_fn: 0.0320 - kl_loss_fn: 17.5971\n",
      "Epoch 00174: val_loss did not improve from 0.20725\n",
      "499889/499889 [==============================] - 1s 3us/sample - loss: 0.2076 - mse_loss_fn: 0.0319 - kl_loss_fn: 17.5986 - val_loss: 0.2077 - val_mse_loss_fn: 0.0329 - val_kl_loss_fn: 17.5081\n",
      "Epoch 175/240\n",
      "478208/499889 [===========================>..] - ETA: 0s - loss: 0.2075 - mse_loss_fn: 0.0319 - kl_loss_fn: 17.5908\n",
      "Epoch 00175: val_loss did not improve from 0.20725\n",
      "499889/499889 [==============================] - 1s 3us/sample - loss: 0.2075 - mse_loss_fn: 0.0319 - kl_loss_fn: 17.5915 - val_loss: 0.2109 - val_mse_loss_fn: 0.0358 - val_kl_loss_fn: 17.5473\n",
      "Epoch 176/240\n",
      "489472/499889 [============================>.] - ETA: 0s - loss: 0.2075 - mse_loss_fn: 0.0319 - kl_loss_fn: 17.5938\n",
      "Epoch 00176: val_loss did not improve from 0.20725\n",
      "499889/499889 [==============================] - 1s 3us/sample - loss: 0.2075 - mse_loss_fn: 0.0318 - kl_loss_fn: 17.5942 - val_loss: 0.2100 - val_mse_loss_fn: 0.0355 - val_kl_loss_fn: 17.4845\n",
      "Epoch 177/240\n",
      "493568/499889 [============================>.] - ETA: 0s - loss: 0.2077 - mse_loss_fn: 0.0320 - kl_loss_fn: 17.5949\n",
      "Epoch 00177: val_loss did not improve from 0.20725\n",
      "499889/499889 [==============================] - 1s 3us/sample - loss: 0.2077 - mse_loss_fn: 0.0320 - kl_loss_fn: 17.5941 - val_loss: 0.2080 - val_mse_loss_fn: 0.0332 - val_kl_loss_fn: 17.5145\n",
      "Epoch 178/240\n",
      "493568/499889 [============================>.] - ETA: 0s - loss: 0.2076 - mse_loss_fn: 0.0319 - kl_loss_fn: 17.5959\n",
      "Epoch 00178: val_loss did not improve from 0.20725\n",
      "499889/499889 [==============================] - 1s 3us/sample - loss: 0.2076 - mse_loss_fn: 0.0319 - kl_loss_fn: 17.5965 - val_loss: 0.2076 - val_mse_loss_fn: 0.0323 - val_kl_loss_fn: 17.5601\n",
      "Epoch 179/240\n",
      "490496/499889 [============================>.] - ETA: 0s - loss: 0.2075 - mse_loss_fn: 0.0319 - kl_loss_fn: 17.5929\n",
      "Epoch 00179: val_loss did not improve from 0.20725\n",
      "499889/499889 [==============================] - 1s 3us/sample - loss: 0.2075 - mse_loss_fn: 0.0318 - kl_loss_fn: 17.5929 - val_loss: 0.2109 - val_mse_loss_fn: 0.0363 - val_kl_loss_fn: 17.4920\n",
      "Epoch 180/240\n",
      "499889/499889 [==============================] - ETA: 0s - loss: 0.2076 - mse_loss_fn: 0.0320 - kl_loss_fn: 17.5934\n",
      "Epoch 00180: val_loss did not improve from 0.20725\n",
      "499889/499889 [==============================] - 1s 3us/sample - loss: 0.2076 - mse_loss_fn: 0.0320 - kl_loss_fn: 17.5934 - val_loss: 0.2129 - val_mse_loss_fn: 0.0380 - val_kl_loss_fn: 17.5224\n",
      "Epoch 181/240\n",
      "475136/499889 [===========================>..] - ETA: 0s - loss: 0.2076 - mse_loss_fn: 0.0320 - kl_loss_fn: 17.5943\n",
      "Epoch 00181: val_loss did not improve from 0.20725\n",
      "499889/499889 [==============================] - 1s 3us/sample - loss: 0.2076 - mse_loss_fn: 0.0319 - kl_loss_fn: 17.5937 - val_loss: 0.2092 - val_mse_loss_fn: 0.0347 - val_kl_loss_fn: 17.4901\n",
      "Epoch 182/240\n",
      "475136/499889 [===========================>..] - ETA: 0s - loss: 0.2077 - mse_loss_fn: 0.0321 - kl_loss_fn: 17.5911\n",
      "Epoch 00182: val_loss did not improve from 0.20725\n",
      "499889/499889 [==============================] - 1s 3us/sample - loss: 0.2077 - mse_loss_fn: 0.0321 - kl_loss_fn: 17.5911 - val_loss: 0.2102 - val_mse_loss_fn: 0.0359 - val_kl_loss_fn: 17.4687\n",
      "Epoch 183/240\n",
      "477184/499889 [===========================>..] - ETA: 0s - loss: 0.2075 - mse_loss_fn: 0.0319 - kl_loss_fn: 17.5906\n",
      "Epoch 00183: val_loss did not improve from 0.20725\n",
      "499889/499889 [==============================] - 1s 3us/sample - loss: 0.2075 - mse_loss_fn: 0.0318 - kl_loss_fn: 17.5911 - val_loss: 0.2083 - val_mse_loss_fn: 0.0334 - val_kl_loss_fn: 17.5250\n",
      "Epoch 184/240\n",
      "479232/499889 [===========================>..] - ETA: 0s - loss: 0.2076 - mse_loss_fn: 0.0321 - kl_loss_fn: 17.5894\n",
      "Epoch 00184: val_loss did not improve from 0.20725\n",
      "499889/499889 [==============================] - 1s 3us/sample - loss: 0.2076 - mse_loss_fn: 0.0320 - kl_loss_fn: 17.5894 - val_loss: 0.2103 - val_mse_loss_fn: 0.0357 - val_kl_loss_fn: 17.4924\n",
      "Epoch 185/240\n",
      "496640/499889 [============================>.] - ETA: 0s - loss: 0.2075 - mse_loss_fn: 0.0319 - kl_loss_fn: 17.5890\n",
      "Epoch 00185: val_loss did not improve from 0.20725\n",
      "499889/499889 [==============================] - 1s 3us/sample - loss: 0.2075 - mse_loss_fn: 0.0318 - kl_loss_fn: 17.5889 - val_loss: 0.2087 - val_mse_loss_fn: 0.0338 - val_kl_loss_fn: 17.5246\n",
      "Epoch 186/240\n",
      "482304/499889 [===========================>..] - ETA: 0s - loss: 0.2076 - mse_loss_fn: 0.0320 - kl_loss_fn: 17.5933\n",
      "Epoch 00186: val_loss did not improve from 0.20725\n",
      "499889/499889 [==============================] - 1s 3us/sample - loss: 0.2076 - mse_loss_fn: 0.0319 - kl_loss_fn: 17.5939 - val_loss: 0.2098 - val_mse_loss_fn: 0.0352 - val_kl_loss_fn: 17.4954\n",
      "Epoch 187/240\n",
      "484352/499889 [============================>.] - ETA: 0s - loss: 0.2075 - mse_loss_fn: 0.0320 - kl_loss_fn: 17.5847\n",
      "Epoch 00187: val_loss did not improve from 0.20725\n",
      "499889/499889 [==============================] - 1s 3us/sample - loss: 0.2075 - mse_loss_fn: 0.0319 - kl_loss_fn: 17.5853 - val_loss: 0.2094 - val_mse_loss_fn: 0.0345 - val_kl_loss_fn: 17.5287\n",
      "Epoch 188/240\n",
      "496640/499889 [============================>.] - ETA: 0s - loss: 0.2076 - mse_loss_fn: 0.0320 - kl_loss_fn: 17.5888\n",
      "Epoch 00188: val_loss did not improve from 0.20725\n",
      "499889/499889 [==============================] - 1s 3us/sample - loss: 0.2076 - mse_loss_fn: 0.0320 - kl_loss_fn: 17.5887 - val_loss: 0.2109 - val_mse_loss_fn: 0.0362 - val_kl_loss_fn: 17.5090\n",
      "Epoch 189/240\n",
      "497664/499889 [============================>.] - ETA: 0s - loss: 0.2075 - mse_loss_fn: 0.0319 - kl_loss_fn: 17.5918\n",
      "Epoch 00189: val_loss did not improve from 0.20725\n",
      "499889/499889 [==============================] - 1s 3us/sample - loss: 0.2075 - mse_loss_fn: 0.0318 - kl_loss_fn: 17.5920 - val_loss: 0.2077 - val_mse_loss_fn: 0.0325 - val_kl_loss_fn: 17.5467\n",
      "Epoch 190/240\n",
      "498688/499889 [============================>.] - ETA: 0s - loss: 0.2075 - mse_loss_fn: 0.0319 - kl_loss_fn: 17.5913\n",
      "Epoch 00190: val_loss did not improve from 0.20725\n",
      "499889/499889 [==============================] - 1s 3us/sample - loss: 0.2075 - mse_loss_fn: 0.0318 - kl_loss_fn: 17.5912 - val_loss: 0.2082 - val_mse_loss_fn: 0.0334 - val_kl_loss_fn: 17.5156\n",
      "Epoch 191/240\n",
      "479232/499889 [===========================>..] - ETA: 0s - loss: 0.2076 - mse_loss_fn: 0.0320 - kl_loss_fn: 17.5895\n",
      "Epoch 00191: val_loss did not improve from 0.20725\n",
      "499889/499889 [==============================] - 1s 3us/sample - loss: 0.2076 - mse_loss_fn: 0.0320 - kl_loss_fn: 17.5893 - val_loss: 0.2096 - val_mse_loss_fn: 0.0350 - val_kl_loss_fn: 17.5042\n",
      "Epoch 192/240\n",
      "480256/499889 [===========================>..] - ETA: 0s - loss: 0.2075 - mse_loss_fn: 0.0320 - kl_loss_fn: 17.5828\n",
      "Epoch 00192: val_loss did not improve from 0.20725\n",
      "499889/499889 [==============================] - 1s 3us/sample - loss: 0.2075 - mse_loss_fn: 0.0319 - kl_loss_fn: 17.5821 - val_loss: 0.2082 - val_mse_loss_fn: 0.0336 - val_kl_loss_fn: 17.4949\n",
      "Epoch 193/240\n",
      "478208/499889 [===========================>..] - ETA: 0s - loss: 0.2075 - mse_loss_fn: 0.0319 - kl_loss_fn: 17.5899\n",
      "Epoch 00193: val_loss did not improve from 0.20725\n",
      "499889/499889 [==============================] - 1s 3us/sample - loss: 0.2075 - mse_loss_fn: 0.0318 - kl_loss_fn: 17.5907 - val_loss: 0.2095 - val_mse_loss_fn: 0.0348 - val_kl_loss_fn: 17.5036\n",
      "Epoch 194/240\n",
      "479232/499889 [===========================>..] - ETA: 0s - loss: 0.2077 - mse_loss_fn: 0.0321 - kl_loss_fn: 17.5911\n",
      "Epoch 00194: val_loss did not improve from 0.20725\n",
      "499889/499889 [==============================] - 1s 3us/sample - loss: 0.2076 - mse_loss_fn: 0.0320 - kl_loss_fn: 17.5903 - val_loss: 0.2082 - val_mse_loss_fn: 0.0335 - val_kl_loss_fn: 17.4941\n",
      "Epoch 195/240\n",
      "485376/499889 [============================>.] - ETA: 0s - loss: 0.2075 - mse_loss_fn: 0.0320 - kl_loss_fn: 17.5848\n",
      "Epoch 00195: val_loss did not improve from 0.20725\n",
      "499889/499889 [==============================] - 1s 3us/sample - loss: 0.2075 - mse_loss_fn: 0.0319 - kl_loss_fn: 17.5862 - val_loss: 0.2090 - val_mse_loss_fn: 0.0339 - val_kl_loss_fn: 17.5358\n",
      "Epoch 196/240\n",
      "489472/499889 [============================>.] - ETA: 0s - loss: 0.2074 - mse_loss_fn: 0.0319 - kl_loss_fn: 17.5842\n",
      "Epoch 00196: val_loss did not improve from 0.20725\n",
      "499889/499889 [==============================] - 1s 3us/sample - loss: 0.2074 - mse_loss_fn: 0.0318 - kl_loss_fn: 17.5836 - val_loss: 0.2087 - val_mse_loss_fn: 0.0341 - val_kl_loss_fn: 17.4938\n",
      "Epoch 197/240\n",
      "497664/499889 [============================>.] - ETA: 0s - loss: 0.2075 - mse_loss_fn: 0.0320 - kl_loss_fn: 17.5821\n",
      "Epoch 00197: val_loss did not improve from 0.20725\n",
      "499889/499889 [==============================] - 1s 3us/sample - loss: 0.2075 - mse_loss_fn: 0.0320 - kl_loss_fn: 17.5821 - val_loss: 0.2083 - val_mse_loss_fn: 0.0335 - val_kl_loss_fn: 17.5101\n",
      "Epoch 198/240\n",
      "479232/499889 [===========================>..] - ETA: 0s - loss: 0.2075 - mse_loss_fn: 0.0320 - kl_loss_fn: 17.5865\n",
      "Epoch 00198: val_loss did not improve from 0.20725\n",
      "499889/499889 [==============================] - 1s 3us/sample - loss: 0.2075 - mse_loss_fn: 0.0319 - kl_loss_fn: 17.5883 - val_loss: 0.2080 - val_mse_loss_fn: 0.0333 - val_kl_loss_fn: 17.5062\n",
      "Epoch 199/240\n",
      "496640/499889 [============================>.] - ETA: 0s - loss: 0.2076 - mse_loss_fn: 0.0321 - kl_loss_fn: 17.5872\n",
      "Epoch 00199: val_loss did not improve from 0.20725\n",
      "499889/499889 [==============================] - 1s 3us/sample - loss: 0.2076 - mse_loss_fn: 0.0320 - kl_loss_fn: 17.5874 - val_loss: 0.2081 - val_mse_loss_fn: 0.0334 - val_kl_loss_fn: 17.5030\n",
      "Epoch 200/240\n",
      "499889/499889 [==============================] - ETA: 0s - loss: 0.2076 - mse_loss_fn: 0.0320 - kl_loss_fn: 17.5867\n",
      "Epoch 00200: val_loss did not improve from 0.20725\n",
      "499889/499889 [==============================] - 1s 3us/sample - loss: 0.2076 - mse_loss_fn: 0.0320 - kl_loss_fn: 17.5867 - val_loss: 0.2129 - val_mse_loss_fn: 0.0377 - val_kl_loss_fn: 17.5610\n",
      "Epoch 201/240\n",
      "480256/499889 [===========================>..] - ETA: 0s - loss: 0.2075 - mse_loss_fn: 0.0320 - kl_loss_fn: 17.5844\n",
      "Epoch 00201: val_loss did not improve from 0.20725\n",
      "499889/499889 [==============================] - 1s 3us/sample - loss: 0.2075 - mse_loss_fn: 0.0320 - kl_loss_fn: 17.5857 - val_loss: 0.2118 - val_mse_loss_fn: 0.0371 - val_kl_loss_fn: 17.5066\n",
      "Epoch 202/240\n",
      "477184/499889 [===========================>..] - ETA: 0s - loss: 0.2075 - mse_loss_fn: 0.0320 - kl_loss_fn: 17.5835\n",
      "Epoch 00202: val_loss did not improve from 0.20725\n",
      "499889/499889 [==============================] - 1s 3us/sample - loss: 0.2075 - mse_loss_fn: 0.0319 - kl_loss_fn: 17.5846 - val_loss: 0.2084 - val_mse_loss_fn: 0.0338 - val_kl_loss_fn: 17.4955\n",
      "Epoch 203/240\n",
      "480256/499889 [===========================>..] - ETA: 0s - loss: 0.2074 - mse_loss_fn: 0.0319 - kl_loss_fn: 17.5806\n",
      "Epoch 00203: val_loss did not improve from 0.20725\n",
      "499889/499889 [==============================] - 1s 3us/sample - loss: 0.2074 - mse_loss_fn: 0.0319 - kl_loss_fn: 17.5815 - val_loss: 0.2089 - val_mse_loss_fn: 0.0340 - val_kl_loss_fn: 17.5245\n",
      "Epoch 204/240\n",
      "476160/499889 [===========================>..] - ETA: 0s - loss: 0.2075 - mse_loss_fn: 0.0320 - kl_loss_fn: 17.5836\n",
      "Epoch 00204: val_loss did not improve from 0.20725\n",
      "499889/499889 [==============================] - 1s 3us/sample - loss: 0.2075 - mse_loss_fn: 0.0319 - kl_loss_fn: 17.5844 - val_loss: 0.2138 - val_mse_loss_fn: 0.0393 - val_kl_loss_fn: 17.4888\n",
      "Epoch 205/240\n",
      "497664/499889 [============================>.] - ETA: 0s - loss: 0.2077 - mse_loss_fn: 0.0321 - kl_loss_fn: 17.5881\n",
      "Epoch 00205: val_loss did not improve from 0.20725\n",
      "499889/499889 [==============================] - 1s 3us/sample - loss: 0.2077 - mse_loss_fn: 0.0321 - kl_loss_fn: 17.5879 - val_loss: 0.2077 - val_mse_loss_fn: 0.0330 - val_kl_loss_fn: 17.5042\n",
      "Epoch 206/240\n",
      "498688/499889 [============================>.] - ETA: 0s - loss: 0.2074 - mse_loss_fn: 0.0318 - kl_loss_fn: 17.5852\n",
      "Epoch 00206: val_loss did not improve from 0.20725\n",
      "499889/499889 [==============================] - 1s 3us/sample - loss: 0.2074 - mse_loss_fn: 0.0318 - kl_loss_fn: 17.5851 - val_loss: 0.2082 - val_mse_loss_fn: 0.0333 - val_kl_loss_fn: 17.5212\n",
      "Epoch 207/240\n",
      "498688/499889 [============================>.] - ETA: 0s - loss: 0.2074 - mse_loss_fn: 0.0319 - kl_loss_fn: 17.5809\n",
      "Epoch 00207: val_loss did not improve from 0.20725\n",
      "499889/499889 [==============================] - 1s 3us/sample - loss: 0.2074 - mse_loss_fn: 0.0319 - kl_loss_fn: 17.5809 - val_loss: 0.2099 - val_mse_loss_fn: 0.0354 - val_kl_loss_fn: 17.4837\n",
      "Epoch 208/240\n",
      "476160/499889 [===========================>..] - ETA: 0s - loss: 0.2074 - mse_loss_fn: 0.0319 - kl_loss_fn: 17.5826\n",
      "Epoch 00208: val_loss did not improve from 0.20725\n",
      "499889/499889 [==============================] - 1s 3us/sample - loss: 0.2074 - mse_loss_fn: 0.0318 - kl_loss_fn: 17.5823 - val_loss: 0.2114 - val_mse_loss_fn: 0.0368 - val_kl_loss_fn: 17.4975\n",
      "Epoch 209/240\n",
      "481280/499889 [===========================>..] - ETA: 0s - loss: 0.2076 - mse_loss_fn: 0.0320 - kl_loss_fn: 17.5867\n",
      "Epoch 00209: val_loss did not improve from 0.20725\n",
      "499889/499889 [==============================] - 1s 3us/sample - loss: 0.2076 - mse_loss_fn: 0.0320 - kl_loss_fn: 17.5869 - val_loss: 0.2074 - val_mse_loss_fn: 0.0325 - val_kl_loss_fn: 17.5183\n",
      "Epoch 210/240\n",
      "482304/499889 [===========================>..] - ETA: 0s - loss: 0.2074 - mse_loss_fn: 0.0320 - kl_loss_fn: 17.5794\n",
      "Epoch 00210: val_loss did not improve from 0.20725\n",
      "499889/499889 [==============================] - 1s 3us/sample - loss: 0.2075 - mse_loss_fn: 0.0319 - kl_loss_fn: 17.5818 - val_loss: 0.2096 - val_mse_loss_fn: 0.0346 - val_kl_loss_fn: 17.5288\n",
      "Epoch 211/240\n",
      "483328/499889 [============================>.] - ETA: 0s - loss: 0.2076 - mse_loss_fn: 0.0322 - kl_loss_fn: 17.5784\n",
      "Epoch 00211: val_loss did not improve from 0.20725\n",
      "499889/499889 [==============================] - 1s 3us/sample - loss: 0.2077 - mse_loss_fn: 0.0322 - kl_loss_fn: 17.5794 - val_loss: 0.2080 - val_mse_loss_fn: 0.0330 - val_kl_loss_fn: 17.5281\n",
      "Epoch 212/240\n",
      "498688/499889 [============================>.] - ETA: 0s - loss: 0.2073 - mse_loss_fn: 0.0319 - kl_loss_fn: 17.5787\n",
      "Epoch 00212: val_loss did not improve from 0.20725\n",
      "499889/499889 [==============================] - 1s 3us/sample - loss: 0.2073 - mse_loss_fn: 0.0318 - kl_loss_fn: 17.5789 - val_loss: 0.2080 - val_mse_loss_fn: 0.0333 - val_kl_loss_fn: 17.5029\n",
      "Epoch 213/240\n",
      "480256/499889 [===========================>..] - ETA: 0s - loss: 0.2074 - mse_loss_fn: 0.0320 - kl_loss_fn: 17.5808\n",
      "Epoch 00213: val_loss did not improve from 0.20725\n",
      "499889/499889 [==============================] - 1s 3us/sample - loss: 0.2074 - mse_loss_fn: 0.0319 - kl_loss_fn: 17.5815 - val_loss: 0.2109 - val_mse_loss_fn: 0.0362 - val_kl_loss_fn: 17.5081\n",
      "Epoch 214/240\n",
      "479232/499889 [===========================>..] - ETA: 0s - loss: 0.2074 - mse_loss_fn: 0.0319 - kl_loss_fn: 17.5809\n",
      "Epoch 00214: val_loss did not improve from 0.20725\n",
      "499889/499889 [==============================] - 1s 3us/sample - loss: 0.2074 - mse_loss_fn: 0.0319 - kl_loss_fn: 17.5823 - val_loss: 0.2096 - val_mse_loss_fn: 0.0350 - val_kl_loss_fn: 17.5004\n",
      "Epoch 215/240\n",
      "480256/499889 [===========================>..] - ETA: 0s - loss: 0.2074 - mse_loss_fn: 0.0319 - kl_loss_fn: 17.5857\n",
      "Epoch 00215: val_loss did not improve from 0.20725\n",
      "499889/499889 [==============================] - 1s 3us/sample - loss: 0.2074 - mse_loss_fn: 0.0318 - kl_loss_fn: 17.5865 - val_loss: 0.2124 - val_mse_loss_fn: 0.0378 - val_kl_loss_fn: 17.5027\n",
      "Epoch 216/240\n",
      "479232/499889 [===========================>..] - ETA: 0s - loss: 0.2074 - mse_loss_fn: 0.0320 - kl_loss_fn: 17.5778\n",
      "Epoch 00216: val_loss did not improve from 0.20725\n",
      "499889/499889 [==============================] - 1s 3us/sample - loss: 0.2074 - mse_loss_fn: 0.0319 - kl_loss_fn: 17.5777 - val_loss: 0.2083 - val_mse_loss_fn: 0.0337 - val_kl_loss_fn: 17.5010\n",
      "Epoch 217/240\n",
      "481280/499889 [===========================>..] - ETA: 0s - loss: 0.2075 - mse_loss_fn: 0.0320 - kl_loss_fn: 17.5777\n",
      "Epoch 00217: val_loss did not improve from 0.20725\n",
      "499889/499889 [==============================] - 1s 3us/sample - loss: 0.2075 - mse_loss_fn: 0.0320 - kl_loss_fn: 17.5787 - val_loss: 0.2107 - val_mse_loss_fn: 0.0362 - val_kl_loss_fn: 17.4846\n",
      "Epoch 218/240\n",
      "484352/499889 [============================>.] - ETA: 0s - loss: 0.2074 - mse_loss_fn: 0.0320 - kl_loss_fn: 17.5790\n",
      "Epoch 00218: val_loss did not improve from 0.20725\n",
      "499889/499889 [==============================] - 1s 3us/sample - loss: 0.2074 - mse_loss_fn: 0.0319 - kl_loss_fn: 17.5790 - val_loss: 0.2108 - val_mse_loss_fn: 0.0366 - val_kl_loss_fn: 17.4599\n",
      "Epoch 219/240\n",
      "489472/499889 [============================>.] - ETA: 0s - loss: 0.2074 - mse_loss_fn: 0.0319 - kl_loss_fn: 17.5746\n",
      "Epoch 00219: val_loss did not improve from 0.20725\n",
      "499889/499889 [==============================] - 1s 3us/sample - loss: 0.2074 - mse_loss_fn: 0.0319 - kl_loss_fn: 17.5763 - val_loss: 0.2078 - val_mse_loss_fn: 0.0332 - val_kl_loss_fn: 17.4949\n",
      "Epoch 220/240\n",
      "481280/499889 [===========================>..] - ETA: 0s - loss: 0.2075 - mse_loss_fn: 0.0320 - kl_loss_fn: 17.5830\n",
      "Epoch 00220: val_loss did not improve from 0.20725\n",
      "499889/499889 [==============================] - 1s 3us/sample - loss: 0.2075 - mse_loss_fn: 0.0319 - kl_loss_fn: 17.5825 - val_loss: 0.2087 - val_mse_loss_fn: 0.0339 - val_kl_loss_fn: 17.5216\n",
      "Epoch 221/240\n",
      "484352/499889 [============================>.] - ETA: 0s - loss: 0.2073 - mse_loss_fn: 0.0319 - kl_loss_fn: 17.5802\n",
      "Epoch 00221: val_loss did not improve from 0.20725\n",
      "499889/499889 [==============================] - 1s 3us/sample - loss: 0.2073 - mse_loss_fn: 0.0318 - kl_loss_fn: 17.5802 - val_loss: 0.2088 - val_mse_loss_fn: 0.0338 - val_kl_loss_fn: 17.5310\n",
      "Epoch 222/240\n",
      "482304/499889 [===========================>..] - ETA: 0s - loss: 0.2074 - mse_loss_fn: 0.0319 - kl_loss_fn: 17.5823\n",
      "Epoch 00222: val_loss did not improve from 0.20725\n",
      "499889/499889 [==============================] - 1s 3us/sample - loss: 0.2074 - mse_loss_fn: 0.0319 - kl_loss_fn: 17.5828 - val_loss: 0.2076 - val_mse_loss_fn: 0.0326 - val_kl_loss_fn: 17.5273\n",
      "Epoch 223/240\n",
      "480256/499889 [===========================>..] - ETA: 0s - loss: 0.2074 - mse_loss_fn: 0.0320 - kl_loss_fn: 17.5745\n",
      "Epoch 00223: val_loss did not improve from 0.20725\n",
      "499889/499889 [==============================] - 1s 3us/sample - loss: 0.2074 - mse_loss_fn: 0.0319 - kl_loss_fn: 17.5752 - val_loss: 0.2080 - val_mse_loss_fn: 0.0332 - val_kl_loss_fn: 17.5134\n",
      "Epoch 224/240\n",
      "486400/499889 [============================>.] - ETA: 0s - loss: 0.2074 - mse_loss_fn: 0.0320 - kl_loss_fn: 17.5739\n",
      "Epoch 00224: val_loss did not improve from 0.20725\n",
      "499889/499889 [==============================] - 1s 3us/sample - loss: 0.2074 - mse_loss_fn: 0.0320 - kl_loss_fn: 17.5738 - val_loss: 0.2096 - val_mse_loss_fn: 0.0350 - val_kl_loss_fn: 17.4978\n",
      "Epoch 225/240\n",
      "483328/499889 [============================>.] - ETA: 0s - loss: 0.2073 - mse_loss_fn: 0.0319 - kl_loss_fn: 17.5788\n",
      "Epoch 00225: val_loss did not improve from 0.20725\n",
      "499889/499889 [==============================] - 1s 3us/sample - loss: 0.2073 - mse_loss_fn: 0.0318 - kl_loss_fn: 17.5813 - val_loss: 0.2078 - val_mse_loss_fn: 0.0330 - val_kl_loss_fn: 17.5114\n",
      "Epoch 226/240\n",
      "476160/499889 [===========================>..] - ETA: 0s - loss: 0.2074 - mse_loss_fn: 0.0320 - kl_loss_fn: 17.5763\n",
      "Epoch 00226: val_loss did not improve from 0.20725\n",
      "499889/499889 [==============================] - 1s 3us/sample - loss: 0.2074 - mse_loss_fn: 0.0319 - kl_loss_fn: 17.5753 - val_loss: 0.2103 - val_mse_loss_fn: 0.0355 - val_kl_loss_fn: 17.5137\n",
      "Epoch 227/240\n",
      "489472/499889 [============================>.] - ETA: 0s - loss: 0.2076 - mse_loss_fn: 0.0321 - kl_loss_fn: 17.5821\n",
      "Epoch 00227: val_loss did not improve from 0.20725\n",
      "499889/499889 [==============================] - 1s 3us/sample - loss: 0.2076 - mse_loss_fn: 0.0320 - kl_loss_fn: 17.5814 - val_loss: 0.2093 - val_mse_loss_fn: 0.0340 - val_kl_loss_fn: 17.5658\n",
      "Epoch 228/240\n",
      "487424/499889 [============================>.] - ETA: 0s - loss: 0.2074 - mse_loss_fn: 0.0319 - kl_loss_fn: 17.5794\n",
      "Epoch 00228: val_loss did not improve from 0.20725\n",
      "499889/499889 [==============================] - 1s 3us/sample - loss: 0.2074 - mse_loss_fn: 0.0319 - kl_loss_fn: 17.5799 - val_loss: 0.2092 - val_mse_loss_fn: 0.0344 - val_kl_loss_fn: 17.5142\n",
      "Epoch 229/240\n",
      "492544/499889 [============================>.] - ETA: 0s - loss: 0.2075 - mse_loss_fn: 0.0320 - kl_loss_fn: 17.5770\n",
      "Epoch 00229: val_loss did not improve from 0.20725\n",
      "499889/499889 [==============================] - 1s 3us/sample - loss: 0.2075 - mse_loss_fn: 0.0320 - kl_loss_fn: 17.5767 - val_loss: 0.2148 - val_mse_loss_fn: 0.0402 - val_kl_loss_fn: 17.5034\n",
      "Epoch 230/240\n",
      "499712/499889 [============================>.] - ETA: 0s - loss: 0.2075 - mse_loss_fn: 0.0321 - kl_loss_fn: 17.5717\n",
      "Epoch 00230: val_loss did not improve from 0.20725\n",
      "499889/499889 [==============================] - 1s 3us/sample - loss: 0.2075 - mse_loss_fn: 0.0320 - kl_loss_fn: 17.5717 - val_loss: 0.2184 - val_mse_loss_fn: 0.0441 - val_kl_loss_fn: 17.4715\n",
      "Epoch 231/240\n",
      "490496/499889 [============================>.] - ETA: 0s - loss: 0.2075 - mse_loss_fn: 0.0320 - kl_loss_fn: 17.5824\n",
      "Epoch 00231: val_loss did not improve from 0.20725\n",
      "499889/499889 [==============================] - 1s 3us/sample - loss: 0.2075 - mse_loss_fn: 0.0320 - kl_loss_fn: 17.5821 - val_loss: 0.2094 - val_mse_loss_fn: 0.0348 - val_kl_loss_fn: 17.4952\n",
      "Epoch 232/240\n",
      "493568/499889 [============================>.] - ETA: 0s - loss: 0.2076 - mse_loss_fn: 0.0321 - kl_loss_fn: 17.5768\n",
      "Epoch 00232: val_loss did not improve from 0.20725\n",
      "499889/499889 [==============================] - 1s 3us/sample - loss: 0.2075 - mse_loss_fn: 0.0320 - kl_loss_fn: 17.5769 - val_loss: 0.2074 - val_mse_loss_fn: 0.0329 - val_kl_loss_fn: 17.4814\n",
      "Epoch 233/240\n",
      "476160/499889 [===========================>..] - ETA: 0s - loss: 0.2073 - mse_loss_fn: 0.0319 - kl_loss_fn: 17.5731\n",
      "Epoch 00233: val_loss did not improve from 0.20725\n",
      "499889/499889 [==============================] - 1s 3us/sample - loss: 0.2073 - mse_loss_fn: 0.0318 - kl_loss_fn: 17.5719 - val_loss: 0.2109 - val_mse_loss_fn: 0.0362 - val_kl_loss_fn: 17.4976\n",
      "Epoch 234/240\n",
      "479232/499889 [===========================>..] - ETA: 0s - loss: 0.2074 - mse_loss_fn: 0.0320 - kl_loss_fn: 17.5762\n",
      "Epoch 00234: val_loss did not improve from 0.20725\n",
      "499889/499889 [==============================] - 1s 3us/sample - loss: 0.2074 - mse_loss_fn: 0.0319 - kl_loss_fn: 17.5770 - val_loss: 0.2173 - val_mse_loss_fn: 0.0433 - val_kl_loss_fn: 17.4462\n",
      "Epoch 235/240\n",
      "479232/499889 [===========================>..] - ETA: 0s - loss: 0.2075 - mse_loss_fn: 0.0321 - kl_loss_fn: 17.5741\n",
      "Epoch 00235: val_loss did not improve from 0.20725\n",
      "499889/499889 [==============================] - 1s 3us/sample - loss: 0.2075 - mse_loss_fn: 0.0321 - kl_loss_fn: 17.5748 - val_loss: 0.2119 - val_mse_loss_fn: 0.0371 - val_kl_loss_fn: 17.5175\n",
      "Epoch 236/240\n",
      "497664/499889 [============================>.] - ETA: 0s - loss: 0.2073 - mse_loss_fn: 0.0319 - kl_loss_fn: 17.5738\n",
      "Epoch 00236: val_loss improved from 0.20725 to 0.20704, saving model to outputs/models/cVAEz6_03-27-2023/cbvae_LHCO2020_20d_e-6.hdf5\n",
      "499889/499889 [==============================] - 1s 3us/sample - loss: 0.2073 - mse_loss_fn: 0.0318 - kl_loss_fn: 17.5739 - val_loss: 0.2070 - val_mse_loss_fn: 0.0324 - val_kl_loss_fn: 17.4944\n",
      "Epoch 237/240\n",
      "478208/499889 [===========================>..] - ETA: 0s - loss: 0.2074 - mse_loss_fn: 0.0320 - kl_loss_fn: 17.5739\n",
      "Epoch 00237: val_loss did not improve from 0.20704\n",
      "499889/499889 [==============================] - 1s 3us/sample - loss: 0.2074 - mse_loss_fn: 0.0319 - kl_loss_fn: 17.5750 - val_loss: 0.2093 - val_mse_loss_fn: 0.0348 - val_kl_loss_fn: 17.4854\n",
      "Epoch 238/240\n",
      "482304/499889 [===========================>..] - ETA: 0s - loss: 0.2073 - mse_loss_fn: 0.0319 - kl_loss_fn: 17.5740\n",
      "Epoch 00238: val_loss did not improve from 0.20704\n",
      "499889/499889 [==============================] - 1s 3us/sample - loss: 0.2073 - mse_loss_fn: 0.0319 - kl_loss_fn: 17.5738 - val_loss: 0.2119 - val_mse_loss_fn: 0.0371 - val_kl_loss_fn: 17.5176\n",
      "Epoch 239/240\n",
      "477184/499889 [===========================>..] - ETA: 0s - loss: 0.2074 - mse_loss_fn: 0.0319 - kl_loss_fn: 17.5798\n",
      "Epoch 00239: val_loss did not improve from 0.20704\n",
      "499889/499889 [==============================] - 1s 3us/sample - loss: 0.2073 - mse_loss_fn: 0.0318 - kl_loss_fn: 17.5792 - val_loss: 0.2074 - val_mse_loss_fn: 0.0330 - val_kl_loss_fn: 17.4751\n",
      "Epoch 240/240\n",
      "493568/499889 [============================>.] - ETA: 0s - loss: 0.2075 - mse_loss_fn: 0.0320 - kl_loss_fn: 17.5759\n",
      "Epoch 00240: val_loss did not improve from 0.20704\n",
      "499889/499889 [==============================] - 1s 3us/sample - loss: 0.2074 - mse_loss_fn: 0.0320 - kl_loss_fn: 17.5756 - val_loss: 0.2090 - val_mse_loss_fn: 0.0349 - val_kl_loss_fn: 17.4452\n",
      "Train on 499889 samples, validate on 378759 samples\n",
      "Epoch 1/240\n",
      "487424/499889 [============================>.] - ETA: 0s - loss: 0.2071 - mse_loss_fn: 0.0317 - kl_loss_fn: 17.5795\n",
      "Epoch 00001: val_loss improved from 0.20704 to 0.20695, saving model to outputs/models/cVAEz6_03-27-2023/cbvae_LHCO2020_20d_e-6.hdf5\n",
      "499889/499889 [==============================] - 2s 3us/sample - loss: 0.2071 - mse_loss_fn: 0.0316 - kl_loss_fn: 17.5796 - val_loss: 0.2070 - val_mse_loss_fn: 0.0318 - val_kl_loss_fn: 17.5433\n",
      "Epoch 2/240\n",
      "490496/499889 [============================>.] - ETA: 0s - loss: 0.2068 - mse_loss_fn: 0.0313 - kl_loss_fn: 17.5782\n",
      "Epoch 00002: val_loss did not improve from 0.20695\n",
      "499889/499889 [==============================] - 2s 3us/sample - loss: 0.2068 - mse_loss_fn: 0.0313 - kl_loss_fn: 17.5779 - val_loss: 0.2076 - val_mse_loss_fn: 0.0326 - val_kl_loss_fn: 17.5306\n",
      "Epoch 3/240\n",
      "479232/499889 [===========================>..] - ETA: 0s - loss: 0.2067 - mse_loss_fn: 0.0313 - kl_loss_fn: 17.5747\n",
      "Epoch 00003: val_loss did not improve from 0.20695\n",
      "499889/499889 [==============================] - 2s 3us/sample - loss: 0.2067 - mse_loss_fn: 0.0312 - kl_loss_fn: 17.5745 - val_loss: 0.2073 - val_mse_loss_fn: 0.0320 - val_kl_loss_fn: 17.5600\n",
      "Epoch 4/240\n",
      "499712/499889 [============================>.] - ETA: 0s - loss: 0.2068 - mse_loss_fn: 0.0313 - kl_loss_fn: 17.5796\n",
      "Epoch 00004: val_loss did not improve from 0.20695\n",
      "499889/499889 [==============================] - 2s 3us/sample - loss: 0.2068 - mse_loss_fn: 0.0312 - kl_loss_fn: 17.5796 - val_loss: 0.2075 - val_mse_loss_fn: 0.0326 - val_kl_loss_fn: 17.5274\n",
      "Epoch 5/240\n",
      "478208/499889 [===========================>..] - ETA: 0s - loss: 0.2068 - mse_loss_fn: 0.0313 - kl_loss_fn: 17.5745\n",
      "Epoch 00005: val_loss did not improve from 0.20695\n",
      "499889/499889 [==============================] - 2s 3us/sample - loss: 0.2067 - mse_loss_fn: 0.0313 - kl_loss_fn: 17.5740 - val_loss: 0.2070 - val_mse_loss_fn: 0.0324 - val_kl_loss_fn: 17.4938\n",
      "Epoch 6/240\n",
      "493568/499889 [============================>.] - ETA: 0s - loss: 0.2067 - mse_loss_fn: 0.0313 - kl_loss_fn: 17.5699\n",
      "Epoch 00006: val_loss did not improve from 0.20695\n",
      "499889/499889 [==============================] - 2s 3us/sample - loss: 0.2067 - mse_loss_fn: 0.0313 - kl_loss_fn: 17.5701 - val_loss: 0.2075 - val_mse_loss_fn: 0.0325 - val_kl_loss_fn: 17.5368\n",
      "Epoch 7/240\n",
      "482304/499889 [===========================>..] - ETA: 0s - loss: 0.2067 - mse_loss_fn: 0.0313 - kl_loss_fn: 17.5740\n",
      "Epoch 00007: val_loss did not improve from 0.20695\n",
      "499889/499889 [==============================] - 2s 3us/sample - loss: 0.2067 - mse_loss_fn: 0.0313 - kl_loss_fn: 17.5740 - val_loss: 0.2072 - val_mse_loss_fn: 0.0322 - val_kl_loss_fn: 17.5325\n",
      "Epoch 8/240\n",
      "480256/499889 [===========================>..] - ETA: 0s - loss: 0.2067 - mse_loss_fn: 0.0313 - kl_loss_fn: 17.5712\n",
      "Epoch 00008: val_loss did not improve from 0.20695\n",
      "499889/499889 [==============================] - 2s 3us/sample - loss: 0.2067 - mse_loss_fn: 0.0313 - kl_loss_fn: 17.5707 - val_loss: 0.2099 - val_mse_loss_fn: 0.0353 - val_kl_loss_fn: 17.4976\n",
      "Epoch 9/240\n",
      "478208/499889 [===========================>..] - ETA: 0s - loss: 0.2067 - mse_loss_fn: 0.0313 - kl_loss_fn: 17.5730\n",
      "Epoch 00009: val_loss improved from 0.20695 to 0.20635, saving model to outputs/models/cVAEz6_03-27-2023/cbvae_LHCO2020_20d_e-6.hdf5\n",
      "499889/499889 [==============================] - 2s 3us/sample - loss: 0.2067 - mse_loss_fn: 0.0312 - kl_loss_fn: 17.5740 - val_loss: 0.2064 - val_mse_loss_fn: 0.0312 - val_kl_loss_fn: 17.5436\n",
      "Epoch 10/240\n",
      "477184/499889 [===========================>..] - ETA: 0s - loss: 0.2067 - mse_loss_fn: 0.0313 - kl_loss_fn: 17.5699\n",
      "Epoch 00010: val_loss did not improve from 0.20635\n",
      "499889/499889 [==============================] - 2s 3us/sample - loss: 0.2067 - mse_loss_fn: 0.0313 - kl_loss_fn: 17.5706 - val_loss: 0.2081 - val_mse_loss_fn: 0.0331 - val_kl_loss_fn: 17.5337\n",
      "Epoch 11/240\n",
      "499889/499889 [==============================] - ETA: 0s - loss: 0.2068 - mse_loss_fn: 0.0313 - kl_loss_fn: 17.5775\n",
      "Epoch 00011: val_loss did not improve from 0.20635\n",
      "499889/499889 [==============================] - 1s 3us/sample - loss: 0.2068 - mse_loss_fn: 0.0313 - kl_loss_fn: 17.5775 - val_loss: 0.2065 - val_mse_loss_fn: 0.0315 - val_kl_loss_fn: 17.5338\n",
      "Epoch 12/240\n",
      "499712/499889 [============================>.] - ETA: 0s - loss: 0.2067 - mse_loss_fn: 0.0313 - kl_loss_fn: 17.5743\n",
      "Epoch 00012: val_loss did not improve from 0.20635\n",
      "499889/499889 [==============================] - 2s 3us/sample - loss: 0.2067 - mse_loss_fn: 0.0312 - kl_loss_fn: 17.5744 - val_loss: 0.2068 - val_mse_loss_fn: 0.0318 - val_kl_loss_fn: 17.5267\n",
      "Epoch 13/240\n",
      "495616/499889 [============================>.] - ETA: 0s - loss: 0.2068 - mse_loss_fn: 0.0314 - kl_loss_fn: 17.5714\n",
      "Epoch 00013: val_loss did not improve from 0.20635\n",
      "499889/499889 [==============================] - 2s 3us/sample - loss: 0.2068 - mse_loss_fn: 0.0313 - kl_loss_fn: 17.5713 - val_loss: 0.2082 - val_mse_loss_fn: 0.0329 - val_kl_loss_fn: 17.5599\n",
      "Epoch 14/240\n",
      "478208/499889 [===========================>..] - ETA: 0s - loss: 0.2067 - mse_loss_fn: 0.0313 - kl_loss_fn: 17.5722\n",
      "Epoch 00014: val_loss did not improve from 0.20635\n",
      "499889/499889 [==============================] - 1s 3us/sample - loss: 0.2067 - mse_loss_fn: 0.0312 - kl_loss_fn: 17.5737 - val_loss: 0.2075 - val_mse_loss_fn: 0.0325 - val_kl_loss_fn: 17.5342\n",
      "Epoch 15/240\n",
      "488448/499889 [============================>.] - ETA: 0s - loss: 0.2067 - mse_loss_fn: 0.0313 - kl_loss_fn: 17.5696\n",
      "Epoch 00015: val_loss did not improve from 0.20635\n",
      "499889/499889 [==============================] - 1s 3us/sample - loss: 0.2067 - mse_loss_fn: 0.0313 - kl_loss_fn: 17.5704 - val_loss: 0.2074 - val_mse_loss_fn: 0.0324 - val_kl_loss_fn: 17.5306\n",
      "Epoch 16/240\n",
      "483328/499889 [============================>.] - ETA: 0s - loss: 0.2068 - mse_loss_fn: 0.0314 - kl_loss_fn: 17.5704\n",
      "Epoch 00016: val_loss did not improve from 0.20635\n",
      "499889/499889 [==============================] - 1s 3us/sample - loss: 0.2068 - mse_loss_fn: 0.0313 - kl_loss_fn: 17.5711 - val_loss: 0.2079 - val_mse_loss_fn: 0.0327 - val_kl_loss_fn: 17.5593\n",
      "Epoch 17/240\n",
      "493568/499889 [============================>.] - ETA: 0s - loss: 0.2067 - mse_loss_fn: 0.0314 - kl_loss_fn: 17.5668\n",
      "Epoch 00017: val_loss did not improve from 0.20635\n",
      "499889/499889 [==============================] - 1s 3us/sample - loss: 0.2067 - mse_loss_fn: 0.0313 - kl_loss_fn: 17.5669 - val_loss: 0.2091 - val_mse_loss_fn: 0.0342 - val_kl_loss_fn: 17.5247\n",
      "Epoch 18/240\n",
      "489472/499889 [============================>.] - ETA: 0s - loss: 0.2067 - mse_loss_fn: 0.0313 - kl_loss_fn: 17.5670\n",
      "Epoch 00018: val_loss did not improve from 0.20635\n",
      "499889/499889 [==============================] - 1s 3us/sample - loss: 0.2067 - mse_loss_fn: 0.0313 - kl_loss_fn: 17.5670 - val_loss: 0.2081 - val_mse_loss_fn: 0.0331 - val_kl_loss_fn: 17.5250\n",
      "Epoch 19/240\n",
      "490496/499889 [============================>.] - ETA: 0s - loss: 0.2067 - mse_loss_fn: 0.0314 - kl_loss_fn: 17.5678\n",
      "Epoch 00019: val_loss did not improve from 0.20635\n",
      "499889/499889 [==============================] - 1s 3us/sample - loss: 0.2067 - mse_loss_fn: 0.0313 - kl_loss_fn: 17.5686 - val_loss: 0.2075 - val_mse_loss_fn: 0.0324 - val_kl_loss_fn: 17.5415\n",
      "Epoch 20/240\n",
      "492544/499889 [============================>.] - ETA: 0s - loss: 0.2067 - mse_loss_fn: 0.0314 - kl_loss_fn: 17.5702\n",
      "Epoch 00020: val_loss did not improve from 0.20635\n",
      "499889/499889 [==============================] - 1s 3us/sample - loss: 0.2067 - mse_loss_fn: 0.0313 - kl_loss_fn: 17.5699 - val_loss: 0.2072 - val_mse_loss_fn: 0.0326 - val_kl_loss_fn: 17.4975\n",
      "Epoch 21/240\n",
      "489472/499889 [============================>.] - ETA: 0s - loss: 0.2067 - mse_loss_fn: 0.0313 - kl_loss_fn: 17.5706\n",
      "Epoch 00021: val_loss did not improve from 0.20635\n",
      "499889/499889 [==============================] - 1s 3us/sample - loss: 0.2066 - mse_loss_fn: 0.0312 - kl_loss_fn: 17.5697 - val_loss: 0.2069 - val_mse_loss_fn: 0.0321 - val_kl_loss_fn: 17.5108\n",
      "Epoch 22/240\n",
      "490496/499889 [============================>.] - ETA: 0s - loss: 0.2067 - mse_loss_fn: 0.0313 - kl_loss_fn: 17.5704\n",
      "Epoch 00022: val_loss did not improve from 0.20635\n",
      "499889/499889 [==============================] - 1s 3us/sample - loss: 0.2067 - mse_loss_fn: 0.0312 - kl_loss_fn: 17.5707 - val_loss: 0.2074 - val_mse_loss_fn: 0.0326 - val_kl_loss_fn: 17.5159\n",
      "Epoch 23/240\n",
      "494592/499889 [============================>.] - ETA: 0s - loss: 0.2068 - mse_loss_fn: 0.0314 - kl_loss_fn: 17.5689\n",
      "Epoch 00023: val_loss did not improve from 0.20635\n",
      "499889/499889 [==============================] - 1s 3us/sample - loss: 0.2067 - mse_loss_fn: 0.0313 - kl_loss_fn: 17.5687 - val_loss: 0.2077 - val_mse_loss_fn: 0.0329 - val_kl_loss_fn: 17.5060\n",
      "Epoch 24/240\n",
      "497664/499889 [============================>.] - ETA: 0s - loss: 0.2067 - mse_loss_fn: 0.0314 - kl_loss_fn: 17.5674\n",
      "Epoch 00024: val_loss did not improve from 0.20635\n",
      "499889/499889 [==============================] - 1s 3us/sample - loss: 0.2067 - mse_loss_fn: 0.0313 - kl_loss_fn: 17.5672 - val_loss: 0.2067 - val_mse_loss_fn: 0.0317 - val_kl_loss_fn: 17.5329\n",
      "Epoch 25/240\n",
      "494592/499889 [============================>.] - ETA: 0s - loss: 0.2067 - mse_loss_fn: 0.0313 - kl_loss_fn: 17.5691\n",
      "Epoch 00025: val_loss did not improve from 0.20635\n",
      "499889/499889 [==============================] - 1s 3us/sample - loss: 0.2067 - mse_loss_fn: 0.0313 - kl_loss_fn: 17.5696 - val_loss: 0.2081 - val_mse_loss_fn: 0.0333 - val_kl_loss_fn: 17.5157\n",
      "Epoch 26/240\n",
      "494592/499889 [============================>.] - ETA: 0s - loss: 0.2067 - mse_loss_fn: 0.0313 - kl_loss_fn: 17.5715\n",
      "Epoch 00026: val_loss did not improve from 0.20635\n",
      "499889/499889 [==============================] - 1s 3us/sample - loss: 0.2067 - mse_loss_fn: 0.0313 - kl_loss_fn: 17.5714 - val_loss: 0.2070 - val_mse_loss_fn: 0.0322 - val_kl_loss_fn: 17.5076\n",
      "Epoch 27/240\n",
      "491520/499889 [============================>.] - ETA: 0s - loss: 0.2067 - mse_loss_fn: 0.0313 - kl_loss_fn: 17.5660\n",
      "Epoch 00027: val_loss did not improve from 0.20635\n",
      "499889/499889 [==============================] - 1s 3us/sample - loss: 0.2067 - mse_loss_fn: 0.0313 - kl_loss_fn: 17.5666 - val_loss: 0.2074 - val_mse_loss_fn: 0.0324 - val_kl_loss_fn: 17.5292\n",
      "Epoch 28/240\n",
      "491520/499889 [============================>.] - ETA: 0s - loss: 0.2067 - mse_loss_fn: 0.0313 - kl_loss_fn: 17.5723\n",
      "Epoch 00028: val_loss did not improve from 0.20635\n",
      "499889/499889 [==============================] - 1s 3us/sample - loss: 0.2067 - mse_loss_fn: 0.0313 - kl_loss_fn: 17.5732 - val_loss: 0.2069 - val_mse_loss_fn: 0.0316 - val_kl_loss_fn: 17.5658\n",
      "Epoch 29/240\n",
      "489472/499889 [============================>.] - ETA: 0s - loss: 0.2067 - mse_loss_fn: 0.0313 - kl_loss_fn: 17.5654\n",
      "Epoch 00029: val_loss did not improve from 0.20635\n",
      "499889/499889 [==============================] - 1s 3us/sample - loss: 0.2066 - mse_loss_fn: 0.0313 - kl_loss_fn: 17.5647 - val_loss: 0.2073 - val_mse_loss_fn: 0.0325 - val_kl_loss_fn: 17.5056\n",
      "Epoch 30/240\n",
      "491520/499889 [============================>.] - ETA: 0s - loss: 0.2068 - mse_loss_fn: 0.0314 - kl_loss_fn: 17.5722\n",
      "Epoch 00030: val_loss did not improve from 0.20635\n",
      "499889/499889 [==============================] - 1s 3us/sample - loss: 0.2068 - mse_loss_fn: 0.0314 - kl_loss_fn: 17.5724 - val_loss: 0.2070 - val_mse_loss_fn: 0.0319 - val_kl_loss_fn: 17.5442\n",
      "Epoch 31/240\n",
      "491520/499889 [============================>.] - ETA: 0s - loss: 0.2067 - mse_loss_fn: 0.0313 - kl_loss_fn: 17.5633\n",
      "Epoch 00031: val_loss did not improve from 0.20635\n",
      "499889/499889 [==============================] - 1s 3us/sample - loss: 0.2066 - mse_loss_fn: 0.0313 - kl_loss_fn: 17.5633 - val_loss: 0.2070 - val_mse_loss_fn: 0.0323 - val_kl_loss_fn: 17.5046\n",
      "Epoch 32/240\n",
      "491520/499889 [============================>.] - ETA: 0s - loss: 0.2066 - mse_loss_fn: 0.0313 - kl_loss_fn: 17.5649\n",
      "Epoch 00032: val_loss did not improve from 0.20635\n",
      "499889/499889 [==============================] - 1s 3us/sample - loss: 0.2066 - mse_loss_fn: 0.0312 - kl_loss_fn: 17.5653 - val_loss: 0.2068 - val_mse_loss_fn: 0.0315 - val_kl_loss_fn: 17.5658\n",
      "Epoch 33/240\n",
      "491520/499889 [============================>.] - ETA: 0s - loss: 0.2067 - mse_loss_fn: 0.0313 - kl_loss_fn: 17.5711\n",
      "Epoch 00033: val_loss did not improve from 0.20635\n",
      "499889/499889 [==============================] - 1s 3us/sample - loss: 0.2067 - mse_loss_fn: 0.0313 - kl_loss_fn: 17.5712 - val_loss: 0.2095 - val_mse_loss_fn: 0.0346 - val_kl_loss_fn: 17.5225\n",
      "Epoch 34/240\n",
      "488448/499889 [============================>.] - ETA: 0s - loss: 0.2067 - mse_loss_fn: 0.0314 - kl_loss_fn: 17.5663\n",
      "Epoch 00034: val_loss did not improve from 0.20635\n",
      "499889/499889 [==============================] - 1s 3us/sample - loss: 0.2067 - mse_loss_fn: 0.0313 - kl_loss_fn: 17.5650 - val_loss: 0.2073 - val_mse_loss_fn: 0.0322 - val_kl_loss_fn: 17.5416\n",
      "Epoch 35/240\n",
      "499889/499889 [==============================] - ETA: 0s - loss: 0.2067 - mse_loss_fn: 0.0313 - kl_loss_fn: 17.5690\n",
      "Epoch 00035: val_loss did not improve from 0.20635\n",
      "499889/499889 [==============================] - 1s 3us/sample - loss: 0.2067 - mse_loss_fn: 0.0313 - kl_loss_fn: 17.5690 - val_loss: 0.2068 - val_mse_loss_fn: 0.0318 - val_kl_loss_fn: 17.5328\n",
      "Epoch 36/240\n",
      "496640/499889 [============================>.] - ETA: 0s - loss: 0.2068 - mse_loss_fn: 0.0314 - kl_loss_fn: 17.5712\n",
      "Epoch 00036: val_loss did not improve from 0.20635\n",
      "499889/499889 [==============================] - 1s 3us/sample - loss: 0.2067 - mse_loss_fn: 0.0313 - kl_loss_fn: 17.5710 - val_loss: 0.2087 - val_mse_loss_fn: 0.0337 - val_kl_loss_fn: 17.5368\n",
      "Epoch 37/240\n",
      "486400/499889 [============================>.] - ETA: 0s - loss: 0.2067 - mse_loss_fn: 0.0314 - kl_loss_fn: 17.5648\n",
      "Epoch 00037: val_loss did not improve from 0.20635\n",
      "499889/499889 [==============================] - 1s 3us/sample - loss: 0.2067 - mse_loss_fn: 0.0313 - kl_loss_fn: 17.5660 - val_loss: 0.2073 - val_mse_loss_fn: 0.0324 - val_kl_loss_fn: 17.5265\n",
      "Epoch 38/240\n",
      "486400/499889 [============================>.] - ETA: 0s - loss: 0.2067 - mse_loss_fn: 0.0313 - kl_loss_fn: 17.5674\n",
      "Epoch 00038: val_loss did not improve from 0.20635\n",
      "499889/499889 [==============================] - 1s 3us/sample - loss: 0.2067 - mse_loss_fn: 0.0313 - kl_loss_fn: 17.5664 - val_loss: 0.2077 - val_mse_loss_fn: 0.0331 - val_kl_loss_fn: 17.4975\n",
      "Epoch 39/240\n",
      "491520/499889 [============================>.] - ETA: 0s - loss: 0.2067 - mse_loss_fn: 0.0314 - kl_loss_fn: 17.5640\n",
      "Epoch 00039: val_loss did not improve from 0.20635\n",
      "499889/499889 [==============================] - 1s 3us/sample - loss: 0.2067 - mse_loss_fn: 0.0313 - kl_loss_fn: 17.5646 - val_loss: 0.2070 - val_mse_loss_fn: 0.0323 - val_kl_loss_fn: 17.4995\n",
      "Epoch 40/240\n",
      "489472/499889 [============================>.] - ETA: 0s - loss: 0.2067 - mse_loss_fn: 0.0313 - kl_loss_fn: 17.5686\n",
      "Epoch 00040: val_loss did not improve from 0.20635\n",
      "499889/499889 [==============================] - 1s 3us/sample - loss: 0.2067 - mse_loss_fn: 0.0312 - kl_loss_fn: 17.5691 - val_loss: 0.2083 - val_mse_loss_fn: 0.0332 - val_kl_loss_fn: 17.5431\n",
      "Epoch 41/240\n",
      "476160/499889 [===========================>..] - ETA: 0s - loss: 0.2067 - mse_loss_fn: 0.0314 - kl_loss_fn: 17.5633\n",
      "Epoch 00041: val_loss did not improve from 0.20635\n",
      "499889/499889 [==============================] - 1s 3us/sample - loss: 0.2067 - mse_loss_fn: 0.0313 - kl_loss_fn: 17.5645 - val_loss: 0.2074 - val_mse_loss_fn: 0.0324 - val_kl_loss_fn: 17.5309\n",
      "Epoch 42/240\n",
      "492544/499889 [============================>.] - ETA: 0s - loss: 0.2067 - mse_loss_fn: 0.0313 - kl_loss_fn: 17.5634\n",
      "Epoch 00042: val_loss did not improve from 0.20635\n",
      "499889/499889 [==============================] - 1s 3us/sample - loss: 0.2066 - mse_loss_fn: 0.0313 - kl_loss_fn: 17.5632 - val_loss: 0.2081 - val_mse_loss_fn: 0.0333 - val_kl_loss_fn: 17.5063\n",
      "Epoch 43/240\n",
      "491520/499889 [============================>.] - ETA: 0s - loss: 0.2068 - mse_loss_fn: 0.0314 - kl_loss_fn: 17.5723\n",
      "Epoch 00043: val_loss did not improve from 0.20635\n",
      "499889/499889 [==============================] - 1s 3us/sample - loss: 0.2068 - mse_loss_fn: 0.0313 - kl_loss_fn: 17.5731 - val_loss: 0.2070 - val_mse_loss_fn: 0.0319 - val_kl_loss_fn: 17.5396\n",
      "Epoch 44/240\n",
      "493568/499889 [============================>.] - ETA: 0s - loss: 0.2067 - mse_loss_fn: 0.0313 - kl_loss_fn: 17.5641\n",
      "Epoch 00044: val_loss did not improve from 0.20635\n",
      "499889/499889 [==============================] - 1s 3us/sample - loss: 0.2067 - mse_loss_fn: 0.0313 - kl_loss_fn: 17.5645 - val_loss: 0.2079 - val_mse_loss_fn: 0.0331 - val_kl_loss_fn: 17.5220\n",
      "Epoch 45/240\n",
      "498688/499889 [============================>.] - ETA: 0s - loss: 0.2066 - mse_loss_fn: 0.0313 - kl_loss_fn: 17.5615\n",
      "Epoch 00045: val_loss did not improve from 0.20635\n",
      "499889/499889 [==============================] - 1s 3us/sample - loss: 0.2066 - mse_loss_fn: 0.0313 - kl_loss_fn: 17.5614 - val_loss: 0.2082 - val_mse_loss_fn: 0.0334 - val_kl_loss_fn: 17.5139\n",
      "Epoch 46/240\n",
      "494592/499889 [============================>.] - ETA: 0s - loss: 0.2067 - mse_loss_fn: 0.0314 - kl_loss_fn: 17.5695\n",
      "Epoch 00046: val_loss did not improve from 0.20635\n",
      "499889/499889 [==============================] - 1s 3us/sample - loss: 0.2067 - mse_loss_fn: 0.0313 - kl_loss_fn: 17.5697 - val_loss: 0.2071 - val_mse_loss_fn: 0.0323 - val_kl_loss_fn: 17.5065\n",
      "Epoch 47/240\n",
      "489472/499889 [============================>.] - ETA: 0s - loss: 0.2067 - mse_loss_fn: 0.0314 - kl_loss_fn: 17.5599\n",
      "Epoch 00047: val_loss did not improve from 0.20635\n",
      "499889/499889 [==============================] - 1s 3us/sample - loss: 0.2067 - mse_loss_fn: 0.0313 - kl_loss_fn: 17.5602 - val_loss: 0.2082 - val_mse_loss_fn: 0.0335 - val_kl_loss_fn: 17.5094\n",
      "Epoch 48/240\n",
      "491520/499889 [============================>.] - ETA: 0s - loss: 0.2067 - mse_loss_fn: 0.0314 - kl_loss_fn: 17.5628\n",
      "Epoch 00048: val_loss did not improve from 0.20635\n",
      "499889/499889 [==============================] - 1s 3us/sample - loss: 0.2067 - mse_loss_fn: 0.0313 - kl_loss_fn: 17.5621 - val_loss: 0.2071 - val_mse_loss_fn: 0.0324 - val_kl_loss_fn: 17.4948\n",
      "Epoch 49/240\n",
      "494592/499889 [============================>.] - ETA: 0s - loss: 0.2067 - mse_loss_fn: 0.0313 - kl_loss_fn: 17.5690\n",
      "Epoch 00049: val_loss did not improve from 0.20635\n",
      "499889/499889 [==============================] - 1s 3us/sample - loss: 0.2067 - mse_loss_fn: 0.0313 - kl_loss_fn: 17.5684 - val_loss: 0.2072 - val_mse_loss_fn: 0.0324 - val_kl_loss_fn: 17.5154\n",
      "Epoch 50/240\n",
      "493568/499889 [============================>.] - ETA: 0s - loss: 0.2067 - mse_loss_fn: 0.0313 - kl_loss_fn: 17.5655\n",
      "Epoch 00050: val_loss did not improve from 0.20635\n",
      "499889/499889 [==============================] - 1s 3us/sample - loss: 0.2067 - mse_loss_fn: 0.0313 - kl_loss_fn: 17.5651 - val_loss: 0.2085 - val_mse_loss_fn: 0.0338 - val_kl_loss_fn: 17.4959\n",
      "Epoch 51/240\n",
      "494592/499889 [============================>.] - ETA: 0s - loss: 0.2067 - mse_loss_fn: 0.0314 - kl_loss_fn: 17.5665\n",
      "Epoch 00051: val_loss did not improve from 0.20635\n",
      "499889/499889 [==============================] - 1s 3us/sample - loss: 0.2067 - mse_loss_fn: 0.0313 - kl_loss_fn: 17.5669 - val_loss: 0.2070 - val_mse_loss_fn: 0.0322 - val_kl_loss_fn: 17.5089\n",
      "Epoch 52/240\n",
      "486400/499889 [============================>.] - ETA: 0s - loss: 0.2067 - mse_loss_fn: 0.0313 - kl_loss_fn: 17.5626\n",
      "Epoch 00052: val_loss did not improve from 0.20635\n",
      "499889/499889 [==============================] - 1s 3us/sample - loss: 0.2066 - mse_loss_fn: 0.0313 - kl_loss_fn: 17.5628 - val_loss: 0.2085 - val_mse_loss_fn: 0.0339 - val_kl_loss_fn: 17.4937\n",
      "Epoch 53/240\n",
      "487424/499889 [============================>.] - ETA: 0s - loss: 0.2067 - mse_loss_fn: 0.0314 - kl_loss_fn: 17.5623\n",
      "Epoch 00053: val_loss did not improve from 0.20635\n",
      "499889/499889 [==============================] - 1s 3us/sample - loss: 0.2067 - mse_loss_fn: 0.0313 - kl_loss_fn: 17.5622 - val_loss: 0.2090 - val_mse_loss_fn: 0.0343 - val_kl_loss_fn: 17.5114\n",
      "Epoch 54/240\n",
      "498688/499889 [============================>.] - ETA: 0s - loss: 0.2067 - mse_loss_fn: 0.0313 - kl_loss_fn: 17.5680\n",
      "Epoch 00054: val_loss did not improve from 0.20635\n",
      "499889/499889 [==============================] - 1s 3us/sample - loss: 0.2067 - mse_loss_fn: 0.0313 - kl_loss_fn: 17.5679 - val_loss: 0.2070 - val_mse_loss_fn: 0.0320 - val_kl_loss_fn: 17.5385\n",
      "Epoch 55/240\n",
      "493568/499889 [============================>.] - ETA: 0s - loss: 0.2066 - mse_loss_fn: 0.0313 - kl_loss_fn: 17.5610\n",
      "Epoch 00055: val_loss did not improve from 0.20635\n",
      "499889/499889 [==============================] - 1s 3us/sample - loss: 0.2066 - mse_loss_fn: 0.0312 - kl_loss_fn: 17.5610 - val_loss: 0.2070 - val_mse_loss_fn: 0.0322 - val_kl_loss_fn: 17.5189\n",
      "Epoch 56/240\n",
      "493568/499889 [============================>.] - ETA: 0s - loss: 0.2067 - mse_loss_fn: 0.0313 - kl_loss_fn: 17.5629\n",
      "Epoch 00056: val_loss did not improve from 0.20635\n",
      "499889/499889 [==============================] - 1s 3us/sample - loss: 0.2066 - mse_loss_fn: 0.0313 - kl_loss_fn: 17.5631 - val_loss: 0.2081 - val_mse_loss_fn: 0.0330 - val_kl_loss_fn: 17.5350\n",
      "Epoch 57/240\n",
      "487424/499889 [============================>.] - ETA: 0s - loss: 0.2067 - mse_loss_fn: 0.0314 - kl_loss_fn: 17.5625\n",
      "Epoch 00057: val_loss did not improve from 0.20635\n",
      "499889/499889 [==============================] - 1s 3us/sample - loss: 0.2067 - mse_loss_fn: 0.0313 - kl_loss_fn: 17.5621 - val_loss: 0.2074 - val_mse_loss_fn: 0.0327 - val_kl_loss_fn: 17.5119\n",
      "Epoch 58/240\n",
      "482304/499889 [===========================>..] - ETA: 0s - loss: 0.2068 - mse_loss_fn: 0.0314 - kl_loss_fn: 17.5645\n",
      "Epoch 00058: val_loss did not improve from 0.20635\n",
      "499889/499889 [==============================] - 1s 3us/sample - loss: 0.2067 - mse_loss_fn: 0.0314 - kl_loss_fn: 17.5647 - val_loss: 0.2078 - val_mse_loss_fn: 0.0330 - val_kl_loss_fn: 17.5142\n",
      "Epoch 59/240\n",
      "486400/499889 [============================>.] - ETA: 0s - loss: 0.2066 - mse_loss_fn: 0.0313 - kl_loss_fn: 17.5646\n",
      "Epoch 00059: val_loss did not improve from 0.20635\n",
      "499889/499889 [==============================] - 1s 3us/sample - loss: 0.2066 - mse_loss_fn: 0.0312 - kl_loss_fn: 17.5653 - val_loss: 0.2072 - val_mse_loss_fn: 0.0319 - val_kl_loss_fn: 17.5595\n",
      "Epoch 60/240\n",
      "474112/499889 [===========================>..] - ETA: 0s - loss: 0.2067 - mse_loss_fn: 0.0313 - kl_loss_fn: 17.5639\n",
      "Epoch 00060: val_loss did not improve from 0.20635\n",
      "499889/499889 [==============================] - 1s 3us/sample - loss: 0.2067 - mse_loss_fn: 0.0313 - kl_loss_fn: 17.5636 - val_loss: 0.2069 - val_mse_loss_fn: 0.0320 - val_kl_loss_fn: 17.5199\n",
      "Epoch 61/240\n",
      "492544/499889 [============================>.] - ETA: 0s - loss: 0.2067 - mse_loss_fn: 0.0314 - kl_loss_fn: 17.5627\n",
      "Epoch 00061: val_loss did not improve from 0.20635\n",
      "499889/499889 [==============================] - 1s 3us/sample - loss: 0.2067 - mse_loss_fn: 0.0314 - kl_loss_fn: 17.5623 - val_loss: 0.2094 - val_mse_loss_fn: 0.0349 - val_kl_loss_fn: 17.4845\n",
      "Epoch 62/240\n",
      "498688/499889 [============================>.] - ETA: 0s - loss: 0.2066 - mse_loss_fn: 0.0313 - kl_loss_fn: 17.5621\n",
      "Epoch 00062: val_loss did not improve from 0.20635\n",
      "499889/499889 [==============================] - 1s 3us/sample - loss: 0.2066 - mse_loss_fn: 0.0313 - kl_loss_fn: 17.5620 - val_loss: 0.2065 - val_mse_loss_fn: 0.0316 - val_kl_loss_fn: 17.5243\n",
      "Epoch 63/240\n",
      "482304/499889 [===========================>..] - ETA: 0s - loss: 0.2066 - mse_loss_fn: 0.0313 - kl_loss_fn: 17.5641\n",
      "Epoch 00063: val_loss did not improve from 0.20635\n",
      "499889/499889 [==============================] - 1s 3us/sample - loss: 0.2066 - mse_loss_fn: 0.0313 - kl_loss_fn: 17.5649 - val_loss: 0.2072 - val_mse_loss_fn: 0.0323 - val_kl_loss_fn: 17.5256\n",
      "Epoch 64/240\n",
      "484352/499889 [============================>.] - ETA: 0s - loss: 0.2067 - mse_loss_fn: 0.0314 - kl_loss_fn: 17.5638\n",
      "Epoch 00064: val_loss did not improve from 0.20635\n",
      "499889/499889 [==============================] - 1s 3us/sample - loss: 0.2067 - mse_loss_fn: 0.0313 - kl_loss_fn: 17.5637 - val_loss: 0.2074 - val_mse_loss_fn: 0.0326 - val_kl_loss_fn: 17.5095\n",
      "Epoch 65/240\n",
      "478208/499889 [===========================>..] - ETA: 0s - loss: 0.2066 - mse_loss_fn: 0.0313 - kl_loss_fn: 17.5611\n",
      "Epoch 00065: val_loss did not improve from 0.20635\n",
      "499889/499889 [==============================] - 1s 3us/sample - loss: 0.2066 - mse_loss_fn: 0.0313 - kl_loss_fn: 17.5606 - val_loss: 0.2076 - val_mse_loss_fn: 0.0327 - val_kl_loss_fn: 17.5197\n",
      "Epoch 66/240\n",
      "480256/499889 [===========================>..] - ETA: 0s - loss: 0.2067 - mse_loss_fn: 0.0313 - kl_loss_fn: 17.5634\n",
      "Epoch 00066: val_loss did not improve from 0.20635\n",
      "499889/499889 [==============================] - 1s 3us/sample - loss: 0.2066 - mse_loss_fn: 0.0313 - kl_loss_fn: 17.5638 - val_loss: 0.2070 - val_mse_loss_fn: 0.0322 - val_kl_loss_fn: 17.5208\n",
      "Epoch 67/240\n",
      "488448/499889 [============================>.] - ETA: 0s - loss: 0.2066 - mse_loss_fn: 0.0313 - kl_loss_fn: 17.5611\n",
      "Epoch 00067: val_loss did not improve from 0.20635\n",
      "499889/499889 [==============================] - 1s 3us/sample - loss: 0.2066 - mse_loss_fn: 0.0312 - kl_loss_fn: 17.5614 - val_loss: 0.2079 - val_mse_loss_fn: 0.0328 - val_kl_loss_fn: 17.5381\n",
      "Epoch 68/240\n",
      "479232/499889 [===========================>..] - ETA: 0s - loss: 0.2067 - mse_loss_fn: 0.0313 - kl_loss_fn: 17.5649\n",
      "Epoch 00068: val_loss did not improve from 0.20635\n",
      "499889/499889 [==============================] - 1s 3us/sample - loss: 0.2067 - mse_loss_fn: 0.0313 - kl_loss_fn: 17.5652 - val_loss: 0.2069 - val_mse_loss_fn: 0.0318 - val_kl_loss_fn: 17.5446\n",
      "Epoch 69/240\n",
      "482304/499889 [===========================>..] - ETA: 0s - loss: 0.2067 - mse_loss_fn: 0.0314 - kl_loss_fn: 17.5605\n",
      "Epoch 00069: val_loss did not improve from 0.20635\n",
      "499889/499889 [==============================] - 1s 3us/sample - loss: 0.2067 - mse_loss_fn: 0.0313 - kl_loss_fn: 17.5610 - val_loss: 0.2068 - val_mse_loss_fn: 0.0318 - val_kl_loss_fn: 17.5376\n",
      "Epoch 70/240\n",
      "480256/499889 [===========================>..] - ETA: 0s - loss: 0.2067 - mse_loss_fn: 0.0314 - kl_loss_fn: 17.5656\n",
      "Epoch 00070: val_loss did not improve from 0.20635\n",
      "499889/499889 [==============================] - 1s 3us/sample - loss: 0.2067 - mse_loss_fn: 0.0313 - kl_loss_fn: 17.5656 - val_loss: 0.2072 - val_mse_loss_fn: 0.0326 - val_kl_loss_fn: 17.4907\n",
      "Epoch 71/240\n",
      "486400/499889 [============================>.] - ETA: 0s - loss: 0.2066 - mse_loss_fn: 0.0313 - kl_loss_fn: 17.5612\n",
      "Epoch 00071: val_loss did not improve from 0.20635\n",
      "499889/499889 [==============================] - 1s 3us/sample - loss: 0.2066 - mse_loss_fn: 0.0313 - kl_loss_fn: 17.5613 - val_loss: 0.2070 - val_mse_loss_fn: 0.0323 - val_kl_loss_fn: 17.5090\n",
      "Epoch 72/240\n",
      "487424/499889 [============================>.] - ETA: 0s - loss: 0.2067 - mse_loss_fn: 0.0314 - kl_loss_fn: 17.5595\n",
      "Epoch 00072: val_loss did not improve from 0.20635\n",
      "499889/499889 [==============================] - 1s 3us/sample - loss: 0.2067 - mse_loss_fn: 0.0313 - kl_loss_fn: 17.5610 - val_loss: 0.2076 - val_mse_loss_fn: 0.0324 - val_kl_loss_fn: 17.5541\n",
      "Epoch 73/240\n",
      "496640/499889 [============================>.] - ETA: 0s - loss: 0.2066 - mse_loss_fn: 0.0314 - kl_loss_fn: 17.5582\n",
      "Epoch 00073: val_loss did not improve from 0.20635\n",
      "499889/499889 [==============================] - 1s 3us/sample - loss: 0.2066 - mse_loss_fn: 0.0313 - kl_loss_fn: 17.5582 - val_loss: 0.2084 - val_mse_loss_fn: 0.0336 - val_kl_loss_fn: 17.5097\n",
      "Epoch 74/240\n",
      "485376/499889 [============================>.] - ETA: 0s - loss: 0.2067 - mse_loss_fn: 0.0314 - kl_loss_fn: 17.5622\n",
      "Epoch 00074: val_loss did not improve from 0.20635\n",
      "499889/499889 [==============================] - 1s 3us/sample - loss: 0.2067 - mse_loss_fn: 0.0313 - kl_loss_fn: 17.5624 - val_loss: 0.2077 - val_mse_loss_fn: 0.0330 - val_kl_loss_fn: 17.5000\n",
      "Epoch 75/240\n",
      "489472/499889 [============================>.] - ETA: 0s - loss: 0.2067 - mse_loss_fn: 0.0314 - kl_loss_fn: 17.5610\n",
      "Epoch 00075: val_loss did not improve from 0.20635\n",
      "499889/499889 [==============================] - 1s 3us/sample - loss: 0.2066 - mse_loss_fn: 0.0313 - kl_loss_fn: 17.5606 - val_loss: 0.2091 - val_mse_loss_fn: 0.0344 - val_kl_loss_fn: 17.5034\n",
      "Epoch 76/240\n",
      "482304/499889 [===========================>..] - ETA: 0s - loss: 0.2066 - mse_loss_fn: 0.0313 - kl_loss_fn: 17.5625\n",
      "Epoch 00076: val_loss did not improve from 0.20635\n",
      "499889/499889 [==============================] - 1s 3us/sample - loss: 0.2066 - mse_loss_fn: 0.0313 - kl_loss_fn: 17.5626 - val_loss: 0.2075 - val_mse_loss_fn: 0.0330 - val_kl_loss_fn: 17.4779\n",
      "Epoch 77/240\n",
      "489472/499889 [============================>.] - ETA: 0s - loss: 0.2066 - mse_loss_fn: 0.0313 - kl_loss_fn: 17.5565\n",
      "Epoch 00077: val_loss did not improve from 0.20635\n",
      "499889/499889 [==============================] - 1s 3us/sample - loss: 0.2066 - mse_loss_fn: 0.0313 - kl_loss_fn: 17.5565 - val_loss: 0.2079 - val_mse_loss_fn: 0.0332 - val_kl_loss_fn: 17.5013\n",
      "Epoch 78/240\n",
      "486400/499889 [============================>.] - ETA: 0s - loss: 0.2066 - mse_loss_fn: 0.0314 - kl_loss_fn: 17.5585\n",
      "Epoch 00078: val_loss did not improve from 0.20635\n",
      "499889/499889 [==============================] - 1s 3us/sample - loss: 0.2066 - mse_loss_fn: 0.0313 - kl_loss_fn: 17.5582 - val_loss: 0.2081 - val_mse_loss_fn: 0.0332 - val_kl_loss_fn: 17.5254\n",
      "Epoch 79/240\n",
      "499712/499889 [============================>.] - ETA: 0s - loss: 0.2067 - mse_loss_fn: 0.0314 - kl_loss_fn: 17.5617\n",
      "Epoch 00079: val_loss did not improve from 0.20635\n",
      "499889/499889 [==============================] - 1s 3us/sample - loss: 0.2066 - mse_loss_fn: 0.0313 - kl_loss_fn: 17.5618 - val_loss: 0.2095 - val_mse_loss_fn: 0.0349 - val_kl_loss_fn: 17.4918\n",
      "Epoch 80/240\n",
      "486400/499889 [============================>.] - ETA: 0s - loss: 0.2067 - mse_loss_fn: 0.0314 - kl_loss_fn: 17.5614\n",
      "Epoch 00080: val_loss did not improve from 0.20635\n",
      "499889/499889 [==============================] - 1s 3us/sample - loss: 0.2067 - mse_loss_fn: 0.0313 - kl_loss_fn: 17.5621 - val_loss: 0.2066 - val_mse_loss_fn: 0.0318 - val_kl_loss_fn: 17.5154\n",
      "Epoch 81/240\n",
      "479232/499889 [===========================>..] - ETA: 0s - loss: 0.2066 - mse_loss_fn: 0.0313 - kl_loss_fn: 17.5593\n",
      "Epoch 00081: val_loss did not improve from 0.20635\n",
      "499889/499889 [==============================] - 1s 3us/sample - loss: 0.2066 - mse_loss_fn: 0.0313 - kl_loss_fn: 17.5602 - val_loss: 0.2075 - val_mse_loss_fn: 0.0322 - val_kl_loss_fn: 17.5639\n",
      "Epoch 82/240\n",
      "479232/499889 [===========================>..] - ETA: 0s - loss: 0.2066 - mse_loss_fn: 0.0313 - kl_loss_fn: 17.5607\n",
      "Epoch 00082: val_loss did not improve from 0.20635\n",
      "499889/499889 [==============================] - 1s 3us/sample - loss: 0.2066 - mse_loss_fn: 0.0313 - kl_loss_fn: 17.5611 - val_loss: 0.2077 - val_mse_loss_fn: 0.0328 - val_kl_loss_fn: 17.5208\n",
      "Epoch 83/240\n",
      "486400/499889 [============================>.] - ETA: 0s - loss: 0.2067 - mse_loss_fn: 0.0314 - kl_loss_fn: 17.5586\n",
      "Epoch 00083: val_loss did not improve from 0.20635\n",
      "499889/499889 [==============================] - 1s 3us/sample - loss: 0.2067 - mse_loss_fn: 0.0314 - kl_loss_fn: 17.5595 - val_loss: 0.2074 - val_mse_loss_fn: 0.0325 - val_kl_loss_fn: 17.5209\n",
      "Epoch 84/240\n",
      "495616/499889 [============================>.] - ETA: 0s - loss: 0.2066 - mse_loss_fn: 0.0313 - kl_loss_fn: 17.5596\n",
      "Epoch 00084: val_loss did not improve from 0.20635\n",
      "499889/499889 [==============================] - 1s 3us/sample - loss: 0.2066 - mse_loss_fn: 0.0312 - kl_loss_fn: 17.5596 - val_loss: 0.2077 - val_mse_loss_fn: 0.0329 - val_kl_loss_fn: 17.5111\n",
      "Epoch 85/240\n",
      "489472/499889 [============================>.] - ETA: 0s - loss: 0.2066 - mse_loss_fn: 0.0313 - kl_loss_fn: 17.5599\n",
      "Epoch 00085: val_loss did not improve from 0.20635\n",
      "499889/499889 [==============================] - 1s 3us/sample - loss: 0.2066 - mse_loss_fn: 0.0313 - kl_loss_fn: 17.5597 - val_loss: 0.2074 - val_mse_loss_fn: 0.0328 - val_kl_loss_fn: 17.4869\n",
      "Epoch 86/240\n",
      "493568/499889 [============================>.] - ETA: 0s - loss: 0.2067 - mse_loss_fn: 0.0313 - kl_loss_fn: 17.5621\n",
      "Epoch 00086: val_loss did not improve from 0.20635\n",
      "499889/499889 [==============================] - 1s 3us/sample - loss: 0.2066 - mse_loss_fn: 0.0313 - kl_loss_fn: 17.5619 - val_loss: 0.2081 - val_mse_loss_fn: 0.0335 - val_kl_loss_fn: 17.4895\n",
      "Epoch 87/240\n",
      "485376/499889 [============================>.] - ETA: 0s - loss: 0.2066 - mse_loss_fn: 0.0314 - kl_loss_fn: 17.5578\n",
      "Epoch 00087: val_loss did not improve from 0.20635\n",
      "499889/499889 [==============================] - 1s 3us/sample - loss: 0.2066 - mse_loss_fn: 0.0313 - kl_loss_fn: 17.5580 - val_loss: 0.2085 - val_mse_loss_fn: 0.0334 - val_kl_loss_fn: 17.5439\n",
      "Epoch 88/240\n",
      "485376/499889 [============================>.] - ETA: 0s - loss: 0.2066 - mse_loss_fn: 0.0313 - kl_loss_fn: 17.5598\n",
      "Epoch 00088: val_loss did not improve from 0.20635\n",
      "499889/499889 [==============================] - 1s 3us/sample - loss: 0.2066 - mse_loss_fn: 0.0312 - kl_loss_fn: 17.5588 - val_loss: 0.2084 - val_mse_loss_fn: 0.0338 - val_kl_loss_fn: 17.4899\n",
      "Epoch 89/240\n",
      "494592/499889 [============================>.] - ETA: 0s - loss: 0.2066 - mse_loss_fn: 0.0313 - kl_loss_fn: 17.5582\n",
      "Epoch 00089: val_loss did not improve from 0.20635\n",
      "499889/499889 [==============================] - 1s 3us/sample - loss: 0.2066 - mse_loss_fn: 0.0313 - kl_loss_fn: 17.5589 - val_loss: 0.2064 - val_mse_loss_fn: 0.0314 - val_kl_loss_fn: 17.5334\n",
      "Epoch 90/240\n",
      "498688/499889 [============================>.] - ETA: 0s - loss: 0.2066 - mse_loss_fn: 0.0313 - kl_loss_fn: 17.5572\n",
      "Epoch 00090: val_loss did not improve from 0.20635\n",
      "499889/499889 [==============================] - 1s 3us/sample - loss: 0.2066 - mse_loss_fn: 0.0313 - kl_loss_fn: 17.5570 - val_loss: 0.2075 - val_mse_loss_fn: 0.0329 - val_kl_loss_fn: 17.4961\n",
      "Epoch 91/240\n",
      "496640/499889 [============================>.] - ETA: 0s - loss: 0.2066 - mse_loss_fn: 0.0313 - kl_loss_fn: 17.5573\n",
      "Epoch 00091: val_loss did not improve from 0.20635\n",
      "499889/499889 [==============================] - 1s 3us/sample - loss: 0.2066 - mse_loss_fn: 0.0312 - kl_loss_fn: 17.5575 - val_loss: 0.2069 - val_mse_loss_fn: 0.0321 - val_kl_loss_fn: 17.5166\n",
      "Epoch 92/240\n",
      "499889/499889 [==============================] - ETA: 0s - loss: 0.2066 - mse_loss_fn: 0.0313 - kl_loss_fn: 17.5575\n",
      "Epoch 00092: val_loss did not improve from 0.20635\n",
      "499889/499889 [==============================] - 1s 3us/sample - loss: 0.2066 - mse_loss_fn: 0.0313 - kl_loss_fn: 17.5575 - val_loss: 0.2068 - val_mse_loss_fn: 0.0320 - val_kl_loss_fn: 17.5086\n",
      "Epoch 93/240\n",
      "496640/499889 [============================>.] - ETA: 0s - loss: 0.2066 - mse_loss_fn: 0.0314 - kl_loss_fn: 17.5530\n",
      "Epoch 00093: val_loss did not improve from 0.20635\n",
      "499889/499889 [==============================] - 1s 3us/sample - loss: 0.2066 - mse_loss_fn: 0.0313 - kl_loss_fn: 17.5533 - val_loss: 0.2075 - val_mse_loss_fn: 0.0325 - val_kl_loss_fn: 17.5342\n",
      "Epoch 94/240\n",
      "488448/499889 [============================>.] - ETA: 0s - loss: 0.2067 - mse_loss_fn: 0.0314 - kl_loss_fn: 17.5565\n",
      "Epoch 00094: val_loss did not improve from 0.20635\n",
      "499889/499889 [==============================] - 1s 3us/sample - loss: 0.2067 - mse_loss_fn: 0.0314 - kl_loss_fn: 17.5574 - val_loss: 0.2070 - val_mse_loss_fn: 0.0322 - val_kl_loss_fn: 17.5192\n",
      "Epoch 95/240\n",
      "489472/499889 [============================>.] - ETA: 0s - loss: 0.2066 - mse_loss_fn: 0.0314 - kl_loss_fn: 17.5564\n",
      "Epoch 00095: val_loss did not improve from 0.20635\n",
      "499889/499889 [==============================] - 1s 3us/sample - loss: 0.2066 - mse_loss_fn: 0.0313 - kl_loss_fn: 17.5570 - val_loss: 0.2068 - val_mse_loss_fn: 0.0317 - val_kl_loss_fn: 17.5411\n",
      "Epoch 96/240\n",
      "486400/499889 [============================>.] - ETA: 0s - loss: 0.2066 - mse_loss_fn: 0.0313 - kl_loss_fn: 17.5583\n",
      "Epoch 00096: val_loss did not improve from 0.20635\n",
      "499889/499889 [==============================] - 1s 3us/sample - loss: 0.2066 - mse_loss_fn: 0.0312 - kl_loss_fn: 17.5573 - val_loss: 0.2087 - val_mse_loss_fn: 0.0340 - val_kl_loss_fn: 17.5005\n",
      "Epoch 97/240\n",
      "479232/499889 [===========================>..] - ETA: 0s - loss: 0.2065 - mse_loss_fn: 0.0313 - kl_loss_fn: 17.5554\n",
      "Epoch 00097: val_loss did not improve from 0.20635\n",
      "499889/499889 [==============================] - 1s 3us/sample - loss: 0.2065 - mse_loss_fn: 0.0312 - kl_loss_fn: 17.5556 - val_loss: 0.2084 - val_mse_loss_fn: 0.0333 - val_kl_loss_fn: 17.5401\n",
      "Epoch 98/240\n",
      "478208/499889 [===========================>..] - ETA: 0s - loss: 0.2066 - mse_loss_fn: 0.0314 - kl_loss_fn: 17.5581\n",
      "Epoch 00098: val_loss did not improve from 0.20635\n",
      "499889/499889 [==============================] - 1s 3us/sample - loss: 0.2066 - mse_loss_fn: 0.0313 - kl_loss_fn: 17.5582 - val_loss: 0.2071 - val_mse_loss_fn: 0.0326 - val_kl_loss_fn: 17.4884\n",
      "Epoch 99/240\n",
      "485376/499889 [============================>.] - ETA: 0s - loss: 0.2066 - mse_loss_fn: 0.0313 - kl_loss_fn: 17.5528\n",
      "Epoch 00099: val_loss did not improve from 0.20635\n",
      "499889/499889 [==============================] - 1s 3us/sample - loss: 0.2066 - mse_loss_fn: 0.0313 - kl_loss_fn: 17.5530 - val_loss: 0.2071 - val_mse_loss_fn: 0.0321 - val_kl_loss_fn: 17.5292\n",
      "Epoch 100/240\n",
      "486400/499889 [============================>.] - ETA: 0s - loss: 0.2066 - mse_loss_fn: 0.0313 - kl_loss_fn: 17.5555\n",
      "Epoch 00100: val_loss did not improve from 0.20635\n",
      "499889/499889 [==============================] - 1s 3us/sample - loss: 0.2065 - mse_loss_fn: 0.0313 - kl_loss_fn: 17.5551 - val_loss: 0.2072 - val_mse_loss_fn: 0.0328 - val_kl_loss_fn: 17.4663\n",
      "Epoch 101/240\n",
      "490496/499889 [============================>.] - ETA: 0s - loss: 0.2066 - mse_loss_fn: 0.0314 - kl_loss_fn: 17.5528\n",
      "Epoch 00101: val_loss did not improve from 0.20635\n",
      "499889/499889 [==============================] - 1s 3us/sample - loss: 0.2066 - mse_loss_fn: 0.0314 - kl_loss_fn: 17.5537 - val_loss: 0.2075 - val_mse_loss_fn: 0.0325 - val_kl_loss_fn: 17.5311\n",
      "Epoch 102/240\n",
      "490496/499889 [============================>.] - ETA: 0s - loss: 0.2067 - mse_loss_fn: 0.0314 - kl_loss_fn: 17.5600\n",
      "Epoch 00102: val_loss did not improve from 0.20635\n",
      "499889/499889 [==============================] - 1s 3us/sample - loss: 0.2066 - mse_loss_fn: 0.0313 - kl_loss_fn: 17.5596 - val_loss: 0.2067 - val_mse_loss_fn: 0.0322 - val_kl_loss_fn: 17.4832\n",
      "Epoch 103/240\n",
      "488448/499889 [============================>.] - ETA: 0s - loss: 0.2065 - mse_loss_fn: 0.0313 - kl_loss_fn: 17.5520\n",
      "Epoch 00103: val_loss did not improve from 0.20635\n",
      "499889/499889 [==============================] - 1s 3us/sample - loss: 0.2065 - mse_loss_fn: 0.0313 - kl_loss_fn: 17.5518 - val_loss: 0.2076 - val_mse_loss_fn: 0.0325 - val_kl_loss_fn: 17.5348\n",
      "Epoch 104/240\n",
      "493568/499889 [============================>.] - ETA: 0s - loss: 0.2066 - mse_loss_fn: 0.0313 - kl_loss_fn: 17.5551\n",
      "Epoch 00104: val_loss did not improve from 0.20635\n",
      "499889/499889 [==============================] - 1s 3us/sample - loss: 0.2066 - mse_loss_fn: 0.0313 - kl_loss_fn: 17.5550 - val_loss: 0.2071 - val_mse_loss_fn: 0.0326 - val_kl_loss_fn: 17.4859\n",
      "Epoch 105/240\n",
      "491520/499889 [============================>.] - ETA: 0s - loss: 0.2066 - mse_loss_fn: 0.0313 - kl_loss_fn: 17.5542\n",
      "Epoch 00105: val_loss did not improve from 0.20635\n",
      "499889/499889 [==============================] - 1s 3us/sample - loss: 0.2066 - mse_loss_fn: 0.0313 - kl_loss_fn: 17.5546 - val_loss: 0.2068 - val_mse_loss_fn: 0.0320 - val_kl_loss_fn: 17.5115\n",
      "Epoch 106/240\n",
      "494592/499889 [============================>.] - ETA: 0s - loss: 0.2065 - mse_loss_fn: 0.0313 - kl_loss_fn: 17.5486\n",
      "Epoch 00106: val_loss did not improve from 0.20635\n",
      "499889/499889 [==============================] - 1s 3us/sample - loss: 0.2065 - mse_loss_fn: 0.0313 - kl_loss_fn: 17.5487 - val_loss: 0.2071 - val_mse_loss_fn: 0.0320 - val_kl_loss_fn: 17.5335\n",
      "Epoch 107/240\n",
      "493568/499889 [============================>.] - ETA: 0s - loss: 0.2066 - mse_loss_fn: 0.0313 - kl_loss_fn: 17.5528\n",
      "Epoch 00107: val_loss did not improve from 0.20635\n",
      "499889/499889 [==============================] - 1s 3us/sample - loss: 0.2066 - mse_loss_fn: 0.0313 - kl_loss_fn: 17.5527 - val_loss: 0.2088 - val_mse_loss_fn: 0.0344 - val_kl_loss_fn: 17.4733\n",
      "Epoch 108/240\n",
      "493568/499889 [============================>.] - ETA: 0s - loss: 0.2066 - mse_loss_fn: 0.0314 - kl_loss_fn: 17.5521\n",
      "Epoch 00108: val_loss did not improve from 0.20635\n",
      "499889/499889 [==============================] - 1s 3us/sample - loss: 0.2066 - mse_loss_fn: 0.0314 - kl_loss_fn: 17.5528 - val_loss: 0.2074 - val_mse_loss_fn: 0.0324 - val_kl_loss_fn: 17.5289\n",
      "Epoch 109/240\n",
      "490496/499889 [============================>.] - ETA: 0s - loss: 0.2065 - mse_loss_fn: 0.0313 - kl_loss_fn: 17.5543\n",
      "Epoch 00109: val_loss did not improve from 0.20635\n",
      "499889/499889 [==============================] - 1s 3us/sample - loss: 0.2065 - mse_loss_fn: 0.0312 - kl_loss_fn: 17.5534 - val_loss: 0.2081 - val_mse_loss_fn: 0.0335 - val_kl_loss_fn: 17.4978\n",
      "Epoch 110/240\n",
      "494592/499889 [============================>.] - ETA: 0s - loss: 0.2066 - mse_loss_fn: 0.0313 - kl_loss_fn: 17.5549\n",
      "Epoch 00110: val_loss did not improve from 0.20635\n",
      "499889/499889 [==============================] - 1s 3us/sample - loss: 0.2066 - mse_loss_fn: 0.0313 - kl_loss_fn: 17.5553 - val_loss: 0.2067 - val_mse_loss_fn: 0.0316 - val_kl_loss_fn: 17.5387\n",
      "Epoch 111/240\n",
      "499889/499889 [==============================] - ETA: 0s - loss: 0.2064 - mse_loss_fn: 0.0312 - kl_loss_fn: 17.5474\n",
      "Epoch 00111: val_loss did not improve from 0.20635\n",
      "499889/499889 [==============================] - 1s 3us/sample - loss: 0.2064 - mse_loss_fn: 0.0312 - kl_loss_fn: 17.5474 - val_loss: 0.2085 - val_mse_loss_fn: 0.0337 - val_kl_loss_fn: 17.5163\n",
      "Epoch 112/240\n",
      "489472/499889 [============================>.] - ETA: 0s - loss: 0.2066 - mse_loss_fn: 0.0314 - kl_loss_fn: 17.5489\n",
      "Epoch 00112: val_loss did not improve from 0.20635\n",
      "499889/499889 [==============================] - 1s 3us/sample - loss: 0.2065 - mse_loss_fn: 0.0313 - kl_loss_fn: 17.5492 - val_loss: 0.2069 - val_mse_loss_fn: 0.0321 - val_kl_loss_fn: 17.5116\n",
      "Epoch 113/240\n",
      "499712/499889 [============================>.] - ETA: 0s - loss: 0.2066 - mse_loss_fn: 0.0314 - kl_loss_fn: 17.5531\n",
      "Epoch 00113: val_loss did not improve from 0.20635\n",
      "499889/499889 [==============================] - 1s 3us/sample - loss: 0.2066 - mse_loss_fn: 0.0313 - kl_loss_fn: 17.5530 - val_loss: 0.2080 - val_mse_loss_fn: 0.0332 - val_kl_loss_fn: 17.5086\n",
      "Epoch 114/240\n",
      "492544/499889 [============================>.] - ETA: 0s - loss: 0.2065 - mse_loss_fn: 0.0313 - kl_loss_fn: 17.5489\n",
      "Epoch 00114: val_loss did not improve from 0.20635\n",
      "499889/499889 [==============================] - 1s 3us/sample - loss: 0.2065 - mse_loss_fn: 0.0313 - kl_loss_fn: 17.5496 - val_loss: 0.2073 - val_mse_loss_fn: 0.0322 - val_kl_loss_fn: 17.5373\n",
      "Epoch 115/240\n",
      "488448/499889 [============================>.] - ETA: 0s - loss: 0.2066 - mse_loss_fn: 0.0314 - kl_loss_fn: 17.5540\n",
      "Epoch 00115: val_loss did not improve from 0.20635\n",
      "499889/499889 [==============================] - 1s 3us/sample - loss: 0.2066 - mse_loss_fn: 0.0313 - kl_loss_fn: 17.5542 - val_loss: 0.2066 - val_mse_loss_fn: 0.0319 - val_kl_loss_fn: 17.5005\n",
      "Epoch 116/240\n",
      "496640/499889 [============================>.] - ETA: 0s - loss: 0.2065 - mse_loss_fn: 0.0313 - kl_loss_fn: 17.5447\n",
      "Epoch 00116: val_loss did not improve from 0.20635\n",
      "499889/499889 [==============================] - 1s 3us/sample - loss: 0.2065 - mse_loss_fn: 0.0313 - kl_loss_fn: 17.5445 - val_loss: 0.2068 - val_mse_loss_fn: 0.0320 - val_kl_loss_fn: 17.5064\n",
      "Epoch 117/240\n",
      "491520/499889 [============================>.] - ETA: 0s - loss: 0.2065 - mse_loss_fn: 0.0313 - kl_loss_fn: 17.5466\n",
      "Epoch 00117: val_loss did not improve from 0.20635\n",
      "499889/499889 [==============================] - 1s 3us/sample - loss: 0.2065 - mse_loss_fn: 0.0313 - kl_loss_fn: 17.5464 - val_loss: 0.2074 - val_mse_loss_fn: 0.0328 - val_kl_loss_fn: 17.4914\n",
      "Epoch 118/240\n",
      "491520/499889 [============================>.] - ETA: 0s - loss: 0.2066 - mse_loss_fn: 0.0314 - kl_loss_fn: 17.5478\n",
      "Epoch 00118: val_loss did not improve from 0.20635\n",
      "499889/499889 [==============================] - 1s 3us/sample - loss: 0.2066 - mse_loss_fn: 0.0313 - kl_loss_fn: 17.5486 - val_loss: 0.2072 - val_mse_loss_fn: 0.0321 - val_kl_loss_fn: 17.5345\n",
      "Epoch 119/240\n",
      "495616/499889 [============================>.] - ETA: 0s - loss: 0.2065 - mse_loss_fn: 0.0313 - kl_loss_fn: 17.5477\n",
      "Epoch 00119: val_loss did not improve from 0.20635\n",
      "499889/499889 [==============================] - 1s 3us/sample - loss: 0.2065 - mse_loss_fn: 0.0313 - kl_loss_fn: 17.5478 - val_loss: 0.2079 - val_mse_loss_fn: 0.0332 - val_kl_loss_fn: 17.5021\n",
      "Epoch 120/240\n",
      "477184/499889 [===========================>..] - ETA: 0s - loss: 0.2066 - mse_loss_fn: 0.0315 - kl_loss_fn: 17.5499\n",
      "Epoch 00120: val_loss did not improve from 0.20635\n",
      "499889/499889 [==============================] - 1s 3us/sample - loss: 0.2066 - mse_loss_fn: 0.0314 - kl_loss_fn: 17.5499 - val_loss: 0.2070 - val_mse_loss_fn: 0.0326 - val_kl_loss_fn: 17.4768\n",
      "Epoch 121/240\n",
      "498688/499889 [============================>.] - ETA: 0s - loss: 0.2065 - mse_loss_fn: 0.0313 - kl_loss_fn: 17.5472\n",
      "Epoch 00121: val_loss did not improve from 0.20635\n",
      "499889/499889 [==============================] - 1s 3us/sample - loss: 0.2065 - mse_loss_fn: 0.0313 - kl_loss_fn: 17.5473 - val_loss: 0.2072 - val_mse_loss_fn: 0.0326 - val_kl_loss_fn: 17.4963\n",
      "Epoch 122/240\n",
      "496640/499889 [============================>.] - ETA: 0s - loss: 0.2066 - mse_loss_fn: 0.0313 - kl_loss_fn: 17.5551\n",
      "Epoch 00122: val_loss did not improve from 0.20635\n",
      "499889/499889 [==============================] - 1s 3us/sample - loss: 0.2066 - mse_loss_fn: 0.0313 - kl_loss_fn: 17.5547 - val_loss: 0.2076 - val_mse_loss_fn: 0.0329 - val_kl_loss_fn: 17.5088\n",
      "Epoch 123/240\n",
      "495616/499889 [============================>.] - ETA: 0s - loss: 0.2066 - mse_loss_fn: 0.0314 - kl_loss_fn: 17.5505\n",
      "Epoch 00123: val_loss did not improve from 0.20635\n",
      "499889/499889 [==============================] - 1s 3us/sample - loss: 0.2066 - mse_loss_fn: 0.0313 - kl_loss_fn: 17.5504 - val_loss: 0.2086 - val_mse_loss_fn: 0.0339 - val_kl_loss_fn: 17.5055\n",
      "Epoch 124/240\n",
      "493568/499889 [============================>.] - ETA: 0s - loss: 0.2065 - mse_loss_fn: 0.0313 - kl_loss_fn: 17.5475\n",
      "Epoch 00124: val_loss improved from 0.20635 to 0.20612, saving model to outputs/models/cVAEz6_03-27-2023/cbvae_LHCO2020_20d_e-6.hdf5\n",
      "499889/499889 [==============================] - 1s 3us/sample - loss: 0.2065 - mse_loss_fn: 0.0313 - kl_loss_fn: 17.5480 - val_loss: 0.2061 - val_mse_loss_fn: 0.0312 - val_kl_loss_fn: 17.5212\n",
      "Epoch 125/240\n",
      "486400/499889 [============================>.] - ETA: 0s - loss: 0.2064 - mse_loss_fn: 0.0313 - kl_loss_fn: 17.5421\n",
      "Epoch 00125: val_loss did not improve from 0.20612\n",
      "499889/499889 [==============================] - 1s 3us/sample - loss: 0.2064 - mse_loss_fn: 0.0312 - kl_loss_fn: 17.5424 - val_loss: 0.2064 - val_mse_loss_fn: 0.0318 - val_kl_loss_fn: 17.4908\n",
      "Epoch 126/240\n",
      "484352/499889 [============================>.] - ETA: 0s - loss: 0.2064 - mse_loss_fn: 0.0313 - kl_loss_fn: 17.5433\n",
      "Epoch 00126: val_loss did not improve from 0.20612\n",
      "499889/499889 [==============================] - 2s 3us/sample - loss: 0.2064 - mse_loss_fn: 0.0313 - kl_loss_fn: 17.5432 - val_loss: 0.2087 - val_mse_loss_fn: 0.0344 - val_kl_loss_fn: 17.4638\n",
      "Epoch 127/240\n",
      "492544/499889 [============================>.] - ETA: 0s - loss: 0.2065 - mse_loss_fn: 0.0314 - kl_loss_fn: 17.5463\n",
      "Epoch 00127: val_loss did not improve from 0.20612\n",
      "499889/499889 [==============================] - 1s 3us/sample - loss: 0.2065 - mse_loss_fn: 0.0313 - kl_loss_fn: 17.5464 - val_loss: 0.2068 - val_mse_loss_fn: 0.0322 - val_kl_loss_fn: 17.4914\n",
      "Epoch 128/240\n",
      "491520/499889 [============================>.] - ETA: 0s - loss: 0.2065 - mse_loss_fn: 0.0314 - kl_loss_fn: 17.5442\n",
      "Epoch 00128: val_loss did not improve from 0.20612\n",
      "499889/499889 [==============================] - 1s 3us/sample - loss: 0.2065 - mse_loss_fn: 0.0313 - kl_loss_fn: 17.5453 - val_loss: 0.2069 - val_mse_loss_fn: 0.0319 - val_kl_loss_fn: 17.5322\n",
      "Epoch 129/240\n",
      "484352/499889 [============================>.] - ETA: 0s - loss: 0.2065 - mse_loss_fn: 0.0313 - kl_loss_fn: 17.5480\n",
      "Epoch 00129: val_loss did not improve from 0.20612\n",
      "499889/499889 [==============================] - 1s 3us/sample - loss: 0.2065 - mse_loss_fn: 0.0313 - kl_loss_fn: 17.5484 - val_loss: 0.2066 - val_mse_loss_fn: 0.0318 - val_kl_loss_fn: 17.5097\n",
      "Epoch 130/240\n",
      "485376/499889 [============================>.] - ETA: 0s - loss: 0.2064 - mse_loss_fn: 0.0313 - kl_loss_fn: 17.5428\n",
      "Epoch 00130: val_loss did not improve from 0.20612\n",
      "499889/499889 [==============================] - 1s 3us/sample - loss: 0.2064 - mse_loss_fn: 0.0313 - kl_loss_fn: 17.5422 - val_loss: 0.2069 - val_mse_loss_fn: 0.0325 - val_kl_loss_fn: 17.4743\n",
      "Epoch 131/240\n",
      "481280/499889 [===========================>..] - ETA: 0s - loss: 0.2065 - mse_loss_fn: 0.0314 - kl_loss_fn: 17.5423\n",
      "Epoch 00131: val_loss did not improve from 0.20612\n",
      "499889/499889 [==============================] - 1s 3us/sample - loss: 0.2064 - mse_loss_fn: 0.0313 - kl_loss_fn: 17.5417 - val_loss: 0.2072 - val_mse_loss_fn: 0.0325 - val_kl_loss_fn: 17.4973\n",
      "Epoch 132/240\n",
      "498688/499889 [============================>.] - ETA: 0s - loss: 0.2066 - mse_loss_fn: 0.0314 - kl_loss_fn: 17.5489\n",
      "Epoch 00132: val_loss did not improve from 0.20612\n",
      "499889/499889 [==============================] - 2s 3us/sample - loss: 0.2066 - mse_loss_fn: 0.0313 - kl_loss_fn: 17.5487 - val_loss: 0.2097 - val_mse_loss_fn: 0.0354 - val_kl_loss_fn: 17.4646\n",
      "Epoch 133/240\n",
      "481280/499889 [===========================>..] - ETA: 0s - loss: 0.2065 - mse_loss_fn: 0.0314 - kl_loss_fn: 17.5440\n",
      "Epoch 00133: val_loss did not improve from 0.20612\n",
      "499889/499889 [==============================] - 1s 3us/sample - loss: 0.2065 - mse_loss_fn: 0.0313 - kl_loss_fn: 17.5447 - val_loss: 0.2066 - val_mse_loss_fn: 0.0317 - val_kl_loss_fn: 17.5189\n",
      "Epoch 134/240\n",
      "485376/499889 [============================>.] - ETA: 0s - loss: 0.2065 - mse_loss_fn: 0.0313 - kl_loss_fn: 17.5461\n",
      "Epoch 00134: val_loss did not improve from 0.20612\n",
      "499889/499889 [==============================] - 1s 3us/sample - loss: 0.2065 - mse_loss_fn: 0.0313 - kl_loss_fn: 17.5461 - val_loss: 0.2087 - val_mse_loss_fn: 0.0340 - val_kl_loss_fn: 17.5080\n",
      "Epoch 135/240\n",
      "491520/499889 [============================>.] - ETA: 0s - loss: 0.2065 - mse_loss_fn: 0.0313 - kl_loss_fn: 17.5452\n",
      "Epoch 00135: val_loss did not improve from 0.20612\n",
      "499889/499889 [==============================] - 1s 3us/sample - loss: 0.2065 - mse_loss_fn: 0.0313 - kl_loss_fn: 17.5448 - val_loss: 0.2069 - val_mse_loss_fn: 0.0323 - val_kl_loss_fn: 17.4937\n",
      "Epoch 136/240\n",
      "492544/499889 [============================>.] - ETA: 0s - loss: 0.2065 - mse_loss_fn: 0.0313 - kl_loss_fn: 17.5435\n",
      "Epoch 00136: val_loss did not improve from 0.20612\n",
      "499889/499889 [==============================] - 1s 3us/sample - loss: 0.2064 - mse_loss_fn: 0.0313 - kl_loss_fn: 17.5434 - val_loss: 0.2074 - val_mse_loss_fn: 0.0329 - val_kl_loss_fn: 17.4846\n",
      "Epoch 137/240\n",
      "490496/499889 [============================>.] - ETA: 0s - loss: 0.2065 - mse_loss_fn: 0.0314 - kl_loss_fn: 17.5427\n",
      "Epoch 00137: val_loss did not improve from 0.20612\n",
      "499889/499889 [==============================] - 1s 3us/sample - loss: 0.2065 - mse_loss_fn: 0.0313 - kl_loss_fn: 17.5430 - val_loss: 0.2068 - val_mse_loss_fn: 0.0319 - val_kl_loss_fn: 17.5225\n",
      "Epoch 138/240\n",
      "491520/499889 [============================>.] - ETA: 0s - loss: 0.2064 - mse_loss_fn: 0.0313 - kl_loss_fn: 17.5420\n",
      "Epoch 00138: val_loss did not improve from 0.20612\n",
      "499889/499889 [==============================] - 1s 3us/sample - loss: 0.2064 - mse_loss_fn: 0.0313 - kl_loss_fn: 17.5417 - val_loss: 0.2072 - val_mse_loss_fn: 0.0324 - val_kl_loss_fn: 17.5157\n",
      "Epoch 139/240\n",
      "481280/499889 [===========================>..] - ETA: 0s - loss: 0.2065 - mse_loss_fn: 0.0313 - kl_loss_fn: 17.5468\n",
      "Epoch 00139: val_loss did not improve from 0.20612\n",
      "499889/499889 [==============================] - 1s 3us/sample - loss: 0.2064 - mse_loss_fn: 0.0312 - kl_loss_fn: 17.5468 - val_loss: 0.2073 - val_mse_loss_fn: 0.0326 - val_kl_loss_fn: 17.5047\n",
      "Epoch 140/240\n",
      "491520/499889 [============================>.] - ETA: 0s - loss: 0.2065 - mse_loss_fn: 0.0313 - kl_loss_fn: 17.5446\n",
      "Epoch 00140: val_loss did not improve from 0.20612\n",
      "499889/499889 [==============================] - 1s 3us/sample - loss: 0.2064 - mse_loss_fn: 0.0313 - kl_loss_fn: 17.5441 - val_loss: 0.2065 - val_mse_loss_fn: 0.0321 - val_kl_loss_fn: 17.4791\n",
      "Epoch 141/240\n",
      "496640/499889 [============================>.] - ETA: 0s - loss: 0.2064 - mse_loss_fn: 0.0313 - kl_loss_fn: 17.5434\n",
      "Epoch 00141: val_loss did not improve from 0.20612\n",
      "499889/499889 [==============================] - 1s 3us/sample - loss: 0.2064 - mse_loss_fn: 0.0313 - kl_loss_fn: 17.5432 - val_loss: 0.2089 - val_mse_loss_fn: 0.0344 - val_kl_loss_fn: 17.4773\n",
      "Epoch 142/240\n",
      "499889/499889 [==============================] - ETA: 0s - loss: 0.2064 - mse_loss_fn: 0.0313 - kl_loss_fn: 17.5424\n",
      "Epoch 00142: val_loss did not improve from 0.20612\n",
      "499889/499889 [==============================] - 1s 3us/sample - loss: 0.2064 - mse_loss_fn: 0.0313 - kl_loss_fn: 17.5424 - val_loss: 0.2078 - val_mse_loss_fn: 0.0334 - val_kl_loss_fn: 17.4726\n",
      "Epoch 143/240\n",
      "478208/499889 [===========================>..] - ETA: 0s - loss: 0.2064 - mse_loss_fn: 0.0313 - kl_loss_fn: 17.5418\n",
      "Epoch 00143: val_loss did not improve from 0.20612\n",
      "499889/499889 [==============================] - 1s 3us/sample - loss: 0.2064 - mse_loss_fn: 0.0312 - kl_loss_fn: 17.5426 - val_loss: 0.2075 - val_mse_loss_fn: 0.0328 - val_kl_loss_fn: 17.5099\n",
      "Epoch 144/240\n",
      "490496/499889 [============================>.] - ETA: 0s - loss: 0.2065 - mse_loss_fn: 0.0314 - kl_loss_fn: 17.5397\n",
      "Epoch 00144: val_loss did not improve from 0.20612\n",
      "499889/499889 [==============================] - 1s 3us/sample - loss: 0.2065 - mse_loss_fn: 0.0314 - kl_loss_fn: 17.5397 - val_loss: 0.2077 - val_mse_loss_fn: 0.0330 - val_kl_loss_fn: 17.5034\n",
      "Epoch 145/240\n",
      "484352/499889 [============================>.] - ETA: 0s - loss: 0.2065 - mse_loss_fn: 0.0314 - kl_loss_fn: 17.5427\n",
      "Epoch 00145: val_loss did not improve from 0.20612\n",
      "499889/499889 [==============================] - 1s 3us/sample - loss: 0.2065 - mse_loss_fn: 0.0313 - kl_loss_fn: 17.5429 - val_loss: 0.2064 - val_mse_loss_fn: 0.0316 - val_kl_loss_fn: 17.5110\n",
      "Epoch 146/240\n",
      "487424/499889 [============================>.] - ETA: 0s - loss: 0.2064 - mse_loss_fn: 0.0313 - kl_loss_fn: 17.5408\n",
      "Epoch 00146: val_loss did not improve from 0.20612\n",
      "499889/499889 [==============================] - 1s 3us/sample - loss: 0.2064 - mse_loss_fn: 0.0313 - kl_loss_fn: 17.5406 - val_loss: 0.2062 - val_mse_loss_fn: 0.0317 - val_kl_loss_fn: 17.4832\n",
      "Epoch 147/240\n",
      "484352/499889 [============================>.] - ETA: 0s - loss: 0.2064 - mse_loss_fn: 0.0313 - kl_loss_fn: 17.5390\n",
      "Epoch 00147: val_loss did not improve from 0.20612\n",
      "499889/499889 [==============================] - 1s 3us/sample - loss: 0.2064 - mse_loss_fn: 0.0312 - kl_loss_fn: 17.5381 - val_loss: 0.2086 - val_mse_loss_fn: 0.0345 - val_kl_loss_fn: 17.4414\n",
      "Epoch 148/240\n",
      "478208/499889 [===========================>..] - ETA: 0s - loss: 0.2063 - mse_loss_fn: 0.0313 - kl_loss_fn: 17.5355\n",
      "Epoch 00148: val_loss did not improve from 0.20612\n",
      "499889/499889 [==============================] - 2s 3us/sample - loss: 0.2063 - mse_loss_fn: 0.0312 - kl_loss_fn: 17.5351 - val_loss: 0.2066 - val_mse_loss_fn: 0.0321 - val_kl_loss_fn: 17.4894\n",
      "Epoch 149/240\n",
      "499889/499889 [==============================] - ETA: 0s - loss: 0.2063 - mse_loss_fn: 0.0313 - kl_loss_fn: 17.5346\n",
      "Epoch 00149: val_loss did not improve from 0.20612\n",
      "499889/499889 [==============================] - 2s 3us/sample - loss: 0.2063 - mse_loss_fn: 0.0313 - kl_loss_fn: 17.5346 - val_loss: 0.2071 - val_mse_loss_fn: 0.0327 - val_kl_loss_fn: 17.4668\n",
      "Epoch 150/240\n",
      "499712/499889 [============================>.] - ETA: 0s - loss: 0.2065 - mse_loss_fn: 0.0314 - kl_loss_fn: 17.5396\n",
      "Epoch 00150: val_loss did not improve from 0.20612\n",
      "499889/499889 [==============================] - 2s 3us/sample - loss: 0.2065 - mse_loss_fn: 0.0313 - kl_loss_fn: 17.5397 - val_loss: 0.2072 - val_mse_loss_fn: 0.0321 - val_kl_loss_fn: 17.5373\n",
      "Epoch 151/240\n",
      "495616/499889 [============================>.] - ETA: 0s - loss: 0.2065 - mse_loss_fn: 0.0314 - kl_loss_fn: 17.5426\n",
      "Epoch 00151: val_loss did not improve from 0.20612\n",
      "499889/499889 [==============================] - 2s 3us/sample - loss: 0.2065 - mse_loss_fn: 0.0313 - kl_loss_fn: 17.5423 - val_loss: 0.2063 - val_mse_loss_fn: 0.0318 - val_kl_loss_fn: 17.4798\n",
      "Epoch 152/240\n",
      "489472/499889 [============================>.] - ETA: 0s - loss: 0.2064 - mse_loss_fn: 0.0314 - kl_loss_fn: 17.5353\n",
      "Epoch 00152: val_loss did not improve from 0.20612\n",
      "499889/499889 [==============================] - 1s 3us/sample - loss: 0.2064 - mse_loss_fn: 0.0313 - kl_loss_fn: 17.5348 - val_loss: 0.2077 - val_mse_loss_fn: 0.0334 - val_kl_loss_fn: 17.4679\n",
      "Epoch 153/240\n",
      "490496/499889 [============================>.] - ETA: 0s - loss: 0.2065 - mse_loss_fn: 0.0314 - kl_loss_fn: 17.5409\n",
      "Epoch 00153: val_loss did not improve from 0.20612\n",
      "499889/499889 [==============================] - 1s 3us/sample - loss: 0.2064 - mse_loss_fn: 0.0313 - kl_loss_fn: 17.5405 - val_loss: 0.2073 - val_mse_loss_fn: 0.0327 - val_kl_loss_fn: 17.4949\n",
      "Epoch 154/240\n",
      "492544/499889 [============================>.] - ETA: 0s - loss: 0.2063 - mse_loss_fn: 0.0313 - kl_loss_fn: 17.5325\n",
      "Epoch 00154: val_loss did not improve from 0.20612\n",
      "499889/499889 [==============================] - 1s 3us/sample - loss: 0.2063 - mse_loss_fn: 0.0312 - kl_loss_fn: 17.5334 - val_loss: 0.2078 - val_mse_loss_fn: 0.0330 - val_kl_loss_fn: 17.5129\n",
      "Epoch 155/240\n",
      "495616/499889 [============================>.] - ETA: 0s - loss: 0.2064 - mse_loss_fn: 0.0313 - kl_loss_fn: 17.5405\n",
      "Epoch 00155: val_loss did not improve from 0.20612\n",
      "499889/499889 [==============================] - 1s 3us/sample - loss: 0.2063 - mse_loss_fn: 0.0312 - kl_loss_fn: 17.5404 - val_loss: 0.2072 - val_mse_loss_fn: 0.0326 - val_kl_loss_fn: 17.4925\n",
      "Epoch 156/240\n",
      "493568/499889 [============================>.] - ETA: 0s - loss: 0.2063 - mse_loss_fn: 0.0313 - kl_loss_fn: 17.5344\n",
      "Epoch 00156: val_loss did not improve from 0.20612\n",
      "499889/499889 [==============================] - 1s 3us/sample - loss: 0.2063 - mse_loss_fn: 0.0313 - kl_loss_fn: 17.5339 - val_loss: 0.2070 - val_mse_loss_fn: 0.0323 - val_kl_loss_fn: 17.5029\n",
      "Epoch 157/240\n",
      "493568/499889 [============================>.] - ETA: 0s - loss: 0.2064 - mse_loss_fn: 0.0313 - kl_loss_fn: 17.5377\n",
      "Epoch 00157: val_loss did not improve from 0.20612\n",
      "499889/499889 [==============================] - 1s 3us/sample - loss: 0.2064 - mse_loss_fn: 0.0313 - kl_loss_fn: 17.5382 - val_loss: 0.2088 - val_mse_loss_fn: 0.0340 - val_kl_loss_fn: 17.5118\n",
      "Epoch 158/240\n",
      "491520/499889 [============================>.] - ETA: 0s - loss: 0.2064 - mse_loss_fn: 0.0314 - kl_loss_fn: 17.5335\n",
      "Epoch 00158: val_loss did not improve from 0.20612\n",
      "499889/499889 [==============================] - 1s 3us/sample - loss: 0.2064 - mse_loss_fn: 0.0313 - kl_loss_fn: 17.5345 - val_loss: 0.2065 - val_mse_loss_fn: 0.0318 - val_kl_loss_fn: 17.4992\n",
      "Epoch 159/240\n",
      "489472/499889 [============================>.] - ETA: 0s - loss: 0.2064 - mse_loss_fn: 0.0313 - kl_loss_fn: 17.5395\n",
      "Epoch 00159: val_loss did not improve from 0.20612\n",
      "499889/499889 [==============================] - 1s 3us/sample - loss: 0.2064 - mse_loss_fn: 0.0312 - kl_loss_fn: 17.5400 - val_loss: 0.2077 - val_mse_loss_fn: 0.0330 - val_kl_loss_fn: 17.5023\n",
      "Epoch 160/240\n",
      "492544/499889 [============================>.] - ETA: 0s - loss: 0.2063 - mse_loss_fn: 0.0313 - kl_loss_fn: 17.5332\n",
      "Epoch 00160: val_loss did not improve from 0.20612\n",
      "499889/499889 [==============================] - 1s 3us/sample - loss: 0.2063 - mse_loss_fn: 0.0313 - kl_loss_fn: 17.5334 - val_loss: 0.2073 - val_mse_loss_fn: 0.0325 - val_kl_loss_fn: 17.5077\n",
      "Epoch 161/240\n",
      "496640/499889 [============================>.] - ETA: 0s - loss: 0.2063 - mse_loss_fn: 0.0313 - kl_loss_fn: 17.5293\n",
      "Epoch 00161: val_loss did not improve from 0.20612\n",
      "499889/499889 [==============================] - 1s 3us/sample - loss: 0.2063 - mse_loss_fn: 0.0313 - kl_loss_fn: 17.5297 - val_loss: 0.2066 - val_mse_loss_fn: 0.0320 - val_kl_loss_fn: 17.4937\n",
      "Epoch 162/240\n",
      "482304/499889 [===========================>..] - ETA: 0s - loss: 0.2064 - mse_loss_fn: 0.0313 - kl_loss_fn: 17.5396\n",
      "Epoch 00162: val_loss did not improve from 0.20612\n",
      "499889/499889 [==============================] - 1s 3us/sample - loss: 0.2064 - mse_loss_fn: 0.0313 - kl_loss_fn: 17.5391 - val_loss: 0.2067 - val_mse_loss_fn: 0.0322 - val_kl_loss_fn: 17.4808\n",
      "Epoch 163/240\n",
      "483328/499889 [============================>.] - ETA: 0s - loss: 0.2063 - mse_loss_fn: 0.0313 - kl_loss_fn: 17.5354\n",
      "Epoch 00163: val_loss improved from 0.20612 to 0.20591, saving model to outputs/models/cVAEz6_03-27-2023/cbvae_LHCO2020_20d_e-6.hdf5\n",
      "499889/499889 [==============================] - 1s 3us/sample - loss: 0.2063 - mse_loss_fn: 0.0312 - kl_loss_fn: 17.5343 - val_loss: 0.2059 - val_mse_loss_fn: 0.0311 - val_kl_loss_fn: 17.5150\n",
      "Epoch 164/240\n",
      "493568/499889 [============================>.] - ETA: 0s - loss: 0.2064 - mse_loss_fn: 0.0314 - kl_loss_fn: 17.5358\n",
      "Epoch 00164: val_loss did not improve from 0.20591\n",
      "499889/499889 [==============================] - 1s 3us/sample - loss: 0.2064 - mse_loss_fn: 0.0313 - kl_loss_fn: 17.5356 - val_loss: 0.2080 - val_mse_loss_fn: 0.0336 - val_kl_loss_fn: 17.4763\n",
      "Epoch 165/240\n",
      "478208/499889 [===========================>..] - ETA: 0s - loss: 0.2063 - mse_loss_fn: 0.0313 - kl_loss_fn: 17.5322\n",
      "Epoch 00165: val_loss did not improve from 0.20591\n",
      "499889/499889 [==============================] - 1s 3us/sample - loss: 0.2063 - mse_loss_fn: 0.0312 - kl_loss_fn: 17.5336 - val_loss: 0.2087 - val_mse_loss_fn: 0.0342 - val_kl_loss_fn: 17.4788\n",
      "Epoch 166/240\n",
      "498688/499889 [============================>.] - ETA: 0s - loss: 0.2063 - mse_loss_fn: 0.0313 - kl_loss_fn: 17.5317\n",
      "Epoch 00166: val_loss did not improve from 0.20591\n",
      "499889/499889 [==============================] - 1s 3us/sample - loss: 0.2063 - mse_loss_fn: 0.0313 - kl_loss_fn: 17.5318 - val_loss: 0.2070 - val_mse_loss_fn: 0.0322 - val_kl_loss_fn: 17.5102\n",
      "Epoch 167/240\n",
      "481280/499889 [===========================>..] - ETA: 0s - loss: 0.2064 - mse_loss_fn: 0.0313 - kl_loss_fn: 17.5338\n",
      "Epoch 00167: val_loss did not improve from 0.20591\n",
      "499889/499889 [==============================] - 1s 3us/sample - loss: 0.2064 - mse_loss_fn: 0.0313 - kl_loss_fn: 17.5346 - val_loss: 0.2069 - val_mse_loss_fn: 0.0322 - val_kl_loss_fn: 17.4976\n",
      "Epoch 168/240\n",
      "487424/499889 [============================>.] - ETA: 0s - loss: 0.2064 - mse_loss_fn: 0.0313 - kl_loss_fn: 17.5356\n",
      "Epoch 00168: val_loss did not improve from 0.20591\n",
      "499889/499889 [==============================] - 1s 3us/sample - loss: 0.2064 - mse_loss_fn: 0.0313 - kl_loss_fn: 17.5362 - val_loss: 0.2076 - val_mse_loss_fn: 0.0328 - val_kl_loss_fn: 17.5165\n",
      "Epoch 169/240\n",
      "483328/499889 [============================>.] - ETA: 0s - loss: 0.2063 - mse_loss_fn: 0.0313 - kl_loss_fn: 17.5301\n",
      "Epoch 00169: val_loss did not improve from 0.20591\n",
      "499889/499889 [==============================] - 1s 3us/sample - loss: 0.2063 - mse_loss_fn: 0.0313 - kl_loss_fn: 17.5297 - val_loss: 0.2070 - val_mse_loss_fn: 0.0324 - val_kl_loss_fn: 17.4913\n",
      "Epoch 170/240\n",
      "484352/499889 [============================>.] - ETA: 0s - loss: 0.2063 - mse_loss_fn: 0.0313 - kl_loss_fn: 17.5327\n",
      "Epoch 00170: val_loss did not improve from 0.20591\n",
      "499889/499889 [==============================] - 1s 3us/sample - loss: 0.2063 - mse_loss_fn: 0.0313 - kl_loss_fn: 17.5330 - val_loss: 0.2068 - val_mse_loss_fn: 0.0323 - val_kl_loss_fn: 17.4791\n",
      "Epoch 171/240\n",
      "485376/499889 [============================>.] - ETA: 0s - loss: 0.2063 - mse_loss_fn: 0.0313 - kl_loss_fn: 17.5357\n",
      "Epoch 00171: val_loss did not improve from 0.20591\n",
      "499889/499889 [==============================] - 1s 3us/sample - loss: 0.2063 - mse_loss_fn: 0.0313 - kl_loss_fn: 17.5353 - val_loss: 0.2077 - val_mse_loss_fn: 0.0331 - val_kl_loss_fn: 17.4852\n",
      "Epoch 172/240\n",
      "490496/499889 [============================>.] - ETA: 0s - loss: 0.2063 - mse_loss_fn: 0.0313 - kl_loss_fn: 17.5311\n",
      "Epoch 00172: val_loss did not improve from 0.20591\n",
      "499889/499889 [==============================] - 1s 3us/sample - loss: 0.2063 - mse_loss_fn: 0.0313 - kl_loss_fn: 17.5314 - val_loss: 0.2080 - val_mse_loss_fn: 0.0336 - val_kl_loss_fn: 17.4754\n",
      "Epoch 173/240\n",
      "485376/499889 [============================>.] - ETA: 0s - loss: 0.2063 - mse_loss_fn: 0.0313 - kl_loss_fn: 17.5305\n",
      "Epoch 00173: val_loss did not improve from 0.20591\n",
      "499889/499889 [==============================] - 1s 3us/sample - loss: 0.2063 - mse_loss_fn: 0.0312 - kl_loss_fn: 17.5306 - val_loss: 0.2077 - val_mse_loss_fn: 0.0332 - val_kl_loss_fn: 17.4811\n",
      "Epoch 174/240\n",
      "484352/499889 [============================>.] - ETA: 0s - loss: 0.2063 - mse_loss_fn: 0.0314 - kl_loss_fn: 17.5273\n",
      "Epoch 00174: val_loss did not improve from 0.20591\n",
      "499889/499889 [==============================] - 1s 3us/sample - loss: 0.2063 - mse_loss_fn: 0.0313 - kl_loss_fn: 17.5272 - val_loss: 0.2067 - val_mse_loss_fn: 0.0322 - val_kl_loss_fn: 17.4784\n",
      "Epoch 175/240\n",
      "488448/499889 [============================>.] - ETA: 0s - loss: 0.2063 - mse_loss_fn: 0.0313 - kl_loss_fn: 17.5311\n",
      "Epoch 00175: val_loss did not improve from 0.20591\n",
      "499889/499889 [==============================] - 1s 3us/sample - loss: 0.2063 - mse_loss_fn: 0.0313 - kl_loss_fn: 17.5312 - val_loss: 0.2067 - val_mse_loss_fn: 0.0324 - val_kl_loss_fn: 17.4699\n",
      "Epoch 176/240\n",
      "491520/499889 [============================>.] - ETA: 0s - loss: 0.2063 - mse_loss_fn: 0.0314 - kl_loss_fn: 17.5285\n",
      "Epoch 00176: val_loss did not improve from 0.20591\n",
      "499889/499889 [==============================] - 1s 3us/sample - loss: 0.2063 - mse_loss_fn: 0.0313 - kl_loss_fn: 17.5289 - val_loss: 0.2070 - val_mse_loss_fn: 0.0326 - val_kl_loss_fn: 17.4701\n",
      "Epoch 177/240\n",
      "482304/499889 [===========================>..] - ETA: 0s - loss: 0.2063 - mse_loss_fn: 0.0313 - kl_loss_fn: 17.5297\n",
      "Epoch 00177: val_loss did not improve from 0.20591\n",
      "499889/499889 [==============================] - 1s 3us/sample - loss: 0.2063 - mse_loss_fn: 0.0313 - kl_loss_fn: 17.5297 - val_loss: 0.2063 - val_mse_loss_fn: 0.0318 - val_kl_loss_fn: 17.4842\n",
      "Epoch 178/240\n",
      "499889/499889 [==============================] - ETA: 0s - loss: 0.2063 - mse_loss_fn: 0.0312 - kl_loss_fn: 17.5306\n",
      "Epoch 00178: val_loss did not improve from 0.20591\n",
      "499889/499889 [==============================] - 2s 3us/sample - loss: 0.2063 - mse_loss_fn: 0.0312 - kl_loss_fn: 17.5306 - val_loss: 0.2065 - val_mse_loss_fn: 0.0320 - val_kl_loss_fn: 17.4757\n",
      "Epoch 179/240\n",
      "479232/499889 [===========================>..] - ETA: 0s - loss: 0.2064 - mse_loss_fn: 0.0314 - kl_loss_fn: 17.5315\n",
      "Epoch 00179: val_loss did not improve from 0.20591\n",
      "499889/499889 [==============================] - 2s 3us/sample - loss: 0.2064 - mse_loss_fn: 0.0314 - kl_loss_fn: 17.5315 - val_loss: 0.2090 - val_mse_loss_fn: 0.0349 - val_kl_loss_fn: 17.4478\n",
      "Epoch 180/240\n",
      "492544/499889 [============================>.] - ETA: 0s - loss: 0.2063 - mse_loss_fn: 0.0313 - kl_loss_fn: 17.5283\n",
      "Epoch 00180: val_loss did not improve from 0.20591\n",
      "499889/499889 [==============================] - 1s 3us/sample - loss: 0.2063 - mse_loss_fn: 0.0313 - kl_loss_fn: 17.5287 - val_loss: 0.2063 - val_mse_loss_fn: 0.0317 - val_kl_loss_fn: 17.4922\n",
      "Epoch 181/240\n",
      "485376/499889 [============================>.] - ETA: 0s - loss: 0.2062 - mse_loss_fn: 0.0314 - kl_loss_fn: 17.5200\n",
      "Epoch 00181: val_loss did not improve from 0.20591\n",
      "499889/499889 [==============================] - 1s 3us/sample - loss: 0.2062 - mse_loss_fn: 0.0313 - kl_loss_fn: 17.5209 - val_loss: 0.2062 - val_mse_loss_fn: 0.0315 - val_kl_loss_fn: 17.5020\n",
      "Epoch 182/240\n",
      "484352/499889 [============================>.] - ETA: 0s - loss: 0.2062 - mse_loss_fn: 0.0313 - kl_loss_fn: 17.5220\n",
      "Epoch 00182: val_loss did not improve from 0.20591\n",
      "499889/499889 [==============================] - 1s 3us/sample - loss: 0.2062 - mse_loss_fn: 0.0312 - kl_loss_fn: 17.5228 - val_loss: 0.2077 - val_mse_loss_fn: 0.0329 - val_kl_loss_fn: 17.5139\n",
      "Epoch 183/240\n",
      "490496/499889 [============================>.] - ETA: 0s - loss: 0.2063 - mse_loss_fn: 0.0313 - kl_loss_fn: 17.5272\n",
      "Epoch 00183: val_loss did not improve from 0.20591\n",
      "499889/499889 [==============================] - 1s 3us/sample - loss: 0.2063 - mse_loss_fn: 0.0313 - kl_loss_fn: 17.5267 - val_loss: 0.2072 - val_mse_loss_fn: 0.0327 - val_kl_loss_fn: 17.4816\n",
      "Epoch 184/240\n",
      "492544/499889 [============================>.] - ETA: 0s - loss: 0.2063 - mse_loss_fn: 0.0314 - kl_loss_fn: 17.5285\n",
      "Epoch 00184: val_loss did not improve from 0.20591\n",
      "499889/499889 [==============================] - 1s 3us/sample - loss: 0.2063 - mse_loss_fn: 0.0313 - kl_loss_fn: 17.5281 - val_loss: 0.2083 - val_mse_loss_fn: 0.0340 - val_kl_loss_fn: 17.4616\n",
      "Epoch 185/240\n",
      "484352/499889 [============================>.] - ETA: 0s - loss: 0.2063 - mse_loss_fn: 0.0314 - kl_loss_fn: 17.5279\n",
      "Epoch 00185: val_loss did not improve from 0.20591\n",
      "499889/499889 [==============================] - 1s 3us/sample - loss: 0.2063 - mse_loss_fn: 0.0313 - kl_loss_fn: 17.5281 - val_loss: 0.2066 - val_mse_loss_fn: 0.0323 - val_kl_loss_fn: 17.4680\n",
      "Epoch 186/240\n",
      "485376/499889 [============================>.] - ETA: 0s - loss: 0.2062 - mse_loss_fn: 0.0313 - kl_loss_fn: 17.5254\n",
      "Epoch 00186: val_loss did not improve from 0.20591\n",
      "499889/499889 [==============================] - 1s 3us/sample - loss: 0.2062 - mse_loss_fn: 0.0312 - kl_loss_fn: 17.5262 - val_loss: 0.2070 - val_mse_loss_fn: 0.0327 - val_kl_loss_fn: 17.4660\n",
      "Epoch 187/240\n",
      "492544/499889 [============================>.] - ETA: 0s - loss: 0.2063 - mse_loss_fn: 0.0313 - kl_loss_fn: 17.5266\n",
      "Epoch 00187: val_loss did not improve from 0.20591\n",
      "499889/499889 [==============================] - 1s 3us/sample - loss: 0.2063 - mse_loss_fn: 0.0313 - kl_loss_fn: 17.5271 - val_loss: 0.2081 - val_mse_loss_fn: 0.0336 - val_kl_loss_fn: 17.4825\n",
      "Epoch 188/240\n",
      "490496/499889 [============================>.] - ETA: 0s - loss: 0.2063 - mse_loss_fn: 0.0313 - kl_loss_fn: 17.5274\n",
      "Epoch 00188: val_loss did not improve from 0.20591\n",
      "499889/499889 [==============================] - 1s 3us/sample - loss: 0.2063 - mse_loss_fn: 0.0313 - kl_loss_fn: 17.5278 - val_loss: 0.2071 - val_mse_loss_fn: 0.0324 - val_kl_loss_fn: 17.5025\n",
      "Epoch 189/240\n",
      "494592/499889 [============================>.] - ETA: 0s - loss: 0.2063 - mse_loss_fn: 0.0313 - kl_loss_fn: 17.5238\n",
      "Epoch 00189: val_loss did not improve from 0.20591\n",
      "499889/499889 [==============================] - 1s 3us/sample - loss: 0.2062 - mse_loss_fn: 0.0313 - kl_loss_fn: 17.5238 - val_loss: 0.2064 - val_mse_loss_fn: 0.0316 - val_kl_loss_fn: 17.5098\n",
      "Epoch 190/240\n",
      "484352/499889 [============================>.] - ETA: 0s - loss: 0.2062 - mse_loss_fn: 0.0313 - kl_loss_fn: 17.5236\n",
      "Epoch 00190: val_loss did not improve from 0.20591\n",
      "499889/499889 [==============================] - 1s 3us/sample - loss: 0.2062 - mse_loss_fn: 0.0312 - kl_loss_fn: 17.5235 - val_loss: 0.2064 - val_mse_loss_fn: 0.0322 - val_kl_loss_fn: 17.4508\n",
      "Epoch 191/240\n",
      "477184/499889 [===========================>..] - ETA: 0s - loss: 0.2063 - mse_loss_fn: 0.0314 - kl_loss_fn: 17.5262\n",
      "Epoch 00191: val_loss did not improve from 0.20591\n",
      "499889/499889 [==============================] - 1s 3us/sample - loss: 0.2063 - mse_loss_fn: 0.0313 - kl_loss_fn: 17.5257 - val_loss: 0.2065 - val_mse_loss_fn: 0.0321 - val_kl_loss_fn: 17.4745\n",
      "Epoch 192/240\n",
      "491520/499889 [============================>.] - ETA: 0s - loss: 0.2062 - mse_loss_fn: 0.0313 - kl_loss_fn: 17.5210\n",
      "Epoch 00192: val_loss did not improve from 0.20591\n",
      "499889/499889 [==============================] - 1s 3us/sample - loss: 0.2062 - mse_loss_fn: 0.0312 - kl_loss_fn: 17.5216 - val_loss: 0.2070 - val_mse_loss_fn: 0.0323 - val_kl_loss_fn: 17.4934\n",
      "Epoch 193/240\n",
      "499889/499889 [==============================] - ETA: 0s - loss: 0.2063 - mse_loss_fn: 0.0313 - kl_loss_fn: 17.5236\n",
      "Epoch 00193: val_loss did not improve from 0.20591\n",
      "499889/499889 [==============================] - 1s 3us/sample - loss: 0.2063 - mse_loss_fn: 0.0313 - kl_loss_fn: 17.5236 - val_loss: 0.2081 - val_mse_loss_fn: 0.0338 - val_kl_loss_fn: 17.4690\n",
      "Epoch 194/240\n",
      "496640/499889 [============================>.] - ETA: 0s - loss: 0.2063 - mse_loss_fn: 0.0314 - kl_loss_fn: 17.5258\n",
      "Epoch 00194: val_loss did not improve from 0.20591\n",
      "499889/499889 [==============================] - 1s 3us/sample - loss: 0.2063 - mse_loss_fn: 0.0313 - kl_loss_fn: 17.5257 - val_loss: 0.2062 - val_mse_loss_fn: 0.0317 - val_kl_loss_fn: 17.4815\n",
      "Epoch 195/240\n",
      "485376/499889 [============================>.] - ETA: 0s - loss: 0.2063 - mse_loss_fn: 0.0313 - kl_loss_fn: 17.5235\n",
      "Epoch 00195: val_loss did not improve from 0.20591\n",
      "499889/499889 [==============================] - 1s 3us/sample - loss: 0.2063 - mse_loss_fn: 0.0313 - kl_loss_fn: 17.5241 - val_loss: 0.2068 - val_mse_loss_fn: 0.0321 - val_kl_loss_fn: 17.4984\n",
      "Epoch 196/240\n",
      "495616/499889 [============================>.] - ETA: 0s - loss: 0.2062 - mse_loss_fn: 0.0313 - kl_loss_fn: 17.5192\n",
      "Epoch 00196: val_loss did not improve from 0.20591\n",
      "499889/499889 [==============================] - 1s 3us/sample - loss: 0.2062 - mse_loss_fn: 0.0313 - kl_loss_fn: 17.5196 - val_loss: 0.2072 - val_mse_loss_fn: 0.0326 - val_kl_loss_fn: 17.4906\n",
      "Epoch 197/240\n",
      "495616/499889 [============================>.] - ETA: 0s - loss: 0.2063 - mse_loss_fn: 0.0313 - kl_loss_fn: 17.5294\n",
      "Epoch 00197: val_loss did not improve from 0.20591\n",
      "499889/499889 [==============================] - 1s 3us/sample - loss: 0.2063 - mse_loss_fn: 0.0313 - kl_loss_fn: 17.5293 - val_loss: 0.2072 - val_mse_loss_fn: 0.0329 - val_kl_loss_fn: 17.4588\n",
      "Epoch 198/240\n",
      "484352/499889 [============================>.] - ETA: 0s - loss: 0.2062 - mse_loss_fn: 0.0313 - kl_loss_fn: 17.5211\n",
      "Epoch 00198: val_loss did not improve from 0.20591\n",
      "499889/499889 [==============================] - 1s 3us/sample - loss: 0.2062 - mse_loss_fn: 0.0312 - kl_loss_fn: 17.5218 - val_loss: 0.2067 - val_mse_loss_fn: 0.0321 - val_kl_loss_fn: 17.4881\n",
      "Epoch 199/240\n",
      "487424/499889 [============================>.] - ETA: 0s - loss: 0.2063 - mse_loss_fn: 0.0313 - kl_loss_fn: 17.5249\n",
      "Epoch 00199: val_loss did not improve from 0.20591\n",
      "499889/499889 [==============================] - 1s 3us/sample - loss: 0.2062 - mse_loss_fn: 0.0313 - kl_loss_fn: 17.5246 - val_loss: 0.2074 - val_mse_loss_fn: 0.0331 - val_kl_loss_fn: 17.4618\n",
      "Epoch 200/240\n",
      "480256/499889 [===========================>..] - ETA: 0s - loss: 0.2062 - mse_loss_fn: 0.0313 - kl_loss_fn: 17.5230\n",
      "Epoch 00200: val_loss did not improve from 0.20591\n",
      "499889/499889 [==============================] - 1s 3us/sample - loss: 0.2062 - mse_loss_fn: 0.0313 - kl_loss_fn: 17.5240 - val_loss: 0.2081 - val_mse_loss_fn: 0.0335 - val_kl_loss_fn: 17.4934\n",
      "Epoch 201/240\n",
      "477184/499889 [===========================>..] - ETA: 0s - loss: 0.2062 - mse_loss_fn: 0.0313 - kl_loss_fn: 17.5206\n",
      "Epoch 00201: val_loss did not improve from 0.20591\n",
      "499889/499889 [==============================] - 1s 3us/sample - loss: 0.2062 - mse_loss_fn: 0.0312 - kl_loss_fn: 17.5199 - val_loss: 0.2061 - val_mse_loss_fn: 0.0319 - val_kl_loss_fn: 17.4485\n",
      "Epoch 202/240\n",
      "477184/499889 [===========================>..] - ETA: 0s - loss: 0.2062 - mse_loss_fn: 0.0313 - kl_loss_fn: 17.5228\n",
      "Epoch 00202: val_loss did not improve from 0.20591\n",
      "499889/499889 [==============================] - 1s 3us/sample - loss: 0.2062 - mse_loss_fn: 0.0313 - kl_loss_fn: 17.5237 - val_loss: 0.2095 - val_mse_loss_fn: 0.0353 - val_kl_loss_fn: 17.4569\n",
      "Epoch 203/240\n",
      "499889/499889 [==============================] - ETA: 0s - loss: 0.2063 - mse_loss_fn: 0.0313 - kl_loss_fn: 17.5242\n",
      "Epoch 00203: val_loss did not improve from 0.20591\n",
      "499889/499889 [==============================] - 1s 3us/sample - loss: 0.2063 - mse_loss_fn: 0.0313 - kl_loss_fn: 17.5242 - val_loss: 0.2080 - val_mse_loss_fn: 0.0337 - val_kl_loss_fn: 17.4613\n",
      "Epoch 204/240\n",
      "486400/499889 [============================>.] - ETA: 0s - loss: 0.2062 - mse_loss_fn: 0.0314 - kl_loss_fn: 17.5176\n",
      "Epoch 00204: val_loss did not improve from 0.20591\n",
      "499889/499889 [==============================] - 1s 3us/sample - loss: 0.2062 - mse_loss_fn: 0.0313 - kl_loss_fn: 17.5171 - val_loss: 0.2064 - val_mse_loss_fn: 0.0320 - val_kl_loss_fn: 17.4698\n",
      "Epoch 205/240\n",
      "490496/499889 [============================>.] - ETA: 0s - loss: 0.2062 - mse_loss_fn: 0.0313 - kl_loss_fn: 17.5235\n",
      "Epoch 00205: val_loss did not improve from 0.20591\n",
      "499889/499889 [==============================] - 1s 3us/sample - loss: 0.2062 - mse_loss_fn: 0.0312 - kl_loss_fn: 17.5237 - val_loss: 0.2071 - val_mse_loss_fn: 0.0327 - val_kl_loss_fn: 17.4745\n",
      "Epoch 206/240\n",
      "494592/499889 [============================>.] - ETA: 0s - loss: 0.2063 - mse_loss_fn: 0.0314 - kl_loss_fn: 17.5260\n",
      "Epoch 00206: val_loss did not improve from 0.20591\n",
      "499889/499889 [==============================] - 1s 3us/sample - loss: 0.2063 - mse_loss_fn: 0.0314 - kl_loss_fn: 17.5258 - val_loss: 0.2088 - val_mse_loss_fn: 0.0346 - val_kl_loss_fn: 17.4532\n",
      "Epoch 207/240\n",
      "499712/499889 [============================>.] - ETA: 0s - loss: 0.2062 - mse_loss_fn: 0.0314 - kl_loss_fn: 17.5137\n",
      "Epoch 00207: val_loss did not improve from 0.20591\n",
      "499889/499889 [==============================] - 1s 3us/sample - loss: 0.2062 - mse_loss_fn: 0.0313 - kl_loss_fn: 17.5138 - val_loss: 0.2070 - val_mse_loss_fn: 0.0322 - val_kl_loss_fn: 17.5083\n",
      "Epoch 208/240\n",
      "481280/499889 [===========================>..] - ETA: 0s - loss: 0.2062 - mse_loss_fn: 0.0313 - kl_loss_fn: 17.5221\n",
      "Epoch 00208: val_loss did not improve from 0.20591\n",
      "499889/499889 [==============================] - 1s 3us/sample - loss: 0.2062 - mse_loss_fn: 0.0312 - kl_loss_fn: 17.5225 - val_loss: 0.2088 - val_mse_loss_fn: 0.0347 - val_kl_loss_fn: 17.4477\n",
      "Epoch 209/240\n",
      "499889/499889 [==============================] - ETA: 0s - loss: 0.2062 - mse_loss_fn: 0.0313 - kl_loss_fn: 17.5234\n",
      "Epoch 00209: val_loss did not improve from 0.20591\n",
      "499889/499889 [==============================] - 1s 3us/sample - loss: 0.2062 - mse_loss_fn: 0.0313 - kl_loss_fn: 17.5234 - val_loss: 0.2089 - val_mse_loss_fn: 0.0344 - val_kl_loss_fn: 17.4835\n",
      "Epoch 210/240\n",
      "499889/499889 [==============================] - ETA: 0s - loss: 0.2062 - mse_loss_fn: 0.0313 - kl_loss_fn: 17.5182\n",
      "Epoch 00210: val_loss did not improve from 0.20591\n",
      "499889/499889 [==============================] - 1s 3us/sample - loss: 0.2062 - mse_loss_fn: 0.0313 - kl_loss_fn: 17.5182 - val_loss: 0.2067 - val_mse_loss_fn: 0.0323 - val_kl_loss_fn: 17.4782\n",
      "Epoch 211/240\n",
      "485376/499889 [============================>.] - ETA: 0s - loss: 0.2062 - mse_loss_fn: 0.0313 - kl_loss_fn: 17.5193\n",
      "Epoch 00211: val_loss did not improve from 0.20591\n",
      "499889/499889 [==============================] - 1s 3us/sample - loss: 0.2062 - mse_loss_fn: 0.0312 - kl_loss_fn: 17.5200 - val_loss: 0.2059 - val_mse_loss_fn: 0.0314 - val_kl_loss_fn: 17.4833\n",
      "Epoch 212/240\n",
      "479232/499889 [===========================>..] - ETA: 0s - loss: 0.2062 - mse_loss_fn: 0.0314 - kl_loss_fn: 17.5162\n",
      "Epoch 00212: val_loss did not improve from 0.20591\n",
      "499889/499889 [==============================] - 1s 3us/sample - loss: 0.2062 - mse_loss_fn: 0.0313 - kl_loss_fn: 17.5150 - val_loss: 0.2085 - val_mse_loss_fn: 0.0342 - val_kl_loss_fn: 17.4644\n",
      "Epoch 213/240\n",
      "484352/499889 [============================>.] - ETA: 0s - loss: 0.2063 - mse_loss_fn: 0.0314 - kl_loss_fn: 17.5185\n",
      "Epoch 00213: val_loss did not improve from 0.20591\n",
      "499889/499889 [==============================] - 1s 3us/sample - loss: 0.2062 - mse_loss_fn: 0.0313 - kl_loss_fn: 17.5185 - val_loss: 0.2081 - val_mse_loss_fn: 0.0335 - val_kl_loss_fn: 17.4927\n",
      "Epoch 214/240\n",
      "481280/499889 [===========================>..] - ETA: 0s - loss: 0.2062 - mse_loss_fn: 0.0313 - kl_loss_fn: 17.5174\n",
      "Epoch 00214: val_loss improved from 0.20591 to 0.20587, saving model to outputs/models/cVAEz6_03-27-2023/cbvae_LHCO2020_20d_e-6.hdf5\n",
      "499889/499889 [==============================] - 1s 3us/sample - loss: 0.2062 - mse_loss_fn: 0.0313 - kl_loss_fn: 17.5157 - val_loss: 0.2059 - val_mse_loss_fn: 0.0315 - val_kl_loss_fn: 17.4700\n",
      "Epoch 215/240\n",
      "495616/499889 [============================>.] - ETA: 0s - loss: 0.2062 - mse_loss_fn: 0.0313 - kl_loss_fn: 17.5198\n",
      "Epoch 00215: val_loss did not improve from 0.20587\n",
      "499889/499889 [==============================] - 1s 3us/sample - loss: 0.2062 - mse_loss_fn: 0.0313 - kl_loss_fn: 17.5198 - val_loss: 0.2070 - val_mse_loss_fn: 0.0327 - val_kl_loss_fn: 17.4665\n",
      "Epoch 216/240\n",
      "489472/499889 [============================>.] - ETA: 0s - loss: 0.2061 - mse_loss_fn: 0.0313 - kl_loss_fn: 17.5147\n",
      "Epoch 00216: val_loss did not improve from 0.20587\n",
      "499889/499889 [==============================] - 1s 3us/sample - loss: 0.2061 - mse_loss_fn: 0.0312 - kl_loss_fn: 17.5150 - val_loss: 0.2064 - val_mse_loss_fn: 0.0320 - val_kl_loss_fn: 17.4755\n",
      "Epoch 217/240\n",
      "492544/499889 [============================>.] - ETA: 0s - loss: 0.2062 - mse_loss_fn: 0.0313 - kl_loss_fn: 17.5193\n",
      "Epoch 00217: val_loss did not improve from 0.20587\n",
      "499889/499889 [==============================] - 1s 3us/sample - loss: 0.2062 - mse_loss_fn: 0.0313 - kl_loss_fn: 17.5193 - val_loss: 0.2073 - val_mse_loss_fn: 0.0331 - val_kl_loss_fn: 17.4502\n",
      "Epoch 218/240\n",
      "495616/499889 [============================>.] - ETA: 0s - loss: 0.2062 - mse_loss_fn: 0.0313 - kl_loss_fn: 17.5188\n",
      "Epoch 00218: val_loss did not improve from 0.20587\n",
      "499889/499889 [==============================] - 1s 3us/sample - loss: 0.2062 - mse_loss_fn: 0.0313 - kl_loss_fn: 17.5188 - val_loss: 0.2083 - val_mse_loss_fn: 0.0339 - val_kl_loss_fn: 17.4743\n",
      "Epoch 219/240\n",
      "493568/499889 [============================>.] - ETA: 0s - loss: 0.2062 - mse_loss_fn: 0.0314 - kl_loss_fn: 17.5166\n",
      "Epoch 00219: val_loss did not improve from 0.20587\n",
      "499889/499889 [==============================] - 1s 3us/sample - loss: 0.2062 - mse_loss_fn: 0.0313 - kl_loss_fn: 17.5169 - val_loss: 0.2083 - val_mse_loss_fn: 0.0340 - val_kl_loss_fn: 17.4711\n",
      "Epoch 220/240\n",
      "491520/499889 [============================>.] - ETA: 0s - loss: 0.2062 - mse_loss_fn: 0.0313 - kl_loss_fn: 17.5153\n",
      "Epoch 00220: val_loss did not improve from 0.20587\n",
      "499889/499889 [==============================] - 1s 3us/sample - loss: 0.2061 - mse_loss_fn: 0.0313 - kl_loss_fn: 17.5158 - val_loss: 0.2063 - val_mse_loss_fn: 0.0316 - val_kl_loss_fn: 17.4968\n",
      "Epoch 221/240\n",
      "476160/499889 [===========================>..] - ETA: 0s - loss: 0.2062 - mse_loss_fn: 0.0313 - kl_loss_fn: 17.5180\n",
      "Epoch 00221: val_loss did not improve from 0.20587\n",
      "499889/499889 [==============================] - 1s 3us/sample - loss: 0.2062 - mse_loss_fn: 0.0313 - kl_loss_fn: 17.5174 - val_loss: 0.2071 - val_mse_loss_fn: 0.0326 - val_kl_loss_fn: 17.4898\n",
      "Epoch 222/240\n",
      "492544/499889 [============================>.] - ETA: 0s - loss: 0.2062 - mse_loss_fn: 0.0313 - kl_loss_fn: 17.5148\n",
      "Epoch 00222: val_loss did not improve from 0.20587\n",
      "499889/499889 [==============================] - 1s 3us/sample - loss: 0.2062 - mse_loss_fn: 0.0313 - kl_loss_fn: 17.5149 - val_loss: 0.2067 - val_mse_loss_fn: 0.0321 - val_kl_loss_fn: 17.4940\n",
      "Epoch 223/240\n",
      "484352/499889 [============================>.] - ETA: 0s - loss: 0.2062 - mse_loss_fn: 0.0313 - kl_loss_fn: 17.5161\n",
      "Epoch 00223: val_loss did not improve from 0.20587\n",
      "499889/499889 [==============================] - 1s 3us/sample - loss: 0.2062 - mse_loss_fn: 0.0313 - kl_loss_fn: 17.5171 - val_loss: 0.2073 - val_mse_loss_fn: 0.0329 - val_kl_loss_fn: 17.4765\n",
      "Epoch 224/240\n",
      "493568/499889 [============================>.] - ETA: 0s - loss: 0.2062 - mse_loss_fn: 0.0313 - kl_loss_fn: 17.5188\n",
      "Epoch 00224: val_loss did not improve from 0.20587\n",
      "499889/499889 [==============================] - 1s 3us/sample - loss: 0.2062 - mse_loss_fn: 0.0313 - kl_loss_fn: 17.5185 - val_loss: 0.2062 - val_mse_loss_fn: 0.0317 - val_kl_loss_fn: 17.4742\n",
      "Epoch 225/240\n",
      "495616/499889 [============================>.] - ETA: 0s - loss: 0.2061 - mse_loss_fn: 0.0313 - kl_loss_fn: 17.5122\n",
      "Epoch 00225: val_loss did not improve from 0.20587\n",
      "499889/499889 [==============================] - 1s 3us/sample - loss: 0.2061 - mse_loss_fn: 0.0312 - kl_loss_fn: 17.5129 - val_loss: 0.2077 - val_mse_loss_fn: 0.0328 - val_kl_loss_fn: 17.5204\n",
      "Epoch 226/240\n",
      "488448/499889 [============================>.] - ETA: 0s - loss: 0.2061 - mse_loss_fn: 0.0313 - kl_loss_fn: 17.5148\n",
      "Epoch 00226: val_loss did not improve from 0.20587\n",
      "499889/499889 [==============================] - 1s 3us/sample - loss: 0.2061 - mse_loss_fn: 0.0312 - kl_loss_fn: 17.5156 - val_loss: 0.2072 - val_mse_loss_fn: 0.0324 - val_kl_loss_fn: 17.5131\n",
      "Epoch 227/240\n",
      "492544/499889 [============================>.] - ETA: 0s - loss: 0.2061 - mse_loss_fn: 0.0313 - kl_loss_fn: 17.5139\n",
      "Epoch 00227: val_loss did not improve from 0.20587\n",
      "499889/499889 [==============================] - 1s 3us/sample - loss: 0.2061 - mse_loss_fn: 0.0313 - kl_loss_fn: 17.5135 - val_loss: 0.2071 - val_mse_loss_fn: 0.0328 - val_kl_loss_fn: 17.4661\n",
      "Epoch 228/240\n",
      "487424/499889 [============================>.] - ETA: 0s - loss: 0.2062 - mse_loss_fn: 0.0313 - kl_loss_fn: 17.5178\n",
      "Epoch 00228: val_loss did not improve from 0.20587\n",
      "499889/499889 [==============================] - 1s 3us/sample - loss: 0.2062 - mse_loss_fn: 0.0313 - kl_loss_fn: 17.5175 - val_loss: 0.2066 - val_mse_loss_fn: 0.0324 - val_kl_loss_fn: 17.4585\n",
      "Epoch 229/240\n",
      "490496/499889 [============================>.] - ETA: 0s - loss: 0.2062 - mse_loss_fn: 0.0313 - kl_loss_fn: 17.5153\n",
      "Epoch 00229: val_loss did not improve from 0.20587\n",
      "499889/499889 [==============================] - 1s 3us/sample - loss: 0.2062 - mse_loss_fn: 0.0313 - kl_loss_fn: 17.5156 - val_loss: 0.2064 - val_mse_loss_fn: 0.0323 - val_kl_loss_fn: 17.4469\n",
      "Epoch 230/240\n",
      "488448/499889 [============================>.] - ETA: 0s - loss: 0.2061 - mse_loss_fn: 0.0312 - kl_loss_fn: 17.5126\n",
      "Epoch 00230: val_loss did not improve from 0.20587\n",
      "499889/499889 [==============================] - 1s 3us/sample - loss: 0.2060 - mse_loss_fn: 0.0312 - kl_loss_fn: 17.5127 - val_loss: 0.2070 - val_mse_loss_fn: 0.0327 - val_kl_loss_fn: 17.4620\n",
      "Epoch 231/240\n",
      "488448/499889 [============================>.] - ETA: 0s - loss: 0.2061 - mse_loss_fn: 0.0313 - kl_loss_fn: 17.5165\n",
      "Epoch 00231: val_loss did not improve from 0.20587\n",
      "499889/499889 [==============================] - 1s 3us/sample - loss: 0.2061 - mse_loss_fn: 0.0312 - kl_loss_fn: 17.5167 - val_loss: 0.2059 - val_mse_loss_fn: 0.0314 - val_kl_loss_fn: 17.4866\n",
      "Epoch 232/240\n",
      "495616/499889 [============================>.] - ETA: 0s - loss: 0.2061 - mse_loss_fn: 0.0313 - kl_loss_fn: 17.5140\n",
      "Epoch 00232: val_loss did not improve from 0.20587\n",
      "499889/499889 [==============================] - 1s 3us/sample - loss: 0.2061 - mse_loss_fn: 0.0313 - kl_loss_fn: 17.5139 - val_loss: 0.2064 - val_mse_loss_fn: 0.0321 - val_kl_loss_fn: 17.4640\n",
      "Epoch 233/240\n",
      "490496/499889 [============================>.] - ETA: 0s - loss: 0.2061 - mse_loss_fn: 0.0313 - kl_loss_fn: 17.5161\n",
      "Epoch 00233: val_loss did not improve from 0.20587\n",
      "499889/499889 [==============================] - 1s 3us/sample - loss: 0.2061 - mse_loss_fn: 0.0312 - kl_loss_fn: 17.5160 - val_loss: 0.2070 - val_mse_loss_fn: 0.0327 - val_kl_loss_fn: 17.4615\n",
      "Epoch 234/240\n",
      "497664/499889 [============================>.] - ETA: 0s - loss: 0.2061 - mse_loss_fn: 0.0313 - kl_loss_fn: 17.5129\n",
      "Epoch 00234: val_loss did not improve from 0.20587\n",
      "499889/499889 [==============================] - 1s 3us/sample - loss: 0.2061 - mse_loss_fn: 0.0312 - kl_loss_fn: 17.5132 - val_loss: 0.2073 - val_mse_loss_fn: 0.0327 - val_kl_loss_fn: 17.4910\n",
      "Epoch 235/240\n",
      "493568/499889 [============================>.] - ETA: 0s - loss: 0.2061 - mse_loss_fn: 0.0313 - kl_loss_fn: 17.5092\n",
      "Epoch 00235: val_loss did not improve from 0.20587\n",
      "499889/499889 [==============================] - 1s 3us/sample - loss: 0.2061 - mse_loss_fn: 0.0313 - kl_loss_fn: 17.5095 - val_loss: 0.2067 - val_mse_loss_fn: 0.0323 - val_kl_loss_fn: 17.4759\n",
      "Epoch 236/240\n",
      "492544/499889 [============================>.] - ETA: 0s - loss: 0.2062 - mse_loss_fn: 0.0314 - kl_loss_fn: 17.5195\n",
      "Epoch 00236: val_loss did not improve from 0.20587\n",
      "499889/499889 [==============================] - 1s 3us/sample - loss: 0.2062 - mse_loss_fn: 0.0313 - kl_loss_fn: 17.5204 - val_loss: 0.2071 - val_mse_loss_fn: 0.0325 - val_kl_loss_fn: 17.4928\n",
      "Epoch 237/240\n",
      "488448/499889 [============================>.] - ETA: 0s - loss: 0.2061 - mse_loss_fn: 0.0313 - kl_loss_fn: 17.5133\n",
      "Epoch 00237: val_loss did not improve from 0.20587\n",
      "499889/499889 [==============================] - 1s 3us/sample - loss: 0.2061 - mse_loss_fn: 0.0313 - kl_loss_fn: 17.5142 - val_loss: 0.2065 - val_mse_loss_fn: 0.0319 - val_kl_loss_fn: 17.4906\n",
      "Epoch 238/240\n",
      "494592/499889 [============================>.] - ETA: 0s - loss: 0.2061 - mse_loss_fn: 0.0313 - kl_loss_fn: 17.5141\n",
      "Epoch 00238: val_loss did not improve from 0.20587\n",
      "499889/499889 [==============================] - 1s 3us/sample - loss: 0.2061 - mse_loss_fn: 0.0312 - kl_loss_fn: 17.5142 - val_loss: 0.2069 - val_mse_loss_fn: 0.0327 - val_kl_loss_fn: 17.4573\n",
      "Epoch 239/240\n",
      "490496/499889 [============================>.] - ETA: 0s - loss: 0.2061 - mse_loss_fn: 0.0313 - kl_loss_fn: 17.5107\n",
      "Epoch 00239: val_loss did not improve from 0.20587\n",
      "499889/499889 [==============================] - 1s 3us/sample - loss: 0.2061 - mse_loss_fn: 0.0313 - kl_loss_fn: 17.5112 - val_loss: 0.2081 - val_mse_loss_fn: 0.0338 - val_kl_loss_fn: 17.4629\n",
      "Epoch 240/240\n",
      "494592/499889 [============================>.] - ETA: 0s - loss: 0.2062 - mse_loss_fn: 0.0313 - kl_loss_fn: 17.5137\n",
      "Epoch 00240: val_loss did not improve from 0.20587\n",
      "499889/499889 [==============================] - 1s 3us/sample - loss: 0.2062 - mse_loss_fn: 0.0313 - kl_loss_fn: 17.5135 - val_loss: 0.2061 - val_mse_loss_fn: 0.0319 - val_kl_loss_fn: 17.4478\n"
     ]
    }
   ],
   "source": [
    "list_loss = []\n",
    "list_val_loss = [] \n",
    "\n",
    "while learnrate > lr_limit:\n",
    "    if k < 4:\n",
    "        opt = Adam(learning_rate=learnrate, beta_1=0.9, beta_2=0.999, epsilon=1e-08, decay=0.0)\n",
    "        epochs = epochs_1\n",
    "    else:\n",
    "        opt = SGD(learning_rate=learnrate, decay=1e-6, momentum=0.9, nesterov=True)\n",
    "        epochs = epochs_2\n",
    "    cvae.compile(loss=vae_loss, optimizer=opt, metrics=[mse_loss_fn, kl_loss_fn])\n",
    "    cvae.fit([x_train, y_train], x_train,\n",
    "            epochs=epochs,\n",
    "            batch_size=batch_size,\n",
    "            validation_data=([x_test, y_test], x_test),\n",
    "            callbacks = [checkpointer, history, decoderSaver])\n",
    "    cvae.load_weights('outputs/models/%s/cbvae_LHCO2020_20d_e-6.hdf5'%(folder_name))\n",
    "\n",
    "    learnrate /= 2\n",
    "    k=k+1\n",
    "\n",
    "list_loss = np.append(list_loss, history.history['loss'])\n",
    "list_val_loss = np.append(list_val_loss, history.history['val_loss'])\n",
    "    \n",
    "# train the autoencoder\n",
    "cvae.save_weights('outputs/models/%s/cbvae_LHCO2020_20d_e-6.h5'%(folder_name))\n",
    "\n"
   ]
  },
  {
   "cell_type": "code",
   "execution_count": 12,
   "id": "6ce97743-819f-4ad7-b265-863d798240d9",
   "metadata": {},
   "outputs": [
    {
     "name": "stdout",
     "output_type": "stream",
     "text": [
      "WARNING:tensorflow:OMP_NUM_THREADS is no longer used by the default Keras config. To configure the number of threads, use tf.config.threading APIs.\n"
     ]
    },
    {
     "name": "stderr",
     "output_type": "stream",
     "text": [
      "2023-03-27 22:28:26.206238: I tensorflow/core/platform/cpu_feature_guard.cc:142] This TensorFlow binary is optimized with oneAPI Deep Neural Network Library (oneDNN) to use the following CPU instructions in performance-critical operations:  AVX2 FMA\n",
      "To enable them in other operations, rebuild TensorFlow with the appropriate compiler flags.\n"
     ]
    },
    {
     "name": "stdout",
     "output_type": "stream",
     "text": [
      "WARNING:tensorflow:No training configuration found in the save file, so the model was *not* compiled. Compile it manually.\n",
      "WARNING:tensorflow:No training configuration found in the save file, so the model was *not* compiled. Compile it manually.\n"
     ]
    },
    {
     "name": "stderr",
     "output_type": "stream",
     "text": [
      "2023-03-27 22:28:26.961432: I tensorflow/core/common_runtime/gpu/gpu_device.cc:1510] Created device /job:localhost/replica:0/task:0/device:GPU:0 with 38288 MB memory:  -> device: 0, name: NVIDIA A100-PCIE-40GB, pci bus id: 0000:c3:00.0, compute capability: 8.0\n",
      "/global/common/software/nersc/pm-2022q4/sw/tensorflow/2.6.0/lib/python3.9/site-packages/keras/engine/training.py:2470: UserWarning: `Model.state_updates` will be removed in a future version. This property should not be used in TensorFlow 2.0, as `updates` are applied automatically.\n",
      "  warnings.warn('`Model.state_updates` will be removed in a future version. '\n",
      "2023-03-27 22:28:27.691148: I tensorflow/stream_executor/cuda/cuda_blas.cc:1760] TensorFloat-32 will be used for the matrix multiplication. This will only be logged once.\n"
     ]
    }
   ],
   "source": [
    "# Predict the mean and std from the training dataset\n",
    "folder = \"/global/homes/a/agarabag/pscratch/GAEA/outputs/models/cVAEz6_03-27-2023\"\n",
    "encoder = keras.models.load_model(folder+'/encoder_cbvae_6var_m239.h5')\n",
    "decoder = keras.models.load_model(folder+'/model_cbvae_6var_m239.h5')\n",
    "# latent mean\n",
    "latent_mean = encoder.predict([x_train, y_train])[0]\n",
    "# latent log variance --> variance --> std\n",
    "latent_logvar = encoder.predict([x_train, y_train])[1]\n",
    "latent_var = np.exp(latent_logvar)\n",
    "latent_std = np.sqrt(latent_var)\n",
    "\n",
    "# Save the latent mean and atd values\n",
    "np.savetxt('outputs/models/%s/cbvae_LHCO2020_latent_mean_20d_e-6.csv'%folder_name, latent_mean)\n",
    "np.savetxt('outputs/models/%s/cbvae_LHCO2020_latent_std_20d_e-6.csv'%folder_name, latent_std)\n",
    "\n",
    "# Save the loss values\n",
    "# np.save(\"outputs/models/%s/cbvae_LHCO2020_val_loss.npy\"%folder_name, list_val_loss)\n",
    "# np.save(\"outputs/models/%s/cbvae_LHCO2020_train_loss.npy\"%folder_name, list_loss)"
   ]
  },
  {
   "cell_type": "code",
   "execution_count": 56,
   "id": "bd46642a",
   "metadata": {},
   "outputs": [],
   "source": [
    "# list_val_loss"
   ]
  },
  {
   "cell_type": "code",
   "execution_count": 55,
   "id": "44eb99e1",
   "metadata": {},
   "outputs": [],
   "source": [
    "# history.history['loss']"
   ]
  },
  {
   "cell_type": "code",
   "execution_count": 26,
   "id": "124a5452",
   "metadata": {},
   "outputs": [
    {
     "data": {
      "text/plain": [
       "<matplotlib.legend.Legend at 0x15373d7247c0>"
      ]
     },
     "execution_count": 26,
     "metadata": {},
     "output_type": "execute_result"
    },
    {
     "data": {
      "image/png": "[encoded data removed]",
      "text/plain": [
       "<Figure size 800x600 with 1 Axes>"
      ]
     },
     "metadata": {},
     "output_type": "display_data"
    }
   ],
   "source": [
    "# plot loss function\n",
    "\n",
    "fig, ax = plt.subplots(1,1, figsize=(8,6))\n",
    "\n",
    "plt.plot(np.arange(0,epochs_1*iterations), list_loss, label='training',c='blue',linewidth = 3)\n",
    "plt.plot(np.arange(0,epochs_1*iterations), list_val_loss, label='validation',c='red',linewidth = 3)\n",
    "\n",
    "plt.title(\"Loss vs. epoch\", fontsize=25)\n",
    "\n",
    "ax.set_ylabel('loss', fontsize=25,horizontalalignment='right',y=1)\n",
    "ax.set_xlabel('epoch', fontsize=25,horizontalalignment='right',x=1)\n",
    "plt.legend(loc='best', prop={'size':20}, edgecolor = \"w\",fancybox=False, framealpha=0)"
   ]
  },
  {
   "cell_type": "code",
   "execution_count": 13,
   "id": "8c25d662",
   "metadata": {},
   "outputs": [
    {
     "name": "stdout",
     "output_type": "stream",
     "text": [
      "mean:  [[-0.22783598 -0.26791888 -0.69929856  0.07853756 -1.12725508 -1.19959021]\n",
      " [-2.46321416 -0.40669286 -0.82498699 -0.13118272 -0.77905655 -0.25985491]\n",
      " [-0.04073563 -0.37999219  0.15124243  0.93414944  0.47049999 -0.29273623]\n",
      " ...\n",
      " [-0.78889537 -0.61474025  0.49833167 -0.86928314 -0.54783618 -1.6984731 ]\n",
      " [ 1.33671892 -1.66489673 -0.01220483 -1.10712075 -0.21395266  0.0627241 ]\n",
      " [-1.012128   -1.02559674 -0.03758591  0.37473002  0.09345865 -0.20400567]]\n",
      "(499889, 6)\n",
      "std:  [[0.02730815 0.04787143 0.19080916 0.03031308 0.17554222 0.07542685]\n",
      " [0.0289276  0.0542889  0.31027102 0.03402011 0.3158434  0.07749108]\n",
      " [0.0276672  0.05043005 0.09247462 0.02978291 0.07430467 0.0641656 ]\n",
      " ...\n",
      " [0.02818207 0.05047767 0.14741383 0.03206321 0.10443284 0.08651128]\n",
      " [0.02839462 0.05412157 0.08320723 0.03114286 0.05778443 0.06255292]\n",
      " [0.02714831 0.05676642 0.16844399 0.03009543 0.11311494 0.06555524]]\n"
     ]
    },
    {
     "data": {
      "image/png": "[encoded data removed]",
      "text/plain": [
       "<Figure size 640x480 with 1 Axes>"
      ]
     },
     "metadata": {},
     "output_type": "display_data"
    }
   ],
   "source": [
    "# Read the mean values\n",
    "filename = 'outputs/models/%s/cbvae_LHCO2020_latent_mean_20d_e-6.csv'%folder_name\n",
    "means_df = pd.read_csv(filename, sep=' ', header=None)\n",
    "mean = means_df.values\n",
    "print(\"mean: \", mean)\n",
    "plt.hist(mean[:,5], bins=50)\n",
    "print(mean.shape)\n",
    "\n",
    "# Read the std values\n",
    "filename = 'outputs/models/%s/cbvae_LHCO2020_latent_std_20d_e-6.csv'%folder_name\n",
    "stds_df = pd.read_csv(filename, sep=' ', header=None)\n",
    "std = stds_df.values\n",
    "print(\"std: \", std)\n",
    "\n",
    "z_samples = np.empty([cond_data.shape[0],latent_dim])"
   ]
  },
  {
   "cell_type": "code",
   "execution_count": 46,
   "id": "d43ddcc5-c93b-48b9-9cb1-f3705471694a",
   "metadata": {},
   "outputs": [
    {
     "data": {
      "text/plain": [
       "(878648,)"
      ]
     },
     "execution_count": 46,
     "metadata": {},
     "output_type": "execute_result"
    }
   ],
   "source": [
    "cond_data.shape"
   ]
  },
  {
   "cell_type": "code",
   "execution_count": 14,
   "id": "36578f57",
   "metadata": {},
   "outputs": [
    {
     "name": "stderr",
     "output_type": "stream",
     "text": [
      "/global/common/software/nersc/pm-2022q4/sw/tensorflow/2.6.0/lib/python3.9/site-packages/keras/engine/training.py:2470: UserWarning: `Model.state_updates` will be removed in a future version. This property should not be used in TensorFlow 2.0, as `updates` are applied automatically.\n",
      "  warnings.warn('`Model.state_updates` will be removed in a future version. '\n"
     ]
    }
   ],
   "source": [
    "l=0\n",
    "for i in range(0,cond_data.shape[0]):\n",
    "    for j in range(0,latent_dim):\n",
    "        z_samples[l,j] = np.random.normal(mean[i%trainsize,j], 0.05+std[i%trainsize,j])\n",
    "    l=l+1\n",
    "    \n",
    "new_events = decoder.predict([z_samples, np.reshape(cond_data, [-1, 1])])\n",
    "\n",
    "#reverse min-max normalization\n",
    "#new_events = rev_minmax_data(new_events, data_min, data_max)\n",
    "\n",
    "# for i in range(0,new_events.shape[1]):\n",
    "#     new_events[:,i]=new_events[:,i]*feature_max[i]\n",
    "\n",
    "os.system(\"mkdir -p ./outputs/gen_dataset/%s/\"%folder_name)\n",
    "np.savetxt('outputs/gen_dataset/%s/LHCO2020_cB-VAE_events_SB.csv'%folder_name, new_events)"
   ]
  },
  {
   "cell_type": "code",
   "execution_count": 15,
   "id": "affc99e3-5009-4d34-aac6-15fa9320c969",
   "metadata": {},
   "outputs": [
    {
     "name": "stdout",
     "output_type": "stream",
     "text": [
      "(878648, 6)\n",
      "(878648, 1)\n"
     ]
    }
   ],
   "source": [
    "print(z_samples.shape)\n",
    "print(np.reshape(cond_data, [-1, 1]).shape)"
   ]
  },
  {
   "cell_type": "code",
   "execution_count": 28,
   "id": "4ae3875f-c514-4eaf-b3ab-576b7090f2b4",
   "metadata": {},
   "outputs": [
    {
     "name": "stdout",
     "output_type": "stream",
     "text": [
      "0.006181785227495769 1.0033299965067901\n"
     ]
    },
    {
     "data": {
      "image/png": "[encoded data removed]",
      "text/plain": [
       "<Figure size 640x480 with 1 Axes>"
      ]
     },
     "metadata": {},
     "output_type": "display_data"
    }
   ],
   "source": [
    "idx = 5 \n",
    "plt.hist(z_samples[:, idx], bins=50)\n",
    "print(np.mean(z_samples[:, idx]), np.std(z_samples[:, idx]))"
   ]
  },
  {
   "cell_type": "code",
   "execution_count": 17,
   "id": "73d0b6a1",
   "metadata": {},
   "outputs": [
    {
     "name": "stdout",
     "output_type": "stream",
     "text": [
      "shape of gen_SR:  (878648, 6)\n"
     ]
    }
   ],
   "source": [
    "file_gen_SB = 'outputs/gen_dataset/%s/LHCO2020_cB-VAE_events_SB.csv'%folder_name\n",
    "gen_SB = pd.read_csv(file_gen_SB, delimiter = ' ', header=None, index_col=False)\n",
    "gen_SB = gen_SB.to_numpy()\n",
    "print(\"shape of gen_SR: \", gen_SB.shape)\n"
   ]
  },
  {
   "cell_type": "code",
   "execution_count": 21,
   "id": "9ccc8106",
   "metadata": {},
   "outputs": [],
   "source": [
    "# variables_names =  train_features\n",
    "# vnames = train_features\n",
    "\n",
    "plotting_ranges = [(0,0.8), (0,1), (0,1), (0,1), (0,1), (0,1)]\n",
    "\n",
    "def fake_vs_real(gen_data,real_data,doLog,names):\n",
    "    \n",
    "    plt.figure(figsize=(20,15))\n",
    "    colors = [\"steelblue\", \"darkturquoise\"]\n",
    "    for p in range(0,nFeat):\n",
    "        R = np.linspace(plotting_ranges[p][0],plotting_ranges[p][1],51)\n",
    "        plt.subplot((nFeat+1)//2, 2, p+1)\n",
    "        for rd in real_data: b_hist_y, b_hist_x, _ = plt.hist(rd[:,p], R, color=\"black\", histtype='step', linewidth=2, label=\"MC Bkg\", density=True)        \n",
    "        for i,n in enumerate(gen_data): plt.hist(n[:,p], R, color=colors[i], histtype='stepfilled', alpha=0.5, linewidth=2, label=\"Generated Bkg %s\"%names[i], density=True)\n",
    "        # s_hist_y, s_hist_x, _ = plt.hist(sig_data[:,p], R, color=\"r\", histtype='step', linewidth=3, label=\"Signal\", density=True)\n",
    "        plt.xlabel(\"%s\"%feature_labels[p])\n",
    "        if doLog == True: plt.yscale('log')\n",
    "        plt.ylabel(\"Number of Events / bin\")\n",
    "        plt.legend(fontsize=\"large\")\n",
    "        ymax_b = np.max(b_hist_y)\n",
    "        # ymax_s = np.max(s_hist_y)\n",
    "        plt.ylim(0,ymax_b*1.5)\n",
    "#     plt.savefig(\"fake_gen_compare_cbvae_6var_dynamicbeta.png\")"
   ]
  },
  {
   "cell_type": "code",
   "execution_count": 19,
   "id": "a14facb4",
   "metadata": {},
   "outputs": [
    {
     "data": {
      "text/plain": [
       "(878648,)"
      ]
     },
     "execution_count": 19,
     "metadata": {},
     "output_type": "execute_result"
    }
   ],
   "source": [
    "cond_data.shape"
   ]
  },
  {
   "cell_type": "code",
   "execution_count": 20,
   "id": "d40a0b2e",
   "metadata": {},
   "outputs": [
    {
     "name": "stderr",
     "output_type": "stream",
     "text": [
      "/tmp/ipykernel_117021/2461113566.py:22: UserWarning: Attempt to set non-positive ylim on a log-scaled axis will be ignored.\n",
      "  plt.ylim(0,ymax_b*1.5)\n"
     ]
    },
    {
     "data": {
      "image/png": "[encoded data removed]",
      "text/plain": [
       "<Figure size 2000x1500 with 6 Axes>"
      ]
     },
     "metadata": {},
     "output_type": "display_data"
    }
   ],
   "source": [
    "fake_vs_real([gen_SB],[x_train],1,[\"\"])"
   ]
  },
  {
   "cell_type": "code",
   "execution_count": 26,
   "id": "9d45f17e",
   "metadata": {},
   "outputs": [
    {
     "name": "stdout",
     "output_type": "stream",
     "text": [
      "(40000, 8)\n",
      "(99605, 6)\n",
      "(99605,)\n",
      "(99605, 6)\n",
      "(878648, 6)\n",
      "(878648, 1)\n"
     ]
    },
    {
     "name": "stderr",
     "output_type": "stream",
     "text": [
      "/tmp/ipykernel_235053/3486223139.py:22: UserWarning: Attempt to set non-positive ylim on a log-scaled axis will be ignored.\n",
      "  plt.ylim(0,ymax_b*1.5)\n"
     ]
    },
    {
     "data": {
      "image/png": "[encoded data removed]",
      "text/plain": [
       "<Figure size 2000x1500 with 6 Axes>"
      ]
     },
     "metadata": {},
     "output_type": "display_data"
    }
   ],
   "source": [
    "from sklearn.neighbors import KernelDensity\n",
    "\n",
    "innerdata_train = np.load(\"./data/preprocessed_data_6var/innerdata_train_6var.npy\")\n",
    "innerdata_test = np.load(\"./data/preprocessed_data_6var/innerdata_test_6var.npy\")\n",
    "\n",
    "innerdata_train = innerdata_train[innerdata_train[:,nFeat+1]==0]\n",
    "innerdata_test  = innerdata_test[innerdata_test[:,nFeat+1]==0]\n",
    "print(innerdata_test.shape)\n",
    "\n",
    "data_sr_train = innerdata_train[:,1:nFeat+1]\n",
    "data_sr_test = innerdata_test[:,1:nFeat+1]\n",
    "x_SR = np.concatenate((data_sr_train, data_sr_test), axis=0)\n",
    "print(x_SR.shape)\n",
    "x_SR, x_SR_max, x_SR_min = minmax_norm_data(x_SR)\n",
    "\n",
    "\n",
    "y_innerdata_train = innerdata_train[:,0]\n",
    "y_innerdata_test = innerdata_test[:,0]\n",
    "y_SR = np.concatenate((y_innerdata_train, y_innerdata_test), axis=0)\n",
    "y_SR, cond_data_SR_max, cond_data_SR_min = minmax_norm_cond_data(y_SR)\n",
    "print(y_SR.shape)\n",
    "\n",
    "KDE_bandwidth = 0.01\n",
    "mjj_logit = quick_logit(y_SR)\n",
    "y_SR = logit_transform_inverse(KernelDensity(\n",
    "                  bandwidth=KDE_bandwidth, kernel='gaussian').fit(\n",
    "                  mjj_logit.reshape(-1, 1)).sample(z_samples.shape[0]),\n",
    "                                                   max(y_SR).item(),\n",
    "                                                   min(y_SR).item())\n",
    "\n",
    "x_SR_train = x_SR[:trainsize]\n",
    "image_size = x_SR_train.shape[1]\n",
    "original_dim = image_size\n",
    "x_SR_train = np.reshape(x_SR_train, [-1, original_dim])\n",
    "\n",
    "print(x_SR_train.shape)\n",
    "print(z_samples.shape)\n",
    "print(np.reshape(y_SR, [-1, 1]).shape)\n",
    "\n",
    "gen_SR = decoder.predict([z_samples, np.reshape(y_SR, [-1, 1])])\n",
    "\n",
    "fake_vs_real([gen_SR],[x_SR_train],1,[\"\"])"
   ]
  },
  {
   "cell_type": "code",
   "execution_count": null,
   "id": "46a4cbc9-93b2-4c85-a389-32f3fe779484",
   "metadata": {},
   "outputs": [],
   "source": []
  }
 ],
 "metadata": {
  "kernelspec": {
   "display_name": "tensorflow-2.6.0",
   "language": "python",
   "name": "tensorflow-2.6.0"
  },
  "language_info": {
   "codemirror_mode": {
    "name": "ipython",
    "version": 3
   },
   "file_extension": ".py",
   "mimetype": "text/x-python",
   "name": "python",
   "nbconvert_exporter": "python",
   "pygments_lexer": "ipython3",
   "version": "3.9.15"
  }
 },
 "nbformat": 4,
 "nbformat_minor": 5
}
