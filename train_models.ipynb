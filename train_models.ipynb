{
 "cells": [
  {
   "cell_type": "markdown",
   "id": "2146116d",
   "metadata": {},
   "source": [
    "# Conditional VAE for LHC Olympics 2020 dataset"
   ]
  },
  {
   "cell_type": "code",
   "execution_count": 1,
   "id": "c6b61ed9",
   "metadata": {},
   "outputs": [],
   "source": [
    "import numpy as np\n",
    "import matplotlib.pyplot as plt\n",
    "import argparse\n",
    "import os\n",
    "import pandas as pd\n",
    "from tqdm import tqdm\n",
    "\n",
    "import tensorflow as tf\n",
    "from tensorflow import keras\n",
    "from tensorflow.keras import backend as K\n",
    "from tensorflow.keras.models import Model\n",
    "from tensorflow.keras.layers import Lambda, Input, Dense, Add, Activation, Concatenate\n",
    "from tensorflow.keras.callbacks import History, ModelCheckpoint, Callback\n",
    "from tensorflow.keras.optimizers import Adam, SGD\n",
    "from tensorflow.keras.layers import Dense, Dropout, Input, BatchNormalization, Concatenate, LeakyReLU, Reshape, Conv2DTranspose, Flatten, Conv2D\n",
    "from tensorflow.keras.models import Model,Sequential\n",
    "\n",
    "from utils import *"
   ]
  },
  {
   "cell_type": "code",
   "execution_count": 2,
   "id": "34f9d9cd-d9c7-44f3-9826-2e1d6534ac26",
   "metadata": {},
   "outputs": [
    {
     "name": "stdout",
     "output_type": "stream",
     "text": [
      "All available physical devices: [PhysicalDevice(name='/physical_device:CPU:0', device_type='CPU'), PhysicalDevice(name='/physical_device:GPU:0', device_type='GPU')]\n",
      "Selected GPU device: PhysicalDevice(name='/physical_device:GPU:0', device_type='GPU')\n"
     ]
    }
   ],
   "source": [
    "from tensorflow.python.framework.ops import disable_eager_execution\n",
    "disable_eager_execution()\n",
    "\n",
    "physical_devices = tf.config.experimental.list_physical_devices()\n",
    "print(\"All available physical devices:\", physical_devices)\n",
    "\n",
    "# Select a GPU device for training\n",
    "gpu_devices = tf.config.experimental.list_physical_devices('GPU')\n",
    "if gpu_devices:\n",
    "    device = gpu_devices[0]\n",
    "    tf.config.experimental.set_memory_growth(device, True)\n",
    "    tf.config.experimental.set_visible_devices(device, 'GPU')\n",
    "    print(\"Selected GPU device:\", device)\n",
    "else:\n",
    "    print(\"No GPU devices found.\")\n",
    "    "
   ]
  },
  {
   "cell_type": "markdown",
   "id": "eea69fd3-14ef-42d6-a62e-081b44ef7593",
   "metadata": {},
   "source": [
    "## Load training and test data"
   ]
  },
  {
   "cell_type": "code",
   "execution_count": 3,
   "id": "9e521f29-c5e4-459c-ac00-8a2373b78269",
   "metadata": {},
   "outputs": [
    {
     "name": "stdout",
     "output_type": "stream",
     "text": [
      "(28876, 8)\n",
      "shape of data_train:  (849779, 6)\n",
      "shape of data_test:  (28869, 6)\n",
      "shape of data:  (878648, 6)\n",
      "shape of cond_train (849779,)\n",
      "shape of cond_test (28869,)\n",
      "shape of cond_data:  (878648,)\n"
     ]
    }
   ],
   "source": [
    "# outerdata_train = np.load(\"./data/preprocessed_data_6var/outerdata_train_6var.npy\")\n",
    "# outerdata_test = np.load(\"./data/preprocessed_data_6var/outerdata_test_6var.npy\")\n",
    "outerdata_train = np.load(\"./data/preprocessed_data_6var_more_training_data/outerdata_train_6var.npy\")\n",
    "outerdata_test = np.load(\"./data/preprocessed_data_6var_more_training_data/outerdata_test_6var.npy\")\n",
    "\n",
    "print(outerdata_test.shape)\n",
    "\n",
    "# Num of feature stored in the data files\n",
    "nFeat = 6\n",
    "# Num of feature we want to use for training\n",
    "input_dim = 6\n",
    "\n",
    "outerdata_train = outerdata_train[outerdata_train[:,nFeat+1]==0]\n",
    "outerdata_test = outerdata_test[outerdata_test[:,nFeat+1]==0]\n",
    "\n",
    "data_train = outerdata_train[:,1:nFeat+1]\n",
    "print('shape of data_train: ', data_train.shape)\n",
    "data_test = outerdata_test[:,1:nFeat+1]\n",
    "print('shape of data_test: ', data_test.shape)\n",
    "\n",
    "data = np.concatenate((data_train, data_test), axis=0)\n",
    "og_data = data\n",
    "print('shape of data: ', data.shape)\n",
    "\n",
    "cond_data_train = outerdata_train[:,0]\n",
    "print('shape of cond_train', cond_data_train.shape)\n",
    "cond_data_test = outerdata_test[:,0]\n",
    "print('shape of cond_test', cond_data_test.shape)\n",
    "\n",
    "cond_data = np.concatenate((cond_data_train, cond_data_test), axis=0)\n",
    "og_cond_data = cond_data\n",
    "print('shape of cond_data: ', cond_data.shape)"
   ]
  },
  {
   "cell_type": "markdown",
   "id": "1fd5842d",
   "metadata": {},
   "source": [
    "## Plot training features\n",
    "\n",
    "- Total 6 training features\n",
    "- 1 conditional feature\n",
    "- Training Features are scaled to such that they are in range [0,1]"
   ]
  },
  {
   "cell_type": "code",
   "execution_count": 4,
   "id": "f88601c4-1d40-4d8f-aad9-e76274615839",
   "metadata": {},
   "outputs": [],
   "source": [
    "feature_names = {\n",
    "                0: \"$m_{2}$\",\n",
    "                1: \"$\\Delta m = m_{1} - m_{2}$ \",\n",
    "                2: \"$\\\\tau_{21}^{J1}$\",\n",
    "                3: \"$\\\\tau_{21}^{J2}$\",\n",
    "                4: \"$\\\\tau_{32}^{J1}$\",\n",
    "                5: \"$\\\\tau_{32}^{J2}$\"\n",
    "    \n",
    "}"
   ]
  },
  {
   "cell_type": "code",
   "execution_count": 5,
   "id": "b9b388ca-40de-47b8-81c4-02a9a5bb8ca0",
   "metadata": {},
   "outputs": [],
   "source": [
    "feature_labels = {\n",
    "                0: \"Min. Jet Mass\",\n",
    "                1: \"Jet Mass Difference\",\n",
    "                2: \"$\\\\tau_{21}$ Lead Jet\",\n",
    "                3: \"$\\\\tau_{21}$ Sublead Jet\",\n",
    "                4: \"$\\\\tau_{32}$ Lead Jet\",\n",
    "                5: \"$\\\\tau_{32}$ Sublead Jet\"\n",
    "    \n",
    "}"
   ]
  },
  {
   "cell_type": "code",
   "execution_count": 6,
   "id": "1735bd14-79fc-48ea-9630-fe267205f253",
   "metadata": {},
   "outputs": [],
   "source": [
    "def plot_variables(data, density = False):\n",
    "    \n",
    "    plt.figure(figsize=(12,12))\n",
    "    if density == False:\n",
    "        plt.ylabel(\"Events\")\n",
    "    else:\n",
    "        plt.ylabel(\"Normalized events\")\n",
    "    \n",
    "    \n",
    "    for i in range(input_dim):\n",
    "        plt.subplot((input_dim+1)//2, 2, i+1)\n",
    "        plt.xlabel(feature_names[i])\n",
    "        plt.hist(data[:, i], bins=30, color = \"darkblue\",  histtype = \"step\", label = feature_labels[i], density = density)\n",
    "        plt.legend()\n",
    "        plt.yscale('log')\n"
   ]
  },
  {
   "cell_type": "code",
   "execution_count": 7,
   "id": "7765984a-04d6-43ce-9868-ef28d28c4740",
   "metadata": {},
   "outputs": [
    {
     "name": "stderr",
     "output_type": "stream",
     "text": [
      "/tmp/ipykernel_193428/709068183.py:11: MatplotlibDeprecationWarning: Auto-removal of overlapping axes is deprecated since 3.6 and will be removed two minor releases later; explicitly call ax.remove() as needed.\n",
      "  plt.subplot((input_dim+1)//2, 2, i+1)\n"
     ]
    },
    {
     "data": {
      "image/png": "[encoded data removed]",
      "text/plain": [
       "<Figure size 1200x1200 with 6 Axes>"
      ]
     },
     "metadata": {},
     "output_type": "display_data"
    }
   ],
   "source": [
    "plot_variables(data)"
   ]
  },
  {
   "cell_type": "markdown",
   "id": "39b8f772",
   "metadata": {},
   "source": [
    "### Feature scaling\n",
    "<!-- Dividing each feature by the `abs(maximum)` value -->"
   ]
  },
  {
   "cell_type": "code",
   "execution_count": 8,
   "id": "86a7e9b6-89b0-4284-9140-c0c3c368e081",
   "metadata": {},
   "outputs": [
    {
     "data": {
      "image/png": "[encoded data removed]",
      "text/plain": [
       "<Figure size 1000x500 with 2 Axes>"
      ]
     },
     "metadata": {},
     "output_type": "display_data"
    },
    {
     "name": "stdout",
     "output_type": "stream",
     "text": [
      "(710700,)\n",
      "(139079,)\n"
     ]
    },
    {
     "data": {
      "image/png": "[encoded data removed]",
      "text/plain": [
       "<Figure size 1000x500 with 2 Axes>"
      ]
     },
     "metadata": {},
     "output_type": "display_data"
    },
    {
     "name": "stdout",
     "output_type": "stream",
     "text": [
      "(710700,)\n",
      "(139079,)\n"
     ]
    },
    {
     "data": {
      "image/png": "[encoded data removed]",
      "text/plain": [
       "<Figure size 1000x500 with 2 Axes>"
      ]
     },
     "metadata": {},
     "output_type": "display_data"
    },
    {
     "name": "stdout",
     "output_type": "stream",
     "text": [
      "(710700,)\n",
      "(139079,)\n"
     ]
    },
    {
     "data": {
      "image/png": "[encoded data removed]",
      "text/plain": [
       "<Figure size 1000x500 with 2 Axes>"
      ]
     },
     "metadata": {},
     "output_type": "display_data"
    },
    {
     "name": "stdout",
     "output_type": "stream",
     "text": [
      "(710700,)\n",
      "(139079,)\n"
     ]
    },
    {
     "data": {
      "image/png": "[encoded data removed]",
      "text/plain": [
       "<Figure size 1000x500 with 2 Axes>"
      ]
     },
     "metadata": {},
     "output_type": "display_data"
    },
    {
     "name": "stdout",
     "output_type": "stream",
     "text": [
      "(710700,)\n",
      "(139079,)\n"
     ]
    },
    {
     "data": {
      "image/png": "[encoded data removed]",
      "text/plain": [
       "<Figure size 1000x500 with 2 Axes>"
      ]
     },
     "metadata": {},
     "output_type": "display_data"
    },
    {
     "name": "stdout",
     "output_type": "stream",
     "text": [
      "(710700,)\n",
      "(139079,)\n"
     ]
    },
    {
     "data": {
      "image/png": "[encoded data removed]",
      "text/plain": [
       "<Figure size 1000x500 with 2 Axes>"
      ]
     },
     "metadata": {},
     "output_type": "display_data"
    }
   ],
   "source": [
    "#cond_data = cond_data[cond_data >= 3.7]\n",
    "\n",
    "#normalization\n",
    "data, data_max, data_min = minmax_norm_data(data)\n",
    "cond_data, cond_data_max, cond_data_min  = minmax_norm_cond_data(cond_data)\n",
    "data = logit_norm(data)\n",
    "cond_data = logit_norm(cond_data)\n",
    "\n",
    "plt.figure(figsize=(10,5))\n",
    "plt.subplot(1,2,1)\n",
    "plt.hist(og_cond_data[og_cond_data<3.3], bins=100, histtype='step', label=\"cond_data\")\n",
    "plt.hist(cond_data[cond_data<0.27], bins=100, histtype='step', label=\"norm_cond_data\")\n",
    "plt.title('cond_data < 3.3 TeV')\n",
    "plt.legend(loc='best')\n",
    "plt.subplot(1,2,2)\n",
    "plt.hist(og_cond_data[og_cond_data>3.7], bins=100, histtype='step', label=\"cond_data\")\n",
    "plt.hist(cond_data[cond_data>0.27], bins=100, histtype='step', label=\"norm_cond_data\")\n",
    "plt.title('cond_data > 3.7 TeV')\n",
    "plt.legend(loc='best')\n",
    "plt.show()\n",
    "\n",
    "#now we make the same plots as above for the each feature of normalized data, here is thec code:\n",
    "for i in range(6):\n",
    "    plt.figure(figsize=(10,5))\n",
    "    plt.subplot(1,2,1)\n",
    "    plt.hist(data_train[cond_data_train<3.3,i], bins=100, histtype='step', label=\"data\")\n",
    "    print(data_train[cond_data_train<3.3,i].shape)\n",
    "    # plt.hist(data[cond_data<0.27,i], bins=100, histtype='step', label=\"norm_data\")\n",
    "    plt.title('cond_data < 3.3 TeV')\n",
    "    plt.legend(loc='best')\n",
    "    plt.subplot(1,2,2)\n",
    "    plt.hist(data_train[cond_data_train>3.7,i], bins=100, histtype='step', label=\"data\")\n",
    "    print(data_train[cond_data_train>3.7,i].shape)\n",
    "    # plt.hist(data[cond_data>0.27,i], bins=100, histtype='step', label=\"norm_data\")\n",
    "    plt.title('cond_data > 3.7 TeV')\n",
    "    plt.legend(loc='best')\n",
    "    plt.show()\n",
    "\n",
    "\n",
    "trainsize = outerdata_train.shape[0]"
   ]
  },
  {
   "cell_type": "markdown",
   "id": "35eb21cf",
   "metadata": {},
   "source": [
    "## Setting up for training\n",
    "\n",
    "### Defining the train and test sets"
   ]
  },
  {
   "cell_type": "code",
   "execution_count": 9,
   "id": "9b8335cb-14a1-451e-bc39-d869934ad28e",
   "metadata": {},
   "outputs": [
    {
     "name": "stdout",
     "output_type": "stream",
     "text": [
      "(878648, 6)\n",
      "Data Shape:  (878648, 6)\n",
      "(849779, 6)\n"
     ]
    }
   ],
   "source": [
    "data = data[:,0:input_dim]\n",
    "print(data.shape)\n",
    "data = np.reshape(data, (len(cond_data),input_dim))\n",
    "print(\"Data Shape: \", np.shape(data))\n",
    "x_train = data[:trainsize]\n",
    "print(x_train.shape)\n",
    "x_test = data[trainsize:]\n",
    "y_train = cond_data[:trainsize]\n",
    "y_test = cond_data[trainsize:]\n",
    "\n",
    "# x_train = np.hstack([x_train,y_train.reshape(y_train.shape[0],1)])\n",
    "# x_test = np.hstack([x_test,y_test.reshape(y_test.shape[0],1)])\n",
    "\n",
    "image_size = x_train.shape[1]\n",
    "original_dim = image_size\n",
    "x_train = np.reshape(x_train, [-1, original_dim])\n",
    "x_test = np.reshape(x_test, [-1, original_dim])\n",
    "x_train = x_train.astype('float32')\n",
    "x_test = x_test.astype('float32')\n",
    "y_train = np.reshape(y_train, [-1, 1])\n",
    "y_test = np.reshape(y_test, [-1, 1])\n",
    "y_train = y_train.astype('float32')\n",
    "y_test = y_test.astype('float32')"
   ]
  },
  {
   "cell_type": "markdown",
   "id": "936fb726",
   "metadata": {
    "jp-MarkdownHeadingCollapsed": true,
    "tags": []
   },
   "source": [
    "### Train cGAN"
   ]
  },
  {
   "cell_type": "code",
   "execution_count": 24,
   "id": "de4b045f",
   "metadata": {},
   "outputs": [],
   "source": [
    "def adam_optimizer():\n",
    "    return Adam(lr=0.0002, beta_1=0.5)"
   ]
  },
  {
   "cell_type": "code",
   "execution_count": 25,
   "id": "db45eadf",
   "metadata": {},
   "outputs": [
    {
     "name": "stdout",
     "output_type": "stream",
     "text": [
      "WARNING:tensorflow:From /global/common/software/nersc/pm-2022q4/sw/tensorflow/2.6.0/lib/python3.9/site-packages/keras/layers/normalization/batch_normalization.py:520: _colocate_with (from tensorflow.python.framework.ops) is deprecated and will be removed in a future version.\n",
      "Instructions for updating:\n",
      "Colocations handled automatically by placer.\n",
      "Model: \"sequential\"\n",
      "_________________________________________________________________\n",
      "Layer (type)                 Output Shape              Param #   \n",
      "=================================================================\n",
      "Gen_Dense1 (Dense)           (None, 512)               4096      \n",
      "_________________________________________________________________\n",
      "Gen_LR1 (LeakyReLU)          (None, 512)               0         \n",
      "_________________________________________________________________\n",
      "batch_normalization (BatchNo (None, 512)               2048      \n",
      "_________________________________________________________________\n",
      "Gen_Dense2 (Dense)           (None, 256)               131328    \n",
      "_________________________________________________________________\n",
      "Gen_LR2 (LeakyReLU)          (None, 256)               0         \n",
      "_________________________________________________________________\n",
      "batch_normalization_1 (Batch (None, 256)               1024      \n",
      "_________________________________________________________________\n",
      "Gen_Dense3 (Dense)           (None, 128)               32896     \n",
      "_________________________________________________________________\n",
      "Gen_LR3 (LeakyReLU)          (None, 128)               0         \n",
      "_________________________________________________________________\n",
      "batch_normalization_2 (Batch (None, 128)               512       \n",
      "_________________________________________________________________\n",
      "Gen_Dense4 (Dense)           (None, 56)                7224      \n",
      "_________________________________________________________________\n",
      "Gen_LR4 (LeakyReLU)          (None, 56)                0         \n",
      "_________________________________________________________________\n",
      "batch_normalization_3 (Batch (None, 56)                224       \n",
      "_________________________________________________________________\n",
      "Gen_LR5 (Dense)              (None, 6)                 342       \n",
      "=================================================================\n",
      "Total params: 179,694\n",
      "Trainable params: 177,790\n",
      "Non-trainable params: 1,904\n",
      "_________________________________________________________________\n"
     ]
    },
    {
     "name": "stderr",
     "output_type": "stream",
     "text": [
      "/global/common/software/nersc/pm-2022q4/sw/tensorflow/2.6.0/lib/python3.9/site-packages/keras/optimizer_v2/optimizer_v2.py:355: UserWarning: The `lr` argument is deprecated, use `learning_rate` instead.\n",
      "  warnings.warn(\n"
     ]
    }
   ],
   "source": [
    "# CGAN3\n",
    "def create_conditional_generator():\n",
    "\n",
    "    generator = Sequential()\n",
    "    # explicit input dimensions\n",
    "    generator.add(Dense(units=512,input_dim=nFeat+1,name=\"Gen_Dense1\"))# one more variable!\n",
    "    generator.add(LeakyReLU(0.2,name=\"Gen_LR1\"))\n",
    "    generator.add(BatchNormalization(momentum=0.8)) #new\n",
    "    \n",
    "    generator.add(Dense(units=256,name=\"Gen_Dense2\"))\n",
    "    generator.add(LeakyReLU(0.2,name=\"Gen_LR2\"))\n",
    "    generator.add(BatchNormalization(momentum=0.8)) #new\n",
    "\n",
    "    generator.add(Dense(units=128,name=\"Gen_Dense3\"))\n",
    "    generator.add(LeakyReLU(0.2,name=\"Gen_LR3\"))\n",
    "    generator.add(BatchNormalization(momentum=0.8)) #new\n",
    "    \n",
    "    generator.add(Dense(units=56,name=\"Gen_Dense4\"))\n",
    "    generator.add(LeakyReLU(0.2,name=\"Gen_LR4\"))\n",
    "    generator.add(BatchNormalization(momentum=0.8)) #new\n",
    "    \n",
    "    generator.add(Dense(units=nFeat,name=\"Gen_LR5\"))#, activation='tanh'))\n",
    "    \n",
    "    #y = Input(shape=(1,))\n",
    "    \n",
    "    generator.compile(loss='binary_crossentropy', optimizer=adam_optimizer())\n",
    "    return generator\n",
    "cg=create_conditional_generator()\n",
    "cg.summary()"
   ]
  },
  {
   "cell_type": "code",
   "execution_count": 26,
   "id": "4ac1474c",
   "metadata": {},
   "outputs": [
    {
     "name": "stdout",
     "output_type": "stream",
     "text": [
      "Model: \"sequential_1\"\n",
      "_________________________________________________________________\n",
      "Layer (type)                 Output Shape              Param #   \n",
      "=================================================================\n",
      "Disc_Dense1 (Dense)          (None, 1024)              8192      \n",
      "_________________________________________________________________\n",
      "Disc_LR1 (LeakyReLU)         (None, 1024)              0         \n",
      "_________________________________________________________________\n",
      "Disc_Drop1 (Dropout)         (None, 1024)              0         \n",
      "_________________________________________________________________\n",
      "Disc_Dense2 (Dense)          (None, 512)               524800    \n",
      "_________________________________________________________________\n",
      "Disc_LR2 (LeakyReLU)         (None, 512)               0         \n",
      "_________________________________________________________________\n",
      "Disc_Drop2 (Dropout)         (None, 512)               0         \n",
      "_________________________________________________________________\n",
      "Disc_Dense3 (Dense)          (None, 256)               131328    \n",
      "_________________________________________________________________\n",
      "Disc_LR3 (LeakyReLU)         (None, 256)               0         \n",
      "_________________________________________________________________\n",
      "Disc_Drop3 (Dropout)         (None, 256)               0         \n",
      "_________________________________________________________________\n",
      "Disc_Dense4 (Dense)          (None, 128)               32896     \n",
      "_________________________________________________________________\n",
      "Disc_LR4 (LeakyReLU)         (None, 128)               0         \n",
      "_________________________________________________________________\n",
      "Disc_Drop4 (Dropout)         (None, 128)               0         \n",
      "_________________________________________________________________\n",
      "Disc_SigmoidOut (Dense)      (None, 1)                 129       \n",
      "=================================================================\n",
      "Total params: 697,345\n",
      "Trainable params: 697,345\n",
      "Non-trainable params: 0\n",
      "_________________________________________________________________\n"
     ]
    }
   ],
   "source": [
    "def create_conditional_discriminator():\n",
    "    discriminator=Sequential()\n",
    "    discriminator.add(Dense(units=1024,input_dim=nFeat+1,name=\"Disc_Dense1\")) #new; was 1024\n",
    "    discriminator.add(LeakyReLU(0.2,name=\"Disc_LR1\"))\n",
    "    discriminator.add(Dropout(0.1,name=\"Disc_Drop1\")) # new: removed\n",
    "       \n",
    "    discriminator.add(Dense(units=512,name=\"Disc_Dense2\")) #new; was 512\n",
    "    discriminator.add(LeakyReLU(0.2,name=\"Disc_LR2\"))\n",
    "    discriminator.add(Dropout(0.1,name=\"Disc_Drop2\")) #new: removed\n",
    "       \n",
    "    discriminator.add(Dense(units=256,name=\"Disc_Dense3\")) #new: removed, was 256\n",
    "    discriminator.add(LeakyReLU(0.2,name=\"Disc_LR3\")) #new: removed\n",
    "    discriminator.add(Dropout(0.1,name=\"Disc_Drop3\")) #new\n",
    "    \n",
    "    discriminator.add(Dense(units=128,name=\"Disc_Dense4\")) #new: removed, was 256\n",
    "    discriminator.add(LeakyReLU(0.2,name=\"Disc_LR4\")) #new: removed\n",
    "    discriminator.add(Dropout(0.1,name=\"Disc_Drop4\")) #new\n",
    "    \n",
    "    discriminator.add(Dense(units=1, activation='sigmoid',name=\"Disc_SigmoidOut\"))\n",
    "    \n",
    "    discriminator.compile(loss='binary_crossentropy', optimizer=adam_optimizer())\n",
    "    return discriminator\n",
    "cd = create_conditional_discriminator()\n",
    "cd.summary()"
   ]
  },
  {
   "cell_type": "code",
   "execution_count": 27,
   "id": "720224fe",
   "metadata": {},
   "outputs": [
    {
     "name": "stdout",
     "output_type": "stream",
     "text": [
      "Model: \"GAN\"\n",
      "__________________________________________________________________________________________________\n",
      "Layer (type)                    Output Shape         Param #     Connected to                     \n",
      "==================================================================================================\n",
      "GAN_NoiseInput (InputLayer)     [(None, 6)]          0                                            \n",
      "__________________________________________________________________________________________________\n",
      "GAN_condY (InputLayer)          [(None, 1)]          0                                            \n",
      "__________________________________________________________________________________________________\n",
      "concatenate_2 (Concatenate)     (None, 7)            0           GAN_NoiseInput[0][0]             \n",
      "                                                                 GAN_condY[0][0]                  \n",
      "__________________________________________________________________________________________________\n",
      "sequential (Sequential)         (None, 6)            179694      concatenate_2[0][0]              \n",
      "__________________________________________________________________________________________________\n",
      "concatenate_3 (Concatenate)     (None, 7)            0           sequential[0][0]                 \n",
      "                                                                 GAN_condY[0][0]                  \n",
      "__________________________________________________________________________________________________\n",
      "sequential_1 (Sequential)       (None, 1)            697345      concatenate_3[0][0]              \n",
      "==================================================================================================\n",
      "Total params: 877,039\n",
      "Trainable params: 177,790\n",
      "Non-trainable params: 699,249\n",
      "__________________________________________________________________________________________________\n"
     ]
    }
   ],
   "source": [
    "def create_conditional_gan(discriminator, generator):\n",
    "    discriminator.trainable=False    \n",
    "    # now this\n",
    "    gan_input = Input(shape=(nFeat,),name=\"GAN_NoiseInput\")\n",
    "    y = Input(shape=(1,),name=\"GAN_condY\")\n",
    "    x = generator(Concatenate(axis=-1)([gan_input,y]))\n",
    "    gan_output = discriminator(Concatenate(axis=-1)([x,y]))\n",
    "    gan = Model(inputs=[y,gan_input], outputs=gan_output,name=\"GAN\")\n",
    "    gan.compile(loss='binary_crossentropy', optimizer=adam_optimizer())#optimizer='adam') #new\n",
    "    return gan\n",
    "cgan = create_conditional_gan(cd,cg)\n",
    "cgan.summary()"
   ]
  },
  {
   "cell_type": "code",
   "execution_count": 28,
   "id": "47895119",
   "metadata": {},
   "outputs": [],
   "source": [
    "from tensorflow.keras.models import save_model\n",
    "\n",
    "def conditional_training(X, y, epochs=1, batch_size=128):\n",
    "    #Loading the data\n",
    "    #(X_train, y_train, X_test, y_test) = load_data()\n",
    "    # X_train, X_test, y_train, y_test = train_test_split(X, y, test_size=0.3, random_state=42)\n",
    "    X_train = X\n",
    "    y_train = y\n",
    "        \n",
    "    batch_count = int(X_train.shape[0] / batch_size)\n",
    "\n",
    "    # Standardizing???\n",
    "    #from sklearn import preprocessing\n",
    "    #X_train = preprocessing.scale(X_train)\n",
    "    #X_test = preprocessing.scale(X_test)\n",
    "\n",
    "    # Creating GAN\n",
    "    generator= create_conditional_generator()\n",
    "    discriminator= create_conditional_discriminator()\n",
    "    gan = create_conditional_gan(discriminator, generator)\n",
    "    \n",
    "    d_hist_r, d_hist_f, g_hist  = list(), list(), list()\n",
    "    half_batch = int(batch_size / 2)\n",
    "    \n",
    "    for e in range(epochs):\n",
    "        print(\"Epoch %d\" %e)\n",
    "        for _ in tqdm(range(batch_count)):\n",
    "            # --------------------\n",
    "            # Train discriminator\n",
    "            # --------------------\n",
    "\n",
    "            idx = np.random.randint(0, X_train.shape[0], half_batch)\n",
    "            y_real = y_train[idx]\n",
    "            x_real = np.hstack([X_train[idx],y_train[idx].reshape(half_batch,1)])\n",
    "        \n",
    "            noise = np.random.normal(0, 1, (half_batch, nFeat))\n",
    "            #noise = np.random.uniform(0, 1, (half_batch, nFeat))\n",
    "            cond_noise = np.hstack([noise,y_real.reshape(half_batch,1)])\n",
    "            x_fake = generator.predict(cond_noise)\n",
    "            x_fake = np.hstack([x_fake,y_real.reshape(half_batch,1)])\n",
    "        \n",
    "            discriminator.trainable=True #added\n",
    "            d_loss_real = discriminator.train_on_batch(x_real, 0.9*np.ones((half_batch, 1)))\n",
    "            d_loss_fake = discriminator.train_on_batch(x_fake, np.zeros((half_batch, 1)))\n",
    "            d_loss = 0.5 * np.add(d_loss_real, d_loss_fake)\n",
    "\n",
    "            # --------------------\n",
    "            # Train generator\n",
    "            # --------------------\n",
    "            discriminator.trainable=False #added\n",
    "            noise = np.random.normal(0, 1, (batch_size, nFeat)) #label the generated samples as 1\n",
    "            #noise = np.random.uniform(0, 1, (batch_size, nFeat)) #label the generated samples as 1\n",
    "            new_idx = np.random.randint(0, y_train.shape[0], batch_size)\n",
    "            g_loss = gan.train_on_batch([y_train[new_idx],noise], np.ones((batch_size,1)))\n",
    "\n",
    "            # --------------------\n",
    "            # Save losses\n",
    "            # --------------------\n",
    "            d_hist_r.append(d_loss_real) \n",
    "            d_hist_f.append(d_loss_fake) \n",
    "            g_hist.append(g_loss)\n",
    "\n",
    "        if e == 0 or e % 50 == 0:\n",
    "            list_of_cgen_models.append(generator)\n",
    "            \n",
    "            discriminator.trainable = False\n",
    "            save_model(gan, \"gan_models/gan_%d.h5\"%e)\n",
    "            discriminator.trainable = True\n",
    "            save_model(generator, \"gan_models/gen_%d.h5\"%e)\n",
    "            save_model(discriminator, \"gan_models/disc%d.h5\"%e)\n",
    "    \n",
    "            # generator.save(\"tmp_%d.h5\"%e) \n",
    "    return d_hist_r, d_hist_f, g_hist"
   ]
  },
  {
   "cell_type": "code",
   "execution_count": 29,
   "id": "1eb89bca-f27c-41b4-bf38-9d61a8e6c8b6",
   "metadata": {},
   "outputs": [
    {
     "name": "stdout",
     "output_type": "stream",
     "text": [
      "GPU found\n"
     ]
    },
    {
     "name": "stderr",
     "output_type": "stream",
     "text": [
      "2023-03-28 17:49:23.603715: I tensorflow/core/platform/cpu_feature_guard.cc:142] This TensorFlow binary is optimized with oneAPI Deep Neural Network Library (oneDNN) to use the following CPU instructions in performance-critical operations:  AVX2 FMA\n",
      "To enable them in other operations, rebuild TensorFlow with the appropriate compiler flags.\n",
      "2023-03-28 17:49:26.734419: I tensorflow/core/common_runtime/gpu/gpu_device.cc:1510] Created device /device:GPU:0 with 36911 MB memory:  -> device: 0, name: NVIDIA A100-PCIE-40GB, pci bus id: 0000:c3:00.0, compute capability: 8.0\n"
     ]
    }
   ],
   "source": [
    "import os\n",
    "\n",
    "os.environ['CUDA_VISIBLE_DEVICES'] = '-1'\n",
    "\n",
    "if tf.test.gpu_device_name():\n",
    "    print('GPU found')\n",
    "else:\n",
    "    print(\"No GPU found\")"
   ]
  },
  {
   "cell_type": "code",
   "execution_count": null,
   "id": "33f5e3ae",
   "metadata": {},
   "outputs": [
    {
     "name": "stdout",
     "output_type": "stream",
     "text": [
      "Epoch 0\n"
     ]
    },
    {
     "name": "stderr",
     "output_type": "stream",
     "text": [
      "  0%|          | 0/1952 [00:00<?, ?it/s]"
     ]
    },
    {
     "name": "stdout",
     "output_type": "stream",
     "text": [
      "WARNING:tensorflow:OMP_NUM_THREADS is no longer used by the default Keras config. To configure the number of threads, use tf.config.threading APIs.\n"
     ]
    },
    {
     "name": "stderr",
     "output_type": "stream",
     "text": [
      "100%|██████████| 1952/1952 [01:19<00:00, 24.42it/s]\n"
     ]
    },
    {
     "name": "stdout",
     "output_type": "stream",
     "text": [
      "Epoch 1\n"
     ]
    },
    {
     "name": "stderr",
     "output_type": "stream",
     "text": [
      "100%|██████████| 1952/1952 [01:17<00:00, 25.25it/s]\n"
     ]
    },
    {
     "name": "stdout",
     "output_type": "stream",
     "text": [
      "Epoch 2\n"
     ]
    },
    {
     "name": "stderr",
     "output_type": "stream",
     "text": [
      "100%|██████████| 1952/1952 [01:17<00:00, 25.25it/s]\n"
     ]
    },
    {
     "name": "stdout",
     "output_type": "stream",
     "text": [
      "Epoch 3\n"
     ]
    },
    {
     "name": "stderr",
     "output_type": "stream",
     "text": [
      "100%|██████████| 1952/1952 [01:16<00:00, 25.49it/s]\n"
     ]
    },
    {
     "name": "stdout",
     "output_type": "stream",
     "text": [
      "Epoch 4\n"
     ]
    },
    {
     "name": "stderr",
     "output_type": "stream",
     "text": [
      "100%|██████████| 1952/1952 [01:17<00:00, 25.31it/s]\n"
     ]
    },
    {
     "name": "stdout",
     "output_type": "stream",
     "text": [
      "Epoch 5\n"
     ]
    },
    {
     "name": "stderr",
     "output_type": "stream",
     "text": [
      "100%|██████████| 1952/1952 [01:16<00:00, 25.39it/s]\n"
     ]
    },
    {
     "name": "stdout",
     "output_type": "stream",
     "text": [
      "Epoch 6\n"
     ]
    },
    {
     "name": "stderr",
     "output_type": "stream",
     "text": [
      "100%|██████████| 1952/1952 [01:17<00:00, 25.27it/s]\n"
     ]
    },
    {
     "name": "stdout",
     "output_type": "stream",
     "text": [
      "Epoch 7\n"
     ]
    },
    {
     "name": "stderr",
     "output_type": "stream",
     "text": [
      "100%|██████████| 1952/1952 [01:17<00:00, 25.33it/s]\n"
     ]
    },
    {
     "name": "stdout",
     "output_type": "stream",
     "text": [
      "Epoch 8\n"
     ]
    },
    {
     "name": "stderr",
     "output_type": "stream",
     "text": [
      "100%|██████████| 1952/1952 [01:17<00:00, 25.20it/s]\n"
     ]
    },
    {
     "name": "stdout",
     "output_type": "stream",
     "text": [
      "Epoch 9\n"
     ]
    },
    {
     "name": "stderr",
     "output_type": "stream",
     "text": [
      "100%|██████████| 1952/1952 [01:16<00:00, 25.38it/s]\n"
     ]
    },
    {
     "name": "stdout",
     "output_type": "stream",
     "text": [
      "Epoch 10\n"
     ]
    },
    {
     "name": "stderr",
     "output_type": "stream",
     "text": [
      "100%|██████████| 1952/1952 [01:17<00:00, 25.32it/s]\n"
     ]
    },
    {
     "name": "stdout",
     "output_type": "stream",
     "text": [
      "Epoch 11\n"
     ]
    },
    {
     "name": "stderr",
     "output_type": "stream",
     "text": [
      "100%|██████████| 1952/1952 [01:17<00:00, 25.30it/s]\n"
     ]
    },
    {
     "name": "stdout",
     "output_type": "stream",
     "text": [
      "Epoch 12\n"
     ]
    },
    {
     "name": "stderr",
     "output_type": "stream",
     "text": [
      "100%|██████████| 1952/1952 [01:17<00:00, 25.35it/s]\n"
     ]
    },
    {
     "name": "stdout",
     "output_type": "stream",
     "text": [
      "Epoch 13\n"
     ]
    },
    {
     "name": "stderr",
     "output_type": "stream",
     "text": [
      "100%|██████████| 1952/1952 [01:16<00:00, 25.40it/s]\n"
     ]
    },
    {
     "name": "stdout",
     "output_type": "stream",
     "text": [
      "Epoch 14\n"
     ]
    },
    {
     "name": "stderr",
     "output_type": "stream",
     "text": [
      "100%|██████████| 1952/1952 [01:16<00:00, 25.47it/s]\n"
     ]
    },
    {
     "name": "stdout",
     "output_type": "stream",
     "text": [
      "Epoch 15\n"
     ]
    },
    {
     "name": "stderr",
     "output_type": "stream",
     "text": [
      "100%|██████████| 1952/1952 [01:16<00:00, 25.52it/s]\n"
     ]
    },
    {
     "name": "stdout",
     "output_type": "stream",
     "text": [
      "Epoch 16\n"
     ]
    },
    {
     "name": "stderr",
     "output_type": "stream",
     "text": [
      "100%|██████████| 1952/1952 [01:16<00:00, 25.49it/s]\n"
     ]
    },
    {
     "name": "stdout",
     "output_type": "stream",
     "text": [
      "Epoch 17\n"
     ]
    },
    {
     "name": "stderr",
     "output_type": "stream",
     "text": [
      "100%|██████████| 1952/1952 [01:16<00:00, 25.44it/s]\n"
     ]
    },
    {
     "name": "stdout",
     "output_type": "stream",
     "text": [
      "Epoch 18\n"
     ]
    },
    {
     "name": "stderr",
     "output_type": "stream",
     "text": [
      "100%|██████████| 1952/1952 [01:16<00:00, 25.43it/s]\n"
     ]
    },
    {
     "name": "stdout",
     "output_type": "stream",
     "text": [
      "Epoch 19\n"
     ]
    },
    {
     "name": "stderr",
     "output_type": "stream",
     "text": [
      "100%|██████████| 1952/1952 [01:16<00:00, 25.38it/s]\n"
     ]
    },
    {
     "name": "stdout",
     "output_type": "stream",
     "text": [
      "Epoch 20\n"
     ]
    },
    {
     "name": "stderr",
     "output_type": "stream",
     "text": [
      "100%|██████████| 1952/1952 [01:16<00:00, 25.54it/s]\n"
     ]
    },
    {
     "name": "stdout",
     "output_type": "stream",
     "text": [
      "Epoch 21\n"
     ]
    },
    {
     "name": "stderr",
     "output_type": "stream",
     "text": [
      "100%|██████████| 1952/1952 [01:16<00:00, 25.56it/s]\n"
     ]
    },
    {
     "name": "stdout",
     "output_type": "stream",
     "text": [
      "Epoch 22\n"
     ]
    },
    {
     "name": "stderr",
     "output_type": "stream",
     "text": [
      "100%|██████████| 1952/1952 [01:16<00:00, 25.45it/s]\n"
     ]
    },
    {
     "name": "stdout",
     "output_type": "stream",
     "text": [
      "Epoch 23\n"
     ]
    },
    {
     "name": "stderr",
     "output_type": "stream",
     "text": [
      "100%|██████████| 1952/1952 [01:17<00:00, 25.35it/s]\n"
     ]
    },
    {
     "name": "stdout",
     "output_type": "stream",
     "text": [
      "Epoch 24\n"
     ]
    },
    {
     "name": "stderr",
     "output_type": "stream",
     "text": [
      "100%|██████████| 1952/1952 [01:17<00:00, 25.29it/s]\n"
     ]
    },
    {
     "name": "stdout",
     "output_type": "stream",
     "text": [
      "Epoch 25\n"
     ]
    },
    {
     "name": "stderr",
     "output_type": "stream",
     "text": [
      "100%|██████████| 1952/1952 [01:15<00:00, 25.78it/s]\n"
     ]
    },
    {
     "name": "stdout",
     "output_type": "stream",
     "text": [
      "Epoch 26\n"
     ]
    },
    {
     "name": "stderr",
     "output_type": "stream",
     "text": [
      "100%|██████████| 1952/1952 [01:16<00:00, 25.52it/s]\n"
     ]
    },
    {
     "name": "stdout",
     "output_type": "stream",
     "text": [
      "Epoch 27\n"
     ]
    },
    {
     "name": "stderr",
     "output_type": "stream",
     "text": [
      "100%|██████████| 1952/1952 [01:16<00:00, 25.37it/s]\n"
     ]
    },
    {
     "name": "stdout",
     "output_type": "stream",
     "text": [
      "Epoch 28\n"
     ]
    },
    {
     "name": "stderr",
     "output_type": "stream",
     "text": [
      "100%|██████████| 1952/1952 [01:17<00:00, 25.21it/s]\n"
     ]
    },
    {
     "name": "stdout",
     "output_type": "stream",
     "text": [
      "Epoch 29\n"
     ]
    },
    {
     "name": "stderr",
     "output_type": "stream",
     "text": [
      "100%|██████████| 1952/1952 [01:16<00:00, 25.58it/s]\n"
     ]
    },
    {
     "name": "stdout",
     "output_type": "stream",
     "text": [
      "Epoch 30\n"
     ]
    },
    {
     "name": "stderr",
     "output_type": "stream",
     "text": [
      "100%|██████████| 1952/1952 [01:16<00:00, 25.50it/s]\n"
     ]
    },
    {
     "name": "stdout",
     "output_type": "stream",
     "text": [
      "Epoch 31\n"
     ]
    },
    {
     "name": "stderr",
     "output_type": "stream",
     "text": [
      "100%|██████████| 1952/1952 [01:16<00:00, 25.52it/s]\n"
     ]
    },
    {
     "name": "stdout",
     "output_type": "stream",
     "text": [
      "Epoch 32\n"
     ]
    },
    {
     "name": "stderr",
     "output_type": "stream",
     "text": [
      "100%|██████████| 1952/1952 [01:16<00:00, 25.52it/s]\n"
     ]
    },
    {
     "name": "stdout",
     "output_type": "stream",
     "text": [
      "Epoch 33\n"
     ]
    },
    {
     "name": "stderr",
     "output_type": "stream",
     "text": [
      "100%|██████████| 1952/1952 [01:16<00:00, 25.46it/s]\n"
     ]
    },
    {
     "name": "stdout",
     "output_type": "stream",
     "text": [
      "Epoch 34\n"
     ]
    },
    {
     "name": "stderr",
     "output_type": "stream",
     "text": [
      "100%|██████████| 1952/1952 [01:17<00:00, 25.26it/s]\n"
     ]
    },
    {
     "name": "stdout",
     "output_type": "stream",
     "text": [
      "Epoch 35\n"
     ]
    },
    {
     "name": "stderr",
     "output_type": "stream",
     "text": [
      "100%|██████████| 1952/1952 [01:16<00:00, 25.47it/s]\n"
     ]
    },
    {
     "name": "stdout",
     "output_type": "stream",
     "text": [
      "Epoch 36\n"
     ]
    },
    {
     "name": "stderr",
     "output_type": "stream",
     "text": [
      "100%|██████████| 1952/1952 [01:16<00:00, 25.39it/s]\n"
     ]
    },
    {
     "name": "stdout",
     "output_type": "stream",
     "text": [
      "Epoch 37\n"
     ]
    },
    {
     "name": "stderr",
     "output_type": "stream",
     "text": [
      "100%|██████████| 1952/1952 [01:17<00:00, 25.29it/s]\n"
     ]
    },
    {
     "name": "stdout",
     "output_type": "stream",
     "text": [
      "Epoch 38\n"
     ]
    },
    {
     "name": "stderr",
     "output_type": "stream",
     "text": [
      "100%|██████████| 1952/1952 [01:16<00:00, 25.40it/s]\n"
     ]
    },
    {
     "name": "stdout",
     "output_type": "stream",
     "text": [
      "Epoch 39\n"
     ]
    },
    {
     "name": "stderr",
     "output_type": "stream",
     "text": [
      "100%|██████████| 1952/1952 [01:18<00:00, 24.81it/s]\n"
     ]
    },
    {
     "name": "stdout",
     "output_type": "stream",
     "text": [
      "Epoch 40\n"
     ]
    },
    {
     "name": "stderr",
     "output_type": "stream",
     "text": [
      "100%|██████████| 1952/1952 [01:18<00:00, 24.92it/s]\n"
     ]
    },
    {
     "name": "stdout",
     "output_type": "stream",
     "text": [
      "Epoch 41\n"
     ]
    },
    {
     "name": "stderr",
     "output_type": "stream",
     "text": [
      "100%|██████████| 1952/1952 [01:18<00:00, 24.99it/s]\n"
     ]
    },
    {
     "name": "stdout",
     "output_type": "stream",
     "text": [
      "Epoch 42\n"
     ]
    },
    {
     "name": "stderr",
     "output_type": "stream",
     "text": [
      "100%|██████████| 1952/1952 [01:18<00:00, 25.02it/s]\n"
     ]
    },
    {
     "name": "stdout",
     "output_type": "stream",
     "text": [
      "Epoch 43\n"
     ]
    },
    {
     "name": "stderr",
     "output_type": "stream",
     "text": [
      "100%|██████████| 1952/1952 [01:18<00:00, 24.95it/s]\n"
     ]
    },
    {
     "name": "stdout",
     "output_type": "stream",
     "text": [
      "Epoch 44\n"
     ]
    },
    {
     "name": "stderr",
     "output_type": "stream",
     "text": [
      "100%|██████████| 1952/1952 [01:18<00:00, 24.95it/s]\n"
     ]
    },
    {
     "name": "stdout",
     "output_type": "stream",
     "text": [
      "Epoch 45\n"
     ]
    },
    {
     "name": "stderr",
     "output_type": "stream",
     "text": [
      "100%|██████████| 1952/1952 [01:18<00:00, 24.93it/s]\n"
     ]
    },
    {
     "name": "stdout",
     "output_type": "stream",
     "text": [
      "Epoch 46\n"
     ]
    },
    {
     "name": "stderr",
     "output_type": "stream",
     "text": [
      "100%|██████████| 1952/1952 [01:18<00:00, 25.01it/s]\n"
     ]
    },
    {
     "name": "stdout",
     "output_type": "stream",
     "text": [
      "Epoch 47\n"
     ]
    },
    {
     "name": "stderr",
     "output_type": "stream",
     "text": [
      "100%|██████████| 1952/1952 [01:18<00:00, 24.98it/s]\n"
     ]
    },
    {
     "name": "stdout",
     "output_type": "stream",
     "text": [
      "Epoch 48\n"
     ]
    },
    {
     "name": "stderr",
     "output_type": "stream",
     "text": [
      "100%|██████████| 1952/1952 [01:17<00:00, 25.12it/s]\n"
     ]
    },
    {
     "name": "stdout",
     "output_type": "stream",
     "text": [
      "Epoch 49\n"
     ]
    },
    {
     "name": "stderr",
     "output_type": "stream",
     "text": [
      "100%|██████████| 1952/1952 [01:18<00:00, 24.99it/s]\n"
     ]
    },
    {
     "name": "stdout",
     "output_type": "stream",
     "text": [
      "Epoch 50\n"
     ]
    },
    {
     "name": "stderr",
     "output_type": "stream",
     "text": [
      "100%|██████████| 1952/1952 [01:17<00:00, 25.14it/s]\n"
     ]
    },
    {
     "name": "stdout",
     "output_type": "stream",
     "text": [
      "Epoch 51\n"
     ]
    },
    {
     "name": "stderr",
     "output_type": "stream",
     "text": [
      "100%|██████████| 1952/1952 [01:17<00:00, 25.05it/s]\n"
     ]
    },
    {
     "name": "stdout",
     "output_type": "stream",
     "text": [
      "Epoch 52\n"
     ]
    },
    {
     "name": "stderr",
     "output_type": "stream",
     "text": [
      "100%|██████████| 1952/1952 [01:18<00:00, 24.99it/s]\n"
     ]
    },
    {
     "name": "stdout",
     "output_type": "stream",
     "text": [
      "Epoch 53\n"
     ]
    },
    {
     "name": "stderr",
     "output_type": "stream",
     "text": [
      "100%|██████████| 1952/1952 [01:17<00:00, 25.12it/s]\n"
     ]
    },
    {
     "name": "stdout",
     "output_type": "stream",
     "text": [
      "Epoch 54\n"
     ]
    },
    {
     "name": "stderr",
     "output_type": "stream",
     "text": [
      "100%|██████████| 1952/1952 [01:18<00:00, 24.79it/s]\n"
     ]
    },
    {
     "name": "stdout",
     "output_type": "stream",
     "text": [
      "Epoch 55\n"
     ]
    },
    {
     "name": "stderr",
     "output_type": "stream",
     "text": [
      "100%|██████████| 1952/1952 [01:19<00:00, 24.47it/s]\n"
     ]
    },
    {
     "name": "stdout",
     "output_type": "stream",
     "text": [
      "Epoch 56\n"
     ]
    },
    {
     "name": "stderr",
     "output_type": "stream",
     "text": [
      "100%|██████████| 1952/1952 [01:19<00:00, 24.49it/s]\n"
     ]
    },
    {
     "name": "stdout",
     "output_type": "stream",
     "text": [
      "Epoch 57\n"
     ]
    },
    {
     "name": "stderr",
     "output_type": "stream",
     "text": [
      "100%|██████████| 1952/1952 [01:19<00:00, 24.55it/s]\n"
     ]
    },
    {
     "name": "stdout",
     "output_type": "stream",
     "text": [
      "Epoch 58\n"
     ]
    },
    {
     "name": "stderr",
     "output_type": "stream",
     "text": [
      "100%|██████████| 1952/1952 [01:19<00:00, 24.47it/s]\n"
     ]
    },
    {
     "name": "stdout",
     "output_type": "stream",
     "text": [
      "Epoch 59\n"
     ]
    },
    {
     "name": "stderr",
     "output_type": "stream",
     "text": [
      "100%|██████████| 1952/1952 [01:20<00:00, 24.32it/s]\n"
     ]
    },
    {
     "name": "stdout",
     "output_type": "stream",
     "text": [
      "Epoch 60\n"
     ]
    },
    {
     "name": "stderr",
     "output_type": "stream",
     "text": [
      "100%|██████████| 1952/1952 [01:19<00:00, 24.60it/s]\n"
     ]
    },
    {
     "name": "stdout",
     "output_type": "stream",
     "text": [
      "Epoch 61\n"
     ]
    },
    {
     "name": "stderr",
     "output_type": "stream",
     "text": [
      "100%|██████████| 1952/1952 [01:19<00:00, 24.57it/s]\n"
     ]
    },
    {
     "name": "stdout",
     "output_type": "stream",
     "text": [
      "Epoch 62\n"
     ]
    },
    {
     "name": "stderr",
     "output_type": "stream",
     "text": [
      "100%|██████████| 1952/1952 [01:18<00:00, 24.79it/s]\n"
     ]
    },
    {
     "name": "stdout",
     "output_type": "stream",
     "text": [
      "Epoch 63\n"
     ]
    },
    {
     "name": "stderr",
     "output_type": "stream",
     "text": [
      "100%|██████████| 1952/1952 [01:18<00:00, 24.96it/s]\n"
     ]
    },
    {
     "name": "stdout",
     "output_type": "stream",
     "text": [
      "Epoch 64\n"
     ]
    },
    {
     "name": "stderr",
     "output_type": "stream",
     "text": [
      "100%|██████████| 1952/1952 [01:18<00:00, 24.87it/s]\n"
     ]
    },
    {
     "name": "stdout",
     "output_type": "stream",
     "text": [
      "Epoch 65\n"
     ]
    },
    {
     "name": "stderr",
     "output_type": "stream",
     "text": [
      "100%|██████████| 1952/1952 [01:18<00:00, 24.97it/s]\n"
     ]
    },
    {
     "name": "stdout",
     "output_type": "stream",
     "text": [
      "Epoch 66\n"
     ]
    },
    {
     "name": "stderr",
     "output_type": "stream",
     "text": [
      "100%|██████████| 1952/1952 [01:18<00:00, 24.96it/s]\n"
     ]
    },
    {
     "name": "stdout",
     "output_type": "stream",
     "text": [
      "Epoch 67\n"
     ]
    },
    {
     "name": "stderr",
     "output_type": "stream",
     "text": [
      "100%|██████████| 1952/1952 [01:18<00:00, 24.94it/s]\n"
     ]
    },
    {
     "name": "stdout",
     "output_type": "stream",
     "text": [
      "Epoch 70\n"
     ]
    },
    {
     "name": "stderr",
     "output_type": "stream",
     "text": [
      "100%|██████████| 1952/1952 [01:17<00:00, 25.03it/s]\n"
     ]
    },
    {
     "name": "stdout",
     "output_type": "stream",
     "text": [
      "Epoch 71\n"
     ]
    },
    {
     "name": "stderr",
     "output_type": "stream",
     "text": [
      "100%|██████████| 1952/1952 [01:17<00:00, 25.06it/s]\n"
     ]
    },
    {
     "name": "stdout",
     "output_type": "stream",
     "text": [
      "Epoch 72\n"
     ]
    },
    {
     "name": "stderr",
     "output_type": "stream",
     "text": [
      "100%|██████████| 1952/1952 [01:17<00:00, 25.03it/s]\n"
     ]
    },
    {
     "name": "stdout",
     "output_type": "stream",
     "text": [
      "Epoch 73\n"
     ]
    },
    {
     "name": "stderr",
     "output_type": "stream",
     "text": [
      " 63%|██████▎   | 1233/1952 [00:49<00:28, 25.21it/s]IOPub message rate exceeded.\n",
      "The Jupyter server will temporarily stop sending output\n",
      "to the client in order to avoid crashing it.\n",
      "To change this limit, set the config variable\n",
      "`--ServerApp.iopub_msg_rate_limit`.\n",
      "\n",
      "Current values:\n",
      "ServerApp.iopub_msg_rate_limit=1000.0 (msgs/sec)\n",
      "ServerApp.rate_limit_window=3.0 (secs)\n",
      "\n",
      "100%|██████████| 1952/1952 [01:18<00:00, 24.98it/s]\n"
     ]
    },
    {
     "name": "stdout",
     "output_type": "stream",
     "text": [
      "Epoch 91\n"
     ]
    },
    {
     "name": "stderr",
     "output_type": "stream",
     "text": [
      "100%|██████████| 1952/1952 [01:18<00:00, 24.99it/s]\n"
     ]
    },
    {
     "name": "stdout",
     "output_type": "stream",
     "text": [
      "Epoch 92\n"
     ]
    },
    {
     "name": "stderr",
     "output_type": "stream",
     "text": [
      "100%|██████████| 1952/1952 [01:18<00:00, 24.86it/s]\n"
     ]
    },
    {
     "name": "stdout",
     "output_type": "stream",
     "text": [
      "Epoch 93\n"
     ]
    },
    {
     "name": "stderr",
     "output_type": "stream",
     "text": [
      "100%|██████████| 1952/1952 [01:18<00:00, 24.96it/s]\n"
     ]
    },
    {
     "name": "stdout",
     "output_type": "stream",
     "text": [
      "Epoch 94\n"
     ]
    },
    {
     "name": "stderr",
     "output_type": "stream",
     "text": [
      "100%|██████████| 1952/1952 [01:18<00:00, 24.96it/s]\n"
     ]
    },
    {
     "name": "stdout",
     "output_type": "stream",
     "text": [
      "Epoch 95\n"
     ]
    },
    {
     "name": "stderr",
     "output_type": "stream",
     "text": [
      " 10%|▉         | 195/1952 [00:07<01:10, 24.98it/s]IOPub message rate exceeded.\n",
      "The Jupyter server will temporarily stop sending output\n",
      "to the client in order to avoid crashing it.\n",
      "To change this limit, set the config variable\n",
      "`--ServerApp.iopub_msg_rate_limit`.\n",
      "\n",
      "Current values:\n",
      "ServerApp.iopub_msg_rate_limit=1000.0 (msgs/sec)\n",
      "ServerApp.rate_limit_window=3.0 (secs)\n",
      "\n",
      "100%|██████████| 1952/1952 [01:18<00:00, 24.98it/s]\n"
     ]
    },
    {
     "name": "stdout",
     "output_type": "stream",
     "text": [
      "Epoch 113\n"
     ]
    },
    {
     "name": "stderr",
     "output_type": "stream",
     "text": [
      "100%|██████████| 1952/1952 [01:17<00:00, 25.10it/s]\n"
     ]
    },
    {
     "name": "stdout",
     "output_type": "stream",
     "text": [
      "Epoch 114\n"
     ]
    },
    {
     "name": "stderr",
     "output_type": "stream",
     "text": [
      "100%|██████████| 1952/1952 [01:17<00:00, 25.09it/s]\n"
     ]
    },
    {
     "name": "stdout",
     "output_type": "stream",
     "text": [
      "Epoch 115\n"
     ]
    },
    {
     "name": "stderr",
     "output_type": "stream",
     "text": [
      "100%|██████████| 1952/1952 [01:17<00:00, 25.10it/s]\n"
     ]
    },
    {
     "name": "stdout",
     "output_type": "stream",
     "text": [
      "Epoch 116\n"
     ]
    },
    {
     "name": "stderr",
     "output_type": "stream",
     "text": [
      " 75%|███████▍  | 1458/1952 [00:58<00:19, 24.80it/s]IOPub message rate exceeded.\n",
      "The Jupyter server will temporarily stop sending output\n",
      "to the client in order to avoid crashing it.\n",
      "To change this limit, set the config variable\n",
      "`--ServerApp.iopub_msg_rate_limit`.\n",
      "\n",
      "Current values:\n",
      "ServerApp.iopub_msg_rate_limit=1000.0 (msgs/sec)\n",
      "ServerApp.rate_limit_window=3.0 (secs)\n",
      "\n",
      "100%|██████████| 1952/1952 [01:18<00:00, 24.95it/s]\n"
     ]
    },
    {
     "name": "stdout",
     "output_type": "stream",
     "text": [
      "Epoch 135\n"
     ]
    },
    {
     "name": "stderr",
     "output_type": "stream",
     "text": [
      "100%|██████████| 1952/1952 [01:18<00:00, 24.93it/s]\n"
     ]
    },
    {
     "name": "stdout",
     "output_type": "stream",
     "text": [
      "Epoch 136\n"
     ]
    },
    {
     "name": "stderr",
     "output_type": "stream",
     "text": [
      "100%|██████████| 1952/1952 [01:18<00:00, 24.73it/s]\n"
     ]
    },
    {
     "name": "stdout",
     "output_type": "stream",
     "text": [
      "Epoch 137\n"
     ]
    },
    {
     "name": "stderr",
     "output_type": "stream",
     "text": [
      "100%|██████████| 1952/1952 [01:17<00:00, 25.06it/s]\n"
     ]
    },
    {
     "name": "stdout",
     "output_type": "stream",
     "text": [
      "Epoch 138\n"
     ]
    },
    {
     "name": "stderr",
     "output_type": "stream",
     "text": [
      " 75%|███████▌  | 1464/1952 [00:58<00:19, 25.09it/s]IOPub message rate exceeded.\n",
      "The Jupyter server will temporarily stop sending output\n",
      "to the client in order to avoid crashing it.\n",
      "To change this limit, set the config variable\n",
      "`--ServerApp.iopub_msg_rate_limit`.\n",
      "\n",
      "Current values:\n",
      "ServerApp.iopub_msg_rate_limit=1000.0 (msgs/sec)\n",
      "ServerApp.rate_limit_window=3.0 (secs)\n",
      "\n",
      "100%|██████████| 1952/1952 [01:19<00:00, 24.47it/s]\n"
     ]
    },
    {
     "name": "stdout",
     "output_type": "stream",
     "text": [
      "Epoch 156\n"
     ]
    },
    {
     "name": "stderr",
     "output_type": "stream",
     "text": [
      "100%|██████████| 1952/1952 [01:19<00:00, 24.52it/s]\n"
     ]
    },
    {
     "name": "stdout",
     "output_type": "stream",
     "text": [
      "Epoch 157\n"
     ]
    },
    {
     "name": "stderr",
     "output_type": "stream",
     "text": [
      "100%|██████████| 1952/1952 [01:19<00:00, 24.62it/s]\n"
     ]
    },
    {
     "name": "stdout",
     "output_type": "stream",
     "text": [
      "Epoch 158\n"
     ]
    },
    {
     "name": "stderr",
     "output_type": "stream",
     "text": [
      "100%|██████████| 1952/1952 [01:18<00:00, 24.75it/s]\n"
     ]
    },
    {
     "name": "stdout",
     "output_type": "stream",
     "text": [
      "Epoch 159\n"
     ]
    },
    {
     "name": "stderr",
     "output_type": "stream",
     "text": [
      "100%|██████████| 1952/1952 [01:19<00:00, 24.53it/s]\n"
     ]
    },
    {
     "name": "stdout",
     "output_type": "stream",
     "text": [
      "Epoch 160\n"
     ]
    },
    {
     "name": "stderr",
     "output_type": "stream",
     "text": [
      " 42%|████▏     | 825/1952 [00:33<00:45, 24.52it/s]IOPub message rate exceeded.\n",
      "The Jupyter server will temporarily stop sending output\n",
      "to the client in order to avoid crashing it.\n",
      "To change this limit, set the config variable\n",
      "`--ServerApp.iopub_msg_rate_limit`.\n",
      "\n",
      "Current values:\n",
      "ServerApp.iopub_msg_rate_limit=1000.0 (msgs/sec)\n",
      "ServerApp.rate_limit_window=3.0 (secs)\n",
      "\n",
      "100%|██████████| 1952/1952 [01:18<00:00, 24.95it/s]\n"
     ]
    },
    {
     "name": "stdout",
     "output_type": "stream",
     "text": [
      "Epoch 174\n"
     ]
    },
    {
     "name": "stderr",
     "output_type": "stream",
     "text": [
      "100%|██████████| 1952/1952 [01:18<00:00, 24.84it/s]\n"
     ]
    },
    {
     "name": "stdout",
     "output_type": "stream",
     "text": [
      "Epoch 175\n"
     ]
    },
    {
     "name": "stderr",
     "output_type": "stream",
     "text": [
      "100%|██████████| 1952/1952 [01:19<00:00, 24.65it/s]\n"
     ]
    },
    {
     "name": "stdout",
     "output_type": "stream",
     "text": [
      "Epoch 176\n"
     ]
    },
    {
     "name": "stderr",
     "output_type": "stream",
     "text": [
      "100%|██████████| 1952/1952 [01:18<00:00, 24.82it/s]\n"
     ]
    },
    {
     "name": "stdout",
     "output_type": "stream",
     "text": [
      "Epoch 177\n"
     ]
    },
    {
     "name": "stderr",
     "output_type": "stream",
     "text": [
      "100%|██████████| 1952/1952 [01:18<00:00, 24.86it/s]\n"
     ]
    },
    {
     "name": "stdout",
     "output_type": "stream",
     "text": [
      "Epoch 178\n"
     ]
    },
    {
     "name": "stderr",
     "output_type": "stream",
     "text": [
      "100%|██████████| 1952/1952 [01:18<00:00, 24.84it/s]\n"
     ]
    },
    {
     "name": "stdout",
     "output_type": "stream",
     "text": [
      "Epoch 179\n"
     ]
    },
    {
     "name": "stderr",
     "output_type": "stream",
     "text": [
      "100%|██████████| 1952/1952 [01:18<00:00, 24.83it/s]\n"
     ]
    },
    {
     "name": "stdout",
     "output_type": "stream",
     "text": [
      "Epoch 180\n"
     ]
    },
    {
     "name": "stderr",
     "output_type": "stream",
     "text": [
      "100%|██████████| 1952/1952 [01:18<00:00, 24.94it/s]\n"
     ]
    },
    {
     "name": "stdout",
     "output_type": "stream",
     "text": [
      "Epoch 181\n"
     ]
    },
    {
     "name": "stderr",
     "output_type": "stream",
     "text": [
      "100%|██████████| 1952/1952 [01:18<00:00, 24.98it/s]\n"
     ]
    },
    {
     "name": "stdout",
     "output_type": "stream",
     "text": [
      "Epoch 182\n"
     ]
    },
    {
     "name": "stderr",
     "output_type": "stream",
     "text": [
      "100%|██████████| 1952/1952 [01:18<00:00, 25.02it/s]\n"
     ]
    },
    {
     "name": "stdout",
     "output_type": "stream",
     "text": [
      "Epoch 183\n"
     ]
    },
    {
     "name": "stderr",
     "output_type": "stream",
     "text": [
      "100%|██████████| 1952/1952 [01:17<00:00, 25.09it/s]\n"
     ]
    },
    {
     "name": "stdout",
     "output_type": "stream",
     "text": [
      "Epoch 184\n"
     ]
    },
    {
     "name": "stderr",
     "output_type": "stream",
     "text": [
      "100%|██████████| 1952/1952 [01:18<00:00, 25.00it/s]\n"
     ]
    },
    {
     "name": "stdout",
     "output_type": "stream",
     "text": [
      "Epoch 185\n"
     ]
    },
    {
     "name": "stderr",
     "output_type": "stream",
     "text": [
      "100%|██████████| 1952/1952 [01:17<00:00, 25.06it/s]\n"
     ]
    },
    {
     "name": "stdout",
     "output_type": "stream",
     "text": [
      "Epoch 186\n"
     ]
    },
    {
     "name": "stderr",
     "output_type": "stream",
     "text": [
      "100%|██████████| 1952/1952 [01:18<00:00, 25.01it/s]\n"
     ]
    },
    {
     "name": "stdout",
     "output_type": "stream",
     "text": [
      "Epoch 187\n"
     ]
    },
    {
     "name": "stderr",
     "output_type": "stream",
     "text": [
      "100%|██████████| 1952/1952 [01:17<00:00, 25.11it/s]\n"
     ]
    },
    {
     "name": "stdout",
     "output_type": "stream",
     "text": [
      "Epoch 188\n"
     ]
    },
    {
     "name": "stderr",
     "output_type": "stream",
     "text": [
      "100%|██████████| 1952/1952 [01:17<00:00, 25.10it/s]\n"
     ]
    },
    {
     "name": "stdout",
     "output_type": "stream",
     "text": [
      "Epoch 189\n"
     ]
    },
    {
     "name": "stderr",
     "output_type": "stream",
     "text": [
      "100%|██████████| 1952/1952 [01:18<00:00, 24.96it/s]\n"
     ]
    },
    {
     "name": "stdout",
     "output_type": "stream",
     "text": [
      "Epoch 190\n"
     ]
    },
    {
     "name": "stderr",
     "output_type": "stream",
     "text": [
      "100%|██████████| 1952/1952 [01:18<00:00, 25.00it/s]\n"
     ]
    },
    {
     "name": "stdout",
     "output_type": "stream",
     "text": [
      "Epoch 191\n"
     ]
    },
    {
     "name": "stderr",
     "output_type": "stream",
     "text": [
      "100%|██████████| 1952/1952 [01:17<00:00, 25.03it/s]\n"
     ]
    },
    {
     "name": "stdout",
     "output_type": "stream",
     "text": [
      "Epoch 192\n"
     ]
    },
    {
     "name": "stderr",
     "output_type": "stream",
     "text": [
      "100%|██████████| 1952/1952 [01:17<00:00, 25.07it/s]\n"
     ]
    },
    {
     "name": "stdout",
     "output_type": "stream",
     "text": [
      "Epoch 193\n"
     ]
    },
    {
     "name": "stderr",
     "output_type": "stream",
     "text": [
      "100%|██████████| 1952/1952 [01:17<00:00, 25.14it/s]\n"
     ]
    },
    {
     "name": "stdout",
     "output_type": "stream",
     "text": [
      "Epoch 194\n"
     ]
    },
    {
     "name": "stderr",
     "output_type": "stream",
     "text": [
      "100%|██████████| 1952/1952 [01:17<00:00, 25.14it/s]\n"
     ]
    },
    {
     "name": "stdout",
     "output_type": "stream",
     "text": [
      "Epoch 195\n"
     ]
    },
    {
     "name": "stderr",
     "output_type": "stream",
     "text": [
      "100%|██████████| 1952/1952 [01:17<00:00, 25.10it/s]\n"
     ]
    },
    {
     "name": "stdout",
     "output_type": "stream",
     "text": [
      "Epoch 196\n"
     ]
    },
    {
     "name": "stderr",
     "output_type": "stream",
     "text": [
      "100%|██████████| 1952/1952 [01:17<00:00, 25.14it/s]\n"
     ]
    },
    {
     "name": "stdout",
     "output_type": "stream",
     "text": [
      "Epoch 197\n"
     ]
    },
    {
     "name": "stderr",
     "output_type": "stream",
     "text": [
      "100%|██████████| 1952/1952 [01:17<00:00, 25.03it/s]\n"
     ]
    },
    {
     "name": "stdout",
     "output_type": "stream",
     "text": [
      "Epoch 198\n"
     ]
    },
    {
     "name": "stderr",
     "output_type": "stream",
     "text": [
      "100%|██████████| 1952/1952 [01:17<00:00, 25.06it/s]\n"
     ]
    },
    {
     "name": "stdout",
     "output_type": "stream",
     "text": [
      "Epoch 199\n"
     ]
    },
    {
     "name": "stderr",
     "output_type": "stream",
     "text": [
      "100%|██████████| 1952/1952 [01:17<00:00, 25.06it/s]\n"
     ]
    },
    {
     "name": "stdout",
     "output_type": "stream",
     "text": [
      "Epoch 200\n"
     ]
    },
    {
     "name": "stderr",
     "output_type": "stream",
     "text": [
      "100%|██████████| 1952/1952 [01:17<00:00, 25.04it/s]\n"
     ]
    },
    {
     "name": "stdout",
     "output_type": "stream",
     "text": [
      "Epoch 201\n"
     ]
    },
    {
     "name": "stderr",
     "output_type": "stream",
     "text": [
      "100%|██████████| 1952/1952 [01:17<00:00, 25.03it/s]\n"
     ]
    },
    {
     "name": "stdout",
     "output_type": "stream",
     "text": [
      "Epoch 202\n"
     ]
    },
    {
     "name": "stderr",
     "output_type": "stream",
     "text": [
      "100%|██████████| 1952/1952 [01:17<00:00, 25.11it/s]\n"
     ]
    },
    {
     "name": "stdout",
     "output_type": "stream",
     "text": [
      "Epoch 203\n"
     ]
    },
    {
     "name": "stderr",
     "output_type": "stream",
     "text": [
      "100%|██████████| 1952/1952 [01:17<00:00, 25.15it/s]\n"
     ]
    },
    {
     "name": "stdout",
     "output_type": "stream",
     "text": [
      "Epoch 204\n"
     ]
    },
    {
     "name": "stderr",
     "output_type": "stream",
     "text": [
      "100%|██████████| 1952/1952 [01:17<00:00, 25.13it/s]\n"
     ]
    },
    {
     "name": "stdout",
     "output_type": "stream",
     "text": [
      "Epoch 205\n"
     ]
    },
    {
     "name": "stderr",
     "output_type": "stream",
     "text": [
      "100%|██████████| 1952/1952 [01:17<00:00, 25.13it/s]\n"
     ]
    },
    {
     "name": "stdout",
     "output_type": "stream",
     "text": [
      "Epoch 206\n"
     ]
    },
    {
     "name": "stderr",
     "output_type": "stream",
     "text": [
      "100%|██████████| 1952/1952 [01:17<00:00, 25.04it/s]\n"
     ]
    },
    {
     "name": "stdout",
     "output_type": "stream",
     "text": [
      "Epoch 207\n"
     ]
    },
    {
     "name": "stderr",
     "output_type": "stream",
     "text": [
      "100%|██████████| 1952/1952 [01:18<00:00, 24.98it/s]\n"
     ]
    },
    {
     "name": "stdout",
     "output_type": "stream",
     "text": [
      "Epoch 208\n"
     ]
    },
    {
     "name": "stderr",
     "output_type": "stream",
     "text": [
      "100%|██████████| 1952/1952 [01:17<00:00, 25.03it/s]\n"
     ]
    },
    {
     "name": "stdout",
     "output_type": "stream",
     "text": [
      "Epoch 209\n"
     ]
    },
    {
     "name": "stderr",
     "output_type": "stream",
     "text": [
      "100%|██████████| 1952/1952 [01:18<00:00, 25.01it/s]\n"
     ]
    },
    {
     "name": "stdout",
     "output_type": "stream",
     "text": [
      "Epoch 210\n"
     ]
    },
    {
     "name": "stderr",
     "output_type": "stream",
     "text": [
      "100%|██████████| 1952/1952 [01:17<00:00, 25.08it/s]\n"
     ]
    },
    {
     "name": "stdout",
     "output_type": "stream",
     "text": [
      "Epoch 211\n"
     ]
    },
    {
     "name": "stderr",
     "output_type": "stream",
     "text": [
      "100%|██████████| 1952/1952 [01:18<00:00, 25.01it/s]\n"
     ]
    },
    {
     "name": "stdout",
     "output_type": "stream",
     "text": [
      "Epoch 212\n"
     ]
    },
    {
     "name": "stderr",
     "output_type": "stream",
     "text": [
      "100%|██████████| 1952/1952 [01:17<00:00, 25.03it/s]\n"
     ]
    },
    {
     "name": "stdout",
     "output_type": "stream",
     "text": [
      "Epoch 213\n"
     ]
    },
    {
     "name": "stderr",
     "output_type": "stream",
     "text": [
      "100%|██████████| 1952/1952 [01:17<00:00, 25.12it/s]\n"
     ]
    },
    {
     "name": "stdout",
     "output_type": "stream",
     "text": [
      "Epoch 214\n"
     ]
    },
    {
     "name": "stderr",
     "output_type": "stream",
     "text": [
      "100%|██████████| 1952/1952 [01:17<00:00, 25.07it/s]\n"
     ]
    },
    {
     "name": "stdout",
     "output_type": "stream",
     "text": [
      "Epoch 215\n"
     ]
    },
    {
     "name": "stderr",
     "output_type": "stream",
     "text": [
      "100%|██████████| 1952/1952 [01:18<00:00, 25.01it/s]\n"
     ]
    },
    {
     "name": "stdout",
     "output_type": "stream",
     "text": [
      "Epoch 216\n"
     ]
    },
    {
     "name": "stderr",
     "output_type": "stream",
     "text": [
      "100%|██████████| 1952/1952 [01:17<00:00, 25.05it/s]\n"
     ]
    },
    {
     "name": "stdout",
     "output_type": "stream",
     "text": [
      "Epoch 217\n"
     ]
    },
    {
     "name": "stderr",
     "output_type": "stream",
     "text": [
      "100%|██████████| 1952/1952 [01:17<00:00, 25.05it/s]\n"
     ]
    },
    {
     "name": "stdout",
     "output_type": "stream",
     "text": [
      "Epoch 218\n"
     ]
    },
    {
     "name": "stderr",
     "output_type": "stream",
     "text": [
      "100%|██████████| 1952/1952 [01:17<00:00, 25.12it/s]\n"
     ]
    },
    {
     "name": "stdout",
     "output_type": "stream",
     "text": [
      "Epoch 219\n"
     ]
    },
    {
     "name": "stderr",
     "output_type": "stream",
     "text": [
      "100%|██████████| 1952/1952 [01:17<00:00, 25.16it/s]\n"
     ]
    },
    {
     "name": "stdout",
     "output_type": "stream",
     "text": [
      "Epoch 220\n"
     ]
    },
    {
     "name": "stderr",
     "output_type": "stream",
     "text": [
      "100%|██████████| 1952/1952 [01:17<00:00, 25.19it/s]\n"
     ]
    },
    {
     "name": "stdout",
     "output_type": "stream",
     "text": [
      "Epoch 221\n"
     ]
    },
    {
     "name": "stderr",
     "output_type": "stream",
     "text": [
      "100%|██████████| 1952/1952 [01:17<00:00, 25.15it/s]\n"
     ]
    },
    {
     "name": "stdout",
     "output_type": "stream",
     "text": [
      "Epoch 222\n"
     ]
    },
    {
     "name": "stderr",
     "output_type": "stream",
     "text": [
      "100%|██████████| 1952/1952 [01:17<00:00, 25.11it/s]\n"
     ]
    },
    {
     "name": "stdout",
     "output_type": "stream",
     "text": [
      "Epoch 223\n"
     ]
    },
    {
     "name": "stderr",
     "output_type": "stream",
     "text": [
      "100%|██████████| 1952/1952 [01:17<00:00, 25.12it/s]\n"
     ]
    },
    {
     "name": "stdout",
     "output_type": "stream",
     "text": [
      "Epoch 224\n"
     ]
    },
    {
     "name": "stderr",
     "output_type": "stream",
     "text": [
      "100%|██████████| 1952/1952 [01:17<00:00, 25.10it/s]\n"
     ]
    },
    {
     "name": "stdout",
     "output_type": "stream",
     "text": [
      "Epoch 225\n"
     ]
    },
    {
     "name": "stderr",
     "output_type": "stream",
     "text": [
      "100%|██████████| 1952/1952 [01:17<00:00, 25.15it/s]\n"
     ]
    },
    {
     "name": "stdout",
     "output_type": "stream",
     "text": [
      "Epoch 226\n"
     ]
    },
    {
     "name": "stderr",
     "output_type": "stream",
     "text": [
      "100%|██████████| 1952/1952 [01:17<00:00, 25.04it/s]\n"
     ]
    },
    {
     "name": "stdout",
     "output_type": "stream",
     "text": [
      "Epoch 227\n"
     ]
    },
    {
     "name": "stderr",
     "output_type": "stream",
     "text": [
      "100%|██████████| 1952/1952 [01:17<00:00, 25.11it/s]\n"
     ]
    },
    {
     "name": "stdout",
     "output_type": "stream",
     "text": [
      "Epoch 228\n"
     ]
    },
    {
     "name": "stderr",
     "output_type": "stream",
     "text": [
      "100%|██████████| 1952/1952 [01:17<00:00, 25.06it/s]\n"
     ]
    },
    {
     "name": "stdout",
     "output_type": "stream",
     "text": [
      "Epoch 229\n"
     ]
    },
    {
     "name": "stderr",
     "output_type": "stream",
     "text": [
      "100%|██████████| 1952/1952 [01:17<00:00, 25.07it/s]\n"
     ]
    },
    {
     "name": "stdout",
     "output_type": "stream",
     "text": [
      "Epoch 230\n"
     ]
    },
    {
     "name": "stderr",
     "output_type": "stream",
     "text": [
      "100%|██████████| 1952/1952 [01:17<00:00, 25.10it/s]\n"
     ]
    },
    {
     "name": "stdout",
     "output_type": "stream",
     "text": [
      "Epoch 231\n"
     ]
    },
    {
     "name": "stderr",
     "output_type": "stream",
     "text": [
      "100%|██████████| 1952/1952 [01:17<00:00, 25.03it/s]\n"
     ]
    },
    {
     "name": "stdout",
     "output_type": "stream",
     "text": [
      "Epoch 232\n"
     ]
    },
    {
     "name": "stderr",
     "output_type": "stream",
     "text": [
      "100%|██████████| 1952/1952 [01:18<00:00, 25.02it/s]\n"
     ]
    },
    {
     "name": "stdout",
     "output_type": "stream",
     "text": [
      "Epoch 233\n"
     ]
    },
    {
     "name": "stderr",
     "output_type": "stream",
     "text": [
      "100%|██████████| 1952/1952 [01:18<00:00, 24.89it/s]\n"
     ]
    },
    {
     "name": "stdout",
     "output_type": "stream",
     "text": [
      "Epoch 234\n"
     ]
    },
    {
     "name": "stderr",
     "output_type": "stream",
     "text": [
      "100%|██████████| 1952/1952 [01:18<00:00, 25.00it/s]\n"
     ]
    },
    {
     "name": "stdout",
     "output_type": "stream",
     "text": [
      "Epoch 235\n"
     ]
    },
    {
     "name": "stderr",
     "output_type": "stream",
     "text": [
      "100%|██████████| 1952/1952 [01:17<00:00, 25.07it/s]\n"
     ]
    },
    {
     "name": "stdout",
     "output_type": "stream",
     "text": [
      "Epoch 236\n"
     ]
    },
    {
     "name": "stderr",
     "output_type": "stream",
     "text": [
      "100%|██████████| 1952/1952 [01:17<00:00, 25.12it/s]\n"
     ]
    },
    {
     "name": "stdout",
     "output_type": "stream",
     "text": [
      "Epoch 237\n"
     ]
    },
    {
     "name": "stderr",
     "output_type": "stream",
     "text": [
      "100%|██████████| 1952/1952 [01:17<00:00, 25.03it/s]\n"
     ]
    },
    {
     "name": "stdout",
     "output_type": "stream",
     "text": [
      "Epoch 238\n"
     ]
    },
    {
     "name": "stderr",
     "output_type": "stream",
     "text": [
      "100%|██████████| 1952/1952 [01:18<00:00, 25.01it/s]\n"
     ]
    },
    {
     "name": "stdout",
     "output_type": "stream",
     "text": [
      "Epoch 239\n"
     ]
    },
    {
     "name": "stderr",
     "output_type": "stream",
     "text": [
      "100%|██████████| 1952/1952 [01:17<00:00, 25.05it/s]\n"
     ]
    },
    {
     "name": "stdout",
     "output_type": "stream",
     "text": [
      "Epoch 240\n"
     ]
    },
    {
     "name": "stderr",
     "output_type": "stream",
     "text": [
      "100%|██████████| 1952/1952 [01:17<00:00, 25.19it/s]\n"
     ]
    },
    {
     "name": "stdout",
     "output_type": "stream",
     "text": [
      "Epoch 241\n"
     ]
    },
    {
     "name": "stderr",
     "output_type": "stream",
     "text": [
      "100%|██████████| 1952/1952 [01:17<00:00, 25.16it/s]\n"
     ]
    },
    {
     "name": "stdout",
     "output_type": "stream",
     "text": [
      "Epoch 242\n"
     ]
    },
    {
     "name": "stderr",
     "output_type": "stream",
     "text": [
      "100%|██████████| 1952/1952 [01:17<00:00, 25.14it/s]\n"
     ]
    },
    {
     "name": "stdout",
     "output_type": "stream",
     "text": [
      "Epoch 243\n"
     ]
    },
    {
     "name": "stderr",
     "output_type": "stream",
     "text": [
      "100%|██████████| 1952/1952 [01:17<00:00, 25.18it/s]\n"
     ]
    },
    {
     "name": "stdout",
     "output_type": "stream",
     "text": [
      "Epoch 244\n"
     ]
    },
    {
     "name": "stderr",
     "output_type": "stream",
     "text": [
      "100%|██████████| 1952/1952 [01:17<00:00, 25.13it/s]\n"
     ]
    },
    {
     "name": "stdout",
     "output_type": "stream",
     "text": [
      "Epoch 245\n"
     ]
    },
    {
     "name": "stderr",
     "output_type": "stream",
     "text": [
      "100%|██████████| 1952/1952 [01:17<00:00, 25.08it/s]\n"
     ]
    },
    {
     "name": "stdout",
     "output_type": "stream",
     "text": [
      "Epoch 246\n"
     ]
    },
    {
     "name": "stderr",
     "output_type": "stream",
     "text": [
      "100%|██████████| 1952/1952 [01:17<00:00, 25.10it/s]\n"
     ]
    },
    {
     "name": "stdout",
     "output_type": "stream",
     "text": [
      "Epoch 247\n"
     ]
    },
    {
     "name": "stderr",
     "output_type": "stream",
     "text": [
      "100%|██████████| 1952/1952 [01:17<00:00, 25.13it/s]\n"
     ]
    },
    {
     "name": "stdout",
     "output_type": "stream",
     "text": [
      "Epoch 249\n"
     ]
    },
    {
     "name": "stderr",
     "output_type": "stream",
     "text": [
      "100%|██████████| 1952/1952 [01:17<00:00, 25.05it/s]\n"
     ]
    },
    {
     "name": "stdout",
     "output_type": "stream",
     "text": [
      "Epoch 250\n"
     ]
    },
    {
     "name": "stderr",
     "output_type": "stream",
     "text": [
      "100%|██████████| 1952/1952 [01:18<00:00, 25.01it/s]\n"
     ]
    },
    {
     "name": "stdout",
     "output_type": "stream",
     "text": [
      "Epoch 251\n"
     ]
    },
    {
     "name": "stderr",
     "output_type": "stream",
     "text": [
      "100%|██████████| 1952/1952 [01:17<00:00, 25.04it/s]\n"
     ]
    },
    {
     "name": "stdout",
     "output_type": "stream",
     "text": [
      "Epoch 252\n"
     ]
    },
    {
     "name": "stderr",
     "output_type": "stream",
     "text": [
      " 86%|████████▌ | 1680/1952 [01:06<00:10, 24.84it/s]IOPub message rate exceeded.\n",
      "The Jupyter server will temporarily stop sending output\n",
      "to the client in order to avoid crashing it.\n",
      "To change this limit, set the config variable\n",
      "`--ServerApp.iopub_msg_rate_limit`.\n",
      "\n",
      "Current values:\n",
      "ServerApp.iopub_msg_rate_limit=1000.0 (msgs/sec)\n",
      "ServerApp.rate_limit_window=3.0 (secs)\n",
      "\n",
      "100%|██████████| 1952/1952 [01:17<00:00, 25.08it/s]\n"
     ]
    },
    {
     "name": "stdout",
     "output_type": "stream",
     "text": [
      "Epoch 271\n"
     ]
    },
    {
     "name": "stderr",
     "output_type": "stream",
     "text": [
      "100%|██████████| 1952/1952 [01:17<00:00, 25.18it/s]\n"
     ]
    },
    {
     "name": "stdout",
     "output_type": "stream",
     "text": [
      "Epoch 272\n"
     ]
    },
    {
     "name": "stderr",
     "output_type": "stream",
     "text": [
      "100%|██████████| 1952/1952 [01:17<00:00, 25.15it/s]\n"
     ]
    },
    {
     "name": "stdout",
     "output_type": "stream",
     "text": [
      "Epoch 273\n"
     ]
    },
    {
     "name": "stderr",
     "output_type": "stream",
     "text": [
      "100%|██████████| 1952/1952 [01:17<00:00, 25.18it/s]\n"
     ]
    },
    {
     "name": "stdout",
     "output_type": "stream",
     "text": [
      "Epoch 274\n"
     ]
    },
    {
     "name": "stderr",
     "output_type": "stream",
     "text": [
      "100%|██████████| 1952/1952 [01:17<00:00, 25.09it/s]\n"
     ]
    },
    {
     "name": "stdout",
     "output_type": "stream",
     "text": [
      "Epoch 275\n"
     ]
    },
    {
     "name": "stderr",
     "output_type": "stream",
     "text": [
      " 43%|████▎     | 849/1952 [00:33<00:44, 24.87it/s]IOPub message rate exceeded.\n",
      "The Jupyter server will temporarily stop sending output\n",
      "to the client in order to avoid crashing it.\n",
      "To change this limit, set the config variable\n",
      "`--ServerApp.iopub_msg_rate_limit`.\n",
      "\n",
      "Current values:\n",
      "ServerApp.iopub_msg_rate_limit=1000.0 (msgs/sec)\n",
      "ServerApp.rate_limit_window=3.0 (secs)\n",
      "\n",
      "100%|██████████| 1952/1952 [01:18<00:00, 24.99it/s]\n"
     ]
    },
    {
     "name": "stdout",
     "output_type": "stream",
     "text": [
      "Epoch 280\n"
     ]
    },
    {
     "name": "stderr",
     "output_type": "stream",
     "text": [
      "100%|██████████| 1952/1952 [01:17<00:00, 25.04it/s]\n"
     ]
    },
    {
     "name": "stdout",
     "output_type": "stream",
     "text": [
      "Epoch 281\n"
     ]
    },
    {
     "name": "stderr",
     "output_type": "stream",
     "text": [
      "100%|██████████| 1952/1952 [01:17<00:00, 25.10it/s]\n"
     ]
    },
    {
     "name": "stdout",
     "output_type": "stream",
     "text": [
      "Epoch 282\n"
     ]
    },
    {
     "name": "stderr",
     "output_type": "stream",
     "text": [
      "100%|██████████| 1952/1952 [01:17<00:00, 25.13it/s]\n"
     ]
    },
    {
     "name": "stdout",
     "output_type": "stream",
     "text": [
      "Epoch 283\n"
     ]
    },
    {
     "name": "stderr",
     "output_type": "stream",
     "text": [
      "100%|██████████| 1952/1952 [01:17<00:00, 25.28it/s]\n"
     ]
    },
    {
     "name": "stdout",
     "output_type": "stream",
     "text": [
      "Epoch 284\n"
     ]
    },
    {
     "name": "stderr",
     "output_type": "stream",
     "text": [
      "100%|██████████| 1952/1952 [01:17<00:00, 25.23it/s]\n"
     ]
    },
    {
     "name": "stdout",
     "output_type": "stream",
     "text": [
      "Epoch 285\n"
     ]
    },
    {
     "name": "stderr",
     "output_type": "stream",
     "text": [
      "100%|██████████| 1952/1952 [01:17<00:00, 25.15it/s]\n"
     ]
    },
    {
     "name": "stdout",
     "output_type": "stream",
     "text": [
      "Epoch 286\n"
     ]
    },
    {
     "name": "stderr",
     "output_type": "stream",
     "text": [
      " 55%|█████▌    | 1074/1952 [00:42<00:35, 25.08it/s]"
     ]
    }
   ],
   "source": [
    "X = x_train\n",
    "y = y_train\n",
    "list_of_cgen_models = []\n",
    "cd1_hist_r, cd1_hist_f, cg_hist = conditional_training(X,y,301,256)"
   ]
  },
  {
   "cell_type": "markdown",
   "id": "9464ebf3",
   "metadata": {},
   "source": [
    "### Network parameters"
   ]
  },
  {
   "cell_type": "code",
   "execution_count": 10,
   "id": "86819d1a-d303-4fd5-ad4c-b98f518972c3",
   "metadata": {},
   "outputs": [],
   "source": [
    "# network parameters\n",
    "intermediate_dim = 128\n",
    "encoder_dim = 128\n",
    "batch_size = 1024\n",
    "latent_dim = 6\n",
    "epochs_1, epochs_2 = 1001, 120\n",
    "\n"
   ]
  },
  {
   "cell_type": "code",
   "execution_count": 11,
   "id": "fefa64aa-26c4-49a0-9cb9-9cb40e417497",
   "metadata": {},
   "outputs": [
    {
     "data": {
      "text/plain": [
       "0"
      ]
     },
     "execution_count": 11,
     "metadata": {},
     "output_type": "execute_result"
    }
   ],
   "source": [
    "#note: min-max norm is present in all version\n",
    "folder_name = \"cVAEz6_03-28-2023_wLogit/\"\n",
    "comd = \"mkdir -p \"+\"./outputs/models/\"+folder_name\n",
    "os.system(comd)\n"
   ]
  },
  {
   "cell_type": "markdown",
   "id": "1ef1f2f9",
   "metadata": {},
   "source": [
    "### Function for Gaussian Sampling in the VAE"
   ]
  },
  {
   "cell_type": "code",
   "execution_count": 12,
   "id": "2422b2dd-2fec-4c47-8525-77c798121bee",
   "metadata": {},
   "outputs": [],
   "source": [
    "\n",
    "def sampling(args):\n",
    "    \"\"\"Reparameterization trick by sampling from an isotropic unit Gaussian.\n",
    "    # Arguments:\n",
    "        args (tensor): mean and log of variance of Q(z|X)\n",
    "    # Returns:\n",
    "        z (tensor): sampled latent vector\n",
    "    \"\"\"\n",
    "\n",
    "    z_mean, z_log_var = args\n",
    "    batch = K.shape(z_mean)[0]\n",
    "    dim = K.int_shape(z_mean)[1]\n",
    "    # by default, random_normal has mean=0 and std=1.0\n",
    "    epsilon = K.random_normal(shape=(batch, dim))\n",
    "    return z_mean + K.exp(0.5 * z_log_var) * epsilon"
   ]
  },
  {
   "cell_type": "markdown",
   "id": "e1e820f0",
   "metadata": {},
   "source": [
    "### Define the Encoder "
   ]
  },
  {
   "cell_type": "code",
   "execution_count": 13,
   "id": "9d5320a0-cc80-42c9-9c30-d52260d3ac20",
   "metadata": {},
   "outputs": [],
   "source": [
    "def create_encoder(X,y):\n",
    "    inputs = Concatenate()([X, y])\n",
    "    x1 = Dense(32, activation='relu')(inputs)\n",
    "    x2 = Dense(64, activation='relu')(x1)\n",
    "    x3 = Dense(32, activation='relu')(x2)\n",
    "    \n",
    "    z_mean = Dense(latent_dim, name='z_mean')(x3)\n",
    "    z_log_var = Dense(latent_dim, name='z_log_var')(x3)\n",
    "    # use reparameterization trick to push the sampling out as input\n",
    "    # note that \"output_shape\" isn't necessary with the TensorFlow backend\n",
    "    z = Lambda(sampling, output_shape=(latent_dim,), name='z')([z_mean, z_log_var])\n",
    "    \n",
    "    return Model([X, y], [z_mean, z_log_var, z], name='encoder')"
   ]
  },
  {
   "cell_type": "markdown",
   "id": "60dde75a",
   "metadata": {},
   "source": [
    "### Define the Decoder"
   ]
  },
  {
   "cell_type": "code",
   "execution_count": 14,
   "id": "367ea004-d93b-4156-9dc5-e7c5df86844e",
   "metadata": {},
   "outputs": [],
   "source": [
    "def create_decoder(z,y):\n",
    "    latent_inputs = Concatenate()([z, y])\n",
    "    x1 = Dense(32, activation='relu')(latent_inputs)\n",
    "    x2 = Dense(64, activation='relu')(x1)\n",
    "    x3 = Dense(32, activation='relu')(x2)\n",
    "\n",
    "    outputs = Dense(input_dim, activation='linear')(x3)\n",
    "\n",
    "    return Model([z, y], outputs, name='decoder')"
   ]
  },
  {
   "cell_type": "code",
   "execution_count": 15,
   "id": "afe1e99e-9687-40bc-b2da-f751fdb9b468",
   "metadata": {},
   "outputs": [
    {
     "name": "stdout",
     "output_type": "stream",
     "text": [
      "Model: \"encoder\"\n",
      "__________________________________________________________________________________________________\n",
      "Layer (type)                    Output Shape         Param #     Connected to                     \n",
      "==================================================================================================\n",
      "input_1 (InputLayer)            [(None, 6)]          0                                            \n",
      "__________________________________________________________________________________________________\n",
      "input_2 (InputLayer)            [(None, 1)]          0                                            \n",
      "__________________________________________________________________________________________________\n",
      "concatenate (Concatenate)       (None, 7)            0           input_1[0][0]                    \n",
      "                                                                 input_2[0][0]                    \n",
      "__________________________________________________________________________________________________\n",
      "dense (Dense)                   (None, 32)           256         concatenate[0][0]                \n",
      "__________________________________________________________________________________________________\n",
      "dense_1 (Dense)                 (None, 64)           2112        dense[0][0]                      \n",
      "__________________________________________________________________________________________________\n",
      "dense_2 (Dense)                 (None, 32)           2080        dense_1[0][0]                    \n",
      "__________________________________________________________________________________________________\n",
      "z_mean (Dense)                  (None, 6)            198         dense_2[0][0]                    \n",
      "__________________________________________________________________________________________________\n",
      "z_log_var (Dense)               (None, 6)            198         dense_2[0][0]                    \n",
      "__________________________________________________________________________________________________\n",
      "z (Lambda)                      (None, 6)            0           z_mean[0][0]                     \n",
      "                                                                 z_log_var[0][0]                  \n",
      "==================================================================================================\n",
      "Total params: 4,844\n",
      "Trainable params: 4,844\n",
      "Non-trainable params: 0\n",
      "__________________________________________________________________________________________________\n"
     ]
    }
   ],
   "source": [
    "# instantiate encoder model\n",
    "encoder = create_encoder(Input(shape=(input_dim,)), Input(shape=(1,)))\n",
    "encoder.summary()\n"
   ]
  },
  {
   "cell_type": "code",
   "execution_count": 16,
   "id": "c018f57a-f73b-433c-a8e9-27b80a03ade0",
   "metadata": {},
   "outputs": [
    {
     "name": "stdout",
     "output_type": "stream",
     "text": [
      "Model: \"decoder\"\n",
      "__________________________________________________________________________________________________\n",
      "Layer (type)                    Output Shape         Param #     Connected to                     \n",
      "==================================================================================================\n",
      "input_3 (InputLayer)            [(None, 6)]          0                                            \n",
      "__________________________________________________________________________________________________\n",
      "input_4 (InputLayer)            [(None, 1)]          0                                            \n",
      "__________________________________________________________________________________________________\n",
      "concatenate_1 (Concatenate)     (None, 7)            0           input_3[0][0]                    \n",
      "                                                                 input_4[0][0]                    \n",
      "__________________________________________________________________________________________________\n",
      "dense_3 (Dense)                 (None, 32)           256         concatenate_1[0][0]              \n",
      "__________________________________________________________________________________________________\n",
      "dense_4 (Dense)                 (None, 64)           2112        dense_3[0][0]                    \n",
      "__________________________________________________________________________________________________\n",
      "dense_5 (Dense)                 (None, 32)           2080        dense_4[0][0]                    \n",
      "__________________________________________________________________________________________________\n",
      "dense_6 (Dense)                 (None, 6)            198         dense_5[0][0]                    \n",
      "==================================================================================================\n",
      "Total params: 4,646\n",
      "Trainable params: 4,646\n",
      "Non-trainable params: 0\n",
      "__________________________________________________________________________________________________\n"
     ]
    }
   ],
   "source": [
    "# instantiate decoder model\n",
    "decoder = create_decoder(Input(shape=(latent_dim,)), Input(shape=(1,)))\n",
    "decoder.summary()\n"
   ]
  },
  {
   "cell_type": "markdown",
   "id": "f252c341",
   "metadata": {},
   "source": [
    "### Define the full VAE model"
   ]
  },
  {
   "cell_type": "code",
   "execution_count": 17,
   "id": "bc0fcfb8-86b6-499f-ba05-8422da6caa78",
   "metadata": {},
   "outputs": [],
   "source": [
    "X_input = Input(shape=(input_dim,))\n",
    "y_input = Input(shape=(1,))\n",
    "z_mean, z_log_var, z = encoder([X_input,y_input])\n",
    "outputs = decoder([z,y_input])\n",
    "\n",
    "cvae = Model([X_input, y_input], outputs)"
   ]
  },
  {
   "cell_type": "markdown",
   "id": "72136fa0",
   "metadata": {},
   "source": [
    "### Define the loss functions"
   ]
  },
  {
   "cell_type": "code",
   "execution_count": 18,
   "id": "90f0dd72-c09d-4bd0-bd0e-6c91d404e37f",
   "metadata": {},
   "outputs": [],
   "source": [
    "def mse_loss_fn(x,  x_decoded_mean):\n",
    "#     mse_loss = mse(x, x_decoded_mean) # objectives.mean_squared_error(x, x_decoded_mean)\n",
    "    mse_loss = tf.reduce_mean(\n",
    "            tf.reduce_sum(\n",
    "                keras.losses.mse(x, x_decoded_mean)\n",
    "            )\n",
    "        )\n",
    "    return mse_loss\n",
    "    \n",
    "def kl_loss_fn(x,  x_decoded_mean):\n",
    "    kl_loss = 1 + z_log_var - K.square(z_mean) - K.exp(z_log_var)\n",
    "    kl_loss = K.sum(kl_loss, axis=-1)\n",
    "    kl_loss *= -0.5\n",
    "    return kl_loss\n",
    "            \n",
    "\n",
    "def vae_loss(x, x_decoded_mean):\n",
    "#         mse_loss = mse(x, x_decoded_mean) # objectives.mean_squared_error(x, x_decoded_mean)\n",
    "    mse_loss = mse_loss_fn(x, x_decoded_mean)\n",
    "    kl_loss = 1 + z_log_var - K.square(z_mean) - K.exp(z_log_var)\n",
    "    kl_loss = K.sum(kl_loss, axis=-1)\n",
    "    kl_loss *= -0.5\n",
    "    beta=10**(-2)  #10**(-6)\n",
    "    loss = K.mean((1-beta)*mse_loss + beta*kl_loss)\n",
    "#         loss = K.mean(mse_loss + kl_loss)\n",
    "    return loss\n"
   ]
  },
  {
   "cell_type": "markdown",
   "id": "2bb20287",
   "metadata": {},
   "source": [
    "### Custom Saver function"
   ]
  },
  {
   "cell_type": "code",
   "execution_count": 19,
   "id": "bc506102-b047-4e87-a4a2-6377488feeb4",
   "metadata": {},
   "outputs": [],
   "source": [
    "class CustomSaver(Callback):\n",
    "    def on_epoch_end(self, epoch, logs={}):\n",
    "           if (k == (iterations-1)):\n",
    "               decoder.save(\"outputs/models/{}/model_cbvae_6var_m{}.h5\".format(folder_name,epoch))\n",
    "               encoder.save(\"outputs/models/{}/encoder_cbvae_6var_m{}.h5\".format(folder_name,epoch))\n",
    "decoderSaver = CustomSaver()"
   ]
  },
  {
   "cell_type": "markdown",
   "id": "59f7fd59",
   "metadata": {},
   "source": [
    "### Other network parameters and model compilation"
   ]
  },
  {
   "cell_type": "code",
   "execution_count": 20,
   "id": "c22a9a26-c7c3-4b2f-9d03-b16ac7d3e36a",
   "metadata": {},
   "outputs": [],
   "source": [
    "learnrate = 0.001\n",
    "iterations = 3\n",
    "lr_limit = 0.001/(2**iterations)\n",
    "history = History()\n",
    "k=0"
   ]
  },
  {
   "cell_type": "code",
   "execution_count": 21,
   "id": "6d208b34-cca6-4c78-a7e6-2371821ae9f9",
   "metadata": {},
   "outputs": [
    {
     "name": "stdout",
     "output_type": "stream",
     "text": [
      "Model: \"model\"\n",
      "__________________________________________________________________________________________________\n",
      "Layer (type)                    Output Shape         Param #     Connected to                     \n",
      "==================================================================================================\n",
      "input_5 (InputLayer)            [(None, 6)]          0                                            \n",
      "__________________________________________________________________________________________________\n",
      "input_6 (InputLayer)            [(None, 1)]          0                                            \n",
      "__________________________________________________________________________________________________\n",
      "encoder (Functional)            [(None, 6), (None, 6 4844        input_5[0][0]                    \n",
      "                                                                 input_6[0][0]                    \n",
      "__________________________________________________________________________________________________\n",
      "decoder (Functional)            (None, 6)            4646        encoder[0][2]                    \n",
      "                                                                 input_6[0][0]                    \n",
      "==================================================================================================\n",
      "Total params: 9,490\n",
      "Trainable params: 9,490\n",
      "Non-trainable params: 0\n",
      "__________________________________________________________________________________________________\n"
     ]
    }
   ],
   "source": [
    "checkpointer = ModelCheckpoint(filepath='outputs/models/%s/cbvae_LHCO2020_20d_e-6.hdf5'%(folder_name), verbose=1, save_best_only=True)\n",
    "opt = Adam(learning_rate=learnrate, beta_1=0.9, beta_2=0.999, epsilon=1e-08, decay=0.0)\n",
    "cvae.compile(optimizer=opt, loss=vae_loss)\n",
    "\n",
    "cvae.summary()"
   ]
  },
  {
   "cell_type": "markdown",
   "id": "b62b04bd",
   "metadata": {},
   "source": [
    "## Training loop"
   ]
  },
  {
   "cell_type": "code",
   "execution_count": null,
   "id": "8482ec67-e112-4b3b-b646-c7232382b557",
   "metadata": {
    "scrolled": true,
    "tags": []
   },
   "outputs": [
    {
     "name": "stdout",
     "output_type": "stream",
     "text": [
      "Train on 849779 samples, validate on 28869 samples\n",
      "WARNING:tensorflow:OMP_NUM_THREADS is no longer used by the default Keras config. To configure the number of threads, use tf.config.threading APIs.\n"
     ]
    },
    {
     "name": "stderr",
     "output_type": "stream",
     "text": [
      "2023-03-28 17:50:35.671893: I tensorflow/core/platform/cpu_feature_guard.cc:142] This TensorFlow binary is optimized with oneAPI Deep Neural Network Library (oneDNN) to use the following CPU instructions in performance-critical operations:  AVX2 FMA\n",
      "To enable them in other operations, rebuild TensorFlow with the appropriate compiler flags.\n",
      "2023-03-28 17:50:36.818510: I tensorflow/core/common_runtime/gpu/gpu_device.cc:1510] Created device /job:localhost/replica:0/task:0/device:GPU:0 with 36911 MB memory:  -> device: 0, name: NVIDIA A100-PCIE-40GB, pci bus id: 0000:c3:00.0, compute capability: 8.0\n"
     ]
    },
    {
     "name": "stdout",
     "output_type": "stream",
     "text": [
      "Epoch 1/1001\n"
     ]
    },
    {
     "name": "stderr",
     "output_type": "stream",
     "text": [
      "2023-03-28 17:50:40.946837: I tensorflow/stream_executor/cuda/cuda_blas.cc:1760] TensorFloat-32 will be used for the matrix multiplication. This will only be logged once.\n"
     ]
    },
    {
     "name": "stdout",
     "output_type": "stream",
     "text": [
      "834560/849779 [============================>.] - ETA: 0s - loss: 130.4071 - mse_loss_fn: 130.7993 - kl_loss_fn: 91.5872\n",
      "Epoch 00001: val_loss improved from inf to 1.98645, saving model to outputs/models/cVAEz6_03-28-2023_wLogit/cbvae_LHCO2020_20d_e-6.hdf5\n",
      "849779/849779 [==============================] - 32s 38us/sample - loss: 128.1084 - mse_loss_fn: 128.4524 - kl_loss_fn: 91.9469 - val_loss: 1.9864 - val_mse_loss_fn: 0.8617 - val_kl_loss_fn: 111.9497\n"
     ]
    },
    {
     "name": "stderr",
     "output_type": "stream",
     "text": [
      "/global/common/software/nersc/pm-2022q4/sw/tensorflow/2.6.0/lib/python3.9/site-packages/keras/engine/training.py:2470: UserWarning: `Model.state_updates` will be removed in a future version. This property should not be used in TensorFlow 2.0, as `updates` are applied automatically.\n",
      "  warnings.warn('`Model.state_updates` will be removed in a future version. '\n"
     ]
    },
    {
     "name": "stdout",
     "output_type": "stream",
     "text": [
      "Epoch 2/1001\n",
      "838656/849779 [============================>.] - ETA: 0s - loss: 1.8691 - mse_loss_fn: 0.8903 - kl_loss_fn: 98.7750\n",
      "Epoch 00002: val_loss improved from 1.98645 to 1.39195, saving model to outputs/models/cVAEz6_03-28-2023_wLogit/cbvae_LHCO2020_20d_e-6.hdf5\n",
      "849779/849779 [==============================] - 2s 2us/sample - loss: 1.8645 - mse_loss_fn: 0.8870 - kl_loss_fn: 98.6367 - val_loss: 1.3919 - val_mse_loss_fn: 0.5125 - val_kl_loss_fn: 87.2409\n",
      "Epoch 3/1001\n",
      "827392/849779 [============================>.] - ETA: 0s - loss: 1.3806 - mse_loss_fn: 0.5942 - kl_loss_fn: 79.2282\n",
      "Epoch 00003: val_loss improved from 1.39195 to 0.99408, saving model to outputs/models/cVAEz6_03-28-2023_wLogit/cbvae_LHCO2020_20d_e-6.hdf5\n",
      "849779/849779 [==============================] - 2s 2us/sample - loss: 1.3737 - mse_loss_fn: 0.5892 - kl_loss_fn: 79.0316 - val_loss: 0.9941 - val_mse_loss_fn: 0.2738 - val_kl_loss_fn: 71.7068\n",
      "Epoch 4/1001\n",
      "847872/849779 [============================>.] - ETA: 0s - loss: 1.1289 - mse_loss_fn: 0.4580 - kl_loss_fn: 67.5504\n",
      "Epoch 00004: val_loss improved from 0.99408 to 0.87089, saving model to outputs/models/cVAEz6_03-28-2023_wLogit/cbvae_LHCO2020_20d_e-6.hdf5\n",
      "849779/849779 [==============================] - 2s 2us/sample - loss: 1.1283 - mse_loss_fn: 0.4574 - kl_loss_fn: 67.5424 - val_loss: 0.8709 - val_mse_loss_fn: 0.2299 - val_kl_loss_fn: 63.7524\n",
      "Epoch 5/1001\n",
      "830464/849779 [============================>.] - ETA: 0s - loss: 1.0086 - mse_loss_fn: 0.4062 - kl_loss_fn: 60.6490\n",
      "Epoch 00005: val_loss improved from 0.87089 to 0.84380, saving model to outputs/models/cVAEz6_03-28-2023_wLogit/cbvae_LHCO2020_20d_e-6.hdf5\n",
      "849779/849779 [==============================] - 2s 2us/sample - loss: 1.0140 - mse_loss_fn: 0.4124 - kl_loss_fn: 60.5900 - val_loss: 0.8438 - val_mse_loss_fn: 0.2603 - val_kl_loss_fn: 58.1624\n",
      "Epoch 6/1001\n",
      "848896/849779 [============================>.] - ETA: 0s - loss: 0.9242 - mse_loss_fn: 0.3703 - kl_loss_fn: 55.7641\n",
      "Epoch 00006: val_loss improved from 0.84380 to 0.72584, saving model to outputs/models/cVAEz6_03-28-2023_wLogit/cbvae_LHCO2020_20d_e-6.hdf5\n",
      "849779/849779 [==============================] - 2s 2us/sample - loss: 0.9240 - mse_loss_fn: 0.3701 - kl_loss_fn: 55.7623 - val_loss: 0.7258 - val_mse_loss_fn: 0.1864 - val_kl_loss_fn: 53.8321\n",
      "Epoch 7/1001\n",
      "830464/849779 [============================>.] - ETA: 0s - loss: 0.8662 - mse_loss_fn: 0.3470 - kl_loss_fn: 52.2727\n",
      "Epoch 00007: val_loss did not improve from 0.72584\n",
      "849779/849779 [==============================] - 2s 2us/sample - loss: 0.8632 - mse_loss_fn: 0.3443 - kl_loss_fn: 52.2328 - val_loss: 0.7331 - val_mse_loss_fn: 0.2251 - val_kl_loss_fn: 50.5328\n",
      "Epoch 8/1001\n",
      "826368/849779 [============================>.] - ETA: 0s - loss: 0.8083 - mse_loss_fn: 0.3184 - kl_loss_fn: 49.3147\n",
      "Epoch 00008: val_loss improved from 0.72584 to 0.68473, saving model to outputs/models/cVAEz6_03-28-2023_wLogit/cbvae_LHCO2020_20d_e-6.hdf5\n",
      "849779/849779 [==============================] - 2s 2us/sample - loss: 0.8053 - mse_loss_fn: 0.3157 - kl_loss_fn: 49.2776 - val_loss: 0.6847 - val_mse_loss_fn: 0.2036 - val_kl_loss_fn: 47.9007\n",
      "Epoch 9/1001\n",
      "840704/849779 [============================>.] - ETA: 0s - loss: 0.7585 - mse_loss_fn: 0.2975 - kl_loss_fn: 46.3988\n",
      "Epoch 00009: val_loss improved from 0.68473 to 0.65355, saving model to outputs/models/cVAEz6_03-28-2023_wLogit/cbvae_LHCO2020_20d_e-6.hdf5\n",
      "849779/849779 [==============================] - 2s 2us/sample - loss: 0.7573 - mse_loss_fn: 0.2964 - kl_loss_fn: 46.3865 - val_loss: 0.6535 - val_mse_loss_fn: 0.2000 - val_kl_loss_fn: 45.0774\n",
      "Epoch 10/1001\n",
      "839680/849779 [============================>.] - ETA: 0s - loss: 0.7085 - mse_loss_fn: 0.2742 - kl_loss_fn: 43.7040\n",
      "Epoch 00010: val_loss improved from 0.65355 to 0.53861, saving model to outputs/models/cVAEz6_03-28-2023_wLogit/cbvae_LHCO2020_20d_e-6.hdf5\n",
      "849779/849779 [==============================] - 2s 2us/sample - loss: 0.7078 - mse_loss_fn: 0.2737 - kl_loss_fn: 43.6907 - val_loss: 0.5386 - val_mse_loss_fn: 0.1130 - val_kl_loss_fn: 42.4187\n",
      "Epoch 11/1001\n",
      "833536/849779 [============================>.] - ETA: 0s - loss: 0.6752 - mse_loss_fn: 0.2638 - kl_loss_fn: 41.4047\n",
      "Epoch 00011: val_loss improved from 0.53861 to 0.49246, saving model to outputs/models/cVAEz6_03-28-2023_wLogit/cbvae_LHCO2020_20d_e-6.hdf5\n",
      "849779/849779 [==============================] - 2s 2us/sample - loss: 0.6733 - mse_loss_fn: 0.2620 - kl_loss_fn: 41.3897 - val_loss: 0.4925 - val_mse_loss_fn: 0.0858 - val_kl_loss_fn: 40.5872\n",
      "Epoch 12/1001\n",
      "848896/849779 [============================>.] - ETA: 0s - loss: 0.6501 - mse_loss_fn: 0.2561 - kl_loss_fn: 39.6578\n",
      "Epoch 00012: val_loss improved from 0.49246 to 0.49102, saving model to outputs/models/cVAEz6_03-28-2023_wLogit/cbvae_LHCO2020_20d_e-6.hdf5\n",
      "849779/849779 [==============================] - 2s 2us/sample - loss: 0.6499 - mse_loss_fn: 0.2559 - kl_loss_fn: 39.6575 - val_loss: 0.4910 - val_mse_loss_fn: 0.0997 - val_kl_loss_fn: 39.0050\n",
      "Epoch 13/1001\n",
      "842752/849779 [============================>.] - ETA: 0s - loss: 0.6147 - mse_loss_fn: 0.2338 - kl_loss_fn: 38.3269\n",
      "Epoch 00013: val_loss did not improve from 0.49102\n",
      "849779/849779 [==============================] - 2s 2us/sample - loss: 0.6143 - mse_loss_fn: 0.2334 - kl_loss_fn: 38.3225 - val_loss: 0.4995 - val_mse_loss_fn: 0.1199 - val_kl_loss_fn: 37.8003\n",
      "Epoch 14/1001\n",
      "842752/849779 [============================>.] - ETA: 0s - loss: 0.5905 - mse_loss_fn: 0.2193 - kl_loss_fn: 37.3432\n",
      "Epoch 00014: val_loss improved from 0.49102 to 0.45225, saving model to outputs/models/cVAEz6_03-28-2023_wLogit/cbvae_LHCO2020_20d_e-6.hdf5\n",
      "849779/849779 [==============================] - 2s 2us/sample - loss: 0.5900 - mse_loss_fn: 0.2187 - kl_loss_fn: 37.3401 - val_loss: 0.4523 - val_mse_loss_fn: 0.0821 - val_kl_loss_fn: 36.9063\n",
      "Epoch 15/1001\n",
      "836608/849779 [============================>.] - ETA: 0s - loss: 0.5784 - mse_loss_fn: 0.2140 - kl_loss_fn: 36.6489\n",
      "Epoch 00015: val_loss did not improve from 0.45225\n",
      "849779/849779 [==============================] - 2s 2us/sample - loss: 0.5807 - mse_loss_fn: 0.2165 - kl_loss_fn: 36.6446 - val_loss: 0.5770 - val_mse_loss_fn: 0.2132 - val_kl_loss_fn: 36.1120\n",
      "Epoch 16/1001\n",
      "833536/849779 [============================>.] - ETA: 0s - loss: 0.5696 - mse_loss_fn: 0.2103 - kl_loss_fn: 36.1377\n",
      "Epoch 00016: val_loss did not improve from 0.45225\n",
      "849779/849779 [==============================] - 2s 2us/sample - loss: 0.5687 - mse_loss_fn: 0.2094 - kl_loss_fn: 36.1331 - val_loss: 0.4827 - val_mse_loss_fn: 0.1214 - val_kl_loss_fn: 35.9704\n",
      "Epoch 17/1001\n",
      "837632/849779 [============================>.] - ETA: 0s - loss: 0.5539 - mse_loss_fn: 0.1986 - kl_loss_fn: 35.7267\n",
      "Epoch 00017: val_loss did not improve from 0.45225\n",
      "849779/849779 [==============================] - 2s 2us/sample - loss: 0.5582 - mse_loss_fn: 0.2030 - kl_loss_fn: 35.7248 - val_loss: 0.5014 - val_mse_loss_fn: 0.1440 - val_kl_loss_fn: 35.5661\n",
      "Epoch 18/1001\n",
      "837632/849779 [============================>.] - ETA: 0s - loss: 0.5467 - mse_loss_fn: 0.1951 - kl_loss_fn: 35.3611\n",
      "Epoch 00018: val_loss did not improve from 0.45225\n",
      "849779/849779 [==============================] - 6s 7us/sample - loss: 0.5483 - mse_loss_fn: 0.1967 - kl_loss_fn: 35.3582 - val_loss: 0.4789 - val_mse_loss_fn: 0.1259 - val_kl_loss_fn: 35.1304\n",
      "Epoch 19/1001\n",
      "829440/849779 [============================>.] - ETA: 0s - loss: 0.5412 - mse_loss_fn: 0.1929 - kl_loss_fn: 35.0197\n",
      "Epoch 00019: val_loss did not improve from 0.45225\n",
      "849779/849779 [==============================] - 2s 2us/sample - loss: 0.5422 - mse_loss_fn: 0.1940 - kl_loss_fn: 35.0172 - val_loss: 0.5015 - val_mse_loss_fn: 0.1498 - val_kl_loss_fn: 34.9734\n",
      "Epoch 20/1001\n",
      "834560/849779 [============================>.] - ETA: 0s - loss: 0.5378 - mse_loss_fn: 0.1924 - kl_loss_fn: 34.7328\n",
      "Epoch 00020: val_loss did not improve from 0.45225\n",
      "849779/849779 [==============================] - 2s 2us/sample - loss: 0.5386 - mse_loss_fn: 0.1933 - kl_loss_fn: 34.7319 - val_loss: 0.8509 - val_mse_loss_fn: 0.4994 - val_kl_loss_fn: 34.5032\n",
      "Epoch 21/1001\n",
      "830464/849779 [============================>.] - ETA: 0s - loss: 0.5375 - mse_loss_fn: 0.1943 - kl_loss_fn: 34.5151\n",
      "Epoch 00021: val_loss improved from 0.45225 to 0.44700, saving model to outputs/models/cVAEz6_03-28-2023_wLogit/cbvae_LHCO2020_20d_e-6.hdf5\n",
      "849779/849779 [==============================] - 14s 17us/sample - loss: 0.5365 - mse_loss_fn: 0.1933 - kl_loss_fn: 34.5128 - val_loss: 0.4470 - val_mse_loss_fn: 0.1012 - val_kl_loss_fn: 34.4436\n",
      "Epoch 22/1001\n",
      "849779/849779 [==============================] - ETA: 0s - loss: 0.5276 - mse_loss_fn: 0.1869 - kl_loss_fn: 34.2567\n",
      "Epoch 00022: val_loss improved from 0.44700 to 0.43060, saving model to outputs/models/cVAEz6_03-28-2023_wLogit/cbvae_LHCO2020_20d_e-6.hdf5\n",
      "849779/849779 [==============================] - 27s 32us/sample - loss: 0.5276 - mse_loss_fn: 0.1869 - kl_loss_fn: 34.2567 - val_loss: 0.4306 - val_mse_loss_fn: 0.0886 - val_kl_loss_fn: 34.0849\n",
      "Epoch 23/1001\n",
      "832512/849779 [============================>.] - ETA: 0s - loss: 0.5219 - mse_loss_fn: 0.1831 - kl_loss_fn: 34.0616\n",
      "Epoch 00023: val_loss did not improve from 0.43060\n",
      "849779/849779 [==============================] - 6s 7us/sample - loss: 0.5228 - mse_loss_fn: 0.1841 - kl_loss_fn: 34.0593 - val_loss: 0.5488 - val_mse_loss_fn: 0.2070 - val_kl_loss_fn: 33.9023\n",
      "Epoch 24/1001\n",
      "843776/849779 [============================>.] - ETA: 0s - loss: 0.5047 - mse_loss_fn: 0.1674 - kl_loss_fn: 33.8919\n",
      "Epoch 00024: val_loss did not improve from 0.43060\n",
      "849779/849779 [==============================] - 2s 2us/sample - loss: 0.5048 - mse_loss_fn: 0.1676 - kl_loss_fn: 33.8914 - val_loss: 0.4614 - val_mse_loss_fn: 0.1223 - val_kl_loss_fn: 33.7449\n",
      "Epoch 25/1001\n",
      "832512/849779 [============================>.] - ETA: 0s - loss: 0.5106 - mse_loss_fn: 0.1753 - kl_loss_fn: 33.7015\n",
      "Epoch 00025: val_loss improved from 0.43060 to 0.41511, saving model to outputs/models/cVAEz6_03-28-2023_wLogit/cbvae_LHCO2020_20d_e-6.hdf5\n",
      "849779/849779 [==============================] - 2s 2us/sample - loss: 0.5087 - mse_loss_fn: 0.1735 - kl_loss_fn: 33.6997 - val_loss: 0.4151 - val_mse_loss_fn: 0.0775 - val_kl_loss_fn: 33.6652\n",
      "Epoch 26/1001\n",
      "837632/849779 [============================>.] - ETA: 0s - loss: 0.5156 - mse_loss_fn: 0.1820 - kl_loss_fn: 33.5455\n",
      "Epoch 00026: val_loss improved from 0.41511 to 0.40452, saving model to outputs/models/cVAEz6_03-28-2023_wLogit/cbvae_LHCO2020_20d_e-6.hdf5\n",
      "849779/849779 [==============================] - 2s 2us/sample - loss: 0.5151 - mse_loss_fn: 0.1815 - kl_loss_fn: 33.5441 - val_loss: 0.4045 - val_mse_loss_fn: 0.0685 - val_kl_loss_fn: 33.5238\n",
      "Epoch 27/1001\n",
      "830464/849779 [============================>.] - ETA: 0s - loss: 0.4921 - mse_loss_fn: 0.1598 - kl_loss_fn: 33.3930\n",
      "Epoch 00027: val_loss improved from 0.40452 to 0.40391, saving model to outputs/models/cVAEz6_03-28-2023_wLogit/cbvae_LHCO2020_20d_e-6.hdf5\n",
      "849779/849779 [==============================] - 2s 2us/sample - loss: 0.4918 - mse_loss_fn: 0.1595 - kl_loss_fn: 33.3924 - val_loss: 0.4039 - val_mse_loss_fn: 0.0703 - val_kl_loss_fn: 33.2693\n",
      "Epoch 28/1001\n",
      "825344/849779 [============================>.] - ETA: 0s - loss: 0.5003 - mse_loss_fn: 0.1692 - kl_loss_fn: 33.2790\n",
      "Epoch 00028: val_loss improved from 0.40391 to 0.39508, saving model to outputs/models/cVAEz6_03-28-2023_wLogit/cbvae_LHCO2020_20d_e-6.hdf5\n",
      "849779/849779 [==============================] - 2s 2us/sample - loss: 0.4992 - mse_loss_fn: 0.1681 - kl_loss_fn: 33.2768 - val_loss: 0.3951 - val_mse_loss_fn: 0.0616 - val_kl_loss_fn: 33.2722\n",
      "Epoch 29/1001\n",
      "829440/849779 [============================>.] - ETA: 0s - loss: 0.4945 - mse_loss_fn: 0.1645 - kl_loss_fn: 33.1654\n",
      "Epoch 00029: val_loss did not improve from 0.39508\n",
      "849779/849779 [==============================] - 2s 2us/sample - loss: 0.4946 - mse_loss_fn: 0.1646 - kl_loss_fn: 33.1634 - val_loss: 0.4071 - val_mse_loss_fn: 0.0739 - val_kl_loss_fn: 33.2255\n",
      "Epoch 30/1001\n",
      "838656/849779 [============================>.] - ETA: 0s - loss: 0.4824 - mse_loss_fn: 0.1534 - kl_loss_fn: 33.0521\n",
      "Epoch 00030: val_loss did not improve from 0.39508\n",
      "849779/849779 [==============================] - 2s 2us/sample - loss: 0.4839 - mse_loss_fn: 0.1549 - kl_loss_fn: 33.0515 - val_loss: 0.4531 - val_mse_loss_fn: 0.1221 - val_kl_loss_fn: 32.9431\n",
      "Epoch 31/1001\n",
      "843776/849779 [============================>.] - ETA: 0s - loss: 0.4989 - mse_loss_fn: 0.1712 - kl_loss_fn: 32.9431\n",
      "Epoch 00031: val_loss did not improve from 0.39508\n",
      "849779/849779 [==============================] - 2s 2us/sample - loss: 0.4983 - mse_loss_fn: 0.1706 - kl_loss_fn: 32.9433 - val_loss: 0.4306 - val_mse_loss_fn: 0.1009 - val_kl_loss_fn: 32.8532\n",
      "Epoch 32/1001\n",
      "840704/849779 [============================>.] - ETA: 0s - loss: 0.4726 - mse_loss_fn: 0.1458 - kl_loss_fn: 32.8283\n",
      "Epoch 00032: val_loss did not improve from 0.39508\n",
      "849779/849779 [==============================] - 2s 2us/sample - loss: 0.4722 - mse_loss_fn: 0.1454 - kl_loss_fn: 32.8263 - val_loss: 0.4016 - val_mse_loss_fn: 0.0740 - val_kl_loss_fn: 32.6610\n",
      "Epoch 33/1001\n",
      "831488/849779 [============================>.] - ETA: 0s - loss: 0.4927 - mse_loss_fn: 0.1672 - kl_loss_fn: 32.7156\n",
      "Epoch 00033: val_loss did not improve from 0.39508\n",
      "849779/849779 [==============================] - 2s 2us/sample - loss: 0.4922 - mse_loss_fn: 0.1667 - kl_loss_fn: 32.7150 - val_loss: 0.4422 - val_mse_loss_fn: 0.1140 - val_kl_loss_fn: 32.6794\n",
      "Epoch 34/1001\n",
      "838656/849779 [============================>.] - ETA: 0s - loss: 0.4698 - mse_loss_fn: 0.1448 - kl_loss_fn: 32.6506\n",
      "Epoch 00034: val_loss did not improve from 0.39508\n",
      "849779/849779 [==============================] - 2s 2us/sample - loss: 0.4705 - mse_loss_fn: 0.1454 - kl_loss_fn: 32.6515 - val_loss: 0.3954 - val_mse_loss_fn: 0.0678 - val_kl_loss_fn: 32.6773\n",
      "Epoch 35/1001\n",
      "836608/849779 [============================>.] - ETA: 0s - loss: 0.4806 - mse_loss_fn: 0.1565 - kl_loss_fn: 32.5579\n",
      "Epoch 00035: val_loss did not improve from 0.39508\n",
      "849779/849779 [==============================] - 2s 2us/sample - loss: 0.4820 - mse_loss_fn: 0.1580 - kl_loss_fn: 32.5570 - val_loss: 0.4093 - val_mse_loss_fn: 0.0821 - val_kl_loss_fn: 32.6150\n",
      "Epoch 36/1001\n",
      "841728/849779 [============================>.] - ETA: 0s - loss: 0.4710 - mse_loss_fn: 0.1477 - kl_loss_fn: 32.4764\n",
      "Epoch 00036: val_loss improved from 0.39508 to 0.38884, saving model to outputs/models/cVAEz6_03-28-2023_wLogit/cbvae_LHCO2020_20d_e-6.hdf5\n",
      "849779/849779 [==============================] - 2s 2us/sample - loss: 0.4705 - mse_loss_fn: 0.1472 - kl_loss_fn: 32.4764 - val_loss: 0.3888 - val_mse_loss_fn: 0.0627 - val_kl_loss_fn: 32.5363\n",
      "Epoch 37/1001\n",
      "841728/849779 [============================>.] - ETA: 0s - loss: 0.4767 - mse_loss_fn: 0.1540 - kl_loss_fn: 32.4252\n",
      "Epoch 00037: val_loss did not improve from 0.38884\n",
      "849779/849779 [==============================] - 2s 2us/sample - loss: 0.4775 - mse_loss_fn: 0.1548 - kl_loss_fn: 32.4249 - val_loss: 0.4317 - val_mse_loss_fn: 0.1066 - val_kl_loss_fn: 32.4015\n",
      "Epoch 38/1001\n",
      "849779/849779 [==============================] - ETA: 0s - loss: 0.4584 - mse_loss_fn: 0.1363 - kl_loss_fn: 32.3503\n",
      "Epoch 00038: val_loss did not improve from 0.38884\n",
      "849779/849779 [==============================] - 2s 2us/sample - loss: 0.4584 - mse_loss_fn: 0.1363 - kl_loss_fn: 32.3503 - val_loss: 0.3909 - val_mse_loss_fn: 0.0673 - val_kl_loss_fn: 32.2627\n",
      "Epoch 39/1001\n",
      "827392/849779 [============================>.] - ETA: 0s - loss: 0.4676 - mse_loss_fn: 0.1463 - kl_loss_fn: 32.2772\n",
      "Epoch 00039: val_loss improved from 0.38884 to 0.38467, saving model to outputs/models/cVAEz6_03-28-2023_wLogit/cbvae_LHCO2020_20d_e-6.hdf5\n",
      "849779/849779 [==============================] - 5s 6us/sample - loss: 0.4683 - mse_loss_fn: 0.1470 - kl_loss_fn: 32.2756 - val_loss: 0.3847 - val_mse_loss_fn: 0.0618 - val_kl_loss_fn: 32.2059\n",
      "Epoch 40/1001\n",
      "849779/849779 [==============================] - ETA: 0s - loss: 0.4654 - mse_loss_fn: 0.1448 - kl_loss_fn: 32.2011\n",
      "Epoch 00040: val_loss did not improve from 0.38467\n",
      "849779/849779 [==============================] - 2s 2us/sample - loss: 0.4654 - mse_loss_fn: 0.1448 - kl_loss_fn: 32.2011 - val_loss: 0.3850 - val_mse_loss_fn: 0.0634 - val_kl_loss_fn: 32.1206\n",
      "Epoch 41/1001\n",
      "844800/849779 [============================>.] - ETA: 0s - loss: 0.4646 - mse_loss_fn: 0.1448 - kl_loss_fn: 32.1195\n",
      "Epoch 00041: val_loss did not improve from 0.38467\n",
      "849779/849779 [==============================] - 2s 2us/sample - loss: 0.4676 - mse_loss_fn: 0.1479 - kl_loss_fn: 32.1189 - val_loss: 0.6812 - val_mse_loss_fn: 0.3567 - val_kl_loss_fn: 32.0103\n",
      "Epoch 42/1001\n",
      "836608/849779 [============================>.] - ETA: 0s - loss: 0.4509 - mse_loss_fn: 0.1316 - kl_loss_fn: 32.0635\n",
      "Epoch 00042: val_loss improved from 0.38467 to 0.36859, saving model to outputs/models/cVAEz6_03-28-2023_wLogit/cbvae_LHCO2020_20d_e-6.hdf5\n",
      "849779/849779 [==============================] - 15s 17us/sample - loss: 0.4498 - mse_loss_fn: 0.1305 - kl_loss_fn: 32.0627 - val_loss: 0.3686 - val_mse_loss_fn: 0.0479 - val_kl_loss_fn: 32.0044\n",
      "Epoch 43/1001\n",
      "848896/849779 [============================>.] - ETA: 0s - loss: 0.4591 - mse_loss_fn: 0.1403 - kl_loss_fn: 32.0175\n",
      "Epoch 00043: val_loss did not improve from 0.36859\n",
      "849779/849779 [==============================] - 12s 14us/sample - loss: 0.4592 - mse_loss_fn: 0.1404 - kl_loss_fn: 32.0176 - val_loss: 0.4088 - val_mse_loss_fn: 0.0877 - val_kl_loss_fn: 31.9865\n",
      "Epoch 44/1001\n",
      "842752/849779 [============================>.] - ETA: 0s - loss: 0.4543 - mse_loss_fn: 0.1360 - kl_loss_fn: 31.9683\n",
      "Epoch 00044: val_loss did not improve from 0.36859\n",
      "849779/849779 [==============================] - 2s 2us/sample - loss: 0.4547 - mse_loss_fn: 0.1364 - kl_loss_fn: 31.9669 - val_loss: 0.4096 - val_mse_loss_fn: 0.0901 - val_kl_loss_fn: 31.8285\n",
      "Epoch 45/1001\n",
      "838656/849779 [============================>.] - ETA: 0s - loss: 0.4535 - mse_loss_fn: 0.1357 - kl_loss_fn: 31.9153\n",
      "Epoch 00045: val_loss did not improve from 0.36859\n",
      "849779/849779 [==============================] - 2s 2us/sample - loss: 0.4527 - mse_loss_fn: 0.1349 - kl_loss_fn: 31.9157 - val_loss: 0.3696 - val_mse_loss_fn: 0.0513 - val_kl_loss_fn: 31.8024\n",
      "Epoch 46/1001\n",
      "834560/849779 [============================>.] - ETA: 0s - loss: 0.4520 - mse_loss_fn: 0.1347 - kl_loss_fn: 31.8664\n",
      "Epoch 00046: val_loss did not improve from 0.36859\n",
      "849779/849779 [==============================] - 2s 2us/sample - loss: 0.4529 - mse_loss_fn: 0.1356 - kl_loss_fn: 31.8649 - val_loss: 0.3918 - val_mse_loss_fn: 0.0736 - val_kl_loss_fn: 31.7223\n",
      "Epoch 47/1001\n",
      "840704/849779 [============================>.] - ETA: 0s - loss: 0.4547 - mse_loss_fn: 0.1380 - kl_loss_fn: 31.8055\n",
      "Epoch 00047: val_loss improved from 0.36859 to 0.36745, saving model to outputs/models/cVAEz6_03-28-2023_wLogit/cbvae_LHCO2020_20d_e-6.hdf5\n",
      "849779/849779 [==============================] - 2s 2us/sample - loss: 0.4541 - mse_loss_fn: 0.1374 - kl_loss_fn: 31.8041 - val_loss: 0.3674 - val_mse_loss_fn: 0.0504 - val_kl_loss_fn: 31.6396\n",
      "Epoch 48/1001\n",
      "837632/849779 [============================>.] - ETA: 0s - loss: 0.4502 - mse_loss_fn: 0.1339 - kl_loss_fn: 31.7658\n",
      "Epoch 00048: val_loss did not improve from 0.36745\n",
      "849779/849779 [==============================] - 2s 2us/sample - loss: 0.4494 - mse_loss_fn: 0.1330 - kl_loss_fn: 31.7660 - val_loss: 0.3774 - val_mse_loss_fn: 0.0596 - val_kl_loss_fn: 31.7107\n",
      "Epoch 49/1001\n",
      "833536/849779 [============================>.] - ETA: 0s - loss: 0.4371 - mse_loss_fn: 0.1211 - kl_loss_fn: 31.7164\n",
      "Epoch 00049: val_loss did not improve from 0.36745\n",
      "849779/849779 [==============================] - 2s 2us/sample - loss: 0.4378 - mse_loss_fn: 0.1219 - kl_loss_fn: 31.7151 - val_loss: 0.4944 - val_mse_loss_fn: 0.1758 - val_kl_loss_fn: 31.6284\n",
      "Epoch 50/1001\n",
      "848896/849779 [============================>.] - ETA: 0s - loss: 0.4510 - mse_loss_fn: 0.1357 - kl_loss_fn: 31.6668\n",
      "Epoch 00050: val_loss did not improve from 0.36745\n",
      "849779/849779 [==============================] - 2s 2us/sample - loss: 0.4510 - mse_loss_fn: 0.1357 - kl_loss_fn: 31.6671 - val_loss: 0.3914 - val_mse_loss_fn: 0.0741 - val_kl_loss_fn: 31.6309\n",
      "Epoch 51/1001\n",
      "829440/849779 [============================>.] - ETA: 0s - loss: 0.4425 - mse_loss_fn: 0.1276 - kl_loss_fn: 31.6197\n",
      "Epoch 00051: val_loss improved from 0.36745 to 0.36642, saving model to outputs/models/cVAEz6_03-28-2023_wLogit/cbvae_LHCO2020_20d_e-6.hdf5\n",
      "849779/849779 [==============================] - 2s 2us/sample - loss: 0.4423 - mse_loss_fn: 0.1274 - kl_loss_fn: 31.6185 - val_loss: 0.3664 - val_mse_loss_fn: 0.0501 - val_kl_loss_fn: 31.5683\n",
      "Epoch 52/1001\n",
      "838656/849779 [============================>.] - ETA: 0s - loss: 0.4382 - mse_loss_fn: 0.1236 - kl_loss_fn: 31.5858\n",
      "Epoch 00052: val_loss did not improve from 0.36642\n",
      "849779/849779 [==============================] - 2s 2us/sample - loss: 0.4380 - mse_loss_fn: 0.1234 - kl_loss_fn: 31.5855 - val_loss: 0.3922 - val_mse_loss_fn: 0.0760 - val_kl_loss_fn: 31.5418\n",
      "Epoch 53/1001\n",
      "840704/849779 [============================>.] - ETA: 0s - loss: 0.4436 - mse_loss_fn: 0.1295 - kl_loss_fn: 31.5431\n",
      "Epoch 00053: val_loss did not improve from 0.36642\n",
      "849779/849779 [==============================] - 2s 2us/sample - loss: 0.4434 - mse_loss_fn: 0.1293 - kl_loss_fn: 31.5429 - val_loss: 0.3796 - val_mse_loss_fn: 0.0640 - val_kl_loss_fn: 31.4766\n",
      "Epoch 54/1001\n",
      "829440/849779 [============================>.] - ETA: 0s - loss: 0.4352 - mse_loss_fn: 0.1214 - kl_loss_fn: 31.5028\n",
      "Epoch 00054: val_loss improved from 0.36642 to 0.36517, saving model to outputs/models/cVAEz6_03-28-2023_wLogit/cbvae_LHCO2020_20d_e-6.hdf5\n",
      "849779/849779 [==============================] - 2s 2us/sample - loss: 0.4355 - mse_loss_fn: 0.1217 - kl_loss_fn: 31.5022 - val_loss: 0.3652 - val_mse_loss_fn: 0.0499 - val_kl_loss_fn: 31.4547\n",
      "Epoch 55/1001\n",
      "827392/849779 [============================>.] - ETA: 0s - loss: 0.4353 - mse_loss_fn: 0.1219 - kl_loss_fn: 31.4665\n",
      "Epoch 00055: val_loss did not improve from 0.36517\n",
      "849779/849779 [==============================] - 2s 2us/sample - loss: 0.4348 - mse_loss_fn: 0.1214 - kl_loss_fn: 31.4670 - val_loss: 0.3959 - val_mse_loss_fn: 0.0812 - val_kl_loss_fn: 31.3628\n",
      "Epoch 56/1001\n",
      "848896/849779 [============================>.] - ETA: 0s - loss: 0.4400 - mse_loss_fn: 0.1269 - kl_loss_fn: 31.4351\n",
      "Epoch 00056: val_loss did not improve from 0.36517\n",
      "849779/849779 [==============================] - 2s 2us/sample - loss: 0.4400 - mse_loss_fn: 0.1269 - kl_loss_fn: 31.4350 - val_loss: 0.3661 - val_mse_loss_fn: 0.0520 - val_kl_loss_fn: 31.3441\n",
      "Epoch 57/1001\n",
      "834560/849779 [============================>.] - ETA: 0s - loss: 0.4324 - mse_loss_fn: 0.1196 - kl_loss_fn: 31.3997\n",
      "Epoch 00057: val_loss did not improve from 0.36517\n",
      "849779/849779 [==============================] - 2s 2us/sample - loss: 0.4316 - mse_loss_fn: 0.1188 - kl_loss_fn: 31.3991 - val_loss: 0.3786 - val_mse_loss_fn: 0.0645 - val_kl_loss_fn: 31.3196\n",
      "Epoch 58/1001\n",
      "846848/849779 [============================>.] - ETA: 0s - loss: 0.4372 - mse_loss_fn: 0.1249 - kl_loss_fn: 31.3642\n",
      "Epoch 00058: val_loss improved from 0.36517 to 0.36072, saving model to outputs/models/cVAEz6_03-28-2023_wLogit/cbvae_LHCO2020_20d_e-6.hdf5\n",
      "849779/849779 [==============================] - 2s 2us/sample - loss: 0.4370 - mse_loss_fn: 0.1246 - kl_loss_fn: 31.3639 - val_loss: 0.3607 - val_mse_loss_fn: 0.0473 - val_kl_loss_fn: 31.2846\n",
      "Epoch 59/1001\n",
      "848896/849779 [============================>.] - ETA: 0s - loss: 0.4285 - mse_loss_fn: 0.1164 - kl_loss_fn: 31.3317\n",
      "Epoch 00059: val_loss did not improve from 0.36072\n",
      "849779/849779 [==============================] - 2s 2us/sample - loss: 0.4285 - mse_loss_fn: 0.1163 - kl_loss_fn: 31.3318 - val_loss: 0.3629 - val_mse_loss_fn: 0.0497 - val_kl_loss_fn: 31.2570\n",
      "Epoch 60/1001\n",
      "825344/849779 [============================>.] - ETA: 0s - loss: 0.4230 - mse_loss_fn: 0.1111 - kl_loss_fn: 31.2916\n",
      "Epoch 00060: val_loss did not improve from 0.36072\n",
      "849779/849779 [==============================] - 2s 2us/sample - loss: 0.4226 - mse_loss_fn: 0.1108 - kl_loss_fn: 31.2909 - val_loss: 0.3685 - val_mse_loss_fn: 0.0555 - val_kl_loss_fn: 31.2297\n",
      "Epoch 61/1001\n",
      "847872/849779 [============================>.] - ETA: 0s - loss: 0.4333 - mse_loss_fn: 0.1220 - kl_loss_fn: 31.2494\n",
      "Epoch 00061: val_loss did not improve from 0.36072\n",
      "849779/849779 [==============================] - 2s 2us/sample - loss: 0.4334 - mse_loss_fn: 0.1221 - kl_loss_fn: 31.2495 - val_loss: 0.3700 - val_mse_loss_fn: 0.0568 - val_kl_loss_fn: 31.2484\n",
      "Epoch 62/1001\n",
      "828416/849779 [============================>.] - ETA: 0s - loss: 0.4250 - mse_loss_fn: 0.1139 - kl_loss_fn: 31.2252\n",
      "Epoch 00062: val_loss did not improve from 0.36072\n",
      "849779/849779 [==============================] - 2s 2us/sample - loss: 0.4246 - mse_loss_fn: 0.1134 - kl_loss_fn: 31.2246 - val_loss: 0.3845 - val_mse_loss_fn: 0.0711 - val_kl_loss_fn: 31.2550\n",
      "Epoch 63/1001\n",
      "841728/849779 [============================>.] - ETA: 0s - loss: 0.4222 - mse_loss_fn: 0.1113 - kl_loss_fn: 31.1987- ETA: 4s - loss: 0.4221 - \n",
      "Epoch 00063: val_loss improved from 0.36072 to 0.35733, saving model to outputs/models/cVAEz6_03-28-2023_wLogit/cbvae_LHCO2020_20d_e-6.hdf5\n",
      "849779/849779 [==============================] - 6s 7us/sample - loss: 0.4217 - mse_loss_fn: 0.1108 - kl_loss_fn: 31.1979 - val_loss: 0.3573 - val_mse_loss_fn: 0.0456 - val_kl_loss_fn: 31.1171\n",
      "Epoch 64/1001\n",
      "836608/849779 [============================>.] - ETA: 0s - loss: 0.4316 - mse_loss_fn: 0.1211 - kl_loss_fn: 31.1732\n",
      "Epoch 00064: val_loss did not improve from 0.35733\n",
      "849779/849779 [==============================] - 2s 2us/sample - loss: 0.4317 - mse_loss_fn: 0.1212 - kl_loss_fn: 31.1729 - val_loss: 0.3637 - val_mse_loss_fn: 0.0511 - val_kl_loss_fn: 31.1979\n",
      "Epoch 65/1001\n",
      "848896/849779 [============================>.] - ETA: 0s - loss: 0.4232 - mse_loss_fn: 0.1130 - kl_loss_fn: 31.1344\n",
      "Epoch 00065: val_loss did not improve from 0.35733\n",
      "849779/849779 [==============================] - 16s 19us/sample - loss: 0.4232 - mse_loss_fn: 0.1130 - kl_loss_fn: 31.1346 - val_loss: 0.3633 - val_mse_loss_fn: 0.0513 - val_kl_loss_fn: 31.1393\n",
      "Epoch 66/1001\n",
      "844800/849779 [============================>.] - ETA: 0s - loss: 0.4187 - mse_loss_fn: 0.1087 - kl_loss_fn: 31.1085\n",
      "Epoch 00066: val_loss did not improve from 0.35733\n",
      "849779/849779 [==============================] - 4s 5us/sample - loss: 0.4186 - mse_loss_fn: 0.1086 - kl_loss_fn: 31.1092 - val_loss: 0.3729 - val_mse_loss_fn: 0.0611 - val_kl_loss_fn: 31.1154\n",
      "Epoch 67/1001\n",
      "844800/849779 [============================>.] - ETA: 0s - loss: 0.4204 - mse_loss_fn: 0.1106 - kl_loss_fn: 31.0926\n",
      "Epoch 00067: val_loss did not improve from 0.35733\n",
      "849779/849779 [==============================] - 23s 27us/sample - loss: 0.4205 - mse_loss_fn: 0.1107 - kl_loss_fn: 31.0926 - val_loss: 0.3798 - val_mse_loss_fn: 0.0683 - val_kl_loss_fn: 31.0650\n",
      "Epoch 68/1001\n",
      "831488/849779 [============================>.] - ETA: 0s - loss: 0.4234 - mse_loss_fn: 0.1140 - kl_loss_fn: 31.0564\n",
      "Epoch 00068: val_loss did not improve from 0.35733\n",
      "849779/849779 [==============================] - 5s 6us/sample - loss: 0.4222 - mse_loss_fn: 0.1128 - kl_loss_fn: 31.0557 - val_loss: 0.3587 - val_mse_loss_fn: 0.0479 - val_kl_loss_fn: 31.0204\n",
      "Epoch 69/1001\n",
      "839680/849779 [============================>.] - ETA: 0s - loss: 0.4267 - mse_loss_fn: 0.1176 - kl_loss_fn: 31.0268\n",
      "Epoch 00069: val_loss did not improve from 0.35733\n",
      "849779/849779 [==============================] - 2s 2us/sample - loss: 0.4264 - mse_loss_fn: 0.1174 - kl_loss_fn: 31.0265 - val_loss: 0.3708 - val_mse_loss_fn: 0.0597 - val_kl_loss_fn: 31.0281\n",
      "Epoch 70/1001\n",
      "842752/849779 [============================>.] - ETA: 0s - loss: 0.4195 - mse_loss_fn: 0.1105 - kl_loss_fn: 31.0089\n",
      "Epoch 00070: val_loss did not improve from 0.35733\n",
      "849779/849779 [==============================] - 2s 2us/sample - loss: 0.4191 - mse_loss_fn: 0.1101 - kl_loss_fn: 31.0086 - val_loss: 0.3610 - val_mse_loss_fn: 0.0500 - val_kl_loss_fn: 31.0364\n",
      "Epoch 71/1001\n",
      "831488/849779 [============================>.] - ETA: 0s - loss: 0.4208 - mse_loss_fn: 0.1121 - kl_loss_fn: 30.9750\n",
      "Epoch 00071: val_loss improved from 0.35733 to 0.35589, saving model to outputs/models/cVAEz6_03-28-2023_wLogit/cbvae_LHCO2020_20d_e-6.hdf5\n",
      "849779/849779 [==============================] - 2s 2us/sample - loss: 0.4202 - mse_loss_fn: 0.1116 - kl_loss_fn: 30.9748 - val_loss: 0.3559 - val_mse_loss_fn: 0.0462 - val_kl_loss_fn: 30.9071\n",
      "Epoch 72/1001\n",
      "828416/849779 [============================>.] - ETA: 0s - loss: 0.4155 - mse_loss_fn: 0.1071 - kl_loss_fn: 30.9528\n",
      "Epoch 00072: val_loss did not improve from 0.35589\n",
      "849779/849779 [==============================] - 2s 2us/sample - loss: 0.4152 - mse_loss_fn: 0.1068 - kl_loss_fn: 30.9517 - val_loss: 0.3647 - val_mse_loss_fn: 0.0550 - val_kl_loss_fn: 30.9029\n",
      "Epoch 73/1001\n",
      "830464/849779 [============================>.] - ETA: 0s - loss: 0.4126 - mse_loss_fn: 0.1043 - kl_loss_fn: 30.9334\n",
      "Epoch 00073: val_loss did not improve from 0.35589\n",
      "849779/849779 [==============================] - 2s 2us/sample - loss: 0.4121 - mse_loss_fn: 0.1038 - kl_loss_fn: 30.9334 - val_loss: 0.3629 - val_mse_loss_fn: 0.0535 - val_kl_loss_fn: 30.8676\n",
      "Epoch 74/1001\n",
      "846848/849779 [============================>.] - ETA: 0s - loss: 0.4117 - mse_loss_fn: 0.1037 - kl_loss_fn: 30.9060\n",
      "Epoch 00074: val_loss did not improve from 0.35589\n",
      "849779/849779 [==============================] - 2s 2us/sample - loss: 0.4115 - mse_loss_fn: 0.1035 - kl_loss_fn: 30.9065 - val_loss: 0.3624 - val_mse_loss_fn: 0.0528 - val_kl_loss_fn: 30.8942\n",
      "Epoch 75/1001\n",
      "849779/849779 [==============================] - ETA: 0s - loss: 0.4201 - mse_loss_fn: 0.1125 - kl_loss_fn: 30.8768\n",
      "Epoch 00075: val_loss did not improve from 0.35589\n",
      "849779/849779 [==============================] - 2s 2us/sample - loss: 0.4201 - mse_loss_fn: 0.1125 - kl_loss_fn: 30.8768 - val_loss: 0.3865 - val_mse_loss_fn: 0.0775 - val_kl_loss_fn: 30.7904\n",
      "Epoch 76/1001\n",
      "838656/849779 [============================>.] - ETA: 0s - loss: 0.4062 - mse_loss_fn: 0.0985 - kl_loss_fn: 30.8638\n",
      "Epoch 00076: val_loss did not improve from 0.35589\n",
      "849779/849779 [==============================] - 2s 2us/sample - loss: 0.4065 - mse_loss_fn: 0.0989 - kl_loss_fn: 30.8641 - val_loss: 0.3981 - val_mse_loss_fn: 0.0884 - val_kl_loss_fn: 30.8588\n",
      "Epoch 77/1001\n",
      "840704/849779 [============================>.] - ETA: 0s - loss: 0.4116 - mse_loss_fn: 0.1043 - kl_loss_fn: 30.8389\n",
      "Epoch 00077: val_loss did not improve from 0.35589\n",
      "849779/849779 [==============================] - 2s 2us/sample - loss: 0.4115 - mse_loss_fn: 0.1042 - kl_loss_fn: 30.8382 - val_loss: 0.3654 - val_mse_loss_fn: 0.0572 - val_kl_loss_fn: 30.7473\n",
      "Epoch 78/1001\n",
      "836608/849779 [============================>.] - ETA: 0s - loss: 0.4111 - mse_loss_fn: 0.1039 - kl_loss_fn: 30.8201\n",
      "Epoch 00078: val_loss did not improve from 0.35589\n",
      "849779/849779 [==============================] - 2s 2us/sample - loss: 0.4110 - mse_loss_fn: 0.1039 - kl_loss_fn: 30.8186 - val_loss: 0.4076 - val_mse_loss_fn: 0.0983 - val_kl_loss_fn: 30.7910\n",
      "Epoch 79/1001\n",
      "848896/849779 [============================>.] - ETA: 0s - loss: 0.4134 - mse_loss_fn: 0.1066 - kl_loss_fn: 30.7906\n",
      "Epoch 00079: val_loss did not improve from 0.35589\n",
      "849779/849779 [==============================] - 2s 2us/sample - loss: 0.4134 - mse_loss_fn: 0.1066 - kl_loss_fn: 30.7905 - val_loss: 0.3854 - val_mse_loss_fn: 0.0767 - val_kl_loss_fn: 30.7652\n",
      "Epoch 80/1001\n",
      "827392/849779 [============================>.] - ETA: 0s - loss: 0.4081 - mse_loss_fn: 0.1013 - kl_loss_fn: 30.7748\n",
      "Epoch 00080: val_loss improved from 0.35589 to 0.34798, saving model to outputs/models/cVAEz6_03-28-2023_wLogit/cbvae_LHCO2020_20d_e-6.hdf5\n",
      "849779/849779 [==============================] - 2s 2us/sample - loss: 0.4077 - mse_loss_fn: 0.1010 - kl_loss_fn: 30.7740 - val_loss: 0.3480 - val_mse_loss_fn: 0.0399 - val_kl_loss_fn: 30.7520\n",
      "Epoch 81/1001\n",
      "825344/849779 [============================>.] - ETA: 0s - loss: 0.4140 - mse_loss_fn: 0.1076 - kl_loss_fn: 30.7488\n",
      "Epoch 00081: val_loss did not improve from 0.34798\n",
      "849779/849779 [==============================] - 2s 2us/sample - loss: 0.4126 - mse_loss_fn: 0.1061 - kl_loss_fn: 30.7481 - val_loss: 0.3514 - val_mse_loss_fn: 0.0446 - val_kl_loss_fn: 30.6342\n",
      "Epoch 82/1001\n",
      "835584/849779 [============================>.] - ETA: 0s - loss: 0.4056 - mse_loss_fn: 0.0993 - kl_loss_fn: 30.7306\n",
      "Epoch 00082: val_loss did not improve from 0.34798\n",
      "849779/849779 [==============================] - 2s 2us/sample - loss: 0.4056 - mse_loss_fn: 0.0993 - kl_loss_fn: 30.7290 - val_loss: 0.3670 - val_mse_loss_fn: 0.0592 - val_kl_loss_fn: 30.6948\n",
      "Epoch 83/1001\n",
      "827392/849779 [============================>.] - ETA: 0s - loss: 0.4050 - mse_loss_fn: 0.0989 - kl_loss_fn: 30.7103\n",
      "Epoch 00083: val_loss did not improve from 0.34798\n",
      "849779/849779 [==============================] - 2s 2us/sample - loss: 0.4055 - mse_loss_fn: 0.0994 - kl_loss_fn: 30.7110 - val_loss: 0.4016 - val_mse_loss_fn: 0.0938 - val_kl_loss_fn: 30.6663\n",
      "Epoch 84/1001\n",
      "830464/849779 [============================>.] - ETA: 0s - loss: 0.4043 - mse_loss_fn: 0.0984 - kl_loss_fn: 30.6917\n",
      "Epoch 00084: val_loss did not improve from 0.34798\n",
      "849779/849779 [==============================] - 2s 2us/sample - loss: 0.4039 - mse_loss_fn: 0.0979 - kl_loss_fn: 30.6908 - val_loss: 0.3708 - val_mse_loss_fn: 0.0644 - val_kl_loss_fn: 30.5552\n",
      "Epoch 85/1001\n",
      "838656/849779 [============================>.] - ETA: 0s - loss: 0.4056 - mse_loss_fn: 0.0999 - kl_loss_fn: 30.6731\n",
      "Epoch 00085: val_loss did not improve from 0.34798\n",
      "849779/849779 [==============================] - 2s 2us/sample - loss: 0.4057 - mse_loss_fn: 0.1000 - kl_loss_fn: 30.6714 - val_loss: 0.3653 - val_mse_loss_fn: 0.0582 - val_kl_loss_fn: 30.6333\n",
      "Epoch 86/1001\n",
      "839680/849779 [============================>.] - ETA: 0s - loss: 0.4057 - mse_loss_fn: 0.1003 - kl_loss_fn: 30.6467\n",
      "Epoch 00086: val_loss did not improve from 0.34798\n",
      "849779/849779 [==============================] - 2s 2us/sample - loss: 0.4056 - mse_loss_fn: 0.1001 - kl_loss_fn: 30.6473 - val_loss: 0.3582 - val_mse_loss_fn: 0.0506 - val_kl_loss_fn: 30.7004\n",
      "Epoch 87/1001\n",
      "841728/849779 [============================>.] - ETA: 0s - loss: 0.4061 - mse_loss_fn: 0.1007 - kl_loss_fn: 30.6333\n",
      "Epoch 00087: val_loss did not improve from 0.34798\n",
      "849779/849779 [==============================] - 2s 2us/sample - loss: 0.4059 - mse_loss_fn: 0.1006 - kl_loss_fn: 30.6325 - val_loss: 0.3778 - val_mse_loss_fn: 0.0713 - val_kl_loss_fn: 30.5530\n",
      "Epoch 88/1001\n",
      "848896/849779 [============================>.] - ETA: 0s - loss: 0.4031 - mse_loss_fn: 0.0980 - kl_loss_fn: 30.6006\n",
      "Epoch 00088: val_loss did not improve from 0.34798\n",
      "849779/849779 [==============================] - 6s 7us/sample - loss: 0.4031 - mse_loss_fn: 0.0980 - kl_loss_fn: 30.6008 - val_loss: 0.3754 - val_mse_loss_fn: 0.0686 - val_kl_loss_fn: 30.5862\n",
      "Epoch 89/1001\n",
      "838656/849779 [============================>.] - ETA: 0s - loss: 0.4043 - mse_loss_fn: 0.0994 - kl_loss_fn: 30.5877\n",
      "Epoch 00089: val_loss did not improve from 0.34798\n",
      "849779/849779 [==============================] - 2s 2us/sample - loss: 0.4039 - mse_loss_fn: 0.0990 - kl_loss_fn: 30.5875 - val_loss: 0.3563 - val_mse_loss_fn: 0.0498 - val_kl_loss_fn: 30.5820\n",
      "Epoch 90/1001\n",
      "840704/849779 [============================>.] - ETA: 0s - loss: 0.4006 - mse_loss_fn: 0.0958 - kl_loss_fn: 30.5735\n",
      "Epoch 00090: val_loss did not improve from 0.34798\n",
      "849779/849779 [==============================] - 2s 2us/sample - loss: 0.4011 - mse_loss_fn: 0.0963 - kl_loss_fn: 30.5722 - val_loss: 0.3745 - val_mse_loss_fn: 0.0693 - val_kl_loss_fn: 30.4253\n",
      "Epoch 91/1001\n",
      "837632/849779 [============================>.] - ETA: 0s - loss: 0.3988 - mse_loss_fn: 0.0942 - kl_loss_fn: 30.5519\n",
      "Epoch 00091: val_loss did not improve from 0.34798\n",
      "849779/849779 [==============================] - 19s 23us/sample - loss: 0.3992 - mse_loss_fn: 0.0946 - kl_loss_fn: 30.5521 - val_loss: 0.4066 - val_mse_loss_fn: 0.1001 - val_kl_loss_fn: 30.5140\n",
      "Epoch 92/1001\n",
      "845824/849779 [============================>.] - ETA: 0s - loss: 0.4022 - mse_loss_fn: 0.0979 - kl_loss_fn: 30.5280\n",
      "Epoch 00092: val_loss did not improve from 0.34798\n",
      "849779/849779 [==============================] - 21s 25us/sample - loss: 0.4021 - mse_loss_fn: 0.0978 - kl_loss_fn: 30.5275 - val_loss: 0.3817 - val_mse_loss_fn: 0.0763 - val_kl_loss_fn: 30.4492\n",
      "Epoch 93/1001\n",
      "840704/849779 [============================>.] - ETA: 0s - loss: 0.3986 - mse_loss_fn: 0.0943 - kl_loss_fn: 30.5200\n",
      "Epoch 00093: val_loss did not improve from 0.34798\n",
      "849779/849779 [==============================] - 4s 5us/sample - loss: 0.3985 - mse_loss_fn: 0.0943 - kl_loss_fn: 30.5198 - val_loss: 0.3618 - val_mse_loss_fn: 0.0568 - val_kl_loss_fn: 30.4286\n",
      "Epoch 94/1001\n",
      "838656/849779 [============================>.] - ETA: 0s - loss: 0.3988 - mse_loss_fn: 0.0949 - kl_loss_fn: 30.4873\n",
      "Epoch 00094: val_loss did not improve from 0.34798\n",
      "849779/849779 [==============================] - 2s 3us/sample - loss: 0.3988 - mse_loss_fn: 0.0949 - kl_loss_fn: 30.4870 - val_loss: 0.3511 - val_mse_loss_fn: 0.0464 - val_kl_loss_fn: 30.4048\n",
      "Epoch 95/1001\n",
      "836608/849779 [============================>.] - ETA: 0s - loss: 0.3992 - mse_loss_fn: 0.0954 - kl_loss_fn: 30.4743\n",
      "Epoch 00095: val_loss improved from 0.34798 to 0.34550, saving model to outputs/models/cVAEz6_03-28-2023_wLogit/cbvae_LHCO2020_20d_e-6.hdf5\n",
      "849779/849779 [==============================] - 2s 2us/sample - loss: 0.3986 - mse_loss_fn: 0.0948 - kl_loss_fn: 30.4741 - val_loss: 0.3455 - val_mse_loss_fn: 0.0406 - val_kl_loss_fn: 30.4472\n",
      "Epoch 96/1001\n",
      "831488/849779 [============================>.] - ETA: 0s - loss: 0.3998 - mse_loss_fn: 0.0962 - kl_loss_fn: 30.4595\n",
      "Epoch 00096: val_loss did not improve from 0.34550\n",
      "849779/849779 [==============================] - 2s 2us/sample - loss: 0.4003 - mse_loss_fn: 0.0967 - kl_loss_fn: 30.4594 - val_loss: 0.3595 - val_mse_loss_fn: 0.0548 - val_kl_loss_fn: 30.3930\n",
      "Epoch 97/1001\n",
      "847872/849779 [============================>.] - ETA: 0s - loss: 0.3974 - mse_loss_fn: 0.0940 - kl_loss_fn: 30.4369\n",
      "Epoch 00097: val_loss did not improve from 0.34550\n",
      "849779/849779 [==============================] - 2s 2us/sample - loss: 0.3975 - mse_loss_fn: 0.0941 - kl_loss_fn: 30.4369 - val_loss: 0.3639 - val_mse_loss_fn: 0.0593 - val_kl_loss_fn: 30.3784\n",
      "Epoch 98/1001\n",
      "831488/849779 [============================>.] - ETA: 0s - loss: 0.3957 - mse_loss_fn: 0.0924 - kl_loss_fn: 30.4234\n",
      "Epoch 00098: val_loss did not improve from 0.34550\n",
      "849779/849779 [==============================] - 2s 2us/sample - loss: 0.3974 - mse_loss_fn: 0.0941 - kl_loss_fn: 30.4234 - val_loss: 0.3688 - val_mse_loss_fn: 0.0651 - val_kl_loss_fn: 30.2874\n",
      "Epoch 99/1001\n",
      "831488/849779 [============================>.] - ETA: 0s - loss: 0.3967 - mse_loss_fn: 0.0936 - kl_loss_fn: 30.4082\n",
      "Epoch 00099: val_loss did not improve from 0.34550\n",
      "849779/849779 [==============================] - 2s 2us/sample - loss: 0.3964 - mse_loss_fn: 0.0932 - kl_loss_fn: 30.4078 - val_loss: 0.3652 - val_mse_loss_fn: 0.0601 - val_kl_loss_fn: 30.4255\n",
      "Epoch 100/1001\n",
      "843776/849779 [============================>.] - ETA: 0s - loss: 0.3940 - mse_loss_fn: 0.0910 - kl_loss_fn: 30.3964\n",
      "Epoch 00100: val_loss did not improve from 0.34550\n",
      "849779/849779 [==============================] - 2s 2us/sample - loss: 0.3943 - mse_loss_fn: 0.0912 - kl_loss_fn: 30.3960 - val_loss: 0.3673 - val_mse_loss_fn: 0.0625 - val_kl_loss_fn: 30.3952\n",
      "Epoch 101/1001\n",
      "849779/849779 [==============================] - ETA: 0s - loss: 0.3957 - mse_loss_fn: 0.0929 - kl_loss_fn: 30.3743\n",
      "Epoch 00101: val_loss did not improve from 0.34550\n",
      "849779/849779 [==============================] - 2s 2us/sample - loss: 0.3957 - mse_loss_fn: 0.0929 - kl_loss_fn: 30.3743 - val_loss: 0.3553 - val_mse_loss_fn: 0.0518 - val_kl_loss_fn: 30.2862\n",
      "Epoch 102/1001\n",
      "842752/849779 [============================>.] - ETA: 0s - loss: 0.3960 - mse_loss_fn: 0.0935 - kl_loss_fn: 30.3497\n",
      "Epoch 00102: val_loss did not improve from 0.34550\n",
      "849779/849779 [==============================] - 2s 2us/sample - loss: 0.3961 - mse_loss_fn: 0.0935 - kl_loss_fn: 30.3501 - val_loss: 0.3666 - val_mse_loss_fn: 0.0634 - val_kl_loss_fn: 30.2337\n",
      "Epoch 103/1001\n",
      "826368/849779 [============================>.] - ETA: 0s - loss: 0.3935 - mse_loss_fn: 0.0911 - kl_loss_fn: 30.3341\n",
      "Epoch 00103: val_loss did not improve from 0.34550\n",
      "849779/849779 [==============================] - 2s 2us/sample - loss: 0.3931 - mse_loss_fn: 0.0906 - kl_loss_fn: 30.3345 - val_loss: 0.3573 - val_mse_loss_fn: 0.0538 - val_kl_loss_fn: 30.2729\n",
      "Epoch 104/1001\n",
      "842752/849779 [============================>.] - ETA: 0s - loss: 0.3932 - mse_loss_fn: 0.0909 - kl_loss_fn: 30.3192\n",
      "Epoch 00104: val_loss improved from 0.34550 to 0.34113, saving model to outputs/models/cVAEz6_03-28-2023_wLogit/cbvae_LHCO2020_20d_e-6.hdf5\n",
      "849779/849779 [==============================] - 2s 2us/sample - loss: 0.3931 - mse_loss_fn: 0.0908 - kl_loss_fn: 30.3195 - val_loss: 0.3411 - val_mse_loss_fn: 0.0376 - val_kl_loss_fn: 30.2989\n",
      "Epoch 105/1001\n",
      "843776/849779 [============================>.] - ETA: 0s - loss: 0.3898 - mse_loss_fn: 0.0876 - kl_loss_fn: 30.3037\n",
      "Epoch 00105: val_loss did not improve from 0.34113\n",
      "849779/849779 [==============================] - 2s 2us/sample - loss: 0.3902 - mse_loss_fn: 0.0881 - kl_loss_fn: 30.3031 - val_loss: 0.3716 - val_mse_loss_fn: 0.0679 - val_kl_loss_fn: 30.2922\n",
      "Epoch 106/1001\n",
      "845824/849779 [============================>.] - ETA: 0s - loss: 0.3954 - mse_loss_fn: 0.0935 - kl_loss_fn: 30.2855\n",
      "Epoch 00106: val_loss did not improve from 0.34113\n",
      "849779/849779 [==============================] - 2s 2us/sample - loss: 0.3955 - mse_loss_fn: 0.0936 - kl_loss_fn: 30.2856 - val_loss: 0.3768 - val_mse_loss_fn: 0.0735 - val_kl_loss_fn: 30.2289\n",
      "Epoch 107/1001\n",
      "830464/849779 [============================>.] - ETA: 0s - loss: 0.3915 - mse_loss_fn: 0.0897 - kl_loss_fn: 30.2709\n",
      "Epoch 00107: val_loss did not improve from 0.34113\n",
      "849779/849779 [==============================] - 2s 2us/sample - loss: 0.3905 - mse_loss_fn: 0.0887 - kl_loss_fn: 30.2704 - val_loss: 0.3485 - val_mse_loss_fn: 0.0458 - val_kl_loss_fn: 30.2113\n",
      "Epoch 108/1001\n",
      "836608/849779 [============================>.] - ETA: 0s - loss: 0.3901 - mse_loss_fn: 0.0885 - kl_loss_fn: 30.2496\n",
      "Epoch 00108: val_loss did not improve from 0.34113\n",
      "849779/849779 [==============================] - 2s 2us/sample - loss: 0.3900 - mse_loss_fn: 0.0884 - kl_loss_fn: 30.2494 - val_loss: 0.3469 - val_mse_loss_fn: 0.0437 - val_kl_loss_fn: 30.2602\n",
      "Epoch 109/1001\n",
      "840704/849779 [============================>.] - ETA: 0s - loss: 0.3937 - mse_loss_fn: 0.0922 - kl_loss_fn: 30.2368\n",
      "Epoch 00109: val_loss did not improve from 0.34113\n",
      "849779/849779 [==============================] - 2s 2us/sample - loss: 0.3938 - mse_loss_fn: 0.0923 - kl_loss_fn: 30.2373 - val_loss: 0.3661 - val_mse_loss_fn: 0.0626 - val_kl_loss_fn: 30.2702\n",
      "Epoch 110/1001\n",
      "839680/849779 [============================>.] - ETA: 0s - loss: 0.3891 - mse_loss_fn: 0.0878 - kl_loss_fn: 30.2177\n",
      "Epoch 00110: val_loss did not improve from 0.34113\n",
      "849779/849779 [==============================] - 2s 2us/sample - loss: 0.3893 - mse_loss_fn: 0.0880 - kl_loss_fn: 30.2183 - val_loss: 0.3558 - val_mse_loss_fn: 0.0527 - val_kl_loss_fn: 30.2416\n",
      "Epoch 111/1001\n",
      "830464/849779 [============================>.] - ETA: 0s - loss: 0.3856 - mse_loss_fn: 0.0845 - kl_loss_fn: 30.2011\n",
      "Epoch 00111: val_loss did not improve from 0.34113\n",
      "849779/849779 [==============================] - 6s 7us/sample - loss: 0.3852 - mse_loss_fn: 0.0840 - kl_loss_fn: 30.2011 - val_loss: 0.3601 - val_mse_loss_fn: 0.0574 - val_kl_loss_fn: 30.2017\n",
      "Epoch 112/1001\n",
      "846848/849779 [============================>.] - ETA: 0s - loss: 0.3911 - mse_loss_fn: 0.0902 - kl_loss_fn: 30.1836\n",
      "Epoch 00112: val_loss did not improve from 0.34113\n",
      "849779/849779 [==============================] - 2s 2us/sample - loss: 0.3910 - mse_loss_fn: 0.0901 - kl_loss_fn: 30.1838 - val_loss: 0.3485 - val_mse_loss_fn: 0.0462 - val_kl_loss_fn: 30.1723\n",
      "Epoch 113/1001\n",
      "843776/849779 [============================>.] - ETA: 0s - loss: 0.3887 - mse_loss_fn: 0.0879 - kl_loss_fn: 30.1706\n",
      "Epoch 00113: val_loss did not improve from 0.34113\n",
      "849779/849779 [==============================] - 2s 2us/sample - loss: 0.3884 - mse_loss_fn: 0.0876 - kl_loss_fn: 30.1705 - val_loss: 0.3477 - val_mse_loss_fn: 0.0458 - val_kl_loss_fn: 30.1458\n",
      "Epoch 114/1001\n",
      "840704/849779 [============================>.] - ETA: 0s - loss: 0.3895 - mse_loss_fn: 0.0888 - kl_loss_fn: 30.1580- ETA: 4s - l\n",
      "Epoch 00114: val_loss did not improve from 0.34113\n",
      "849779/849779 [==============================] - 17s 20us/sample - loss: 0.3894 - mse_loss_fn: 0.0888 - kl_loss_fn: 30.1571 - val_loss: 0.3451 - val_mse_loss_fn: 0.0432 - val_kl_loss_fn: 30.1395\n",
      "Epoch 115/1001\n",
      "849779/849779 [==============================] - ETA: 0s - loss: 0.3862 - mse_loss_fn: 0.0857 - kl_loss_fn: 30.1306\n",
      "Epoch 00115: val_loss improved from 0.34113 to 0.33989, saving model to outputs/models/cVAEz6_03-28-2023_wLogit/cbvae_LHCO2020_20d_e-6.hdf5\n",
      "849779/849779 [==============================] - 19s 22us/sample - loss: 0.3862 - mse_loss_fn: 0.0857 - kl_loss_fn: 30.1306 - val_loss: 0.3399 - val_mse_loss_fn: 0.0387 - val_kl_loss_fn: 30.0709\n",
      "Epoch 116/1001\n",
      "841728/849779 [============================>.] - ETA: 0s - loss: 0.3846 - mse_loss_fn: 0.0842 - kl_loss_fn: 30.1276\n",
      "Epoch 00116: val_loss did not improve from 0.33989\n",
      "849779/849779 [==============================] - 2s 2us/sample - loss: 0.3850 - mse_loss_fn: 0.0845 - kl_loss_fn: 30.1284 - val_loss: 0.3477 - val_mse_loss_fn: 0.0465 - val_kl_loss_fn: 30.0661\n",
      "Epoch 117/1001\n",
      "845824/849779 [============================>.] - ETA: 0s - loss: 0.3856 - mse_loss_fn: 0.0853 - kl_loss_fn: 30.1096\n",
      "Epoch 00117: val_loss did not improve from 0.33989\n",
      "849779/849779 [==============================] - 2s 2us/sample - loss: 0.3855 - mse_loss_fn: 0.0852 - kl_loss_fn: 30.1094 - val_loss: 0.3548 - val_mse_loss_fn: 0.0528 - val_kl_loss_fn: 30.1374\n",
      "Epoch 118/1001\n",
      "843776/849779 [============================>.] - ETA: 0s - loss: 0.3848 - mse_loss_fn: 0.0847 - kl_loss_fn: 30.0964\n",
      "Epoch 00118: val_loss did not improve from 0.33989\n",
      "849779/849779 [==============================] - 2s 2us/sample - loss: 0.3850 - mse_loss_fn: 0.0848 - kl_loss_fn: 30.0961 - val_loss: 0.3927 - val_mse_loss_fn: 0.0911 - val_kl_loss_fn: 30.0401\n",
      "Epoch 119/1001\n",
      "828416/849779 [============================>.] - ETA: 0s - loss: 0.3883 - mse_loss_fn: 0.0885 - kl_loss_fn: 30.0716\n",
      "Epoch 00119: val_loss did not improve from 0.33989\n",
      "849779/849779 [==============================] - 2s 2us/sample - loss: 0.3880 - mse_loss_fn: 0.0882 - kl_loss_fn: 30.0711 - val_loss: 0.3409 - val_mse_loss_fn: 0.0390 - val_kl_loss_fn: 30.1377\n",
      "Epoch 120/1001\n",
      "846848/849779 [============================>.] - ETA: 0s - loss: 0.3830 - mse_loss_fn: 0.0832 - kl_loss_fn: 30.0631\n",
      "Epoch 00120: val_loss did not improve from 0.33989\n",
      "849779/849779 [==============================] - 2s 2us/sample - loss: 0.3829 - mse_loss_fn: 0.0831 - kl_loss_fn: 30.0631 - val_loss: 0.3569 - val_mse_loss_fn: 0.0557 - val_kl_loss_fn: 30.0448\n",
      "Epoch 121/1001\n",
      "835584/849779 [============================>.] - ETA: 0s - loss: 0.3829 - mse_loss_fn: 0.0832 - kl_loss_fn: 30.0469\n",
      "Epoch 00121: val_loss did not improve from 0.33989\n",
      "849779/849779 [==============================] - 2s 2us/sample - loss: 0.3833 - mse_loss_fn: 0.0837 - kl_loss_fn: 30.0472 - val_loss: 0.3694 - val_mse_loss_fn: 0.0682 - val_kl_loss_fn: 30.0351\n",
      "Epoch 122/1001\n",
      "838656/849779 [============================>.] - ETA: 0s - loss: 0.3859 - mse_loss_fn: 0.0864 - kl_loss_fn: 30.0299\n",
      "Epoch 00122: val_loss did not improve from 0.33989\n",
      "849779/849779 [==============================] - 2s 2us/sample - loss: 0.3857 - mse_loss_fn: 0.0863 - kl_loss_fn: 30.0290 - val_loss: 0.3411 - val_mse_loss_fn: 0.0411 - val_kl_loss_fn: 29.9414\n",
      "Epoch 123/1001\n",
      "830464/849779 [============================>.] - ETA: 0s - loss: 0.3794 - mse_loss_fn: 0.0800 - kl_loss_fn: 30.0162\n",
      "Epoch 00123: val_loss did not improve from 0.33989\n",
      "849779/849779 [==============================] - 2s 2us/sample - loss: 0.3792 - mse_loss_fn: 0.0798 - kl_loss_fn: 30.0170 - val_loss: 0.3623 - val_mse_loss_fn: 0.0619 - val_kl_loss_fn: 29.9629\n",
      "Epoch 124/1001\n",
      "837632/849779 [============================>.] - ETA: 0s - loss: 0.3857 - mse_loss_fn: 0.0865 - kl_loss_fn: 30.0021\n",
      "Epoch 00124: val_loss did not improve from 0.33989\n",
      "849779/849779 [==============================] - 2s 2us/sample - loss: 0.3856 - mse_loss_fn: 0.0865 - kl_loss_fn: 30.0026 - val_loss: 0.3505 - val_mse_loss_fn: 0.0495 - val_kl_loss_fn: 30.0440\n",
      "Epoch 125/1001\n",
      "826368/849779 [============================>.] - ETA: 0s - loss: 0.3808 - mse_loss_fn: 0.0817 - kl_loss_fn: 29.9919\n",
      "Epoch 00125: val_loss did not improve from 0.33989\n",
      "849779/849779 [==============================] - 2s 2us/sample - loss: 0.3806 - mse_loss_fn: 0.0815 - kl_loss_fn: 29.9919 - val_loss: 0.3457 - val_mse_loss_fn: 0.0461 - val_kl_loss_fn: 29.9025\n",
      "Epoch 126/1001\n",
      "837632/849779 [============================>.] - ETA: 0s - loss: 0.3769 - mse_loss_fn: 0.0780 - kl_loss_fn: 29.9739\n",
      "Epoch 00126: val_loss did not improve from 0.33989\n",
      "849779/849779 [==============================] - 2s 2us/sample - loss: 0.3767 - mse_loss_fn: 0.0778 - kl_loss_fn: 29.9735 - val_loss: 0.3490 - val_mse_loss_fn: 0.0502 - val_kl_loss_fn: 29.8167\n",
      "Epoch 127/1001\n",
      "837632/849779 [============================>.] - ETA: 0s - loss: 0.3842 - mse_loss_fn: 0.0854 - kl_loss_fn: 29.9624\n",
      "Epoch 00127: val_loss did not improve from 0.33989\n",
      "849779/849779 [==============================] - 2s 2us/sample - loss: 0.3840 - mse_loss_fn: 0.0852 - kl_loss_fn: 29.9624 - val_loss: 0.3430 - val_mse_loss_fn: 0.0435 - val_kl_loss_fn: 29.8910\n",
      "Epoch 128/1001\n",
      "846848/849779 [============================>.] - ETA: 0s - loss: 0.3809 - mse_loss_fn: 0.0822 - kl_loss_fn: 29.9495\n",
      "Epoch 00128: val_loss improved from 0.33989 to 0.33779, saving model to outputs/models/cVAEz6_03-28-2023_wLogit/cbvae_LHCO2020_20d_e-6.hdf5\n",
      "849779/849779 [==============================] - 2s 2us/sample - loss: 0.3808 - mse_loss_fn: 0.0821 - kl_loss_fn: 29.9492 - val_loss: 0.3378 - val_mse_loss_fn: 0.0391 - val_kl_loss_fn: 29.8201\n",
      "Epoch 129/1001\n",
      "830464/849779 [============================>.] - ETA: 0s - loss: 0.3807 - mse_loss_fn: 0.0822 - kl_loss_fn: 29.9342\n",
      "Epoch 00129: val_loss did not improve from 0.33779\n",
      "849779/849779 [==============================] - 2s 2us/sample - loss: 0.3800 - mse_loss_fn: 0.0815 - kl_loss_fn: 29.9342 - val_loss: 0.3388 - val_mse_loss_fn: 0.0397 - val_kl_loss_fn: 29.8671\n",
      "Epoch 130/1001\n",
      "843776/849779 [============================>.] - ETA: 0s - loss: 0.3841 - mse_loss_fn: 0.0858 - kl_loss_fn: 29.9232\n",
      "Epoch 00130: val_loss did not improve from 0.33779\n",
      "849779/849779 [==============================] - 2s 2us/sample - loss: 0.3842 - mse_loss_fn: 0.0858 - kl_loss_fn: 29.9234 - val_loss: 0.3449 - val_mse_loss_fn: 0.0452 - val_kl_loss_fn: 29.9136\n",
      "Epoch 131/1001\n",
      "826368/849779 [============================>.] - ETA: 0s - loss: 0.3806 - mse_loss_fn: 0.0823 - kl_loss_fn: 29.9151\n",
      "Epoch 00131: val_loss did not improve from 0.33779\n",
      "849779/849779 [==============================] - 2s 2us/sample - loss: 0.3804 - mse_loss_fn: 0.0821 - kl_loss_fn: 29.9143 - val_loss: 0.3689 - val_mse_loss_fn: 0.0688 - val_kl_loss_fn: 29.9198\n",
      "Epoch 132/1001\n",
      "832512/849779 [============================>.] - ETA: 0s - loss: 0.3771 - mse_loss_fn: 0.0788 - kl_loss_fn: 29.9044\n",
      "Epoch 00132: val_loss did not improve from 0.33779\n",
      "849779/849779 [==============================] - 2s 2us/sample - loss: 0.3769 - mse_loss_fn: 0.0786 - kl_loss_fn: 29.9038 - val_loss: 0.3405 - val_mse_loss_fn: 0.0418 - val_kl_loss_fn: 29.8191\n",
      "Epoch 133/1001\n",
      "835584/849779 [============================>.] - ETA: 0s - loss: 0.3783 - mse_loss_fn: 0.0802 - kl_loss_fn: 29.8900\n",
      "Epoch 00133: val_loss did not improve from 0.33779\n",
      "849779/849779 [==============================] - 2s 2us/sample - loss: 0.3778 - mse_loss_fn: 0.0797 - kl_loss_fn: 29.8899 - val_loss: 0.3380 - val_mse_loss_fn: 0.0387 - val_kl_loss_fn: 29.8757\n",
      "Epoch 134/1001\n",
      "846848/849779 [============================>.] - ETA: 0s - loss: 0.3807 - mse_loss_fn: 0.0827 - kl_loss_fn: 29.8784\n",
      "Epoch 00134: val_loss did not improve from 0.33779\n",
      "849779/849779 [==============================] - 2s 2us/sample - loss: 0.3806 - mse_loss_fn: 0.0827 - kl_loss_fn: 29.8781 - val_loss: 0.3504 - val_mse_loss_fn: 0.0518 - val_kl_loss_fn: 29.7982\n",
      "Epoch 135/1001\n",
      "841728/849779 [============================>.] - ETA: 0s - loss: 0.3758 - mse_loss_fn: 0.0779 - kl_loss_fn: 29.8634\n",
      "Epoch 00135: val_loss did not improve from 0.33779\n",
      "849779/849779 [==============================] - 2s 2us/sample - loss: 0.3755 - mse_loss_fn: 0.0777 - kl_loss_fn: 29.8636 - val_loss: 0.3385 - val_mse_loss_fn: 0.0398 - val_kl_loss_fn: 29.8161\n",
      "Epoch 136/1001\n",
      "831488/849779 [============================>.] - ETA: 0s - loss: 0.3773 - mse_loss_fn: 0.0796 - kl_loss_fn: 29.8528\n",
      "Epoch 00136: val_loss did not improve from 0.33779\n",
      "849779/849779 [==============================] - 2s 2us/sample - loss: 0.3771 - mse_loss_fn: 0.0794 - kl_loss_fn: 29.8521 - val_loss: 0.3510 - val_mse_loss_fn: 0.0526 - val_kl_loss_fn: 29.7771\n",
      "Epoch 137/1001\n",
      "828416/849779 [============================>.] - ETA: 0s - loss: 0.3782 - mse_loss_fn: 0.0805 - kl_loss_fn: 29.8436\n",
      "Epoch 00137: val_loss did not improve from 0.33779\n",
      "849779/849779 [==============================] - 6s 7us/sample - loss: 0.3787 - mse_loss_fn: 0.0811 - kl_loss_fn: 29.8448 - val_loss: 0.3565 - val_mse_loss_fn: 0.0578 - val_kl_loss_fn: 29.7988\n",
      "Epoch 138/1001\n",
      "825344/849779 [============================>.] - ETA: 0s - loss: 0.3753 - mse_loss_fn: 0.0778 - kl_loss_fn: 29.8331\n",
      "Epoch 00138: val_loss did not improve from 0.33779\n",
      "849779/849779 [==============================] - 2s 2us/sample - loss: 0.3753 - mse_loss_fn: 0.0777 - kl_loss_fn: 29.8320 - val_loss: 0.3417 - val_mse_loss_fn: 0.0428 - val_kl_loss_fn: 29.8276\n",
      "Epoch 139/1001\n",
      "848896/849779 [============================>.] - ETA: 0s - loss: 0.3761 - mse_loss_fn: 0.0787 - kl_loss_fn: 29.8191\n",
      "Epoch 00139: val_loss did not improve from 0.33779\n",
      "849779/849779 [==============================] - 9s 11us/sample - loss: 0.3761 - mse_loss_fn: 0.0787 - kl_loss_fn: 29.8193 - val_loss: 0.3482 - val_mse_loss_fn: 0.0498 - val_kl_loss_fn: 29.7744\n",
      "Epoch 140/1001\n",
      "849779/849779 [==============================] - ETA: 0s - loss: 0.3757 - mse_loss_fn: 0.0784 - kl_loss_fn: 29.8054\n",
      "Epoch 00140: val_loss did not improve from 0.33779\n",
      "849779/849779 [==============================] - 8s 10us/sample - loss: 0.3757 - mse_loss_fn: 0.0784 - kl_loss_fn: 29.8054 - val_loss: 0.3510 - val_mse_loss_fn: 0.0522 - val_kl_loss_fn: 29.8085\n",
      "Epoch 141/1001\n",
      "849779/849779 [==============================] - ETA: 0s - loss: 0.3757 - mse_loss_fn: 0.0785 - kl_loss_fn: 29.7959\n",
      "Epoch 00141: val_loss did not improve from 0.33779\n",
      "849779/849779 [==============================] - 17s 20us/sample - loss: 0.3757 - mse_loss_fn: 0.0785 - kl_loss_fn: 29.7959 - val_loss: 0.3400 - val_mse_loss_fn: 0.0414 - val_kl_loss_fn: 29.8095\n",
      "Epoch 142/1001\n",
      "849779/849779 [==============================] - ETA: 0s - loss: 0.3735 - mse_loss_fn: 0.0764 - kl_loss_fn: 29.7868\n",
      "Epoch 00142: val_loss did not improve from 0.33779\n",
      "849779/849779 [==============================] - 7s 8us/sample - loss: 0.3735 - mse_loss_fn: 0.0764 - kl_loss_fn: 29.7868 - val_loss: 0.3449 - val_mse_loss_fn: 0.0467 - val_kl_loss_fn: 29.7632\n",
      "Epoch 143/1001\n",
      "835584/849779 [============================>.] - ETA: 0s - loss: 0.3775 - mse_loss_fn: 0.0805 - kl_loss_fn: 29.7769\n",
      "Epoch 00143: val_loss did not improve from 0.33779\n",
      "849779/849779 [==============================] - 3s 4us/sample - loss: 0.3771 - mse_loss_fn: 0.0802 - kl_loss_fn: 29.7766 - val_loss: 0.3499 - val_mse_loss_fn: 0.0521 - val_kl_loss_fn: 29.7205\n",
      "Epoch 144/1001\n",
      "848896/849779 [============================>.] - ETA: 0s - loss: 0.3708 - mse_loss_fn: 0.0739 - kl_loss_fn: 29.7645\n",
      "Epoch 00144: val_loss did not improve from 0.33779\n",
      "849779/849779 [==============================] - 2s 2us/sample - loss: 0.3708 - mse_loss_fn: 0.0739 - kl_loss_fn: 29.7646 - val_loss: 0.3475 - val_mse_loss_fn: 0.0495 - val_kl_loss_fn: 29.7331\n",
      "Epoch 145/1001\n",
      "829440/849779 [============================>.] - ETA: 0s - loss: 0.3762 - mse_loss_fn: 0.0794 - kl_loss_fn: 29.7583\n",
      "Epoch 00145: val_loss did not improve from 0.33779\n",
      "849779/849779 [==============================] - 2s 2us/sample - loss: 0.3765 - mse_loss_fn: 0.0797 - kl_loss_fn: 29.7592 - val_loss: 0.3652 - val_mse_loss_fn: 0.0668 - val_kl_loss_fn: 29.7539\n",
      "Epoch 146/1001\n",
      "824320/849779 [============================>.] - ETA: 0s - loss: 0.3739 - mse_loss_fn: 0.0772 - kl_loss_fn: 29.7477\n",
      "Epoch 00146: val_loss did not improve from 0.33779\n",
      "849779/849779 [==============================] - 2s 2us/sample - loss: 0.3731 - mse_loss_fn: 0.0764 - kl_loss_fn: 29.7473 - val_loss: 0.3381 - val_mse_loss_fn: 0.0402 - val_kl_loss_fn: 29.7427\n",
      "Epoch 147/1001\n",
      "839680/849779 [============================>.] - ETA: 0s - loss: 0.3742 - mse_loss_fn: 0.0776 - kl_loss_fn: 29.7388\n",
      "Epoch 00147: val_loss did not improve from 0.33779\n",
      "849779/849779 [==============================] - 2s 2us/sample - loss: 0.3740 - mse_loss_fn: 0.0774 - kl_loss_fn: 29.7395 - val_loss: 0.3431 - val_mse_loss_fn: 0.0455 - val_kl_loss_fn: 29.7030\n",
      "Epoch 148/1001\n",
      "840704/849779 [============================>.] - ETA: 0s - loss: 0.3745 - mse_loss_fn: 0.0780 - kl_loss_fn: 29.7258\n",
      "Epoch 00148: val_loss improved from 0.33779 to 0.33695, saving model to outputs/models/cVAEz6_03-28-2023_wLogit/cbvae_LHCO2020_20d_e-6.hdf5\n",
      "849779/849779 [==============================] - 2s 2us/sample - loss: 0.3743 - mse_loss_fn: 0.0778 - kl_loss_fn: 29.7262 - val_loss: 0.3369 - val_mse_loss_fn: 0.0397 - val_kl_loss_fn: 29.6740\n",
      "Epoch 149/1001\n",
      "833536/849779 [============================>.] - ETA: 0s - loss: 0.3724 - mse_loss_fn: 0.0760 - kl_loss_fn: 29.7204\n",
      "Epoch 00149: val_loss did not improve from 0.33695\n",
      "849779/849779 [==============================] - 2s 2us/sample - loss: 0.3721 - mse_loss_fn: 0.0757 - kl_loss_fn: 29.7205 - val_loss: 0.3409 - val_mse_loss_fn: 0.0439 - val_kl_loss_fn: 29.6386\n",
      "Epoch 150/1001\n",
      "849779/849779 [==============================] - ETA: 0s - loss: 0.3746 - mse_loss_fn: 0.0783 - kl_loss_fn: 29.7095\n",
      "Epoch 00150: val_loss did not improve from 0.33695\n",
      "849779/849779 [==============================] - 2s 2us/sample - loss: 0.3746 - mse_loss_fn: 0.0783 - kl_loss_fn: 29.7095 - val_loss: 0.3530 - val_mse_loss_fn: 0.0562 - val_kl_loss_fn: 29.6041\n",
      "Epoch 151/1001\n",
      "839680/849779 [============================>.] - ETA: 0s - loss: 0.3719 - mse_loss_fn: 0.0757 - kl_loss_fn: 29.7046\n",
      "Epoch 00151: val_loss did not improve from 0.33695\n",
      "849779/849779 [==============================] - 2s 2us/sample - loss: 0.3718 - mse_loss_fn: 0.0755 - kl_loss_fn: 29.7045 - val_loss: 0.3417 - val_mse_loss_fn: 0.0446 - val_kl_loss_fn: 29.6528\n",
      "Epoch 152/1001\n",
      "843776/849779 [============================>.] - ETA: 0s - loss: 0.3744 - mse_loss_fn: 0.0782 - kl_loss_fn: 29.6926\n",
      "Epoch 00152: val_loss did not improve from 0.33695\n",
      "849779/849779 [==============================] - 2s 2us/sample - loss: 0.3745 - mse_loss_fn: 0.0783 - kl_loss_fn: 29.6924 - val_loss: 0.3378 - val_mse_loss_fn: 0.0407 - val_kl_loss_fn: 29.6580\n",
      "Epoch 153/1001\n",
      "826368/849779 [============================>.] - ETA: 0s - loss: 0.3708 - mse_loss_fn: 0.0747 - kl_loss_fn: 29.6846\n",
      "Epoch 00153: val_loss did not improve from 0.33695\n",
      "849779/849779 [==============================] - 2s 2us/sample - loss: 0.3709 - mse_loss_fn: 0.0748 - kl_loss_fn: 29.6828 - val_loss: 0.3407 - val_mse_loss_fn: 0.0437 - val_kl_loss_fn: 29.6446\n",
      "Epoch 154/1001\n",
      "842752/849779 [============================>.] - ETA: 0s - loss: 0.3720 - mse_loss_fn: 0.0760 - kl_loss_fn: 29.6785\n",
      "Epoch 00154: val_loss did not improve from 0.33695\n",
      "849779/849779 [==============================] - 2s 2us/sample - loss: 0.3718 - mse_loss_fn: 0.0758 - kl_loss_fn: 29.6777 - val_loss: 0.3450 - val_mse_loss_fn: 0.0485 - val_kl_loss_fn: 29.5918\n",
      "Epoch 155/1001\n",
      "826368/849779 [============================>.] - ETA: 0s - loss: 0.3722 - mse_loss_fn: 0.0763 - kl_loss_fn: 29.6686\n",
      "Epoch 00155: val_loss did not improve from 0.33695\n",
      "849779/849779 [==============================] - 2s 2us/sample - loss: 0.3722 - mse_loss_fn: 0.0762 - kl_loss_fn: 29.6684 - val_loss: 0.3472 - val_mse_loss_fn: 0.0499 - val_kl_loss_fn: 29.6653\n",
      "Epoch 156/1001\n",
      "845824/849779 [============================>.] - ETA: 0s - loss: 0.3705 - mse_loss_fn: 0.0746 - kl_loss_fn: 29.6644\n",
      "Epoch 00156: val_loss did not improve from 0.33695\n",
      "849779/849779 [==============================] - 2s 2us/sample - loss: 0.3704 - mse_loss_fn: 0.0745 - kl_loss_fn: 29.6644 - val_loss: 0.3408 - val_mse_loss_fn: 0.0445 - val_kl_loss_fn: 29.5707\n",
      "Epoch 157/1001\n",
      "846848/849779 [============================>.] - ETA: 0s - loss: 0.3713 - mse_loss_fn: 0.0755 - kl_loss_fn: 29.6562\n",
      "Epoch 00157: val_loss did not improve from 0.33695\n",
      "849779/849779 [==============================] - 2s 2us/sample - loss: 0.3714 - mse_loss_fn: 0.0756 - kl_loss_fn: 29.6558 - val_loss: 0.3531 - val_mse_loss_fn: 0.0560 - val_kl_loss_fn: 29.6392\n",
      "Epoch 158/1001\n",
      "830464/849779 [============================>.] - ETA: 0s - loss: 0.3721 - mse_loss_fn: 0.0763 - kl_loss_fn: 29.6491\n",
      "Epoch 00158: val_loss did not improve from 0.33695\n",
      "849779/849779 [==============================] - 2s 2us/sample - loss: 0.3718 - mse_loss_fn: 0.0761 - kl_loss_fn: 29.6477 - val_loss: 0.3449 - val_mse_loss_fn: 0.0471 - val_kl_loss_fn: 29.7131\n",
      "Epoch 159/1001\n",
      "840704/849779 [============================>.] - ETA: 0s - loss: 0.3685 - mse_loss_fn: 0.0729 - kl_loss_fn: 29.6377\n",
      "Epoch 00159: val_loss did not improve from 0.33695\n",
      "849779/849779 [==============================] - 2s 2us/sample - loss: 0.3683 - mse_loss_fn: 0.0727 - kl_loss_fn: 29.6367 - val_loss: 0.3377 - val_mse_loss_fn: 0.0420 - val_kl_loss_fn: 29.5228\n",
      "Epoch 160/1001\n",
      "827392/849779 [============================>.] - ETA: 0s - loss: 0.3729 - mse_loss_fn: 0.0773 - kl_loss_fn: 29.6351\n",
      "Epoch 00160: val_loss did not improve from 0.33695\n",
      "849779/849779 [==============================] - 2s 2us/sample - loss: 0.3727 - mse_loss_fn: 0.0771 - kl_loss_fn: 29.6352 - val_loss: 0.3380 - val_mse_loss_fn: 0.0414 - val_kl_loss_fn: 29.6088\n",
      "Epoch 161/1001\n",
      "844800/849779 [============================>.] - ETA: 0s - loss: 0.3695 - mse_loss_fn: 0.0739 - kl_loss_fn: 29.6278\n",
      "Epoch 00161: val_loss did not improve from 0.33695\n",
      "849779/849779 [==============================] - 2s 2us/sample - loss: 0.3695 - mse_loss_fn: 0.0740 - kl_loss_fn: 29.6283 - val_loss: 0.3391 - val_mse_loss_fn: 0.0423 - val_kl_loss_fn: 29.6203\n",
      "Epoch 162/1001\n",
      "831488/849779 [============================>.] - ETA: 0s - loss: 0.3688 - mse_loss_fn: 0.0734 - kl_loss_fn: 29.6158\n",
      "Epoch 00162: val_loss did not improve from 0.33695\n",
      "849779/849779 [==============================] - 6s 7us/sample - loss: 0.3693 - mse_loss_fn: 0.0739 - kl_loss_fn: 29.6162 - val_loss: 0.3550 - val_mse_loss_fn: 0.0586 - val_kl_loss_fn: 29.5643\n",
      "Epoch 163/1001\n",
      "840704/849779 [============================>.] - ETA: 0s - loss: 0.3693 - mse_loss_fn: 0.0739 - kl_loss_fn: 29.6149\n",
      "Epoch 00163: val_loss did not improve from 0.33695\n",
      "849779/849779 [==============================] - 2s 2us/sample - loss: 0.3694 - mse_loss_fn: 0.0740 - kl_loss_fn: 29.6153 - val_loss: 0.3554 - val_mse_loss_fn: 0.0586 - val_kl_loss_fn: 29.6000\n",
      "Epoch 164/1001\n",
      "831488/849779 [============================>.] - ETA: 0s - loss: 0.3665 - mse_loss_fn: 0.0712 - kl_loss_fn: 29.6057\n",
      "Epoch 00164: val_loss did not improve from 0.33695\n",
      "849779/849779 [==============================] - 2s 2us/sample - loss: 0.3664 - mse_loss_fn: 0.0711 - kl_loss_fn: 29.6053 - val_loss: 0.3422 - val_mse_loss_fn: 0.0453 - val_kl_loss_fn: 29.6339\n",
      "Epoch 165/1001\n",
      "847872/849779 [============================>.] - ETA: 0s - loss: 0.3686 - mse_loss_fn: 0.0733 - kl_loss_fn: 29.6027\n",
      "Epoch 00165: val_loss did not improve from 0.33695\n",
      "849779/849779 [==============================] - 17s 20us/sample - loss: 0.3685 - mse_loss_fn: 0.0732 - kl_loss_fn: 29.6025 - val_loss: 0.3403 - val_mse_loss_fn: 0.0442 - val_kl_loss_fn: 29.5583\n",
      "Epoch 166/1001\n",
      "835584/849779 [============================>.] - ETA: 0s - loss: 0.3664 - mse_loss_fn: 0.0712 - kl_loss_fn: 29.5944\n",
      "Epoch 00166: val_loss did not improve from 0.33695\n",
      "849779/849779 [==============================] - 3s 4us/sample - loss: 0.3662 - mse_loss_fn: 0.0710 - kl_loss_fn: 29.5938 - val_loss: 0.3479 - val_mse_loss_fn: 0.0511 - val_kl_loss_fn: 29.6099\n",
      "Epoch 167/1001\n",
      "843776/849779 [============================>.] - ETA: 0s - loss: 0.3702 - mse_loss_fn: 0.0751 - kl_loss_fn: 29.5910\n",
      "Epoch 00167: val_loss did not improve from 0.33695\n",
      "849779/849779 [==============================] - 20s 24us/sample - loss: 0.3702 - mse_loss_fn: 0.0751 - kl_loss_fn: 29.5912 - val_loss: 0.3398 - val_mse_loss_fn: 0.0438 - val_kl_loss_fn: 29.5411\n",
      "Epoch 168/1001\n",
      "832512/849779 [============================>.] - ETA: 0s - loss: 0.3686 - mse_loss_fn: 0.0735 - kl_loss_fn: 29.5804\n",
      "Epoch 00168: val_loss did not improve from 0.33695\n",
      "849779/849779 [==============================] - 2s 3us/sample - loss: 0.3686 - mse_loss_fn: 0.0736 - kl_loss_fn: 29.5797 - val_loss: 0.3423 - val_mse_loss_fn: 0.0456 - val_kl_loss_fn: 29.6158\n",
      "Epoch 169/1001\n",
      "835584/849779 [============================>.] - ETA: 0s - loss: 0.3665 - mse_loss_fn: 0.0715 - kl_loss_fn: 29.5764\n",
      "Epoch 00169: val_loss did not improve from 0.33695\n",
      "849779/849779 [==============================] - 2s 2us/sample - loss: 0.3662 - mse_loss_fn: 0.0711 - kl_loss_fn: 29.5754 - val_loss: 0.3412 - val_mse_loss_fn: 0.0453 - val_kl_loss_fn: 29.5380\n",
      "Epoch 170/1001\n",
      "827392/849779 [============================>.] - ETA: 0s - loss: 0.3674 - mse_loss_fn: 0.0725 - kl_loss_fn: 29.5714\n",
      "Epoch 00170: val_loss did not improve from 0.33695\n",
      "849779/849779 [==============================] - 2s 2us/sample - loss: 0.3669 - mse_loss_fn: 0.0719 - kl_loss_fn: 29.5708 - val_loss: 0.3444 - val_mse_loss_fn: 0.0477 - val_kl_loss_fn: 29.6061\n",
      "Epoch 171/1001\n",
      "834560/849779 [============================>.] - ETA: 0s - loss: 0.3660 - mse_loss_fn: 0.0711 - kl_loss_fn: 29.5621\n",
      "Epoch 00171: val_loss did not improve from 0.33695\n",
      "849779/849779 [==============================] - 2s 2us/sample - loss: 0.3659 - mse_loss_fn: 0.0710 - kl_loss_fn: 29.5620 - val_loss: 0.3439 - val_mse_loss_fn: 0.0481 - val_kl_loss_fn: 29.5190\n",
      "Epoch 172/1001\n",
      "836608/849779 [============================>.] - ETA: 0s - loss: 0.3664 - mse_loss_fn: 0.0716 - kl_loss_fn: 29.5596\n",
      "Epoch 00172: val_loss did not improve from 0.33695\n",
      "849779/849779 [==============================] - 2s 2us/sample - loss: 0.3664 - mse_loss_fn: 0.0715 - kl_loss_fn: 29.5587 - val_loss: 0.3630 - val_mse_loss_fn: 0.0670 - val_kl_loss_fn: 29.5083\n",
      "Epoch 173/1001\n",
      "837632/849779 [============================>.] - ETA: 0s - loss: 0.3690 - mse_loss_fn: 0.0743 - kl_loss_fn: 29.5493\n",
      "Epoch 00173: val_loss did not improve from 0.33695\n",
      "849779/849779 [==============================] - 2s 2us/sample - loss: 0.3688 - mse_loss_fn: 0.0741 - kl_loss_fn: 29.5497 - val_loss: 0.3500 - val_mse_loss_fn: 0.0540 - val_kl_loss_fn: 29.5356\n",
      "Epoch 174/1001\n",
      "840704/849779 [============================>.] - ETA: 0s - loss: 0.3659 - mse_loss_fn: 0.0711 - kl_loss_fn: 29.5475\n",
      "Epoch 00174: val_loss did not improve from 0.33695\n",
      "849779/849779 [==============================] - 2s 2us/sample - loss: 0.3662 - mse_loss_fn: 0.0714 - kl_loss_fn: 29.5482 - val_loss: 0.3506 - val_mse_loss_fn: 0.0544 - val_kl_loss_fn: 29.5495\n",
      "Epoch 175/1001\n",
      "848896/849779 [============================>.] - ETA: 0s - loss: 0.3676 - mse_loss_fn: 0.0729 - kl_loss_fn: 29.5428\n",
      "Epoch 00175: val_loss did not improve from 0.33695\n",
      "849779/849779 [==============================] - 2s 2us/sample - loss: 0.3677 - mse_loss_fn: 0.0730 - kl_loss_fn: 29.5429 - val_loss: 0.3567 - val_mse_loss_fn: 0.0609 - val_kl_loss_fn: 29.4988\n",
      "Epoch 176/1001\n",
      "845824/849779 [============================>.] - ETA: 0s - loss: 0.3643 - mse_loss_fn: 0.0697 - kl_loss_fn: 29.5342\n",
      "Epoch 00176: val_loss improved from 0.33695 to 0.33412, saving model to outputs/models/cVAEz6_03-28-2023_wLogit/cbvae_LHCO2020_20d_e-6.hdf5\n",
      "849779/849779 [==============================] - 2s 2us/sample - loss: 0.3643 - mse_loss_fn: 0.0696 - kl_loss_fn: 29.5342 - val_loss: 0.3341 - val_mse_loss_fn: 0.0388 - val_kl_loss_fn: 29.4828\n",
      "Epoch 177/1001\n",
      "825344/849779 [============================>.] - ETA: 0s - loss: 0.3664 - mse_loss_fn: 0.0718 - kl_loss_fn: 29.5263\n",
      "Epoch 00177: val_loss did not improve from 0.33412\n",
      "849779/849779 [==============================] - 2s 2us/sample - loss: 0.3673 - mse_loss_fn: 0.0727 - kl_loss_fn: 29.5268 - val_loss: 0.3421 - val_mse_loss_fn: 0.0462 - val_kl_loss_fn: 29.5365\n",
      "Epoch 178/1001\n",
      "824320/849779 [============================>.] - ETA: 0s - loss: 0.3655 - mse_loss_fn: 0.0709 - kl_loss_fn: 29.5304\n",
      "Epoch 00178: val_loss did not improve from 0.33412\n",
      "849779/849779 [==============================] - 2s 2us/sample - loss: 0.3656 - mse_loss_fn: 0.0710 - kl_loss_fn: 29.5301 - val_loss: 0.3484 - val_mse_loss_fn: 0.0532 - val_kl_loss_fn: 29.4483\n",
      "Epoch 179/1001\n",
      "849779/849779 [==============================] - ETA: 0s - loss: 0.3638 - mse_loss_fn: 0.0693 - kl_loss_fn: 29.5229\n",
      "Epoch 00179: val_loss did not improve from 0.33412\n",
      "849779/849779 [==============================] - 2s 2us/sample - loss: 0.3638 - mse_loss_fn: 0.0693 - kl_loss_fn: 29.5229 - val_loss: 0.3492 - val_mse_loss_fn: 0.0536 - val_kl_loss_fn: 29.4851\n",
      "Epoch 180/1001\n",
      "847872/849779 [============================>.] - ETA: 0s - loss: 0.3635 - mse_loss_fn: 0.0690 - kl_loss_fn: 29.5177\n",
      "Epoch 00180: val_loss did not improve from 0.33412\n",
      "849779/849779 [==============================] - 2s 2us/sample - loss: 0.3635 - mse_loss_fn: 0.0690 - kl_loss_fn: 29.5174 - val_loss: 0.3442 - val_mse_loss_fn: 0.0495 - val_kl_loss_fn: 29.4164\n",
      "Epoch 181/1001\n",
      "825344/849779 [============================>.] - ETA: 0s - loss: 0.3680 - mse_loss_fn: 0.0736 - kl_loss_fn: 29.5145\n",
      "Epoch 00181: val_loss did not improve from 0.33412\n",
      "849779/849779 [==============================] - 2s 2us/sample - loss: 0.3678 - mse_loss_fn: 0.0733 - kl_loss_fn: 29.5136 - val_loss: 0.3418 - val_mse_loss_fn: 0.0464 - val_kl_loss_fn: 29.4765\n",
      "Epoch 182/1001\n",
      "847872/849779 [============================>.] - ETA: 0s - loss: 0.3664 - mse_loss_fn: 0.0720 - kl_loss_fn: 29.5117\n",
      "Epoch 00182: val_loss did not improve from 0.33412\n",
      "849779/849779 [==============================] - 2s 2us/sample - loss: 0.3664 - mse_loss_fn: 0.0720 - kl_loss_fn: 29.5118 - val_loss: 0.3378 - val_mse_loss_fn: 0.0419 - val_kl_loss_fn: 29.5358\n",
      "Epoch 183/1001\n",
      "847872/849779 [============================>.] - ETA: 0s - loss: 0.3613 - mse_loss_fn: 0.0669 - kl_loss_fn: 29.5074\n",
      "Epoch 00183: val_loss did not improve from 0.33412\n",
      "849779/849779 [==============================] - 2s 2us/sample - loss: 0.3614 - mse_loss_fn: 0.0670 - kl_loss_fn: 29.5073 - val_loss: 0.3540 - val_mse_loss_fn: 0.0582 - val_kl_loss_fn: 29.4973\n",
      "Epoch 184/1001\n",
      "838656/849779 [============================>.] - ETA: 0s - loss: 0.3679 - mse_loss_fn: 0.0736 - kl_loss_fn: 29.5069\n",
      "Epoch 00184: val_loss did not improve from 0.33412\n",
      "849779/849779 [==============================] - 2s 2us/sample - loss: 0.3682 - mse_loss_fn: 0.0739 - kl_loss_fn: 29.5059 - val_loss: 0.3710 - val_mse_loss_fn: 0.0759 - val_kl_loss_fn: 29.4167\n",
      "Epoch 185/1001\n",
      "837632/849779 [============================>.] - ETA: 0s - loss: 0.3650 - mse_loss_fn: 0.0706 - kl_loss_fn: 29.5033\n",
      "Epoch 00185: val_loss did not improve from 0.33412\n",
      "849779/849779 [==============================] - 2s 2us/sample - loss: 0.3649 - mse_loss_fn: 0.0705 - kl_loss_fn: 29.5027 - val_loss: 0.3388 - val_mse_loss_fn: 0.0442 - val_kl_loss_fn: 29.4005\n",
      "Epoch 186/1001\n",
      "848896/849779 [============================>.] - ETA: 0s - loss: 0.3649 - mse_loss_fn: 0.0706 - kl_loss_fn: 29.5021\n",
      "Epoch 00186: val_loss did not improve from 0.33412\n",
      "849779/849779 [==============================] - 6s 7us/sample - loss: 0.3649 - mse_loss_fn: 0.0706 - kl_loss_fn: 29.5020 - val_loss: 0.3367 - val_mse_loss_fn: 0.0419 - val_kl_loss_fn: 29.4280\n",
      "Epoch 187/1001\n",
      "843776/849779 [============================>.] - ETA: 0s - loss: 0.3632 - mse_loss_fn: 0.0689 - kl_loss_fn: 29.4994\n",
      "Epoch 00187: val_loss did not improve from 0.33412\n",
      "849779/849779 [==============================] - 2s 3us/sample - loss: 0.3632 - mse_loss_fn: 0.0689 - kl_loss_fn: 29.4997 - val_loss: 0.3502 - val_mse_loss_fn: 0.0544 - val_kl_loss_fn: 29.5090\n",
      "Epoch 188/1001\n",
      "834560/849779 [============================>.] - ETA: 0s - loss: 0.3649 - mse_loss_fn: 0.0707 - kl_loss_fn: 29.4957\n",
      "Epoch 00188: val_loss did not improve from 0.33412\n",
      "849779/849779 [==============================] - 2s 2us/sample - loss: 0.3645 - mse_loss_fn: 0.0702 - kl_loss_fn: 29.4951 - val_loss: 0.3343 - val_mse_loss_fn: 0.0398 - val_kl_loss_fn: 29.3940\n",
      "Epoch 189/1001\n",
      "846848/849779 [============================>.] - ETA: 0s - loss: 0.3637 - mse_loss_fn: 0.0695 - kl_loss_fn: 29.4900\n",
      "Epoch 00189: val_loss did not improve from 0.33412\n",
      "849779/849779 [==============================] - 2s 2us/sample - loss: 0.3641 - mse_loss_fn: 0.0699 - kl_loss_fn: 29.4902 - val_loss: 0.3556 - val_mse_loss_fn: 0.0605 - val_kl_loss_fn: 29.4352\n",
      "Epoch 190/1001\n",
      "844800/849779 [============================>.] - ETA: 0s - loss: 0.3625 - mse_loss_fn: 0.0683 - kl_loss_fn: 29.4865\n",
      "Epoch 00190: val_loss improved from 0.33412 to 0.33182, saving model to outputs/models/cVAEz6_03-28-2023_wLogit/cbvae_LHCO2020_20d_e-6.hdf5\n",
      "849779/849779 [==============================] - 16s 18us/sample - loss: 0.3624 - mse_loss_fn: 0.0682 - kl_loss_fn: 29.4867 - val_loss: 0.3318 - val_mse_loss_fn: 0.0365 - val_kl_loss_fn: 29.4826\n",
      "Epoch 191/1001\n",
      "847872/849779 [============================>.] - ETA: 0s - loss: 0.3625 - mse_loss_fn: 0.0684 - kl_loss_fn: 29.4824\n",
      "Epoch 00191: val_loss did not improve from 0.33182\n",
      "849779/849779 [==============================] - 20s 24us/sample - loss: 0.3625 - mse_loss_fn: 0.0684 - kl_loss_fn: 29.4828 - val_loss: 0.3479 - val_mse_loss_fn: 0.0529 - val_kl_loss_fn: 29.4329\n",
      "Epoch 192/1001\n",
      "845824/849779 [============================>.] - ETA: 0s - loss: 0.3634 - mse_loss_fn: 0.0692 - kl_loss_fn: 29.4818\n",
      "Epoch 00192: val_loss did not improve from 0.33182\n",
      "849779/849779 [==============================] - 9s 10us/sample - loss: 0.3633 - mse_loss_fn: 0.0692 - kl_loss_fn: 29.4812 - val_loss: 0.3405 - val_mse_loss_fn: 0.0459 - val_kl_loss_fn: 29.3954\n",
      "Epoch 193/1001\n",
      "840704/849779 [============================>.] - ETA: 0s - loss: 0.3614 - mse_loss_fn: 0.0673 - kl_loss_fn: 29.4763\n",
      "Epoch 00193: val_loss did not improve from 0.33182\n",
      "849779/849779 [==============================] - 2s 3us/sample - loss: 0.3612 - mse_loss_fn: 0.0671 - kl_loss_fn: 29.4755 - val_loss: 0.3422 - val_mse_loss_fn: 0.0464 - val_kl_loss_fn: 29.5139\n",
      "Epoch 194/1001\n",
      "836608/849779 [============================>.] - ETA: 0s - loss: 0.3659 - mse_loss_fn: 0.0718 - kl_loss_fn: 29.4733\n",
      "Epoch 00194: val_loss did not improve from 0.33182\n",
      "849779/849779 [==============================] - 2s 2us/sample - loss: 0.3655 - mse_loss_fn: 0.0715 - kl_loss_fn: 29.4741 - val_loss: 0.3372 - val_mse_loss_fn: 0.0422 - val_kl_loss_fn: 29.4438\n",
      "Epoch 195/1001\n",
      "838656/849779 [============================>.] - ETA: 0s - loss: 0.3674 - mse_loss_fn: 0.0735 - kl_loss_fn: 29.4656\n",
      "Epoch 00195: val_loss did not improve from 0.33182\n",
      "849779/849779 [==============================] - 2s 2us/sample - loss: 0.3670 - mse_loss_fn: 0.0731 - kl_loss_fn: 29.4662 - val_loss: 0.3410 - val_mse_loss_fn: 0.0465 - val_kl_loss_fn: 29.3884\n",
      "Epoch 196/1001\n",
      "839680/849779 [============================>.] - ETA: 0s - loss: 0.3609 - mse_loss_fn: 0.0669 - kl_loss_fn: 29.4612\n",
      "Epoch 00196: val_loss did not improve from 0.33182\n",
      "849779/849779 [==============================] - 2s 2us/sample - loss: 0.3607 - mse_loss_fn: 0.0668 - kl_loss_fn: 29.4620 - val_loss: 0.3389 - val_mse_loss_fn: 0.0436 - val_kl_loss_fn: 29.4748\n",
      "Epoch 197/1001\n",
      "835584/849779 [============================>.] - ETA: 0s - loss: 0.3631 - mse_loss_fn: 0.0692 - kl_loss_fn: 29.4629\n",
      "Epoch 00197: val_loss did not improve from 0.33182\n",
      "849779/849779 [==============================] - 2s 2us/sample - loss: 0.3630 - mse_loss_fn: 0.0691 - kl_loss_fn: 29.4632 - val_loss: 0.3369 - val_mse_loss_fn: 0.0422 - val_kl_loss_fn: 29.4102\n",
      "Epoch 198/1001\n",
      "846848/849779 [============================>.] - ETA: 0s - loss: 0.3615 - mse_loss_fn: 0.0675 - kl_loss_fn: 29.4624\n",
      "Epoch 00198: val_loss did not improve from 0.33182\n",
      "849779/849779 [==============================] - 2s 2us/sample - loss: 0.3614 - mse_loss_fn: 0.0675 - kl_loss_fn: 29.4624 - val_loss: 0.3374 - val_mse_loss_fn: 0.0431 - val_kl_loss_fn: 29.3759\n",
      "Epoch 199/1001\n",
      "847872/849779 [============================>.] - ETA: 0s - loss: 0.3630 - mse_loss_fn: 0.0691 - kl_loss_fn: 29.4566\n",
      "Epoch 00199: val_loss did not improve from 0.33182\n",
      "849779/849779 [==============================] - 2s 2us/sample - loss: 0.3630 - mse_loss_fn: 0.0692 - kl_loss_fn: 29.4567 - val_loss: 0.3349 - val_mse_loss_fn: 0.0400 - val_kl_loss_fn: 29.4347\n",
      "Epoch 200/1001\n",
      "828416/849779 [============================>.] - ETA: 0s - loss: 0.3619 - mse_loss_fn: 0.0680 - kl_loss_fn: 29.4529\n",
      "Epoch 00200: val_loss did not improve from 0.33182\n",
      "849779/849779 [==============================] - 2s 2us/sample - loss: 0.3619 - mse_loss_fn: 0.0681 - kl_loss_fn: 29.4534 - val_loss: 0.3436 - val_mse_loss_fn: 0.0490 - val_kl_loss_fn: 29.4023\n",
      "Epoch 201/1001\n",
      "833536/849779 [============================>.] - ETA: 0s - loss: 0.3615 - mse_loss_fn: 0.0676 - kl_loss_fn: 29.4557\n",
      "Epoch 00201: val_loss did not improve from 0.33182\n",
      "849779/849779 [==============================] - 2s 2us/sample - loss: 0.3612 - mse_loss_fn: 0.0673 - kl_loss_fn: 29.4545 - val_loss: 0.3354 - val_mse_loss_fn: 0.0405 - val_kl_loss_fn: 29.4334\n",
      "Epoch 202/1001\n",
      "838656/849779 [============================>.] - ETA: 0s - loss: 0.3647 - mse_loss_fn: 0.0709 - kl_loss_fn: 29.4524\n",
      "Epoch 00202: val_loss did not improve from 0.33182\n",
      "849779/849779 [==============================] - 2s 2us/sample - loss: 0.3646 - mse_loss_fn: 0.0707 - kl_loss_fn: 29.4530 - val_loss: 0.3370 - val_mse_loss_fn: 0.0423 - val_kl_loss_fn: 29.4180\n",
      "Epoch 203/1001\n",
      "838656/849779 [============================>.] - ETA: 0s - loss: 0.3601 - mse_loss_fn: 0.0663 - kl_loss_fn: 29.4484\n",
      "Epoch 00203: val_loss did not improve from 0.33182\n",
      "849779/849779 [==============================] - 2s 2us/sample - loss: 0.3600 - mse_loss_fn: 0.0662 - kl_loss_fn: 29.4485 - val_loss: 0.3335 - val_mse_loss_fn: 0.0394 - val_kl_loss_fn: 29.3588\n",
      "Epoch 204/1001\n",
      "844800/849779 [============================>.] - ETA: 0s - loss: 0.3630 - mse_loss_fn: 0.0692 - kl_loss_fn: 29.4476\n",
      "Epoch 00204: val_loss did not improve from 0.33182\n",
      "849779/849779 [==============================] - 2s 2us/sample - loss: 0.3630 - mse_loss_fn: 0.0692 - kl_loss_fn: 29.4472 - val_loss: 0.3471 - val_mse_loss_fn: 0.0528 - val_kl_loss_fn: 29.3673\n",
      "Epoch 205/1001\n",
      "843776/849779 [============================>.] - ETA: 0s - loss: 0.3591 - mse_loss_fn: 0.0653 - kl_loss_fn: 29.4450\n",
      "Epoch 00205: val_loss did not improve from 0.33182\n",
      "849779/849779 [==============================] - 2s 2us/sample - loss: 0.3591 - mse_loss_fn: 0.0653 - kl_loss_fn: 29.4442 - val_loss: 0.3352 - val_mse_loss_fn: 0.0416 - val_kl_loss_fn: 29.3004\n",
      "Epoch 206/1001\n",
      "833536/849779 [============================>.] - ETA: 0s - loss: 0.3611 - mse_loss_fn: 0.0674 - kl_loss_fn: 29.4420\n",
      "Epoch 00206: val_loss did not improve from 0.33182\n",
      "849779/849779 [==============================] - 2s 2us/sample - loss: 0.3609 - mse_loss_fn: 0.0672 - kl_loss_fn: 29.4413 - val_loss: 0.3433 - val_mse_loss_fn: 0.0487 - val_kl_loss_fn: 29.3955\n",
      "Epoch 207/1001\n",
      "835584/849779 [============================>.] - ETA: 0s - loss: 0.3623 - mse_loss_fn: 0.0685 - kl_loss_fn: 29.4411\n",
      "Epoch 00207: val_loss did not improve from 0.33182\n",
      "849779/849779 [==============================] - 2s 2us/sample - loss: 0.3620 - mse_loss_fn: 0.0683 - kl_loss_fn: 29.4405 - val_loss: 0.3351 - val_mse_loss_fn: 0.0410 - val_kl_loss_fn: 29.3614\n",
      "Epoch 208/1001\n",
      "840704/849779 [============================>.] - ETA: 0s - loss: 0.3603 - mse_loss_fn: 0.0666 - kl_loss_fn: 29.4327\n",
      "Epoch 00208: val_loss did not improve from 0.33182\n",
      "849779/849779 [==============================] - 2s 2us/sample - loss: 0.3602 - mse_loss_fn: 0.0665 - kl_loss_fn: 29.4327 - val_loss: 0.3462 - val_mse_loss_fn: 0.0515 - val_kl_loss_fn: 29.4031\n",
      "Epoch 209/1001\n",
      "839680/849779 [============================>.] - ETA: 0s - loss: 0.3609 - mse_loss_fn: 0.0673 - kl_loss_fn: 29.4342\n",
      "Epoch 00209: val_loss did not improve from 0.33182\n",
      "849779/849779 [==============================] - 2s 2us/sample - loss: 0.3609 - mse_loss_fn: 0.0672 - kl_loss_fn: 29.4345 - val_loss: 0.3397 - val_mse_loss_fn: 0.0451 - val_kl_loss_fn: 29.4053\n",
      "Epoch 210/1001\n",
      "849779/849779 [==============================] - ETA: 0s - loss: 0.3608 - mse_loss_fn: 0.0672 - kl_loss_fn: 29.4285\n",
      "Epoch 00210: val_loss did not improve from 0.33182\n",
      "849779/849779 [==============================] - 2s 2us/sample - loss: 0.3608 - mse_loss_fn: 0.0672 - kl_loss_fn: 29.4285 - val_loss: 0.3590 - val_mse_loss_fn: 0.0647 - val_kl_loss_fn: 29.3376\n",
      "Epoch 211/1001\n",
      "842752/849779 [============================>.] - ETA: 0s - loss: 0.3634 - mse_loss_fn: 0.0699 - kl_loss_fn: 29.4242\n",
      "Epoch 00211: val_loss did not improve from 0.33182\n",
      "849779/849779 [==============================] - 2s 2us/sample - loss: 0.3634 - mse_loss_fn: 0.0698 - kl_loss_fn: 29.4242 - val_loss: 0.3464 - val_mse_loss_fn: 0.0520 - val_kl_loss_fn: 29.3763\n",
      "Epoch 212/1001\n",
      "833536/849779 [============================>.] - ETA: 0s - loss: 0.3605 - mse_loss_fn: 0.0669 - kl_loss_fn: 29.4285\n",
      "Epoch 00212: val_loss did not improve from 0.33182\n",
      "849779/849779 [==============================] - 5s 6us/sample - loss: 0.3602 - mse_loss_fn: 0.0666 - kl_loss_fn: 29.4282 - val_loss: 0.3371 - val_mse_loss_fn: 0.0425 - val_kl_loss_fn: 29.4019\n",
      "Epoch 213/1001\n",
      "845824/849779 [============================>.] - ETA: 0s - loss: 0.3609 - mse_loss_fn: 0.0673 - kl_loss_fn: 29.4230\n",
      "Epoch 00213: val_loss did not improve from 0.33182\n",
      "849779/849779 [==============================] - 2s 2us/sample - loss: 0.3609 - mse_loss_fn: 0.0674 - kl_loss_fn: 29.4235 - val_loss: 0.3382 - val_mse_loss_fn: 0.0432 - val_kl_loss_fn: 29.4460\n",
      "Epoch 214/1001\n",
      "841728/849779 [============================>.] - ETA: 0s - loss: 0.3585 - mse_loss_fn: 0.0649 - kl_loss_fn: 29.4210- ETA: 0s - loss: 0.3586 - mse_lo\n",
      "Epoch 00214: val_loss did not improve from 0.33182\n",
      "849779/849779 [==============================] - 8s 9us/sample - loss: 0.3589 - mse_loss_fn: 0.0653 - kl_loss_fn: 29.4217 - val_loss: 0.3509 - val_mse_loss_fn: 0.0557 - val_kl_loss_fn: 29.4456\n",
      "Epoch 215/1001\n",
      "846848/849779 [============================>.] - ETA: 0s - loss: 0.3619 - mse_loss_fn: 0.0685 - kl_loss_fn: 29.4170\n",
      "Epoch 00215: val_loss did not improve from 0.33182\n",
      "849779/849779 [==============================] - 11s 13us/sample - loss: 0.3619 - mse_loss_fn: 0.0684 - kl_loss_fn: 29.4171 - val_loss: 0.3525 - val_mse_loss_fn: 0.0587 - val_kl_loss_fn: 29.3054\n",
      "Epoch 216/1001\n",
      "848896/849779 [============================>.] - ETA: 0s - loss: 0.3612 - mse_loss_fn: 0.0678 - kl_loss_fn: 29.4137\n",
      "Epoch 00216: val_loss did not improve from 0.33182\n",
      "849779/849779 [==============================] - 2s 2us/sample - loss: 0.3612 - mse_loss_fn: 0.0677 - kl_loss_fn: 29.4138 - val_loss: 0.3346 - val_mse_loss_fn: 0.0406 - val_kl_loss_fn: 29.3500\n",
      "Epoch 217/1001\n",
      "848896/849779 [============================>.] - ETA: 0s - loss: 0.3595 - mse_loss_fn: 0.0660 - kl_loss_fn: 29.4134\n",
      "Epoch 00217: val_loss did not improve from 0.33182\n",
      "849779/849779 [==============================] - 2s 2us/sample - loss: 0.3594 - mse_loss_fn: 0.0660 - kl_loss_fn: 29.4132 - val_loss: 0.3414 - val_mse_loss_fn: 0.0473 - val_kl_loss_fn: 29.3574\n",
      "Epoch 218/1001\n",
      "849779/849779 [==============================] - ETA: 0s - loss: 0.3600 - mse_loss_fn: 0.0666 - kl_loss_fn: 29.4104\n",
      "Epoch 00218: val_loss did not improve from 0.33182\n",
      "849779/849779 [==============================] - 10s 12us/sample - loss: 0.3600 - mse_loss_fn: 0.0666 - kl_loss_fn: 29.4104 - val_loss: 0.3392 - val_mse_loss_fn: 0.0444 - val_kl_loss_fn: 29.4264\n",
      "Epoch 219/1001\n",
      "844800/849779 [============================>.] - ETA: 0s - loss: 0.3596 - mse_loss_fn: 0.0663 - kl_loss_fn: 29.4041\n",
      "Epoch 00219: val_loss did not improve from 0.33182\n",
      "849779/849779 [==============================] - 11s 13us/sample - loss: 0.3596 - mse_loss_fn: 0.0662 - kl_loss_fn: 29.4044 - val_loss: 0.3462 - val_mse_loss_fn: 0.0516 - val_kl_loss_fn: 29.3929\n",
      "Epoch 220/1001\n",
      "849779/849779 [==============================] - ETA: 0s - loss: 0.3583 - mse_loss_fn: 0.0649 - kl_loss_fn: 29.4032\n",
      "Epoch 00220: val_loss did not improve from 0.33182\n",
      "849779/849779 [==============================] - 4s 4us/sample - loss: 0.3583 - mse_loss_fn: 0.0649 - kl_loss_fn: 29.4032 - val_loss: 0.3367 - val_mse_loss_fn: 0.0429 - val_kl_loss_fn: 29.3214\n",
      "Epoch 221/1001\n",
      "834560/849779 [============================>.] - ETA: 0s - loss: 0.3629 - mse_loss_fn: 0.0696 - kl_loss_fn: 29.4035\n",
      "Epoch 00221: val_loss did not improve from 0.33182\n",
      "849779/849779 [==============================] - 2s 2us/sample - loss: 0.3627 - mse_loss_fn: 0.0694 - kl_loss_fn: 29.4029 - val_loss: 0.3583 - val_mse_loss_fn: 0.0633 - val_kl_loss_fn: 29.4269\n",
      "Epoch 222/1001\n",
      "838656/849779 [============================>.] - ETA: 0s - loss: 0.3594 - mse_loss_fn: 0.0661 - kl_loss_fn: 29.4039\n",
      "Epoch 00222: val_loss did not improve from 0.33182\n",
      "849779/849779 [==============================] - 2s 2us/sample - loss: 0.3594 - mse_loss_fn: 0.0660 - kl_loss_fn: 29.4038 - val_loss: 0.3448 - val_mse_loss_fn: 0.0500 - val_kl_loss_fn: 29.4149\n",
      "Epoch 223/1001\n",
      "829440/849779 [============================>.] - ETA: 0s - loss: 0.3592 - mse_loss_fn: 0.0658 - kl_loss_fn: 29.4039\n",
      "Epoch 00223: val_loss did not improve from 0.33182\n",
      "849779/849779 [==============================] - 2s 2us/sample - loss: 0.3595 - mse_loss_fn: 0.0662 - kl_loss_fn: 29.4038 - val_loss: 0.3503 - val_mse_loss_fn: 0.0569 - val_kl_loss_fn: 29.2689\n",
      "Epoch 224/1001\n",
      "843776/849779 [============================>.] - ETA: 0s - loss: 0.3569 - mse_loss_fn: 0.0636 - kl_loss_fn: 29.4024\n",
      "Epoch 00224: val_loss did not improve from 0.33182\n",
      "849779/849779 [==============================] - 2s 2us/sample - loss: 0.3571 - mse_loss_fn: 0.0637 - kl_loss_fn: 29.4027 - val_loss: 0.3327 - val_mse_loss_fn: 0.0381 - val_kl_loss_fn: 29.4166\n",
      "Epoch 225/1001\n",
      "834560/849779 [============================>.] - ETA: 0s - loss: 0.3596 - mse_loss_fn: 0.0663 - kl_loss_fn: 29.3947\n",
      "Epoch 00225: val_loss did not improve from 0.33182\n",
      "849779/849779 [==============================] - 2s 2us/sample - loss: 0.3592 - mse_loss_fn: 0.0659 - kl_loss_fn: 29.3944 - val_loss: 0.3419 - val_mse_loss_fn: 0.0476 - val_kl_loss_fn: 29.3733\n",
      "Epoch 226/1001\n",
      "845824/849779 [============================>.] - ETA: 0s - loss: 0.3583 - mse_loss_fn: 0.0649 - kl_loss_fn: 29.3963\n",
      "Epoch 00226: val_loss did not improve from 0.33182\n",
      "849779/849779 [==============================] - 2s 2us/sample - loss: 0.3582 - mse_loss_fn: 0.0649 - kl_loss_fn: 29.3964 - val_loss: 0.3333 - val_mse_loss_fn: 0.0391 - val_kl_loss_fn: 29.3675\n",
      "Epoch 227/1001\n",
      "833536/849779 [============================>.] - ETA: 0s - loss: 0.3610 - mse_loss_fn: 0.0677 - kl_loss_fn: 29.3934\n",
      "Epoch 00227: val_loss improved from 0.33182 to 0.33155, saving model to outputs/models/cVAEz6_03-28-2023_wLogit/cbvae_LHCO2020_20d_e-6.hdf5\n",
      "849779/849779 [==============================] - 2s 2us/sample - loss: 0.3606 - mse_loss_fn: 0.0674 - kl_loss_fn: 29.3927 - val_loss: 0.3315 - val_mse_loss_fn: 0.0379 - val_kl_loss_fn: 29.3144\n",
      "Epoch 228/1001\n",
      "846848/849779 [============================>.] - ETA: 0s - loss: 0.3575 - mse_loss_fn: 0.0642 - kl_loss_fn: 29.3958\n",
      "Epoch 00228: val_loss did not improve from 0.33155\n",
      "849779/849779 [==============================] - 2s 2us/sample - loss: 0.3574 - mse_loss_fn: 0.0641 - kl_loss_fn: 29.3957 - val_loss: 0.3384 - val_mse_loss_fn: 0.0444 - val_kl_loss_fn: 29.3442\n",
      "Epoch 229/1001\n",
      "833536/849779 [============================>.] - ETA: 0s - loss: 0.3606 - mse_loss_fn: 0.0674 - kl_loss_fn: 29.3880\n",
      "Epoch 00229: val_loss did not improve from 0.33155\n",
      "849779/849779 [==============================] - 2s 2us/sample - loss: 0.3604 - mse_loss_fn: 0.0672 - kl_loss_fn: 29.3880 - val_loss: 0.3352 - val_mse_loss_fn: 0.0416 - val_kl_loss_fn: 29.2972\n",
      "Epoch 230/1001\n",
      "832512/849779 [============================>.] - ETA: 0s - loss: 0.3557 - mse_loss_fn: 0.0625 - kl_loss_fn: 29.3805\n",
      "Epoch 00230: val_loss did not improve from 0.33155\n",
      "849779/849779 [==============================] - 2s 2us/sample - loss: 0.3557 - mse_loss_fn: 0.0625 - kl_loss_fn: 29.3816 - val_loss: 0.3380 - val_mse_loss_fn: 0.0442 - val_kl_loss_fn: 29.3142\n",
      "Epoch 231/1001\n",
      "848896/849779 [============================>.] - ETA: 0s - loss: 0.3572 - mse_loss_fn: 0.0640 - kl_loss_fn: 29.3815\n",
      "Epoch 00231: val_loss did not improve from 0.33155\n",
      "849779/849779 [==============================] - 2s 2us/sample - loss: 0.3572 - mse_loss_fn: 0.0640 - kl_loss_fn: 29.3815 - val_loss: 0.3348 - val_mse_loss_fn: 0.0404 - val_kl_loss_fn: 29.3902\n",
      "Epoch 232/1001\n",
      "827392/849779 [============================>.] - ETA: 0s - loss: 0.3607 - mse_loss_fn: 0.0675 - kl_loss_fn: 29.3825\n",
      "Epoch 00232: val_loss did not improve from 0.33155\n",
      "849779/849779 [==============================] - 2s 2us/sample - loss: 0.3608 - mse_loss_fn: 0.0676 - kl_loss_fn: 29.3830 - val_loss: 0.3337 - val_mse_loss_fn: 0.0396 - val_kl_loss_fn: 29.3574\n",
      "Epoch 233/1001\n",
      "839680/849779 [============================>.] - ETA: 0s - loss: 0.3559 - mse_loss_fn: 0.0627 - kl_loss_fn: 29.3848\n",
      "Epoch 00233: val_loss did not improve from 0.33155\n",
      "849779/849779 [==============================] - 2s 2us/sample - loss: 0.3563 - mse_loss_fn: 0.0631 - kl_loss_fn: 29.3847 - val_loss: 0.3730 - val_mse_loss_fn: 0.0787 - val_kl_loss_fn: 29.3252\n",
      "Epoch 234/1001\n",
      "843776/849779 [============================>.] - ETA: 0s - loss: 0.3584 - mse_loss_fn: 0.0653 - kl_loss_fn: 29.3761\n",
      "Epoch 00234: val_loss did not improve from 0.33155\n",
      "849779/849779 [==============================] - 2s 2us/sample - loss: 0.3584 - mse_loss_fn: 0.0653 - kl_loss_fn: 29.3755 - val_loss: 0.3394 - val_mse_loss_fn: 0.0461 - val_kl_loss_fn: 29.2728\n",
      "Epoch 235/1001\n",
      "837632/849779 [============================>.] - ETA: 0s - loss: 0.3597 - mse_loss_fn: 0.0666 - kl_loss_fn: 29.3780\n",
      "Epoch 00235: val_loss did not improve from 0.33155\n",
      "849779/849779 [==============================] - 2s 2us/sample - loss: 0.3595 - mse_loss_fn: 0.0664 - kl_loss_fn: 29.3783 - val_loss: 0.3495 - val_mse_loss_fn: 0.0551 - val_kl_loss_fn: 29.3707\n",
      "Epoch 236/1001\n",
      "832512/849779 [============================>.] - ETA: 0s - loss: 0.3576 - mse_loss_fn: 0.0645 - kl_loss_fn: 29.3744\n",
      "Epoch 00236: val_loss did not improve from 0.33155\n",
      "849779/849779 [==============================] - 2s 2us/sample - loss: 0.3578 - mse_loss_fn: 0.0647 - kl_loss_fn: 29.3746 - val_loss: 0.3376 - val_mse_loss_fn: 0.0439 - val_kl_loss_fn: 29.3155\n",
      "Epoch 237/1001\n",
      "849779/849779 [==============================] - ETA: 0s - loss: 0.3573 - mse_loss_fn: 0.0642 - kl_loss_fn: 29.3753\n",
      "Epoch 00237: val_loss improved from 0.33155 to 0.33124, saving model to outputs/models/cVAEz6_03-28-2023_wLogit/cbvae_LHCO2020_20d_e-6.hdf5\n",
      "849779/849779 [==============================] - 2s 2us/sample - loss: 0.3573 - mse_loss_fn: 0.0642 - kl_loss_fn: 29.3753 - val_loss: 0.3312 - val_mse_loss_fn: 0.0376 - val_kl_loss_fn: 29.3217\n",
      "Epoch 238/1001\n",
      "840704/849779 [============================>.] - ETA: 0s - loss: 0.3577 - mse_loss_fn: 0.0647 - kl_loss_fn: 29.3683\n",
      "Epoch 00238: val_loss did not improve from 0.33124\n",
      "849779/849779 [==============================] - 6s 7us/sample - loss: 0.3576 - mse_loss_fn: 0.0646 - kl_loss_fn: 29.3681 - val_loss: 0.3329 - val_mse_loss_fn: 0.0388 - val_kl_loss_fn: 29.3665\n",
      "Epoch 239/1001\n",
      "841728/849779 [============================>.] - ETA: 0s - loss: 0.3600 - mse_loss_fn: 0.0670 - kl_loss_fn: 29.3653\n",
      "Epoch 00239: val_loss did not improve from 0.33124\n",
      "849779/849779 [==============================] - 2s 3us/sample - loss: 0.3601 - mse_loss_fn: 0.0671 - kl_loss_fn: 29.3655 - val_loss: 0.3519 - val_mse_loss_fn: 0.0582 - val_kl_loss_fn: 29.2921\n",
      "Epoch 240/1001\n",
      "848896/849779 [============================>.] - ETA: 0s - loss: 0.3571 - mse_loss_fn: 0.0640 - kl_loss_fn: 29.3654- ETA: 0s - loss: 0.3551 - mse_loss_fn: 0.0621 - k - ETA: 0s - loss: 0.3549 - mse_l - ETA: 0s - loss: 0.3560 - mse_loss_fn\n",
      "Epoch 00240: val_loss did not improve from 0.33124\n",
      "849779/849779 [==============================] - 13s 15us/sample - loss: 0.3571 - mse_loss_fn: 0.0640 - kl_loss_fn: 29.3654 - val_loss: 0.3474 - val_mse_loss_fn: 0.0536 - val_kl_loss_fn: 29.3071\n",
      "Epoch 241/1001\n",
      "839680/849779 [============================>.] - ETA: 0s - loss: 0.3571 - mse_loss_fn: 0.0641 - kl_loss_fn: 29.3657\n",
      "Epoch 00241: val_loss improved from 0.33124 to 0.33124, saving model to outputs/models/cVAEz6_03-28-2023_wLogit/cbvae_LHCO2020_20d_e-6.hdf5\n",
      "849779/849779 [==============================] - 12s 14us/sample - loss: 0.3571 - mse_loss_fn: 0.0641 - kl_loss_fn: 29.3659 - val_loss: 0.3312 - val_mse_loss_fn: 0.0373 - val_kl_loss_fn: 29.3553\n",
      "Epoch 242/1001\n",
      "848896/849779 [============================>.] - ETA: 0s - loss: 0.3559 - mse_loss_fn: 0.0629 - kl_loss_fn: 29.3594\n",
      "Epoch 00242: val_loss did not improve from 0.33124\n",
      "849779/849779 [==============================] - 29s 35us/sample - loss: 0.3559 - mse_loss_fn: 0.0630 - kl_loss_fn: 29.3595 - val_loss: 0.3490 - val_mse_loss_fn: 0.0549 - val_kl_loss_fn: 29.3431\n",
      "Epoch 243/1001\n",
      "848896/849779 [============================>.] - ETA: 0s - loss: 0.3569 - mse_loss_fn: 0.0639 - kl_loss_fn: 29.3594\n",
      "Epoch 00243: val_loss did not improve from 0.33124\n",
      "849779/849779 [==============================] - 2s 2us/sample - loss: 0.3569 - mse_loss_fn: 0.0639 - kl_loss_fn: 29.3593 - val_loss: 0.3353 - val_mse_loss_fn: 0.0415 - val_kl_loss_fn: 29.3228\n",
      "Epoch 244/1001\n",
      "828416/849779 [============================>.] - ETA: 0s - loss: 0.3569 - mse_loss_fn: 0.0639 - kl_loss_fn: 29.3612\n",
      "Epoch 00244: val_loss did not improve from 0.33124\n",
      "849779/849779 [==============================] - 2s 2us/sample - loss: 0.3571 - mse_loss_fn: 0.0641 - kl_loss_fn: 29.3623 - val_loss: 0.3416 - val_mse_loss_fn: 0.0478 - val_kl_loss_fn: 29.3193\n",
      "Epoch 245/1001\n",
      "843776/849779 [============================>.] - ETA: 0s - loss: 0.3564 - mse_loss_fn: 0.0636 - kl_loss_fn: 29.3514\n",
      "Epoch 00245: val_loss did not improve from 0.33124\n",
      "849779/849779 [==============================] - 2s 2us/sample - loss: 0.3563 - mse_loss_fn: 0.0634 - kl_loss_fn: 29.3509 - val_loss: 0.3357 - val_mse_loss_fn: 0.0427 - val_kl_loss_fn: 29.2403\n",
      "Epoch 246/1001\n",
      "845824/849779 [============================>.] - ETA: 0s - loss: 0.3555 - mse_loss_fn: 0.0626 - kl_loss_fn: 29.3538\n",
      "Epoch 00246: val_loss did not improve from 0.33124\n",
      "849779/849779 [==============================] - 2s 2us/sample - loss: 0.3554 - mse_loss_fn: 0.0625 - kl_loss_fn: 29.3538 - val_loss: 0.3406 - val_mse_loss_fn: 0.0465 - val_kl_loss_fn: 29.3505\n",
      "Epoch 247/1001\n",
      "836608/849779 [============================>.] - ETA: 0s - loss: 0.3561 - mse_loss_fn: 0.0632 - kl_loss_fn: 29.3549\n",
      "Epoch 00247: val_loss did not improve from 0.33124\n",
      "849779/849779 [==============================] - 2s 2us/sample - loss: 0.3572 - mse_loss_fn: 0.0643 - kl_loss_fn: 29.3530 - val_loss: 0.3993 - val_mse_loss_fn: 0.1053 - val_kl_loss_fn: 29.2625\n",
      "Epoch 248/1001\n",
      "841728/849779 [============================>.] - ETA: 0s - loss: 0.3592 - mse_loss_fn: 0.0664 - kl_loss_fn: 29.3521\n",
      "Epoch 00248: val_loss did not improve from 0.33124\n",
      "849779/849779 [==============================] - 2s 2us/sample - loss: 0.3590 - mse_loss_fn: 0.0661 - kl_loss_fn: 29.3521 - val_loss: 0.3504 - val_mse_loss_fn: 0.0562 - val_kl_loss_fn: 29.3448\n",
      "Epoch 249/1001\n",
      "839680/849779 [============================>.] - ETA: 0s - loss: 0.3579 - mse_loss_fn: 0.0650 - kl_loss_fn: 29.3464\n",
      "Epoch 00249: val_loss did not improve from 0.33124\n",
      "849779/849779 [==============================] - 2s 2us/sample - loss: 0.3578 - mse_loss_fn: 0.0650 - kl_loss_fn: 29.3463 - val_loss: 0.3400 - val_mse_loss_fn: 0.0468 - val_kl_loss_fn: 29.2526\n",
      "Epoch 250/1001\n",
      "841728/849779 [============================>.] - ETA: 0s - loss: 0.3539 - mse_loss_fn: 0.0610 - kl_loss_fn: 29.3490\n",
      "Epoch 00250: val_loss did not improve from 0.33124\n",
      "849779/849779 [==============================] - 2s 2us/sample - loss: 0.3538 - mse_loss_fn: 0.0609 - kl_loss_fn: 29.3493 - val_loss: 0.3335 - val_mse_loss_fn: 0.0397 - val_kl_loss_fn: 29.3348\n",
      "Epoch 251/1001\n",
      "837632/849779 [============================>.] - ETA: 0s - loss: 0.3566 - mse_loss_fn: 0.0638 - kl_loss_fn: 29.3469\n",
      "Epoch 00251: val_loss did not improve from 0.33124\n",
      "849779/849779 [==============================] - 2s 2us/sample - loss: 0.3568 - mse_loss_fn: 0.0640 - kl_loss_fn: 29.3463 - val_loss: 0.3423 - val_mse_loss_fn: 0.0489 - val_kl_loss_fn: 29.2745\n",
      "Epoch 252/1001\n",
      "846848/849779 [============================>.] - ETA: 0s - loss: 0.3551 - mse_loss_fn: 0.0624 - kl_loss_fn: 29.3341\n",
      "Epoch 00252: val_loss did not improve from 0.33124\n",
      "849779/849779 [==============================] - 2s 2us/sample - loss: 0.3551 - mse_loss_fn: 0.0624 - kl_loss_fn: 29.3342 - val_loss: 0.3330 - val_mse_loss_fn: 0.0394 - val_kl_loss_fn: 29.3021\n",
      "Epoch 253/1001\n",
      "843776/849779 [============================>.] - ETA: 0s - loss: 0.3544 - mse_loss_fn: 0.0616 - kl_loss_fn: 29.3441\n",
      "Epoch 00253: val_loss did not improve from 0.33124\n",
      "849779/849779 [==============================] - 2s 2us/sample - loss: 0.3543 - mse_loss_fn: 0.0615 - kl_loss_fn: 29.3442 - val_loss: 0.3349 - val_mse_loss_fn: 0.0416 - val_kl_loss_fn: 29.2832\n",
      "Epoch 254/1001\n",
      "845824/849779 [============================>.] - ETA: 0s - loss: 0.3557 - mse_loss_fn: 0.0630 - kl_loss_fn: 29.3358\n",
      "Epoch 00254: val_loss did not improve from 0.33124\n",
      "849779/849779 [==============================] - 2s 2us/sample - loss: 0.3557 - mse_loss_fn: 0.0630 - kl_loss_fn: 29.3357 - val_loss: 0.3396 - val_mse_loss_fn: 0.0460 - val_kl_loss_fn: 29.2915\n",
      "Epoch 255/1001\n",
      "847872/849779 [============================>.] - ETA: 0s - loss: 0.3586 - mse_loss_fn: 0.0659 - kl_loss_fn: 29.3345\n",
      "Epoch 00255: val_loss did not improve from 0.33124\n",
      "849779/849779 [==============================] - 2s 2us/sample - loss: 0.3585 - mse_loss_fn: 0.0658 - kl_loss_fn: 29.3344 - val_loss: 0.3336 - val_mse_loss_fn: 0.0403 - val_kl_loss_fn: 29.2791\n",
      "Epoch 256/1001\n",
      "836608/849779 [============================>.] - ETA: 0s - loss: 0.3526 - mse_loss_fn: 0.0598 - kl_loss_fn: 29.3388\n",
      "Epoch 00256: val_loss did not improve from 0.33124\n",
      "849779/849779 [==============================] - 2s 2us/sample - loss: 0.3523 - mse_loss_fn: 0.0595 - kl_loss_fn: 29.3381 - val_loss: 0.3377 - val_mse_loss_fn: 0.0442 - val_kl_loss_fn: 29.2975\n",
      "Epoch 257/1001\n",
      "848896/849779 [============================>.] - ETA: 0s - loss: 0.3550 - mse_loss_fn: 0.0623 - kl_loss_fn: 29.3386\n",
      "Epoch 00257: val_loss did not improve from 0.33124\n",
      "849779/849779 [==============================] - 2s 2us/sample - loss: 0.3550 - mse_loss_fn: 0.0622 - kl_loss_fn: 29.3389 - val_loss: 0.3405 - val_mse_loss_fn: 0.0471 - val_kl_loss_fn: 29.2828\n",
      "Epoch 258/1001\n",
      "831488/849779 [============================>.] - ETA: 0s - loss: 0.3556 - mse_loss_fn: 0.0629 - kl_loss_fn: 29.3331\n",
      "Epoch 00258: val_loss did not improve from 0.33124\n",
      "849779/849779 [==============================] - 2s 2us/sample - loss: 0.3554 - mse_loss_fn: 0.0627 - kl_loss_fn: 29.3324 - val_loss: 0.3412 - val_mse_loss_fn: 0.0476 - val_kl_loss_fn: 29.2956\n",
      "Epoch 259/1001\n",
      "835584/849779 [============================>.] - ETA: 0s - loss: 0.3587 - mse_loss_fn: 0.0660 - kl_loss_fn: 29.3288\n",
      "Epoch 00259: val_loss did not improve from 0.33124\n",
      "849779/849779 [==============================] - 2s 2us/sample - loss: 0.3585 - mse_loss_fn: 0.0659 - kl_loss_fn: 29.3291 - val_loss: 0.3328 - val_mse_loss_fn: 0.0396 - val_kl_loss_fn: 29.2663\n",
      "Epoch 260/1001\n",
      "840704/849779 [============================>.] - ETA: 0s - loss: 0.3531 - mse_loss_fn: 0.0605 - kl_loss_fn: 29.3260\n",
      "Epoch 00260: val_loss did not improve from 0.33124\n",
      "849779/849779 [==============================] - 2s 2us/sample - loss: 0.3529 - mse_loss_fn: 0.0603 - kl_loss_fn: 29.3261 - val_loss: 0.3316 - val_mse_loss_fn: 0.0386 - val_kl_loss_fn: 29.2416\n",
      "Epoch 261/1001\n",
      "844800/849779 [============================>.] - ETA: 0s - loss: 0.3563 - mse_loss_fn: 0.0637 - kl_loss_fn: 29.3241\n",
      "Epoch 00261: val_loss did not improve from 0.33124\n",
      "849779/849779 [==============================] - 2s 2us/sample - loss: 0.3563 - mse_loss_fn: 0.0637 - kl_loss_fn: 29.3243 - val_loss: 0.3317 - val_mse_loss_fn: 0.0386 - val_kl_loss_fn: 29.2673\n",
      "Epoch 262/1001\n",
      "845824/849779 [============================>.] - ETA: 0s - loss: 0.3563 - mse_loss_fn: 0.0637 - kl_loss_fn: 29.3250\n",
      "Epoch 00262: val_loss did not improve from 0.33124\n",
      "849779/849779 [==============================] - 4s 4us/sample - loss: 0.3563 - mse_loss_fn: 0.0637 - kl_loss_fn: 29.3249 - val_loss: 0.3403 - val_mse_loss_fn: 0.0477 - val_kl_loss_fn: 29.2037\n",
      "Epoch 263/1001\n",
      "845824/849779 [============================>.] - ETA: 0s - loss: 0.3554 - mse_loss_fn: 0.0629 - kl_loss_fn: 29.3217\n",
      "Epoch 00263: val_loss did not improve from 0.33124\n",
      "849779/849779 [==============================] - 4s 4us/sample - loss: 0.3554 - mse_loss_fn: 0.0628 - kl_loss_fn: 29.3215 - val_loss: 0.3341 - val_mse_loss_fn: 0.0410 - val_kl_loss_fn: 29.2578\n",
      "Epoch 264/1001\n",
      "843776/849779 [============================>.] - ETA: 0s - loss: 0.3534 - mse_loss_fn: 0.0609 - kl_loss_fn: 29.3167\n",
      "Epoch 00264: val_loss did not improve from 0.33124\n",
      "849779/849779 [==============================] - 2s 2us/sample - loss: 0.3542 - mse_loss_fn: 0.0616 - kl_loss_fn: 29.3167 - val_loss: 0.3652 - val_mse_loss_fn: 0.0711 - val_kl_loss_fn: 29.3197\n",
      "Epoch 265/1001\n",
      "847872/849779 [============================>.] - ETA: 0s - loss: 0.3534 - mse_loss_fn: 0.0608 - kl_loss_fn: 29.3199\n",
      "Epoch 00265: val_loss did not improve from 0.33124\n",
      "849779/849779 [==============================] - 7s 8us/sample - loss: 0.3534 - mse_loss_fn: 0.0609 - kl_loss_fn: 29.3197 - val_loss: 0.3390 - val_mse_loss_fn: 0.0456 - val_kl_loss_fn: 29.2772\n",
      "Epoch 266/1001\n",
      "833536/849779 [============================>.] - ETA: 0s - loss: 0.3560 - mse_loss_fn: 0.0635 - kl_loss_fn: 29.3171\n",
      "Epoch 00266: val_loss did not improve from 0.33124\n",
      "849779/849779 [==============================] - 5s 6us/sample - loss: 0.3561 - mse_loss_fn: 0.0636 - kl_loss_fn: 29.3190 - val_loss: 0.3383 - val_mse_loss_fn: 0.0444 - val_kl_loss_fn: 29.3420\n",
      "Epoch 267/1001\n",
      "840704/849779 [============================>.] - ETA: 0s - loss: 0.3555 - mse_loss_fn: 0.0630 - kl_loss_fn: 29.3155\n",
      "Epoch 00267: val_loss improved from 0.33124 to 0.33012, saving model to outputs/models/cVAEz6_03-28-2023_wLogit/cbvae_LHCO2020_20d_e-6.hdf5\n",
      "849779/849779 [==============================] - 2s 2us/sample - loss: 0.3555 - mse_loss_fn: 0.0630 - kl_loss_fn: 29.3160 - val_loss: 0.3301 - val_mse_loss_fn: 0.0365 - val_kl_loss_fn: 29.3110\n",
      "Epoch 268/1001\n",
      "849779/849779 [==============================] - ETA: 0s - loss: 0.3547 - mse_loss_fn: 0.0621 - kl_loss_fn: 29.3192\n",
      "Epoch 00268: val_loss did not improve from 0.33012\n",
      "849779/849779 [==============================] - 4s 4us/sample - loss: 0.3547 - mse_loss_fn: 0.0621 - kl_loss_fn: 29.3192 - val_loss: 0.3502 - val_mse_loss_fn: 0.0572 - val_kl_loss_fn: 29.2258\n",
      "Epoch 269/1001\n",
      "846848/849779 [============================>.] - ETA: 0s - loss: 0.3569 - mse_loss_fn: 0.0644 - kl_loss_fn: 29.3130\n",
      "Epoch 00269: val_loss did not improve from 0.33012\n",
      "849779/849779 [==============================] - 16s 19us/sample - loss: 0.3570 - mse_loss_fn: 0.0645 - kl_loss_fn: 29.3128 - val_loss: 0.3402 - val_mse_loss_fn: 0.0474 - val_kl_loss_fn: 29.2247\n",
      "Epoch 270/1001\n",
      "849779/849779 [==============================] - ETA: 0s - loss: 0.3525 - mse_loss_fn: 0.0600 - kl_loss_fn: 29.3108\n",
      "Epoch 00270: val_loss did not improve from 0.33012\n",
      "849779/849779 [==============================] - 2s 2us/sample - loss: 0.3525 - mse_loss_fn: 0.0600 - kl_loss_fn: 29.3108 - val_loss: 0.3304 - val_mse_loss_fn: 0.0371 - val_kl_loss_fn: 29.2859\n",
      "Epoch 271/1001\n",
      "839680/849779 [============================>.] - ETA: 0s - loss: 0.3536 - mse_loss_fn: 0.0611 - kl_loss_fn: 29.3085\n",
      "Epoch 00271: val_loss improved from 0.33012 to 0.32766, saving model to outputs/models/cVAEz6_03-28-2023_wLogit/cbvae_LHCO2020_20d_e-6.hdf5\n",
      "849779/849779 [==============================] - 2s 2us/sample - loss: 0.3533 - mse_loss_fn: 0.0609 - kl_loss_fn: 29.3082 - val_loss: 0.3277 - val_mse_loss_fn: 0.0345 - val_kl_loss_fn: 29.2696\n",
      "Epoch 272/1001\n",
      "828416/849779 [============================>.] - ETA: 0s - loss: 0.3547 - mse_loss_fn: 0.0622 - kl_loss_fn: 29.3079\n",
      "Epoch 00272: val_loss did not improve from 0.32766\n",
      "849779/849779 [==============================] - 2s 2us/sample - loss: 0.3549 - mse_loss_fn: 0.0625 - kl_loss_fn: 29.3081 - val_loss: 0.3504 - val_mse_loss_fn: 0.0576 - val_kl_loss_fn: 29.2100\n",
      "Epoch 273/1001\n",
      "829440/849779 [============================>.] - ETA: 0s - loss: 0.3544 - mse_loss_fn: 0.0620 - kl_loss_fn: 29.3089\n",
      "Epoch 00273: val_loss did not improve from 0.32766\n",
      "849779/849779 [==============================] - 2s 2us/sample - loss: 0.3546 - mse_loss_fn: 0.0621 - kl_loss_fn: 29.3091 - val_loss: 0.3338 - val_mse_loss_fn: 0.0412 - val_kl_loss_fn: 29.2036\n",
      "Epoch 274/1001\n",
      "840704/849779 [============================>.] - ETA: 0s - loss: 0.3543 - mse_loss_fn: 0.0619 - kl_loss_fn: 29.3040\n",
      "Epoch 00274: val_loss did not improve from 0.32766\n",
      "849779/849779 [==============================] - 2s 2us/sample - loss: 0.3543 - mse_loss_fn: 0.0618 - kl_loss_fn: 29.3041 - val_loss: 0.3341 - val_mse_loss_fn: 0.0411 - val_kl_loss_fn: 29.2438\n",
      "Epoch 275/1001\n",
      "841728/849779 [============================>.] - ETA: 0s - loss: 0.3545 - mse_loss_fn: 0.0622 - kl_loss_fn: 29.2991\n",
      "Epoch 00275: val_loss did not improve from 0.32766\n",
      "849779/849779 [==============================] - 2s 2us/sample - loss: 0.3545 - mse_loss_fn: 0.0621 - kl_loss_fn: 29.2996 - val_loss: 0.3302 - val_mse_loss_fn: 0.0370 - val_kl_loss_fn: 29.2746\n",
      "Epoch 276/1001\n",
      "849779/849779 [==============================] - ETA: 0s - loss: 0.3540 - mse_loss_fn: 0.0617 - kl_loss_fn: 29.2997\n",
      "Epoch 00276: val_loss did not improve from 0.32766\n",
      "849779/849779 [==============================] - 2s 2us/sample - loss: 0.3540 - mse_loss_fn: 0.0617 - kl_loss_fn: 29.2997 - val_loss: 0.3287 - val_mse_loss_fn: 0.0356 - val_kl_loss_fn: 29.2647\n",
      "Epoch 277/1001\n",
      "824320/849779 [============================>.] - ETA: 0s - loss: 0.3554 - mse_loss_fn: 0.0631 - kl_loss_fn: 29.2984\n",
      "Epoch 00277: val_loss did not improve from 0.32766\n",
      "849779/849779 [==============================] - 2s 2us/sample - loss: 0.3555 - mse_loss_fn: 0.0631 - kl_loss_fn: 29.2995 - val_loss: 0.3415 - val_mse_loss_fn: 0.0485 - val_kl_loss_fn: 29.2327\n",
      "Epoch 278/1001\n",
      "842752/849779 [============================>.] - ETA: 0s - loss: 0.3526 - mse_loss_fn: 0.0602 - kl_loss_fn: 29.2993\n",
      "Epoch 00278: val_loss did not improve from 0.32766\n",
      "849779/849779 [==============================] - 2s 2us/sample - loss: 0.3526 - mse_loss_fn: 0.0602 - kl_loss_fn: 29.2992 - val_loss: 0.3445 - val_mse_loss_fn: 0.0514 - val_kl_loss_fn: 29.2457\n",
      "Epoch 279/1001\n",
      "833536/849779 [============================>.] - ETA: 0s - loss: 0.3530 - mse_loss_fn: 0.0607 - kl_loss_fn: 29.2957\n",
      "Epoch 00279: val_loss did not improve from 0.32766\n",
      "849779/849779 [==============================] - 2s 2us/sample - loss: 0.3530 - mse_loss_fn: 0.0606 - kl_loss_fn: 29.2960 - val_loss: 0.3395 - val_mse_loss_fn: 0.0470 - val_kl_loss_fn: 29.1940\n",
      "Epoch 280/1001\n",
      "849779/849779 [==============================] - ETA: 0s - loss: 0.3525 - mse_loss_fn: 0.0602 - kl_loss_fn: 29.2904\n",
      "Epoch 00280: val_loss did not improve from 0.32766\n",
      "849779/849779 [==============================] - 2s 2us/sample - loss: 0.3525 - mse_loss_fn: 0.0602 - kl_loss_fn: 29.2904 - val_loss: 0.3369 - val_mse_loss_fn: 0.0435 - val_kl_loss_fn: 29.2806\n",
      "Epoch 281/1001\n",
      "832512/849779 [============================>.] - ETA: 0s - loss: 0.3546 - mse_loss_fn: 0.0623 - kl_loss_fn: 29.2931\n",
      "Epoch 00281: val_loss did not improve from 0.32766\n",
      "849779/849779 [==============================] - 2s 2us/sample - loss: 0.3551 - mse_loss_fn: 0.0628 - kl_loss_fn: 29.2920 - val_loss: 0.3506 - val_mse_loss_fn: 0.0576 - val_kl_loss_fn: 29.2249\n",
      "Epoch 282/1001\n",
      "830464/849779 [============================>.] - ETA: 0s - loss: 0.3541 - mse_loss_fn: 0.0618 - kl_loss_fn: 29.2886\n",
      "Epoch 00282: val_loss did not improve from 0.32766\n",
      "849779/849779 [==============================] - 2s 2us/sample - loss: 0.3543 - mse_loss_fn: 0.0620 - kl_loss_fn: 29.2894 - val_loss: 0.3342 - val_mse_loss_fn: 0.0410 - val_kl_loss_fn: 29.2668\n",
      "Epoch 283/1001\n",
      "829440/849779 [============================>.] - ETA: 0s - loss: 0.3527 - mse_loss_fn: 0.0605 - kl_loss_fn: 29.2837\n",
      "Epoch 00283: val_loss did not improve from 0.32766\n",
      "849779/849779 [==============================] - 2s 2us/sample - loss: 0.3532 - mse_loss_fn: 0.0609 - kl_loss_fn: 29.2846 - val_loss: 0.3388 - val_mse_loss_fn: 0.0451 - val_kl_loss_fn: 29.3096\n",
      "Epoch 284/1001\n",
      "846848/849779 [============================>.] - ETA: 0s - loss: 0.3505 - mse_loss_fn: 0.0582 - kl_loss_fn: 29.2865\n",
      "Epoch 00284: val_loss did not improve from 0.32766\n",
      "849779/849779 [==============================] - 2s 2us/sample - loss: 0.3506 - mse_loss_fn: 0.0583 - kl_loss_fn: 29.2863 - val_loss: 0.3434 - val_mse_loss_fn: 0.0504 - val_kl_loss_fn: 29.2430\n",
      "Epoch 285/1001\n",
      "839680/849779 [============================>.] - ETA: 0s - loss: 0.3560 - mse_loss_fn: 0.0637 - kl_loss_fn: 29.2846\n",
      "Epoch 00285: val_loss did not improve from 0.32766\n",
      "849779/849779 [==============================] - 2s 2us/sample - loss: 0.3560 - mse_loss_fn: 0.0638 - kl_loss_fn: 29.2841 - val_loss: 0.3304 - val_mse_loss_fn: 0.0371 - val_kl_loss_fn: 29.2841\n",
      "Epoch 286/1001\n",
      "842752/849779 [============================>.] - ETA: 0s - loss: 0.3521 - mse_loss_fn: 0.0599 - kl_loss_fn: 29.2881\n",
      "Epoch 00286: val_loss did not improve from 0.32766\n",
      "849779/849779 [==============================] - 2s 2us/sample - loss: 0.3521 - mse_loss_fn: 0.0598 - kl_loss_fn: 29.2878 - val_loss: 0.3306 - val_mse_loss_fn: 0.0373 - val_kl_loss_fn: 29.2840\n",
      "Epoch 287/1001\n",
      "836608/849779 [============================>.] - ETA: 0s - loss: 0.3531 - mse_loss_fn: 0.0609 - kl_loss_fn: 29.2818\n",
      "Epoch 00287: val_loss did not improve from 0.32766\n",
      "849779/849779 [==============================] - 2s 2us/sample - loss: 0.3530 - mse_loss_fn: 0.0608 - kl_loss_fn: 29.2818 - val_loss: 0.3353 - val_mse_loss_fn: 0.0423 - val_kl_loss_fn: 29.2458\n",
      "Epoch 288/1001\n",
      "848896/849779 [============================>.] - ETA: 0s - loss: 0.3513 - mse_loss_fn: 0.0591 - kl_loss_fn: 29.2831\n",
      "Epoch 00288: val_loss did not improve from 0.32766\n",
      "849779/849779 [==============================] - 6s 7us/sample - loss: 0.3513 - mse_loss_fn: 0.0591 - kl_loss_fn: 29.2831 - val_loss: 0.3519 - val_mse_loss_fn: 0.0584 - val_kl_loss_fn: 29.2721\n",
      "Epoch 289/1001\n",
      "829440/849779 [============================>.] - ETA: 0s - loss: 0.3516 - mse_loss_fn: 0.0594 - kl_loss_fn: 29.2814\n",
      "Epoch 00289: val_loss did not improve from 0.32766\n",
      "849779/849779 [==============================] - 2s 2us/sample - loss: 0.3522 - mse_loss_fn: 0.0600 - kl_loss_fn: 29.2801 - val_loss: 0.3664 - val_mse_loss_fn: 0.0734 - val_kl_loss_fn: 29.2065\n",
      "Epoch 290/1001\n",
      "839680/849779 [============================>.] - ETA: 0s - loss: 0.3547 - mse_loss_fn: 0.0626 - kl_loss_fn: 29.2774\n",
      "Epoch 00290: val_loss did not improve from 0.32766\n",
      "849779/849779 [==============================] - 2s 2us/sample - loss: 0.3547 - mse_loss_fn: 0.0625 - kl_loss_fn: 29.2778 - val_loss: 0.3384 - val_mse_loss_fn: 0.0452 - val_kl_loss_fn: 29.2542\n",
      "Epoch 291/1001\n",
      "848896/849779 [============================>.] - ETA: 0s - loss: 0.3515 - mse_loss_fn: 0.0593 - kl_loss_fn: 29.2776- ETA\n",
      "Epoch 00291: val_loss did not improve from 0.32766\n",
      "849779/849779 [==============================] - 19s 22us/sample - loss: 0.3515 - mse_loss_fn: 0.0593 - kl_loss_fn: 29.2777 - val_loss: 0.3634 - val_mse_loss_fn: 0.0701 - val_kl_loss_fn: 29.2388\n",
      "Epoch 292/1001\n",
      "830464/849779 [============================>.] - ETA: 0s - loss: 0.3534 - mse_loss_fn: 0.0613 - kl_loss_fn: 29.2736\n",
      "Epoch 00292: val_loss did not improve from 0.32766\n",
      "849779/849779 [==============================] - 5s 6us/sample - loss: 0.3535 - mse_loss_fn: 0.0614 - kl_loss_fn: 29.2736 - val_loss: 0.3507 - val_mse_loss_fn: 0.0574 - val_kl_loss_fn: 29.2609\n",
      "Epoch 293/1001\n",
      "844800/849779 [============================>.] - ETA: 0s - loss: 0.3528 - mse_loss_fn: 0.0607 - kl_loss_fn: 29.2718\n",
      "Epoch 00293: val_loss did not improve from 0.32766\n",
      "849779/849779 [==============================] - 28s 34us/sample - loss: 0.3528 - mse_loss_fn: 0.0607 - kl_loss_fn: 29.2714 - val_loss: 0.3395 - val_mse_loss_fn: 0.0462 - val_kl_loss_fn: 29.2680\n",
      "Epoch 294/1001\n",
      "828416/849779 [============================>.] - ETA: 0s - loss: 0.3534 - mse_loss_fn: 0.0613 - kl_loss_fn: 29.2726\n",
      "Epoch 00294: val_loss did not improve from 0.32766\n",
      "849779/849779 [==============================] - 2s 2us/sample - loss: 0.3533 - mse_loss_fn: 0.0611 - kl_loss_fn: 29.2721 - val_loss: 0.3343 - val_mse_loss_fn: 0.0409 - val_kl_loss_fn: 29.2882\n",
      "Epoch 295/1001\n",
      "841728/849779 [============================>.] - ETA: 0s - loss: 0.3501 - mse_loss_fn: 0.0579 - kl_loss_fn: 29.2743\n",
      "Epoch 00295: val_loss did not improve from 0.32766\n",
      "849779/849779 [==============================] - 2s 2us/sample - loss: 0.3500 - mse_loss_fn: 0.0578 - kl_loss_fn: 29.2742 - val_loss: 0.3428 - val_mse_loss_fn: 0.0501 - val_kl_loss_fn: 29.2003\n",
      "Epoch 296/1001\n",
      "832512/849779 [============================>.] - ETA: 0s - loss: 0.3551 - mse_loss_fn: 0.0630 - kl_loss_fn: 29.2698\n",
      "Epoch 00296: val_loss did not improve from 0.32766\n",
      "849779/849779 [==============================] - 2s 2us/sample - loss: 0.3550 - mse_loss_fn: 0.0629 - kl_loss_fn: 29.2699 - val_loss: 0.3349 - val_mse_loss_fn: 0.0423 - val_kl_loss_fn: 29.2062\n",
      "Epoch 297/1001\n",
      "829440/849779 [============================>.] - ETA: 0s - loss: 0.3524 - mse_loss_fn: 0.0603 - kl_loss_fn: 29.2695\n",
      "Epoch 00297: val_loss did not improve from 0.32766\n",
      "849779/849779 [==============================] - 2s 2us/sample - loss: 0.3521 - mse_loss_fn: 0.0600 - kl_loss_fn: 29.2700 - val_loss: 0.3397 - val_mse_loss_fn: 0.0465 - val_kl_loss_fn: 29.2550\n",
      "Epoch 298/1001\n",
      "846848/849779 [============================>.] - ETA: 0s - loss: 0.3528 - mse_loss_fn: 0.0608 - kl_loss_fn: 29.2644\n",
      "Epoch 00298: val_loss did not improve from 0.32766\n",
      "849779/849779 [==============================] - 2s 2us/sample - loss: 0.3527 - mse_loss_fn: 0.0607 - kl_loss_fn: 29.2643 - val_loss: 0.3328 - val_mse_loss_fn: 0.0403 - val_kl_loss_fn: 29.1955\n",
      "Epoch 299/1001\n",
      "837632/849779 [============================>.] - ETA: 0s - loss: 0.3513 - mse_loss_fn: 0.0593 - kl_loss_fn: 29.2649\n",
      "Epoch 00299: val_loss did not improve from 0.32766\n",
      "849779/849779 [==============================] - 2s 2us/sample - loss: 0.3515 - mse_loss_fn: 0.0594 - kl_loss_fn: 29.2651 - val_loss: 0.3399 - val_mse_loss_fn: 0.0468 - val_kl_loss_fn: 29.2547\n",
      "Epoch 300/1001\n",
      "848896/849779 [============================>.] - ETA: 0s - loss: 0.3513 - mse_loss_fn: 0.0593 - kl_loss_fn: 29.2610\n",
      "Epoch 00300: val_loss did not improve from 0.32766\n",
      "849779/849779 [==============================] - 2s 2us/sample - loss: 0.3513 - mse_loss_fn: 0.0592 - kl_loss_fn: 29.2610 - val_loss: 0.3364 - val_mse_loss_fn: 0.0440 - val_kl_loss_fn: 29.1836\n",
      "Epoch 301/1001\n",
      "831488/849779 [============================>.] - ETA: 0s - loss: 0.3523 - mse_loss_fn: 0.0603 - kl_loss_fn: 29.2613\n",
      "Epoch 00301: val_loss did not improve from 0.32766\n",
      "849779/849779 [==============================] - 2s 2us/sample - loss: 0.3527 - mse_loss_fn: 0.0607 - kl_loss_fn: 29.2611 - val_loss: 0.3348 - val_mse_loss_fn: 0.0421 - val_kl_loss_fn: 29.2137\n",
      "Epoch 302/1001\n",
      "826368/849779 [============================>.] - ETA: 0s - loss: 0.3512 - mse_loss_fn: 0.0591 - kl_loss_fn: 29.2633\n",
      "Epoch 00302: val_loss did not improve from 0.32766\n",
      "849779/849779 [==============================] - 2s 2us/sample - loss: 0.3514 - mse_loss_fn: 0.0594 - kl_loss_fn: 29.2628 - val_loss: 0.3354 - val_mse_loss_fn: 0.0423 - val_kl_loss_fn: 29.2603\n",
      "Epoch 303/1001\n",
      "842752/849779 [============================>.] - ETA: 0s - loss: 0.3514 - mse_loss_fn: 0.0594 - kl_loss_fn: 29.2612\n",
      "Epoch 00303: val_loss did not improve from 0.32766\n",
      "849779/849779 [==============================] - 2s 2us/sample - loss: 0.3515 - mse_loss_fn: 0.0595 - kl_loss_fn: 29.2609 - val_loss: 0.3395 - val_mse_loss_fn: 0.0472 - val_kl_loss_fn: 29.1653\n",
      "Epoch 304/1001\n",
      "827392/849779 [============================>.] - ETA: 0s - loss: 0.3505 - mse_loss_fn: 0.0585 - kl_loss_fn: 29.2556\n",
      "Epoch 00304: val_loss did not improve from 0.32766\n",
      "849779/849779 [==============================] - 2s 2us/sample - loss: 0.3505 - mse_loss_fn: 0.0586 - kl_loss_fn: 29.2555 - val_loss: 0.3322 - val_mse_loss_fn: 0.0393 - val_kl_loss_fn: 29.2429\n",
      "Epoch 305/1001\n",
      "836608/849779 [============================>.] - ETA: 0s - loss: 0.3527 - mse_loss_fn: 0.0607 - kl_loss_fn: 29.2592\n",
      "Epoch 00305: val_loss did not improve from 0.32766\n",
      "849779/849779 [==============================] - 2s 2us/sample - loss: 0.3524 - mse_loss_fn: 0.0604 - kl_loss_fn: 29.2596 - val_loss: 0.3308 - val_mse_loss_fn: 0.0381 - val_kl_loss_fn: 29.2183\n",
      "Epoch 306/1001\n",
      "844800/849779 [============================>.] - ETA: 0s - loss: 0.3533 - mse_loss_fn: 0.0614 - kl_loss_fn: 29.2576\n",
      "Epoch 00306: val_loss did not improve from 0.32766\n",
      "849779/849779 [==============================] - 2s 2us/sample - loss: 0.3533 - mse_loss_fn: 0.0614 - kl_loss_fn: 29.2579 - val_loss: 0.3383 - val_mse_loss_fn: 0.0455 - val_kl_loss_fn: 29.2203\n",
      "Epoch 307/1001\n",
      "844800/849779 [============================>.] - ETA: 0s - loss: 0.3506 - mse_loss_fn: 0.0587 - kl_loss_fn: 29.2533\n",
      "Epoch 00307: val_loss did not improve from 0.32766\n",
      "849779/849779 [==============================] - 2s 2us/sample - loss: 0.3507 - mse_loss_fn: 0.0587 - kl_loss_fn: 29.2538 - val_loss: 0.3437 - val_mse_loss_fn: 0.0507 - val_kl_loss_fn: 29.2355\n",
      "Epoch 308/1001\n",
      "840704/849779 [============================>.] - ETA: 0s - loss: 0.3505 - mse_loss_fn: 0.0586 - kl_loss_fn: 29.2492\n",
      "Epoch 00308: val_loss did not improve from 0.32766\n",
      "849779/849779 [==============================] - 2s 2us/sample - loss: 0.3504 - mse_loss_fn: 0.0585 - kl_loss_fn: 29.2487 - val_loss: 0.3294 - val_mse_loss_fn: 0.0365 - val_kl_loss_fn: 29.2374\n",
      "Epoch 309/1001\n",
      "849779/849779 [==============================] - ETA: 0s - loss: 0.3508 - mse_loss_fn: 0.0588 - kl_loss_fn: 29.2543\n",
      "Epoch 00309: val_loss did not improve from 0.32766\n",
      "849779/849779 [==============================] - 2s 2us/sample - loss: 0.3508 - mse_loss_fn: 0.0588 - kl_loss_fn: 29.2543 - val_loss: 0.3484 - val_mse_loss_fn: 0.0560 - val_kl_loss_fn: 29.1710\n",
      "Epoch 310/1001\n",
      "844800/849779 [============================>.] - ETA: 0s - loss: 0.3496 - mse_loss_fn: 0.0577 - kl_loss_fn: 29.2484\n",
      "Epoch 00310: val_loss did not improve from 0.32766\n",
      "849779/849779 [==============================] - 2s 2us/sample - loss: 0.3495 - mse_loss_fn: 0.0576 - kl_loss_fn: 29.2484 - val_loss: 0.3285 - val_mse_loss_fn: 0.0357 - val_kl_loss_fn: 29.2327\n",
      "Epoch 311/1001\n",
      "841728/849779 [============================>.] - ETA: 0s - loss: 0.3512 - mse_loss_fn: 0.0593 - kl_loss_fn: 29.2491\n",
      "Epoch 00311: val_loss did not improve from 0.32766\n",
      "849779/849779 [==============================] - 6s 7us/sample - loss: 0.3511 - mse_loss_fn: 0.0592 - kl_loss_fn: 29.2487 - val_loss: 0.3370 - val_mse_loss_fn: 0.0443 - val_kl_loss_fn: 29.2088\n",
      "Epoch 312/1001\n",
      "833536/849779 [============================>.] - ETA: 0s - loss: 0.3539 - mse_loss_fn: 0.0620 - kl_loss_fn: 29.2458\n",
      "Epoch 00312: val_loss did not improve from 0.32766\n",
      "849779/849779 [==============================] - 2s 2us/sample - loss: 0.3537 - mse_loss_fn: 0.0619 - kl_loss_fn: 29.2445 - val_loss: 0.3411 - val_mse_loss_fn: 0.0478 - val_kl_loss_fn: 29.2665\n",
      "Epoch 313/1001\n",
      "849779/849779 [==============================] - ETA: 0s - loss: 0.3506 - mse_loss_fn: 0.0587 - kl_loss_fn: 29.2495\n",
      "Epoch 00313: val_loss did not improve from 0.32766\n",
      "849779/849779 [==============================] - 2s 2us/sample - loss: 0.3506 - mse_loss_fn: 0.0587 - kl_loss_fn: 29.2495 - val_loss: 0.3392 - val_mse_loss_fn: 0.0460 - val_kl_loss_fn: 29.2587\n",
      "Epoch 314/1001\n",
      "843776/849779 [============================>.] - ETA: 0s - loss: 0.3531 - mse_loss_fn: 0.0612 - kl_loss_fn: 29.2485\n",
      "Epoch 00314: val_loss did not improve from 0.32766\n",
      "849779/849779 [==============================] - 10s 12us/sample - loss: 0.3531 - mse_loss_fn: 0.0612 - kl_loss_fn: 29.2480 - val_loss: 0.3324 - val_mse_loss_fn: 0.0404 - val_kl_loss_fn: 29.1468\n",
      "Epoch 315/1001\n",
      "847872/849779 [============================>.] - ETA: 0s - loss: 0.3498 - mse_loss_fn: 0.0579 - kl_loss_fn: 29.2466\n",
      "Epoch 00315: val_loss did not improve from 0.32766\n",
      "849779/849779 [==============================] - 10s 12us/sample - loss: 0.3498 - mse_loss_fn: 0.0579 - kl_loss_fn: 29.2467 - val_loss: 0.3369 - val_mse_loss_fn: 0.0442 - val_kl_loss_fn: 29.2129\n",
      "Epoch 316/1001\n",
      "846848/849779 [============================>.] - ETA: 0s - loss: 0.3496 - mse_loss_fn: 0.0578 - kl_loss_fn: 29.2403\n",
      "Epoch 00316: val_loss did not improve from 0.32766\n",
      "849779/849779 [==============================] - 25s 30us/sample - loss: 0.3497 - mse_loss_fn: 0.0578 - kl_loss_fn: 29.2404 - val_loss: 0.3354 - val_mse_loss_fn: 0.0424 - val_kl_loss_fn: 29.2440\n",
      "Epoch 317/1001\n",
      "838656/849779 [============================>.] - ETA: 0s - loss: 0.3512 - mse_loss_fn: 0.0594 - kl_loss_fn: 29.2461\n",
      "Epoch 00317: val_loss did not improve from 0.32766\n",
      "849779/849779 [==============================] - 4s 5us/sample - loss: 0.3511 - mse_loss_fn: 0.0592 - kl_loss_fn: 29.2463 - val_loss: 0.3326 - val_mse_loss_fn: 0.0401 - val_kl_loss_fn: 29.2014\n",
      "Epoch 318/1001\n",
      "827392/849779 [============================>.] - ETA: 0s - loss: 0.3510 - mse_loss_fn: 0.0592 - kl_loss_fn: 29.2392\n",
      "Epoch 00318: val_loss did not improve from 0.32766\n",
      "849779/849779 [==============================] - 2s 2us/sample - loss: 0.3509 - mse_loss_fn: 0.0591 - kl_loss_fn: 29.2399 - val_loss: 0.3354 - val_mse_loss_fn: 0.0428 - val_kl_loss_fn: 29.2359\n",
      "Epoch 319/1001\n",
      "835584/849779 [============================>.] - ETA: 0s - loss: 0.3502 - mse_loss_fn: 0.0584 - kl_loss_fn: 29.2380\n",
      "Epoch 00319: val_loss did not improve from 0.32766\n",
      "849779/849779 [==============================] - 2s 2us/sample - loss: 0.3500 - mse_loss_fn: 0.0582 - kl_loss_fn: 29.2380 - val_loss: 0.3323 - val_mse_loss_fn: 0.0397 - val_kl_loss_fn: 29.2031\n",
      "Epoch 320/1001\n",
      "827392/849779 [============================>.] - ETA: 0s - loss: 0.3503 - mse_loss_fn: 0.0585 - kl_loss_fn: 29.2409\n",
      "Epoch 00320: val_loss did not improve from 0.32766\n",
      "849779/849779 [==============================] - 2s 2us/sample - loss: 0.3500 - mse_loss_fn: 0.0582 - kl_loss_fn: 29.2397 - val_loss: 0.3320 - val_mse_loss_fn: 0.0395 - val_kl_loss_fn: 29.1992\n",
      "Epoch 321/1001\n",
      "848896/849779 [============================>.] - ETA: 0s - loss: 0.3516 - mse_loss_fn: 0.0598 - kl_loss_fn: 29.2391\n",
      "Epoch 00321: val_loss did not improve from 0.32766\n",
      "849779/849779 [==============================] - 2s 2us/sample - loss: 0.3516 - mse_loss_fn: 0.0598 - kl_loss_fn: 29.2391 - val_loss: 0.3282 - val_mse_loss_fn: 0.0359 - val_kl_loss_fn: 29.1834\n",
      "Epoch 322/1001\n",
      "846848/849779 [============================>.] - ETA: 0s - loss: 0.3503 - mse_loss_fn: 0.0585 - kl_loss_fn: 29.2372\n",
      "Epoch 00322: val_loss did not improve from 0.32766\n",
      "849779/849779 [==============================] - 2s 2us/sample - loss: 0.3502 - mse_loss_fn: 0.0584 - kl_loss_fn: 29.2374 - val_loss: 0.3410 - val_mse_loss_fn: 0.0489 - val_kl_loss_fn: 29.1444\n",
      "Epoch 323/1001\n",
      "848896/849779 [============================>.] - ETA: 0s - loss: 0.3517 - mse_loss_fn: 0.0599 - kl_loss_fn: 29.2337\n",
      "Epoch 00323: val_loss did not improve from 0.32766\n",
      "849779/849779 [==============================] - 2s 2us/sample - loss: 0.3517 - mse_loss_fn: 0.0599 - kl_loss_fn: 29.2338 - val_loss: 0.3356 - val_mse_loss_fn: 0.0431 - val_kl_loss_fn: 29.2006\n",
      "Epoch 324/1001\n",
      "847872/849779 [============================>.] - ETA: 0s - loss: 0.3505 - mse_loss_fn: 0.0587 - kl_loss_fn: 29.2374\n",
      "Epoch 00324: val_loss improved from 0.32766 to 0.32759, saving model to outputs/models/cVAEz6_03-28-2023_wLogit/cbvae_LHCO2020_20d_e-6.hdf5\n",
      "849779/849779 [==============================] - 2s 2us/sample - loss: 0.3505 - mse_loss_fn: 0.0587 - kl_loss_fn: 29.2374 - val_loss: 0.3276 - val_mse_loss_fn: 0.0351 - val_kl_loss_fn: 29.2008\n",
      "Epoch 325/1001\n",
      "827392/849779 [============================>.] - ETA: 0s - loss: 0.3524 - mse_loss_fn: 0.0606 - kl_loss_fn: 29.2398\n",
      "Epoch 00325: val_loss did not improve from 0.32759\n",
      "849779/849779 [==============================] - 2s 2us/sample - loss: 0.3521 - mse_loss_fn: 0.0603 - kl_loss_fn: 29.2383 - val_loss: 0.3353 - val_mse_loss_fn: 0.0425 - val_kl_loss_fn: 29.2300\n",
      "Epoch 326/1001\n",
      "837632/849779 [============================>.] - ETA: 0s - loss: 0.3482 - mse_loss_fn: 0.0564 - kl_loss_fn: 29.2326\n",
      "Epoch 00326: val_loss did not improve from 0.32759\n",
      "849779/849779 [==============================] - 2s 2us/sample - loss: 0.3482 - mse_loss_fn: 0.0565 - kl_loss_fn: 29.2324 - val_loss: 0.3373 - val_mse_loss_fn: 0.0451 - val_kl_loss_fn: 29.1674\n",
      "Epoch 327/1001\n",
      "829440/849779 [============================>.] - ETA: 0s - loss: 0.3489 - mse_loss_fn: 0.0571 - kl_loss_fn: 29.2322\n",
      "Epoch 00327: val_loss did not improve from 0.32759\n",
      "849779/849779 [==============================] - 2s 2us/sample - loss: 0.3494 - mse_loss_fn: 0.0577 - kl_loss_fn: 29.2323 - val_loss: 0.3410 - val_mse_loss_fn: 0.0493 - val_kl_loss_fn: 29.1079\n",
      "Epoch 328/1001\n",
      "832512/849779 [============================>.] - ETA: 0s - loss: 0.3521 - mse_loss_fn: 0.0604 - kl_loss_fn: 29.2274\n",
      "Epoch 00328: val_loss did not improve from 0.32759\n",
      "849779/849779 [==============================] - 2s 2us/sample - loss: 0.3522 - mse_loss_fn: 0.0605 - kl_loss_fn: 29.2275 - val_loss: 0.3413 - val_mse_loss_fn: 0.0489 - val_kl_loss_fn: 29.1739\n",
      "Epoch 329/1001\n",
      "839680/849779 [============================>.] - ETA: 0s - loss: 0.3512 - mse_loss_fn: 0.0595 - kl_loss_fn: 29.2290\n",
      "Epoch 00329: val_loss did not improve from 0.32759\n",
      "849779/849779 [==============================] - 2s 2us/sample - loss: 0.3511 - mse_loss_fn: 0.0594 - kl_loss_fn: 29.2282 - val_loss: 0.3367 - val_mse_loss_fn: 0.0446 - val_kl_loss_fn: 29.1559\n",
      "Epoch 330/1001\n",
      "841728/849779 [============================>.] - ETA: 0s - loss: 0.3498 - mse_loss_fn: 0.0581 - kl_loss_fn: 29.2283\n",
      "Epoch 00330: val_loss did not improve from 0.32759\n",
      "849779/849779 [==============================] - 2s 2us/sample - loss: 0.3498 - mse_loss_fn: 0.0581 - kl_loss_fn: 29.2275 - val_loss: 0.3375 - val_mse_loss_fn: 0.0450 - val_kl_loss_fn: 29.1923\n",
      "Epoch 331/1001\n",
      "835584/849779 [============================>.] - ETA: 0s - loss: 0.3509 - mse_loss_fn: 0.0592 - kl_loss_fn: 29.2290\n",
      "Epoch 00331: val_loss did not improve from 0.32759\n",
      "849779/849779 [==============================] - 2s 2us/sample - loss: 0.3508 - mse_loss_fn: 0.0591 - kl_loss_fn: 29.2289 - val_loss: 0.3341 - val_mse_loss_fn: 0.0415 - val_kl_loss_fn: 29.2002\n",
      "Epoch 332/1001\n",
      "841728/849779 [============================>.] - ETA: 0s - loss: 0.3500 - mse_loss_fn: 0.0583 - kl_loss_fn: 29.2245\n",
      "Epoch 00332: val_loss did not improve from 0.32759\n",
      "849779/849779 [==============================] - 2s 2us/sample - loss: 0.3499 - mse_loss_fn: 0.0582 - kl_loss_fn: 29.2245 - val_loss: 0.3310 - val_mse_loss_fn: 0.0387 - val_kl_loss_fn: 29.1806\n",
      "Epoch 333/1001\n",
      "827392/849779 [============================>.] - ETA: 0s - loss: 0.3494 - mse_loss_fn: 0.0578 - kl_loss_fn: 29.2256\n",
      "Epoch 00333: val_loss did not improve from 0.32759\n",
      "849779/849779 [==============================] - 2s 2us/sample - loss: 0.3495 - mse_loss_fn: 0.0578 - kl_loss_fn: 29.2259 - val_loss: 0.3428 - val_mse_loss_fn: 0.0512 - val_kl_loss_fn: 29.1169\n",
      "Epoch 334/1001\n",
      "833536/849779 [============================>.] - ETA: 0s - loss: 0.3522 - mse_loss_fn: 0.0605 - kl_loss_fn: 29.2263\n",
      "Epoch 00334: val_loss did not improve from 0.32759\n",
      "849779/849779 [==============================] - 2s 2us/sample - loss: 0.3520 - mse_loss_fn: 0.0604 - kl_loss_fn: 29.2266 - val_loss: 0.3327 - val_mse_loss_fn: 0.0403 - val_kl_loss_fn: 29.1844\n",
      "Epoch 335/1001\n",
      "841728/849779 [============================>.] - ETA: 0s - loss: 0.3502 - mse_loss_fn: 0.0585 - kl_loss_fn: 29.2217\n",
      "Epoch 00335: val_loss did not improve from 0.32759\n",
      "849779/849779 [==============================] - 2s 2us/sample - loss: 0.3500 - mse_loss_fn: 0.0584 - kl_loss_fn: 29.2215 - val_loss: 0.3310 - val_mse_loss_fn: 0.0392 - val_kl_loss_fn: 29.1288\n",
      "Epoch 336/1001\n",
      "831488/849779 [============================>.] - ETA: 0s - loss: 0.3471 - mse_loss_fn: 0.0554 - kl_loss_fn: 29.2230\n",
      "Epoch 00336: val_loss did not improve from 0.32759\n",
      "849779/849779 [==============================] - 2s 2us/sample - loss: 0.3475 - mse_loss_fn: 0.0558 - kl_loss_fn: 29.2225 - val_loss: 0.3390 - val_mse_loss_fn: 0.0472 - val_kl_loss_fn: 29.1247\n",
      "Epoch 337/1001\n",
      "838656/849779 [============================>.] - ETA: 0s - loss: 0.3492 - mse_loss_fn: 0.0575 - kl_loss_fn: 29.2232\n",
      "Epoch 00337: val_loss did not improve from 0.32759\n",
      "849779/849779 [==============================] - 6s 7us/sample - loss: 0.3491 - mse_loss_fn: 0.0574 - kl_loss_fn: 29.2235 - val_loss: 0.3369 - val_mse_loss_fn: 0.0444 - val_kl_loss_fn: 29.1922\n",
      "Epoch 338/1001\n",
      "838656/849779 [============================>.] - ETA: 0s - loss: 0.3500 - mse_loss_fn: 0.0584 - kl_loss_fn: 29.2160\n",
      "Epoch 00338: val_loss did not improve from 0.32759\n",
      "849779/849779 [==============================] - 2s 2us/sample - loss: 0.3500 - mse_loss_fn: 0.0584 - kl_loss_fn: 29.2163 - val_loss: 0.3283 - val_mse_loss_fn: 0.0356 - val_kl_loss_fn: 29.2220\n",
      "Epoch 339/1001\n",
      "849779/849779 [==============================] - ETA: 0s - loss: 0.3506 - mse_loss_fn: 0.0590 - kl_loss_fn: 29.2181\n",
      "Epoch 00339: val_loss did not improve from 0.32759\n",
      "849779/849779 [==============================] - 13s 15us/sample - loss: 0.3506 - mse_loss_fn: 0.0590 - kl_loss_fn: 29.2181 - val_loss: 0.3326 - val_mse_loss_fn: 0.0397 - val_kl_loss_fn: 29.2351\n",
      "Epoch 340/1001\n",
      "848896/849779 [============================>.] - ETA: 0s - loss: 0.3483 - mse_loss_fn: 0.0568 - kl_loss_fn: 29.2134\n",
      "Epoch 00340: val_loss did not improve from 0.32759\n",
      "849779/849779 [==============================] - 25s 29us/sample - loss: 0.3483 - mse_loss_fn: 0.0567 - kl_loss_fn: 29.2132 - val_loss: 0.3364 - val_mse_loss_fn: 0.0446 - val_kl_loss_fn: 29.1228\n",
      "Epoch 341/1001\n",
      "840704/849779 [============================>.] - ETA: 0s - loss: 0.3492 - mse_loss_fn: 0.0576 - kl_loss_fn: 29.2162\n",
      "Epoch 00341: val_loss improved from 0.32759 to 0.32745, saving model to outputs/models/cVAEz6_03-28-2023_wLogit/cbvae_LHCO2020_20d_e-6.hdf5\n",
      "849779/849779 [==============================] - 4s 4us/sample - loss: 0.3491 - mse_loss_fn: 0.0575 - kl_loss_fn: 29.2167 - val_loss: 0.3274 - val_mse_loss_fn: 0.0349 - val_kl_loss_fn: 29.2064\n",
      "Epoch 342/1001\n",
      "833536/849779 [============================>.] - ETA: 0s - loss: 0.3498 - mse_loss_fn: 0.0582 - kl_loss_fn: 29.2116\n",
      "Epoch 00342: val_loss did not improve from 0.32745\n",
      "849779/849779 [==============================] - 2s 2us/sample - loss: 0.3498 - mse_loss_fn: 0.0582 - kl_loss_fn: 29.2128 - val_loss: 0.3507 - val_mse_loss_fn: 0.0583 - val_kl_loss_fn: 29.1669\n",
      "Epoch 343/1001\n",
      "844800/849779 [============================>.] - ETA: 0s - loss: 0.3504 - mse_loss_fn: 0.0589 - kl_loss_fn: 29.2124\n",
      "Epoch 00343: val_loss did not improve from 0.32745\n",
      "849779/849779 [==============================] - 2s 2us/sample - loss: 0.3503 - mse_loss_fn: 0.0588 - kl_loss_fn: 29.2123 - val_loss: 0.3280 - val_mse_loss_fn: 0.0359 - val_kl_loss_fn: 29.1678\n",
      "Epoch 344/1001\n",
      "832512/849779 [============================>.] - ETA: 0s - loss: 0.3505 - mse_loss_fn: 0.0590 - kl_loss_fn: 29.2119\n",
      "Epoch 00344: val_loss did not improve from 0.32745\n",
      "849779/849779 [==============================] - 2s 2us/sample - loss: 0.3507 - mse_loss_fn: 0.0592 - kl_loss_fn: 29.2131 - val_loss: 0.3382 - val_mse_loss_fn: 0.0462 - val_kl_loss_fn: 29.1389\n",
      "Epoch 345/1001\n",
      "849779/849779 [==============================] - ETA: 0s - loss: 0.3490 - mse_loss_fn: 0.0574 - kl_loss_fn: 29.2146\n",
      "Epoch 00345: val_loss did not improve from 0.32745\n",
      "849779/849779 [==============================] - 2s 2us/sample - loss: 0.3490 - mse_loss_fn: 0.0574 - kl_loss_fn: 29.2146 - val_loss: 0.3293 - val_mse_loss_fn: 0.0373 - val_kl_loss_fn: 29.1477\n",
      "Epoch 346/1001\n",
      "843776/849779 [============================>.] - ETA: 0s - loss: 0.3479 - mse_loss_fn: 0.0563 - kl_loss_fn: 29.2153\n",
      "Epoch 00346: val_loss improved from 0.32745 to 0.32668, saving model to outputs/models/cVAEz6_03-28-2023_wLogit/cbvae_LHCO2020_20d_e-6.hdf5\n",
      "849779/849779 [==============================] - 2s 2us/sample - loss: 0.3479 - mse_loss_fn: 0.0563 - kl_loss_fn: 29.2158 - val_loss: 0.3267 - val_mse_loss_fn: 0.0339 - val_kl_loss_fn: 29.2293\n",
      "Epoch 347/1001\n",
      "833536/849779 [============================>.] - ETA: 0s - loss: 0.3484 - mse_loss_fn: 0.0569 - kl_loss_fn: 29.2138\n",
      "Epoch 00347: val_loss did not improve from 0.32668\n",
      "849779/849779 [==============================] - 2s 2us/sample - loss: 0.3483 - mse_loss_fn: 0.0567 - kl_loss_fn: 29.2130 - val_loss: 0.3299 - val_mse_loss_fn: 0.0381 - val_kl_loss_fn: 29.1306\n",
      "Epoch 348/1001\n",
      "844800/849779 [============================>.] - ETA: 0s - loss: 0.3505 - mse_loss_fn: 0.0590 - kl_loss_fn: 29.2125\n",
      "Epoch 00348: val_loss did not improve from 0.32668\n",
      "849779/849779 [==============================] - 2s 2us/sample - loss: 0.3505 - mse_loss_fn: 0.0589 - kl_loss_fn: 29.2119 - val_loss: 0.3275 - val_mse_loss_fn: 0.0359 - val_kl_loss_fn: 29.1202\n",
      "Epoch 349/1001\n",
      "843776/849779 [============================>.] - ETA: 0s - loss: 0.3496 - mse_loss_fn: 0.0581 - kl_loss_fn: 29.2134\n",
      "Epoch 00349: val_loss did not improve from 0.32668\n",
      "849779/849779 [==============================] - 2s 2us/sample - loss: 0.3497 - mse_loss_fn: 0.0581 - kl_loss_fn: 29.2131 - val_loss: 0.3330 - val_mse_loss_fn: 0.0420 - val_kl_loss_fn: 29.0497\n",
      "Epoch 350/1001\n",
      "841728/849779 [============================>.] - ETA: 0s - loss: 0.3500 - mse_loss_fn: 0.0585 - kl_loss_fn: 29.2129\n",
      "Epoch 00350: val_loss did not improve from 0.32668\n",
      "849779/849779 [==============================] - 2s 2us/sample - loss: 0.3501 - mse_loss_fn: 0.0585 - kl_loss_fn: 29.2125 - val_loss: 0.3437 - val_mse_loss_fn: 0.0514 - val_kl_loss_fn: 29.1593\n",
      "Epoch 351/1001\n",
      "842752/849779 [============================>.] - ETA: 0s - loss: 0.3484 - mse_loss_fn: 0.0569 - kl_loss_fn: 29.2072\n",
      "Epoch 00351: val_loss did not improve from 0.32668\n",
      "849779/849779 [==============================] - 2s 2us/sample - loss: 0.3483 - mse_loss_fn: 0.0568 - kl_loss_fn: 29.2074 - val_loss: 0.3303 - val_mse_loss_fn: 0.0386 - val_kl_loss_fn: 29.1133\n",
      "Epoch 352/1001\n",
      "838656/849779 [============================>.] - ETA: 0s - loss: 0.3484 - mse_loss_fn: 0.0568 - kl_loss_fn: 29.2081\n",
      "Epoch 00352: val_loss did not improve from 0.32668\n",
      "849779/849779 [==============================] - 2s 2us/sample - loss: 0.3482 - mse_loss_fn: 0.0567 - kl_loss_fn: 29.2089 - val_loss: 0.3268 - val_mse_loss_fn: 0.0348 - val_kl_loss_fn: 29.1553\n",
      "Epoch 353/1001\n",
      "837632/849779 [============================>.] - ETA: 0s - loss: 0.3494 - mse_loss_fn: 0.0579 - kl_loss_fn: 29.2059\n",
      "Epoch 00353: val_loss did not improve from 0.32668\n",
      "849779/849779 [==============================] - 2s 2us/sample - loss: 0.3492 - mse_loss_fn: 0.0577 - kl_loss_fn: 29.2053 - val_loss: 0.3286 - val_mse_loss_fn: 0.0370 - val_kl_loss_fn: 29.1204\n",
      "Epoch 354/1001\n",
      "829440/849779 [============================>.] - ETA: 0s - loss: 0.3474 - mse_loss_fn: 0.0559 - kl_loss_fn: 29.2063\n",
      "Epoch 00354: val_loss did not improve from 0.32668\n",
      "849779/849779 [==============================] - 2s 2us/sample - loss: 0.3475 - mse_loss_fn: 0.0560 - kl_loss_fn: 29.2065 - val_loss: 0.3321 - val_mse_loss_fn: 0.0401 - val_kl_loss_fn: 29.1497\n",
      "Epoch 355/1001\n",
      "833536/849779 [============================>.] - ETA: 0s - loss: 0.3508 - mse_loss_fn: 0.0594 - kl_loss_fn: 29.2016\n",
      "Epoch 00355: val_loss did not improve from 0.32668\n",
      "849779/849779 [==============================] - 2s 2us/sample - loss: 0.3505 - mse_loss_fn: 0.0591 - kl_loss_fn: 29.2007 - val_loss: 0.3339 - val_mse_loss_fn: 0.0412 - val_kl_loss_fn: 29.2265\n",
      "Epoch 356/1001\n",
      "842752/849779 [============================>.] - ETA: 0s - loss: 0.3495 - mse_loss_fn: 0.0579 - kl_loss_fn: 29.2108\n",
      "Epoch 00356: val_loss did not improve from 0.32668\n",
      "849779/849779 [==============================] - 2s 2us/sample - loss: 0.3494 - mse_loss_fn: 0.0578 - kl_loss_fn: 29.2102 - val_loss: 0.3273 - val_mse_loss_fn: 0.0355 - val_kl_loss_fn: 29.1404\n",
      "Epoch 357/1001\n",
      "833536/849779 [============================>.] - ETA: 0s - loss: 0.3483 - mse_loss_fn: 0.0569 - kl_loss_fn: 29.1986\n",
      "Epoch 00357: val_loss did not improve from 0.32668\n",
      "849779/849779 [==============================] - 2s 2us/sample - loss: 0.3484 - mse_loss_fn: 0.0570 - kl_loss_fn: 29.1979 - val_loss: 0.3381 - val_mse_loss_fn: 0.0456 - val_kl_loss_fn: 29.1887\n",
      "Epoch 358/1001\n",
      "842752/849779 [============================>.] - ETA: 0s - loss: 0.3497 - mse_loss_fn: 0.0583 - kl_loss_fn: 29.2029\n",
      "Epoch 00358: val_loss improved from 0.32668 to 0.32658, saving model to outputs/models/cVAEz6_03-28-2023_wLogit/cbvae_LHCO2020_20d_e-6.hdf5\n",
      "849779/849779 [==============================] - 2s 2us/sample - loss: 0.3496 - mse_loss_fn: 0.0581 - kl_loss_fn: 29.2025 - val_loss: 0.3266 - val_mse_loss_fn: 0.0345 - val_kl_loss_fn: 29.1618\n",
      "Epoch 359/1001\n",
      "833536/849779 [============================>.] - ETA: 0s - loss: 0.3493 - mse_loss_fn: 0.0578 - kl_loss_fn: 29.2031\n",
      "Epoch 00359: val_loss did not improve from 0.32658\n",
      "849779/849779 [==============================] - 2s 2us/sample - loss: 0.3492 - mse_loss_fn: 0.0577 - kl_loss_fn: 29.2029 - val_loss: 0.3391 - val_mse_loss_fn: 0.0470 - val_kl_loss_fn: 29.1499\n",
      "Epoch 360/1001\n",
      "830464/849779 [============================>.] - ETA: 0s - loss: 0.3469 - mse_loss_fn: 0.0554 - kl_loss_fn: 29.2011\n",
      "Epoch 00360: val_loss did not improve from 0.32658\n",
      "849779/849779 [==============================] - 5s 6us/sample - loss: 0.3468 - mse_loss_fn: 0.0554 - kl_loss_fn: 29.2004 - val_loss: 0.3314 - val_mse_loss_fn: 0.0397 - val_kl_loss_fn: 29.1085\n",
      "Epoch 361/1001\n",
      "840704/849779 [============================>.] - ETA: 0s - loss: 0.3457 - mse_loss_fn: 0.0543 - kl_loss_fn: 29.1982\n",
      "Epoch 00361: val_loss did not improve from 0.32658\n",
      "849779/849779 [==============================] - 2s 2us/sample - loss: 0.3458 - mse_loss_fn: 0.0543 - kl_loss_fn: 29.1988 - val_loss: 0.3366 - val_mse_loss_fn: 0.0445 - val_kl_loss_fn: 29.1477\n",
      "Epoch 362/1001\n",
      "849779/849779 [==============================] - ETA: 0s - loss: 0.3502 - mse_loss_fn: 0.0588 - kl_loss_fn: 29.1962\n",
      "Epoch 00362: val_loss did not improve from 0.32658\n",
      "849779/849779 [==============================] - 9s 10us/sample - loss: 0.3502 - mse_loss_fn: 0.0588 - kl_loss_fn: 29.1962 - val_loss: 0.3282 - val_mse_loss_fn: 0.0359 - val_kl_loss_fn: 29.1852\n",
      "Epoch 363/1001\n",
      "842752/849779 [============================>.] - ETA: 0s - loss: 0.3474 - mse_loss_fn: 0.0560 - kl_loss_fn: 29.1957\n",
      "Epoch 00363: val_loss did not improve from 0.32658\n",
      "849779/849779 [==============================] - 8s 10us/sample - loss: 0.3475 - mse_loss_fn: 0.0561 - kl_loss_fn: 29.1952 - val_loss: 0.3389 - val_mse_loss_fn: 0.0468 - val_kl_loss_fn: 29.1546\n",
      "Epoch 364/1001\n",
      "839680/849779 [============================>.] - ETA: 0s - loss: 0.3487 - mse_loss_fn: 0.0573 - kl_loss_fn: 29.1953\n",
      "Epoch 00364: val_loss did not improve from 0.32658\n",
      "849779/849779 [==============================] - 16s 19us/sample - loss: 0.3487 - mse_loss_fn: 0.0573 - kl_loss_fn: 29.1945 - val_loss: 0.3345 - val_mse_loss_fn: 0.0426 - val_kl_loss_fn: 29.1280\n",
      "Epoch 365/1001\n",
      "847872/849779 [============================>.] - ETA: 0s - loss: 0.3495 - mse_loss_fn: 0.0581 - kl_loss_fn: 29.1916\n",
      "Epoch 00365: val_loss did not improve from 0.32658\n",
      "849779/849779 [==============================] - 4s 5us/sample - loss: 0.3495 - mse_loss_fn: 0.0582 - kl_loss_fn: 29.1915 - val_loss: 0.3290 - val_mse_loss_fn: 0.0367 - val_kl_loss_fn: 29.1837\n",
      "Epoch 366/1001\n",
      "831488/849779 [============================>.] - ETA: 0s - loss: 0.3489 - mse_loss_fn: 0.0576 - kl_loss_fn: 29.1946\n",
      "Epoch 00366: val_loss did not improve from 0.32658\n",
      "849779/849779 [==============================] - 2s 3us/sample - loss: 0.3487 - mse_loss_fn: 0.0573 - kl_loss_fn: 29.1952 - val_loss: 0.3308 - val_mse_loss_fn: 0.0391 - val_kl_loss_fn: 29.1166\n",
      "Epoch 367/1001\n",
      "846848/849779 [============================>.] - ETA: 0s - loss: 0.3457 - mse_loss_fn: 0.0543 - kl_loss_fn: 29.1936\n",
      "Epoch 00367: val_loss did not improve from 0.32658\n",
      "849779/849779 [==============================] - 2s 2us/sample - loss: 0.3456 - mse_loss_fn: 0.0542 - kl_loss_fn: 29.1934 - val_loss: 0.3315 - val_mse_loss_fn: 0.0393 - val_kl_loss_fn: 29.1625\n",
      "Epoch 368/1001\n",
      "831488/849779 [============================>.] - ETA: 0s - loss: 0.3477 - mse_loss_fn: 0.0563 - kl_loss_fn: 29.1976\n",
      "Epoch 00368: val_loss did not improve from 0.32658\n",
      "849779/849779 [==============================] - 2s 2us/sample - loss: 0.3475 - mse_loss_fn: 0.0561 - kl_loss_fn: 29.1972 - val_loss: 0.3454 - val_mse_loss_fn: 0.0531 - val_kl_loss_fn: 29.1611\n",
      "Epoch 369/1001\n",
      "849779/849779 [==============================] - ETA: 0s - loss: 0.3493 - mse_loss_fn: 0.0580 - kl_loss_fn: 29.1912\n",
      "Epoch 00369: val_loss did not improve from 0.32658\n",
      "849779/849779 [==============================] - 2s 2us/sample - loss: 0.3493 - mse_loss_fn: 0.0580 - kl_loss_fn: 29.1912 - val_loss: 0.3286 - val_mse_loss_fn: 0.0366 - val_kl_loss_fn: 29.1458\n",
      "Epoch 370/1001\n",
      "833536/849779 [============================>.] - ETA: 0s - loss: 0.3480 - mse_loss_fn: 0.0567 - kl_loss_fn: 29.1943\n",
      "Epoch 00370: val_loss did not improve from 0.32658\n",
      "849779/849779 [==============================] - 2s 2us/sample - loss: 0.3481 - mse_loss_fn: 0.0567 - kl_loss_fn: 29.1938 - val_loss: 0.3435 - val_mse_loss_fn: 0.0515 - val_kl_loss_fn: 29.1367\n",
      "Epoch 371/1001\n",
      "847872/849779 [============================>.] - ETA: 0s - loss: 0.3464 - mse_loss_fn: 0.0551 - kl_loss_fn: 29.1911\n",
      "Epoch 00371: val_loss did not improve from 0.32658\n",
      "849779/849779 [==============================] - 2s 2us/sample - loss: 0.3464 - mse_loss_fn: 0.0550 - kl_loss_fn: 29.1912 - val_loss: 0.3270 - val_mse_loss_fn: 0.0357 - val_kl_loss_fn: 29.0838\n",
      "Epoch 372/1001\n",
      "842752/849779 [============================>.] - ETA: 0s - loss: 0.3474 - mse_loss_fn: 0.0560 - kl_loss_fn: 29.1886\n",
      "Epoch 00372: val_loss did not improve from 0.32658\n",
      "849779/849779 [==============================] - 2s 2us/sample - loss: 0.3474 - mse_loss_fn: 0.0561 - kl_loss_fn: 29.1886 - val_loss: 0.3317 - val_mse_loss_fn: 0.0398 - val_kl_loss_fn: 29.1325\n",
      "Epoch 373/1001\n",
      "827392/849779 [============================>.] - ETA: 0s - loss: 0.3468 - mse_loss_fn: 0.0554 - kl_loss_fn: 29.1887\n",
      "Epoch 00373: val_loss did not improve from 0.32658\n",
      "849779/849779 [==============================] - 2s 2us/sample - loss: 0.3467 - mse_loss_fn: 0.0554 - kl_loss_fn: 29.1888 - val_loss: 0.3376 - val_mse_loss_fn: 0.0450 - val_kl_loss_fn: 29.1961\n",
      "Epoch 374/1001\n",
      "836608/849779 [============================>.] - ETA: 0s - loss: 0.3469 - mse_loss_fn: 0.0555 - kl_loss_fn: 29.1885\n",
      "Epoch 00374: val_loss did not improve from 0.32658\n",
      "849779/849779 [==============================] - 2s 2us/sample - loss: 0.3467 - mse_loss_fn: 0.0554 - kl_loss_fn: 29.1874 - val_loss: 0.3283 - val_mse_loss_fn: 0.0364 - val_kl_loss_fn: 29.1456\n",
      "Epoch 375/1001\n",
      "836608/849779 [============================>.] - ETA: 0s - loss: 0.3492 - mse_loss_fn: 0.0579 - kl_loss_fn: 29.1875\n",
      "Epoch 00375: val_loss did not improve from 0.32658\n",
      "849779/849779 [==============================] - 2s 2us/sample - loss: 0.3497 - mse_loss_fn: 0.0584 - kl_loss_fn: 29.1886 - val_loss: 0.3635 - val_mse_loss_fn: 0.0714 - val_kl_loss_fn: 29.1230\n",
      "Epoch 376/1001\n",
      "840704/849779 [============================>.] - ETA: 0s - loss: 0.3475 - mse_loss_fn: 0.0562 - kl_loss_fn: 29.1862\n",
      "Epoch 00376: val_loss did not improve from 0.32658\n",
      "849779/849779 [==============================] - 2s 2us/sample - loss: 0.3473 - mse_loss_fn: 0.0560 - kl_loss_fn: 29.1860 - val_loss: 0.3281 - val_mse_loss_fn: 0.0359 - val_kl_loss_fn: 29.1679\n",
      "Epoch 377/1001\n",
      "843776/849779 [============================>.] - ETA: 0s - loss: 0.3489 - mse_loss_fn: 0.0576 - kl_loss_fn: 29.1877\n",
      "Epoch 00377: val_loss did not improve from 0.32658\n",
      "849779/849779 [==============================] - 2s 2us/sample - loss: 0.3489 - mse_loss_fn: 0.0576 - kl_loss_fn: 29.1870 - val_loss: 0.3290 - val_mse_loss_fn: 0.0373 - val_kl_loss_fn: 29.1171\n",
      "Epoch 378/1001\n",
      "826368/849779 [============================>.] - ETA: 0s - loss: 0.3456 - mse_loss_fn: 0.0543 - kl_loss_fn: 29.1836\n",
      "Epoch 00378: val_loss improved from 0.32658 to 0.32627, saving model to outputs/models/cVAEz6_03-28-2023_wLogit/cbvae_LHCO2020_20d_e-6.hdf5\n",
      "849779/849779 [==============================] - 2s 2us/sample - loss: 0.3455 - mse_loss_fn: 0.0542 - kl_loss_fn: 29.1841 - val_loss: 0.3263 - val_mse_loss_fn: 0.0333 - val_kl_loss_fn: 29.2549\n",
      "Epoch 379/1001\n",
      "824320/849779 [============================>.] - ETA: 0s - loss: 0.3483 - mse_loss_fn: 0.0570 - kl_loss_fn: 29.1859\n",
      "Epoch 00379: val_loss did not improve from 0.32627\n",
      "849779/849779 [==============================] - 2s 2us/sample - loss: 0.3482 - mse_loss_fn: 0.0570 - kl_loss_fn: 29.1856 - val_loss: 0.3337 - val_mse_loss_fn: 0.0418 - val_kl_loss_fn: 29.1343\n",
      "Epoch 380/1001\n",
      "840704/849779 [============================>.] - ETA: 0s - loss: 0.3473 - mse_loss_fn: 0.0560 - kl_loss_fn: 29.1791\n",
      "Epoch 00380: val_loss did not improve from 0.32627\n",
      "849779/849779 [==============================] - 2s 2us/sample - loss: 0.3473 - mse_loss_fn: 0.0561 - kl_loss_fn: 29.1780 - val_loss: 0.3379 - val_mse_loss_fn: 0.0467 - val_kl_loss_fn: 29.0658\n",
      "Epoch 381/1001\n",
      "836608/849779 [============================>.] - ETA: 0s - loss: 0.3479 - mse_loss_fn: 0.0566 - kl_loss_fn: 29.1822\n",
      "Epoch 00381: val_loss did not improve from 0.32627\n",
      "849779/849779 [==============================] - 2s 2us/sample - loss: 0.3478 - mse_loss_fn: 0.0565 - kl_loss_fn: 29.1821 - val_loss: 0.3335 - val_mse_loss_fn: 0.0417 - val_kl_loss_fn: 29.1231\n",
      "Epoch 382/1001\n",
      "825344/849779 [============================>.] - ETA: 0s - loss: 0.3444 - mse_loss_fn: 0.0532 - kl_loss_fn: 29.1792\n",
      "Epoch 00382: val_loss did not improve from 0.32627\n",
      "849779/849779 [==============================] - 2s 2us/sample - loss: 0.3444 - mse_loss_fn: 0.0532 - kl_loss_fn: 29.1800 - val_loss: 0.3300 - val_mse_loss_fn: 0.0385 - val_kl_loss_fn: 29.1069\n",
      "Epoch 383/1001\n",
      "833536/849779 [============================>.] - ETA: 0s - loss: 0.3499 - mse_loss_fn: 0.0587 - kl_loss_fn: 29.1843\n",
      "Epoch 00383: val_loss did not improve from 0.32627\n",
      "849779/849779 [==============================] - 6s 6us/sample - loss: 0.3500 - mse_loss_fn: 0.0587 - kl_loss_fn: 29.1846 - val_loss: 0.3462 - val_mse_loss_fn: 0.0543 - val_kl_loss_fn: 29.1111\n",
      "Epoch 384/1001\n",
      "837632/849779 [============================>.] - ETA: 0s - loss: 0.3465 - mse_loss_fn: 0.0553 - kl_loss_fn: 29.1783\n",
      "Epoch 00384: val_loss did not improve from 0.32627\n",
      "849779/849779 [==============================] - 2s 2us/sample - loss: 0.3465 - mse_loss_fn: 0.0552 - kl_loss_fn: 29.1789 - val_loss: 0.3376 - val_mse_loss_fn: 0.0453 - val_kl_loss_fn: 29.1634\n",
      "Epoch 385/1001\n",
      "846848/849779 [============================>.] - ETA: 0s - loss: 0.3460 - mse_loss_fn: 0.0547 - kl_loss_fn: 29.1790\n",
      "Epoch 00385: val_loss did not improve from 0.32627\n",
      "849779/849779 [==============================] - 2s 2us/sample - loss: 0.3460 - mse_loss_fn: 0.0547 - kl_loss_fn: 29.1791 - val_loss: 0.3274 - val_mse_loss_fn: 0.0354 - val_kl_loss_fn: 29.1582\n",
      "Epoch 386/1001\n",
      "846848/849779 [============================>.] - ETA: 0s - loss: 0.3481 - mse_loss_fn: 0.0569 - kl_loss_fn: 29.1772\n",
      "Epoch 00386: val_loss did not improve from 0.32627\n",
      "849779/849779 [==============================] - 2s 3us/sample - loss: 0.3482 - mse_loss_fn: 0.0570 - kl_loss_fn: 29.1769 - val_loss: 0.3306 - val_mse_loss_fn: 0.0381 - val_kl_loss_fn: 29.1990\n",
      "Epoch 387/1001\n",
      "840704/849779 [============================>.] - ETA: 0s - loss: 0.3449 - mse_loss_fn: 0.0537 - kl_loss_fn: 29.1771\n",
      "Epoch 00387: val_loss did not improve from 0.32627\n",
      "849779/849779 [==============================] - 16s 19us/sample - loss: 0.3449 - mse_loss_fn: 0.0537 - kl_loss_fn: 29.1772 - val_loss: 0.3291 - val_mse_loss_fn: 0.0375 - val_kl_loss_fn: 29.1141\n",
      "Epoch 388/1001\n",
      "848896/849779 [============================>.] - ETA: 0s - loss: 0.3489 - mse_loss_fn: 0.0577 - kl_loss_fn: 29.1773\n",
      "Epoch 00388: val_loss did not improve from 0.32627\n",
      "849779/849779 [==============================] - 2s 2us/sample - loss: 0.3489 - mse_loss_fn: 0.0577 - kl_loss_fn: 29.1775 - val_loss: 0.3294 - val_mse_loss_fn: 0.0375 - val_kl_loss_fn: 29.1453\n",
      "Epoch 389/1001\n",
      "831488/849779 [============================>.] - ETA: 0s - loss: 0.3470 - mse_loss_fn: 0.0558 - kl_loss_fn: 29.1759\n",
      "Epoch 00389: val_loss did not improve from 0.32627\n",
      "849779/849779 [==============================] - 2s 2us/sample - loss: 0.3471 - mse_loss_fn: 0.0559 - kl_loss_fn: 29.1762 - val_loss: 0.3332 - val_mse_loss_fn: 0.0412 - val_kl_loss_fn: 29.1400\n",
      "Epoch 390/1001\n",
      "839680/849779 [============================>.] - ETA: 0s - loss: 0.3492 - mse_loss_fn: 0.0580 - kl_loss_fn: 29.1778\n",
      "Epoch 00390: val_loss did not improve from 0.32627\n",
      "849779/849779 [==============================] - 23s 27us/sample - loss: 0.3491 - mse_loss_fn: 0.0579 - kl_loss_fn: 29.1776 - val_loss: 0.3280 - val_mse_loss_fn: 0.0361 - val_kl_loss_fn: 29.1511\n",
      "Epoch 391/1001\n",
      "826368/849779 [============================>.] - ETA: 0s - loss: 0.3440 - mse_loss_fn: 0.0528 - kl_loss_fn: 29.1747\n",
      "Epoch 00391: val_loss did not improve from 0.32627\n",
      "849779/849779 [==============================] - 5s 6us/sample - loss: 0.3439 - mse_loss_fn: 0.0527 - kl_loss_fn: 29.1750 - val_loss: 0.3337 - val_mse_loss_fn: 0.0416 - val_kl_loss_fn: 29.1504\n",
      "Epoch 392/1001\n",
      "829440/849779 [============================>.] - ETA: 0s - loss: 0.3466 - mse_loss_fn: 0.0554 - kl_loss_fn: 29.1740\n",
      "Epoch 00392: val_loss did not improve from 0.32627\n",
      "849779/849779 [==============================] - 2s 2us/sample - loss: 0.3468 - mse_loss_fn: 0.0556 - kl_loss_fn: 29.1754 - val_loss: 0.3377 - val_mse_loss_fn: 0.0457 - val_kl_loss_fn: 29.1433\n",
      "Epoch 393/1001\n",
      "839680/849779 [============================>.] - ETA: 0s - loss: 0.3451 - mse_loss_fn: 0.0539 - kl_loss_fn: 29.1739\n",
      "Epoch 00393: val_loss did not improve from 0.32627\n",
      "849779/849779 [==============================] - 2s 2us/sample - loss: 0.3450 - mse_loss_fn: 0.0538 - kl_loss_fn: 29.1745 - val_loss: 0.3301 - val_mse_loss_fn: 0.0384 - val_kl_loss_fn: 29.1204\n",
      "Epoch 394/1001\n",
      "849779/849779 [==============================] - ETA: 0s - loss: 0.3499 - mse_loss_fn: 0.0587 - kl_loss_fn: 29.1732\n",
      "Epoch 00394: val_loss did not improve from 0.32627\n",
      "849779/849779 [==============================] - 2s 2us/sample - loss: 0.3499 - mse_loss_fn: 0.0587 - kl_loss_fn: 29.1732 - val_loss: 0.3372 - val_mse_loss_fn: 0.0453 - val_kl_loss_fn: 29.1262\n",
      "Epoch 395/1001\n",
      "840704/849779 [============================>.] - ETA: 0s - loss: 0.3452 - mse_loss_fn: 0.0540 - kl_loss_fn: 29.1746\n",
      "Epoch 00395: val_loss did not improve from 0.32627\n",
      "849779/849779 [==============================] - 2s 2us/sample - loss: 0.3454 - mse_loss_fn: 0.0542 - kl_loss_fn: 29.1737 - val_loss: 0.3353 - val_mse_loss_fn: 0.0433 - val_kl_loss_fn: 29.1430\n",
      "Epoch 396/1001\n",
      "825344/849779 [============================>.] - ETA: 0s - loss: 0.3471 - mse_loss_fn: 0.0559 - kl_loss_fn: 29.1677\n",
      "Epoch 00396: val_loss did not improve from 0.32627\n",
      "849779/849779 [==============================] - 2s 2us/sample - loss: 0.3468 - mse_loss_fn: 0.0557 - kl_loss_fn: 29.1671 - val_loss: 0.3301 - val_mse_loss_fn: 0.0386 - val_kl_loss_fn: 29.0982\n",
      "Epoch 397/1001\n",
      "838656/849779 [============================>.] - ETA: 0s - loss: 0.3466 - mse_loss_fn: 0.0555 - kl_loss_fn: 29.1662\n",
      "Epoch 00397: val_loss did not improve from 0.32627\n",
      "849779/849779 [==============================] - 2s 2us/sample - loss: 0.3465 - mse_loss_fn: 0.0554 - kl_loss_fn: 29.1660 - val_loss: 0.3366 - val_mse_loss_fn: 0.0446 - val_kl_loss_fn: 29.1472\n",
      "Epoch 398/1001\n",
      "832512/849779 [============================>.] - ETA: 0s - loss: 0.3468 - mse_loss_fn: 0.0557 - kl_loss_fn: 29.1670\n",
      "Epoch 00398: val_loss did not improve from 0.32627\n",
      "849779/849779 [==============================] - 2s 2us/sample - loss: 0.3466 - mse_loss_fn: 0.0555 - kl_loss_fn: 29.1667 - val_loss: 0.3305 - val_mse_loss_fn: 0.0391 - val_kl_loss_fn: 29.0917\n",
      "Epoch 399/1001\n",
      "846848/849779 [============================>.] - ETA: 0s - loss: 0.3453 - mse_loss_fn: 0.0541 - kl_loss_fn: 29.1712\n",
      "Epoch 00399: val_loss did not improve from 0.32627\n",
      "849779/849779 [==============================] - 2s 2us/sample - loss: 0.3452 - mse_loss_fn: 0.0540 - kl_loss_fn: 29.1715 - val_loss: 0.3263 - val_mse_loss_fn: 0.0346 - val_kl_loss_fn: 29.1232\n",
      "Epoch 400/1001\n",
      "832512/849779 [============================>.] - ETA: 0s - loss: 0.3468 - mse_loss_fn: 0.0556 - kl_loss_fn: 29.1706\n",
      "Epoch 00400: val_loss did not improve from 0.32627\n",
      "849779/849779 [==============================] - 2s 2us/sample - loss: 0.3468 - mse_loss_fn: 0.0556 - kl_loss_fn: 29.1700 - val_loss: 0.3279 - val_mse_loss_fn: 0.0364 - val_kl_loss_fn: 29.1012\n",
      "Epoch 401/1001\n",
      "831488/849779 [============================>.] - ETA: 0s - loss: 0.3461 - mse_loss_fn: 0.0550 - kl_loss_fn: 29.1640\n",
      "Epoch 00401: val_loss did not improve from 0.32627\n",
      "849779/849779 [==============================] - 2s 2us/sample - loss: 0.3461 - mse_loss_fn: 0.0550 - kl_loss_fn: 29.1639 - val_loss: 0.3406 - val_mse_loss_fn: 0.0485 - val_kl_loss_fn: 29.1582\n",
      "Epoch 402/1001\n",
      "833536/849779 [============================>.] - ETA: 0s - loss: 0.3452 - mse_loss_fn: 0.0540 - kl_loss_fn: 29.1670\n",
      "Epoch 00402: val_loss did not improve from 0.32627\n",
      "849779/849779 [==============================] - 2s 2us/sample - loss: 0.3452 - mse_loss_fn: 0.0541 - kl_loss_fn: 29.1661 - val_loss: 0.3286 - val_mse_loss_fn: 0.0375 - val_kl_loss_fn: 29.0586\n",
      "Epoch 403/1001\n",
      "847872/849779 [============================>.] - ETA: 0s - loss: 0.3497 - mse_loss_fn: 0.0586 - kl_loss_fn: 29.1667\n",
      "Epoch 00403: val_loss did not improve from 0.32627\n",
      "849779/849779 [==============================] - 2s 2us/sample - loss: 0.3497 - mse_loss_fn: 0.0586 - kl_loss_fn: 29.1667 - val_loss: 0.3417 - val_mse_loss_fn: 0.0501 - val_kl_loss_fn: 29.0968\n",
      "Epoch 404/1001\n",
      "828416/849779 [============================>.] - ETA: 0s - loss: 0.3451 - mse_loss_fn: 0.0540 - kl_loss_fn: 29.1645\n",
      "Epoch 00404: val_loss did not improve from 0.32627\n",
      "849779/849779 [==============================] - 2s 2us/sample - loss: 0.3457 - mse_loss_fn: 0.0546 - kl_loss_fn: 29.1640 - val_loss: 0.3412 - val_mse_loss_fn: 0.0501 - val_kl_loss_fn: 29.0490\n",
      "Epoch 405/1001\n",
      "837632/849779 [============================>.] - ETA: 0s - loss: 0.3467 - mse_loss_fn: 0.0556 - kl_loss_fn: 29.1655\n",
      "Epoch 00405: val_loss did not improve from 0.32627\n",
      "849779/849779 [==============================] - 2s 2us/sample - loss: 0.3466 - mse_loss_fn: 0.0555 - kl_loss_fn: 29.1658 - val_loss: 0.3285 - val_mse_loss_fn: 0.0372 - val_kl_loss_fn: 29.0791\n",
      "Epoch 406/1001\n",
      "830464/849779 [============================>.] - ETA: 0s - loss: 0.3466 - mse_loss_fn: 0.0555 - kl_loss_fn: 29.1671\n",
      "Epoch 00406: val_loss improved from 0.32627 to 0.32627, saving model to outputs/models/cVAEz6_03-28-2023_wLogit/cbvae_LHCO2020_20d_e-6.hdf5\n",
      "849779/849779 [==============================] - 2s 2us/sample - loss: 0.3463 - mse_loss_fn: 0.0552 - kl_loss_fn: 29.1659 - val_loss: 0.3263 - val_mse_loss_fn: 0.0349 - val_kl_loss_fn: 29.0940\n",
      "Epoch 407/1001\n",
      "831488/849779 [============================>.] - ETA: 0s - loss: 0.3456 - mse_loss_fn: 0.0546 - kl_loss_fn: 29.1616\n",
      "Epoch 00407: val_loss did not improve from 0.32627\n",
      "849779/849779 [==============================] - 2s 2us/sample - loss: 0.3457 - mse_loss_fn: 0.0547 - kl_loss_fn: 29.1609 - val_loss: 0.3413 - val_mse_loss_fn: 0.0492 - val_kl_loss_fn: 29.1527\n",
      "Epoch 408/1001\n",
      "824320/849779 [============================>.] - ETA: 0s - loss: 0.3466 - mse_loss_fn: 0.0555 - kl_loss_fn: 29.1625\n",
      "Epoch 00408: val_loss did not improve from 0.32627\n",
      "849779/849779 [==============================] - 2s 2us/sample - loss: 0.3465 - mse_loss_fn: 0.0554 - kl_loss_fn: 29.1635 - val_loss: 0.3379 - val_mse_loss_fn: 0.0454 - val_kl_loss_fn: 29.1882\n",
      "Epoch 409/1001\n",
      "826368/849779 [============================>.] - ETA: 0s - loss: 0.3459 - mse_loss_fn: 0.0548 - kl_loss_fn: 29.1656\n",
      "Epoch 00409: val_loss did not improve from 0.32627\n",
      "849779/849779 [==============================] - 6s 7us/sample - loss: 0.3457 - mse_loss_fn: 0.0546 - kl_loss_fn: 29.1650 - val_loss: 0.3269 - val_mse_loss_fn: 0.0355 - val_kl_loss_fn: 29.0941\n",
      "Epoch 410/1001\n",
      "843776/849779 [============================>.] - ETA: 0s - loss: 0.3450 - mse_loss_fn: 0.0539 - kl_loss_fn: 29.1614\n",
      "Epoch 00410: val_loss did not improve from 0.32627\n",
      "849779/849779 [==============================] - 2s 2us/sample - loss: 0.3451 - mse_loss_fn: 0.0540 - kl_loss_fn: 29.1613 - val_loss: 0.3266 - val_mse_loss_fn: 0.0351 - val_kl_loss_fn: 29.1032\n",
      "Epoch 411/1001\n",
      "849779/849779 [==============================] - ETA: 0s - loss: 0.3460 - mse_loss_fn: 0.0549 - kl_loss_fn: 29.1635\n",
      "Epoch 00411: val_loss did not improve from 0.32627\n",
      "849779/849779 [==============================] - 5s 6us/sample - loss: 0.3460 - mse_loss_fn: 0.0549 - kl_loss_fn: 29.1635 - val_loss: 0.3296 - val_mse_loss_fn: 0.0378 - val_kl_loss_fn: 29.1294\n",
      "Epoch 412/1001\n",
      "848896/849779 [============================>.] - ETA: 0s - loss: 0.3474 - mse_loss_fn: 0.0564 - kl_loss_fn: 29.1603\n",
      "Epoch 00412: val_loss did not improve from 0.32627\n",
      "849779/849779 [==============================] - 14s 17us/sample - loss: 0.3474 - mse_loss_fn: 0.0564 - kl_loss_fn: 29.1602 - val_loss: 0.3582 - val_mse_loss_fn: 0.0667 - val_kl_loss_fn: 29.0655\n",
      "Epoch 413/1001\n",
      "847872/849779 [============================>.] - ETA: 0s - loss: 0.3449 - mse_loss_fn: 0.0539 - kl_loss_fn: 29.1572\n",
      "Epoch 00413: val_loss did not improve from 0.32627\n",
      "849779/849779 [==============================] - 2s 3us/sample - loss: 0.3449 - mse_loss_fn: 0.0539 - kl_loss_fn: 29.1572 - val_loss: 0.3286 - val_mse_loss_fn: 0.0370 - val_kl_loss_fn: 29.1119\n",
      "Epoch 414/1001\n",
      "849779/849779 [==============================] - ETA: 0s - loss: 0.3463 - mse_loss_fn: 0.0553 - kl_loss_fn: 29.1604\n",
      "Epoch 00414: val_loss did not improve from 0.32627\n",
      "849779/849779 [==============================] - 3s 3us/sample - loss: 0.3463 - mse_loss_fn: 0.0553 - kl_loss_fn: 29.1604 - val_loss: 0.3314 - val_mse_loss_fn: 0.0400 - val_kl_loss_fn: 29.0904\n",
      "Epoch 415/1001\n",
      "834560/849779 [============================>.] - ETA: 0s - loss: 0.3451 - mse_loss_fn: 0.0541 - kl_loss_fn: 29.1598\n",
      "Epoch 00415: val_loss did not improve from 0.32627\n",
      "849779/849779 [==============================] - 35s 41us/sample - loss: 0.3453 - mse_loss_fn: 0.0542 - kl_loss_fn: 29.1591 - val_loss: 0.3286 - val_mse_loss_fn: 0.0375 - val_kl_loss_fn: 29.0646\n",
      "Epoch 416/1001\n",
      "843776/849779 [============================>.] - ETA: 0s - loss: 0.3454 - mse_loss_fn: 0.0543 - kl_loss_fn: 29.1587\n",
      "Epoch 00416: val_loss did not improve from 0.32627\n",
      "849779/849779 [==============================] - 2s 2us/sample - loss: 0.3454 - mse_loss_fn: 0.0543 - kl_loss_fn: 29.1590 - val_loss: 0.3273 - val_mse_loss_fn: 0.0355 - val_kl_loss_fn: 29.1426\n",
      "Epoch 417/1001\n",
      "836608/849779 [============================>.] - ETA: 0s - loss: 0.3462 - mse_loss_fn: 0.0552 - kl_loss_fn: 29.1563\n",
      "Epoch 00417: val_loss did not improve from 0.32627\n",
      "849779/849779 [==============================] - 2s 2us/sample - loss: 0.3464 - mse_loss_fn: 0.0554 - kl_loss_fn: 29.1562 - val_loss: 0.3445 - val_mse_loss_fn: 0.0528 - val_kl_loss_fn: 29.1008\n",
      "Epoch 418/1001\n",
      "839680/849779 [============================>.] - ETA: 0s - loss: 0.3436 - mse_loss_fn: 0.0526 - kl_loss_fn: 29.1564\n",
      "Epoch 00418: val_loss did not improve from 0.32627\n",
      "849779/849779 [==============================] - 2s 2us/sample - loss: 0.3435 - mse_loss_fn: 0.0525 - kl_loss_fn: 29.1567 - val_loss: 0.3282 - val_mse_loss_fn: 0.0354 - val_kl_loss_fn: 29.2319\n",
      "Epoch 419/1001\n",
      "842752/849779 [============================>.] - ETA: 0s - loss: 0.3462 - mse_loss_fn: 0.0552 - kl_loss_fn: 29.1550\n",
      "Epoch 00419: val_loss did not improve from 0.32627\n",
      "849779/849779 [==============================] - 2s 2us/sample - loss: 0.3462 - mse_loss_fn: 0.0552 - kl_loss_fn: 29.1556 - val_loss: 0.3281 - val_mse_loss_fn: 0.0363 - val_kl_loss_fn: 29.1307\n",
      "Epoch 420/1001\n",
      "834560/849779 [============================>.] - ETA: 0s - loss: 0.3443 - mse_loss_fn: 0.0532 - kl_loss_fn: 29.1587\n",
      "Epoch 00420: val_loss did not improve from 0.32627\n",
      "849779/849779 [==============================] - 2s 2us/sample - loss: 0.3441 - mse_loss_fn: 0.0530 - kl_loss_fn: 29.1582 - val_loss: 0.3363 - val_mse_loss_fn: 0.0445 - val_kl_loss_fn: 29.1211\n",
      "Epoch 421/1001\n",
      "839680/849779 [============================>.] - ETA: 0s - loss: 0.3462 - mse_loss_fn: 0.0552 - kl_loss_fn: 29.1523\n",
      "Epoch 00421: val_loss did not improve from 0.32627\n",
      "849779/849779 [==============================] - 2s 2us/sample - loss: 0.3464 - mse_loss_fn: 0.0554 - kl_loss_fn: 29.1527 - val_loss: 0.3366 - val_mse_loss_fn: 0.0451 - val_kl_loss_fn: 29.0904\n",
      "Epoch 422/1001\n",
      "830464/849779 [============================>.] - ETA: 0s - loss: 0.3469 - mse_loss_fn: 0.0559 - kl_loss_fn: 29.1503\n",
      "Epoch 00422: val_loss did not improve from 0.32627\n",
      "849779/849779 [==============================] - 2s 2us/sample - loss: 0.3468 - mse_loss_fn: 0.0558 - kl_loss_fn: 29.1507 - val_loss: 0.3294 - val_mse_loss_fn: 0.0379 - val_kl_loss_fn: 29.0997\n",
      "Epoch 423/1001\n",
      "826368/849779 [============================>.] - ETA: 0s - loss: 0.3431 - mse_loss_fn: 0.0521 - kl_loss_fn: 29.1556\n",
      "Epoch 00423: val_loss did not improve from 0.32627\n",
      "849779/849779 [==============================] - 2s 2us/sample - loss: 0.3428 - mse_loss_fn: 0.0518 - kl_loss_fn: 29.1558 - val_loss: 0.3296 - val_mse_loss_fn: 0.0379 - val_kl_loss_fn: 29.1271\n",
      "Epoch 424/1001\n",
      "840704/849779 [============================>.] - ETA: 0s - loss: 0.3473 - mse_loss_fn: 0.0563 - kl_loss_fn: 29.1510\n",
      "Epoch 00424: val_loss did not improve from 0.32627\n",
      "849779/849779 [==============================] - 2s 2us/sample - loss: 0.3472 - mse_loss_fn: 0.0563 - kl_loss_fn: 29.1513 - val_loss: 0.3369 - val_mse_loss_fn: 0.0451 - val_kl_loss_fn: 29.1259\n",
      "Epoch 425/1001\n",
      "825344/849779 [============================>.] - ETA: 0s - loss: 0.3463 - mse_loss_fn: 0.0554 - kl_loss_fn: 29.1534\n",
      "Epoch 00425: val_loss did not improve from 0.32627\n",
      "849779/849779 [==============================] - 2s 2us/sample - loss: 0.3466 - mse_loss_fn: 0.0557 - kl_loss_fn: 29.1529 - val_loss: 0.3323 - val_mse_loss_fn: 0.0407 - val_kl_loss_fn: 29.1099\n",
      "Epoch 426/1001\n",
      "835584/849779 [============================>.] - ETA: 0s - loss: 0.3447 - mse_loss_fn: 0.0537 - kl_loss_fn: 29.1526\n",
      "Epoch 00426: val_loss did not improve from 0.32627\n",
      "849779/849779 [==============================] - 2s 2us/sample - loss: 0.3447 - mse_loss_fn: 0.0537 - kl_loss_fn: 29.1528 - val_loss: 0.3400 - val_mse_loss_fn: 0.0474 - val_kl_loss_fn: 29.1939\n",
      "Epoch 427/1001\n",
      "841728/849779 [============================>.] - ETA: 0s - loss: 0.3459 - mse_loss_fn: 0.0550 - kl_loss_fn: 29.1489\n",
      "Epoch 00427: val_loss did not improve from 0.32627\n",
      "849779/849779 [==============================] - 2s 2us/sample - loss: 0.3459 - mse_loss_fn: 0.0550 - kl_loss_fn: 29.1487 - val_loss: 0.3302 - val_mse_loss_fn: 0.0389 - val_kl_loss_fn: 29.0803\n",
      "Epoch 428/1001\n",
      "841728/849779 [============================>.] - ETA: 0s - loss: 0.3419 - mse_loss_fn: 0.0509 - kl_loss_fn: 29.1504- ETA: 3s - loss: 0.3432 \n",
      "Epoch 00428: val_loss did not improve from 0.32627\n",
      "849779/849779 [==============================] - 6s 7us/sample - loss: 0.3418 - mse_loss_fn: 0.0508 - kl_loss_fn: 29.1507 - val_loss: 0.3277 - val_mse_loss_fn: 0.0358 - val_kl_loss_fn: 29.1422\n",
      "Epoch 429/1001\n",
      "833536/849779 [============================>.] - ETA: 0s - loss: 0.3456 - mse_loss_fn: 0.0546 - kl_loss_fn: 29.1487\n",
      "Epoch 00429: val_loss did not improve from 0.32627\n",
      "849779/849779 [==============================] - 2s 2us/sample - loss: 0.3459 - mse_loss_fn: 0.0549 - kl_loss_fn: 29.1475 - val_loss: 0.3307 - val_mse_loss_fn: 0.0388 - val_kl_loss_fn: 29.1429\n",
      "Epoch 430/1001\n",
      "826368/849779 [============================>.] - ETA: 0s - loss: 0.3457 - mse_loss_fn: 0.0547 - kl_loss_fn: 29.1517\n",
      "Epoch 00430: val_loss did not improve from 0.32627\n",
      "849779/849779 [==============================] - 2s 2us/sample - loss: 0.3458 - mse_loss_fn: 0.0548 - kl_loss_fn: 29.1512 - val_loss: 0.3339 - val_mse_loss_fn: 0.0422 - val_kl_loss_fn: 29.1144\n",
      "Epoch 431/1001\n",
      "831488/849779 [============================>.] - ETA: 0s - loss: 0.3459 - mse_loss_fn: 0.0550 - kl_loss_fn: 29.1499\n",
      "Epoch 00431: val_loss did not improve from 0.32627\n",
      "849779/849779 [==============================] - 2s 2us/sample - loss: 0.3460 - mse_loss_fn: 0.0550 - kl_loss_fn: 29.1497 - val_loss: 0.3294 - val_mse_loss_fn: 0.0376 - val_kl_loss_fn: 29.1385\n",
      "Epoch 432/1001\n",
      "835584/849779 [============================>.] - ETA: 0s - loss: 0.3442 - mse_loss_fn: 0.0533 - kl_loss_fn: 29.1461\n",
      "Epoch 00432: val_loss did not improve from 0.32627\n",
      "849779/849779 [==============================] - 2s 2us/sample - loss: 0.3445 - mse_loss_fn: 0.0536 - kl_loss_fn: 29.1470 - val_loss: 0.3328 - val_mse_loss_fn: 0.0409 - val_kl_loss_fn: 29.1335\n",
      "Epoch 433/1001\n",
      "836608/849779 [============================>.] - ETA: 0s - loss: 0.3444 - mse_loss_fn: 0.0534 - kl_loss_fn: 29.1516\n",
      "Epoch 00433: val_loss did not improve from 0.32627\n",
      "849779/849779 [==============================] - 2s 2us/sample - loss: 0.3444 - mse_loss_fn: 0.0534 - kl_loss_fn: 29.1518 - val_loss: 0.3446 - val_mse_loss_fn: 0.0537 - val_kl_loss_fn: 29.0160\n",
      "Epoch 434/1001\n",
      "840704/849779 [============================>.] - ETA: 0s - loss: 0.3429 - mse_loss_fn: 0.0520 - kl_loss_fn: 29.1492\n",
      "Epoch 00434: val_loss did not improve from 0.32627\n",
      "849779/849779 [==============================] - 2s 2us/sample - loss: 0.3430 - mse_loss_fn: 0.0520 - kl_loss_fn: 29.1492 - val_loss: 0.3293 - val_mse_loss_fn: 0.0383 - val_kl_loss_fn: 29.0500\n",
      "Epoch 435/1001\n",
      "832512/849779 [============================>.] - ETA: 0s - loss: 0.3475 - mse_loss_fn: 0.0566 - kl_loss_fn: 29.1464\n",
      "Epoch 00435: val_loss did not improve from 0.32627\n",
      "849779/849779 [==============================] - 2s 2us/sample - loss: 0.3477 - mse_loss_fn: 0.0568 - kl_loss_fn: 29.1459 - val_loss: 0.3320 - val_mse_loss_fn: 0.0405 - val_kl_loss_fn: 29.0948\n",
      "Epoch 436/1001\n",
      "836608/849779 [============================>.] - ETA: 0s - loss: 0.3451 - mse_loss_fn: 0.0542 - kl_loss_fn: 29.1464\n",
      "Epoch 00436: val_loss did not improve from 0.32627\n",
      "849779/849779 [==============================] - 2s 2us/sample - loss: 0.3451 - mse_loss_fn: 0.0542 - kl_loss_fn: 29.1466 - val_loss: 0.3288 - val_mse_loss_fn: 0.0366 - val_kl_loss_fn: 29.1762\n",
      "Epoch 437/1001\n",
      "843776/849779 [============================>.] - ETA: 0s - loss: 0.3441 - mse_loss_fn: 0.0532 - kl_loss_fn: 29.1455\n",
      "Epoch 00437: val_loss did not improve from 0.32627\n",
      "849779/849779 [==============================] - 5s 6us/sample - loss: 0.3442 - mse_loss_fn: 0.0532 - kl_loss_fn: 29.1456 - val_loss: 0.3366 - val_mse_loss_fn: 0.0446 - val_kl_loss_fn: 29.1426\n",
      "Epoch 438/1001\n",
      "844800/849779 [============================>.] - ETA: 0s - loss: 0.3460 - mse_loss_fn: 0.0551 - kl_loss_fn: 29.1466\n",
      "Epoch 00438: val_loss did not improve from 0.32627\n",
      "849779/849779 [==============================] - 2s 2us/sample - loss: 0.3460 - mse_loss_fn: 0.0551 - kl_loss_fn: 29.1468 - val_loss: 0.3492 - val_mse_loss_fn: 0.0576 - val_kl_loss_fn: 29.0844\n",
      "Epoch 439/1001\n",
      "829440/849779 [============================>.] - ETA: 0s - loss: 0.3443 - mse_loss_fn: 0.0533 - kl_loss_fn: 29.1485\n",
      "Epoch 00439: val_loss did not improve from 0.32627\n",
      "849779/849779 [==============================] - 2s 2us/sample - loss: 0.3442 - mse_loss_fn: 0.0533 - kl_loss_fn: 29.1476 - val_loss: 0.3268 - val_mse_loss_fn: 0.0357 - val_kl_loss_fn: 29.0660\n",
      "Epoch 440/1001\n",
      "842752/849779 [============================>.] - ETA: 0s - loss: 0.3448 - mse_loss_fn: 0.0539 - kl_loss_fn: 29.1424\n",
      "Epoch 00440: val_loss did not improve from 0.32627\n",
      "849779/849779 [==============================] - 8s 10us/sample - loss: 0.3447 - mse_loss_fn: 0.0539 - kl_loss_fn: 29.1418 - val_loss: 0.3305 - val_mse_loss_fn: 0.0391 - val_kl_loss_fn: 29.0883\n",
      "Epoch 441/1001\n",
      "841728/849779 [============================>.] - ETA: 0s - loss: 0.3456 - mse_loss_fn: 0.0547 - kl_loss_fn: 29.1432\n",
      "Epoch 00441: val_loss did not improve from 0.32627\n",
      "849779/849779 [==============================] - 2s 3us/sample - loss: 0.3456 - mse_loss_fn: 0.0547 - kl_loss_fn: 29.1430 - val_loss: 0.3263 - val_mse_loss_fn: 0.0347 - val_kl_loss_fn: 29.1140\n",
      "Epoch 442/1001\n",
      "829440/849779 [============================>.] - ETA: 0s - loss: 0.3430 - mse_loss_fn: 0.0521 - kl_loss_fn: 29.1409\n",
      "Epoch 00442: val_loss did not improve from 0.32627\n",
      "849779/849779 [==============================] - 2s 2us/sample - loss: 0.3437 - mse_loss_fn: 0.0528 - kl_loss_fn: 29.1417 - val_loss: 0.3421 - val_mse_loss_fn: 0.0502 - val_kl_loss_fn: 29.1266\n",
      "Epoch 443/1001\n",
      "827392/849779 [============================>.] - ETA: 0s - loss: 0.3446 - mse_loss_fn: 0.0538 - kl_loss_fn: 29.1394\n",
      "Epoch 00443: val_loss improved from 0.32627 to 0.32496, saving model to outputs/models/cVAEz6_03-28-2023_wLogit/cbvae_LHCO2020_20d_e-6.hdf5\n",
      "849779/849779 [==============================] - 2s 2us/sample - loss: 0.3444 - mse_loss_fn: 0.0535 - kl_loss_fn: 29.1393 - val_loss: 0.3250 - val_mse_loss_fn: 0.0336 - val_kl_loss_fn: 29.0976\n",
      "Epoch 444/1001\n",
      "845824/849779 [============================>.] - ETA: 0s - loss: 0.3443 - mse_loss_fn: 0.0534 - kl_loss_fn: 29.1400\n",
      "Epoch 00444: val_loss did not improve from 0.32496\n",
      "849779/849779 [==============================] - 20s 23us/sample - loss: 0.3443 - mse_loss_fn: 0.0534 - kl_loss_fn: 29.1406 - val_loss: 0.3327 - val_mse_loss_fn: 0.0408 - val_kl_loss_fn: 29.1426\n",
      "Epoch 445/1001\n",
      "843776/849779 [============================>.] - ETA: 0s - loss: 0.3437 - mse_loss_fn: 0.0528 - kl_loss_fn: 29.1385\n",
      "Epoch 00445: val_loss did not improve from 0.32496\n",
      "849779/849779 [==============================] - 4s 5us/sample - loss: 0.3437 - mse_loss_fn: 0.0528 - kl_loss_fn: 29.1392 - val_loss: 0.3380 - val_mse_loss_fn: 0.0463 - val_kl_loss_fn: 29.1170\n",
      "Epoch 446/1001\n",
      "839680/849779 [============================>.] - ETA: 0s - loss: 0.3473 - mse_loss_fn: 0.0565 - kl_loss_fn: 29.1383\n",
      "Epoch 00446: val_loss did not improve from 0.32496\n",
      "849779/849779 [==============================] - 2s 3us/sample - loss: 0.3473 - mse_loss_fn: 0.0565 - kl_loss_fn: 29.1386 - val_loss: 0.3482 - val_mse_loss_fn: 0.0567 - val_kl_loss_fn: 29.0827\n",
      "Epoch 447/1001\n",
      "838656/849779 [============================>.] - ETA: 0s - loss: 0.3452 - mse_loss_fn: 0.0543 - kl_loss_fn: 29.1409\n",
      "Epoch 00447: val_loss did not improve from 0.32496\n",
      "849779/849779 [==============================] - 2s 2us/sample - loss: 0.3451 - mse_loss_fn: 0.0542 - kl_loss_fn: 29.1413 - val_loss: 0.3346 - val_mse_loss_fn: 0.0430 - val_kl_loss_fn: 29.1007\n",
      "Epoch 448/1001\n",
      "837632/849779 [============================>.] - ETA: 0s - loss: 0.3430 - mse_loss_fn: 0.0522 - kl_loss_fn: 29.1359\n",
      "Epoch 00448: val_loss did not improve from 0.32496\n",
      "849779/849779 [==============================] - 2s 2us/sample - loss: 0.3430 - mse_loss_fn: 0.0521 - kl_loss_fn: 29.1375 - val_loss: 0.3301 - val_mse_loss_fn: 0.0392 - val_kl_loss_fn: 29.0453\n",
      "Epoch 449/1001\n",
      "827392/849779 [============================>.] - ETA: 0s - loss: 0.3438 - mse_loss_fn: 0.0530 - kl_loss_fn: 29.1402\n",
      "Epoch 00449: val_loss did not improve from 0.32496\n",
      "849779/849779 [==============================] - 2s 2us/sample - loss: 0.3442 - mse_loss_fn: 0.0533 - kl_loss_fn: 29.1396 - val_loss: 0.3414 - val_mse_loss_fn: 0.0492 - val_kl_loss_fn: 29.1487\n",
      "Epoch 450/1001\n",
      "825344/849779 [============================>.] - ETA: 0s - loss: 0.3419 - mse_loss_fn: 0.0510 - kl_loss_fn: 29.1376\n",
      "Epoch 00450: val_loss did not improve from 0.32496\n",
      "849779/849779 [==============================] - 2s 2us/sample - loss: 0.3422 - mse_loss_fn: 0.0514 - kl_loss_fn: 29.1378 - val_loss: 0.3310 - val_mse_loss_fn: 0.0395 - val_kl_loss_fn: 29.0998\n",
      "Epoch 451/1001\n",
      "849779/849779 [==============================] - ETA: 0s - loss: 0.3456 - mse_loss_fn: 0.0548 - kl_loss_fn: 29.1386\n",
      "Epoch 00451: val_loss did not improve from 0.32496\n",
      "849779/849779 [==============================] - 2s 2us/sample - loss: 0.3456 - mse_loss_fn: 0.0548 - kl_loss_fn: 29.1386 - val_loss: 0.3285 - val_mse_loss_fn: 0.0369 - val_kl_loss_fn: 29.1195\n",
      "Epoch 452/1001\n",
      "836608/849779 [============================>.] - ETA: 0s - loss: 0.3446 - mse_loss_fn: 0.0537 - kl_loss_fn: 29.1382\n",
      "Epoch 00452: val_loss did not improve from 0.32496\n",
      "849779/849779 [==============================] - 2s 2us/sample - loss: 0.3445 - mse_loss_fn: 0.0537 - kl_loss_fn: 29.1382 - val_loss: 0.3393 - val_mse_loss_fn: 0.0480 - val_kl_loss_fn: 29.0682\n",
      "Epoch 453/1001\n",
      "835584/849779 [============================>.] - ETA: 0s - loss: 0.3434 - mse_loss_fn: 0.0525 - kl_loss_fn: 29.1359\n",
      "Epoch 00453: val_loss did not improve from 0.32496\n",
      "849779/849779 [==============================] - 2s 2us/sample - loss: 0.3432 - mse_loss_fn: 0.0524 - kl_loss_fn: 29.1359 - val_loss: 0.3285 - val_mse_loss_fn: 0.0375 - val_kl_loss_fn: 29.0562\n",
      "Epoch 454/1001\n",
      "847872/849779 [============================>.] - ETA: 0s - loss: 0.3447 - mse_loss_fn: 0.0538 - kl_loss_fn: 29.1361\n",
      "Epoch 00454: val_loss did not improve from 0.32496\n",
      "849779/849779 [==============================] - 2s 2us/sample - loss: 0.3447 - mse_loss_fn: 0.0539 - kl_loss_fn: 29.1363 - val_loss: 0.3375 - val_mse_loss_fn: 0.0452 - val_kl_loss_fn: 29.1733\n",
      "Epoch 455/1001\n",
      "832512/849779 [============================>.] - ETA: 0s - loss: 0.3439 - mse_loss_fn: 0.0530 - kl_loss_fn: 29.1381\n",
      "Epoch 00455: val_loss improved from 0.32496 to 0.32480, saving model to outputs/models/cVAEz6_03-28-2023_wLogit/cbvae_LHCO2020_20d_e-6.hdf5\n",
      "849779/849779 [==============================] - 2s 2us/sample - loss: 0.3437 - mse_loss_fn: 0.0529 - kl_loss_fn: 29.1381 - val_loss: 0.3248 - val_mse_loss_fn: 0.0334 - val_kl_loss_fn: 29.0969\n",
      "Epoch 456/1001\n",
      "842752/849779 [============================>.] - ETA: 0s - loss: 0.3447 - mse_loss_fn: 0.0539 - kl_loss_fn: 29.1334\n",
      "Epoch 00456: val_loss did not improve from 0.32480\n",
      "849779/849779 [==============================] - 2s 2us/sample - loss: 0.3448 - mse_loss_fn: 0.0540 - kl_loss_fn: 29.1335 - val_loss: 0.3332 - val_mse_loss_fn: 0.0418 - val_kl_loss_fn: 29.0815\n",
      "Epoch 457/1001\n",
      "827392/849779 [============================>.] - ETA: 0s - loss: 0.3439 - mse_loss_fn: 0.0531 - kl_loss_fn: 29.1372\n",
      "Epoch 00457: val_loss did not improve from 0.32480\n",
      "849779/849779 [==============================] - 2s 2us/sample - loss: 0.3438 - mse_loss_fn: 0.0529 - kl_loss_fn: 29.1366 - val_loss: 0.3258 - val_mse_loss_fn: 0.0351 - val_kl_loss_fn: 29.0303\n",
      "Epoch 458/1001\n",
      "827392/849779 [============================>.] - ETA: 0s - loss: 0.3430 - mse_loss_fn: 0.0522 - kl_loss_fn: 29.1305\n",
      "Epoch 00458: val_loss did not improve from 0.32480\n",
      "849779/849779 [==============================] - 2s 2us/sample - loss: 0.3431 - mse_loss_fn: 0.0523 - kl_loss_fn: 29.1307 - val_loss: 0.3279 - val_mse_loss_fn: 0.0366 - val_kl_loss_fn: 29.0862\n",
      "Epoch 459/1001\n",
      "841728/849779 [============================>.] - ETA: 0s - loss: 0.3439 - mse_loss_fn: 0.0532 - kl_loss_fn: 29.1303\n",
      "Epoch 00459: val_loss did not improve from 0.32480\n",
      "849779/849779 [==============================] - 2s 2us/sample - loss: 0.3439 - mse_loss_fn: 0.0531 - kl_loss_fn: 29.1307 - val_loss: 0.3382 - val_mse_loss_fn: 0.0468 - val_kl_loss_fn: 29.0804\n",
      "Epoch 460/1001\n",
      "849779/849779 [==============================] - ETA: 0s - loss: 0.3424 - mse_loss_fn: 0.0516 - kl_loss_fn: 29.1336\n",
      "Epoch 00460: val_loss did not improve from 0.32480\n",
      "849779/849779 [==============================] - 2s 2us/sample - loss: 0.3424 - mse_loss_fn: 0.0516 - kl_loss_fn: 29.1336 - val_loss: 0.3273 - val_mse_loss_fn: 0.0356 - val_kl_loss_fn: 29.1255\n",
      "Epoch 461/1001\n",
      "825344/849779 [============================>.] - ETA: 0s - loss: 0.3457 - mse_loss_fn: 0.0550 - kl_loss_fn: 29.1287\n",
      "Epoch 00461: val_loss did not improve from 0.32480\n",
      "849779/849779 [==============================] - 2s 2us/sample - loss: 0.3460 - mse_loss_fn: 0.0552 - kl_loss_fn: 29.1277 - val_loss: 0.3335 - val_mse_loss_fn: 0.0428 - val_kl_loss_fn: 29.0138\n",
      "Epoch 462/1001\n",
      "831488/849779 [============================>.] - ETA: 0s - loss: 0.3423 - mse_loss_fn: 0.0515 - kl_loss_fn: 29.1289\n",
      "Epoch 00462: val_loss did not improve from 0.32480\n",
      "849779/849779 [==============================] - 2s 2us/sample - loss: 0.3420 - mse_loss_fn: 0.0512 - kl_loss_fn: 29.1287 - val_loss: 0.3259 - val_mse_loss_fn: 0.0349 - val_kl_loss_fn: 29.0540\n",
      "Epoch 463/1001\n",
      "846848/849779 [============================>.] - ETA: 0s - loss: 0.3437 - mse_loss_fn: 0.0529 - kl_loss_fn: 29.1306\n",
      "Epoch 00463: val_loss did not improve from 0.32480\n",
      "849779/849779 [==============================] - 6s 7us/sample - loss: 0.3437 - mse_loss_fn: 0.0530 - kl_loss_fn: 29.1309 - val_loss: 0.3339 - val_mse_loss_fn: 0.0420 - val_kl_loss_fn: 29.1376\n",
      "Epoch 464/1001\n",
      "834560/849779 [============================>.] - ETA: 0s - loss: 0.3439 - mse_loss_fn: 0.0531 - kl_loss_fn: 29.1316\n",
      "Epoch 00464: val_loss did not improve from 0.32480\n",
      "849779/849779 [==============================] - 2s 2us/sample - loss: 0.3436 - mse_loss_fn: 0.0528 - kl_loss_fn: 29.1309 - val_loss: 0.3268 - val_mse_loss_fn: 0.0355 - val_kl_loss_fn: 29.0817\n",
      "Epoch 465/1001\n",
      "829440/849779 [============================>.] - ETA: 0s - loss: 0.3451 - mse_loss_fn: 0.0544 - kl_loss_fn: 29.1297\n",
      "Epoch 00465: val_loss did not improve from 0.32480\n",
      "849779/849779 [==============================] - 2s 2us/sample - loss: 0.3450 - mse_loss_fn: 0.0542 - kl_loss_fn: 29.1288 - val_loss: 0.3317 - val_mse_loss_fn: 0.0406 - val_kl_loss_fn: 29.0511\n",
      "Epoch 466/1001\n",
      "849779/849779 [==============================] - ETA: 0s - loss: 0.3442 - mse_loss_fn: 0.0534 - kl_loss_fn: 29.1337\n",
      "Epoch 00466: val_loss did not improve from 0.32480\n",
      "849779/849779 [==============================] - 8s 9us/sample - loss: 0.3442 - mse_loss_fn: 0.0534 - kl_loss_fn: 29.1337 - val_loss: 0.3290 - val_mse_loss_fn: 0.0367 - val_kl_loss_fn: 29.1873\n",
      "Epoch 467/1001\n",
      "833536/849779 [============================>.] - ETA: 0s - loss: 0.3423 - mse_loss_fn: 0.0515 - kl_loss_fn: 29.1288\n",
      "Epoch 00467: val_loss did not improve from 0.32480\n",
      "849779/849779 [==============================] - 2s 2us/sample - loss: 0.3424 - mse_loss_fn: 0.0516 - kl_loss_fn: 29.1282 - val_loss: 0.3347 - val_mse_loss_fn: 0.0430 - val_kl_loss_fn: 29.1092\n",
      "Epoch 468/1001\n",
      "846848/849779 [============================>.] - ETA: 0s - loss: 0.3455 - mse_loss_fn: 0.0548 - kl_loss_fn: 29.1256\n",
      "Epoch 00468: val_loss did not improve from 0.32480\n",
      "849779/849779 [==============================] - 2s 2us/sample - loss: 0.3455 - mse_loss_fn: 0.0547 - kl_loss_fn: 29.1256 - val_loss: 0.3285 - val_mse_loss_fn: 0.0370 - val_kl_loss_fn: 29.1033\n",
      "Epoch 469/1001\n",
      "356352/849779 [===========>..................] - ETA: 7s - loss: 0.3460 - mse_loss_fn: 0.0553 - kl_loss_fn: 29.1286"
     ]
    }
   ],
   "source": [
    "list_loss = []\n",
    "list_val_loss = [] \n",
    "\n",
    "while learnrate > lr_limit:\n",
    "    # if k < 4:\n",
    "    #     opt = Adam(learning_rate=learnrate, beta_1=0.9, beta_2=0.999, epsilon=1e-08, decay=0.0)\n",
    "    #     epochs = epochs_1\n",
    "    # else:\n",
    "    #     opt = SGD(learning_rate=learnrate, decay=1e-6, momentum=0.9, nesterov=True)\n",
    "    #     epochs = epochs_2\n",
    "    \n",
    "    #Using only one opt\n",
    "    opt = Adam(learning_rate=learnrate, beta_1=0.9, beta_2=0.999, epsilon=1e-08, decay=0.0)\n",
    "    epochs = epochs_1\n",
    "    \n",
    "    cvae.compile(loss=vae_loss, optimizer=opt, metrics=[mse_loss_fn, kl_loss_fn])\n",
    "    cvae.fit([x_train, y_train], x_train,\n",
    "            epochs=epochs,\n",
    "            batch_size=batch_size,\n",
    "            validation_data=([x_test, y_test], x_test),\n",
    "            callbacks = [checkpointer, history, decoderSaver])\n",
    "    cvae.load_weights('outputs/models/%s/cbvae_LHCO2020_20d_e-6.hdf5'%(folder_name))\n",
    "\n",
    "    learnrate /= 2\n",
    "    k=k+1\n",
    "\n",
    "list_loss = np.append(list_loss, history.history['loss'])\n",
    "list_val_loss = np.append(list_val_loss, history.history['val_loss'])\n",
    "    \n",
    "# train the autoencoder\n",
    "cvae.save_weights('outputs/models/%s/cbvae_LHCO2020_20d_e-6.h5'%(folder_name))\n",
    "\n"
   ]
  },
  {
   "cell_type": "code",
   "execution_count": 23,
   "id": "e64e98c3-b284-4130-bc8a-3a66a8394506",
   "metadata": {},
   "outputs": [],
   "source": [
    "# Predict the mean and std from the training dataset\n",
    "# latent mean\n",
    "latent_mean = encoder.predict([x_train, y_train])[0]\n",
    "# latent log variance --> variance --> std\n",
    "latent_logvar = encoder.predict([x_train, y_train])[1]\n",
    "latent_var = np.exp(latent_logvar)\n",
    "latent_std = np.sqrt(latent_var)\n",
    "\n",
    "# Save the latent mean and atd values\n",
    "np.savetxt('outputs/models/%s/cbvae_LHCO2020_latent_mean_20d_e-6.csv'%folder_name, latent_mean)\n",
    "np.savetxt('outputs/models/%s/cbvae_LHCO2020_latent_std_20d_e-6.csv'%folder_name, latent_std)\n",
    "\n",
    "# Save the loss values\n",
    "np.save(\"outputs/models/%s/cbvae_LHCO2020_val_loss.npy\"%folder_name, list_val_loss)\n",
    "np.save(\"outputs/models/%s/cbvae_LHCO2020_train_loss.npy\"%folder_name, list_loss)"
   ]
  },
  {
   "cell_type": "code",
   "execution_count": 10,
   "id": "6ce97743-819f-4ad7-b265-863d798240d9",
   "metadata": {},
   "outputs": [
    {
     "name": "stdout",
     "output_type": "stream",
     "text": [
      "WARNING:tensorflow:OMP_NUM_THREADS is no longer used by the default Keras config. To configure the number of threads, use tf.config.threading APIs.\n"
     ]
    },
    {
     "name": "stderr",
     "output_type": "stream",
     "text": [
      "2023-03-28 15:41:32.058651: I tensorflow/core/platform/cpu_feature_guard.cc:142] This TensorFlow binary is optimized with oneAPI Deep Neural Network Library (oneDNN) to use the following CPU instructions in performance-critical operations:  AVX2 FMA\n",
      "To enable them in other operations, rebuild TensorFlow with the appropriate compiler flags.\n"
     ]
    },
    {
     "name": "stdout",
     "output_type": "stream",
     "text": [
      "WARNING:tensorflow:No training configuration found in the save file, so the model was *not* compiled. Compile it manually.\n"
     ]
    },
    {
     "name": "stderr",
     "output_type": "stream",
     "text": [
      "2023-03-28 15:41:33.548730: I tensorflow/core/common_runtime/gpu/gpu_device.cc:1510] Created device /job:localhost/replica:0/task:0/device:GPU:0 with 36911 MB memory:  -> device: 0, name: NVIDIA A100-PCIE-40GB, pci bus id: 0000:c3:00.0, compute capability: 8.0\n"
     ]
    },
    {
     "name": "stdout",
     "output_type": "stream",
     "text": [
      "WARNING:tensorflow:No training configuration found in the save file, so the model was *not* compiled. Compile it manually.\n"
     ]
    }
   ],
   "source": [
    "#this endocer and decoder is same as the ones used in above cell to save mean and std\n",
    "folder = \"/global/homes/a/agarabag/pscratch/GAEA/outputs/models/cVAEz6_03-28-2023\"\n",
    "encoder = keras.models.load_model(folder+'/encoder_cbvae_6var_m512.h5')\n",
    "decoder = keras.models.load_model(folder+'/model_cbvae_6var_m512.h5')"
   ]
  },
  {
   "cell_type": "code",
   "execution_count": null,
   "id": "9bc3c0bd-e47d-47b4-8936-ddd9444039e5",
   "metadata": {},
   "outputs": [],
   "source": [
    "# Predict the mean and std from the training dataset\n",
    "\n",
    "# latent mean\n",
    "latent_mean = encoder.predict([x_train, y_train])[0]\n",
    "# latent log variance --> variance --> std\n",
    "latent_logvar = encoder.predict([x_train, y_train])[1]\n",
    "latent_var = np.exp(latent_logvar)\n",
    "latent_std = np.sqrt(latent_var)\n",
    "\n",
    "# Save the latent mean and atd values\n",
    "np.savetxt('outputs/models/%s/cbvae_LHCO2020_latent_mean_m239_20d_e-6.csv'%folder_name, latent_mean)\n",
    "np.savetxt('outputs/models/%s/cbvae_LHCO2020_latent_std_m239_20d_e-6.csv'%folder_name, latent_std)\n",
    "\n",
    "# Save the loss values\n",
    "# np.save(\"outputs/models/%s/cbvae_LHCO2020_val_loss.npy\"%folder_name, list_val_loss)\n",
    "# np.save(\"outputs/models/%s/cbvae_LHCO2020_train_loss.npy\"%folder_name, list_loss)"
   ]
  },
  {
   "cell_type": "code",
   "execution_count": 56,
   "id": "bd46642a",
   "metadata": {},
   "outputs": [],
   "source": [
    "# list_val_loss"
   ]
  },
  {
   "cell_type": "code",
   "execution_count": 55,
   "id": "44eb99e1",
   "metadata": {},
   "outputs": [],
   "source": [
    "# history.history['loss']"
   ]
  },
  {
   "cell_type": "code",
   "execution_count": 24,
   "id": "124a5452",
   "metadata": {},
   "outputs": [
    {
     "data": {
      "text/plain": [
       "<matplotlib.legend.Legend at 0x14e270fa23d0>"
      ]
     },
     "execution_count": 24,
     "metadata": {},
     "output_type": "execute_result"
    },
    {
     "data": {
      "image/png": "[encoded data removed]",
      "text/plain": [
       "<Figure size 800x600 with 1 Axes>"
      ]
     },
     "metadata": {},
     "output_type": "display_data"
    }
   ],
   "source": [
    "# plot loss function\n",
    "\n",
    "fig, ax = plt.subplots(1,1, figsize=(8,6))\n",
    "\n",
    "\n",
    "plt.plot(np.arange(0,epochs_1*iterations), list_loss, label='training',c='blue',linewidth = 3)\n",
    "plt.plot(np.arange(0,epochs_1*iterations), list_val_loss, label='validation',c='red',linewidth = 3)\n",
    "\n",
    "plt.title(\"Loss vs. epoch\", fontsize=25)\n",
    "\n",
    "ax.set_ylabel('loss', fontsize=25,horizontalalignment='right',y=1)\n",
    "ax.set_xlabel('epoch', fontsize=25,horizontalalignment='right',x=1)\n",
    "plt.legend(loc='best', prop={'size':20}, edgecolor = \"w\",fancybox=False, framealpha=0)"
   ]
  },
  {
   "cell_type": "code",
   "execution_count": 25,
   "id": "8c25d662",
   "metadata": {},
   "outputs": [
    {
     "data": {
      "image/png": "[encoded data removed]",
      "text/plain": [
       "<Figure size 640x480 with 1 Axes>"
      ]
     },
     "metadata": {},
     "output_type": "display_data"
    },
    {
     "name": "stdout",
     "output_type": "stream",
     "text": [
      "(849779, 6)\n"
     ]
    }
   ],
   "source": [
    "# Read the mean values\n",
    "filename = 'outputs/models/%s/cbvae_LHCO2020_latent_mean_20d_e-6.csv'%folder_name\n",
    "means_df = pd.read_csv(filename, sep=' ', header=None)\n",
    "mean = means_df.values\n",
    "plt.hist(mean[:,5], bins=50)\n",
    "plt.show()\n",
    "print(mean.shape)\n",
    "\n",
    "# Read the std values\n",
    "filename = 'outputs/models/%s/cbvae_LHCO2020_latent_std_20d_e-6.csv'%folder_name\n",
    "stds_df = pd.read_csv(filename, sep=' ', header=None)\n",
    "std = stds_df.values\n",
    "\n",
    "z_samples = np.empty([cond_data.shape[0],latent_dim])"
   ]
  },
  {
   "cell_type": "code",
   "execution_count": 26,
   "id": "d43ddcc5-c93b-48b9-9cb1-f3705471694a",
   "metadata": {},
   "outputs": [
    {
     "data": {
      "text/plain": [
       "(878648,)"
      ]
     },
     "execution_count": 26,
     "metadata": {},
     "output_type": "execute_result"
    }
   ],
   "source": [
    "cond_data.shape\n",
    "# plt.hist(cond_data, bins=50)"
   ]
  },
  {
   "cell_type": "code",
   "execution_count": 48,
   "id": "36578f57",
   "metadata": {},
   "outputs": [],
   "source": [
    "l=0\n",
    "for i in range(0,cond_data.shape[0]):\n",
    "    for j in range(0,latent_dim):\n",
    "        z_samples[l,j] = np.random.normal(mean[i%trainsize,j], 0.05+std[i%trainsize,j])\n",
    "    l=l+1\n",
    "    \n",
    "new_events = decoder.predict([z_samples, np.reshape(cond_data, [-1, 1])])\n",
    "\n",
    "#reverse normalization\n",
    "new_events = expit_norm(new_events)\n",
    "new_events = rev_minmax_data(new_events, data_min, data_max)\n",
    "\n",
    "os.system(\"mkdir -p ./outputs/gen_dataset/%s/\"%folder_name)\n",
    "np.save('outputs/gen_dataset/%s/LHCO2020_cB-VAE_events_SB.npy'%folder_name, new_events)"
   ]
  },
  {
   "cell_type": "code",
   "execution_count": 49,
   "id": "affc99e3-5009-4d34-aac6-15fa9320c969",
   "metadata": {},
   "outputs": [
    {
     "name": "stdout",
     "output_type": "stream",
     "text": [
      "(878648, 6)\n",
      "(878648, 1)\n"
     ]
    }
   ],
   "source": [
    "print(z_samples.shape)\n",
    "print(np.reshape(cond_data, [-1, 1]).shape)"
   ]
  },
  {
   "cell_type": "code",
   "execution_count": 50,
   "id": "4ae3875f-c514-4eaf-b3ab-576b7090f2b4",
   "metadata": {},
   "outputs": [
    {
     "name": "stdout",
     "output_type": "stream",
     "text": [
      "-0.008223956836172224 1.0027739247862502\n"
     ]
    },
    {
     "data": {
      "image/png": "[encoded data removed]",
      "text/plain": [
       "<Figure size 640x480 with 1 Axes>"
      ]
     },
     "metadata": {},
     "output_type": "display_data"
    }
   ],
   "source": [
    "idx = 5 \n",
    "plt.hist(z_samples[:, idx], bins=50)\n",
    "print(np.mean(z_samples[:, idx]), np.std(z_samples[:, idx]))"
   ]
  },
  {
   "cell_type": "code",
   "execution_count": 51,
   "id": "73d0b6a1",
   "metadata": {},
   "outputs": [
    {
     "name": "stdout",
     "output_type": "stream",
     "text": [
      "shape of gen_SR:  (878648, 6)\n"
     ]
    }
   ],
   "source": [
    "file_gen_SB = 'outputs/gen_dataset/%s/LHCO2020_cB-VAE_events_SB.npy'%folder_name\n",
    "gen_SB = np.load(file_gen_SB)\n",
    "# gen_SB = pd.read_csv(file_gen_SB, delimiter = ' ', header=None, index_col=False)\n",
    "# gen_SB = gen_SB.to_numpy()\n",
    "print(\"shape of gen_SR: \", gen_SB.shape)\n"
   ]
  },
  {
   "cell_type": "code",
   "execution_count": 52,
   "id": "9ccc8106",
   "metadata": {},
   "outputs": [],
   "source": [
    "# variables_names =  train_features\n",
    "# vnames = train_features\n",
    "\n",
    "plotting_ranges = [(0,0.8), (0,1), (0,1), (0,1), (0,1), (0,1)]\n",
    "\n",
    "def fake_vs_real(gen_data,real_data,doLog,names):\n",
    "    \n",
    "    plt.figure(figsize=(20,15))\n",
    "    colors = [\"steelblue\", \"darkturquoise\"]\n",
    "    for p in range(0,nFeat):\n",
    "        R = np.linspace(plotting_ranges[p][0],plotting_ranges[p][1],51)\n",
    "        plt.subplot((nFeat+1)//2, 2, p+1)\n",
    "        for rd in real_data: b_hist_y, b_hist_x, _ = plt.hist(rd[:,p], R, color=\"black\", histtype='step', linewidth=2, label=\"MC Bkg\", density=True)        \n",
    "        for i,n in enumerate(gen_data): plt.hist(n[:,p], R, color=colors[i], histtype='stepfilled', alpha=0.5, linewidth=2, label=\"Generated Bkg %s\"%names[i], density=True)\n",
    "        # s_hist_y, s_hist_x, _ = plt.hist(sig_data[:,p], R, color=\"r\", histtype='step', linewidth=3, label=\"Signal\", density=True)\n",
    "        plt.xlabel(\"%s\"%feature_labels[p])\n",
    "        if doLog == True: plt.yscale('log')\n",
    "        plt.ylabel(\"Number of Events / bin\")\n",
    "        plt.legend(fontsize=\"large\")\n",
    "        ymax_b = np.max(b_hist_y)\n",
    "        # ymax_s = np.max(s_hist_y)\n",
    "        plt.ylim(0,ymax_b*1.5)\n",
    "#     plt.savefig(\"fake_gen_compare_cbvae_6var_dynamicbeta.png\")"
   ]
  },
  {
   "cell_type": "code",
   "execution_count": 53,
   "id": "a14facb4",
   "metadata": {},
   "outputs": [
    {
     "data": {
      "text/plain": [
       "(878648,)"
      ]
     },
     "execution_count": 53,
     "metadata": {},
     "output_type": "execute_result"
    }
   ],
   "source": [
    "cond_data.shape"
   ]
  },
  {
   "cell_type": "code",
   "execution_count": 55,
   "id": "d40a0b2e",
   "metadata": {},
   "outputs": [
    {
     "name": "stderr",
     "output_type": "stream",
     "text": [
      "/tmp/ipykernel_193428/3486223139.py:22: UserWarning: Attempt to set non-positive ylim on a log-scaled axis will be ignored.\n",
      "  plt.ylim(0,ymax_b*1.5)\n"
     ]
    },
    {
     "data": {
      "image/png": "[encoded data removed]",
      "text/plain": [
       "<Figure size 2000x1500 with 6 Axes>"
      ]
     },
     "metadata": {},
     "output_type": "display_data"
    }
   ],
   "source": [
    "un_norm_data = expit_norm(data)\n",
    "un_norm_data = rev_minmax_data(un_norm_data, data_min, data_max)\n",
    "#fake_vs_real([gen_SB],[og_data],0,[\"\"])\n",
    "fake_vs_real([gen_SB],[un_norm_data],1,[\"\"])"
   ]
  },
  {
   "cell_type": "code",
   "execution_count": 57,
   "id": "9d45f17e",
   "metadata": {
    "tags": []
   },
   "outputs": [
    {
     "name": "stdout",
     "output_type": "stream",
     "text": [
      "(40000, 8)\n",
      "(99605, 6)\n",
      "(99605,)\n",
      "(99605, 6)\n",
      "(878648, 6)\n",
      "(878648, 1)\n"
     ]
    },
    {
     "name": "stderr",
     "output_type": "stream",
     "text": [
      "/tmp/ipykernel_193428/3486223139.py:22: UserWarning: Attempt to set non-positive ylim on a log-scaled axis will be ignored.\n",
      "  plt.ylim(0,ymax_b*1.5)\n"
     ]
    },
    {
     "data": {
      "image/png": "[encoded data removed]",
      "text/plain": [
       "<Figure size 2000x1500 with 6 Axes>"
      ]
     },
     "metadata": {},
     "output_type": "display_data"
    }
   ],
   "source": [
    "from sklearn.neighbors import KernelDensity\n",
    "\n",
    "innerdata_train = np.load(\"./data/preprocessed_data_6var/innerdata_train_6var.npy\")\n",
    "innerdata_test = np.load(\"./data/preprocessed_data_6var/innerdata_test_6var.npy\")\n",
    "\n",
    "innerdata_train = innerdata_train[innerdata_train[:,nFeat+1]==0]\n",
    "innerdata_test  = innerdata_test[innerdata_test[:,nFeat+1]==0]\n",
    "print(innerdata_test.shape)\n",
    "\n",
    "data_sr_train = innerdata_train[:,1:nFeat+1]\n",
    "data_sr_test = innerdata_test[:,1:nFeat+1]\n",
    "x_SR = np.concatenate((data_sr_train, data_sr_test), axis=0)\n",
    "print(x_SR.shape)\n",
    "x_SR, x_SR_max, x_SR_min = minmax_norm_data(x_SR)\n",
    "x_SR = logit_norm(x_SR)\n",
    "\n",
    "\n",
    "y_innerdata_train = innerdata_train[:,0]\n",
    "y_innerdata_test = innerdata_test[:,0]\n",
    "y_SR = np.concatenate((y_innerdata_train, y_innerdata_test), axis=0)\n",
    "y_SR, cond_data_SR_max, cond_data_SR_min = minmax_norm_cond_data(y_SR)\n",
    "y_SR = logit_norm(y_SR)\n",
    "print(y_SR.shape)\n",
    "\n",
    "KDE_bandwidth = 0.01\n",
    "# mjj_logit = quick_logit(y_SR)\n",
    "# y_SR = logit_transform_inverse(KernelDensity(\n",
    "#                   bandwidth=KDE_bandwidth, kernel='gaussian').fit(\n",
    "#                   mjj_logit.reshape(-1, 1)).sample(z_samples.shape[0]),\n",
    "#                                                    max(y_SR).item(),\n",
    "#                                                    min(y_SR).item())\n",
    "y_SR = KernelDensity(bandwidth=KDE_bandwidth, kernel='gaussian').fit(y_SR.reshape(-1, 1)).sample(z_samples.shape[0])\n",
    "\n",
    "x_SR_train = x_SR[:trainsize]\n",
    "image_size = x_SR_train.shape[1]\n",
    "original_dim = image_size\n",
    "x_SR_train = np.reshape(x_SR_train, [-1, original_dim])\n",
    "\n",
    "print(x_SR_train.shape)\n",
    "print(z_samples.shape)\n",
    "print(np.reshape(y_SR, [-1, 1]).shape)\n",
    "\n",
    "gen_SR = decoder.predict([z_samples, np.reshape(y_SR, [-1, 1])])\n",
    "\n",
    "fake_vs_real([gen_SR],[x_SR],1,[\"\"])"
   ]
  },
  {
   "cell_type": "code",
   "execution_count": null,
   "id": "46a4cbc9-93b2-4c85-a389-32f3fe779484",
   "metadata": {},
   "outputs": [],
   "source": []
  }
 ],
 "metadata": {
  "kernelspec": {
   "display_name": "tensorflow-2.6.0",
   "language": "python",
   "name": "tensorflow-2.6.0"
  },
  "language_info": {
   "codemirror_mode": {
    "name": "ipython",
    "version": 3
   },
   "file_extension": ".py",
   "mimetype": "text/x-python",
   "name": "python",
   "nbconvert_exporter": "python",
   "pygments_lexer": "ipython3",
   "version": "3.9.15"
  }
 },
 "nbformat": 4,
 "nbformat_minor": 5
}
