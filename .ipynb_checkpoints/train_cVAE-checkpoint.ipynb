{
 "cells": [
  {
   "cell_type": "markdown",
   "id": "2146116d",
   "metadata": {},
   "source": [
    "# Conditional VAE for LHC Olympics 2020 dataset"
   ]
  },
  {
   "cell_type": "code",
   "execution_count": 2,
   "id": "c6b61ed9",
   "metadata": {},
   "outputs": [],
   "source": [
    "import numpy as np\n",
    "import matplotlib.pyplot as plt\n",
    "import argparse\n",
    "import os\n",
    "import pandas as pd\n",
    "from tqdm import tqdm\n",
    "\n",
    "import tensorflow as tf\n",
    "from tensorflow import keras\n",
    "from tensorflow.keras import backend as K\n",
    "from tensorflow.keras.models import Model\n",
    "from tensorflow.keras.layers import Lambda, Input, Dense, Add, Activation, Concatenate\n",
    "from tensorflow.keras.callbacks import History, ModelCheckpoint, Callback\n",
    "from tensorflow.keras.optimizers import Adam, SGD\n",
    "from tensorflow.keras.layers import Dense, Dropout, Input, BatchNormalization, Concatenate, LeakyReLU, Reshape, Conv2DTranspose, Flatten, Conv2D\n",
    "from tensorflow.keras.models import Model,Sequential\n",
    "\n",
    "from utils import *"
   ]
  },
  {
   "cell_type": "code",
   "execution_count": 3,
   "id": "34f9d9cd-d9c7-44f3-9826-2e1d6534ac26",
   "metadata": {},
   "outputs": [],
   "source": [
    "from tensorflow.python.framework.ops import disable_eager_execution\n",
    "disable_eager_execution()"
   ]
  },
  {
   "cell_type": "markdown",
   "id": "eea69fd3-14ef-42d6-a62e-081b44ef7593",
   "metadata": {},
   "source": [
    "## Load training and test data"
   ]
  },
  {
   "cell_type": "code",
   "execution_count": 4,
   "id": "9e521f29-c5e4-459c-ac00-8a2373b78269",
   "metadata": {},
   "outputs": [
    {
     "name": "stdout",
     "output_type": "stream",
     "text": [
      "shape of data_train:  (499889, 6)\n",
      "shape of data_test:  (378759, 6)\n",
      "shape of data:  (878648, 6)\n",
      "shape of cond_train (499889,)\n",
      "shape of cond_test (378759,)\n",
      "shape of cond_data:  (878648,)\n"
     ]
    }
   ],
   "source": [
    "outerdata_train = np.load(\"./data/preprocessed_data_6var/outerdata_train_6var.npy\")\n",
    "outerdata_test = np.load(\"./data/preprocessed_data_6var/outerdata_test_6var.npy\")\n",
    "\n",
    "# Num of feature stored in the data files\n",
    "nFeat = 6\n",
    "# Num of feature we want to use for training\n",
    "input_dim = 6\n",
    "\n",
    "outerdata_train = outerdata_train[outerdata_train[:,nFeat+1]==0]\n",
    "outerdata_test = outerdata_test[outerdata_test[:,nFeat+1]==0]\n",
    "\n",
    "data_train = outerdata_train[:,1:nFeat+1]\n",
    "print('shape of data_train: ', data_train.shape)\n",
    "data_test = outerdata_test[:,1:nFeat+1]\n",
    "print('shape of data_test: ', data_test.shape)\n",
    "\n",
    "data = np.concatenate((data_train, data_test), axis=0)\n",
    "\n",
    "print('shape of data: ', data.shape)\n",
    "\n",
    "cond_data_train = outerdata_train[:,0]\n",
    "print('shape of cond_train', cond_data_train.shape)\n",
    "cond_data_test = outerdata_test[:,0]\n",
    "print('shape of cond_test', cond_data_test.shape)\n",
    "\n",
    "cond_data = np.concatenate((cond_data_train, cond_data_test), axis=0)\n",
    "print('shape of cond_data: ', cond_data.shape)"
   ]
  },
  {
   "cell_type": "code",
   "execution_count": 5,
   "id": "3a9c91e1",
   "metadata": {},
   "outputs": [
    {
     "data": {
      "image/png": "[encoded data removed]",
      "text/plain": [
       "<Figure size 720x360 with 2 Axes>"
      ]
     },
     "metadata": {
      "needs_background": "light"
     },
     "output_type": "display_data"
    },
    {
     "name": "stdout",
     "output_type": "stream",
     "text": [
      "total event count in lower region:  417822\n",
      "total event count in upper region:  82067\n"
     ]
    }
   ],
   "source": [
    "# conditional data has two region one from 0 to 3.3 and one from 3.7 to 1 \n",
    "# plot these two regions separately\n",
    "plt.figure(figsize=(10,5))\n",
    "plt.subplot(1,2,1)\n",
    "plt.hist(cond_data_train[cond_data_train<3.3], bins=100)\n",
    "plt.title('cond_data_train < 3.3 TeV')\n",
    "plt.subplot(1,2,2)\n",
    "plt.hist(cond_data_train[cond_data_train>3.7], bins=100)\n",
    "plt.title('cond_data_train > 3.7 TeV')\n",
    "plt.show()\n",
    "\n",
    "#we also want to show the total event count in each region\n",
    "print('total event count in lower region: ', len(cond_data_train[cond_data_train<3.3]))\n",
    "print('total event count in upper region: ', len(cond_data_train[cond_data_train>3.7]))\n"
   ]
  },
  {
   "cell_type": "markdown",
   "id": "1fd5842d",
   "metadata": {},
   "source": [
    "## Plot training features\n",
    "\n",
    "- Total 6 training features\n",
    "- 1 conditional feature\n",
    "- Training Features are scaled to such that they are in range [0,1]"
   ]
  },
  {
   "cell_type": "code",
   "execution_count": 6,
   "id": "f88601c4-1d40-4d8f-aad9-e76274615839",
   "metadata": {},
   "outputs": [],
   "source": [
    "feature_names = {\n",
    "                0: \"$m_{2}$\",\n",
    "                1: \"$\\Delta m = m_{1} - m_{2}$ \",\n",
    "                2: \"$\\\\tau_{21}^{J1}$\",\n",
    "                3: \"$\\\\tau_{21}^{J2}$\",\n",
    "                4: \"$\\\\tau_{32}^{J1}$\",\n",
    "                5: \"$\\\\tau_{32}^{J2}$\"\n",
    "    \n",
    "}"
   ]
  },
  {
   "cell_type": "code",
   "execution_count": 7,
   "id": "b9b388ca-40de-47b8-81c4-02a9a5bb8ca0",
   "metadata": {},
   "outputs": [],
   "source": [
    "feature_labels = {\n",
    "                0: \"Min. Jet Mass\",\n",
    "                1: \"Jet Mass Difference\",\n",
    "                2: \"$\\\\tau_{21}$ Lead Jet\",\n",
    "                3: \"$\\\\tau_{21}$ Sublead Jet\",\n",
    "                4: \"$\\\\tau_{32}$ Lead Jet\",\n",
    "                5: \"$\\\\tau_{32}$ Sublead Jet\"\n",
    "    \n",
    "}"
   ]
  },
  {
   "cell_type": "code",
   "execution_count": 8,
   "id": "1735bd14-79fc-48ea-9630-fe267205f253",
   "metadata": {},
   "outputs": [],
   "source": [
    "def plot_variables(data, density = False):\n",
    "    \n",
    "    plt.figure(figsize=(12,12))\n",
    "    if density == False:\n",
    "        plt.ylabel(\"Events\")\n",
    "    else:\n",
    "        plt.ylabel(\"Normalized events\")\n",
    "    \n",
    "    \n",
    "    for i in range(input_dim):\n",
    "        plt.subplot((input_dim+1)//2, 2, i+1)\n",
    "        plt.xlabel(feature_names[i])\n",
    "        plt.hist(data[:, i], bins=30, color = \"darkblue\",  histtype = \"step\", label = feature_labels[i], density = density)\n",
    "        plt.legend()\n",
    "        plt.yscale('log')\n"
   ]
  },
  {
   "cell_type": "code",
   "execution_count": 9,
   "id": "7765984a-04d6-43ce-9868-ef28d28c4740",
   "metadata": {},
   "outputs": [
    {
     "data": {
      "image/png": "[encoded data removed]",
      "text/plain": [
       "<Figure size 864x864 with 6 Axes>"
      ]
     },
     "metadata": {
      "needs_background": "light"
     },
     "output_type": "display_data"
    }
   ],
   "source": [
    "plot_variables(data)"
   ]
  },
  {
   "attachments": {},
   "cell_type": "markdown",
   "id": "39b8f772",
   "metadata": {},
   "source": [
    "### Feature scaling\n",
    "<!-- Dividing each feature by the `abs(maximum)` value -->"
   ]
  },
  {
   "cell_type": "code",
   "execution_count": 10,
   "id": "ee1fa493-16ad-4223-8d9b-287e01d8dc1a",
   "metadata": {},
   "outputs": [
    {
     "name": "stdout",
     "output_type": "stream",
     "text": [
      "(878648, 6)\n",
      "(878648, 6)\n"
     ]
    }
   ],
   "source": [
    "# feature_max = np.empty(nFeat)\n",
    "\n",
    "# for i in range(0,data.shape[1]):\n",
    "#     feature_max[i] = np.max(np.abs(data[:,i]))\n",
    "#     if np.abs(feature_max[i]) > 0: \n",
    "#         data[:,i] = data[:,i]/feature_max[i]\n",
    "#     else:\n",
    "#         pass\n",
    "\n",
    "# cond_max = np.max(np.abs(cond_data))\n",
    "\n",
    "# if np.abs(cond_max) > 0:\n",
    "#     cond_data = cond_data/cond_max\n",
    "# else:\n",
    "#     pass\n",
    "\n",
    "#nin-max normalization\n",
    "print(data.shape)\n",
    "data, data_max, data_min = minmax_norm_data(data)\n",
    "cond_data = minmax_norm_cond_data(cond_data)\n",
    "\n",
    "print(data.shape)\n"
   ]
  },
  {
   "cell_type": "markdown",
   "id": "35eb21cf",
   "metadata": {},
   "source": [
    "## Setting up for training\n",
    "\n",
    "### Defining the train and test sets"
   ]
  },
  {
   "cell_type": "code",
   "execution_count": 12,
   "id": "9b8335cb-14a1-451e-bc39-d869934ad28e",
   "metadata": {},
   "outputs": [
    {
     "name": "stdout",
     "output_type": "stream",
     "text": [
      "Data Shape:  (878648, 6)\n"
     ]
    }
   ],
   "source": [
    "trainsize = outerdata_train.shape[0]\n",
    "\n",
    "data = data[:,0:input_dim]\n",
    "data = np.reshape(data, (len(cond_data),input_dim))\n",
    "print(\"Data Shape: \", np.shape(data))\n",
    "x_train = data[:trainsize]\n",
    "x_test = data[trainsize:]\n",
    "y_train = cond_data[:trainsize]\n",
    "y_test = cond_data[trainsize:]\n",
    "\n",
    "# x_train = np.hstack([x_train,y_train.reshape(y_train.shape[0],1)])\n",
    "# x_test = np.hstack([x_test,y_test.reshape(y_test.shape[0],1)])\n",
    "\n",
    "image_size = x_train.shape[1]\n",
    "original_dim = image_size\n",
    "x_train = np.reshape(x_train, [-1, original_dim])\n",
    "x_test = np.reshape(x_test, [-1, original_dim])\n",
    "x_train = x_train.astype('float32')\n",
    "x_test = x_test.astype('float32')\n",
    "y_train = np.reshape(y_train, [-1, 1])\n",
    "y_test = np.reshape(y_test, [-1, 1])\n",
    "y_train = y_train.astype('float32')\n",
    "y_test = y_test.astype('float32')"
   ]
  },
  {
   "cell_type": "markdown",
   "id": "936fb726",
   "metadata": {},
   "source": [
    "### Train cGAN"
   ]
  },
  {
   "cell_type": "code",
   "execution_count": 11,
   "id": "de4b045f",
   "metadata": {},
   "outputs": [],
   "source": [
    "def adam_optimizer():\n",
    "    return Adam(lr=0.0002, beta_1=0.5)"
   ]
  },
  {
   "cell_type": "code",
   "execution_count": 12,
   "id": "db45eadf",
   "metadata": {},
   "outputs": [
    {
     "name": "stdout",
     "output_type": "stream",
     "text": [
      "WARNING:tensorflow:From /global/homes/a/agarabag/.conda/envs/ml/lib/python3.7/site-packages/tensorflow_core/python/ops/resource_variable_ops.py:1630: calling BaseResourceVariable.__init__ (from tensorflow.python.ops.resource_variable_ops) with constraint is deprecated and will be removed in a future version.\n",
      "Instructions for updating:\n",
      "If using Keras pass *_constraint arguments to layers.\n",
      "Model: \"sequential\"\n",
      "_________________________________________________________________\n",
      "Layer (type)                 Output Shape              Param #   \n",
      "=================================================================\n",
      "Gen_Dense1 (Dense)           (None, 512)               4096      \n",
      "_________________________________________________________________\n",
      "Gen_LR1 (LeakyReLU)          (None, 512)               0         \n",
      "_________________________________________________________________\n",
      "batch_normalization (BatchNo (None, 512)               2048      \n",
      "_________________________________________________________________\n",
      "Gen_Dense2 (Dense)           (None, 256)               131328    \n",
      "_________________________________________________________________\n",
      "Gen_LR2 (LeakyReLU)          (None, 256)               0         \n",
      "_________________________________________________________________\n",
      "batch_normalization_1 (Batch (None, 256)               1024      \n",
      "_________________________________________________________________\n",
      "Gen_Dense3 (Dense)           (None, 128)               32896     \n",
      "_________________________________________________________________\n",
      "Gen_LR3 (LeakyReLU)          (None, 128)               0         \n",
      "_________________________________________________________________\n",
      "batch_normalization_2 (Batch (None, 128)               512       \n",
      "_________________________________________________________________\n",
      "Gen_Dense4 (Dense)           (None, 56)                7224      \n",
      "_________________________________________________________________\n",
      "Gen_LR4 (LeakyReLU)          (None, 56)                0         \n",
      "_________________________________________________________________\n",
      "batch_normalization_3 (Batch (None, 56)                224       \n",
      "_________________________________________________________________\n",
      "Gen_LR5 (Dense)              (None, 6)                 342       \n",
      "=================================================================\n",
      "Total params: 179,694\n",
      "Trainable params: 177,790\n",
      "Non-trainable params: 1,904\n",
      "_________________________________________________________________\n"
     ]
    }
   ],
   "source": [
    "# CGAN3\n",
    "def create_conditional_generator():\n",
    "\n",
    "    generator = Sequential()\n",
    "    # explicit input dimensions\n",
    "    generator.add(Dense(units=512,input_dim=nFeat+1,name=\"Gen_Dense1\"))# one more variable!\n",
    "    generator.add(LeakyReLU(0.2,name=\"Gen_LR1\"))\n",
    "    generator.add(BatchNormalization(momentum=0.8)) #new\n",
    "    \n",
    "    generator.add(Dense(units=256,name=\"Gen_Dense2\"))\n",
    "    generator.add(LeakyReLU(0.2,name=\"Gen_LR2\"))\n",
    "    generator.add(BatchNormalization(momentum=0.8)) #new\n",
    "\n",
    "    generator.add(Dense(units=128,name=\"Gen_Dense3\"))\n",
    "    generator.add(LeakyReLU(0.2,name=\"Gen_LR3\"))\n",
    "    generator.add(BatchNormalization(momentum=0.8)) #new\n",
    "    \n",
    "    generator.add(Dense(units=56,name=\"Gen_Dense4\"))\n",
    "    generator.add(LeakyReLU(0.2,name=\"Gen_LR4\"))\n",
    "    generator.add(BatchNormalization(momentum=0.8)) #new\n",
    "    \n",
    "    generator.add(Dense(units=nFeat,name=\"Gen_LR5\"))#, activation='tanh'))\n",
    "    \n",
    "    #y = Input(shape=(1,))\n",
    "    \n",
    "    generator.compile(loss='binary_crossentropy', optimizer=adam_optimizer())\n",
    "    return generator\n",
    "cg=create_conditional_generator()\n",
    "cg.summary()"
   ]
  },
  {
   "cell_type": "code",
   "execution_count": 13,
   "id": "4ac1474c",
   "metadata": {},
   "outputs": [
    {
     "name": "stdout",
     "output_type": "stream",
     "text": [
      "WARNING:tensorflow:From /global/homes/a/agarabag/.conda/envs/ml/lib/python3.7/site-packages/tensorflow_core/python/ops/nn_impl.py:183: where (from tensorflow.python.ops.array_ops) is deprecated and will be removed in a future version.\n",
      "Instructions for updating:\n",
      "Use tf.where in 2.0, which has the same broadcast rule as np.where\n",
      "Model: \"sequential_1\"\n",
      "_________________________________________________________________\n",
      "Layer (type)                 Output Shape              Param #   \n",
      "=================================================================\n",
      "Disc_Dense1 (Dense)          (None, 1024)              8192      \n",
      "_________________________________________________________________\n",
      "Disc_LR1 (LeakyReLU)         (None, 1024)              0         \n",
      "_________________________________________________________________\n",
      "Disc_Drop1 (Dropout)         (None, 1024)              0         \n",
      "_________________________________________________________________\n",
      "Disc_Dense2 (Dense)          (None, 512)               524800    \n",
      "_________________________________________________________________\n",
      "Disc_LR2 (LeakyReLU)         (None, 512)               0         \n",
      "_________________________________________________________________\n",
      "Disc_Drop2 (Dropout)         (None, 512)               0         \n",
      "_________________________________________________________________\n",
      "Disc_Dense3 (Dense)          (None, 256)               131328    \n",
      "_________________________________________________________________\n",
      "Disc_LR3 (LeakyReLU)         (None, 256)               0         \n",
      "_________________________________________________________________\n",
      "Disc_Drop3 (Dropout)         (None, 256)               0         \n",
      "_________________________________________________________________\n",
      "Disc_Dense4 (Dense)          (None, 128)               32896     \n",
      "_________________________________________________________________\n",
      "Disc_LR4 (LeakyReLU)         (None, 128)               0         \n",
      "_________________________________________________________________\n",
      "Disc_Drop4 (Dropout)         (None, 128)               0         \n",
      "_________________________________________________________________\n",
      "Disc_SigmoidOut (Dense)      (None, 1)                 129       \n",
      "=================================================================\n",
      "Total params: 697,345\n",
      "Trainable params: 697,345\n",
      "Non-trainable params: 0\n",
      "_________________________________________________________________\n"
     ]
    }
   ],
   "source": [
    "def create_conditional_discriminator():\n",
    "    discriminator=Sequential()\n",
    "    discriminator.add(Dense(units=1024,input_dim=nFeat+1,name=\"Disc_Dense1\")) #new; was 1024\n",
    "    discriminator.add(LeakyReLU(0.2,name=\"Disc_LR1\"))\n",
    "    discriminator.add(Dropout(0.1,name=\"Disc_Drop1\")) # new: removed\n",
    "       \n",
    "    discriminator.add(Dense(units=512,name=\"Disc_Dense2\")) #new; was 512\n",
    "    discriminator.add(LeakyReLU(0.2,name=\"Disc_LR2\"))\n",
    "    discriminator.add(Dropout(0.1,name=\"Disc_Drop2\")) #new: removed\n",
    "       \n",
    "    discriminator.add(Dense(units=256,name=\"Disc_Dense3\")) #new: removed, was 256\n",
    "    discriminator.add(LeakyReLU(0.2,name=\"Disc_LR3\")) #new: removed\n",
    "    discriminator.add(Dropout(0.1,name=\"Disc_Drop3\")) #new\n",
    "    \n",
    "    discriminator.add(Dense(units=128,name=\"Disc_Dense4\")) #new: removed, was 256\n",
    "    discriminator.add(LeakyReLU(0.2,name=\"Disc_LR4\")) #new: removed\n",
    "    discriminator.add(Dropout(0.1,name=\"Disc_Drop4\")) #new\n",
    "    \n",
    "    discriminator.add(Dense(units=1, activation='sigmoid',name=\"Disc_SigmoidOut\"))\n",
    "    \n",
    "    discriminator.compile(loss='binary_crossentropy', optimizer=adam_optimizer())\n",
    "    return discriminator\n",
    "cd = create_conditional_discriminator()\n",
    "cd.summary()"
   ]
  },
  {
   "cell_type": "code",
   "execution_count": 14,
   "id": "720224fe",
   "metadata": {},
   "outputs": [
    {
     "name": "stdout",
     "output_type": "stream",
     "text": [
      "Model: \"GAN\"\n",
      "__________________________________________________________________________________________________\n",
      "Layer (type)                    Output Shape         Param #     Connected to                     \n",
      "==================================================================================================\n",
      "GAN_NoiseInput (InputLayer)     [(None, 6)]          0                                            \n",
      "__________________________________________________________________________________________________\n",
      "GAN_condY (InputLayer)          [(None, 1)]          0                                            \n",
      "__________________________________________________________________________________________________\n",
      "concatenate (Concatenate)       (None, 7)            0           GAN_NoiseInput[0][0]             \n",
      "                                                                 GAN_condY[0][0]                  \n",
      "__________________________________________________________________________________________________\n",
      "sequential (Sequential)         (None, 6)            179694      concatenate[0][0]                \n",
      "__________________________________________________________________________________________________\n",
      "concatenate_1 (Concatenate)     (None, 7)            0           sequential[1][0]                 \n",
      "                                                                 GAN_condY[0][0]                  \n",
      "__________________________________________________________________________________________________\n",
      "sequential_1 (Sequential)       (None, 1)            697345      concatenate_1[0][0]              \n",
      "==================================================================================================\n",
      "Total params: 877,039\n",
      "Trainable params: 177,790\n",
      "Non-trainable params: 699,249\n",
      "__________________________________________________________________________________________________\n"
     ]
    }
   ],
   "source": [
    "def create_conditional_gan(discriminator, generator):\n",
    "    discriminator.trainable=False    \n",
    "    # now this\n",
    "    gan_input = Input(shape=(nFeat,),name=\"GAN_NoiseInput\")\n",
    "    y = Input(shape=(1,),name=\"GAN_condY\")\n",
    "    x = generator(Concatenate(axis=-1)([gan_input,y]))\n",
    "    gan_output = discriminator(Concatenate(axis=-1)([x,y]))\n",
    "    gan = Model(inputs=[y,gan_input], outputs=gan_output,name=\"GAN\")\n",
    "    gan.compile(loss='binary_crossentropy', optimizer=adam_optimizer())#optimizer='adam') #new\n",
    "    return gan\n",
    "cgan = create_conditional_gan(cd,cg)\n",
    "cgan.summary()"
   ]
  },
  {
   "cell_type": "code",
   "execution_count": 15,
   "id": "47895119",
   "metadata": {},
   "outputs": [],
   "source": [
    "from tensorflow.keras.models import save_model\n",
    "\n",
    "def conditional_training(X, y, epochs=1, batch_size=128):\n",
    "    #Loading the data\n",
    "    #(X_train, y_train, X_test, y_test) = load_data()\n",
    "    # X_train, X_test, y_train, y_test = train_test_split(X, y, test_size=0.3, random_state=42)\n",
    "    X_train = X\n",
    "    y_train = y\n",
    "        \n",
    "    batch_count = int(X_train.shape[0] / batch_size)\n",
    "\n",
    "    # Standardizing???\n",
    "    #from sklearn import preprocessing\n",
    "    #X_train = preprocessing.scale(X_train)\n",
    "    #X_test = preprocessing.scale(X_test)\n",
    "\n",
    "    # Creating GAN\n",
    "    generator= create_conditional_generator()\n",
    "    discriminator= create_conditional_discriminator()\n",
    "    gan = create_conditional_gan(discriminator, generator)\n",
    "    \n",
    "    d_hist_r, d_hist_f, g_hist  = list(), list(), list()\n",
    "    half_batch = int(batch_size / 2)\n",
    "    \n",
    "    for e in range(epochs):\n",
    "        print(\"Epoch %d\" %e)\n",
    "        for _ in tqdm(range(batch_count)):\n",
    "            # --------------------\n",
    "            # Train discriminator\n",
    "            # --------------------\n",
    "\n",
    "            idx = np.random.randint(0, X_train.shape[0], half_batch)\n",
    "            y_real = y_train[idx]\n",
    "            x_real = np.hstack([X_train[idx],y_train[idx].reshape(half_batch,1)])\n",
    "        \n",
    "            noise = np.random.normal(0, 1, (half_batch, nFeat))\n",
    "            #noise = np.random.uniform(0, 1, (half_batch, nFeat))\n",
    "            cond_noise = np.hstack([noise,y_real.reshape(half_batch,1)])\n",
    "            x_fake = generator.predict(cond_noise)\n",
    "            x_fake = np.hstack([x_fake,y_real.reshape(half_batch,1)])\n",
    "        \n",
    "            discriminator.trainable=True #added\n",
    "            d_loss_real = discriminator.train_on_batch(x_real, 0.9*np.ones((half_batch, 1)))\n",
    "            d_loss_fake = discriminator.train_on_batch(x_fake, np.zeros((half_batch, 1)))\n",
    "            d_loss = 0.5 * np.add(d_loss_real, d_loss_fake)\n",
    "\n",
    "            # --------------------\n",
    "            # Train generator\n",
    "            # --------------------\n",
    "            discriminator.trainable=False #added\n",
    "            noise = np.random.normal(0, 1, (batch_size, nFeat)) #label the generated samples as 1\n",
    "            #noise = np.random.uniform(0, 1, (batch_size, nFeat)) #label the generated samples as 1\n",
    "            new_idx = np.random.randint(0, y_train.shape[0], batch_size)\n",
    "            g_loss = gan.train_on_batch([y_train[new_idx],noise], np.ones((batch_size,1)))\n",
    "\n",
    "            # --------------------\n",
    "            # Save losses\n",
    "            # --------------------\n",
    "            d_hist_r.append(d_loss_real) \n",
    "            d_hist_f.append(d_loss_fake) \n",
    "            g_hist.append(g_loss)\n",
    "\n",
    "        if e == 0 or e % 50 == 0:\n",
    "            list_of_cgen_models.append(generator)\n",
    "            \n",
    "            discriminator.trainable = False\n",
    "            save_model(gan, \"gan_models/gan_%d.h5\"%e)\n",
    "            discriminator.trainable = True\n",
    "            save_model(generator, \"gan_models/gen_%d.h5\"%e)\n",
    "            save_model(discriminator, \"gan_models/disc%d.h5\"%e)\n",
    "    \n",
    "            # generator.save(\"tmp_%d.h5\"%e) \n",
    "    return d_hist_r, d_hist_f, g_hist"
   ]
  },
  {
   "cell_type": "code",
   "execution_count": 16,
   "id": "1eb89bca-f27c-41b4-bf38-9d61a8e6c8b6",
   "metadata": {},
   "outputs": [
    {
     "name": "stdout",
     "output_type": "stream",
     "text": [
      "No GPU found\n"
     ]
    },
    {
     "name": "stderr",
     "output_type": "stream",
     "text": [
      "2023-03-23 10:50:07.392693: I tensorflow/core/platform/cpu_feature_guard.cc:142] Your CPU supports instructions that this TensorFlow binary was not compiled to use: SSE4.1 SSE4.2 AVX AVX2 FMA\n",
      "2023-03-23 10:50:07.434124: I tensorflow/core/platform/profile_utils/cpu_utils.cc:94] CPU Frequency: 1996255000 Hz\n",
      "2023-03-23 10:50:07.446653: I tensorflow/compiler/xla/service/service.cc:168] XLA service 0x55d77650f330 initialized for platform Host (this does not guarantee that XLA will be used). Devices:\n",
      "2023-03-23 10:50:07.446676: I tensorflow/compiler/xla/service/service.cc:176]   StreamExecutor device (0): Host, Default Version\n",
      "2023-03-23 10:50:07.447893: I tensorflow/stream_executor/platform/default/dso_loader.cc:44] Successfully opened dynamic library libcuda.so.1\n",
      "2023-03-23 10:50:07.488294: E tensorflow/stream_executor/cuda/cuda_driver.cc:318] failed call to cuInit: CUDA_ERROR_NO_DEVICE: no CUDA-capable device is detected\n",
      "2023-03-23 10:50:07.488319: I tensorflow/stream_executor/cuda/cuda_diagnostics.cc:169] retrieving CUDA diagnostic information for host: login05\n",
      "2023-03-23 10:50:07.488324: I tensorflow/stream_executor/cuda/cuda_diagnostics.cc:176] hostname: login05\n",
      "2023-03-23 10:50:07.488412: I tensorflow/stream_executor/cuda/cuda_diagnostics.cc:200] libcuda reported version is: 515.65.1\n",
      "2023-03-23 10:50:07.488430: I tensorflow/stream_executor/cuda/cuda_diagnostics.cc:204] kernel reported version is: Not found: could not find kernel module information in driver version file contents: \"NVRM version: NVIDIA UNIX Open Kernel Module for x86_64  515.65.01  Release Build  (dvs-builder@U16-T11-05-2)  Wed Jul 20 13:54:56 UTC 2022\n",
      "GCC version:  gcc version 7.5.0 (SUSE Linux) \n",
      "\"\n"
     ]
    }
   ],
   "source": [
    "import os\n",
    "\n",
    "os.environ['CUDA_VISIBLE_DEVICES'] = '-1'\n",
    "\n",
    "if tf.test.gpu_device_name():\n",
    "    print('GPU found')\n",
    "else:\n",
    "    print(\"No GPU found\")"
   ]
  },
  {
   "cell_type": "code",
   "execution_count": null,
   "id": "33f5e3ae",
   "metadata": {},
   "outputs": [
    {
     "name": "stdout",
     "output_type": "stream",
     "text": [
      "Epoch 0\n"
     ]
    },
    {
     "name": "stderr",
     "output_type": "stream",
     "text": [
      "  0%|          | 0/1952 [00:00<?, ?it/s]"
     ]
    },
    {
     "name": "stdout",
     "output_type": "stream",
     "text": [
      "WARNING:tensorflow:OMP_NUM_THREADS is no longer used by the default Keras config. To configure the number of threads, use tf.config.threading APIs.\n"
     ]
    },
    {
     "name": "stderr",
     "output_type": "stream",
     "text": [
      "100%|██████████| 1952/1952 [01:19<00:00, 24.42it/s]\n"
     ]
    },
    {
     "name": "stdout",
     "output_type": "stream",
     "text": [
      "Epoch 1\n"
     ]
    },
    {
     "name": "stderr",
     "output_type": "stream",
     "text": [
      "100%|██████████| 1952/1952 [01:17<00:00, 25.25it/s]\n"
     ]
    },
    {
     "name": "stdout",
     "output_type": "stream",
     "text": [
      "Epoch 2\n"
     ]
    },
    {
     "name": "stderr",
     "output_type": "stream",
     "text": [
      "100%|██████████| 1952/1952 [01:17<00:00, 25.25it/s]\n"
     ]
    },
    {
     "name": "stdout",
     "output_type": "stream",
     "text": [
      "Epoch 3\n"
     ]
    },
    {
     "name": "stderr",
     "output_type": "stream",
     "text": [
      "100%|██████████| 1952/1952 [01:16<00:00, 25.49it/s]\n"
     ]
    },
    {
     "name": "stdout",
     "output_type": "stream",
     "text": [
      "Epoch 4\n"
     ]
    },
    {
     "name": "stderr",
     "output_type": "stream",
     "text": [
      "100%|██████████| 1952/1952 [01:17<00:00, 25.31it/s]\n"
     ]
    },
    {
     "name": "stdout",
     "output_type": "stream",
     "text": [
      "Epoch 5\n"
     ]
    },
    {
     "name": "stderr",
     "output_type": "stream",
     "text": [
      "100%|██████████| 1952/1952 [01:16<00:00, 25.39it/s]\n"
     ]
    },
    {
     "name": "stdout",
     "output_type": "stream",
     "text": [
      "Epoch 6\n"
     ]
    },
    {
     "name": "stderr",
     "output_type": "stream",
     "text": [
      "100%|██████████| 1952/1952 [01:17<00:00, 25.27it/s]\n"
     ]
    },
    {
     "name": "stdout",
     "output_type": "stream",
     "text": [
      "Epoch 7\n"
     ]
    },
    {
     "name": "stderr",
     "output_type": "stream",
     "text": [
      "100%|██████████| 1952/1952 [01:17<00:00, 25.33it/s]\n"
     ]
    },
    {
     "name": "stdout",
     "output_type": "stream",
     "text": [
      "Epoch 8\n"
     ]
    },
    {
     "name": "stderr",
     "output_type": "stream",
     "text": [
      "100%|██████████| 1952/1952 [01:17<00:00, 25.20it/s]\n"
     ]
    },
    {
     "name": "stdout",
     "output_type": "stream",
     "text": [
      "Epoch 9\n"
     ]
    },
    {
     "name": "stderr",
     "output_type": "stream",
     "text": [
      "100%|██████████| 1952/1952 [01:16<00:00, 25.38it/s]\n"
     ]
    },
    {
     "name": "stdout",
     "output_type": "stream",
     "text": [
      "Epoch 10\n"
     ]
    },
    {
     "name": "stderr",
     "output_type": "stream",
     "text": [
      "100%|██████████| 1952/1952 [01:17<00:00, 25.32it/s]\n"
     ]
    },
    {
     "name": "stdout",
     "output_type": "stream",
     "text": [
      "Epoch 11\n"
     ]
    },
    {
     "name": "stderr",
     "output_type": "stream",
     "text": [
      "100%|██████████| 1952/1952 [01:17<00:00, 25.30it/s]\n"
     ]
    },
    {
     "name": "stdout",
     "output_type": "stream",
     "text": [
      "Epoch 12\n"
     ]
    },
    {
     "name": "stderr",
     "output_type": "stream",
     "text": [
      "100%|██████████| 1952/1952 [01:17<00:00, 25.35it/s]\n"
     ]
    },
    {
     "name": "stdout",
     "output_type": "stream",
     "text": [
      "Epoch 13\n"
     ]
    },
    {
     "name": "stderr",
     "output_type": "stream",
     "text": [
      "100%|██████████| 1952/1952 [01:16<00:00, 25.40it/s]\n"
     ]
    },
    {
     "name": "stdout",
     "output_type": "stream",
     "text": [
      "Epoch 14\n"
     ]
    },
    {
     "name": "stderr",
     "output_type": "stream",
     "text": [
      "100%|██████████| 1952/1952 [01:16<00:00, 25.47it/s]\n"
     ]
    },
    {
     "name": "stdout",
     "output_type": "stream",
     "text": [
      "Epoch 15\n"
     ]
    },
    {
     "name": "stderr",
     "output_type": "stream",
     "text": [
      "100%|██████████| 1952/1952 [01:16<00:00, 25.52it/s]\n"
     ]
    },
    {
     "name": "stdout",
     "output_type": "stream",
     "text": [
      "Epoch 16\n"
     ]
    },
    {
     "name": "stderr",
     "output_type": "stream",
     "text": [
      "100%|██████████| 1952/1952 [01:16<00:00, 25.49it/s]\n"
     ]
    },
    {
     "name": "stdout",
     "output_type": "stream",
     "text": [
      "Epoch 17\n"
     ]
    },
    {
     "name": "stderr",
     "output_type": "stream",
     "text": [
      "100%|██████████| 1952/1952 [01:16<00:00, 25.44it/s]\n"
     ]
    },
    {
     "name": "stdout",
     "output_type": "stream",
     "text": [
      "Epoch 18\n"
     ]
    },
    {
     "name": "stderr",
     "output_type": "stream",
     "text": [
      "100%|██████████| 1952/1952 [01:16<00:00, 25.43it/s]\n"
     ]
    },
    {
     "name": "stdout",
     "output_type": "stream",
     "text": [
      "Epoch 19\n"
     ]
    },
    {
     "name": "stderr",
     "output_type": "stream",
     "text": [
      "100%|██████████| 1952/1952 [01:16<00:00, 25.38it/s]\n"
     ]
    },
    {
     "name": "stdout",
     "output_type": "stream",
     "text": [
      "Epoch 20\n"
     ]
    },
    {
     "name": "stderr",
     "output_type": "stream",
     "text": [
      "100%|██████████| 1952/1952 [01:16<00:00, 25.54it/s]\n"
     ]
    },
    {
     "name": "stdout",
     "output_type": "stream",
     "text": [
      "Epoch 21\n"
     ]
    },
    {
     "name": "stderr",
     "output_type": "stream",
     "text": [
      "100%|██████████| 1952/1952 [01:16<00:00, 25.56it/s]\n"
     ]
    },
    {
     "name": "stdout",
     "output_type": "stream",
     "text": [
      "Epoch 22\n"
     ]
    },
    {
     "name": "stderr",
     "output_type": "stream",
     "text": [
      "100%|██████████| 1952/1952 [01:16<00:00, 25.45it/s]\n"
     ]
    },
    {
     "name": "stdout",
     "output_type": "stream",
     "text": [
      "Epoch 23\n"
     ]
    },
    {
     "name": "stderr",
     "output_type": "stream",
     "text": [
      "100%|██████████| 1952/1952 [01:17<00:00, 25.35it/s]\n"
     ]
    },
    {
     "name": "stdout",
     "output_type": "stream",
     "text": [
      "Epoch 24\n"
     ]
    },
    {
     "name": "stderr",
     "output_type": "stream",
     "text": [
      "100%|██████████| 1952/1952 [01:17<00:00, 25.29it/s]\n"
     ]
    },
    {
     "name": "stdout",
     "output_type": "stream",
     "text": [
      "Epoch 25\n"
     ]
    },
    {
     "name": "stderr",
     "output_type": "stream",
     "text": [
      "100%|██████████| 1952/1952 [01:15<00:00, 25.78it/s]\n"
     ]
    },
    {
     "name": "stdout",
     "output_type": "stream",
     "text": [
      "Epoch 26\n"
     ]
    },
    {
     "name": "stderr",
     "output_type": "stream",
     "text": [
      "100%|██████████| 1952/1952 [01:16<00:00, 25.52it/s]\n"
     ]
    },
    {
     "name": "stdout",
     "output_type": "stream",
     "text": [
      "Epoch 27\n"
     ]
    },
    {
     "name": "stderr",
     "output_type": "stream",
     "text": [
      "100%|██████████| 1952/1952 [01:16<00:00, 25.37it/s]\n"
     ]
    },
    {
     "name": "stdout",
     "output_type": "stream",
     "text": [
      "Epoch 28\n"
     ]
    },
    {
     "name": "stderr",
     "output_type": "stream",
     "text": [
      "100%|██████████| 1952/1952 [01:17<00:00, 25.21it/s]\n"
     ]
    },
    {
     "name": "stdout",
     "output_type": "stream",
     "text": [
      "Epoch 29\n"
     ]
    },
    {
     "name": "stderr",
     "output_type": "stream",
     "text": [
      "100%|██████████| 1952/1952 [01:16<00:00, 25.58it/s]\n"
     ]
    },
    {
     "name": "stdout",
     "output_type": "stream",
     "text": [
      "Epoch 30\n"
     ]
    },
    {
     "name": "stderr",
     "output_type": "stream",
     "text": [
      "100%|██████████| 1952/1952 [01:16<00:00, 25.50it/s]\n"
     ]
    },
    {
     "name": "stdout",
     "output_type": "stream",
     "text": [
      "Epoch 31\n"
     ]
    },
    {
     "name": "stderr",
     "output_type": "stream",
     "text": [
      "100%|██████████| 1952/1952 [01:16<00:00, 25.52it/s]\n"
     ]
    },
    {
     "name": "stdout",
     "output_type": "stream",
     "text": [
      "Epoch 32\n"
     ]
    },
    {
     "name": "stderr",
     "output_type": "stream",
     "text": [
      "100%|██████████| 1952/1952 [01:16<00:00, 25.52it/s]\n"
     ]
    },
    {
     "name": "stdout",
     "output_type": "stream",
     "text": [
      "Epoch 33\n"
     ]
    },
    {
     "name": "stderr",
     "output_type": "stream",
     "text": [
      "100%|██████████| 1952/1952 [01:16<00:00, 25.46it/s]\n"
     ]
    },
    {
     "name": "stdout",
     "output_type": "stream",
     "text": [
      "Epoch 34\n"
     ]
    },
    {
     "name": "stderr",
     "output_type": "stream",
     "text": [
      "100%|██████████| 1952/1952 [01:17<00:00, 25.26it/s]\n"
     ]
    },
    {
     "name": "stdout",
     "output_type": "stream",
     "text": [
      "Epoch 35\n"
     ]
    },
    {
     "name": "stderr",
     "output_type": "stream",
     "text": [
      "100%|██████████| 1952/1952 [01:16<00:00, 25.47it/s]\n"
     ]
    },
    {
     "name": "stdout",
     "output_type": "stream",
     "text": [
      "Epoch 36\n"
     ]
    },
    {
     "name": "stderr",
     "output_type": "stream",
     "text": [
      "100%|██████████| 1952/1952 [01:16<00:00, 25.39it/s]\n"
     ]
    },
    {
     "name": "stdout",
     "output_type": "stream",
     "text": [
      "Epoch 37\n"
     ]
    },
    {
     "name": "stderr",
     "output_type": "stream",
     "text": [
      "100%|██████████| 1952/1952 [01:17<00:00, 25.29it/s]\n"
     ]
    },
    {
     "name": "stdout",
     "output_type": "stream",
     "text": [
      "Epoch 38\n"
     ]
    },
    {
     "name": "stderr",
     "output_type": "stream",
     "text": [
      "100%|██████████| 1952/1952 [01:16<00:00, 25.40it/s]\n"
     ]
    },
    {
     "name": "stdout",
     "output_type": "stream",
     "text": [
      "Epoch 39\n"
     ]
    },
    {
     "name": "stderr",
     "output_type": "stream",
     "text": [
      "100%|██████████| 1952/1952 [01:18<00:00, 24.81it/s]\n"
     ]
    },
    {
     "name": "stdout",
     "output_type": "stream",
     "text": [
      "Epoch 40\n"
     ]
    },
    {
     "name": "stderr",
     "output_type": "stream",
     "text": [
      "100%|██████████| 1952/1952 [01:18<00:00, 24.92it/s]\n"
     ]
    },
    {
     "name": "stdout",
     "output_type": "stream",
     "text": [
      "Epoch 41\n"
     ]
    },
    {
     "name": "stderr",
     "output_type": "stream",
     "text": [
      "100%|██████████| 1952/1952 [01:18<00:00, 24.99it/s]\n"
     ]
    },
    {
     "name": "stdout",
     "output_type": "stream",
     "text": [
      "Epoch 42\n"
     ]
    },
    {
     "name": "stderr",
     "output_type": "stream",
     "text": [
      "100%|██████████| 1952/1952 [01:18<00:00, 25.02it/s]\n"
     ]
    },
    {
     "name": "stdout",
     "output_type": "stream",
     "text": [
      "Epoch 43\n"
     ]
    },
    {
     "name": "stderr",
     "output_type": "stream",
     "text": [
      "100%|██████████| 1952/1952 [01:18<00:00, 24.95it/s]\n"
     ]
    },
    {
     "name": "stdout",
     "output_type": "stream",
     "text": [
      "Epoch 44\n"
     ]
    },
    {
     "name": "stderr",
     "output_type": "stream",
     "text": [
      "100%|██████████| 1952/1952 [01:18<00:00, 24.95it/s]\n"
     ]
    },
    {
     "name": "stdout",
     "output_type": "stream",
     "text": [
      "Epoch 45\n"
     ]
    },
    {
     "name": "stderr",
     "output_type": "stream",
     "text": [
      "100%|██████████| 1952/1952 [01:18<00:00, 24.93it/s]\n"
     ]
    },
    {
     "name": "stdout",
     "output_type": "stream",
     "text": [
      "Epoch 46\n"
     ]
    },
    {
     "name": "stderr",
     "output_type": "stream",
     "text": [
      "100%|██████████| 1952/1952 [01:18<00:00, 25.01it/s]\n"
     ]
    },
    {
     "name": "stdout",
     "output_type": "stream",
     "text": [
      "Epoch 47\n"
     ]
    },
    {
     "name": "stderr",
     "output_type": "stream",
     "text": [
      "100%|██████████| 1952/1952 [01:18<00:00, 24.98it/s]\n"
     ]
    },
    {
     "name": "stdout",
     "output_type": "stream",
     "text": [
      "Epoch 48\n"
     ]
    },
    {
     "name": "stderr",
     "output_type": "stream",
     "text": [
      "100%|██████████| 1952/1952 [01:17<00:00, 25.12it/s]\n"
     ]
    },
    {
     "name": "stdout",
     "output_type": "stream",
     "text": [
      "Epoch 49\n"
     ]
    },
    {
     "name": "stderr",
     "output_type": "stream",
     "text": [
      "100%|██████████| 1952/1952 [01:18<00:00, 24.99it/s]\n"
     ]
    },
    {
     "name": "stdout",
     "output_type": "stream",
     "text": [
      "Epoch 50\n"
     ]
    },
    {
     "name": "stderr",
     "output_type": "stream",
     "text": [
      "100%|██████████| 1952/1952 [01:17<00:00, 25.14it/s]\n"
     ]
    },
    {
     "name": "stdout",
     "output_type": "stream",
     "text": [
      "Epoch 51\n"
     ]
    },
    {
     "name": "stderr",
     "output_type": "stream",
     "text": [
      "100%|██████████| 1952/1952 [01:17<00:00, 25.05it/s]\n"
     ]
    },
    {
     "name": "stdout",
     "output_type": "stream",
     "text": [
      "Epoch 52\n"
     ]
    },
    {
     "name": "stderr",
     "output_type": "stream",
     "text": [
      "100%|██████████| 1952/1952 [01:18<00:00, 24.99it/s]\n"
     ]
    },
    {
     "name": "stdout",
     "output_type": "stream",
     "text": [
      "Epoch 53\n"
     ]
    },
    {
     "name": "stderr",
     "output_type": "stream",
     "text": [
      "100%|██████████| 1952/1952 [01:17<00:00, 25.12it/s]\n"
     ]
    },
    {
     "name": "stdout",
     "output_type": "stream",
     "text": [
      "Epoch 54\n"
     ]
    },
    {
     "name": "stderr",
     "output_type": "stream",
     "text": [
      "100%|██████████| 1952/1952 [01:18<00:00, 24.79it/s]\n"
     ]
    },
    {
     "name": "stdout",
     "output_type": "stream",
     "text": [
      "Epoch 55\n"
     ]
    },
    {
     "name": "stderr",
     "output_type": "stream",
     "text": [
      "100%|██████████| 1952/1952 [01:19<00:00, 24.47it/s]\n"
     ]
    },
    {
     "name": "stdout",
     "output_type": "stream",
     "text": [
      "Epoch 56\n"
     ]
    },
    {
     "name": "stderr",
     "output_type": "stream",
     "text": [
      "100%|██████████| 1952/1952 [01:19<00:00, 24.49it/s]\n"
     ]
    },
    {
     "name": "stdout",
     "output_type": "stream",
     "text": [
      "Epoch 57\n"
     ]
    },
    {
     "name": "stderr",
     "output_type": "stream",
     "text": [
      "100%|██████████| 1952/1952 [01:19<00:00, 24.55it/s]\n"
     ]
    },
    {
     "name": "stdout",
     "output_type": "stream",
     "text": [
      "Epoch 58\n"
     ]
    },
    {
     "name": "stderr",
     "output_type": "stream",
     "text": [
      "100%|██████████| 1952/1952 [01:19<00:00, 24.47it/s]\n"
     ]
    },
    {
     "name": "stdout",
     "output_type": "stream",
     "text": [
      "Epoch 59\n"
     ]
    },
    {
     "name": "stderr",
     "output_type": "stream",
     "text": [
      "100%|██████████| 1952/1952 [01:20<00:00, 24.32it/s]\n"
     ]
    },
    {
     "name": "stdout",
     "output_type": "stream",
     "text": [
      "Epoch 60\n"
     ]
    },
    {
     "name": "stderr",
     "output_type": "stream",
     "text": [
      "100%|██████████| 1952/1952 [01:19<00:00, 24.60it/s]\n"
     ]
    },
    {
     "name": "stdout",
     "output_type": "stream",
     "text": [
      "Epoch 61\n"
     ]
    },
    {
     "name": "stderr",
     "output_type": "stream",
     "text": [
      "100%|██████████| 1952/1952 [01:19<00:00, 24.57it/s]\n"
     ]
    },
    {
     "name": "stdout",
     "output_type": "stream",
     "text": [
      "Epoch 62\n"
     ]
    },
    {
     "name": "stderr",
     "output_type": "stream",
     "text": [
      "100%|██████████| 1952/1952 [01:18<00:00, 24.79it/s]\n"
     ]
    },
    {
     "name": "stdout",
     "output_type": "stream",
     "text": [
      "Epoch 63\n"
     ]
    },
    {
     "name": "stderr",
     "output_type": "stream",
     "text": [
      "100%|██████████| 1952/1952 [01:18<00:00, 24.96it/s]\n"
     ]
    },
    {
     "name": "stdout",
     "output_type": "stream",
     "text": [
      "Epoch 64\n"
     ]
    },
    {
     "name": "stderr",
     "output_type": "stream",
     "text": [
      "100%|██████████| 1952/1952 [01:18<00:00, 24.87it/s]\n"
     ]
    },
    {
     "name": "stdout",
     "output_type": "stream",
     "text": [
      "Epoch 65\n"
     ]
    },
    {
     "name": "stderr",
     "output_type": "stream",
     "text": [
      "100%|██████████| 1952/1952 [01:18<00:00, 24.97it/s]\n"
     ]
    },
    {
     "name": "stdout",
     "output_type": "stream",
     "text": [
      "Epoch 66\n"
     ]
    },
    {
     "name": "stderr",
     "output_type": "stream",
     "text": [
      "100%|██████████| 1952/1952 [01:18<00:00, 24.96it/s]\n"
     ]
    },
    {
     "name": "stdout",
     "output_type": "stream",
     "text": [
      "Epoch 67\n"
     ]
    },
    {
     "name": "stderr",
     "output_type": "stream",
     "text": [
      "100%|██████████| 1952/1952 [01:18<00:00, 24.94it/s]\n"
     ]
    },
    {
     "name": "stdout",
     "output_type": "stream",
     "text": [
      "Epoch 70\n"
     ]
    },
    {
     "name": "stderr",
     "output_type": "stream",
     "text": [
      "100%|██████████| 1952/1952 [01:17<00:00, 25.03it/s]\n"
     ]
    },
    {
     "name": "stdout",
     "output_type": "stream",
     "text": [
      "Epoch 71\n"
     ]
    },
    {
     "name": "stderr",
     "output_type": "stream",
     "text": [
      "100%|██████████| 1952/1952 [01:17<00:00, 25.06it/s]\n"
     ]
    },
    {
     "name": "stdout",
     "output_type": "stream",
     "text": [
      "Epoch 72\n"
     ]
    },
    {
     "name": "stderr",
     "output_type": "stream",
     "text": [
      "100%|██████████| 1952/1952 [01:17<00:00, 25.03it/s]\n"
     ]
    },
    {
     "name": "stdout",
     "output_type": "stream",
     "text": [
      "Epoch 73\n"
     ]
    },
    {
     "name": "stderr",
     "output_type": "stream",
     "text": [
      " 63%|██████▎   | 1233/1952 [00:49<00:28, 25.21it/s]IOPub message rate exceeded.\n",
      "The Jupyter server will temporarily stop sending output\n",
      "to the client in order to avoid crashing it.\n",
      "To change this limit, set the config variable\n",
      "`--ServerApp.iopub_msg_rate_limit`.\n",
      "\n",
      "Current values:\n",
      "ServerApp.iopub_msg_rate_limit=1000.0 (msgs/sec)\n",
      "ServerApp.rate_limit_window=3.0 (secs)\n",
      "\n",
      "100%|██████████| 1952/1952 [01:18<00:00, 24.98it/s]\n"
     ]
    },
    {
     "name": "stdout",
     "output_type": "stream",
     "text": [
      "Epoch 91\n"
     ]
    },
    {
     "name": "stderr",
     "output_type": "stream",
     "text": [
      "100%|██████████| 1952/1952 [01:18<00:00, 24.99it/s]\n"
     ]
    },
    {
     "name": "stdout",
     "output_type": "stream",
     "text": [
      "Epoch 92\n"
     ]
    },
    {
     "name": "stderr",
     "output_type": "stream",
     "text": [
      "100%|██████████| 1952/1952 [01:18<00:00, 24.86it/s]\n"
     ]
    },
    {
     "name": "stdout",
     "output_type": "stream",
     "text": [
      "Epoch 93\n"
     ]
    },
    {
     "name": "stderr",
     "output_type": "stream",
     "text": [
      "100%|██████████| 1952/1952 [01:18<00:00, 24.96it/s]\n"
     ]
    },
    {
     "name": "stdout",
     "output_type": "stream",
     "text": [
      "Epoch 94\n"
     ]
    },
    {
     "name": "stderr",
     "output_type": "stream",
     "text": [
      "100%|██████████| 1952/1952 [01:18<00:00, 24.96it/s]\n"
     ]
    },
    {
     "name": "stdout",
     "output_type": "stream",
     "text": [
      "Epoch 95\n"
     ]
    },
    {
     "name": "stderr",
     "output_type": "stream",
     "text": [
      " 10%|▉         | 195/1952 [00:07<01:10, 24.98it/s]IOPub message rate exceeded.\n",
      "The Jupyter server will temporarily stop sending output\n",
      "to the client in order to avoid crashing it.\n",
      "To change this limit, set the config variable\n",
      "`--ServerApp.iopub_msg_rate_limit`.\n",
      "\n",
      "Current values:\n",
      "ServerApp.iopub_msg_rate_limit=1000.0 (msgs/sec)\n",
      "ServerApp.rate_limit_window=3.0 (secs)\n",
      "\n",
      "100%|██████████| 1952/1952 [01:18<00:00, 24.98it/s]\n"
     ]
    },
    {
     "name": "stdout",
     "output_type": "stream",
     "text": [
      "Epoch 113\n"
     ]
    },
    {
     "name": "stderr",
     "output_type": "stream",
     "text": [
      "100%|██████████| 1952/1952 [01:17<00:00, 25.10it/s]\n"
     ]
    },
    {
     "name": "stdout",
     "output_type": "stream",
     "text": [
      "Epoch 114\n"
     ]
    },
    {
     "name": "stderr",
     "output_type": "stream",
     "text": [
      "100%|██████████| 1952/1952 [01:17<00:00, 25.09it/s]\n"
     ]
    },
    {
     "name": "stdout",
     "output_type": "stream",
     "text": [
      "Epoch 115\n"
     ]
    },
    {
     "name": "stderr",
     "output_type": "stream",
     "text": [
      "100%|██████████| 1952/1952 [01:17<00:00, 25.10it/s]\n"
     ]
    },
    {
     "name": "stdout",
     "output_type": "stream",
     "text": [
      "Epoch 116\n"
     ]
    },
    {
     "name": "stderr",
     "output_type": "stream",
     "text": [
      " 75%|███████▍  | 1458/1952 [00:58<00:19, 24.80it/s]IOPub message rate exceeded.\n",
      "The Jupyter server will temporarily stop sending output\n",
      "to the client in order to avoid crashing it.\n",
      "To change this limit, set the config variable\n",
      "`--ServerApp.iopub_msg_rate_limit`.\n",
      "\n",
      "Current values:\n",
      "ServerApp.iopub_msg_rate_limit=1000.0 (msgs/sec)\n",
      "ServerApp.rate_limit_window=3.0 (secs)\n",
      "\n",
      "100%|██████████| 1952/1952 [01:18<00:00, 24.95it/s]\n"
     ]
    },
    {
     "name": "stdout",
     "output_type": "stream",
     "text": [
      "Epoch 135\n"
     ]
    },
    {
     "name": "stderr",
     "output_type": "stream",
     "text": [
      "100%|██████████| 1952/1952 [01:18<00:00, 24.93it/s]\n"
     ]
    },
    {
     "name": "stdout",
     "output_type": "stream",
     "text": [
      "Epoch 136\n"
     ]
    },
    {
     "name": "stderr",
     "output_type": "stream",
     "text": [
      "100%|██████████| 1952/1952 [01:18<00:00, 24.73it/s]\n"
     ]
    },
    {
     "name": "stdout",
     "output_type": "stream",
     "text": [
      "Epoch 137\n"
     ]
    },
    {
     "name": "stderr",
     "output_type": "stream",
     "text": [
      "100%|██████████| 1952/1952 [01:17<00:00, 25.06it/s]\n"
     ]
    },
    {
     "name": "stdout",
     "output_type": "stream",
     "text": [
      "Epoch 138\n"
     ]
    },
    {
     "name": "stderr",
     "output_type": "stream",
     "text": [
      " 75%|███████▌  | 1464/1952 [00:58<00:19, 25.09it/s]IOPub message rate exceeded.\n",
      "The Jupyter server will temporarily stop sending output\n",
      "to the client in order to avoid crashing it.\n",
      "To change this limit, set the config variable\n",
      "`--ServerApp.iopub_msg_rate_limit`.\n",
      "\n",
      "Current values:\n",
      "ServerApp.iopub_msg_rate_limit=1000.0 (msgs/sec)\n",
      "ServerApp.rate_limit_window=3.0 (secs)\n",
      "\n",
      "100%|██████████| 1952/1952 [01:19<00:00, 24.47it/s]\n"
     ]
    },
    {
     "name": "stdout",
     "output_type": "stream",
     "text": [
      "Epoch 156\n"
     ]
    },
    {
     "name": "stderr",
     "output_type": "stream",
     "text": [
      "100%|██████████| 1952/1952 [01:19<00:00, 24.52it/s]\n"
     ]
    },
    {
     "name": "stdout",
     "output_type": "stream",
     "text": [
      "Epoch 157\n"
     ]
    },
    {
     "name": "stderr",
     "output_type": "stream",
     "text": [
      "100%|██████████| 1952/1952 [01:19<00:00, 24.62it/s]\n"
     ]
    },
    {
     "name": "stdout",
     "output_type": "stream",
     "text": [
      "Epoch 158\n"
     ]
    },
    {
     "name": "stderr",
     "output_type": "stream",
     "text": [
      "100%|██████████| 1952/1952 [01:18<00:00, 24.75it/s]\n"
     ]
    },
    {
     "name": "stdout",
     "output_type": "stream",
     "text": [
      "Epoch 159\n"
     ]
    },
    {
     "name": "stderr",
     "output_type": "stream",
     "text": [
      "100%|██████████| 1952/1952 [01:19<00:00, 24.53it/s]\n"
     ]
    },
    {
     "name": "stdout",
     "output_type": "stream",
     "text": [
      "Epoch 160\n"
     ]
    },
    {
     "name": "stderr",
     "output_type": "stream",
     "text": [
      " 42%|████▏     | 825/1952 [00:33<00:45, 24.52it/s]IOPub message rate exceeded.\n",
      "The Jupyter server will temporarily stop sending output\n",
      "to the client in order to avoid crashing it.\n",
      "To change this limit, set the config variable\n",
      "`--ServerApp.iopub_msg_rate_limit`.\n",
      "\n",
      "Current values:\n",
      "ServerApp.iopub_msg_rate_limit=1000.0 (msgs/sec)\n",
      "ServerApp.rate_limit_window=3.0 (secs)\n",
      "\n",
      "100%|██████████| 1952/1952 [01:18<00:00, 24.95it/s]\n"
     ]
    },
    {
     "name": "stdout",
     "output_type": "stream",
     "text": [
      "Epoch 174\n"
     ]
    },
    {
     "name": "stderr",
     "output_type": "stream",
     "text": [
      "100%|██████████| 1952/1952 [01:18<00:00, 24.84it/s]\n"
     ]
    },
    {
     "name": "stdout",
     "output_type": "stream",
     "text": [
      "Epoch 175\n"
     ]
    },
    {
     "name": "stderr",
     "output_type": "stream",
     "text": [
      "100%|██████████| 1952/1952 [01:19<00:00, 24.65it/s]\n"
     ]
    },
    {
     "name": "stdout",
     "output_type": "stream",
     "text": [
      "Epoch 176\n"
     ]
    },
    {
     "name": "stderr",
     "output_type": "stream",
     "text": [
      "100%|██████████| 1952/1952 [01:18<00:00, 24.82it/s]\n"
     ]
    },
    {
     "name": "stdout",
     "output_type": "stream",
     "text": [
      "Epoch 177\n"
     ]
    },
    {
     "name": "stderr",
     "output_type": "stream",
     "text": [
      "100%|██████████| 1952/1952 [01:18<00:00, 24.86it/s]\n"
     ]
    },
    {
     "name": "stdout",
     "output_type": "stream",
     "text": [
      "Epoch 178\n"
     ]
    },
    {
     "name": "stderr",
     "output_type": "stream",
     "text": [
      "100%|██████████| 1952/1952 [01:18<00:00, 24.84it/s]\n"
     ]
    },
    {
     "name": "stdout",
     "output_type": "stream",
     "text": [
      "Epoch 179\n"
     ]
    },
    {
     "name": "stderr",
     "output_type": "stream",
     "text": [
      "100%|██████████| 1952/1952 [01:18<00:00, 24.83it/s]\n"
     ]
    },
    {
     "name": "stdout",
     "output_type": "stream",
     "text": [
      "Epoch 180\n"
     ]
    },
    {
     "name": "stderr",
     "output_type": "stream",
     "text": [
      "100%|██████████| 1952/1952 [01:18<00:00, 24.94it/s]\n"
     ]
    },
    {
     "name": "stdout",
     "output_type": "stream",
     "text": [
      "Epoch 181\n"
     ]
    },
    {
     "name": "stderr",
     "output_type": "stream",
     "text": [
      "100%|██████████| 1952/1952 [01:18<00:00, 24.98it/s]\n"
     ]
    },
    {
     "name": "stdout",
     "output_type": "stream",
     "text": [
      "Epoch 182\n"
     ]
    },
    {
     "name": "stderr",
     "output_type": "stream",
     "text": [
      "100%|██████████| 1952/1952 [01:18<00:00, 25.02it/s]\n"
     ]
    },
    {
     "name": "stdout",
     "output_type": "stream",
     "text": [
      "Epoch 183\n"
     ]
    },
    {
     "name": "stderr",
     "output_type": "stream",
     "text": [
      "100%|██████████| 1952/1952 [01:17<00:00, 25.09it/s]\n"
     ]
    },
    {
     "name": "stdout",
     "output_type": "stream",
     "text": [
      "Epoch 184\n"
     ]
    },
    {
     "name": "stderr",
     "output_type": "stream",
     "text": [
      "100%|██████████| 1952/1952 [01:18<00:00, 25.00it/s]\n"
     ]
    },
    {
     "name": "stdout",
     "output_type": "stream",
     "text": [
      "Epoch 185\n"
     ]
    },
    {
     "name": "stderr",
     "output_type": "stream",
     "text": [
      "100%|██████████| 1952/1952 [01:17<00:00, 25.06it/s]\n"
     ]
    },
    {
     "name": "stdout",
     "output_type": "stream",
     "text": [
      "Epoch 186\n"
     ]
    },
    {
     "name": "stderr",
     "output_type": "stream",
     "text": [
      "100%|██████████| 1952/1952 [01:18<00:00, 25.01it/s]\n"
     ]
    },
    {
     "name": "stdout",
     "output_type": "stream",
     "text": [
      "Epoch 187\n"
     ]
    },
    {
     "name": "stderr",
     "output_type": "stream",
     "text": [
      "100%|██████████| 1952/1952 [01:17<00:00, 25.11it/s]\n"
     ]
    },
    {
     "name": "stdout",
     "output_type": "stream",
     "text": [
      "Epoch 188\n"
     ]
    },
    {
     "name": "stderr",
     "output_type": "stream",
     "text": [
      "100%|██████████| 1952/1952 [01:17<00:00, 25.10it/s]\n"
     ]
    },
    {
     "name": "stdout",
     "output_type": "stream",
     "text": [
      "Epoch 189\n"
     ]
    },
    {
     "name": "stderr",
     "output_type": "stream",
     "text": [
      "100%|██████████| 1952/1952 [01:18<00:00, 24.96it/s]\n"
     ]
    },
    {
     "name": "stdout",
     "output_type": "stream",
     "text": [
      "Epoch 190\n"
     ]
    },
    {
     "name": "stderr",
     "output_type": "stream",
     "text": [
      "100%|██████████| 1952/1952 [01:18<00:00, 25.00it/s]\n"
     ]
    },
    {
     "name": "stdout",
     "output_type": "stream",
     "text": [
      "Epoch 191\n"
     ]
    },
    {
     "name": "stderr",
     "output_type": "stream",
     "text": [
      "100%|██████████| 1952/1952 [01:17<00:00, 25.03it/s]\n"
     ]
    },
    {
     "name": "stdout",
     "output_type": "stream",
     "text": [
      "Epoch 192\n"
     ]
    },
    {
     "name": "stderr",
     "output_type": "stream",
     "text": [
      "100%|██████████| 1952/1952 [01:17<00:00, 25.07it/s]\n"
     ]
    },
    {
     "name": "stdout",
     "output_type": "stream",
     "text": [
      "Epoch 193\n"
     ]
    },
    {
     "name": "stderr",
     "output_type": "stream",
     "text": [
      "100%|██████████| 1952/1952 [01:17<00:00, 25.14it/s]\n"
     ]
    },
    {
     "name": "stdout",
     "output_type": "stream",
     "text": [
      "Epoch 194\n"
     ]
    },
    {
     "name": "stderr",
     "output_type": "stream",
     "text": [
      "100%|██████████| 1952/1952 [01:17<00:00, 25.14it/s]\n"
     ]
    },
    {
     "name": "stdout",
     "output_type": "stream",
     "text": [
      "Epoch 195\n"
     ]
    },
    {
     "name": "stderr",
     "output_type": "stream",
     "text": [
      "100%|██████████| 1952/1952 [01:17<00:00, 25.10it/s]\n"
     ]
    },
    {
     "name": "stdout",
     "output_type": "stream",
     "text": [
      "Epoch 196\n"
     ]
    },
    {
     "name": "stderr",
     "output_type": "stream",
     "text": [
      "100%|██████████| 1952/1952 [01:17<00:00, 25.14it/s]\n"
     ]
    },
    {
     "name": "stdout",
     "output_type": "stream",
     "text": [
      "Epoch 197\n"
     ]
    },
    {
     "name": "stderr",
     "output_type": "stream",
     "text": [
      "100%|██████████| 1952/1952 [01:17<00:00, 25.03it/s]\n"
     ]
    },
    {
     "name": "stdout",
     "output_type": "stream",
     "text": [
      "Epoch 198\n"
     ]
    },
    {
     "name": "stderr",
     "output_type": "stream",
     "text": [
      "100%|██████████| 1952/1952 [01:17<00:00, 25.06it/s]\n"
     ]
    },
    {
     "name": "stdout",
     "output_type": "stream",
     "text": [
      "Epoch 199\n"
     ]
    },
    {
     "name": "stderr",
     "output_type": "stream",
     "text": [
      "100%|██████████| 1952/1952 [01:17<00:00, 25.06it/s]\n"
     ]
    },
    {
     "name": "stdout",
     "output_type": "stream",
     "text": [
      "Epoch 200\n"
     ]
    },
    {
     "name": "stderr",
     "output_type": "stream",
     "text": [
      "100%|██████████| 1952/1952 [01:17<00:00, 25.04it/s]\n"
     ]
    },
    {
     "name": "stdout",
     "output_type": "stream",
     "text": [
      "Epoch 201\n"
     ]
    },
    {
     "name": "stderr",
     "output_type": "stream",
     "text": [
      "100%|██████████| 1952/1952 [01:17<00:00, 25.03it/s]\n"
     ]
    },
    {
     "name": "stdout",
     "output_type": "stream",
     "text": [
      "Epoch 202\n"
     ]
    },
    {
     "name": "stderr",
     "output_type": "stream",
     "text": [
      "100%|██████████| 1952/1952 [01:17<00:00, 25.11it/s]\n"
     ]
    },
    {
     "name": "stdout",
     "output_type": "stream",
     "text": [
      "Epoch 203\n"
     ]
    },
    {
     "name": "stderr",
     "output_type": "stream",
     "text": [
      "100%|██████████| 1952/1952 [01:17<00:00, 25.15it/s]\n"
     ]
    },
    {
     "name": "stdout",
     "output_type": "stream",
     "text": [
      "Epoch 204\n"
     ]
    },
    {
     "name": "stderr",
     "output_type": "stream",
     "text": [
      "100%|██████████| 1952/1952 [01:17<00:00, 25.13it/s]\n"
     ]
    },
    {
     "name": "stdout",
     "output_type": "stream",
     "text": [
      "Epoch 205\n"
     ]
    },
    {
     "name": "stderr",
     "output_type": "stream",
     "text": [
      "100%|██████████| 1952/1952 [01:17<00:00, 25.13it/s]\n"
     ]
    },
    {
     "name": "stdout",
     "output_type": "stream",
     "text": [
      "Epoch 206\n"
     ]
    },
    {
     "name": "stderr",
     "output_type": "stream",
     "text": [
      "100%|██████████| 1952/1952 [01:17<00:00, 25.04it/s]\n"
     ]
    },
    {
     "name": "stdout",
     "output_type": "stream",
     "text": [
      "Epoch 207\n"
     ]
    },
    {
     "name": "stderr",
     "output_type": "stream",
     "text": [
      "100%|██████████| 1952/1952 [01:18<00:00, 24.98it/s]\n"
     ]
    },
    {
     "name": "stdout",
     "output_type": "stream",
     "text": [
      "Epoch 208\n"
     ]
    },
    {
     "name": "stderr",
     "output_type": "stream",
     "text": [
      "100%|██████████| 1952/1952 [01:17<00:00, 25.03it/s]\n"
     ]
    },
    {
     "name": "stdout",
     "output_type": "stream",
     "text": [
      "Epoch 209\n"
     ]
    },
    {
     "name": "stderr",
     "output_type": "stream",
     "text": [
      "100%|██████████| 1952/1952 [01:18<00:00, 25.01it/s]\n"
     ]
    },
    {
     "name": "stdout",
     "output_type": "stream",
     "text": [
      "Epoch 210\n"
     ]
    },
    {
     "name": "stderr",
     "output_type": "stream",
     "text": [
      "100%|██████████| 1952/1952 [01:17<00:00, 25.08it/s]\n"
     ]
    },
    {
     "name": "stdout",
     "output_type": "stream",
     "text": [
      "Epoch 211\n"
     ]
    },
    {
     "name": "stderr",
     "output_type": "stream",
     "text": [
      "100%|██████████| 1952/1952 [01:18<00:00, 25.01it/s]\n"
     ]
    },
    {
     "name": "stdout",
     "output_type": "stream",
     "text": [
      "Epoch 212\n"
     ]
    },
    {
     "name": "stderr",
     "output_type": "stream",
     "text": [
      "100%|██████████| 1952/1952 [01:17<00:00, 25.03it/s]\n"
     ]
    },
    {
     "name": "stdout",
     "output_type": "stream",
     "text": [
      "Epoch 213\n"
     ]
    },
    {
     "name": "stderr",
     "output_type": "stream",
     "text": [
      "100%|██████████| 1952/1952 [01:17<00:00, 25.12it/s]\n"
     ]
    },
    {
     "name": "stdout",
     "output_type": "stream",
     "text": [
      "Epoch 214\n"
     ]
    },
    {
     "name": "stderr",
     "output_type": "stream",
     "text": [
      "100%|██████████| 1952/1952 [01:17<00:00, 25.07it/s]\n"
     ]
    },
    {
     "name": "stdout",
     "output_type": "stream",
     "text": [
      "Epoch 215\n"
     ]
    },
    {
     "name": "stderr",
     "output_type": "stream",
     "text": [
      "100%|██████████| 1952/1952 [01:18<00:00, 25.01it/s]\n"
     ]
    },
    {
     "name": "stdout",
     "output_type": "stream",
     "text": [
      "Epoch 216\n"
     ]
    },
    {
     "name": "stderr",
     "output_type": "stream",
     "text": [
      "100%|██████████| 1952/1952 [01:17<00:00, 25.05it/s]\n"
     ]
    },
    {
     "name": "stdout",
     "output_type": "stream",
     "text": [
      "Epoch 217\n"
     ]
    },
    {
     "name": "stderr",
     "output_type": "stream",
     "text": [
      "100%|██████████| 1952/1952 [01:17<00:00, 25.05it/s]\n"
     ]
    },
    {
     "name": "stdout",
     "output_type": "stream",
     "text": [
      "Epoch 218\n"
     ]
    },
    {
     "name": "stderr",
     "output_type": "stream",
     "text": [
      "100%|██████████| 1952/1952 [01:17<00:00, 25.12it/s]\n"
     ]
    },
    {
     "name": "stdout",
     "output_type": "stream",
     "text": [
      "Epoch 219\n"
     ]
    },
    {
     "name": "stderr",
     "output_type": "stream",
     "text": [
      "100%|██████████| 1952/1952 [01:17<00:00, 25.16it/s]\n"
     ]
    },
    {
     "name": "stdout",
     "output_type": "stream",
     "text": [
      "Epoch 220\n"
     ]
    },
    {
     "name": "stderr",
     "output_type": "stream",
     "text": [
      "100%|██████████| 1952/1952 [01:17<00:00, 25.19it/s]\n"
     ]
    },
    {
     "name": "stdout",
     "output_type": "stream",
     "text": [
      "Epoch 221\n"
     ]
    },
    {
     "name": "stderr",
     "output_type": "stream",
     "text": [
      "100%|██████████| 1952/1952 [01:17<00:00, 25.15it/s]\n"
     ]
    },
    {
     "name": "stdout",
     "output_type": "stream",
     "text": [
      "Epoch 222\n"
     ]
    },
    {
     "name": "stderr",
     "output_type": "stream",
     "text": [
      "100%|██████████| 1952/1952 [01:17<00:00, 25.11it/s]\n"
     ]
    },
    {
     "name": "stdout",
     "output_type": "stream",
     "text": [
      "Epoch 223\n"
     ]
    },
    {
     "name": "stderr",
     "output_type": "stream",
     "text": [
      "100%|██████████| 1952/1952 [01:17<00:00, 25.12it/s]\n"
     ]
    },
    {
     "name": "stdout",
     "output_type": "stream",
     "text": [
      "Epoch 224\n"
     ]
    },
    {
     "name": "stderr",
     "output_type": "stream",
     "text": [
      "100%|██████████| 1952/1952 [01:17<00:00, 25.10it/s]\n"
     ]
    },
    {
     "name": "stdout",
     "output_type": "stream",
     "text": [
      "Epoch 225\n"
     ]
    },
    {
     "name": "stderr",
     "output_type": "stream",
     "text": [
      "100%|██████████| 1952/1952 [01:17<00:00, 25.15it/s]\n"
     ]
    },
    {
     "name": "stdout",
     "output_type": "stream",
     "text": [
      "Epoch 226\n"
     ]
    },
    {
     "name": "stderr",
     "output_type": "stream",
     "text": [
      "100%|██████████| 1952/1952 [01:17<00:00, 25.04it/s]\n"
     ]
    },
    {
     "name": "stdout",
     "output_type": "stream",
     "text": [
      "Epoch 227\n"
     ]
    },
    {
     "name": "stderr",
     "output_type": "stream",
     "text": [
      "100%|██████████| 1952/1952 [01:17<00:00, 25.11it/s]\n"
     ]
    },
    {
     "name": "stdout",
     "output_type": "stream",
     "text": [
      "Epoch 228\n"
     ]
    },
    {
     "name": "stderr",
     "output_type": "stream",
     "text": [
      "100%|██████████| 1952/1952 [01:17<00:00, 25.06it/s]\n"
     ]
    },
    {
     "name": "stdout",
     "output_type": "stream",
     "text": [
      "Epoch 229\n"
     ]
    },
    {
     "name": "stderr",
     "output_type": "stream",
     "text": [
      "100%|██████████| 1952/1952 [01:17<00:00, 25.07it/s]\n"
     ]
    },
    {
     "name": "stdout",
     "output_type": "stream",
     "text": [
      "Epoch 230\n"
     ]
    },
    {
     "name": "stderr",
     "output_type": "stream",
     "text": [
      "100%|██████████| 1952/1952 [01:17<00:00, 25.10it/s]\n"
     ]
    },
    {
     "name": "stdout",
     "output_type": "stream",
     "text": [
      "Epoch 231\n"
     ]
    },
    {
     "name": "stderr",
     "output_type": "stream",
     "text": [
      "100%|██████████| 1952/1952 [01:17<00:00, 25.03it/s]\n"
     ]
    },
    {
     "name": "stdout",
     "output_type": "stream",
     "text": [
      "Epoch 232\n"
     ]
    },
    {
     "name": "stderr",
     "output_type": "stream",
     "text": [
      "100%|██████████| 1952/1952 [01:18<00:00, 25.02it/s]\n"
     ]
    },
    {
     "name": "stdout",
     "output_type": "stream",
     "text": [
      "Epoch 233\n"
     ]
    },
    {
     "name": "stderr",
     "output_type": "stream",
     "text": [
      "100%|██████████| 1952/1952 [01:18<00:00, 24.89it/s]\n"
     ]
    },
    {
     "name": "stdout",
     "output_type": "stream",
     "text": [
      "Epoch 234\n"
     ]
    },
    {
     "name": "stderr",
     "output_type": "stream",
     "text": [
      "100%|██████████| 1952/1952 [01:18<00:00, 25.00it/s]\n"
     ]
    },
    {
     "name": "stdout",
     "output_type": "stream",
     "text": [
      "Epoch 235\n"
     ]
    },
    {
     "name": "stderr",
     "output_type": "stream",
     "text": [
      "100%|██████████| 1952/1952 [01:17<00:00, 25.07it/s]\n"
     ]
    },
    {
     "name": "stdout",
     "output_type": "stream",
     "text": [
      "Epoch 236\n"
     ]
    },
    {
     "name": "stderr",
     "output_type": "stream",
     "text": [
      "100%|██████████| 1952/1952 [01:17<00:00, 25.12it/s]\n"
     ]
    },
    {
     "name": "stdout",
     "output_type": "stream",
     "text": [
      "Epoch 237\n"
     ]
    },
    {
     "name": "stderr",
     "output_type": "stream",
     "text": [
      "100%|██████████| 1952/1952 [01:17<00:00, 25.03it/s]\n"
     ]
    },
    {
     "name": "stdout",
     "output_type": "stream",
     "text": [
      "Epoch 238\n"
     ]
    },
    {
     "name": "stderr",
     "output_type": "stream",
     "text": [
      "100%|██████████| 1952/1952 [01:18<00:00, 25.01it/s]\n"
     ]
    },
    {
     "name": "stdout",
     "output_type": "stream",
     "text": [
      "Epoch 239\n"
     ]
    },
    {
     "name": "stderr",
     "output_type": "stream",
     "text": [
      "100%|██████████| 1952/1952 [01:17<00:00, 25.05it/s]\n"
     ]
    },
    {
     "name": "stdout",
     "output_type": "stream",
     "text": [
      "Epoch 240\n"
     ]
    },
    {
     "name": "stderr",
     "output_type": "stream",
     "text": [
      "100%|██████████| 1952/1952 [01:17<00:00, 25.19it/s]\n"
     ]
    },
    {
     "name": "stdout",
     "output_type": "stream",
     "text": [
      "Epoch 241\n"
     ]
    },
    {
     "name": "stderr",
     "output_type": "stream",
     "text": [
      "100%|██████████| 1952/1952 [01:17<00:00, 25.16it/s]\n"
     ]
    },
    {
     "name": "stdout",
     "output_type": "stream",
     "text": [
      "Epoch 242\n"
     ]
    },
    {
     "name": "stderr",
     "output_type": "stream",
     "text": [
      "100%|██████████| 1952/1952 [01:17<00:00, 25.14it/s]\n"
     ]
    },
    {
     "name": "stdout",
     "output_type": "stream",
     "text": [
      "Epoch 243\n"
     ]
    },
    {
     "name": "stderr",
     "output_type": "stream",
     "text": [
      "100%|██████████| 1952/1952 [01:17<00:00, 25.18it/s]\n"
     ]
    },
    {
     "name": "stdout",
     "output_type": "stream",
     "text": [
      "Epoch 244\n"
     ]
    },
    {
     "name": "stderr",
     "output_type": "stream",
     "text": [
      "100%|██████████| 1952/1952 [01:17<00:00, 25.13it/s]\n"
     ]
    },
    {
     "name": "stdout",
     "output_type": "stream",
     "text": [
      "Epoch 245\n"
     ]
    },
    {
     "name": "stderr",
     "output_type": "stream",
     "text": [
      "100%|██████████| 1952/1952 [01:17<00:00, 25.08it/s]\n"
     ]
    },
    {
     "name": "stdout",
     "output_type": "stream",
     "text": [
      "Epoch 246\n"
     ]
    },
    {
     "name": "stderr",
     "output_type": "stream",
     "text": [
      "100%|██████████| 1952/1952 [01:17<00:00, 25.10it/s]\n"
     ]
    },
    {
     "name": "stdout",
     "output_type": "stream",
     "text": [
      "Epoch 247\n"
     ]
    },
    {
     "name": "stderr",
     "output_type": "stream",
     "text": [
      "100%|██████████| 1952/1952 [01:17<00:00, 25.13it/s]\n"
     ]
    },
    {
     "name": "stdout",
     "output_type": "stream",
     "text": [
      "Epoch 249\n"
     ]
    },
    {
     "name": "stderr",
     "output_type": "stream",
     "text": [
      "100%|██████████| 1952/1952 [01:17<00:00, 25.05it/s]\n"
     ]
    },
    {
     "name": "stdout",
     "output_type": "stream",
     "text": [
      "Epoch 250\n"
     ]
    },
    {
     "name": "stderr",
     "output_type": "stream",
     "text": [
      "100%|██████████| 1952/1952 [01:18<00:00, 25.01it/s]\n"
     ]
    },
    {
     "name": "stdout",
     "output_type": "stream",
     "text": [
      "Epoch 251\n"
     ]
    },
    {
     "name": "stderr",
     "output_type": "stream",
     "text": [
      "100%|██████████| 1952/1952 [01:17<00:00, 25.04it/s]\n"
     ]
    },
    {
     "name": "stdout",
     "output_type": "stream",
     "text": [
      "Epoch 252\n"
     ]
    },
    {
     "name": "stderr",
     "output_type": "stream",
     "text": [
      " 86%|████████▌ | 1680/1952 [01:06<00:10, 24.84it/s]IOPub message rate exceeded.\n",
      "The Jupyter server will temporarily stop sending output\n",
      "to the client in order to avoid crashing it.\n",
      "To change this limit, set the config variable\n",
      "`--ServerApp.iopub_msg_rate_limit`.\n",
      "\n",
      "Current values:\n",
      "ServerApp.iopub_msg_rate_limit=1000.0 (msgs/sec)\n",
      "ServerApp.rate_limit_window=3.0 (secs)\n",
      "\n",
      "100%|██████████| 1952/1952 [01:17<00:00, 25.08it/s]\n"
     ]
    },
    {
     "name": "stdout",
     "output_type": "stream",
     "text": [
      "Epoch 271\n"
     ]
    },
    {
     "name": "stderr",
     "output_type": "stream",
     "text": [
      "100%|██████████| 1952/1952 [01:17<00:00, 25.18it/s]\n"
     ]
    },
    {
     "name": "stdout",
     "output_type": "stream",
     "text": [
      "Epoch 272\n"
     ]
    },
    {
     "name": "stderr",
     "output_type": "stream",
     "text": [
      "100%|██████████| 1952/1952 [01:17<00:00, 25.15it/s]\n"
     ]
    },
    {
     "name": "stdout",
     "output_type": "stream",
     "text": [
      "Epoch 273\n"
     ]
    },
    {
     "name": "stderr",
     "output_type": "stream",
     "text": [
      "100%|██████████| 1952/1952 [01:17<00:00, 25.18it/s]\n"
     ]
    },
    {
     "name": "stdout",
     "output_type": "stream",
     "text": [
      "Epoch 274\n"
     ]
    },
    {
     "name": "stderr",
     "output_type": "stream",
     "text": [
      "100%|██████████| 1952/1952 [01:17<00:00, 25.09it/s]\n"
     ]
    },
    {
     "name": "stdout",
     "output_type": "stream",
     "text": [
      "Epoch 275\n"
     ]
    },
    {
     "name": "stderr",
     "output_type": "stream",
     "text": [
      " 43%|████▎     | 849/1952 [00:33<00:44, 24.87it/s]IOPub message rate exceeded.\n",
      "The Jupyter server will temporarily stop sending output\n",
      "to the client in order to avoid crashing it.\n",
      "To change this limit, set the config variable\n",
      "`--ServerApp.iopub_msg_rate_limit`.\n",
      "\n",
      "Current values:\n",
      "ServerApp.iopub_msg_rate_limit=1000.0 (msgs/sec)\n",
      "ServerApp.rate_limit_window=3.0 (secs)\n",
      "\n",
      "100%|██████████| 1952/1952 [01:18<00:00, 24.99it/s]\n"
     ]
    },
    {
     "name": "stdout",
     "output_type": "stream",
     "text": [
      "Epoch 280\n"
     ]
    },
    {
     "name": "stderr",
     "output_type": "stream",
     "text": [
      "100%|██████████| 1952/1952 [01:17<00:00, 25.04it/s]\n"
     ]
    },
    {
     "name": "stdout",
     "output_type": "stream",
     "text": [
      "Epoch 281\n"
     ]
    },
    {
     "name": "stderr",
     "output_type": "stream",
     "text": [
      "100%|██████████| 1952/1952 [01:17<00:00, 25.10it/s]\n"
     ]
    },
    {
     "name": "stdout",
     "output_type": "stream",
     "text": [
      "Epoch 282\n"
     ]
    },
    {
     "name": "stderr",
     "output_type": "stream",
     "text": [
      "100%|██████████| 1952/1952 [01:17<00:00, 25.13it/s]\n"
     ]
    },
    {
     "name": "stdout",
     "output_type": "stream",
     "text": [
      "Epoch 283\n"
     ]
    },
    {
     "name": "stderr",
     "output_type": "stream",
     "text": [
      "100%|██████████| 1952/1952 [01:17<00:00, 25.28it/s]\n"
     ]
    },
    {
     "name": "stdout",
     "output_type": "stream",
     "text": [
      "Epoch 284\n"
     ]
    },
    {
     "name": "stderr",
     "output_type": "stream",
     "text": [
      "100%|██████████| 1952/1952 [01:17<00:00, 25.23it/s]\n"
     ]
    },
    {
     "name": "stdout",
     "output_type": "stream",
     "text": [
      "Epoch 285\n"
     ]
    },
    {
     "name": "stderr",
     "output_type": "stream",
     "text": [
      "100%|██████████| 1952/1952 [01:17<00:00, 25.15it/s]\n"
     ]
    },
    {
     "name": "stdout",
     "output_type": "stream",
     "text": [
      "Epoch 286\n"
     ]
    },
    {
     "name": "stderr",
     "output_type": "stream",
     "text": [
      " 55%|█████▌    | 1074/1952 [00:42<00:35, 25.08it/s]"
     ]
    }
   ],
   "source": [
    "X = x_train\n",
    "y = y_train\n",
    "list_of_cgen_models = []\n",
    "cd1_hist_r, cd1_hist_f, cg_hist = conditional_training(X,y,301,256)"
   ]
  },
  {
   "attachments": {},
   "cell_type": "markdown",
   "id": "9464ebf3",
   "metadata": {},
   "source": [
    "### Network parameters"
   ]
  },
  {
   "cell_type": "code",
   "execution_count": 13,
   "id": "86819d1a-d303-4fd5-ad4c-b98f518972c3",
   "metadata": {},
   "outputs": [],
   "source": [
    "# network parameters\n",
    "intermediate_dim = 128\n",
    "encoder_dim = 128\n",
    "batch_size = 1024\n",
    "latent_dim = 6\n",
    "epochs_1, epochs_2 = 240, 120\n",
    "\n"
   ]
  },
  {
   "cell_type": "code",
   "execution_count": 14,
   "id": "fefa64aa-26c4-49a0-9cb9-9cb40e417497",
   "metadata": {},
   "outputs": [
    {
     "data": {
      "text/plain": [
       "0"
      ]
     },
     "execution_count": 14,
     "metadata": {},
     "output_type": "execute_result"
    }
   ],
   "source": [
    "\n",
    "folder_name = \"cVAEz6_03-27-2023/\"\n",
    "comd = \"mkdir -p \"+\"./outputs/models/\"+folder_name\n",
    "os.system(comd)\n"
   ]
  },
  {
   "cell_type": "markdown",
   "id": "1ef1f2f9",
   "metadata": {},
   "source": [
    "### Function for Gaussian Sampling in the VAE"
   ]
  },
  {
   "cell_type": "code",
   "execution_count": 15,
   "id": "2422b2dd-2fec-4c47-8525-77c798121bee",
   "metadata": {},
   "outputs": [],
   "source": [
    "\n",
    "def sampling(args):\n",
    "    \"\"\"Reparameterization trick by sampling from an isotropic unit Gaussian.\n",
    "    # Arguments:\n",
    "        args (tensor): mean and log of variance of Q(z|X)\n",
    "    # Returns:\n",
    "        z (tensor): sampled latent vector\n",
    "    \"\"\"\n",
    "\n",
    "    z_mean, z_log_var = args\n",
    "    batch = K.shape(z_mean)[0]\n",
    "    dim = K.int_shape(z_mean)[1]\n",
    "    # by default, random_normal has mean=0 and std=1.0\n",
    "    epsilon = K.random_normal(shape=(batch, dim))\n",
    "    return z_mean + K.exp(0.5 * z_log_var) * epsilon"
   ]
  },
  {
   "cell_type": "markdown",
   "id": "e1e820f0",
   "metadata": {},
   "source": [
    "### Define the Encoder "
   ]
  },
  {
   "cell_type": "code",
   "execution_count": 21,
   "id": "9d5320a0-cc80-42c9-9c30-d52260d3ac20",
   "metadata": {},
   "outputs": [],
   "source": [
    "def create_encoder(X,y):\n",
    "    inputs = Concatenate()([X, y])\n",
    "    x1 = Dense(32, activation='relu')(inputs)\n",
    "    x2 = Dense(64, activation='relu')(x1)\n",
    "    x3 = Dense(32, activation='relu')(x2)\n",
    "    \n",
    "    z_mean = Dense(latent_dim, name='z_mean')(x3)\n",
    "    z_log_var = Dense(latent_dim, name='z_log_var')(x3)\n",
    "    # use reparameterization trick to push the sampling out as input\n",
    "    # note that \"output_shape\" isn't necessary with the TensorFlow backend\n",
    "    z = Lambda(sampling, output_shape=(latent_dim,), name='z')([z_mean, z_log_var])\n",
    "    \n",
    "    return Model([X, y], [z_mean, z_log_var, z], name='encoder')"
   ]
  },
  {
   "cell_type": "markdown",
   "id": "60dde75a",
   "metadata": {},
   "source": [
    "### Define the Decoder"
   ]
  },
  {
   "cell_type": "code",
   "execution_count": 22,
   "id": "367ea004-d93b-4156-9dc5-e7c5df86844e",
   "metadata": {},
   "outputs": [],
   "source": [
    "def create_decoder(z,y):\n",
    "    latent_inputs = Concatenate()([z, y])\n",
    "    x1 = Dense(32, activation='relu')(latent_inputs)\n",
    "    x2 = Dense(64, activation='relu')(x1)\n",
    "    x3 = Dense(32, activation='relu')(x2)\n",
    "\n",
    "    outputs = Dense(input_dim, activation='linear')(x3)\n",
    "\n",
    "    return Model([z, y], outputs, name='decoder')"
   ]
  },
  {
   "cell_type": "code",
   "execution_count": 23,
   "id": "afe1e99e-9687-40bc-b2da-f751fdb9b468",
   "metadata": {},
   "outputs": [
    {
     "name": "stdout",
     "output_type": "stream",
     "text": [
      "Model: \"encoder\"\n",
      "__________________________________________________________________________________________________\n",
      "Layer (type)                    Output Shape         Param #     Connected to                     \n",
      "==================================================================================================\n",
      "input_7 (InputLayer)            [(None, 6)]          0                                            \n",
      "__________________________________________________________________________________________________\n",
      "input_8 (InputLayer)            [(None, 1)]          0                                            \n",
      "__________________________________________________________________________________________________\n",
      "concatenate_2 (Concatenate)     (None, 7)            0           input_7[0][0]                    \n",
      "                                                                 input_8[0][0]                    \n",
      "__________________________________________________________________________________________________\n",
      "dense_7 (Dense)                 (None, 32)           256         concatenate_2[0][0]              \n",
      "__________________________________________________________________________________________________\n",
      "dense_8 (Dense)                 (None, 64)           2112        dense_7[0][0]                    \n",
      "__________________________________________________________________________________________________\n",
      "dense_9 (Dense)                 (None, 32)           2080        dense_8[0][0]                    \n",
      "__________________________________________________________________________________________________\n",
      "z_mean (Dense)                  (None, 6)            198         dense_9[0][0]                    \n",
      "__________________________________________________________________________________________________\n",
      "z_log_var (Dense)               (None, 6)            198         dense_9[0][0]                    \n",
      "__________________________________________________________________________________________________\n",
      "z (Lambda)                      (None, 6)            0           z_mean[0][0]                     \n",
      "                                                                 z_log_var[0][0]                  \n",
      "==================================================================================================\n",
      "Total params: 4,844\n",
      "Trainable params: 4,844\n",
      "Non-trainable params: 0\n",
      "__________________________________________________________________________________________________\n"
     ]
    }
   ],
   "source": [
    "# instantiate encoder model\n",
    "encoder = create_encoder(Input(shape=(input_dim,)), Input(shape=(1,)))\n",
    "encoder.summary()\n"
   ]
  },
  {
   "cell_type": "code",
   "execution_count": 24,
   "id": "c018f57a-f73b-433c-a8e9-27b80a03ade0",
   "metadata": {},
   "outputs": [
    {
     "name": "stdout",
     "output_type": "stream",
     "text": [
      "Model: \"decoder\"\n",
      "__________________________________________________________________________________________________\n",
      "Layer (type)                    Output Shape         Param #     Connected to                     \n",
      "==================================================================================================\n",
      "input_9 (InputLayer)            [(None, 6)]          0                                            \n",
      "__________________________________________________________________________________________________\n",
      "input_10 (InputLayer)           [(None, 1)]          0                                            \n",
      "__________________________________________________________________________________________________\n",
      "concatenate_3 (Concatenate)     (None, 7)            0           input_9[0][0]                    \n",
      "                                                                 input_10[0][0]                   \n",
      "__________________________________________________________________________________________________\n",
      "dense_10 (Dense)                (None, 32)           256         concatenate_3[0][0]              \n",
      "__________________________________________________________________________________________________\n",
      "dense_11 (Dense)                (None, 64)           2112        dense_10[0][0]                   \n",
      "__________________________________________________________________________________________________\n",
      "dense_12 (Dense)                (None, 32)           2080        dense_11[0][0]                   \n",
      "__________________________________________________________________________________________________\n",
      "dense_13 (Dense)                (None, 6)            198         dense_12[0][0]                   \n",
      "==================================================================================================\n",
      "Total params: 4,646\n",
      "Trainable params: 4,646\n",
      "Non-trainable params: 0\n",
      "__________________________________________________________________________________________________\n"
     ]
    }
   ],
   "source": [
    "# instantiate decoder model\n",
    "decoder = create_decoder(Input(shape=(latent_dim,)), Input(shape=(1,)))\n",
    "decoder.summary()\n"
   ]
  },
  {
   "cell_type": "markdown",
   "id": "f252c341",
   "metadata": {},
   "source": [
    "### Define the full VAE model"
   ]
  },
  {
   "cell_type": "code",
   "execution_count": 25,
   "id": "bc0fcfb8-86b6-499f-ba05-8422da6caa78",
   "metadata": {},
   "outputs": [],
   "source": [
    "X_input = Input(shape=(input_dim,))\n",
    "y_input = Input(shape=(1,))\n",
    "z_mean, z_log_var, z = encoder([X_input,y_input])\n",
    "outputs = decoder([z,y_input])\n",
    "\n",
    "cvae = Model([X_input, y_input], outputs)"
   ]
  },
  {
   "cell_type": "markdown",
   "id": "72136fa0",
   "metadata": {},
   "source": [
    "### Define the loss functions"
   ]
  },
  {
   "cell_type": "code",
   "execution_count": 26,
   "id": "90f0dd72-c09d-4bd0-bd0e-6c91d404e37f",
   "metadata": {},
   "outputs": [],
   "source": [
    "def mse_loss_fn(x,  x_decoded_mean):\n",
    "#     mse_loss = mse(x, x_decoded_mean) # objectives.mean_squared_error(x, x_decoded_mean)\n",
    "    mse_loss = tf.reduce_mean(\n",
    "            tf.reduce_sum(\n",
    "                keras.losses.mse(x, x_decoded_mean)\n",
    "            )\n",
    "        )\n",
    "    return mse_loss\n",
    "    \n",
    "def kl_loss_fn(x,  x_decoded_mean):\n",
    "    kl_loss = 1 + z_log_var - K.square(z_mean) - K.exp(z_log_var)\n",
    "    kl_loss = K.sum(kl_loss, axis=-1)\n",
    "    kl_loss *= -0.5\n",
    "    return kl_loss\n",
    "            \n",
    "\n",
    "def vae_loss(x, x_decoded_mean):\n",
    "#         mse_loss = mse(x, x_decoded_mean) # objectives.mean_squared_error(x, x_decoded_mean)\n",
    "    mse_loss = mse_loss_fn(x, x_decoded_mean)\n",
    "    kl_loss = 1 + z_log_var - K.square(z_mean) - K.exp(z_log_var)\n",
    "    kl_loss = K.sum(kl_loss, axis=-1)\n",
    "    kl_loss *= -0.5\n",
    "    beta=10**(-2)  #10**(-6)\n",
    "    loss = K.mean((1-beta)*mse_loss + beta*kl_loss)\n",
    "#         loss = K.mean(mse_loss + kl_loss)\n",
    "    return loss\n"
   ]
  },
  {
   "cell_type": "markdown",
   "id": "2bb20287",
   "metadata": {},
   "source": [
    "### Custom Saver function"
   ]
  },
  {
   "cell_type": "code",
   "execution_count": 27,
   "id": "bc506102-b047-4e87-a4a2-6377488feeb4",
   "metadata": {},
   "outputs": [],
   "source": [
    "class CustomSaver(Callback):\n",
    "    def on_epoch_end(self, epoch, logs={}):\n",
    "           if (k == (iterations-1)):\n",
    "               decoder.save(\"outputs/models/{}/model_cbvae_6var_m{}.h5\".format(folder_name,epoch))\n",
    "               encoder.save(\"outputs/models/{}/encoder_cbvae_6var_m{}.h5\".format(folder_name,epoch))\n",
    "decoderSaver = CustomSaver()"
   ]
  },
  {
   "cell_type": "markdown",
   "id": "59f7fd59",
   "metadata": {},
   "source": [
    "### Other network parameters and model compilation"
   ]
  },
  {
   "cell_type": "code",
   "execution_count": 28,
   "id": "c22a9a26-c7c3-4b2f-9d03-b16ac7d3e36a",
   "metadata": {},
   "outputs": [],
   "source": [
    "learnrate = 0.001\n",
    "iterations = 3\n",
    "lr_limit = 0.001/(2**iterations)\n",
    "history = History()\n",
    "k=0"
   ]
  },
  {
   "cell_type": "code",
   "execution_count": 29,
   "id": "6d208b34-cca6-4c78-a7e6-2371821ae9f9",
   "metadata": {},
   "outputs": [
    {
     "name": "stdout",
     "output_type": "stream",
     "text": [
      "Model: \"model_1\"\n",
      "__________________________________________________________________________________________________\n",
      "Layer (type)                    Output Shape         Param #     Connected to                     \n",
      "==================================================================================================\n",
      "input_11 (InputLayer)           [(None, 6)]          0                                            \n",
      "__________________________________________________________________________________________________\n",
      "input_12 (InputLayer)           [(None, 1)]          0                                            \n",
      "__________________________________________________________________________________________________\n",
      "encoder (Model)                 [(None, 6), (None, 6 4844        input_11[0][0]                   \n",
      "                                                                 input_12[0][0]                   \n",
      "__________________________________________________________________________________________________\n",
      "decoder (Model)                 (None, 6)            4646        encoder[1][2]                    \n",
      "                                                                 input_12[0][0]                   \n",
      "==================================================================================================\n",
      "Total params: 9,490\n",
      "Trainable params: 9,490\n",
      "Non-trainable params: 0\n",
      "__________________________________________________________________________________________________\n"
     ]
    }
   ],
   "source": [
    "checkpointer = ModelCheckpoint(filepath='outputs/models/%s/cbvae_LHCO2020_20d_e-6.hdf5'%(folder_name), verbose=1, save_best_only=True)\n",
    "opt = Adam(learning_rate=learnrate, beta_1=0.9, beta_2=0.999, epsilon=1e-08, decay=0.0)\n",
    "cvae.compile(optimizer=opt, loss=vae_loss)\n",
    "\n",
    "cvae.summary()"
   ]
  },
  {
   "cell_type": "markdown",
   "id": "b62b04bd",
   "metadata": {},
   "source": [
    "## Training loop"
   ]
  },
  {
   "cell_type": "code",
   "execution_count": 30,
   "id": "8482ec67-e112-4b3b-b646-c7232382b557",
   "metadata": {},
   "outputs": [
    {
     "name": "stdout",
     "output_type": "stream",
     "text": [
      "Train on 499889 samples, validate on 378759 samples\n"
     ]
    },
    {
     "name": "stderr",
     "output_type": "stream",
     "text": [
      "2023-03-27 12:26:50.295127: I tensorflow/stream_executor/platform/default/dso_loader.cc:44] Successfully opened dynamic library libcuda.so.1\n",
      "2023-03-27 12:26:50.426797: I tensorflow/core/common_runtime/gpu/gpu_device.cc:1618] Found device 0 with properties: \n",
      "name: NVIDIA A100-PCIE-40GB major: 8 minor: 0 memoryClockRate(GHz): 1.41\n",
      "pciBusID: 0000:c3:00.0\n",
      "2023-03-27 12:26:50.432260: I tensorflow/stream_executor/platform/default/dso_loader.cc:44] Successfully opened dynamic library libcudart.so.10.0\n",
      "2023-03-27 12:26:50.481857: I tensorflow/stream_executor/platform/default/dso_loader.cc:44] Successfully opened dynamic library libcublas.so.10.0\n",
      "2023-03-27 12:26:50.503698: I tensorflow/stream_executor/platform/default/dso_loader.cc:44] Successfully opened dynamic library libcufft.so.10.0\n",
      "2023-03-27 12:26:50.511264: I tensorflow/stream_executor/platform/default/dso_loader.cc:44] Successfully opened dynamic library libcurand.so.10.0\n",
      "2023-03-27 12:26:50.560840: I tensorflow/stream_executor/platform/default/dso_loader.cc:44] Successfully opened dynamic library libcusolver.so.10.0\n",
      "2023-03-27 12:26:50.592615: I tensorflow/stream_executor/platform/default/dso_loader.cc:44] Successfully opened dynamic library libcusparse.so.10.0\n",
      "2023-03-27 12:26:50.693935: I tensorflow/stream_executor/platform/default/dso_loader.cc:44] Successfully opened dynamic library libcudnn.so.7\n",
      "2023-03-27 12:26:50.697274: I tensorflow/core/common_runtime/gpu/gpu_device.cc:1746] Adding visible gpu devices: 0\n",
      "2023-03-27 12:26:50.699429: I tensorflow/core/platform/cpu_feature_guard.cc:142] Your CPU supports instructions that this TensorFlow binary was not compiled to use: SSE4.1 SSE4.2 AVX AVX2 FMA\n",
      "2023-03-27 12:26:50.775035: I tensorflow/core/platform/profile_utils/cpu_utils.cc:94] CPU Frequency: 1996195000 Hz\n",
      "2023-03-27 12:26:50.792691: I tensorflow/compiler/xla/service/service.cc:168] XLA service 0x5579f5987dc0 initialized for platform Host (this does not guarantee that XLA will be used). Devices:\n",
      "2023-03-27 12:26:50.793073: I tensorflow/compiler/xla/service/service.cc:176]   StreamExecutor device (0): Host, Default Version\n",
      "2023-03-27 12:26:50.797727: I tensorflow/core/common_runtime/gpu/gpu_device.cc:1618] Found device 0 with properties: \n",
      "name: NVIDIA A100-PCIE-40GB major: 8 minor: 0 memoryClockRate(GHz): 1.41\n",
      "pciBusID: 0000:c3:00.0\n",
      "2023-03-27 12:26:50.797785: I tensorflow/stream_executor/platform/default/dso_loader.cc:44] Successfully opened dynamic library libcudart.so.10.0\n",
      "2023-03-27 12:26:50.797799: I tensorflow/stream_executor/platform/default/dso_loader.cc:44] Successfully opened dynamic library libcublas.so.10.0\n",
      "2023-03-27 12:26:50.797810: I tensorflow/stream_executor/platform/default/dso_loader.cc:44] Successfully opened dynamic library libcufft.so.10.0\n",
      "2023-03-27 12:26:50.797821: I tensorflow/stream_executor/platform/default/dso_loader.cc:44] Successfully opened dynamic library libcurand.so.10.0\n",
      "2023-03-27 12:26:50.797832: I tensorflow/stream_executor/platform/default/dso_loader.cc:44] Successfully opened dynamic library libcusolver.so.10.0\n",
      "2023-03-27 12:26:50.797842: I tensorflow/stream_executor/platform/default/dso_loader.cc:44] Successfully opened dynamic library libcusparse.so.10.0\n",
      "2023-03-27 12:26:50.797852: I tensorflow/stream_executor/platform/default/dso_loader.cc:44] Successfully opened dynamic library libcudnn.so.7\n",
      "2023-03-27 12:26:50.800971: I tensorflow/core/common_runtime/gpu/gpu_device.cc:1746] Adding visible gpu devices: 0\n",
      "2023-03-27 12:26:50.802174: I tensorflow/stream_executor/platform/default/dso_loader.cc:44] Successfully opened dynamic library libcudart.so.10.0\n",
      "2023-03-27 12:26:51.031914: I tensorflow/core/common_runtime/gpu/gpu_device.cc:1159] Device interconnect StreamExecutor with strength 1 edge matrix:\n",
      "2023-03-27 12:26:51.031953: I tensorflow/core/common_runtime/gpu/gpu_device.cc:1165]      0 \n",
      "2023-03-27 12:26:51.031993: I tensorflow/core/common_runtime/gpu/gpu_device.cc:1178] 0:   N \n",
      "2023-03-27 12:26:51.038223: I tensorflow/core/common_runtime/gpu/gpu_device.cc:1304] Created TensorFlow device (/job:localhost/replica:0/task:0/device:GPU:0 with 37983 MB memory) -> physical GPU (device: 0, name: NVIDIA A100-PCIE-40GB, pci bus id: 0000:c3:00.0, compute capability: 8.0)\n",
      "2023-03-27 12:26:51.044181: I tensorflow/compiler/xla/service/service.cc:168] XLA service 0x5579f620e1c0 initialized for platform CUDA (this does not guarantee that XLA will be used). Devices:\n",
      "2023-03-27 12:26:51.044195: I tensorflow/compiler/xla/service/service.cc:176]   StreamExecutor device (0): NVIDIA A100-PCIE-40GB, Compute Capability 8.0\n"
     ]
    },
    {
     "name": "stdout",
     "output_type": "stream",
     "text": [
      "Epoch 1/240\n"
     ]
    },
    {
     "name": "stderr",
     "output_type": "stream",
     "text": [
      "2023-03-27 12:26:54.789019: I tensorflow/stream_executor/platform/default/dso_loader.cc:44] Successfully opened dynamic library libcublas.so.10.0\n",
      "2023-03-27 12:26:55.513533: E tensorflow/stream_executor/cuda/cuda_blas.cc:428] failed to run cuBLAS routine: CUBLAS_STATUS_EXECUTION_FAILED\n"
     ]
    },
    {
     "ename": "InternalError",
     "evalue": "2 root error(s) found.\n  (0) Internal: Blas GEMM launch failed : a.shape=(1024, 7), b.shape=(7, 32), m=1024, n=32, k=7\n\t [[{{node encoder_1/dense_7/MatMul}}]]\n\t [[metrics_2/kl_loss_fn/Identity/_207]]\n  (1) Internal: Blas GEMM launch failed : a.shape=(1024, 7), b.shape=(7, 32), m=1024, n=32, k=7\n\t [[{{node encoder_1/dense_7/MatMul}}]]\n0 successful operations.\n0 derived errors ignored.",
     "output_type": "error",
     "traceback": [
      "\u001b[0;31m---------------------------------------------------------------------------\u001b[0m",
      "\u001b[0;31mInternalError\u001b[0m                             Traceback (most recent call last)",
      "\u001b[0;32m/tmp/ipykernel_218498/2765158929.py\u001b[0m in \u001b[0;36m<module>\u001b[0;34m\u001b[0m\n\u001b[1;32m     14\u001b[0m             \u001b[0mbatch_size\u001b[0m\u001b[0;34m=\u001b[0m\u001b[0mbatch_size\u001b[0m\u001b[0;34m,\u001b[0m\u001b[0;34m\u001b[0m\u001b[0;34m\u001b[0m\u001b[0m\n\u001b[1;32m     15\u001b[0m             \u001b[0mvalidation_data\u001b[0m\u001b[0;34m=\u001b[0m\u001b[0;34m(\u001b[0m\u001b[0;34m[\u001b[0m\u001b[0mx_test\u001b[0m\u001b[0;34m,\u001b[0m \u001b[0my_test\u001b[0m\u001b[0;34m]\u001b[0m\u001b[0;34m,\u001b[0m \u001b[0mx_test\u001b[0m\u001b[0;34m)\u001b[0m\u001b[0;34m,\u001b[0m\u001b[0;34m\u001b[0m\u001b[0;34m\u001b[0m\u001b[0m\n\u001b[0;32m---> 16\u001b[0;31m             callbacks = [checkpointer, history, decoderSaver])\n\u001b[0m\u001b[1;32m     17\u001b[0m     \u001b[0mcvae\u001b[0m\u001b[0;34m.\u001b[0m\u001b[0mload_weights\u001b[0m\u001b[0;34m(\u001b[0m\u001b[0;34m'outputs/models/%s/cbvae_LHCO2020_20d_e-6.hdf5'\u001b[0m\u001b[0;34m%\u001b[0m\u001b[0;34m(\u001b[0m\u001b[0mfolder_name\u001b[0m\u001b[0;34m)\u001b[0m\u001b[0;34m)\u001b[0m\u001b[0;34m\u001b[0m\u001b[0;34m\u001b[0m\u001b[0m\n\u001b[1;32m     18\u001b[0m \u001b[0;34m\u001b[0m\u001b[0m\n",
      "\u001b[0;32m~/.conda/envs/ml/lib/python3.7/site-packages/tensorflow_core/python/keras/engine/training.py\u001b[0m in \u001b[0;36mfit\u001b[0;34m(self, x, y, batch_size, epochs, verbose, callbacks, validation_split, validation_data, shuffle, class_weight, sample_weight, initial_epoch, steps_per_epoch, validation_steps, validation_freq, max_queue_size, workers, use_multiprocessing, **kwargs)\u001b[0m\n\u001b[1;32m    725\u001b[0m         \u001b[0mmax_queue_size\u001b[0m\u001b[0;34m=\u001b[0m\u001b[0mmax_queue_size\u001b[0m\u001b[0;34m,\u001b[0m\u001b[0;34m\u001b[0m\u001b[0;34m\u001b[0m\u001b[0m\n\u001b[1;32m    726\u001b[0m         \u001b[0mworkers\u001b[0m\u001b[0;34m=\u001b[0m\u001b[0mworkers\u001b[0m\u001b[0;34m,\u001b[0m\u001b[0;34m\u001b[0m\u001b[0;34m\u001b[0m\u001b[0m\n\u001b[0;32m--> 727\u001b[0;31m         use_multiprocessing=use_multiprocessing)\n\u001b[0m\u001b[1;32m    728\u001b[0m \u001b[0;34m\u001b[0m\u001b[0m\n\u001b[1;32m    729\u001b[0m   def evaluate(self,\n",
      "\u001b[0;32m~/.conda/envs/ml/lib/python3.7/site-packages/tensorflow_core/python/keras/engine/training_arrays.py\u001b[0m in \u001b[0;36mfit\u001b[0;34m(self, model, x, y, batch_size, epochs, verbose, callbacks, validation_split, validation_data, shuffle, class_weight, sample_weight, initial_epoch, steps_per_epoch, validation_steps, validation_freq, **kwargs)\u001b[0m\n\u001b[1;32m    673\u001b[0m         \u001b[0mvalidation_steps\u001b[0m\u001b[0;34m=\u001b[0m\u001b[0mvalidation_steps\u001b[0m\u001b[0;34m,\u001b[0m\u001b[0;34m\u001b[0m\u001b[0;34m\u001b[0m\u001b[0m\n\u001b[1;32m    674\u001b[0m         \u001b[0mvalidation_freq\u001b[0m\u001b[0;34m=\u001b[0m\u001b[0mvalidation_freq\u001b[0m\u001b[0;34m,\u001b[0m\u001b[0;34m\u001b[0m\u001b[0;34m\u001b[0m\u001b[0m\n\u001b[0;32m--> 675\u001b[0;31m         steps_name='steps_per_epoch')\n\u001b[0m\u001b[1;32m    676\u001b[0m \u001b[0;34m\u001b[0m\u001b[0m\n\u001b[1;32m    677\u001b[0m   def evaluate(self,\n",
      "\u001b[0;32m~/.conda/envs/ml/lib/python3.7/site-packages/tensorflow_core/python/keras/engine/training_arrays.py\u001b[0m in \u001b[0;36mmodel_iteration\u001b[0;34m(model, inputs, targets, sample_weights, batch_size, epochs, verbose, callbacks, val_inputs, val_targets, val_sample_weights, shuffle, initial_epoch, steps_per_epoch, validation_steps, validation_freq, mode, validation_in_fit, prepared_feed_values_from_dataset, steps_name, **kwargs)\u001b[0m\n\u001b[1;32m    392\u001b[0m \u001b[0;34m\u001b[0m\u001b[0m\n\u001b[1;32m    393\u001b[0m         \u001b[0;31m# Get outputs.\u001b[0m\u001b[0;34m\u001b[0m\u001b[0;34m\u001b[0m\u001b[0;34m\u001b[0m\u001b[0m\n\u001b[0;32m--> 394\u001b[0;31m         \u001b[0mbatch_outs\u001b[0m \u001b[0;34m=\u001b[0m \u001b[0mf\u001b[0m\u001b[0;34m(\u001b[0m\u001b[0mins_batch\u001b[0m\u001b[0;34m)\u001b[0m\u001b[0;34m\u001b[0m\u001b[0;34m\u001b[0m\u001b[0m\n\u001b[0m\u001b[1;32m    395\u001b[0m         \u001b[0;32mif\u001b[0m \u001b[0;32mnot\u001b[0m \u001b[0misinstance\u001b[0m\u001b[0;34m(\u001b[0m\u001b[0mbatch_outs\u001b[0m\u001b[0;34m,\u001b[0m \u001b[0mlist\u001b[0m\u001b[0;34m)\u001b[0m\u001b[0;34m:\u001b[0m\u001b[0;34m\u001b[0m\u001b[0;34m\u001b[0m\u001b[0m\n\u001b[1;32m    396\u001b[0m           \u001b[0mbatch_outs\u001b[0m \u001b[0;34m=\u001b[0m \u001b[0;34m[\u001b[0m\u001b[0mbatch_outs\u001b[0m\u001b[0;34m]\u001b[0m\u001b[0;34m\u001b[0m\u001b[0;34m\u001b[0m\u001b[0m\n",
      "\u001b[0;32m~/.conda/envs/ml/lib/python3.7/site-packages/tensorflow_core/python/keras/backend.py\u001b[0m in \u001b[0;36m__call__\u001b[0;34m(self, inputs)\u001b[0m\n\u001b[1;32m   3474\u001b[0m \u001b[0;34m\u001b[0m\u001b[0m\n\u001b[1;32m   3475\u001b[0m     fetched = self._callable_fn(*array_vals,\n\u001b[0;32m-> 3476\u001b[0;31m                                 run_metadata=self.run_metadata)\n\u001b[0m\u001b[1;32m   3477\u001b[0m     \u001b[0mself\u001b[0m\u001b[0;34m.\u001b[0m\u001b[0m_call_fetch_callbacks\u001b[0m\u001b[0;34m(\u001b[0m\u001b[0mfetched\u001b[0m\u001b[0;34m[\u001b[0m\u001b[0;34m-\u001b[0m\u001b[0mlen\u001b[0m\u001b[0;34m(\u001b[0m\u001b[0mself\u001b[0m\u001b[0;34m.\u001b[0m\u001b[0m_fetches\u001b[0m\u001b[0;34m)\u001b[0m\u001b[0;34m:\u001b[0m\u001b[0;34m]\u001b[0m\u001b[0;34m)\u001b[0m\u001b[0;34m\u001b[0m\u001b[0;34m\u001b[0m\u001b[0m\n\u001b[1;32m   3478\u001b[0m     output_structure = nest.pack_sequence_as(\n",
      "\u001b[0;32m~/.conda/envs/ml/lib/python3.7/site-packages/tensorflow_core/python/client/session.py\u001b[0m in \u001b[0;36m__call__\u001b[0;34m(self, *args, **kwargs)\u001b[0m\n\u001b[1;32m   1470\u001b[0m         ret = tf_session.TF_SessionRunCallable(self._session._session,\n\u001b[1;32m   1471\u001b[0m                                                \u001b[0mself\u001b[0m\u001b[0;34m.\u001b[0m\u001b[0m_handle\u001b[0m\u001b[0;34m,\u001b[0m \u001b[0margs\u001b[0m\u001b[0;34m,\u001b[0m\u001b[0;34m\u001b[0m\u001b[0;34m\u001b[0m\u001b[0m\n\u001b[0;32m-> 1472\u001b[0;31m                                                run_metadata_ptr)\n\u001b[0m\u001b[1;32m   1473\u001b[0m         \u001b[0;32mif\u001b[0m \u001b[0mrun_metadata\u001b[0m\u001b[0;34m:\u001b[0m\u001b[0;34m\u001b[0m\u001b[0;34m\u001b[0m\u001b[0m\n\u001b[1;32m   1474\u001b[0m           \u001b[0mproto_data\u001b[0m \u001b[0;34m=\u001b[0m \u001b[0mtf_session\u001b[0m\u001b[0;34m.\u001b[0m\u001b[0mTF_GetBuffer\u001b[0m\u001b[0;34m(\u001b[0m\u001b[0mrun_metadata_ptr\u001b[0m\u001b[0;34m)\u001b[0m\u001b[0;34m\u001b[0m\u001b[0;34m\u001b[0m\u001b[0m\n",
      "\u001b[0;31mInternalError\u001b[0m: 2 root error(s) found.\n  (0) Internal: Blas GEMM launch failed : a.shape=(1024, 7), b.shape=(7, 32), m=1024, n=32, k=7\n\t [[{{node encoder_1/dense_7/MatMul}}]]\n\t [[metrics_2/kl_loss_fn/Identity/_207]]\n  (1) Internal: Blas GEMM launch failed : a.shape=(1024, 7), b.shape=(7, 32), m=1024, n=32, k=7\n\t [[{{node encoder_1/dense_7/MatMul}}]]\n0 successful operations.\n0 derived errors ignored."
     ]
    }
   ],
   "source": [
    "list_loss = []\n",
    "list_val_loss = [] \n",
    "\n",
    "while learnrate > lr_limit:\n",
    "    if k < 4:\n",
    "        opt = Adam(learning_rate=learnrate, beta_1=0.9, beta_2=0.999, epsilon=1e-08, decay=0.0)\n",
    "        epochs = epochs_1\n",
    "    else:\n",
    "        opt = SGD(learning_rate=learnrate, decay=1e-6, momentum=0.9, nesterov=True)\n",
    "        epochs = epochs_2\n",
    "    cvae.compile(loss=vae_loss, optimizer=opt, metrics=[mse_loss_fn, kl_loss_fn])\n",
    "    cvae.fit([x_train, y_train], x_train,\n",
    "            epochs=epochs,\n",
    "            batch_size=batch_size,\n",
    "            validation_data=([x_test, y_test], x_test),\n",
    "            callbacks = [checkpointer, history, decoderSaver])\n",
    "    cvae.load_weights('outputs/models/%s/cbvae_LHCO2020_20d_e-6.hdf5'%(folder_name))\n",
    "\n",
    "    learnrate /= 2\n",
    "    k=k+1\n",
    "\n",
    "list_loss = np.append(list_loss, history.history['loss'])\n",
    "list_val_loss = np.append(list_val_loss, history.history['val_loss'])\n",
    "    \n",
    "# train the autoencoder\n",
    "cvae.save_weights('outputs/models/%s/cbvae_LHCO2020_20d_e-6.h5'%(folder_name))\n"
   ]
  },
  {
   "cell_type": "code",
   "execution_count": 23,
   "id": "6ce97743-819f-4ad7-b265-863d798240d9",
   "metadata": {},
   "outputs": [
    {
     "name": "stderr",
     "output_type": "stream",
     "text": [
      "/global/cfs/projectdirs/atlas/elham/conda/lib/python3.8/site-packages/keras/engine/training_v1.py:2356: UserWarning: `Model.state_updates` will be removed in a future version. This property should not be used in TensorFlow 2.0, as `updates` are applied automatically.\n",
      "  updates=self.state_updates,\n"
     ]
    }
   ],
   "source": [
    "# Predict the mean and std from the training dataset\n",
    "# latent mean\n",
    "latent_mean = encoder.predict([x_train, y_train])[0]\n",
    "# latent log variance --> variance --> std\n",
    "latent_logvar = encoder.predict([x_train, y_train])[1]\n",
    "latent_var = np.exp(latent_logvar)\n",
    "latent_std = np.sqrt(latent_var)\n",
    "\n",
    "# Save the latent mean and atd values\n",
    "np.savetxt('outputs/models/%s/cbvae_LHCO2020_latent_mean_20d_e-6.csv'%folder_name, latent_mean)\n",
    "np.savetxt('outputs/models/%s/cbvae_LHCO2020_latent_std_20d_e-6.csv'%folder_name, latent_std)\n",
    "\n",
    "# Save the loss values\n",
    "np.save(\"outputs/models/%s/cbvae_LHCO2020_val_loss.npy\"%folder_name, list_val_loss)\n",
    "np.save(\"outputs/models/%s/cbvae_LHCO2020_train_loss.npy\"%folder_name, list_loss)"
   ]
  },
  {
   "cell_type": "code",
   "execution_count": 24,
   "id": "bd46642a",
   "metadata": {},
   "outputs": [
    {
     "data": {
      "text/plain": [
       "array([1.44878777, 0.39771963, 0.3751677 , 0.35092922, 0.33497851,\n",
       "       0.31206627, 0.38703952, 0.31556758, 0.31097482, 0.29695632,\n",
       "       0.2948337 , 0.30349879, 0.28738432, 0.29035154, 0.30063606,\n",
       "       0.28417653, 0.28904413, 0.36474683, 0.31934964, 0.30763028,\n",
       "       0.27642078, 0.26232924, 0.30331878, 0.27517328, 0.27721729,\n",
       "       0.29564568, 0.29738049, 0.28267259, 0.24986311, 0.25816242,\n",
       "       0.27683339, 0.27688566, 0.25212226, 0.25394825, 0.26239371,\n",
       "       0.24757256, 0.28879086, 0.2393936 , 0.24085919, 0.26693329,\n",
       "       0.22971952, 0.2287277 , 0.25815253, 0.25915465, 0.24033146,\n",
       "       0.28054477, 0.23588254, 0.25699037, 0.2222717 , 0.23449427,\n",
       "       0.2325394 , 0.23069464, 0.22336635, 0.22883094, 0.23981587,\n",
       "       0.22774893, 0.24837769, 0.2340351 , 0.23024131, 0.22577997,\n",
       "       0.21588705, 0.22929635, 0.22515472, 0.26539125, 0.22455748,\n",
       "       0.25766193, 0.22287168, 0.24829821, 0.22002447, 0.23166081,\n",
       "       0.24540803, 0.22965476, 0.22891782, 0.22232464, 0.2346642 ,\n",
       "       0.24372842, 0.23212004, 0.22817732, 0.21433536, 0.22825286,\n",
       "       0.23726109, 0.24545265, 0.22086745, 0.21837104, 0.22168561,\n",
       "       0.22141504, 0.22220224, 0.22258805, 0.21318105, 0.2221022 ,\n",
       "       0.21822335, 0.23629155, 0.2238858 , 0.22115905, 0.22150021,\n",
       "       0.21750158, 0.22056117, 0.22346652, 0.23263595, 0.22605946,\n",
       "       0.2396046 , 0.22984301, 0.22471844, 0.21455601, 0.22674716,\n",
       "       0.23126109, 0.25018579, 0.22039414, 0.2151372 , 0.24740696,\n",
       "       0.21848758, 0.22353745, 0.21636024, 0.24493246, 0.2230026 ,\n",
       "       0.22034443, 0.21532447, 0.21824616, 0.21558368, 0.2181874 ,\n",
       "       0.22003133, 0.22191282, 0.21958738, 0.21753396, 0.22224969,\n",
       "       0.24572976, 0.22010117, 0.21938746, 0.22778842, 0.23308557,\n",
       "       0.22156478, 0.21337129, 0.2263434 , 0.21348055, 0.21409393,\n",
       "       0.21332886, 0.22624014, 0.21431426, 0.2296241 , 0.23142233,\n",
       "       0.22066144, 0.23082294, 0.2184404 , 0.22457859, 0.22115408,\n",
       "       0.22137887, 0.23787357, 0.21595581, 0.22024672, 0.22021934,\n",
       "       0.21735614, 0.22323057, 0.21858344, 0.21767218, 0.24305177,\n",
       "       0.2197258 , 0.21745251, 0.22056008, 0.22231685, 0.21978092,\n",
       "       0.21314028, 0.22515724, 0.23477938, 0.22359522, 0.21867107,\n",
       "       0.21716037, 0.23782838, 0.2212214 , 0.21923378, 0.22922776,\n",
       "       0.22032375, 0.21306984, 0.2216516 , 0.22504152, 0.21726045,\n",
       "       0.23059521, 0.21751548, 0.22041203, 0.23202505, 0.21691842,\n",
       "       0.21811014, 0.22552143, 0.21549385, 0.22147633, 0.22450129,\n",
       "       0.22186703, 0.23233488, 0.22378467, 0.22041077, 0.21308795,\n",
       "       0.21548945, 0.23450332, 0.2259575 , 0.21922789, 0.21457202,\n",
       "       0.21217454, 0.22662883, 0.22616994, 0.21186384, 0.22248801,\n",
       "       0.21677217, 0.22481216, 0.22227254, 0.2129358 , 0.21253239,\n",
       "       0.21796625, 0.22569807, 0.21833335, 0.21453941, 0.22765943,\n",
       "       0.22485052, 0.21398224, 0.2218743 , 0.21933937, 0.21991987,\n",
       "       0.21463381, 0.21810962, 0.23002812, 0.21922291, 0.2163746 ,\n",
       "       0.21227262, 0.21723915, 0.22123034, 0.23813136, 0.2121224 ,\n",
       "       0.21384492, 0.21838706, 0.21557964, 0.21538979, 0.21281051,\n",
       "       0.22418443, 0.21832381, 0.22476688, 0.21650127, 0.22676647,\n",
       "       0.21990906, 0.21588237, 0.21888489, 0.22599619, 0.21703474,\n",
       "       0.2122602 , 0.21306149, 0.21397168, 0.21508588, 0.21763807,\n",
       "       0.21083799, 0.21172045, 0.21218193, 0.21124415, 0.21148675,\n",
       "       0.21085903, 0.21178729, 0.2149056 , 0.21394112, 0.21454681,\n",
       "       0.2148855 , 0.21370839, 0.21407162, 0.21366896, 0.21436955,\n",
       "       0.21898762, 0.21321782, 0.21179042, 0.21364584, 0.21099851,\n",
       "       0.21275257, 0.21505102, 0.21133275, 0.21235295, 0.21523355,\n",
       "       0.21614662, 0.21295475, 0.21420187, 0.21953917, 0.21392362,\n",
       "       0.21077592, 0.21092631, 0.21196003, 0.21162184, 0.21064165,\n",
       "       0.21317178, 0.21865454, 0.21377906, 0.21158021, 0.21256088,\n",
       "       0.21199651, 0.21706955, 0.2118104 , 0.21342965, 0.21134957,\n",
       "       0.21712485, 0.21239924, 0.21038539, 0.21196554, 0.22030453,\n",
       "       0.2104655 , 0.21273423, 0.21353454, 0.21283843, 0.21654721,\n",
       "       0.2149132 , 0.21183282, 0.21293231, 0.21019106, 0.2109281 ,\n",
       "       0.21603299, 0.21162277, 0.21357113, 0.21067361, 0.2118485 ,\n",
       "       0.2134948 , 0.21839505, 0.21676933, 0.21206491, 0.21056878,\n",
       "       0.21399899, 0.21292764, 0.21063953, 0.21359716, 0.21136795,\n",
       "       0.21619583, 0.21295108, 0.21417228, 0.21513454, 0.21324388,\n",
       "       0.21595907, 0.21129953, 0.21326234, 0.21208154, 0.2134055 ,\n",
       "       0.21225766, 0.21469271, 0.21366712, 0.21800379, 0.21408071,\n",
       "       0.21223696, 0.2154956 , 0.21252142, 0.21340636, 0.21693105,\n",
       "       0.2129854 , 0.21307145, 0.21238208, 0.21201006, 0.21545918,\n",
       "       0.21061898, 0.2147691 , 0.21394677, 0.21359634, 0.21144567,\n",
       "       0.21031572, 0.21390158, 0.2116576 , 0.21227306, 0.2121387 ,\n",
       "       0.21464466, 0.21315958, 0.21324379, 0.2139082 , 0.21289032,\n",
       "       0.21653447, 0.21257148, 0.2127995 , 0.21168524, 0.21200267,\n",
       "       0.21145999, 0.21360622, 0.21095916, 0.21360468, 0.2119392 ,\n",
       "       0.21428263, 0.21161237, 0.2118058 , 0.21103557, 0.21197742,\n",
       "       0.21235526, 0.21053901, 0.21093573, 0.21469463, 0.2114483 ,\n",
       "       0.2145144 , 0.21332533, 0.21762231, 0.21088732, 0.2126072 ,\n",
       "       0.21344139, 0.21664168, 0.21105663, 0.21276575, 0.21266449,\n",
       "       0.21228384, 0.21771214, 0.21188525, 0.21075638, 0.2135933 ,\n",
       "       0.21979589, 0.21363582, 0.21655207, 0.21104973, 0.21217658,\n",
       "       0.21354671, 0.21160086, 0.21126456, 0.21042536, 0.21298364,\n",
       "       0.21164751, 0.21198652, 0.21203534, 0.21196171, 0.21482715,\n",
       "       0.2107406 , 0.21684526, 0.21560167, 0.21010029, 0.21238159,\n",
       "       0.21172826, 0.21751614, 0.21353329, 0.21606359, 0.21448356,\n",
       "       0.21241701, 0.2120096 , 0.21257049, 0.21780262, 0.2137475 ,\n",
       "       0.21243644, 0.21097484, 0.21167076, 0.21073559, 0.21189791,\n",
       "       0.21610725, 0.21184522, 0.21317267, 0.21436463, 0.21187338,\n",
       "       0.21669888, 0.21058045, 0.21671773, 0.21462403, 0.21188623,\n",
       "       0.21068096, 0.21039254, 0.21211258, 0.21325995, 0.21216589,\n",
       "       0.21293116, 0.21384067, 0.21740002, 0.21218878, 0.213079  ,\n",
       "       0.21374211, 0.21165129, 0.21142625, 0.21133875, 0.22059486,\n",
       "       0.21164796, 0.21951846, 0.21274874, 0.21003576, 0.21188684,\n",
       "       0.21066073, 0.21915   , 0.21243912, 0.21000177, 0.20963151,\n",
       "       0.21437957, 0.21043976, 0.2109576 , 0.21077261, 0.21493741,\n",
       "       0.21455632, 0.21279528, 0.21472375, 0.21086926, 0.21269843,\n",
       "       0.21034588, 0.21314482, 0.2108506 , 0.21033381, 0.21440075,\n",
       "       0.21022734, 0.21112897, 0.21131284, 0.21135538, 0.2099596 ,\n",
       "       0.21118241, 0.20982019, 0.20993997, 0.21142752, 0.21053407,\n",
       "       0.21069094, 0.21010799, 0.2103929 , 0.21052046, 0.21043635,\n",
       "       0.20977776, 0.21056401, 0.20967949, 0.21122581, 0.20975895,\n",
       "       0.2103092 , 0.21077435, 0.20978637, 0.21068155, 0.2123196 ,\n",
       "       0.2102286 , 0.21062587, 0.21189952, 0.21066823, 0.21001632,\n",
       "       0.21035312, 0.2109191 , 0.21121664, 0.21094528, 0.21016587,\n",
       "       0.21013406, 0.20937852, 0.21155676, 0.21073147, 0.21088225,\n",
       "       0.21143736, 0.20949096, 0.21072494, 0.21158022, 0.21028589,\n",
       "       0.21031969, 0.21104653, 0.21021673, 0.20985334, 0.21013281,\n",
       "       0.20990029, 0.21154136, 0.21112074, 0.2098091 , 0.21038034,\n",
       "       0.21035256, 0.21138698, 0.21055744, 0.21096352, 0.21106897,\n",
       "       0.2104071 , 0.21009014, 0.21214835, 0.20965403, 0.20999185,\n",
       "       0.2103763 , 0.21043246, 0.21017557, 0.21009615, 0.20955322,\n",
       "       0.21157997, 0.21042685, 0.21211191, 0.21183003, 0.21171074,\n",
       "       0.20980184, 0.21130366, 0.20993293, 0.21039888, 0.21159555,\n",
       "       0.21012343, 0.21180494, 0.21057156, 0.20953313, 0.21213156,\n",
       "       0.21073423, 0.21063639, 0.20991142, 0.21246339, 0.21025922,\n",
       "       0.21076181, 0.21097585, 0.21046716, 0.21329147, 0.20979394,\n",
       "       0.21118361, 0.20998098, 0.2103274 , 0.2119873 , 0.21009057,\n",
       "       0.21112339, 0.21107414, 0.21053241, 0.20966285, 0.2105788 ,\n",
       "       0.21209898, 0.21039596, 0.20964881, 0.20959   , 0.2098745 ,\n",
       "       0.21163154, 0.2096351 , 0.20942925, 0.21027944, 0.21079234,\n",
       "       0.20951005, 0.20959575, 0.21220067, 0.21051355, 0.20963646,\n",
       "       0.20998437, 0.21152931, 0.21099183, 0.21172418, 0.21031416,\n",
       "       0.21202797, 0.20942832, 0.21071728, 0.21105147, 0.20970179,\n",
       "       0.21046822, 0.20999376, 0.21015539, 0.20965926, 0.21002285,\n",
       "       0.20998339, 0.21058069, 0.20996055, 0.21076644, 0.21017336,\n",
       "       0.21003275, 0.21082759, 0.20950013, 0.2122946 , 0.21002293,\n",
       "       0.20995621, 0.20977218, 0.21015677, 0.21132553, 0.21038367,\n",
       "       0.21094953, 0.21010318, 0.21040416, 0.20959459, 0.21174336,\n",
       "       0.21101389, 0.20965103, 0.20988457, 0.21063906, 0.21182842,\n",
       "       0.20943953, 0.21036514, 0.21197454, 0.21066187, 0.2093706 ,\n",
       "       0.21140472, 0.20968732, 0.21102486, 0.21192039, 0.20985199,\n",
       "       0.21090071, 0.21108331, 0.20989438, 0.21087738, 0.20961333,\n",
       "       0.21130318, 0.21063498, 0.21095965, 0.20991643, 0.21092556,\n",
       "       0.21598797, 0.20992379, 0.20974007, 0.21028401, 0.21081495,\n",
       "       0.20996199, 0.20933143, 0.20953743, 0.20946526, 0.2114402 ,\n",
       "       0.20944745, 0.20991799, 0.20986448, 0.21070123, 0.2116749 ,\n",
       "       0.20960847, 0.20994635, 0.20978156, 0.21054787, 0.2099148 ,\n",
       "       0.2127057 , 0.209798  , 0.20998856, 0.21007129, 0.20966579,\n",
       "       0.21009063, 0.20967281, 0.2092694 , 0.21102188, 0.2114426 ,\n",
       "       0.21103034, 0.21110242, 0.20999208, 0.20966739, 0.21134619,\n",
       "       0.21166147, 0.20968697, 0.20950977, 0.20977298, 0.20952746,\n",
       "       0.21010531, 0.20972247, 0.2096723 , 0.20934053, 0.21000092,\n",
       "       0.20997099, 0.21008962, 0.21004344, 0.21006494, 0.2099126 ,\n",
       "       0.21017206, 0.20978923, 0.20956766, 0.20960632, 0.2100524 ,\n",
       "       0.20976978, 0.21005298, 0.20922567, 0.21230018, 0.20977776])"
      ]
     },
     "execution_count": 24,
     "metadata": {},
     "output_type": "execute_result"
    }
   ],
   "source": [
    "list_val_loss"
   ]
  },
  {
   "cell_type": "code",
   "execution_count": 25,
   "id": "44eb99e1",
   "metadata": {},
   "outputs": [
    {
     "data": {
      "text/plain": [
       "[13.278681783907617,\n",
       " 0.8296730808763605,\n",
       " 0.36899187236896663,\n",
       " 0.33845826936073514,\n",
       " 0.32466064385689547,\n",
       " 0.3156884111949358,\n",
       " 0.3103427709637853,\n",
       " 0.30765561189510054,\n",
       " 0.30137028253438386,\n",
       " 0.2996458234442568,\n",
       " 0.29500199044628983,\n",
       " 0.29328499526719837,\n",
       " 0.290397999525488,\n",
       " 0.2878762136436223,\n",
       " 0.2852416436561498,\n",
       " 0.282608470999165,\n",
       " 0.2799879879362657,\n",
       " 0.2789075015700355,\n",
       " 0.27827135735884445,\n",
       " 0.27333695917340955,\n",
       " 0.27166369593491224,\n",
       " 0.2685873761206054,\n",
       " 0.2665443572862018,\n",
       " 0.26523757158479777,\n",
       " 0.2611159124906901,\n",
       " 0.2589798917819063,\n",
       " 0.25750073596497014,\n",
       " 0.25492993288453514,\n",
       " 0.252474549281723,\n",
       " 0.24958284844938214,\n",
       " 0.24772592800098286,\n",
       " 0.24630876141703384,\n",
       " 0.24422232044256348,\n",
       " 0.24264915124773617,\n",
       " 0.24026492997633167,\n",
       " 0.23966400890720244,\n",
       " 0.23666467577192002,\n",
       " 0.23649889202016178,\n",
       " 0.23374078558089073,\n",
       " 0.2329941704395338,\n",
       " 0.23259171074797919,\n",
       " 0.23012795187962673,\n",
       " 0.22924769374023288,\n",
       " 0.22917634444363633,\n",
       " 0.22800468529123782,\n",
       " 0.22619803035235447,\n",
       " 0.22675224181239845,\n",
       " 0.22361124247083194,\n",
       " 0.2241497130656148,\n",
       " 0.2223356944400292,\n",
       " 0.22235942189128735,\n",
       " 0.22187046605278393,\n",
       " 0.2204285192057907,\n",
       " 0.2202620948043188,\n",
       " 0.22011310070951445,\n",
       " 0.22000391186999463,\n",
       " 0.2193526694519017,\n",
       " 0.21897131278802534,\n",
       " 0.219227256453525,\n",
       " 0.21802496013686734,\n",
       " 0.21810207078906726,\n",
       " 0.21790382242331605,\n",
       " 0.2177638152634547,\n",
       " 0.21762643204996193,\n",
       " 0.21914547514598204,\n",
       " 0.21714491852016402,\n",
       " 0.21781494255547645,\n",
       " 0.2165274805847525,\n",
       " 0.21828943930672862,\n",
       " 0.2167014527485562,\n",
       " 0.21683528002480423,\n",
       " 0.21755111659085435,\n",
       " 0.21634295380311963,\n",
       " 0.2164694881661536,\n",
       " 0.21676864520114242,\n",
       " 0.216379896200506,\n",
       " 0.21658324859550562,\n",
       " 0.21626040524404574,\n",
       " 0.21635280149129552,\n",
       " 0.21589916199885406,\n",
       " 0.2159749068176461,\n",
       " 0.21635178527034102,\n",
       " 0.21602890162846206,\n",
       " 0.21546116836354715,\n",
       " 0.2157426043058378,\n",
       " 0.21521898833322012,\n",
       " 0.21584414343567607,\n",
       " 0.21549945441717563,\n",
       " 0.21562038562384023,\n",
       " 0.21487769705147847,\n",
       " 0.21561522194198446,\n",
       " 0.21540914109661333,\n",
       " 0.21535959676283056,\n",
       " 0.2152137370046151,\n",
       " 0.215079264831416,\n",
       " 0.2147136725620404,\n",
       " 0.21516622546478492,\n",
       " 0.21497690014906623,\n",
       " 0.21494653237535172,\n",
       " 0.21511709896884573,\n",
       " 0.21460700915803327,\n",
       " 0.2149891054482737,\n",
       " 0.2150407529409956,\n",
       " 0.2139933187359917,\n",
       " 0.21447315122218755,\n",
       " 0.21473479298621603,\n",
       " 0.21464863603105172,\n",
       " 0.21506214480493147,\n",
       " 0.21413446183299814,\n",
       " 0.2142905792842783,\n",
       " 0.21492985630962624,\n",
       " 0.2140110275994232,\n",
       " 0.2147002750432196,\n",
       " 0.2139710347475964,\n",
       " 0.21469485273950736,\n",
       " 0.21384404556240932,\n",
       " 0.21405988853866473,\n",
       " 0.21399240016515997,\n",
       " 0.2140386164974566,\n",
       " 0.21411900052789964,\n",
       " 0.21381206150543217,\n",
       " 0.2141895839917516,\n",
       " 0.21390417791180852,\n",
       " 0.21412000025619365,\n",
       " 0.21357436432902904,\n",
       " 0.21381905413205932,\n",
       " 0.21430261350142416,\n",
       " 0.21341843706018693,\n",
       " 0.21390161640035413,\n",
       " 0.21415347602931487,\n",
       " 0.21367476502110988,\n",
       " 0.21365461357778362,\n",
       " 0.21356989644691354,\n",
       " 0.21385244621524016,\n",
       " 0.21360010974357674,\n",
       " 0.21358138439803462,\n",
       " 0.2133010099438095,\n",
       " 0.21369255750055557,\n",
       " 0.21369023238171567,\n",
       " 0.21355951335216933,\n",
       " 0.2134490932708981,\n",
       " 0.2135727783744252,\n",
       " 0.2135259735355541,\n",
       " 0.21315083367399112,\n",
       " 0.21355831077722837,\n",
       " 0.21325336263296196,\n",
       " 0.2135642713284201,\n",
       " 0.21344821233829459,\n",
       " 0.21315674479423988,\n",
       " 0.2132965052271744,\n",
       " 0.21319324110012414,\n",
       " 0.21333060758466094,\n",
       " 0.21337454863949995,\n",
       " 0.21307303452843077,\n",
       " 0.2133518888713503,\n",
       " 0.21361258455438303,\n",
       " 0.21292875575853049,\n",
       " 0.21312887535571723,\n",
       " 0.21323954474337234,\n",
       " 0.21307445433682662,\n",
       " 0.2131706331848342,\n",
       " 0.21298699461371715,\n",
       " 0.2133265618974127,\n",
       " 0.21305502270219556,\n",
       " 0.21321363108123542,\n",
       " 0.2128049247089428,\n",
       " 0.21315638860226785,\n",
       " 0.21334835304995325,\n",
       " 0.21304782029071181,\n",
       " 0.21253595094126992,\n",
       " 0.21314048092814603,\n",
       " 0.2130307805129342,\n",
       " 0.21282307250549795,\n",
       " 0.21304187661182722,\n",
       " 0.21289767566153317,\n",
       " 0.21279759768091722,\n",
       " 0.21321546963915147,\n",
       " 0.21275262757434243,\n",
       " 0.2129958962173799,\n",
       " 0.21275737159544852,\n",
       " 0.2128602508076159,\n",
       " 0.2127291211431986,\n",
       " 0.2128175755934668,\n",
       " 0.21263983227133518,\n",
       " 0.21292636333980833,\n",
       " 0.2128545846964942,\n",
       " 0.2128341809367668,\n",
       " 0.21294704778883125,\n",
       " 0.21285329415468576,\n",
       " 0.2127516981483169,\n",
       " 0.21304352886258668,\n",
       " 0.21279363525993492,\n",
       " 0.21282480142046908,\n",
       " 0.2125563547985024,\n",
       " 0.21279778181574735,\n",
       " 0.21261824888180023,\n",
       " 0.21265394724474976,\n",
       " 0.21287293926481826,\n",
       " 0.21286274335412028,\n",
       " 0.2122806451615096,\n",
       " 0.21269371443959217,\n",
       " 0.21248347211024055,\n",
       " 0.21294794680630996,\n",
       " 0.21227498092396924,\n",
       " 0.21274520084927379,\n",
       " 0.2124509487939492,\n",
       " 0.2126410766320607,\n",
       " 0.21269418262366224,\n",
       " 0.21255492056946546,\n",
       " 0.21235746932395205,\n",
       " 0.2129743257262329,\n",
       " 0.21252622684322464,\n",
       " 0.21236722021635923,\n",
       " 0.2127917154088961,\n",
       " 0.2125466027522806,\n",
       " 0.2121535996271419,\n",
       " 0.2124960897048856,\n",
       " 0.212750364363186,\n",
       " 0.21253668099210823,\n",
       " 0.21259883232572338,\n",
       " 0.21253157801934824,\n",
       " 0.21218371229126812,\n",
       " 0.21244181439075216,\n",
       " 0.2124386053858986,\n",
       " 0.21251709828126825,\n",
       " 0.2126150786608219,\n",
       " 0.21229779208221597,\n",
       " 0.21237250719243225,\n",
       " 0.21229260033706157,\n",
       " 0.21209816107057627,\n",
       " 0.21254951566010435,\n",
       " 0.21242762657803022,\n",
       " 0.21226140861047268,\n",
       " 0.21270230921426153,\n",
       " 0.21223375128381175,\n",
       " 0.21256782235568816,\n",
       " 0.21226988275423433,\n",
       " 0.21217931631514206,\n",
       " 0.21226594070223725,\n",
       " 0.21244686602566143,\n",
       " 0.21341890953036521,\n",
       " 0.21064402371390226,\n",
       " 0.21076436588497313,\n",
       " 0.21088867998610797,\n",
       " 0.210917840497217,\n",
       " 0.21095517057998875,\n",
       " 0.2109360891235549,\n",
       " 0.21099111993626965,\n",
       " 0.21085679807968807,\n",
       " 0.2109082812707792,\n",
       " 0.21094879849035747,\n",
       " 0.2108072411040233,\n",
       " 0.21087893919398315,\n",
       " 0.210941565242509,\n",
       " 0.21100698487089972,\n",
       " 0.21077945366968587,\n",
       " 0.2109601333805308,\n",
       " 0.2109058830331433,\n",
       " 0.21087726511503124,\n",
       " 0.21084286750470407,\n",
       " 0.21087804151951642,\n",
       " 0.21087450410447384,\n",
       " 0.2109446755295134,\n",
       " 0.21083393369835404,\n",
       " 0.21085011761046196,\n",
       " 0.21085436021997936,\n",
       " 0.21087938613951138,\n",
       " 0.21088676537965406,\n",
       " 0.21084569047835977,\n",
       " 0.21076527409123644,\n",
       " 0.2108576889216477,\n",
       " 0.21082535512323392,\n",
       " 0.2107522023797178,\n",
       " 0.21070857142534374,\n",
       " 0.21087505225823916,\n",
       " 0.2107098815892446,\n",
       " 0.2107422765434412,\n",
       " 0.2108152105240951,\n",
       " 0.21077347997537477,\n",
       " 0.21082164483494029,\n",
       " 0.21077483534992855,\n",
       " 0.21083679836902325,\n",
       " 0.21068423925752877,\n",
       " 0.21084004067266862,\n",
       " 0.21082474381445984,\n",
       " 0.21068456433901306,\n",
       " 0.21075489251525772,\n",
       " 0.21076396002233463,\n",
       " 0.21082584008040697,\n",
       " 0.2107291873718427,\n",
       " 0.21065102268494498,\n",
       " 0.21090081312744047,\n",
       " 0.21080527437207708,\n",
       " 0.21050331122819807,\n",
       " 0.2106951493327184,\n",
       " 0.21089825794919345,\n",
       " 0.21057876309036197,\n",
       " 0.21077788867634112,\n",
       " 0.21079962454450618,\n",
       " 0.21075343295204985,\n",
       " 0.21082646823522652,\n",
       " 0.21067091822776232,\n",
       " 0.21066433270355728,\n",
       " 0.2106568532719903,\n",
       " 0.2107105640163665,\n",
       " 0.21080012070250767,\n",
       " 0.21074639508785234,\n",
       " 0.21067583245198368,\n",
       " 0.21084768797852743,\n",
       " 0.21055348348855335,\n",
       " 0.21066190959834977,\n",
       " 0.21073621663157047,\n",
       " 0.21078160330699244,\n",
       " 0.21079926713376584,\n",
       " 0.21057209332427423,\n",
       " 0.2106572420757773,\n",
       " 0.21066366693131613,\n",
       " 0.21065395644036633,\n",
       " 0.21059074375896653,\n",
       " 0.21078097207907986,\n",
       " 0.21060157815727618,\n",
       " 0.21058534433629852,\n",
       " 0.21072924187030548,\n",
       " 0.2106526796197322,\n",
       " 0.2105927617566854,\n",
       " 0.2107377064944629,\n",
       " 0.21071446728565088,\n",
       " 0.2106687555529793,\n",
       " 0.21065627291500114,\n",
       " 0.2106649449351267,\n",
       " 0.2106959633093752,\n",
       " 0.21062045232180487,\n",
       " 0.2106639138787397,\n",
       " 0.2106481165664054,\n",
       " 0.21061720273380846,\n",
       " 0.21062485330803868,\n",
       " 0.2105887158684355,\n",
       " 0.21060793989286156,\n",
       " 0.21064397993622475,\n",
       " 0.21062625639737514,\n",
       " 0.21079906646683802,\n",
       " 0.21054129311524844,\n",
       " 0.2105952448597772,\n",
       " 0.21065658585297908,\n",
       " 0.21059534928126897,\n",
       " 0.21045502182094938,\n",
       " 0.21065189394571002,\n",
       " 0.21064438156667936,\n",
       " 0.21060167870622892,\n",
       " 0.2106358791241583,\n",
       " 0.21055247959606965,\n",
       " 0.2104959242413379,\n",
       " 0.21065110995434286,\n",
       " 0.2106347921562455,\n",
       " 0.21058255463389117,\n",
       " 0.21066494601802588,\n",
       " 0.21060959495871767,\n",
       " 0.21062046618418412,\n",
       " 0.21036005784550135,\n",
       " 0.210618163904179,\n",
       " 0.2105122946666418,\n",
       " 0.2106963744495971,\n",
       " 0.21049655730977368,\n",
       " 0.2105705103088319,\n",
       " 0.2105089531424195,\n",
       " 0.2105929936125879,\n",
       " 0.21058390820217224,\n",
       " 0.21055438257647058,\n",
       " 0.2105121865801111,\n",
       " 0.21063450585324103,\n",
       " 0.21066982100804835,\n",
       " 0.2105524652189794,\n",
       " 0.21047614112269916,\n",
       " 0.21054838670630535,\n",
       " 0.210453688078952,\n",
       " 0.21052206135003684,\n",
       " 0.21054717262648476,\n",
       " 0.2105384444140034,\n",
       " 0.21062426604944529,\n",
       " 0.210671748656301,\n",
       " 0.21041018548545054,\n",
       " 0.21059493465390786,\n",
       " 0.21041639868791712,\n",
       " 0.21063769961690282,\n",
       " 0.21050787387508,\n",
       " 0.2106097219225943,\n",
       " 0.2105294573355006,\n",
       " 0.21055797881262994,\n",
       " 0.2104053857329541,\n",
       " 0.2105783189218644,\n",
       " 0.21050464108671654,\n",
       " 0.21056819016170586,\n",
       " 0.21058749750205952,\n",
       " 0.21043544259501296,\n",
       " 0.21058807274070462,\n",
       " 0.21050311547485667,\n",
       " 0.210581061716268,\n",
       " 0.21060133326264524,\n",
       " 0.21045475849360273,\n",
       " 0.21054325945058672,\n",
       " 0.21060575442291382,\n",
       " 0.21050349721654807,\n",
       " 0.21048670854641913,\n",
       " 0.21035117460799097,\n",
       " 0.2104756849888931,\n",
       " 0.21050572343436286,\n",
       " 0.21048563738138798,\n",
       " 0.21059726361032086,\n",
       " 0.21039237077318582,\n",
       " 0.21041405702100188,\n",
       " 0.2105909573103019,\n",
       " 0.210452477812768,\n",
       " 0.21053758614761112,\n",
       " 0.21046497557204633,\n",
       " 0.2103705387363725,\n",
       " 0.21045750170890856,\n",
       " 0.21040812241744908,\n",
       " 0.21054027717405083,\n",
       " 0.2103754437375886,\n",
       " 0.2105020969753962,\n",
       " 0.21051727861990574,\n",
       " 0.2104937474731563,\n",
       " 0.21042294007977785,\n",
       " 0.21049608110566792,\n",
       " 0.21051243212174506,\n",
       " 0.21036558262346614,\n",
       " 0.21053302138650032,\n",
       " 0.2104473607630342,\n",
       " 0.21052772252870305,\n",
       " 0.2103641303166783,\n",
       " 0.21046629002032652,\n",
       " 0.21051302902722682,\n",
       " 0.21042593119448558,\n",
       " 0.21037524146518105,\n",
       " 0.21044727954410591,\n",
       " 0.210503282351175,\n",
       " 0.2104648019266543,\n",
       " 0.2105029787695675,\n",
       " 0.2105113095311653,\n",
       " 0.210507089880881,\n",
       " 0.2103895036951168,\n",
       " 0.21055289010490838,\n",
       " 0.21036422830709994,\n",
       " 0.21041712344641658,\n",
       " 0.21052112320683397,\n",
       " 0.21044342032850002,\n",
       " 0.210419775249329,\n",
       " 0.21038432974375332,\n",
       " 0.21049663950181483,\n",
       " 0.21035381474782774,\n",
       " 0.21040724090190194,\n",
       " 0.2104362123013995,\n",
       " 0.2102535371850611,\n",
       " 0.21038141442689026,\n",
       " 0.2104303778585678,\n",
       " 0.2105427121553189,\n",
       " 0.21041359315687322,\n",
       " 0.2105291605212975,\n",
       " 0.21033471864778194,\n",
       " 0.21033337722241108,\n",
       " 0.2104867198484787,\n",
       " 0.21036726774976025,\n",
       " 0.21048331330779857,\n",
       " 0.21034632299157566,\n",
       " 0.21039995817318052,\n",
       " 0.2104182412478026,\n",
       " 0.21043612088015284,\n",
       " 0.21032274391673073,\n",
       " 0.2104691269498423,\n",
       " 0.2103845018061714,\n",
       " 0.21056118609613644,\n",
       " 0.21037520146304425,\n",
       " 0.21029340724983997,\n",
       " 0.2104559503533625,\n",
       " 0.21037515799022277,\n",
       " 0.21033705416275794,\n",
       " 0.21037123476817537,\n",
       " 0.21049725135710598,\n",
       " 0.21025242830662358,\n",
       " 0.210302695402303,\n",
       " 0.21028133892736184,\n",
       " 0.20974504555439302,\n",
       " 0.20983071600425696,\n",
       " 0.20977531476490713,\n",
       " 0.20984282872461743,\n",
       " 0.20978265551327235,\n",
       " 0.20982547235908505,\n",
       " 0.20977626370765048,\n",
       " 0.20980388412318285,\n",
       " 0.209777910514433,\n",
       " 0.20977349181736657,\n",
       " 0.20980082290625443,\n",
       " 0.2097851047465821,\n",
       " 0.2097769291436766,\n",
       " 0.20978554977649844,\n",
       " 0.20976250949743866,\n",
       " 0.20975416026988813,\n",
       " 0.2097345881527281,\n",
       " 0.2097742784845332,\n",
       " 0.20984853172457063,\n",
       " 0.20973424291598866,\n",
       " 0.20978208294538903,\n",
       " 0.2097695110677315,\n",
       " 0.20978261395439346,\n",
       " 0.2097319960196824,\n",
       " 0.20977035959041598,\n",
       " 0.20975877198833648,\n",
       " 0.209673103948108,\n",
       " 0.20982718618605256,\n",
       " 0.20972026007925568,\n",
       " 0.20982782941555114,\n",
       " 0.2097686645809082,\n",
       " 0.20983121080869413,\n",
       " 0.20971306967713804,\n",
       " 0.2097784118349554,\n",
       " 0.20969130019984028,\n",
       " 0.20972000661550838,\n",
       " 0.2097718040958763,\n",
       " 0.2097598900958305,\n",
       " 0.20972980745207906,\n",
       " 0.2097396855862716,\n",
       " 0.2096777123004414,\n",
       " 0.20977297454029745,\n",
       " 0.20975514580218124,\n",
       " 0.20980871290189612,\n",
       " 0.2097753527000026,\n",
       " 0.20976944360416838,\n",
       " 0.20969593677292314,\n",
       " 0.20980528603455945,\n",
       " 0.2097400307308418,\n",
       " 0.20974799534359606,\n",
       " 0.209744037258801,\n",
       " 0.20969271532614595,\n",
       " 0.20974966898799324,\n",
       " 0.20966625228452995,\n",
       " 0.20972314007189888,\n",
       " 0.2096956731569067,\n",
       " 0.20963427432288484,\n",
       " 0.20971180570874762,\n",
       " 0.20971325517304434,\n",
       " 0.20974415848445668,\n",
       " 0.20970800444985888,\n",
       " 0.20970381831009927,\n",
       " 0.20973526360682354,\n",
       " 0.2096753142994885,\n",
       " 0.20969571793595596,\n",
       " 0.20969653336609667,\n",
       " 0.20965938358561964,\n",
       " 0.20969657844120831,\n",
       " 0.20967614970048626,\n",
       " 0.20967088980061863,\n",
       " 0.2097739600153574,\n",
       " 0.2097423280619369,\n",
       " 0.2096702504481304,\n",
       " 0.20971189473359397,\n",
       " 0.20975723887413278,\n",
       " 0.20973791836448752,\n",
       " 0.20968790846740687,\n",
       " 0.20967958017747693,\n",
       " 0.20968065229028332,\n",
       " 0.20968238344301157,\n",
       " 0.2096842847212326,\n",
       " 0.20971033980836776,\n",
       " 0.20966920767578667,\n",
       " 0.20967468632769584,\n",
       " 0.20962527828971683,\n",
       " 0.20962418775990402,\n",
       " 0.20970384831205213,\n",
       " 0.20962618115263823,\n",
       " 0.20962260510953176,\n",
       " 0.20970612027484506,\n",
       " 0.20968095383740085,\n",
       " 0.20972527142040728,\n",
       " 0.20968278631166995,\n",
       " 0.20970854712825848,\n",
       " 0.20970644037939892,\n",
       " 0.2097176780613074,\n",
       " 0.20960503852786705,\n",
       " 0.2097100162027837,\n",
       " 0.20964802541788358,\n",
       " 0.20961163416368186,\n",
       " 0.20963015978059216,\n",
       " 0.2096280635905063,\n",
       " 0.20969857386449772,\n",
       " 0.20959392570362492,\n",
       " 0.20963516268581375,\n",
       " 0.20972072344998677,\n",
       " 0.20964154398527474,\n",
       " 0.20961231583195758,\n",
       " 0.20961050397349174,\n",
       " 0.20971233557073385,\n",
       " 0.20977093607555172,\n",
       " 0.20961596579747926,\n",
       " 0.209660848711444,\n",
       " 0.2095501518617962,\n",
       " 0.20964286104866345,\n",
       " 0.20966818740615212,\n",
       " 0.20957505770695342,\n",
       " 0.2096303848605351,\n",
       " 0.2095559048971879,\n",
       " 0.20959052052831348,\n",
       " 0.20965864470787726,\n",
       " 0.2096815328260106,\n",
       " 0.20957465966009975,\n",
       " 0.20961546881615484,\n",
       " 0.2095856607509556,\n",
       " 0.20959670944609243,\n",
       " 0.2095756005830161,\n",
       " 0.20958945411909005,\n",
       " 0.20955678994885032,\n",
       " 0.2095700801710177,\n",
       " 0.20954977897961985,\n",
       " 0.2095311613509776,\n",
       " 0.20949648586347075,\n",
       " 0.20962307720319334,\n",
       " 0.20967546939406176,\n",
       " 0.20953973951106789,\n",
       " 0.2095823761703936,\n",
       " 0.20954430161641077,\n",
       " 0.20956064316719558,\n",
       " 0.2096080154324146,\n",
       " 0.2095578275461236,\n",
       " 0.2096235881001954,\n",
       " 0.20951719736699811,\n",
       " 0.2095950748200476,\n",
       " 0.2095428065101556,\n",
       " 0.20958706353913237,\n",
       " 0.20961629415639688,\n",
       " 0.20949329049340518,\n",
       " 0.2096237988063867,\n",
       " 0.20961482923896682,\n",
       " 0.2095507042831286,\n",
       " 0.20952645245675616,\n",
       " 0.20953785464708002,\n",
       " 0.20956638619393755,\n",
       " 0.20955713817772173,\n",
       " 0.2095101182625793,\n",
       " 0.20952392260346914,\n",
       " 0.2095288628038566,\n",
       " 0.20953955339668567,\n",
       " 0.20961668705095413,\n",
       " 0.20955129272385511,\n",
       " 0.2095409020046995,\n",
       " 0.20957646952676204,\n",
       " 0.20942990142785736,\n",
       " 0.209517140775441,\n",
       " 0.20951618917520085,\n",
       " 0.20954550363630928,\n",
       " 0.20957109356161335,\n",
       " 0.2095380008185856,\n",
       " 0.20951455460334867,\n",
       " 0.20951294483199798,\n",
       " 0.209585664690058,\n",
       " 0.20956939269116123,\n",
       " 0.2095073387220992,\n",
       " 0.20950751855916577,\n",
       " 0.20950142188321397,\n",
       " 0.20948788155575335,\n",
       " 0.2095518647121036,\n",
       " 0.209475716873343,\n",
       " 0.20955405299199106,\n",
       " 0.20955119343608883,\n",
       " 0.20949599337241598,\n",
       " 0.2095194717430632,\n",
       " 0.2094694571770679,\n",
       " 0.2094721534313101,\n",
       " 0.20956322376504596,\n",
       " 0.20952527973171264,\n",
       " 0.20954091074554515,\n",
       " 0.2094764473973982,\n",
       " 0.2094752343921601,\n",
       " 0.2095113452641282,\n",
       " 0.20949960858542346,\n",
       " 0.20945752547915633,\n",
       " 0.2095081910780345,\n",
       " 0.20948344940012933,\n",
       " 0.20952226498546103,\n",
       " 0.20955348180259237,\n",
       " 0.20948816235453707,\n",
       " 0.20947793800959796,\n",
       " 0.20948098086943592,\n",
       " 0.20949494983517486,\n",
       " 0.2094272057831782,\n",
       " 0.20944089250076314,\n",
       " 0.20951065000524136,\n",
       " 0.20943801039225157,\n",
       " 0.20951118140569677,\n",
       " 0.20948141422181926,\n",
       " 0.20944189939086363,\n",
       " 0.20946282038834219,\n",
       " 0.20951710781673938,\n",
       " 0.2094800718008596,\n",
       " 0.20943888497382193,\n",
       " 0.2094322756260438,\n",
       " 0.20951341934072026,\n",
       " 0.20945026257036928,\n",
       " 0.20947015326008256,\n",
       " 0.20944685394404702,\n",
       " 0.2094823428016882,\n",
       " 0.20953224945979773,\n",
       " 0.20942322241122088,\n",
       " 0.20945142111452503,\n",
       " 0.20950744935839724,\n",
       " 0.20940828192777253,\n",
       " 0.20950055144994512,\n",
       " 0.20943653848191246,\n",
       " 0.20948401088424395,\n",
       " 0.20944502713091295,\n",
       " 0.2094823276180575,\n",
       " 0.20950124821585275,\n",
       " 0.20949612016727592,\n",
       " 0.20940103363067208,\n",
       " 0.20945115733533445,\n",
       " 0.20950240375404516,\n",
       " 0.20950154840872032,\n",
       " 0.20948117617501724,\n",
       " 0.20936788016441904,\n",
       " 0.20944490351368603,\n",
       " 0.20946516039445232,\n",
       " 0.2095087569781349]"
      ]
     },
     "execution_count": 25,
     "metadata": {},
     "output_type": "execute_result"
    }
   ],
   "source": [
    "history.history['loss']"
   ]
  },
  {
   "cell_type": "code",
   "execution_count": 26,
   "id": "124a5452",
   "metadata": {},
   "outputs": [
    {
     "data": {
      "text/plain": [
       "<matplotlib.legend.Legend at 0x15544c003eb0>"
      ]
     },
     "execution_count": 26,
     "metadata": {},
     "output_type": "execute_result"
    },
    {
     "data": {
      "image/png": "[encoded data removed]",
      "text/plain": [
       "<Figure size 800x600 with 1 Axes>"
      ]
     },
     "metadata": {},
     "output_type": "display_data"
    }
   ],
   "source": [
    "# plot loss function\n",
    "\n",
    "fig, ax = plt.subplots(1,1, figsize=(8,6))\n",
    "\n",
    "plt.plot(np.arange(0,epochs_1*iterations), list_loss, label='training',c='blue',linewidth = 3)\n",
    "plt.plot(np.arange(0,epochs_1*iterations), list_val_loss, label='validation',c='red',linewidth = 3)\n",
    "\n",
    "plt.title(\"Loss vs. epoch\", fontsize=25)\n",
    "\n",
    "ax.set_ylabel('loss', fontsize=25,horizontalalignment='right',y=1)\n",
    "ax.set_xlabel('epoch', fontsize=25,horizontalalignment='right',x=1)\n",
    "plt.legend(loc='best', prop={'size':20}, edgecolor = \"w\",fancybox=False, framealpha=0)"
   ]
  },
  {
   "cell_type": "code",
   "execution_count": 27,
   "id": "8c25d662",
   "metadata": {},
   "outputs": [],
   "source": [
    "# Read the mean values\n",
    "filename = 'outputs/models/%s/cbvae_LHCO2020_latent_mean_20d_e-6.csv'%folder_name\n",
    "means_df = pd.read_csv(filename, sep=' ', header=None)\n",
    "mean = means_df.values\n",
    "\n",
    "# Read the std values\n",
    "filename = 'outputs/models/%s/cbvae_LHCO2020_latent_std_20d_e-6.csv'%folder_name\n",
    "stds_df = pd.read_csv(filename, sep=' ', header=None)\n",
    "std = stds_df.values\n",
    "\n",
    "z_samples = np.empty([cond_data.shape[0],latent_dim])"
   ]
  },
  {
   "cell_type": "code",
   "execution_count": 30,
   "id": "36578f57",
   "metadata": {},
   "outputs": [],
   "source": [
    "l=0\n",
    "for i in range(0,cond_data.shape[0]):\n",
    "    for j in range(0,latent_dim):\n",
    "        z_samples[l,j] = np.random.normal(mean[i%trainsize,j], 0.05+std[i%trainsize,j])\n",
    "    l=l+1\n",
    "new_events = decoder.predict([z_samples, np.reshape(cond_data, [-1, 1])])\n",
    "for i in range(0,new_events.shape[1]):\n",
    "    new_events[:,i]=new_events[:,i]*feature_max[i]\n",
    "\n",
    "os.system(\"mkdir -p ./outputs/gen_dataset/%s/\"%folder_name)\n",
    "np.savetxt('outputs/gen_dataset/%s/LHCO2020_cB-VAE_events_SB.csv'%folder_name, new_events)"
   ]
  },
  {
   "cell_type": "code",
   "execution_count": 31,
   "id": "73d0b6a1",
   "metadata": {},
   "outputs": [
    {
     "name": "stdout",
     "output_type": "stream",
     "text": [
      "shape of gen_SR:  (878648, 6)\n"
     ]
    }
   ],
   "source": [
    "file_gen_SB = 'outputs/gen_dataset/%s/LHCO2020_cB-VAE_events_SB.csv'%folder_name\n",
    "gen_SB = pd.read_csv(file_gen_SB, delimiter = ' ', header=None, index_col=False)\n",
    "gen_SB = gen_SB.to_numpy()\n",
    "print(\"shape of gen_SR: \", gen_SB.shape)\n"
   ]
  },
  {
   "cell_type": "code",
   "execution_count": 32,
   "id": "9ccc8106",
   "metadata": {},
   "outputs": [],
   "source": [
    "# variables_names =  train_features\n",
    "# vnames = train_features\n",
    "\n",
    "plotting_ranges = [(0,0.8), (0,1), (0,1), (0,1), (0,1), (0,1)]\n",
    "\n",
    "def fake_vs_real(gen_data,real_data,doLog,names):\n",
    "    \n",
    "    plt.figure(figsize=(20,15))\n",
    "    colors = [\"steelblue\", \"darkturquoise\"]\n",
    "    for p in range(0,nFeat):\n",
    "        R = np.linspace(plotting_ranges[p][0],plotting_ranges[p][1],51)\n",
    "        plt.subplot((nFeat+1)//2, 2, p+1)\n",
    "        for rd in real_data: b_hist_y, b_hist_x, _ = plt.hist(rd[:,p], R, color=\"black\", histtype='step', linewidth=2, label=\"SB Bkg\", density=True)        \n",
    "        for i,n in enumerate(gen_data): plt.hist(n[:,p], R, color=colors[i], histtype='stepfilled', alpha=0.5, linewidth=2, label=\"Generated Bkg %s\"%names[i], density=True)\n",
    "        # s_hist_y, s_hist_x, _ = plt.hist(sig_data[:,p], R, color=\"r\", histtype='step', linewidth=3, label=\"Signal\", density=True)\n",
    "        plt.xlabel(\"%s\"%feature_labels[p])\n",
    "        if doLog == True: plt.yscale('log')\n",
    "        plt.ylabel(\"Number of Events / bin\")\n",
    "        plt.legend(fontsize=\"large\")\n",
    "        ymax_b = np.max(b_hist_y)\n",
    "        # ymax_s = np.max(s_hist_y)\n",
    "        plt.ylim(0,ymax_b*1.5)\n",
    "#     plt.savefig(\"fake_gen_compare_cbvae_6var_dynamicbeta.png\")"
   ]
  },
  {
   "cell_type": "code",
   "execution_count": 36,
   "id": "a14facb4",
   "metadata": {},
   "outputs": [
    {
     "data": {
      "text/plain": [
       "(878648,)"
      ]
     },
     "execution_count": 36,
     "metadata": {},
     "output_type": "execute_result"
    }
   ],
   "source": [
    "cond_data.shape"
   ]
  },
  {
   "cell_type": "code",
   "execution_count": 33,
   "id": "d40a0b2e",
   "metadata": {},
   "outputs": [
    {
     "name": "stderr",
     "output_type": "stream",
     "text": [
      "/tmp/ipykernel_59556/2461113566.py:22: UserWarning: Attempted to set non-positive bottom ylim on a log-scaled axis.\n",
      "Invalid limit will be ignored.\n",
      "  plt.ylim(0,ymax_b*1.5)\n"
     ]
    },
    {
     "data": {
      "image/png": "[encoded data removed]",
      "text/plain": [
       "<Figure size 2000x1500 with 6 Axes>"
      ]
     },
     "metadata": {},
     "output_type": "display_data"
    }
   ],
   "source": [
    "fake_vs_real([gen_SB],[x_train],1,[\"\"])"
   ]
  },
  {
   "cell_type": "code",
   "execution_count": null,
   "id": "9d45f17e",
   "metadata": {},
   "outputs": [],
   "source": []
  }
 ],
 "metadata": {
  "kernelspec": {
   "display_name": "GAN_ML",
   "language": "python",
   "name": "ml"
  },
  "language_info": {
   "codemirror_mode": {
    "name": "ipython",
    "version": 3
   },
   "file_extension": ".py",
   "mimetype": "text/x-python",
   "name": "python",
   "nbconvert_exporter": "python",
   "pygments_lexer": "ipython3",
   "version": "3.7.11"
  }
 },
 "nbformat": 4,
 "nbformat_minor": 5
}
